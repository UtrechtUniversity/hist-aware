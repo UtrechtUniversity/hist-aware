{
 "cells": [
  {
   "cell_type": "code",
   "execution_count": 30,
   "metadata": {},
   "outputs": [],
   "source": [
    "import kb\n",
    "from kb.nl.api import oai\n",
    "from kb.nl.helpers import alto_to_text\n",
    "from IPython.display import Image"
   ]
  },
  {
   "cell_type": "code",
   "execution_count": 3,
   "metadata": {},
   "outputs": [
    {
     "data": {
      "text/plain": [
       "['ANP', 'BYVANCK', 'DPO', 'GGC', 'SGD']"
      ]
     },
     "execution_count": 3,
     "metadata": {},
     "output_type": "execute_result"
    }
   ],
   "source": [
    "oai.list_sets()"
   ]
  },
  {
   "cell_type": "code",
   "execution_count": 6,
   "metadata": {},
   "outputs": [],
   "source": [
    "records = oai.list_records(\"ANP\")"
   ]
  },
  {
   "cell_type": "code",
   "execution_count": 20,
   "metadata": {},
   "outputs": [
    {
     "data": {
      "text/plain": [
       "['anp:1937:10:10:20', 'anp:1937:10:10:22', 'anp:1937:10:10:21']"
      ]
     },
     "execution_count": 20,
     "metadata": {},
     "output_type": "execute_result"
    }
   ],
   "source": [
    "records.identifiers[47:50]"
   ]
  },
  {
   "cell_type": "code",
   "execution_count": 44,
   "metadata": {},
   "outputs": [],
   "source": [
    "record = oai.get(records.identifiers[20])"
   ]
  },
  {
   "cell_type": "code",
   "execution_count": 45,
   "metadata": {},
   "outputs": [],
   "source": [
    "alto_records = record.alto"
   ]
  },
  {
   "cell_type": "code",
   "execution_count": 46,
   "metadata": {},
   "outputs": [
    {
     "name": "stdout",
     "output_type": "stream",
     "text": [
      " 8 C . -tober 19?7 Overzicht N ew-Yorksche Beurs . 0- de New-Yorksche Beurs was de standing heden bij opening gedrukt . De noteeringen liepen onder invl & ad van v . instnemingen vrij scherp terug , doch de ^^ handel Y-as kalm . Bij slot lagen vals noteeringen twee punten beneden ds laatste notaaringan van den /origan dag . In enkele gevallen badroeg ha : koersverlies zelfs drie of maar punten . Jtaalwaarden liepen na aanvankelijk te zijn apgestegen , tengevolge van aanbod sterk terug . United ^tatas Steel , die een oogenblik zelfs 69 1/2 notaarde , sloot op 70 . Bethlehem Steel verloren een half punt an noteerden eind beurs 60 1/4 . Ook Spoorwegfondsen waren gedrukt . Atchison Topaka zakte in tot , 50 , Baltimore ^o ' * \" *! ' ^^9 , te wijl de slotkoars van Union Pacific 93 was . Vr T- ' p^r^en , dio eveneens afbrokkelden , kwam Chrysler tenslotte or ^ ' ' ^^^^^^^ Anaconda Copper en Kannecott Copper sloten respectievelijk op 34 1/2 0 ) en 4O 3A\n"
     ]
    }
   ],
   "source": [
    "for alto_record in alto_records:\n",
    "    print(alto_to_text(alto_record))"
   ]
  },
  {
   "cell_type": "code",
   "execution_count": 26,
   "metadata": {},
   "outputs": [],
   "source": [
    "image_record = record.image"
   ]
  },
  {
   "cell_type": "code",
   "execution_count": null,
   "metadata": {},
   "outputs": [],
   "source": []
  }
 ],
 "metadata": {
  "kernelspec": {
   "display_name": "HistAware",
   "language": "python",
   "name": "histaware"
  },
  "language_info": {
   "codemirror_mode": {
    "name": "ipython",
    "version": 3
   },
   "file_extension": ".py",
   "mimetype": "text/x-python",
   "name": "python",
   "nbconvert_exporter": "python",
   "pygments_lexer": "ipython3",
   "version": "3.7.7"
  }
 },
 "nbformat": 4,
 "nbformat_minor": 4
}
