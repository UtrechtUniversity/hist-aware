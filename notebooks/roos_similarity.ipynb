{
 "cells": [
  {
   "cell_type": "code",
   "execution_count": 1,
   "metadata": {},
   "outputs": [],
   "source": [
    "# Importing the libraries needed\n",
    "import os\n",
    "import re\n",
    "import sys\n",
    "from string import punctuation\n",
    "sys.path.insert(0, \"..\")\n",
    "\n",
    "import pandas as pd\n",
    "import numpy as np\n",
    "\n",
    "import nltk\n",
    "import nltk.data\n",
    "from nltk.sentiment import vader\n",
    "from nltk.corpus import stopwords\n",
    "\n",
    "from gensim import corpora\n",
    "from gensim import models\n",
    "import enchant\n",
    "from enchant.checker import SpellChecker\n",
    "from tqdm import tqdm_notebook as tqdm"
   ]
  },
  {
   "cell_type": "code",
   "execution_count": 2,
   "metadata": {},
   "outputs": [],
   "source": [
    "# Setting up the device for GPU usage\n",
    "from torch import cuda\n",
    "device = 'cuda' if cuda.is_available() else 'cpu'"
   ]
  },
  {
   "cell_type": "code",
   "execution_count": 4,
   "metadata": {},
   "outputs": [],
   "source": [
    "# Retrieved saved files\n",
    "df = pd.read_csv(\"cleaned_df.csv\")"
   ]
  },
  {
   "cell_type": "code",
   "execution_count": 5,
   "metadata": {},
   "outputs": [],
   "source": [
    "true = df[:500].copy()\n",
    "false =  df[501:1000].copy()\n",
    "# Use test for testing\n",
    "test =  df[1001:].copy()\n",
    "true[\"label\"] = 'true'\n",
    "false[\"label\"] = 'false'\n",
    "# Use test for testing\n",
    "test[\"label\"] = ''"
   ]
  },
  {
   "cell_type": "code",
   "execution_count": 6,
   "metadata": {},
   "outputs": [],
   "source": [
    "train = pd.concat([true, false])"
   ]
  },
  {
   "cell_type": "code",
   "execution_count": 7,
   "metadata": {},
   "outputs": [
    {
     "data": {
      "text/html": [
       "<div>\n",
       "<style scoped>\n",
       "    .dataframe tbody tr th:only-of-type {\n",
       "        vertical-align: middle;\n",
       "    }\n",
       "\n",
       "    .dataframe tbody tr th {\n",
       "        vertical-align: top;\n",
       "    }\n",
       "\n",
       "    .dataframe thead th {\n",
       "        text-align: right;\n",
       "    }\n",
       "</style>\n",
       "<table border=\"1\" class=\"dataframe\">\n",
       "  <thead>\n",
       "    <tr style=\"text-align: right;\">\n",
       "      <th></th>\n",
       "      <th>Unnamed: 0</th>\n",
       "      <th>Unnamed: 0_x</th>\n",
       "      <th>type</th>\n",
       "      <th>text</th>\n",
       "      <th>article_name</th>\n",
       "      <th>date</th>\n",
       "      <th>index_article</th>\n",
       "      <th>article_filepath</th>\n",
       "      <th>dir</th>\n",
       "      <th>Unnamed: 0_y</th>\n",
       "      <th>...</th>\n",
       "      <th>newspaper_volume</th>\n",
       "      <th>newspaper_issuenumber</th>\n",
       "      <th>newspaper_language</th>\n",
       "      <th>count</th>\n",
       "      <th>non_jkc</th>\n",
       "      <th>text_clean</th>\n",
       "      <th>text_no_point</th>\n",
       "      <th>text_clean_split</th>\n",
       "      <th>text_clean_split_no_point</th>\n",
       "      <th>label</th>\n",
       "    </tr>\n",
       "  </thead>\n",
       "  <tbody>\n",
       "    <tr>\n",
       "      <th>0</th>\n",
       "      <td>0</td>\n",
       "      <td>36288</td>\n",
       "      <td>p</td>\n",
       "      <td>Aoiang er mijnen bestaan is het mijngas de gro...</td>\n",
       "      <td>DDD_010417712_0100_articletext.xml</td>\n",
       "      <td>1950-11-16</td>\n",
       "      <td>113601</td>\n",
       "      <td>../data/1950/11-16/DDD_010417712/DDD_010417712...</td>\n",
       "      <td>../data/1950/11-16/DDD_010417712</td>\n",
       "      <td>882.0</td>\n",
       "      <td>...</td>\n",
       "      <td>33.0</td>\n",
       "      <td>269.0</td>\n",
       "      <td>nl</td>\n",
       "      <td>28</td>\n",
       "      <td>True</td>\n",
       "      <td>Aoiang er mijnen bestaan is het mijngas de gro...</td>\n",
       "      <td>Aoiang er mijnen bestaan is het mijngas de gro...</td>\n",
       "      <td>['Aoiang er mijnen bestaan is het mijngas de g...</td>\n",
       "      <td>['Aoiang er mijnen bestaan is het mijngas de g...</td>\n",
       "      <td>true</td>\n",
       "    </tr>\n",
       "    <tr>\n",
       "      <th>1</th>\n",
       "      <td>1</td>\n",
       "      <td>36381</td>\n",
       "      <td>p</td>\n",
       "      <td>ning tijdens de ontgassing normaal kan doorgaa...</td>\n",
       "      <td>DDD_010417712_0102_articletext.xml</td>\n",
       "      <td>1950-11-16</td>\n",
       "      <td>113628</td>\n",
       "      <td>../data/1950/11-16/DDD_010417712/DDD_010417712...</td>\n",
       "      <td>../data/1950/11-16/DDD_010417712</td>\n",
       "      <td>882.0</td>\n",
       "      <td>...</td>\n",
       "      <td>33.0</td>\n",
       "      <td>269.0</td>\n",
       "      <td>nl</td>\n",
       "      <td>20</td>\n",
       "      <td>True</td>\n",
       "      <td>ning tijdens de ontgassing normaal kan doorgaa...</td>\n",
       "      <td>ning tijdens de ontgassing normaal kan doorgaa...</td>\n",
       "      <td>['ning tijdens de ontgassing normaal kan doorg...</td>\n",
       "      <td>['ning tijdens de ontgassing normaal kan doorg...</td>\n",
       "      <td>true</td>\n",
       "    </tr>\n",
       "  </tbody>\n",
       "</table>\n",
       "<p>2 rows × 28 columns</p>\n",
       "</div>"
      ],
      "text/plain": [
       "   Unnamed: 0  Unnamed: 0_x type  \\\n",
       "0           0         36288    p   \n",
       "1           1         36381    p   \n",
       "\n",
       "                                                text  \\\n",
       "0  Aoiang er mijnen bestaan is het mijngas de gro...   \n",
       "1  ning tijdens de ontgassing normaal kan doorgaa...   \n",
       "\n",
       "                         article_name        date  index_article  \\\n",
       "0  DDD_010417712_0100_articletext.xml  1950-11-16         113601   \n",
       "1  DDD_010417712_0102_articletext.xml  1950-11-16         113628   \n",
       "\n",
       "                                    article_filepath  \\\n",
       "0  ../data/1950/11-16/DDD_010417712/DDD_010417712...   \n",
       "1  ../data/1950/11-16/DDD_010417712/DDD_010417712...   \n",
       "\n",
       "                                dir  Unnamed: 0_y  ... newspaper_volume  \\\n",
       "0  ../data/1950/11-16/DDD_010417712         882.0  ...             33.0   \n",
       "1  ../data/1950/11-16/DDD_010417712         882.0  ...             33.0   \n",
       "\n",
       "   newspaper_issuenumber newspaper_language count non_jkc  \\\n",
       "0                  269.0                 nl    28    True   \n",
       "1                  269.0                 nl    20    True   \n",
       "\n",
       "                                          text_clean  \\\n",
       "0  Aoiang er mijnen bestaan is het mijngas de gro...   \n",
       "1  ning tijdens de ontgassing normaal kan doorgaa...   \n",
       "\n",
       "                                       text_no_point  \\\n",
       "0  Aoiang er mijnen bestaan is het mijngas de gro...   \n",
       "1  ning tijdens de ontgassing normaal kan doorgaa...   \n",
       "\n",
       "                                    text_clean_split  \\\n",
       "0  ['Aoiang er mijnen bestaan is het mijngas de g...   \n",
       "1  ['ning tijdens de ontgassing normaal kan doorg...   \n",
       "\n",
       "                           text_clean_split_no_point  label  \n",
       "0  ['Aoiang er mijnen bestaan is het mijngas de g...   true  \n",
       "1  ['ning tijdens de ontgassing normaal kan doorg...   true  \n",
       "\n",
       "[2 rows x 28 columns]"
      ]
     },
     "execution_count": 7,
     "metadata": {},
     "output_type": "execute_result"
    }
   ],
   "source": [
    "train.head(2)"
   ]
  },
  {
   "cell_type": "markdown",
   "metadata": {},
   "source": [
    "You are interested in `train[\"text_no_point\"]` and `train[\"text_clean\"]` (or train.text_no_point). Which is the column that contains all the selected cleaned texts.\n",
    "\n",
    "What we would like to do is to select similar texts based on a golden sample of texts. \n",
    "- Which means that we will go through all our dataset and select based on the frequency of the appearance of certain words (oil, gas and coal)\n",
    "- After that the results are ranked based on the number of matches of these words and these synonyms.\n",
    "- Once that is done, you have the `df` at hand in this notebook.\n",
    "\n",
    "We assume that the first 500 rows of this dataframe are the \"true\" labelled text representing texts we want to find similar texts to. And the next 500 are the false ones."
   ]
  },
  {
   "cell_type": "markdown",
   "metadata": {},
   "source": [
    "### A small start"
   ]
  },
  {
   "cell_type": "markdown",
   "metadata": {},
   "source": [
    "I deleted the small start as I gave you a dataset in which most of the texts are already \"cleaned\". the `text_no_point` contains the text without any punctuation. The `text_clean` contain text with punctuation. I suggest you to start from `text_no_point`"
   ]
  },
  {
   "cell_type": "markdown",
   "metadata": {},
   "source": [
    "\n",
    "From here apply the tf-idf/BM 25 or other similarity algorithms!\n",
    "- Use the documentation (and internent examples) from the following libraries:\n",
    "    - nltk --> for the already-written-out main algorithms. This will be your main library with:\n",
    "    - gensim\n",
    "    - Enchant (might be useful)"
   ]
  },
  {
   "cell_type": "code",
   "execution_count": null,
   "metadata": {},
   "outputs": [],
   "source": []
  }
 ],
 "metadata": {
  "kernelspec": {
   "display_name": "histaware-RplM6c3o-py3.8",
   "language": "python",
   "name": "histaware-rplm6c3o-py3.8"
  },
  "language_info": {
   "codemirror_mode": {
    "name": "ipython",
    "version": 3
   },
   "file_extension": ".py",
   "mimetype": "text/x-python",
   "name": "python",
   "nbconvert_exporter": "python",
   "pygments_lexer": "ipython3",
   "version": "3.8.5"
  }
 },
 "nbformat": 4,
 "nbformat_minor": 4
}
