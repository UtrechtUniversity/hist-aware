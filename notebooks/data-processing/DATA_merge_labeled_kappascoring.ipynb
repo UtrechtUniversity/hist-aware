{
 "cells": [
  {
   "cell_type": "markdown",
   "id": "4158286f",
   "metadata": {},
   "source": [
    "# Merge labeled data for kappa scoring"
   ]
  },
  {
   "cell_type": "code",
   "execution_count": 9,
   "id": "9465198c",
   "metadata": {},
   "outputs": [],
   "source": [
    "import os\n",
    "\n",
    "import pandas as pd\n",
    "\n",
    "import sklearn\n",
    "import sklearn.metrics"
   ]
  },
  {
   "cell_type": "code",
   "execution_count": 10,
   "id": "14eb2900",
   "metadata": {},
   "outputs": [],
   "source": [
    "DATA_DIR =        \"~/data/volume_1/delphbert-results/7-labeled-data/labeled-full/split_labeled/cleaned\"\n",
    "DATA_DIR_MERGED = \"~/data/volume_1/delphbert-results/7-labeled-data/labeled-full/split_labeled/merged/new\"\n",
    "\n",
    "LABELER_1 = \"marin\"\n",
    "LABELER_2 = \"edo\""
   ]
  },
  {
   "cell_type": "code",
   "execution_count": 11,
   "id": "40e4aaa8",
   "metadata": {},
   "outputs": [],
   "source": [
    "# if 0 and 1 -> 0 if 1 and 2 ->\n",
    "# Prefer extremes than averages\n",
    "def merge_and_choose_labels(df):\n",
    "    labels = []\n",
    "    for i, r in df.iterrows():        \n",
    "        if pd.isna(r[\"labels_x\"]) == False and pd.isna(r[\"labels_y\"]) == False:\n",
    "            if r[\"labels_x\"] == 0 and r[\"labels_y\"] == 1:\n",
    "                labels.append(0)\n",
    "            elif r[\"labels_x\"] == 1 and r[\"labels_y\"] == 0:\n",
    "                labels.append(0)\n",
    "            elif r[\"labels_x\"] == 1 and r[\"labels_y\"] == 2:\n",
    "                labels.append(2)\n",
    "            elif r[\"labels_x\"] == 2 and r[\"labels_y\"] == 1:\n",
    "                labels.append(2)\n",
    "            elif r[\"labels_x\"] == 2 and r[\"labels_y\"] == 2:\n",
    "                labels.append(2)\n",
    "            elif r[\"labels_x\"] == 1 and r[\"labels_y\"] == 1:\n",
    "                labels.append(1)\n",
    "            elif r[\"labels_x\"] == 0 and r[\"labels_y\"] == 0:\n",
    "                labels.append(0)\n",
    "            elif r[\"labels_x\"] == 0 and r[\"labels_y\"] == 2:\n",
    "                labels.append(\"null\")\n",
    "            elif r[\"labels_x\"] == 2 and r[\"labels_y\"] == 0:\n",
    "                labels.append(\"null\")\n",
    "            else:\n",
    "                print(\"error\")\n",
    "        else:\n",
    "            if pd.isna(r[\"labels_x\"]) == True:\n",
    "                labels.append(int(r[\"labels_y\"]))\n",
    "            if pd.isna(r[\"labels_y\"]) == True:\n",
    "                labels.append(int(r[\"labels_x\"]))\n",
    "    return(labels)\n",
    "\n",
    "def select_text(df):\n",
    "    text = []\n",
    "    for i, r in df.iterrows():\n",
    "        if pd.isnull(r[\"text_x\"]) == True and pd.isnull(r[\"text_y\"]) == False:\n",
    "            text.append(r[\"text_y\"])\n",
    "        elif pd.isnull(r[\"text_y\"]) == True and pd.isnull(r[\"text_x\"]) == False:\n",
    "            text.append(r[\"text_x\"])\n",
    "        elif pd.isnull(r[\"text_y\"]) == False and pd.isnull(r[\"text_x\"]) == False:\n",
    "            text.append(r[\"text_x\"])\n",
    "        else:\n",
    "            continue\n",
    "    return text"
   ]
  },
  {
   "cell_type": "markdown",
   "id": "e5e1479b",
   "metadata": {},
   "source": [
    "## 1960"
   ]
  },
  {
   "cell_type": "code",
   "execution_count": 5,
   "id": "87ff0c69",
   "metadata": {},
   "outputs": [],
   "source": [
    "DECADE = \"1960s\""
   ]
  },
  {
   "cell_type": "markdown",
   "id": "b27e0a4c",
   "metadata": {},
   "source": [
    "#### Oil"
   ]
  },
  {
   "cell_type": "code",
   "execution_count": 6,
   "id": "54655fbc",
   "metadata": {},
   "outputs": [
    {
     "ename": "FileNotFoundError",
     "evalue": "[Errno 2] No such file or directory: '/home/leonardovida/data/volume_1/delphbert-results/7-labeled-data/labeled-full/split_labeled/cleaned/edo_1960s_oil_cleaned.csv'",
     "output_type": "error",
     "traceback": [
      "\u001b[0;31m---------------------------------------------------------------------------\u001b[0m",
      "\u001b[0;31mFileNotFoundError\u001b[0m                         Traceback (most recent call last)",
      "\u001b[0;32m<ipython-input-6-970dc47adb98>\u001b[0m in \u001b[0;36m<module>\u001b[0;34m\u001b[0m\n\u001b[1;32m      3\u001b[0m \u001b[0mDATA_NAME_2\u001b[0m \u001b[0;34m=\u001b[0m \u001b[0;34mf\"{LABELER_2}_{DECADE}_{TYPE}_cleaned.csv\"\u001b[0m\u001b[0;34m\u001b[0m\u001b[0;34m\u001b[0m\u001b[0m\n\u001b[1;32m      4\u001b[0m \u001b[0mDATA_1\u001b[0m \u001b[0;34m=\u001b[0m \u001b[0mpd\u001b[0m\u001b[0;34m.\u001b[0m\u001b[0mread_csv\u001b[0m\u001b[0;34m(\u001b[0m\u001b[0mos\u001b[0m\u001b[0;34m.\u001b[0m\u001b[0mpath\u001b[0m\u001b[0;34m.\u001b[0m\u001b[0mjoin\u001b[0m\u001b[0;34m(\u001b[0m\u001b[0mDATA_DIR\u001b[0m\u001b[0;34m,\u001b[0m \u001b[0mDATA_NAME_1\u001b[0m\u001b[0;34m)\u001b[0m\u001b[0;34m)\u001b[0m\u001b[0;34m\u001b[0m\u001b[0;34m\u001b[0m\u001b[0m\n\u001b[0;32m----> 5\u001b[0;31m \u001b[0mDATA_2\u001b[0m \u001b[0;34m=\u001b[0m \u001b[0mpd\u001b[0m\u001b[0;34m.\u001b[0m\u001b[0mread_csv\u001b[0m\u001b[0;34m(\u001b[0m\u001b[0mos\u001b[0m\u001b[0;34m.\u001b[0m\u001b[0mpath\u001b[0m\u001b[0;34m.\u001b[0m\u001b[0mjoin\u001b[0m\u001b[0;34m(\u001b[0m\u001b[0mDATA_DIR\u001b[0m\u001b[0;34m,\u001b[0m \u001b[0mDATA_NAME_2\u001b[0m\u001b[0;34m)\u001b[0m\u001b[0;34m)\u001b[0m\u001b[0;34m\u001b[0m\u001b[0;34m\u001b[0m\u001b[0m\n\u001b[0m\u001b[1;32m      6\u001b[0m \u001b[0mmerged\u001b[0m \u001b[0;34m=\u001b[0m \u001b[0mDATA_1\u001b[0m\u001b[0;34m.\u001b[0m\u001b[0mmerge\u001b[0m\u001b[0;34m(\u001b[0m\u001b[0mDATA_2\u001b[0m\u001b[0;34m,\u001b[0m \u001b[0mhow\u001b[0m\u001b[0;34m=\u001b[0m\u001b[0;34m'inner'\u001b[0m\u001b[0;34m,\u001b[0m \u001b[0mon\u001b[0m\u001b[0;34m=\u001b[0m\u001b[0;34m\"article_name\"\u001b[0m\u001b[0;34m)\u001b[0m\u001b[0;34m\u001b[0m\u001b[0;34m\u001b[0m\u001b[0m\n\u001b[1;32m      7\u001b[0m \u001b[0mres\u001b[0m \u001b[0;34m=\u001b[0m \u001b[0mmerge_and_choose_labels\u001b[0m\u001b[0;34m(\u001b[0m\u001b[0mmerged\u001b[0m\u001b[0;34m)\u001b[0m\u001b[0;34m\u001b[0m\u001b[0;34m\u001b[0m\u001b[0m\n",
      "\u001b[0;32m~/.cache/pypoetry/virtualenvs/histaware-NidRwJ64-py3.8/lib/python3.8/site-packages/pandas/io/parsers.py\u001b[0m in \u001b[0;36mread_csv\u001b[0;34m(filepath_or_buffer, sep, delimiter, header, names, index_col, usecols, squeeze, prefix, mangle_dupe_cols, dtype, engine, converters, true_values, false_values, skipinitialspace, skiprows, skipfooter, nrows, na_values, keep_default_na, na_filter, verbose, skip_blank_lines, parse_dates, infer_datetime_format, keep_date_col, date_parser, dayfirst, cache_dates, iterator, chunksize, compression, thousands, decimal, lineterminator, quotechar, quoting, doublequote, escapechar, comment, encoding, dialect, error_bad_lines, warn_bad_lines, delim_whitespace, low_memory, memory_map, float_precision, storage_options)\u001b[0m\n\u001b[1;32m    608\u001b[0m     \u001b[0mkwds\u001b[0m\u001b[0;34m.\u001b[0m\u001b[0mupdate\u001b[0m\u001b[0;34m(\u001b[0m\u001b[0mkwds_defaults\u001b[0m\u001b[0;34m)\u001b[0m\u001b[0;34m\u001b[0m\u001b[0;34m\u001b[0m\u001b[0m\n\u001b[1;32m    609\u001b[0m \u001b[0;34m\u001b[0m\u001b[0m\n\u001b[0;32m--> 610\u001b[0;31m     \u001b[0;32mreturn\u001b[0m \u001b[0m_read\u001b[0m\u001b[0;34m(\u001b[0m\u001b[0mfilepath_or_buffer\u001b[0m\u001b[0;34m,\u001b[0m \u001b[0mkwds\u001b[0m\u001b[0;34m)\u001b[0m\u001b[0;34m\u001b[0m\u001b[0;34m\u001b[0m\u001b[0m\n\u001b[0m\u001b[1;32m    611\u001b[0m \u001b[0;34m\u001b[0m\u001b[0m\n\u001b[1;32m    612\u001b[0m \u001b[0;34m\u001b[0m\u001b[0m\n",
      "\u001b[0;32m~/.cache/pypoetry/virtualenvs/histaware-NidRwJ64-py3.8/lib/python3.8/site-packages/pandas/io/parsers.py\u001b[0m in \u001b[0;36m_read\u001b[0;34m(filepath_or_buffer, kwds)\u001b[0m\n\u001b[1;32m    460\u001b[0m \u001b[0;34m\u001b[0m\u001b[0m\n\u001b[1;32m    461\u001b[0m     \u001b[0;31m# Create the parser.\u001b[0m\u001b[0;34m\u001b[0m\u001b[0;34m\u001b[0m\u001b[0;34m\u001b[0m\u001b[0m\n\u001b[0;32m--> 462\u001b[0;31m     \u001b[0mparser\u001b[0m \u001b[0;34m=\u001b[0m \u001b[0mTextFileReader\u001b[0m\u001b[0;34m(\u001b[0m\u001b[0mfilepath_or_buffer\u001b[0m\u001b[0;34m,\u001b[0m \u001b[0;34m**\u001b[0m\u001b[0mkwds\u001b[0m\u001b[0;34m)\u001b[0m\u001b[0;34m\u001b[0m\u001b[0;34m\u001b[0m\u001b[0m\n\u001b[0m\u001b[1;32m    463\u001b[0m \u001b[0;34m\u001b[0m\u001b[0m\n\u001b[1;32m    464\u001b[0m     \u001b[0;32mif\u001b[0m \u001b[0mchunksize\u001b[0m \u001b[0;32mor\u001b[0m \u001b[0miterator\u001b[0m\u001b[0;34m:\u001b[0m\u001b[0;34m\u001b[0m\u001b[0;34m\u001b[0m\u001b[0m\n",
      "\u001b[0;32m~/.cache/pypoetry/virtualenvs/histaware-NidRwJ64-py3.8/lib/python3.8/site-packages/pandas/io/parsers.py\u001b[0m in \u001b[0;36m__init__\u001b[0;34m(self, f, engine, **kwds)\u001b[0m\n\u001b[1;32m    817\u001b[0m             \u001b[0mself\u001b[0m\u001b[0;34m.\u001b[0m\u001b[0moptions\u001b[0m\u001b[0;34m[\u001b[0m\u001b[0;34m\"has_index_names\"\u001b[0m\u001b[0;34m]\u001b[0m \u001b[0;34m=\u001b[0m \u001b[0mkwds\u001b[0m\u001b[0;34m[\u001b[0m\u001b[0;34m\"has_index_names\"\u001b[0m\u001b[0;34m]\u001b[0m\u001b[0;34m\u001b[0m\u001b[0;34m\u001b[0m\u001b[0m\n\u001b[1;32m    818\u001b[0m \u001b[0;34m\u001b[0m\u001b[0m\n\u001b[0;32m--> 819\u001b[0;31m         \u001b[0mself\u001b[0m\u001b[0;34m.\u001b[0m\u001b[0m_engine\u001b[0m \u001b[0;34m=\u001b[0m \u001b[0mself\u001b[0m\u001b[0;34m.\u001b[0m\u001b[0m_make_engine\u001b[0m\u001b[0;34m(\u001b[0m\u001b[0mself\u001b[0m\u001b[0;34m.\u001b[0m\u001b[0mengine\u001b[0m\u001b[0;34m)\u001b[0m\u001b[0;34m\u001b[0m\u001b[0;34m\u001b[0m\u001b[0m\n\u001b[0m\u001b[1;32m    820\u001b[0m \u001b[0;34m\u001b[0m\u001b[0m\n\u001b[1;32m    821\u001b[0m     \u001b[0;32mdef\u001b[0m \u001b[0mclose\u001b[0m\u001b[0;34m(\u001b[0m\u001b[0mself\u001b[0m\u001b[0;34m)\u001b[0m\u001b[0;34m:\u001b[0m\u001b[0;34m\u001b[0m\u001b[0;34m\u001b[0m\u001b[0m\n",
      "\u001b[0;32m~/.cache/pypoetry/virtualenvs/histaware-NidRwJ64-py3.8/lib/python3.8/site-packages/pandas/io/parsers.py\u001b[0m in \u001b[0;36m_make_engine\u001b[0;34m(self, engine)\u001b[0m\n\u001b[1;32m   1048\u001b[0m             )\n\u001b[1;32m   1049\u001b[0m         \u001b[0;31m# error: Too many arguments for \"ParserBase\"\u001b[0m\u001b[0;34m\u001b[0m\u001b[0;34m\u001b[0m\u001b[0;34m\u001b[0m\u001b[0m\n\u001b[0;32m-> 1050\u001b[0;31m         \u001b[0;32mreturn\u001b[0m \u001b[0mmapping\u001b[0m\u001b[0;34m[\u001b[0m\u001b[0mengine\u001b[0m\u001b[0;34m]\u001b[0m\u001b[0;34m(\u001b[0m\u001b[0mself\u001b[0m\u001b[0;34m.\u001b[0m\u001b[0mf\u001b[0m\u001b[0;34m,\u001b[0m \u001b[0;34m**\u001b[0m\u001b[0mself\u001b[0m\u001b[0;34m.\u001b[0m\u001b[0moptions\u001b[0m\u001b[0;34m)\u001b[0m  \u001b[0;31m# type: ignore[call-arg]\u001b[0m\u001b[0;34m\u001b[0m\u001b[0;34m\u001b[0m\u001b[0m\n\u001b[0m\u001b[1;32m   1051\u001b[0m \u001b[0;34m\u001b[0m\u001b[0m\n\u001b[1;32m   1052\u001b[0m     \u001b[0;32mdef\u001b[0m \u001b[0m_failover_to_python\u001b[0m\u001b[0;34m(\u001b[0m\u001b[0mself\u001b[0m\u001b[0;34m)\u001b[0m\u001b[0;34m:\u001b[0m\u001b[0;34m\u001b[0m\u001b[0;34m\u001b[0m\u001b[0m\n",
      "\u001b[0;32m~/.cache/pypoetry/virtualenvs/histaware-NidRwJ64-py3.8/lib/python3.8/site-packages/pandas/io/parsers.py\u001b[0m in \u001b[0;36m__init__\u001b[0;34m(self, src, **kwds)\u001b[0m\n\u001b[1;32m   1865\u001b[0m \u001b[0;34m\u001b[0m\u001b[0m\n\u001b[1;32m   1866\u001b[0m         \u001b[0;31m# open handles\u001b[0m\u001b[0;34m\u001b[0m\u001b[0;34m\u001b[0m\u001b[0;34m\u001b[0m\u001b[0m\n\u001b[0;32m-> 1867\u001b[0;31m         \u001b[0mself\u001b[0m\u001b[0;34m.\u001b[0m\u001b[0m_open_handles\u001b[0m\u001b[0;34m(\u001b[0m\u001b[0msrc\u001b[0m\u001b[0;34m,\u001b[0m \u001b[0mkwds\u001b[0m\u001b[0;34m)\u001b[0m\u001b[0;34m\u001b[0m\u001b[0;34m\u001b[0m\u001b[0m\n\u001b[0m\u001b[1;32m   1868\u001b[0m         \u001b[0;32massert\u001b[0m \u001b[0mself\u001b[0m\u001b[0;34m.\u001b[0m\u001b[0mhandles\u001b[0m \u001b[0;32mis\u001b[0m \u001b[0;32mnot\u001b[0m \u001b[0;32mNone\u001b[0m\u001b[0;34m\u001b[0m\u001b[0;34m\u001b[0m\u001b[0m\n\u001b[1;32m   1869\u001b[0m         \u001b[0;32mfor\u001b[0m \u001b[0mkey\u001b[0m \u001b[0;32min\u001b[0m \u001b[0;34m(\u001b[0m\u001b[0;34m\"storage_options\"\u001b[0m\u001b[0;34m,\u001b[0m \u001b[0;34m\"encoding\"\u001b[0m\u001b[0;34m,\u001b[0m \u001b[0;34m\"memory_map\"\u001b[0m\u001b[0;34m,\u001b[0m \u001b[0;34m\"compression\"\u001b[0m\u001b[0;34m)\u001b[0m\u001b[0;34m:\u001b[0m\u001b[0;34m\u001b[0m\u001b[0;34m\u001b[0m\u001b[0m\n",
      "\u001b[0;32m~/.cache/pypoetry/virtualenvs/histaware-NidRwJ64-py3.8/lib/python3.8/site-packages/pandas/io/parsers.py\u001b[0m in \u001b[0;36m_open_handles\u001b[0;34m(self, src, kwds)\u001b[0m\n\u001b[1;32m   1360\u001b[0m         \u001b[0mLet\u001b[0m \u001b[0mthe\u001b[0m \u001b[0mreaders\u001b[0m \u001b[0mopen\u001b[0m \u001b[0mIOHanldes\u001b[0m \u001b[0mafter\u001b[0m \u001b[0mthey\u001b[0m \u001b[0mare\u001b[0m \u001b[0mdone\u001b[0m \u001b[0;32mwith\u001b[0m \u001b[0mtheir\u001b[0m \u001b[0mpotential\u001b[0m \u001b[0mraises\u001b[0m\u001b[0;34m.\u001b[0m\u001b[0;34m\u001b[0m\u001b[0;34m\u001b[0m\u001b[0m\n\u001b[1;32m   1361\u001b[0m         \"\"\"\n\u001b[0;32m-> 1362\u001b[0;31m         self.handles = get_handle(\n\u001b[0m\u001b[1;32m   1363\u001b[0m             \u001b[0msrc\u001b[0m\u001b[0;34m,\u001b[0m\u001b[0;34m\u001b[0m\u001b[0;34m\u001b[0m\u001b[0m\n\u001b[1;32m   1364\u001b[0m             \u001b[0;34m\"r\"\u001b[0m\u001b[0;34m,\u001b[0m\u001b[0;34m\u001b[0m\u001b[0;34m\u001b[0m\u001b[0m\n",
      "\u001b[0;32m~/.cache/pypoetry/virtualenvs/histaware-NidRwJ64-py3.8/lib/python3.8/site-packages/pandas/io/common.py\u001b[0m in \u001b[0;36mget_handle\u001b[0;34m(path_or_buf, mode, encoding, compression, memory_map, is_text, errors, storage_options)\u001b[0m\n\u001b[1;32m    640\u001b[0m                 \u001b[0merrors\u001b[0m \u001b[0;34m=\u001b[0m \u001b[0;34m\"replace\"\u001b[0m\u001b[0;34m\u001b[0m\u001b[0;34m\u001b[0m\u001b[0m\n\u001b[1;32m    641\u001b[0m             \u001b[0;31m# Encoding\u001b[0m\u001b[0;34m\u001b[0m\u001b[0;34m\u001b[0m\u001b[0;34m\u001b[0m\u001b[0m\n\u001b[0;32m--> 642\u001b[0;31m             handle = open(\n\u001b[0m\u001b[1;32m    643\u001b[0m                 \u001b[0mhandle\u001b[0m\u001b[0;34m,\u001b[0m\u001b[0;34m\u001b[0m\u001b[0;34m\u001b[0m\u001b[0m\n\u001b[1;32m    644\u001b[0m                 \u001b[0mioargs\u001b[0m\u001b[0;34m.\u001b[0m\u001b[0mmode\u001b[0m\u001b[0;34m,\u001b[0m\u001b[0;34m\u001b[0m\u001b[0;34m\u001b[0m\u001b[0m\n",
      "\u001b[0;31mFileNotFoundError\u001b[0m: [Errno 2] No such file or directory: '/home/leonardovida/data/volume_1/delphbert-results/7-labeled-data/labeled-full/split_labeled/cleaned/edo_1960s_oil_cleaned.csv'"
     ]
    }
   ],
   "source": [
    "TYPE = \"oil\"\n",
    "DATA_NAME_1 = f\"{LABELER_1}_{DECADE}_{TYPE}_cleaned.csv\"\n",
    "DATA_NAME_2 = f\"{LABELER_2}_{DECADE}_{TYPE}_cleaned.csv\"\n",
    "DATA_1 = pd.read_csv(os.path.join(DATA_DIR, DATA_NAME_1))\n",
    "DATA_2 = pd.read_csv(os.path.join(DATA_DIR, DATA_NAME_2))\n",
    "merged = DATA_1.merge(DATA_2, how='inner', on=\"article_name\")\n",
    "res = merge_and_choose_labels(merged)\n",
    "merged[\"labels\"] = res\n",
    "merged = merged[merged[\"labels\"] != \"null\"]\n",
    "merged = merged[[\"text_x\", \"text_y\", \"labels_y\", \"labels_x\", \"labels\", \"date_x\", \"article_name\"]].reset_index()\n",
    "kappa = sklearn.metrics.cohen_kappa_score(merged.labels_x, merged.labels_y)\n",
    "print(kappa)\n",
    "res = select_text(merged)\n",
    "merged[\"text\"] = res\n",
    "merged = merged[[\"text\", \"labels\", \"article_name\"]]\n",
    "#merged.to_csv(os.path.join(DATA_DIR_MERGED, f\"{DECADE}_{TYPE}_merged.csv\"))"
   ]
  },
  {
   "cell_type": "markdown",
   "id": "d5e73f44",
   "metadata": {},
   "source": [
    "#### Gas"
   ]
  },
  {
   "cell_type": "code",
   "execution_count": 131,
   "id": "baa5e05a",
   "metadata": {},
   "outputs": [],
   "source": [
    "TYPE = \"gas\"\n",
    "DATA_NAME_1 = f\"{LABELER_1}_{DECADE}_{TYPE}_cleaned.csv\"\n",
    "DATA_NAME_2 = f\"{LABELER_2}_{DECADE}_{TYPE}_cleaned.csv\"\n",
    "DATA_1 = pd.read_csv(os.path.join(DATA_DIR, DATA_NAME_1))\n",
    "DATA_2 = pd.read_csv(os.path.join(DATA_DIR, DATA_NAME_2))\n",
    "merged = DATA_1.merge(DATA_2, how='inner', on=\"article_name\")\n",
    "res = merge_and_choose_labels(merged)\n",
    "merged[\"labels\"] = res\n",
    "merged = merged[merged[\"labels\"] != \"null\"]\n",
    "merged = merged[[\"text_x\", \"text_y\", \"labels_y\", \"labels_x\", \"labels\", \"date_x\", \"article_name\"]].reset_index()\n",
    "kappa = sklearn.metrics.cohen_kappa_score(merged.labels_x, merged.labels_y)\n",
    "print(kappa)\n",
    "res = select_text(merged)\n",
    "merged[\"text\"] = res\n",
    "merged = merged[[\"text\", \"labels\", \"article_name\"]]\n",
    "#merged.to_csv(os.path.join(DATA_DIR_MERGED, f\"{DECADE}_{TYPE}_merged.csv\"))"
   ]
  },
  {
   "cell_type": "markdown",
   "id": "f4dba4e6",
   "metadata": {},
   "source": [
    "#### Coal"
   ]
  },
  {
   "cell_type": "code",
   "execution_count": 117,
   "id": "2a578c55",
   "metadata": {},
   "outputs": [],
   "source": [
    "TYPE = \"coal\"\n",
    "DATA_NAME_1 = f\"{LABELER_1}_{DECADE}_{TYPE}_cleaned.csv\"\n",
    "DATA_NAME_2 = f\"{LABELER_2}_{DECADE}_{TYPE}_cleaned.csv\"\n",
    "DATA_1 = pd.read_csv(os.path.join(DATA_DIR, DATA_NAME_1))\n",
    "DATA_2 = pd.read_csv(os.path.join(DATA_DIR, DATA_NAME_2))\n",
    "merged = DATA_1.merge(DATA_2, how='inner', on=\"article_name\")\n",
    "res = merge_and_choose_labels(merged)\n",
    "merged[\"labels\"] = res\n",
    "merged = merged[merged[\"labels\"] != \"null\"]\n",
    "merged = merged[[\"text_x\", \"text_y\", \"labels_y\", \"labels_x\", \"labels\", \"date_x\", \"article_name\"]].reset_index()\n",
    "kappa = sklearn.metrics.cohen_kappa_score(merged.labels_x, merged.labels_y)\n",
    "print(kappa)\n",
    "res = select_text(merged)\n",
    "merged[\"text\"] = res\n",
    "merged = merged[[\"text\", \"labels\", \"article_name\"]]\n",
    "#merged.to_csv(os.path.join(DATA_DIR_MERGED, f\"{DECADE}_{TYPE}_merged.csv\"))"
   ]
  },
  {
   "cell_type": "markdown",
   "id": "d3530cbd",
   "metadata": {},
   "source": [
    "## 1970"
   ]
  },
  {
   "cell_type": "code",
   "execution_count": 22,
   "id": "28d6bea9",
   "metadata": {},
   "outputs": [],
   "source": [
    "DECADE = \"1970s\""
   ]
  },
  {
   "cell_type": "markdown",
   "id": "6a5c859a",
   "metadata": {},
   "source": [
    "#### Oil"
   ]
  },
  {
   "cell_type": "code",
   "execution_count": 23,
   "id": "bf492e58",
   "metadata": {},
   "outputs": [
    {
     "name": "stdout",
     "output_type": "stream",
     "text": [
      "0.2795910379654999\n"
     ]
    }
   ],
   "source": [
    "TYPE = \"oil\"\n",
    "DATA_NAME_1 = f\"{LABELER_1}_{DECADE}_{TYPE}_cleaned.csv\"\n",
    "DATA_NAME_2 = f\"{LABELER_2}_{DECADE}_{TYPE}_cleaned.csv\"\n",
    "DATA_1 = pd.read_csv(os.path.join(DATA_DIR, DATA_NAME_1))\n",
    "DATA_2 = pd.read_csv(os.path.join(DATA_DIR, DATA_NAME_2))\n",
    "merged = DATA_1.merge(DATA_2, how='inner', on=\"article_name\")\n",
    "res = merge_and_choose_labels(merged)\n",
    "merged[\"labels\"] = res\n",
    "merged = merged[merged[\"labels\"] != \"null\"]\n",
    "merged = merged[[\"text_x\", \"text_y\", \"labels_y\", \"labels_x\", \"labels\", \"date_x\", \"article_name\"]].reset_index()\n",
    "kappa = sklearn.metrics.cohen_kappa_score(merged.labels_x, merged.labels_y)\n",
    "print(kappa)\n",
    "res = select_text(merged)\n",
    "merged[\"text\"] = res\n",
    "merged = merged[[\"text\", \"labels\", \"article_name\"]]\n",
    "#merged.to_csv(os.path.join(DATA_DIR_MERGED, f\"{DECADE}_{TYPE}_merged.csv\"))"
   ]
  },
  {
   "cell_type": "markdown",
   "id": "4a1632b9",
   "metadata": {},
   "source": [
    "#### Gas"
   ]
  },
  {
   "cell_type": "code",
   "execution_count": 24,
   "id": "277f6e7e",
   "metadata": {},
   "outputs": [
    {
     "name": "stdout",
     "output_type": "stream",
     "text": [
      "0.17722909209241777\n"
     ]
    }
   ],
   "source": [
    "TYPE = \"gas\"\n",
    "DATA_NAME_1 = f\"{LABELER_1}_{DECADE}_{TYPE}_cleaned.csv\"\n",
    "DATA_NAME_2 = f\"{LABELER_2}_{DECADE}_{TYPE}_cleaned.csv\"\n",
    "DATA_1 = pd.read_csv(os.path.join(DATA_DIR, DATA_NAME_1))\n",
    "DATA_2 = pd.read_csv(os.path.join(DATA_DIR, DATA_NAME_2))\n",
    "merged = DATA_1.merge(DATA_2, how='inner', on=\"article_name\")\n",
    "res = merge_and_choose_labels(merged)\n",
    "merged[\"labels\"] = res\n",
    "merged = merged[merged[\"labels\"] != \"null\"]\n",
    "merged = merged[[\"text_x\", \"text_y\", \"labels_y\", \"labels_x\", \"labels\", \"date_x\", \"article_name\"]].reset_index()\n",
    "kappa = sklearn.metrics.cohen_kappa_score(merged.labels_x, merged.labels_y)\n",
    "print(kappa)\n",
    "res = select_text(merged)\n",
    "merged[\"text\"] = res\n",
    "merged = merged[[\"text\", \"labels\", \"article_name\"]]\n",
    "#merged.to_csv(os.path.join(DATA_DIR_MERGED, f\"{DECADE}_{TYPE}_merged.csv\"))"
   ]
  },
  {
   "cell_type": "markdown",
   "id": "7c87922b",
   "metadata": {},
   "source": [
    "#### Coal"
   ]
  },
  {
   "cell_type": "code",
   "execution_count": 25,
   "id": "44eb2bd7",
   "metadata": {},
   "outputs": [
    {
     "name": "stdout",
     "output_type": "stream",
     "text": [
      "0.30511480162217997\n"
     ]
    }
   ],
   "source": [
    "TYPE = \"coal\"\n",
    "DATA_NAME_1 = f\"{LABELER_1}_{DECADE}_{TYPE}_cleaned.csv\"\n",
    "DATA_NAME_2 = f\"{LABELER_2}_{DECADE}_{TYPE}_cleaned.csv\"\n",
    "DATA_1 = pd.read_csv(os.path.join(DATA_DIR, DATA_NAME_1))\n",
    "DATA_2 = pd.read_csv(os.path.join(DATA_DIR, DATA_NAME_2))\n",
    "merged = DATA_1.merge(DATA_2, how='inner', on=\"article_name\")\n",
    "res = merge_and_choose_labels(merged)\n",
    "merged[\"labels\"] = res\n",
    "merged = merged[merged[\"labels\"] != \"null\"]\n",
    "merged = merged[[\"text_x\", \"text_y\", \"labels_y\", \"labels_x\", \"labels\", \"date_x\", \"article_name\"]].reset_index()\n",
    "kappa = sklearn.metrics.cohen_kappa_score(merged.labels_x, merged.labels_y)\n",
    "print(kappa)\n",
    "res = select_text(merged)\n",
    "merged[\"text\"] = res\n",
    "merged = merged[[\"text\", \"labels\", \"article_name\"]]\n",
    "#merged.to_csv(os.path.join(DATA_DIR_MERGED, f\"{DECADE}_{TYPE}_merged.csv\"))"
   ]
  },
  {
   "cell_type": "markdown",
   "id": "6124f1e4",
   "metadata": {},
   "source": [
    "## 1980"
   ]
  },
  {
   "cell_type": "code",
   "execution_count": 26,
   "id": "6240baf0",
   "metadata": {},
   "outputs": [],
   "source": [
    "DECADE = \"1980s\""
   ]
  },
  {
   "cell_type": "markdown",
   "id": "367791a4",
   "metadata": {},
   "source": [
    "#### Oil"
   ]
  },
  {
   "cell_type": "code",
   "execution_count": 27,
   "id": "7a3085e4",
   "metadata": {},
   "outputs": [
    {
     "name": "stdout",
     "output_type": "stream",
     "text": [
      "0.31994859193852343\n"
     ]
    }
   ],
   "source": [
    "TYPE = \"oil\"\n",
    "DATA_NAME_1 = f\"{LABELER_1}_{DECADE}_{TYPE}_cleaned.csv\"\n",
    "DATA_NAME_2 = f\"{LABELER_2}_{DECADE}_{TYPE}_cleaned.csv\"\n",
    "DATA_1 = pd.read_csv(os.path.join(DATA_DIR, DATA_NAME_1))\n",
    "DATA_2 = pd.read_csv(os.path.join(DATA_DIR, DATA_NAME_2))\n",
    "merged = DATA_1.merge(DATA_2, how='inner', on=\"article_name\")\n",
    "res = merge_and_choose_labels(merged)\n",
    "merged[\"labels\"] = res\n",
    "merged = merged[merged[\"labels\"] != \"null\"]\n",
    "merged = merged[[\"text_x\", \"text_y\", \"labels_y\", \"labels_x\", \"labels\", \"date_x\", \"article_name\"]].reset_index()\n",
    "kappa = sklearn.metrics.cohen_kappa_score(merged.labels_x, merged.labels_y)\n",
    "print(kappa)\n",
    "res = select_text(merged)\n",
    "merged[\"text\"] = res\n",
    "merged = merged[[\"text\", \"labels\", \"article_name\"]]\n",
    "#merged.to_csv(os.path.join(DATA_DIR_MERGED, f\"{DECADE}_{TYPE}_merged.csv\"))"
   ]
  },
  {
   "cell_type": "markdown",
   "id": "532cedf3",
   "metadata": {},
   "source": [
    "#### Gas"
   ]
  },
  {
   "cell_type": "code",
   "execution_count": 28,
   "id": "d032cff1",
   "metadata": {},
   "outputs": [
    {
     "name": "stdout",
     "output_type": "stream",
     "text": [
      "0.3525338386871085\n"
     ]
    }
   ],
   "source": [
    "TYPE = \"gas\"\n",
    "DATA_NAME_1 = f\"{LABELER_1}_{DECADE}_{TYPE}_cleaned.csv\"\n",
    "DATA_NAME_2 = f\"{LABELER_2}_{DECADE}_{TYPE}_cleaned.csv\"\n",
    "DATA_1 = pd.read_csv(os.path.join(DATA_DIR, DATA_NAME_1))\n",
    "DATA_2 = pd.read_csv(os.path.join(DATA_DIR, DATA_NAME_2))\n",
    "merged = DATA_1.merge(DATA_2, how='inner', on=\"article_name\")\n",
    "res = merge_and_choose_labels(merged)\n",
    "merged[\"labels\"] = res\n",
    "merged = merged[merged[\"labels\"] != \"null\"]\n",
    "merged = merged[[\"text_x\", \"text_y\", \"labels_y\", \"labels_x\", \"labels\", \"date_x\", \"article_name\"]].reset_index()\n",
    "kappa = sklearn.metrics.cohen_kappa_score(merged.labels_x, merged.labels_y)\n",
    "print(kappa)\n",
    "res = select_text(merged)\n",
    "merged[\"text\"] = res\n",
    "merged = merged[[\"text\", \"labels\", \"article_name\"]]\n",
    "#merged.to_csv(os.path.join(DATA_DIR_MERGED, f\"{DECADE}_{TYPE}_merged.csv\"))"
   ]
  },
  {
   "cell_type": "markdown",
   "id": "c8369e81",
   "metadata": {},
   "source": [
    "#### Coal"
   ]
  },
  {
   "cell_type": "code",
   "execution_count": 29,
   "id": "fe68060f",
   "metadata": {},
   "outputs": [
    {
     "name": "stdout",
     "output_type": "stream",
     "text": [
      "0.4095670646839059\n"
     ]
    }
   ],
   "source": [
    "TYPE = \"coal\"\n",
    "DATA_NAME_1 = f\"{LABELER_1}_{DECADE}_{TYPE}_cleaned.csv\"\n",
    "DATA_NAME_2 = f\"{LABELER_2}_{DECADE}_{TYPE}_cleaned.csv\"\n",
    "DATA_1 = pd.read_csv(os.path.join(DATA_DIR, DATA_NAME_1))\n",
    "DATA_2 = pd.read_csv(os.path.join(DATA_DIR, DATA_NAME_2))\n",
    "merged = DATA_1.merge(DATA_2, how='inner', on=\"article_name\")\n",
    "res = merge_and_choose_labels(merged)\n",
    "merged[\"labels\"] = res\n",
    "merged = merged[merged[\"labels\"] != \"null\"]\n",
    "merged = merged[[\"text_x\", \"text_y\", \"labels_y\", \"labels_x\", \"labels\", \"date_x\", \"article_name\"]].reset_index()\n",
    "kappa = sklearn.metrics.cohen_kappa_score(merged.labels_x, merged.labels_y)\n",
    "print(kappa)\n",
    "res = select_text(merged)\n",
    "merged[\"text\"] = res\n",
    "merged = merged[[\"text\", \"labels\", \"article_name\"]]\n",
    "#merged.to_csv(os.path.join(DATA_DIR_MERGED, f\"{DECADE}_{TYPE}_merged.csv\"))"
   ]
  },
  {
   "cell_type": "markdown",
   "id": "69f097f5",
   "metadata": {},
   "source": [
    "## 1990"
   ]
  },
  {
   "cell_type": "code",
   "execution_count": 30,
   "id": "3fb742e5",
   "metadata": {},
   "outputs": [],
   "source": [
    "DECADE = \"1990s\""
   ]
  },
  {
   "cell_type": "markdown",
   "id": "a8acf7df",
   "metadata": {},
   "source": [
    "#### Oil"
   ]
  },
  {
   "cell_type": "code",
   "execution_count": 31,
   "id": "e3f3a126",
   "metadata": {},
   "outputs": [
    {
     "name": "stdout",
     "output_type": "stream",
     "text": [
      "0.6426820115086315\n"
     ]
    }
   ],
   "source": [
    "TYPE = \"oil\"\n",
    "DATA_NAME_1 = f\"{LABELER_1}_{DECADE}_{TYPE}_cleaned.csv\"\n",
    "DATA_NAME_2 = f\"{LABELER_2}_{DECADE}_{TYPE}_cleaned.csv\"\n",
    "DATA_1 = pd.read_csv(os.path.join(DATA_DIR, DATA_NAME_1))\n",
    "DATA_2 = pd.read_csv(os.path.join(DATA_DIR, DATA_NAME_2))\n",
    "merged = DATA_1.merge(DATA_2, how='inner', on=\"article_name\")\n",
    "res = merge_and_choose_labels(merged)\n",
    "merged[\"labels\"] = res\n",
    "merged = merged[merged[\"labels\"] != \"null\"]\n",
    "merged = merged[[\"text_x\", \"text_y\", \"labels_y\", \"labels_x\", \"labels\", \"date_x\", \"article_name\"]].reset_index()\n",
    "kappa = sklearn.metrics.cohen_kappa_score(merged.labels_x, merged.labels_y)\n",
    "print(kappa)\n",
    "res = select_text(merged)\n",
    "merged[\"text\"] = res\n",
    "merged = merged[[\"text\", \"labels\", \"article_name\"]]\n",
    "#merged.to_csv(os.path.join(DATA_DIR_MERGED, f\"{DECADE}_{TYPE}_merged.csv\"))"
   ]
  },
  {
   "cell_type": "markdown",
   "id": "af7eb643",
   "metadata": {},
   "source": [
    "#### Gas"
   ]
  },
  {
   "cell_type": "code",
   "execution_count": 32,
   "id": "28e1aacb",
   "metadata": {},
   "outputs": [
    {
     "name": "stdout",
     "output_type": "stream",
     "text": [
      "0.6299314687905166\n"
     ]
    }
   ],
   "source": [
    "TYPE = \"gas\"\n",
    "DATA_NAME_1 = f\"{LABELER_1}_{DECADE}_{TYPE}_cleaned.csv\"\n",
    "DATA_NAME_2 = f\"{LABELER_2}_{DECADE}_{TYPE}_cleaned.csv\"\n",
    "DATA_1 = pd.read_csv(os.path.join(DATA_DIR, DATA_NAME_1))\n",
    "DATA_2 = pd.read_csv(os.path.join(DATA_DIR, DATA_NAME_2))\n",
    "merged = DATA_1.merge(DATA_2, how='inner', on=\"article_name\")\n",
    "res = merge_and_choose_labels(merged)\n",
    "merged[\"labels\"] = res\n",
    "merged = merged[merged[\"labels\"] != \"null\"]\n",
    "merged = merged[[\"text_x\", \"text_y\", \"labels_y\", \"labels_x\", \"labels\", \"date_x\", \"article_name\"]].reset_index()\n",
    "kappa = sklearn.metrics.cohen_kappa_score(merged.labels_x, merged.labels_y)\n",
    "print(kappa)\n",
    "res = select_text(merged)\n",
    "merged[\"text\"] = res\n",
    "merged = merged[[\"text\", \"labels\", \"article_name\"]]\n",
    "#merged.to_csv(os.path.join(DATA_DIR_MERGED, f\"{DECADE}_{TYPE}_merged.csv\"))"
   ]
  },
  {
   "cell_type": "markdown",
   "id": "97ddceb0",
   "metadata": {},
   "source": [
    "#### Coal"
   ]
  },
  {
   "cell_type": "code",
   "execution_count": 33,
   "id": "cace8dab",
   "metadata": {},
   "outputs": [
    {
     "name": "stdout",
     "output_type": "stream",
     "text": [
      "0.48674992385013705\n"
     ]
    }
   ],
   "source": [
    "TYPE = \"coal\"\n",
    "DATA_NAME_1 = f\"{LABELER_1}_{DECADE}_{TYPE}_cleaned.csv\"\n",
    "DATA_NAME_2 = f\"{LABELER_2}_{DECADE}_{TYPE}_cleaned.csv\"\n",
    "DATA_1 = pd.read_csv(os.path.join(DATA_DIR, DATA_NAME_1))\n",
    "DATA_2 = pd.read_csv(os.path.join(DATA_DIR, DATA_NAME_2))\n",
    "merged = DATA_1.merge(DATA_2, how='inner', on=\"article_name\")\n",
    "res = merge_and_choose_labels(merged)\n",
    "merged[\"labels\"] = res\n",
    "merged = merged[merged[\"labels\"] != \"null\"]\n",
    "merged = merged[[\"text_x\", \"text_y\", \"labels_y\", \"labels_x\", \"labels\", \"date_x\", \"article_name\"]].reset_index()\n",
    "kappa = sklearn.metrics.cohen_kappa_score(merged.labels_x, merged.labels_y)\n",
    "print(kappa)\n",
    "res = select_text(merged)\n",
    "merged[\"text\"] = res\n",
    "merged = merged[[\"text\", \"labels\", \"article_name\"]]\n",
    "#merged.to_csv(os.path.join(DATA_DIR_MERGED, f\"{DECADE}_{TYPE}_merged.csv\"))"
   ]
  },
  {
   "cell_type": "markdown",
   "id": "4c3ba993",
   "metadata": {},
   "source": [
    "---"
   ]
  },
  {
   "cell_type": "code",
   "execution_count": null,
   "id": "9f3a6fa4",
   "metadata": {},
   "outputs": [],
   "source": []
  }
 ],
 "metadata": {
  "kernelspec": {
   "display_name": "histaware-NidRwJ64-py3.8",
   "language": "python",
   "name": "histaware-nidrwj64-py3.8"
  },
  "language_info": {
   "codemirror_mode": {
    "name": "ipython",
    "version": 3
   },
   "file_extension": ".py",
   "mimetype": "text/x-python",
   "name": "python",
   "nbconvert_exporter": "python",
   "pygments_lexer": "ipython3",
   "version": "3.8.5"
  }
 },
 "nbformat": 4,
 "nbformat_minor": 5
}
