{
 "cells": [
  {
   "cell_type": "markdown",
   "id": "20b323f0",
   "metadata": {},
   "source": [
    "# Merge labeled data for kappa scoring"
   ]
  },
  {
   "cell_type": "code",
   "execution_count": 26,
   "id": "2f5297b8",
   "metadata": {},
   "outputs": [],
   "source": [
    "import os\n",
    "\n",
    "import pandas as pd\n",
    "\n",
    "import sklearn\n",
    "import sklearn.metrics"
   ]
  },
  {
   "cell_type": "code",
   "execution_count": 27,
   "id": "38078bf2",
   "metadata": {},
   "outputs": [],
   "source": [
    "DATA_DIR = \"/home/leonardovida/dev/hist-aware/notebooks/data/labeled-full/split_labeled/cleaned\"\n",
    "DATA_DIR_MERGED = \"/home/leonardovida/dev/hist-aware/notebooks/data/labeled-full/split_labeled/merged\"\n",
    "\n",
    "LABELER_1 = \"marin\"\n",
    "LABELER_2 = \"edo\""
   ]
  },
  {
   "cell_type": "markdown",
   "id": "784b78af",
   "metadata": {},
   "source": [
    "## 1970"
   ]
  },
  {
   "cell_type": "code",
   "execution_count": 28,
   "id": "7cdc6de3",
   "metadata": {},
   "outputs": [],
   "source": [
    "DECADE = \"1970s\""
   ]
  },
  {
   "cell_type": "markdown",
   "id": "59c2d15b",
   "metadata": {},
   "source": [
    "#### Oil"
   ]
  },
  {
   "cell_type": "code",
   "execution_count": 29,
   "id": "a70f42f5",
   "metadata": {},
   "outputs": [
    {
     "name": "stdout",
     "output_type": "stream",
     "text": [
      "0.2202884016595631\n"
     ]
    }
   ],
   "source": [
    "TYPE = \"oil\"\n",
    "DATA_NAME_1 = f\"{LABELER_1}_{DECADE}_{TYPE}_cleaned.csv\"\n",
    "DATA_NAME_2 = f\"{LABELER_2}_{DECADE}_{TYPE}_cleaned.csv\"\n",
    "DATA_1 = pd.read_csv(os.path.join(DATA_DIR, DATA_NAME_1))\n",
    "DATA_2 = pd.read_csv(os.path.join(DATA_DIR, DATA_NAME_2))\n",
    "merged = DATA_1.merge(DATA_2, how='inner', on=\"article_name\")\n",
    "res = sklearn.metrics.cohen_kappa_score(merged.labels_x, merged.labels_y)\n",
    "print(res)\n",
    "merged[\"labels\"] = abs((merged.labels_x - merged.labels_y) / 2)\n",
    "merged.to_csv(os.path.join(DATA_DIR_MERGED, f\"{DECADE}_{TYPE}_merged.csv\"))"
   ]
  },
  {
   "cell_type": "markdown",
   "id": "0635815c",
   "metadata": {},
   "source": [
    "#### Gas"
   ]
  },
  {
   "cell_type": "code",
   "execution_count": 30,
   "id": "1e583be5",
   "metadata": {},
   "outputs": [
    {
     "name": "stdout",
     "output_type": "stream",
     "text": [
      "0.13214273232446783\n"
     ]
    }
   ],
   "source": [
    "TYPE = \"gas\"\n",
    "DATA_NAME_1 = f\"{LABELER_1}_{DECADE}_{TYPE}_cleaned.csv\"\n",
    "DATA_NAME_2 = f\"{LABELER_2}_{DECADE}_{TYPE}_cleaned.csv\"\n",
    "DATA_1 = pd.read_csv(os.path.join(DATA_DIR, DATA_NAME_1))\n",
    "DATA_2 = pd.read_csv(os.path.join(DATA_DIR, DATA_NAME_2))\n",
    "merged = DATA_1.merge(DATA_2, how='inner', on=\"article_name\")\n",
    "res = sklearn.metrics.cohen_kappa_score(merged.labels_x, merged.labels_y)\n",
    "print(res)\n",
    "merged.to_csv(os.path.join(DATA_DIR_MERGED, f\"{DECADE}_{TYPE}_merged.csv\"))"
   ]
  },
  {
   "cell_type": "markdown",
   "id": "d449f423",
   "metadata": {},
   "source": [
    "#### Coal"
   ]
  },
  {
   "cell_type": "code",
   "execution_count": 31,
   "id": "18ad0973",
   "metadata": {},
   "outputs": [
    {
     "name": "stdout",
     "output_type": "stream",
     "text": [
      "0.27605233219567693\n"
     ]
    }
   ],
   "source": [
    "TYPE = \"coal\"\n",
    "DATA_NAME_1 = f\"{LABELER_1}_{DECADE}_{TYPE}_cleaned.csv\"\n",
    "DATA_NAME_2 = f\"{LABELER_2}_{DECADE}_{TYPE}_cleaned.csv\"\n",
    "DATA_1 = pd.read_csv(os.path.join(DATA_DIR, DATA_NAME_1))\n",
    "DATA_2 = pd.read_csv(os.path.join(DATA_DIR, DATA_NAME_2))\n",
    "merged = DATA_1.merge(DATA_2, how='inner', on=\"article_name\")\n",
    "res = sklearn.metrics.cohen_kappa_score(merged.labels_x, merged.labels_y)\n",
    "print(res)\n",
    "merged.to_csv(os.path.join(DATA_DIR_MERGED, f\"{DECADE}_{TYPE}_merged.csv\"))"
   ]
  },
  {
   "cell_type": "markdown",
   "id": "ba656650",
   "metadata": {},
   "source": [
    "## 1980"
   ]
  },
  {
   "cell_type": "code",
   "execution_count": 32,
   "id": "94bf26d0",
   "metadata": {},
   "outputs": [],
   "source": [
    "DECADE = \"1980s\""
   ]
  },
  {
   "cell_type": "markdown",
   "id": "788d47a6",
   "metadata": {},
   "source": [
    "#### Oil"
   ]
  },
  {
   "cell_type": "code",
   "execution_count": 33,
   "id": "e3546a7b",
   "metadata": {},
   "outputs": [
    {
     "name": "stdout",
     "output_type": "stream",
     "text": [
      "0.2828685258964143\n"
     ]
    }
   ],
   "source": [
    "TYPE = \"oil\"\n",
    "DATA_NAME_1 = f\"{LABELER_1}_{DECADE}_{TYPE}_cleaned.csv\"\n",
    "DATA_NAME_2 = f\"{LABELER_2}_{DECADE}_{TYPE}_cleaned.csv\"\n",
    "DATA_1 = pd.read_csv(os.path.join(DATA_DIR, DATA_NAME_1))\n",
    "DATA_2 = pd.read_csv(os.path.join(DATA_DIR, DATA_NAME_2))\n",
    "merged = DATA_1.merge(DATA_2, how='inner', on=\"article_name\")\n",
    "res = sklearn.metrics.cohen_kappa_score(merged.labels_x, merged.labels_y)\n",
    "print(res)\n",
    "merged.to_csv(os.path.join(DATA_DIR_MERGED, f\"{DECADE}_{TYPE}_merged.csv\"))"
   ]
  },
  {
   "cell_type": "markdown",
   "id": "5ae0ecb2",
   "metadata": {},
   "source": [
    "#### Gas"
   ]
  },
  {
   "cell_type": "code",
   "execution_count": 34,
   "id": "6e1158a5",
   "metadata": {},
   "outputs": [
    {
     "name": "stdout",
     "output_type": "stream",
     "text": [
      "0.2862607422287514\n"
     ]
    }
   ],
   "source": [
    "TYPE = \"gas\"\n",
    "DATA_NAME_1 = f\"{LABELER_1}_{DECADE}_{TYPE}_cleaned.csv\"\n",
    "DATA_NAME_2 = f\"{LABELER_2}_{DECADE}_{TYPE}_cleaned.csv\"\n",
    "DATA_1 = pd.read_csv(os.path.join(DATA_DIR, DATA_NAME_1))\n",
    "DATA_2 = pd.read_csv(os.path.join(DATA_DIR, DATA_NAME_2))\n",
    "merged = DATA_1.merge(DATA_2, how='inner', on=\"article_name\")\n",
    "res = sklearn.metrics.cohen_kappa_score(merged.labels_x, merged.labels_y)\n",
    "print(res)\n",
    "merged.to_csv(os.path.join(DATA_DIR_MERGED, f\"{DECADE}_{TYPE}_merged.csv\"))"
   ]
  },
  {
   "cell_type": "markdown",
   "id": "3a14624e",
   "metadata": {},
   "source": [
    "#### Coal"
   ]
  },
  {
   "cell_type": "code",
   "execution_count": 35,
   "id": "f6c19e18",
   "metadata": {},
   "outputs": [
    {
     "name": "stdout",
     "output_type": "stream",
     "text": [
      "0.36396011396011396\n"
     ]
    }
   ],
   "source": [
    "TYPE = \"coal\"\n",
    "DATA_NAME_1 = f\"{LABELER_1}_{DECADE}_{TYPE}_cleaned.csv\"\n",
    "DATA_NAME_2 = f\"{LABELER_2}_{DECADE}_{TYPE}_cleaned.csv\"\n",
    "DATA_1 = pd.read_csv(os.path.join(DATA_DIR, DATA_NAME_1))\n",
    "DATA_2 = pd.read_csv(os.path.join(DATA_DIR, DATA_NAME_2))\n",
    "merged = DATA_1.merge(DATA_2, how='inner', on=\"article_name\")\n",
    "res = sklearn.metrics.cohen_kappa_score(merged.labels_x, merged.labels_y)\n",
    "print(res)\n",
    "merged.to_csv(os.path.join(DATA_DIR_MERGED, f\"{DECADE}_{TYPE}_merged.csv\"))"
   ]
  },
  {
   "cell_type": "markdown",
   "id": "617c7f88",
   "metadata": {},
   "source": [
    "## 1990"
   ]
  },
  {
   "cell_type": "code",
   "execution_count": 36,
   "id": "008b151d",
   "metadata": {},
   "outputs": [],
   "source": [
    "DECADE = \"1990s\""
   ]
  },
  {
   "cell_type": "markdown",
   "id": "6480804f",
   "metadata": {},
   "source": [
    "#### Oil"
   ]
  },
  {
   "cell_type": "code",
   "execution_count": 37,
   "id": "c557e257",
   "metadata": {},
   "outputs": [
    {
     "name": "stdout",
     "output_type": "stream",
     "text": [
      "0.602960282108389\n"
     ]
    }
   ],
   "source": [
    "TYPE = \"oil\"\n",
    "DATA_NAME_1 = f\"{LABELER_1}_{DECADE}_{TYPE}_cleaned.csv\"\n",
    "DATA_NAME_2 = f\"{LABELER_2}_{DECADE}_{TYPE}_cleaned.csv\"\n",
    "DATA_1 = pd.read_csv(os.path.join(DATA_DIR, DATA_NAME_1))\n",
    "DATA_2 = pd.read_csv(os.path.join(DATA_DIR, DATA_NAME_2))\n",
    "merged = DATA_1.merge(DATA_2, how='inner', on=\"article_name\")\n",
    "res = sklearn.metrics.cohen_kappa_score(merged.labels_x, merged.labels_y)\n",
    "print(res)\n",
    "merged.to_csv(os.path.join(DATA_DIR_MERGED, f\"{DECADE}_{TYPE}_merged.csv\"))"
   ]
  },
  {
   "cell_type": "markdown",
   "id": "f69eaa7e",
   "metadata": {},
   "source": [
    "#### Gas"
   ]
  },
  {
   "cell_type": "code",
   "execution_count": 38,
   "id": "9b654f65",
   "metadata": {},
   "outputs": [
    {
     "name": "stdout",
     "output_type": "stream",
     "text": [
      "0.5746503398303656\n"
     ]
    }
   ],
   "source": [
    "TYPE = \"gas\"\n",
    "DATA_NAME_1 = f\"{LABELER_1}_{DECADE}_{TYPE}_cleaned.csv\"\n",
    "DATA_NAME_2 = f\"{LABELER_2}_{DECADE}_{TYPE}_cleaned.csv\"\n",
    "DATA_1 = pd.read_csv(os.path.join(DATA_DIR, DATA_NAME_1))\n",
    "DATA_2 = pd.read_csv(os.path.join(DATA_DIR, DATA_NAME_2))\n",
    "merged = DATA_1.merge(DATA_2, how='inner', on=\"article_name\")\n",
    "res = sklearn.metrics.cohen_kappa_score(merged.labels_x, merged.labels_y)\n",
    "print(res)\n",
    "merged.to_csv(os.path.join(DATA_DIR_MERGED, f\"{DECADE}_{TYPE}_merged.csv\"))"
   ]
  },
  {
   "cell_type": "markdown",
   "id": "d7a9aaa9",
   "metadata": {},
   "source": [
    "#### Coal"
   ]
  },
  {
   "cell_type": "code",
   "execution_count": 39,
   "id": "05286f58",
   "metadata": {},
   "outputs": [
    {
     "name": "stdout",
     "output_type": "stream",
     "text": [
      "0.4401913875598086\n"
     ]
    }
   ],
   "source": [
    "TYPE = \"coal\"\n",
    "DATA_NAME_1 = f\"{LABELER_1}_{DECADE}_{TYPE}_cleaned.csv\"\n",
    "DATA_NAME_2 = f\"{LABELER_2}_{DECADE}_{TYPE}_cleaned.csv\"\n",
    "DATA_1 = pd.read_csv(os.path.join(DATA_DIR, DATA_NAME_1))\n",
    "DATA_2 = pd.read_csv(os.path.join(DATA_DIR, DATA_NAME_2))\n",
    "merged = DATA_1.merge(DATA_2, how='inner', on=\"article_name\")\n",
    "res = sklearn.metrics.cohen_kappa_score(merged.labels_x, merged.labels_y)\n",
    "print(res)\n",
    "merged.to_csv(os.path.join(DATA_DIR_MERGED, f\"{DECADE}_{TYPE}_merged.csv\"))"
   ]
  },
  {
   "cell_type": "markdown",
   "id": "c46d1c25",
   "metadata": {},
   "source": [
    "---"
   ]
  },
  {
   "cell_type": "code",
   "execution_count": null,
   "id": "a50cd472",
   "metadata": {},
   "outputs": [],
   "source": []
  }
 ],
 "metadata": {
  "kernelspec": {
   "display_name": "histaware-NidRwJ64-py3.8",
   "language": "python",
   "name": "histaware-nidrwj64-py3.8"
  },
  "language_info": {
   "codemirror_mode": {
    "name": "ipython",
    "version": 3
   },
   "file_extension": ".py",
   "mimetype": "text/x-python",
   "name": "python",
   "nbconvert_exporter": "python",
   "pygments_lexer": "ipython3",
   "version": "3.8.5"
  }
 },
 "nbformat": 4,
 "nbformat_minor": 5
}
