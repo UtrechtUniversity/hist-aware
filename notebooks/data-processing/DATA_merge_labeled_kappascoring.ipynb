{
 "cells": [
  {
   "cell_type": "markdown",
   "id": "a001274c",
   "metadata": {},
   "source": [
    "# Merge labeled data for kappa scoring"
   ]
  },
  {
   "cell_type": "code",
   "execution_count": 2,
   "id": "ec23924a",
   "metadata": {},
   "outputs": [],
   "source": [
    "import os\n",
    "\n",
    "import pandas as pd\n",
    "\n",
    "import sklearn\n",
    "import sklearn.metrics"
   ]
  },
  {
   "cell_type": "code",
   "execution_count": 21,
   "id": "7b2432e7",
   "metadata": {},
   "outputs": [],
   "source": [
    "DATA_DIR =        \"~/data/volume_1/delphbert-results/7-labeled-data/labeled-full/split_labeled/cleaned\"\n",
    "DATA_DIR_MERGED = \"~/data/volume_1/delphbert-results/7-labeled-data/labeled-full/split_labeled/merged\"\n",
    "\n",
    "LABELER_1 = \"marin\"\n",
    "LABELER_2 = \"edo\""
   ]
  },
  {
   "cell_type": "code",
   "execution_count": 22,
   "id": "f9fe060c",
   "metadata": {},
   "outputs": [],
   "source": [
    "# if 0 and 1 -> 0 if 1 and 2 ->\n",
    "# Prefer extremes than averages\n",
    "def merge_and_choose_labels(df):\n",
    "    labels = []\n",
    "    for i, r in df.iterrows():        \n",
    "        if pd.isna(r[\"labels_x\"]) == False and pd.isna(r[\"labels_y\"]) == False:\n",
    "            if r[\"labels_x\"] == 0 and r[\"labels_y\"] == 1:\n",
    "                labels.append(0)\n",
    "            elif r[\"labels_x\"] == 1 and r[\"labels_y\"] == 0:\n",
    "                labels.append(0)\n",
    "            elif r[\"labels_x\"] == 1 and r[\"labels_y\"] == 2:\n",
    "                labels.append(2)\n",
    "            elif r[\"labels_x\"] == 2 and r[\"labels_y\"] == 1:\n",
    "                labels.append(2)\n",
    "            elif r[\"labels_x\"] == 2 and r[\"labels_y\"] == 2:\n",
    "                labels.append(2)\n",
    "            elif r[\"labels_x\"] == 1 and r[\"labels_y\"] == 1:\n",
    "                labels.append(1)\n",
    "            elif r[\"labels_x\"] == 0 and r[\"labels_y\"] == 0:\n",
    "                labels.append(0)\n",
    "            elif r[\"labels_x\"] == 0 and r[\"labels_y\"] == 2:\n",
    "                labels.append(\"null\")\n",
    "            elif r[\"labels_x\"] == 2 and r[\"labels_y\"] == 0:\n",
    "                labels.append(\"null\")\n",
    "            else:\n",
    "                print(\"error\")\n",
    "        else:\n",
    "            if pd.isna(r[\"labels_x\"]) == True:\n",
    "                labels.append(int(r[\"labels_y\"]))\n",
    "            if pd.isna(r[\"labels_y\"]) == True:\n",
    "                labels.append(int(r[\"labels_x\"]))\n",
    "    return(labels)\n",
    "\n",
    "def select_text(df):\n",
    "    text = []\n",
    "    for i, r in df.iterrows():\n",
    "        if pd.isnull(r[\"text_x\"]) == True and pd.isnull(r[\"text_y\"]) == False:\n",
    "            text.append(r[\"text_y\"])\n",
    "        elif pd.isnull(r[\"text_y\"]) == True and pd.isnull(r[\"text_x\"]) == False:\n",
    "            text.append(r[\"text_x\"])\n",
    "        elif pd.isnull(r[\"text_y\"]) == False and pd.isnull(r[\"text_x\"]) == False:\n",
    "            text.append(r[\"text_x\"])\n",
    "        else:\n",
    "            continue\n",
    "    return text"
   ]
  },
  {
   "cell_type": "markdown",
   "id": "d0720750",
   "metadata": {},
   "source": [
    "## 1960"
   ]
  },
  {
   "cell_type": "code",
   "execution_count": 23,
   "id": "bcb36ad2",
   "metadata": {},
   "outputs": [],
   "source": [
    "DECADE = \"1960s\""
   ]
  },
  {
   "cell_type": "markdown",
   "id": "53b80e12",
   "metadata": {},
   "source": [
    "#### Oil"
   ]
  },
  {
   "cell_type": "code",
   "execution_count": null,
   "id": "386c44f9",
   "metadata": {},
   "outputs": [],
   "source": [
    "TYPE = \"oil\"\n",
    "DATA_NAME_1 = f\"{LABELER_1}_{DECADE}_{TYPE}_cleaned.csv\"\n",
    "DATA_NAME_2 = f\"{LABELER_2}_{DECADE}_{TYPE}_cleaned.csv\"\n",
    "DATA_1 = pd.read_csv(os.path.join(DATA_DIR, DATA_NAME_1))\n",
    "DATA_2 = pd.read_csv(os.path.join(DATA_DIR, DATA_NAME_2))\n",
    "merged = DATA_1.merge(DATA_2, how='inner', on=\"article_name\")\n",
    "res = merge_and_choose_labels(merged)\n",
    "merged[\"labels\"] = res\n",
    "merged = merged[merged[\"labels\"] != \"null\"]\n",
    "merged = merged[[\"text_x\", \"text_y\", \"labels_y\", \"labels_x\", \"labels\", \"date_x\", \"article_name\"]].reset_index()\n",
    "#res = sklearn.metrics.cohen_kappa_score(merged.labels_x, merged.labels_y)\n",
    "res = select_text(merged)\n",
    "merged[\"text\"] = res\n",
    "merged = merged[[\"text\", \"labels\", \"article_name\"]]\n",
    "merged.to_csv(os.path.join(DATA_DIR_MERGED, f\"{DECADE}_{TYPE}_merged.csv\"))"
   ]
  },
  {
   "cell_type": "markdown",
   "id": "0b77aa59",
   "metadata": {},
   "source": [
    "#### Gas"
   ]
  },
  {
   "cell_type": "code",
   "execution_count": 131,
   "id": "04fa0a94",
   "metadata": {},
   "outputs": [],
   "source": [
    "TYPE = \"gas\"\n",
    "DATA_NAME_1 = f\"{LABELER_1}_{DECADE}_{TYPE}_cleaned.csv\"\n",
    "DATA_NAME_2 = f\"{LABELER_2}_{DECADE}_{TYPE}_cleaned.csv\"\n",
    "DATA_1 = pd.read_csv(os.path.join(DATA_DIR, DATA_NAME_1))\n",
    "DATA_2 = pd.read_csv(os.path.join(DATA_DIR, DATA_NAME_2))\n",
    "merged = DATA_1.merge(DATA_2, how='inner', on=\"article_name\")\n",
    "res = merge_and_choose_labels(merged)\n",
    "merged[\"labels\"] = res\n",
    "merged = merged[merged[\"labels\"] != \"null\"]\n",
    "merged = merged[[\"text_x\", \"text_y\", \"labels_y\", \"labels_x\", \"labels\", \"date_x\", \"article_name\"]].reset_index()\n",
    "#res = sklearn.metrics.cohen_kappa_score(merged.labels_x, merged.labels_y)\n",
    "res = select_text(merged)\n",
    "merged[\"text\"] = res\n",
    "merged = merged[[\"text\", \"labels\", \"article_name\"]]\n",
    "merged.to_csv(os.path.join(DATA_DIR_MERGED, f\"{DECADE}_{TYPE}_merged.csv\"))"
   ]
  },
  {
   "cell_type": "markdown",
   "id": "074412d1",
   "metadata": {},
   "source": [
    "#### Coal"
   ]
  },
  {
   "cell_type": "code",
   "execution_count": 117,
   "id": "4ecc7d8b",
   "metadata": {},
   "outputs": [],
   "source": [
    "TYPE = \"coal\"\n",
    "DATA_NAME_1 = f\"{LABELER_1}_{DECADE}_{TYPE}_cleaned.csv\"\n",
    "DATA_NAME_2 = f\"{LABELER_2}_{DECADE}_{TYPE}_cleaned.csv\"\n",
    "DATA_1 = pd.read_csv(os.path.join(DATA_DIR, DATA_NAME_1))\n",
    "DATA_2 = pd.read_csv(os.path.join(DATA_DIR, DATA_NAME_2))\n",
    "merged = DATA_1.merge(DATA_2, how='inner', on=\"article_name\")\n",
    "res = merge_and_choose_labels(merged)\n",
    "merged[\"labels\"] = res\n",
    "merged = merged[merged[\"labels\"] != \"null\"]\n",
    "merged = merged[[\"text_x\", \"text_y\", \"labels_y\", \"labels_x\", \"labels\", \"date_x\", \"article_name\"]].reset_index()\n",
    "#res = sklearn.metrics.cohen_kappa_score(merged.labels_x, merged.labels_y)\n",
    "res = select_text(merged)\n",
    "merged[\"text\"] = res\n",
    "merged = merged[[\"text\", \"labels\", \"article_name\"]]\n",
    "merged.to_csv(os.path.join(DATA_DIR_MERGED, f\"{DECADE}_{TYPE}_merged.csv\"))"
   ]
  },
  {
   "cell_type": "markdown",
   "id": "722829e6",
   "metadata": {},
   "source": [
    "## 1970"
   ]
  },
  {
   "cell_type": "code",
   "execution_count": 129,
   "id": "380806a1",
   "metadata": {},
   "outputs": [],
   "source": [
    "DECADE = \"1970s\""
   ]
  },
  {
   "cell_type": "markdown",
   "id": "4a8dc97d",
   "metadata": {},
   "source": [
    "#### Oil"
   ]
  },
  {
   "cell_type": "code",
   "execution_count": 130,
   "id": "27f31822",
   "metadata": {},
   "outputs": [],
   "source": [
    "TYPE = \"oil\"\n",
    "DATA_NAME_1 = f\"{LABELER_1}_{DECADE}_{TYPE}_cleaned.csv\"\n",
    "DATA_NAME_2 = f\"{LABELER_2}_{DECADE}_{TYPE}_cleaned.csv\"\n",
    "DATA_1 = pd.read_csv(os.path.join(DATA_DIR, DATA_NAME_1))\n",
    "DATA_2 = pd.read_csv(os.path.join(DATA_DIR, DATA_NAME_2))\n",
    "merged = DATA_1.merge(DATA_2, how='outer', on=\"article_name\")\n",
    "res = merge_and_choose_labels(merged)\n",
    "merged[\"labels\"] = res\n",
    "merged = merged[merged[\"labels\"] != \"null\"]\n",
    "merged = merged[[\"text_x\", \"text_y\", \"labels_y\", \"labels_x\", \"labels\", \"date_x\", \"article_name\"]].reset_index()\n",
    "#res = sklearn.metrics.cohen_kappa_score(merged.labels_x, merged.labels_y)\n",
    "res = select_text(merged)\n",
    "merged[\"text\"] = res\n",
    "merged = merged[[\"text\", \"labels\", \"article_name\"]]\n",
    "merged.to_csv(os.path.join(DATA_DIR_MERGED, f\"{DECADE}_{TYPE}_merged.csv\"))"
   ]
  },
  {
   "cell_type": "markdown",
   "id": "aed0f34e",
   "metadata": {},
   "source": [
    "#### Gas"
   ]
  },
  {
   "cell_type": "code",
   "execution_count": 131,
   "id": "d9caf48f",
   "metadata": {},
   "outputs": [],
   "source": [
    "TYPE = \"gas\"\n",
    "DATA_NAME_1 = f\"{LABELER_1}_{DECADE}_{TYPE}_cleaned.csv\"\n",
    "DATA_NAME_2 = f\"{LABELER_2}_{DECADE}_{TYPE}_cleaned.csv\"\n",
    "DATA_1 = pd.read_csv(os.path.join(DATA_DIR, DATA_NAME_1))\n",
    "DATA_2 = pd.read_csv(os.path.join(DATA_DIR, DATA_NAME_2))\n",
    "merged = DATA_1.merge(DATA_2, how='inner', on=\"article_name\")\n",
    "res = merge_and_choose_labels(merged)\n",
    "merged[\"labels\"] = res\n",
    "merged = merged[merged[\"labels\"] != \"null\"]\n",
    "merged = merged[[\"text_x\", \"text_y\", \"labels_y\", \"labels_x\", \"labels\", \"date_x\", \"article_name\"]].reset_index()\n",
    "#res = sklearn.metrics.cohen_kappa_score(merged.labels_x, merged.labels_y)\n",
    "res = select_text(merged)\n",
    "merged[\"text\"] = res\n",
    "merged = merged[[\"text\", \"labels\", \"article_name\"]]\n",
    "merged.to_csv(os.path.join(DATA_DIR_MERGED, f\"{DECADE}_{TYPE}_merged.csv\"))"
   ]
  },
  {
   "cell_type": "markdown",
   "id": "2ee89c86",
   "metadata": {},
   "source": [
    "#### Coal"
   ]
  },
  {
   "cell_type": "code",
   "execution_count": 117,
   "id": "5897662b",
   "metadata": {},
   "outputs": [],
   "source": [
    "TYPE = \"coal\"\n",
    "DATA_NAME_1 = f\"{LABELER_1}_{DECADE}_{TYPE}_cleaned.csv\"\n",
    "DATA_NAME_2 = f\"{LABELER_2}_{DECADE}_{TYPE}_cleaned.csv\"\n",
    "DATA_1 = pd.read_csv(os.path.join(DATA_DIR, DATA_NAME_1))\n",
    "DATA_2 = pd.read_csv(os.path.join(DATA_DIR, DATA_NAME_2))\n",
    "merged = DATA_1.merge(DATA_2, how='inner', on=\"article_name\")\n",
    "res = merge_and_choose_labels(merged)\n",
    "merged[\"labels\"] = res\n",
    "merged = merged[merged[\"labels\"] != \"null\"]\n",
    "merged = merged[[\"text_x\", \"text_y\", \"labels_y\", \"labels_x\", \"labels\", \"date_x\", \"article_name\"]].reset_index()\n",
    "#res = sklearn.metrics.cohen_kappa_score(merged.labels_x, merged.labels_y)\n",
    "res = select_text(merged)\n",
    "merged[\"text\"] = res\n",
    "merged = merged[[\"text\", \"labels\", \"article_name\"]]\n",
    "merged.to_csv(os.path.join(DATA_DIR_MERGED, f\"{DECADE}_{TYPE}_merged.csv\"))"
   ]
  },
  {
   "cell_type": "markdown",
   "id": "5e290edd",
   "metadata": {},
   "source": [
    "## 1980"
   ]
  },
  {
   "cell_type": "code",
   "execution_count": 118,
   "id": "9da7c283",
   "metadata": {},
   "outputs": [],
   "source": [
    "DECADE = \"1980s\""
   ]
  },
  {
   "cell_type": "markdown",
   "id": "1a5e7c12",
   "metadata": {},
   "source": [
    "#### Oil"
   ]
  },
  {
   "cell_type": "code",
   "execution_count": 119,
   "id": "3def6449",
   "metadata": {},
   "outputs": [],
   "source": [
    "TYPE = \"oil\"\n",
    "DATA_NAME_1 = f\"{LABELER_1}_{DECADE}_{TYPE}_cleaned.csv\"\n",
    "DATA_NAME_2 = f\"{LABELER_2}_{DECADE}_{TYPE}_cleaned.csv\"\n",
    "DATA_1 = pd.read_csv(os.path.join(DATA_DIR, DATA_NAME_1))\n",
    "DATA_2 = pd.read_csv(os.path.join(DATA_DIR, DATA_NAME_2))\n",
    "merged = DATA_1.merge(DATA_2, how='inner', on=\"article_name\")\n",
    "res = merge_and_choose_labels(merged)\n",
    "merged[\"labels\"] = res\n",
    "merged = merged[merged[\"labels\"] != \"null\"]\n",
    "merged = merged[[\"text_x\", \"text_y\", \"labels_y\", \"labels_x\", \"labels\", \"date_x\", \"article_name\"]].reset_index()\n",
    "#res = sklearn.metrics.cohen_kappa_score(merged.labels_x, merged.labels_y)\n",
    "res = select_text(merged)\n",
    "merged[\"text\"] = res\n",
    "merged = merged[[\"text\", \"labels\", \"article_name\"]]\n",
    "merged.to_csv(os.path.join(DATA_DIR_MERGED, f\"{DECADE}_{TYPE}_merged.csv\"))"
   ]
  },
  {
   "cell_type": "markdown",
   "id": "670cad78",
   "metadata": {},
   "source": [
    "#### Gas"
   ]
  },
  {
   "cell_type": "code",
   "execution_count": 120,
   "id": "e0af00a1",
   "metadata": {},
   "outputs": [],
   "source": [
    "TYPE = \"gas\"\n",
    "DATA_NAME_1 = f\"{LABELER_1}_{DECADE}_{TYPE}_cleaned.csv\"\n",
    "DATA_NAME_2 = f\"{LABELER_2}_{DECADE}_{TYPE}_cleaned.csv\"\n",
    "DATA_1 = pd.read_csv(os.path.join(DATA_DIR, DATA_NAME_1))\n",
    "DATA_2 = pd.read_csv(os.path.join(DATA_DIR, DATA_NAME_2))\n",
    "merged = DATA_1.merge(DATA_2, how='inner', on=\"article_name\")\n",
    "res = merge_and_choose_labels(merged)\n",
    "merged[\"labels\"] = res\n",
    "merged = merged[merged[\"labels\"] != \"null\"]\n",
    "merged = merged[[\"text_x\", \"text_y\", \"labels_y\", \"labels_x\", \"labels\", \"date_x\", \"article_name\"]].reset_index()\n",
    "#res = sklearn.metrics.cohen_kappa_score(merged.labels_x, merged.labels_y)\n",
    "res = select_text(merged)\n",
    "merged[\"text\"] = res\n",
    "merged = merged[[\"text\", \"labels\", \"article_name\"]]\n",
    "merged.to_csv(os.path.join(DATA_DIR_MERGED, f\"{DECADE}_{TYPE}_merged.csv\"))"
   ]
  },
  {
   "cell_type": "markdown",
   "id": "84054985",
   "metadata": {},
   "source": [
    "#### Coal"
   ]
  },
  {
   "cell_type": "code",
   "execution_count": 121,
   "id": "0a52f7cd",
   "metadata": {},
   "outputs": [],
   "source": [
    "TYPE = \"coal\"\n",
    "DATA_NAME_1 = f\"{LABELER_1}_{DECADE}_{TYPE}_cleaned.csv\"\n",
    "DATA_NAME_2 = f\"{LABELER_2}_{DECADE}_{TYPE}_cleaned.csv\"\n",
    "DATA_1 = pd.read_csv(os.path.join(DATA_DIR, DATA_NAME_1))\n",
    "DATA_2 = pd.read_csv(os.path.join(DATA_DIR, DATA_NAME_2))\n",
    "merged = DATA_1.merge(DATA_2, how='inner', on=\"article_name\")\n",
    "res = merge_and_choose_labels(merged)\n",
    "merged[\"labels\"] = res\n",
    "merged = merged[merged[\"labels\"] != \"null\"]\n",
    "merged = merged[[\"text_x\", \"text_y\", \"labels_y\", \"labels_x\", \"labels\", \"date_x\", \"article_name\"]].reset_index()\n",
    "#res = sklearn.metrics.cohen_kappa_score(merged.labels_x, merged.labels_y)\n",
    "res = select_text(merged)\n",
    "merged[\"text\"] = res\n",
    "merged = merged[[\"text\", \"labels\", \"article_name\"]]\n",
    "merged.to_csv(os.path.join(DATA_DIR_MERGED, f\"{DECADE}_{TYPE}_merged.csv\"))"
   ]
  },
  {
   "cell_type": "markdown",
   "id": "7857f029",
   "metadata": {},
   "source": [
    "## 1990"
   ]
  },
  {
   "cell_type": "code",
   "execution_count": 122,
   "id": "69035da2",
   "metadata": {},
   "outputs": [],
   "source": [
    "DECADE = \"1990s\""
   ]
  },
  {
   "cell_type": "markdown",
   "id": "015c7abb",
   "metadata": {},
   "source": [
    "#### Oil"
   ]
  },
  {
   "cell_type": "code",
   "execution_count": 123,
   "id": "0ef09c2a",
   "metadata": {},
   "outputs": [],
   "source": [
    "TYPE = \"oil\"\n",
    "DATA_NAME_1 = f\"{LABELER_1}_{DECADE}_{TYPE}_cleaned.csv\"\n",
    "DATA_NAME_2 = f\"{LABELER_2}_{DECADE}_{TYPE}_cleaned.csv\"\n",
    "DATA_1 = pd.read_csv(os.path.join(DATA_DIR, DATA_NAME_1))\n",
    "DATA_2 = pd.read_csv(os.path.join(DATA_DIR, DATA_NAME_2))\n",
    "merged = DATA_1.merge(DATA_2, how='inner', on=\"article_name\")\n",
    "res = merge_and_choose_labels(merged)\n",
    "merged[\"labels\"] = res\n",
    "merged = merged[merged[\"labels\"] != \"null\"]\n",
    "merged = merged[[\"text_x\", \"text_y\", \"labels_y\", \"labels_x\", \"labels\", \"date_x\", \"article_name\"]].reset_index()\n",
    "#res = sklearn.metrics.cohen_kappa_score(merged.labels_x, merged.labels_y)\n",
    "res = select_text(merged)\n",
    "merged[\"text\"] = res\n",
    "merged = merged[[\"text\", \"labels\", \"article_name\"]]\n",
    "merged.to_csv(os.path.join(DATA_DIR_MERGED, f\"{DECADE}_{TYPE}_merged.csv\"))"
   ]
  },
  {
   "cell_type": "markdown",
   "id": "3e4db209",
   "metadata": {},
   "source": [
    "#### Gas"
   ]
  },
  {
   "cell_type": "code",
   "execution_count": 124,
   "id": "6e78bb0d",
   "metadata": {},
   "outputs": [],
   "source": [
    "TYPE = \"gas\"\n",
    "DATA_NAME_1 = f\"{LABELER_1}_{DECADE}_{TYPE}_cleaned.csv\"\n",
    "DATA_NAME_2 = f\"{LABELER_2}_{DECADE}_{TYPE}_cleaned.csv\"\n",
    "DATA_1 = pd.read_csv(os.path.join(DATA_DIR, DATA_NAME_1))\n",
    "DATA_2 = pd.read_csv(os.path.join(DATA_DIR, DATA_NAME_2))\n",
    "merged = DATA_1.merge(DATA_2, how='inner', on=\"article_name\")\n",
    "res = merge_and_choose_labels(merged)\n",
    "merged[\"labels\"] = res\n",
    "merged = merged[merged[\"labels\"] != \"null\"]\n",
    "merged = merged[[\"text_x\", \"text_y\", \"labels_y\", \"labels_x\", \"labels\", \"date_x\", \"article_name\"]].reset_index()\n",
    "#res = sklearn.metrics.cohen_kappa_score(merged.labels_x, merged.labels_y)\n",
    "res = select_text(merged)\n",
    "merged[\"text\"] = res\n",
    "merged = merged[[\"text\", \"labels\", \"article_name\"]]\n",
    "merged.to_csv(os.path.join(DATA_DIR_MERGED, f\"{DECADE}_{TYPE}_merged.csv\"))"
   ]
  },
  {
   "cell_type": "markdown",
   "id": "632f63ee",
   "metadata": {},
   "source": [
    "#### Coal"
   ]
  },
  {
   "cell_type": "code",
   "execution_count": 125,
   "id": "7d61bc6e",
   "metadata": {},
   "outputs": [],
   "source": [
    "TYPE = \"coal\"\n",
    "DATA_NAME_1 = f\"{LABELER_1}_{DECADE}_{TYPE}_cleaned.csv\"\n",
    "DATA_NAME_2 = f\"{LABELER_2}_{DECADE}_{TYPE}_cleaned.csv\"\n",
    "DATA_1 = pd.read_csv(os.path.join(DATA_DIR, DATA_NAME_1))\n",
    "DATA_2 = pd.read_csv(os.path.join(DATA_DIR, DATA_NAME_2))\n",
    "merged = DATA_1.merge(DATA_2, how='inner', on=\"article_name\")\n",
    "res = merge_and_choose_labels(merged)\n",
    "merged[\"labels\"] = res\n",
    "merged = merged[merged[\"labels\"] != \"null\"]\n",
    "merged = merged[[\"text_x\", \"text_y\", \"labels_y\", \"labels_x\", \"labels\", \"date_x\", \"article_name\"]].reset_index()\n",
    "#res = sklearn.metrics.cohen_kappa_score(merged.labels_x, merged.labels_y)\n",
    "res = select_text(merged)\n",
    "merged[\"text\"] = res\n",
    "merged = merged[[\"text\", \"labels\", \"article_name\"]]\n",
    "merged.to_csv(os.path.join(DATA_DIR_MERGED, f\"{DECADE}_{TYPE}_merged.csv\"))"
   ]
  },
  {
   "cell_type": "markdown",
   "id": "91fd893d",
   "metadata": {},
   "source": [
    "---"
   ]
  },
  {
   "cell_type": "code",
   "execution_count": null,
   "id": "fdf6c9f6",
   "metadata": {},
   "outputs": [],
   "source": []
  }
 ],
 "metadata": {
  "kernelspec": {
   "display_name": "histaware-NidRwJ64-py3.8",
   "language": "python",
   "name": "histaware-nidrwj64-py3.8"
  },
  "language_info": {
   "codemirror_mode": {
    "name": "ipython",
    "version": 3
   },
   "file_extension": ".py",
   "mimetype": "text/x-python",
   "name": "python",
   "nbconvert_exporter": "python",
   "pygments_lexer": "ipython3",
   "version": "3.8.5"
  }
 },
 "nbformat": 4,
 "nbformat_minor": 5
}
