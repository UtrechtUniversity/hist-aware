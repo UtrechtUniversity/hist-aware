{
 "cells": [
  {
   "cell_type": "markdown",
   "id": "3e84f72b",
   "metadata": {},
   "source": [
    "# Merge labeled data for kappa scoring"
   ]
  },
  {
   "cell_type": "code",
   "execution_count": 126,
   "id": "e0f8eb82",
   "metadata": {},
   "outputs": [],
   "source": [
    "import os\n",
    "\n",
    "import pandas as pd\n",
    "\n",
    "import sklearn\n",
    "import sklearn.metrics"
   ]
  },
  {
   "cell_type": "code",
   "execution_count": 127,
   "id": "dc895cf8",
   "metadata": {},
   "outputs": [],
   "source": [
    "DATA_DIR = \"/home/leonardovida/dev/hist-aware/notebooks/data/labeled-full/split_labeled/cleaned\"\n",
    "DATA_DIR_MERGED = \"/home/leonardovida/dev/hist-aware/notebooks/data/labeled-full/split_labeled/merged\"\n",
    "\n",
    "LABELER_1 = \"marin\"\n",
    "LABELER_2 = \"edo\""
   ]
  },
  {
   "cell_type": "code",
   "execution_count": 128,
   "id": "af85f6cc",
   "metadata": {},
   "outputs": [],
   "source": [
    "# if 0 and 1 -> 0 if 1 and 2 ->\n",
    "# Prefer extremes than averages\n",
    "def merge_and_choose_labels(df):\n",
    "    labels = []\n",
    "    for i, r in df.iterrows():        \n",
    "        if pd.isna(r[\"labels_x\"]) == False and pd.isna(r[\"labels_y\"]) == False:\n",
    "            if r[\"labels_x\"] == 0 and r[\"labels_y\"] == 1:\n",
    "                labels.append(0)\n",
    "            elif r[\"labels_x\"] == 1 and r[\"labels_y\"] == 0:\n",
    "                labels.append(0)\n",
    "            elif r[\"labels_x\"] == 1 and r[\"labels_y\"] == 2:\n",
    "                labels.append(2)\n",
    "            elif r[\"labels_x\"] == 2 and r[\"labels_y\"] == 1:\n",
    "                labels.append(2)\n",
    "            elif r[\"labels_x\"] == 2 and r[\"labels_y\"] == 2:\n",
    "                labels.append(2)\n",
    "            elif r[\"labels_x\"] == 1 and r[\"labels_y\"] == 1:\n",
    "                labels.append(1)\n",
    "            elif r[\"labels_x\"] == 0 and r[\"labels_y\"] == 0:\n",
    "                labels.append(0)\n",
    "            elif r[\"labels_x\"] == 0 and r[\"labels_y\"] == 2:\n",
    "                labels.append(\"null\")\n",
    "            elif r[\"labels_x\"] == 2 and r[\"labels_y\"] == 0:\n",
    "                labels.append(\"null\")\n",
    "            else:\n",
    "                print(\"error\")\n",
    "        else:\n",
    "            if pd.isna(r[\"labels_x\"]) == True:\n",
    "                labels.append(int(r[\"labels_y\"]))\n",
    "            if pd.isna(r[\"labels_y\"]) == True:\n",
    "                labels.append(int(r[\"labels_x\"]))\n",
    "    return(labels)\n",
    "\n",
    "def select_text(df):\n",
    "    text = []\n",
    "    for i, r in df.iterrows():\n",
    "        if pd.isnull(r[\"text_x\"]) == True and pd.isnull(r[\"text_y\"]) == False:\n",
    "            text.append(r[\"text_y\"])\n",
    "        elif pd.isnull(r[\"text_y\"]) == True and pd.isnull(r[\"text_x\"]) == False:\n",
    "            text.append(r[\"text_x\"])\n",
    "        elif pd.isnull(r[\"text_y\"]) == False and pd.isnull(r[\"text_x\"]) == False:\n",
    "            text.append(r[\"text_x\"])\n",
    "        else:\n",
    "            continue\n",
    "    return text"
   ]
  },
  {
   "cell_type": "markdown",
   "id": "84d5cce7",
   "metadata": {},
   "source": [
    "## 1970"
   ]
  },
  {
   "cell_type": "code",
   "execution_count": 129,
   "id": "ce1f2b3f",
   "metadata": {},
   "outputs": [],
   "source": [
    "DECADE = \"1970s\""
   ]
  },
  {
   "cell_type": "markdown",
   "id": "11de320b",
   "metadata": {},
   "source": [
    "#### Oil"
   ]
  },
  {
   "cell_type": "code",
   "execution_count": 130,
   "id": "2f5206ac",
   "metadata": {},
   "outputs": [],
   "source": [
    "TYPE = \"oil\"\n",
    "DATA_NAME_1 = f\"{LABELER_1}_{DECADE}_{TYPE}_cleaned.csv\"\n",
    "DATA_NAME_2 = f\"{LABELER_2}_{DECADE}_{TYPE}_cleaned.csv\"\n",
    "DATA_1 = pd.read_csv(os.path.join(DATA_DIR, DATA_NAME_1))\n",
    "DATA_2 = pd.read_csv(os.path.join(DATA_DIR, DATA_NAME_2))\n",
    "merged = DATA_1.merge(DATA_2, how='outer', on=\"article_name\")\n",
    "res = merge_and_choose_labels(merged)\n",
    "merged[\"labels\"] = res\n",
    "merged = merged[merged[\"labels\"] != \"null\"]\n",
    "merged = merged[[\"text_x\", \"text_y\", \"labels_y\", \"labels_x\", \"labels\", \"date_x\", \"article_name\"]].reset_index()\n",
    "#res = sklearn.metrics.cohen_kappa_score(merged.labels_x, merged.labels_y)\n",
    "res = select_text(merged)\n",
    "merged[\"text\"] = res\n",
    "merged = merged[[\"text\", \"labels\", \"article_name\"]]\n",
    "merged.to_csv(os.path.join(DATA_DIR_MERGED, f\"{DECADE}_{TYPE}_merged.csv\"))"
   ]
  },
  {
   "cell_type": "markdown",
   "id": "2e6a94a1",
   "metadata": {},
   "source": [
    "#### Gas"
   ]
  },
  {
   "cell_type": "code",
   "execution_count": 131,
   "id": "49dbb798",
   "metadata": {},
   "outputs": [],
   "source": [
    "TYPE = \"gas\"\n",
    "DATA_NAME_1 = f\"{LABELER_1}_{DECADE}_{TYPE}_cleaned.csv\"\n",
    "DATA_NAME_2 = f\"{LABELER_2}_{DECADE}_{TYPE}_cleaned.csv\"\n",
    "DATA_1 = pd.read_csv(os.path.join(DATA_DIR, DATA_NAME_1))\n",
    "DATA_2 = pd.read_csv(os.path.join(DATA_DIR, DATA_NAME_2))\n",
    "merged = DATA_1.merge(DATA_2, how='inner', on=\"article_name\")\n",
    "res = merge_and_choose_labels(merged)\n",
    "merged[\"labels\"] = res\n",
    "merged = merged[merged[\"labels\"] != \"null\"]\n",
    "merged = merged[[\"text_x\", \"text_y\", \"labels_y\", \"labels_x\", \"labels\", \"date_x\", \"article_name\"]].reset_index()\n",
    "#res = sklearn.metrics.cohen_kappa_score(merged.labels_x, merged.labels_y)\n",
    "res = select_text(merged)\n",
    "merged[\"text\"] = res\n",
    "merged = merged[[\"text\", \"labels\", \"article_name\"]]\n",
    "merged.to_csv(os.path.join(DATA_DIR_MERGED, f\"{DECADE}_{TYPE}_merged.csv\"))"
   ]
  },
  {
   "cell_type": "markdown",
   "id": "e1dbd268",
   "metadata": {},
   "source": [
    "#### Coal"
   ]
  },
  {
   "cell_type": "code",
   "execution_count": 117,
   "id": "c71a95d7",
   "metadata": {},
   "outputs": [],
   "source": [
    "TYPE = \"coal\"\n",
    "DATA_NAME_1 = f\"{LABELER_1}_{DECADE}_{TYPE}_cleaned.csv\"\n",
    "DATA_NAME_2 = f\"{LABELER_2}_{DECADE}_{TYPE}_cleaned.csv\"\n",
    "DATA_1 = pd.read_csv(os.path.join(DATA_DIR, DATA_NAME_1))\n",
    "DATA_2 = pd.read_csv(os.path.join(DATA_DIR, DATA_NAME_2))\n",
    "merged = DATA_1.merge(DATA_2, how='inner', on=\"article_name\")\n",
    "res = merge_and_choose_labels(merged)\n",
    "merged[\"labels\"] = res\n",
    "merged = merged[merged[\"labels\"] != \"null\"]\n",
    "merged = merged[[\"text_x\", \"text_y\", \"labels_y\", \"labels_x\", \"labels\", \"date_x\", \"article_name\"]].reset_index()\n",
    "#res = sklearn.metrics.cohen_kappa_score(merged.labels_x, merged.labels_y)\n",
    "res = select_text(merged)\n",
    "merged[\"text\"] = res\n",
    "merged = merged[[\"text\", \"labels\", \"article_name\"]]\n",
    "merged.to_csv(os.path.join(DATA_DIR_MERGED, f\"{DECADE}_{TYPE}_merged.csv\"))"
   ]
  },
  {
   "cell_type": "markdown",
   "id": "c77d3abb",
   "metadata": {},
   "source": [
    "## 1980"
   ]
  },
  {
   "cell_type": "code",
   "execution_count": 118,
   "id": "2189b700",
   "metadata": {},
   "outputs": [],
   "source": [
    "DECADE = \"1980s\""
   ]
  },
  {
   "cell_type": "markdown",
   "id": "0fdb74a9",
   "metadata": {},
   "source": [
    "#### Oil"
   ]
  },
  {
   "cell_type": "code",
   "execution_count": 119,
   "id": "e82ccb4c",
   "metadata": {},
   "outputs": [],
   "source": [
    "TYPE = \"oil\"\n",
    "DATA_NAME_1 = f\"{LABELER_1}_{DECADE}_{TYPE}_cleaned.csv\"\n",
    "DATA_NAME_2 = f\"{LABELER_2}_{DECADE}_{TYPE}_cleaned.csv\"\n",
    "DATA_1 = pd.read_csv(os.path.join(DATA_DIR, DATA_NAME_1))\n",
    "DATA_2 = pd.read_csv(os.path.join(DATA_DIR, DATA_NAME_2))\n",
    "merged = DATA_1.merge(DATA_2, how='inner', on=\"article_name\")\n",
    "res = merge_and_choose_labels(merged)\n",
    "merged[\"labels\"] = res\n",
    "merged = merged[merged[\"labels\"] != \"null\"]\n",
    "merged = merged[[\"text_x\", \"text_y\", \"labels_y\", \"labels_x\", \"labels\", \"date_x\", \"article_name\"]].reset_index()\n",
    "#res = sklearn.metrics.cohen_kappa_score(merged.labels_x, merged.labels_y)\n",
    "res = select_text(merged)\n",
    "merged[\"text\"] = res\n",
    "merged = merged[[\"text\", \"labels\", \"article_name\"]]\n",
    "merged.to_csv(os.path.join(DATA_DIR_MERGED, f\"{DECADE}_{TYPE}_merged.csv\"))"
   ]
  },
  {
   "cell_type": "markdown",
   "id": "5421d424",
   "metadata": {},
   "source": [
    "#### Gas"
   ]
  },
  {
   "cell_type": "code",
   "execution_count": 120,
   "id": "3ec50439",
   "metadata": {},
   "outputs": [],
   "source": [
    "TYPE = \"gas\"\n",
    "DATA_NAME_1 = f\"{LABELER_1}_{DECADE}_{TYPE}_cleaned.csv\"\n",
    "DATA_NAME_2 = f\"{LABELER_2}_{DECADE}_{TYPE}_cleaned.csv\"\n",
    "DATA_1 = pd.read_csv(os.path.join(DATA_DIR, DATA_NAME_1))\n",
    "DATA_2 = pd.read_csv(os.path.join(DATA_DIR, DATA_NAME_2))\n",
    "merged = DATA_1.merge(DATA_2, how='inner', on=\"article_name\")\n",
    "res = merge_and_choose_labels(merged)\n",
    "merged[\"labels\"] = res\n",
    "merged = merged[merged[\"labels\"] != \"null\"]\n",
    "merged = merged[[\"text_x\", \"text_y\", \"labels_y\", \"labels_x\", \"labels\", \"date_x\", \"article_name\"]].reset_index()\n",
    "#res = sklearn.metrics.cohen_kappa_score(merged.labels_x, merged.labels_y)\n",
    "res = select_text(merged)\n",
    "merged[\"text\"] = res\n",
    "merged = merged[[\"text\", \"labels\", \"article_name\"]]\n",
    "merged.to_csv(os.path.join(DATA_DIR_MERGED, f\"{DECADE}_{TYPE}_merged.csv\"))"
   ]
  },
  {
   "cell_type": "markdown",
   "id": "3c9c23bc",
   "metadata": {},
   "source": [
    "#### Coal"
   ]
  },
  {
   "cell_type": "code",
   "execution_count": 121,
   "id": "3be916d7",
   "metadata": {},
   "outputs": [],
   "source": [
    "TYPE = \"coal\"\n",
    "DATA_NAME_1 = f\"{LABELER_1}_{DECADE}_{TYPE}_cleaned.csv\"\n",
    "DATA_NAME_2 = f\"{LABELER_2}_{DECADE}_{TYPE}_cleaned.csv\"\n",
    "DATA_1 = pd.read_csv(os.path.join(DATA_DIR, DATA_NAME_1))\n",
    "DATA_2 = pd.read_csv(os.path.join(DATA_DIR, DATA_NAME_2))\n",
    "merged = DATA_1.merge(DATA_2, how='inner', on=\"article_name\")\n",
    "res = merge_and_choose_labels(merged)\n",
    "merged[\"labels\"] = res\n",
    "merged = merged[merged[\"labels\"] != \"null\"]\n",
    "merged = merged[[\"text_x\", \"text_y\", \"labels_y\", \"labels_x\", \"labels\", \"date_x\", \"article_name\"]].reset_index()\n",
    "#res = sklearn.metrics.cohen_kappa_score(merged.labels_x, merged.labels_y)\n",
    "res = select_text(merged)\n",
    "merged[\"text\"] = res\n",
    "merged = merged[[\"text\", \"labels\", \"article_name\"]]\n",
    "merged.to_csv(os.path.join(DATA_DIR_MERGED, f\"{DECADE}_{TYPE}_merged.csv\"))"
   ]
  },
  {
   "cell_type": "markdown",
   "id": "83552bb9",
   "metadata": {},
   "source": [
    "## 1990"
   ]
  },
  {
   "cell_type": "code",
   "execution_count": 122,
   "id": "2818f00e",
   "metadata": {},
   "outputs": [],
   "source": [
    "DECADE = \"1990s\""
   ]
  },
  {
   "cell_type": "markdown",
   "id": "ed159478",
   "metadata": {},
   "source": [
    "#### Oil"
   ]
  },
  {
   "cell_type": "code",
   "execution_count": 123,
   "id": "48816cd6",
   "metadata": {},
   "outputs": [],
   "source": [
    "TYPE = \"oil\"\n",
    "DATA_NAME_1 = f\"{LABELER_1}_{DECADE}_{TYPE}_cleaned.csv\"\n",
    "DATA_NAME_2 = f\"{LABELER_2}_{DECADE}_{TYPE}_cleaned.csv\"\n",
    "DATA_1 = pd.read_csv(os.path.join(DATA_DIR, DATA_NAME_1))\n",
    "DATA_2 = pd.read_csv(os.path.join(DATA_DIR, DATA_NAME_2))\n",
    "merged = DATA_1.merge(DATA_2, how='inner', on=\"article_name\")\n",
    "res = merge_and_choose_labels(merged)\n",
    "merged[\"labels\"] = res\n",
    "merged = merged[merged[\"labels\"] != \"null\"]\n",
    "merged = merged[[\"text_x\", \"text_y\", \"labels_y\", \"labels_x\", \"labels\", \"date_x\", \"article_name\"]].reset_index()\n",
    "#res = sklearn.metrics.cohen_kappa_score(merged.labels_x, merged.labels_y)\n",
    "res = select_text(merged)\n",
    "merged[\"text\"] = res\n",
    "merged = merged[[\"text\", \"labels\", \"article_name\"]]\n",
    "merged.to_csv(os.path.join(DATA_DIR_MERGED, f\"{DECADE}_{TYPE}_merged.csv\"))"
   ]
  },
  {
   "cell_type": "markdown",
   "id": "90d758db",
   "metadata": {},
   "source": [
    "#### Gas"
   ]
  },
  {
   "cell_type": "code",
   "execution_count": 124,
   "id": "935ac4f2",
   "metadata": {},
   "outputs": [],
   "source": [
    "TYPE = \"gas\"\n",
    "DATA_NAME_1 = f\"{LABELER_1}_{DECADE}_{TYPE}_cleaned.csv\"\n",
    "DATA_NAME_2 = f\"{LABELER_2}_{DECADE}_{TYPE}_cleaned.csv\"\n",
    "DATA_1 = pd.read_csv(os.path.join(DATA_DIR, DATA_NAME_1))\n",
    "DATA_2 = pd.read_csv(os.path.join(DATA_DIR, DATA_NAME_2))\n",
    "merged = DATA_1.merge(DATA_2, how='inner', on=\"article_name\")\n",
    "res = merge_and_choose_labels(merged)\n",
    "merged[\"labels\"] = res\n",
    "merged = merged[merged[\"labels\"] != \"null\"]\n",
    "merged = merged[[\"text_x\", \"text_y\", \"labels_y\", \"labels_x\", \"labels\", \"date_x\", \"article_name\"]].reset_index()\n",
    "#res = sklearn.metrics.cohen_kappa_score(merged.labels_x, merged.labels_y)\n",
    "res = select_text(merged)\n",
    "merged[\"text\"] = res\n",
    "merged = merged[[\"text\", \"labels\", \"article_name\"]]\n",
    "merged.to_csv(os.path.join(DATA_DIR_MERGED, f\"{DECADE}_{TYPE}_merged.csv\"))"
   ]
  },
  {
   "cell_type": "markdown",
   "id": "2aec0555",
   "metadata": {},
   "source": [
    "#### Coal"
   ]
  },
  {
   "cell_type": "code",
   "execution_count": 125,
   "id": "6e5bdcda",
   "metadata": {},
   "outputs": [],
   "source": [
    "TYPE = \"coal\"\n",
    "DATA_NAME_1 = f\"{LABELER_1}_{DECADE}_{TYPE}_cleaned.csv\"\n",
    "DATA_NAME_2 = f\"{LABELER_2}_{DECADE}_{TYPE}_cleaned.csv\"\n",
    "DATA_1 = pd.read_csv(os.path.join(DATA_DIR, DATA_NAME_1))\n",
    "DATA_2 = pd.read_csv(os.path.join(DATA_DIR, DATA_NAME_2))\n",
    "merged = DATA_1.merge(DATA_2, how='inner', on=\"article_name\")\n",
    "res = merge_and_choose_labels(merged)\n",
    "merged[\"labels\"] = res\n",
    "merged = merged[merged[\"labels\"] != \"null\"]\n",
    "merged = merged[[\"text_x\", \"text_y\", \"labels_y\", \"labels_x\", \"labels\", \"date_x\", \"article_name\"]].reset_index()\n",
    "#res = sklearn.metrics.cohen_kappa_score(merged.labels_x, merged.labels_y)\n",
    "res = select_text(merged)\n",
    "merged[\"text\"] = res\n",
    "merged = merged[[\"text\", \"labels\", \"article_name\"]]\n",
    "merged.to_csv(os.path.join(DATA_DIR_MERGED, f\"{DECADE}_{TYPE}_merged.csv\"))"
   ]
  },
  {
   "cell_type": "markdown",
   "id": "fc6ccb7d",
   "metadata": {},
   "source": [
    "---"
   ]
  },
  {
   "cell_type": "code",
   "execution_count": null,
   "id": "71d2dfb8",
   "metadata": {},
   "outputs": [],
   "source": []
  }
 ],
 "metadata": {
  "kernelspec": {
   "display_name": "histaware-NidRwJ64-py3.8",
   "language": "python",
   "name": "histaware-nidrwj64-py3.8"
  },
  "language_info": {
   "codemirror_mode": {
    "name": "ipython",
    "version": 3
   },
   "file_extension": ".py",
   "mimetype": "text/x-python",
   "name": "python",
   "nbconvert_exporter": "python",
   "pygments_lexer": "ipython3",
   "version": "3.8.5"
  }
 },
 "nbformat": 4,
 "nbformat_minor": 5
}
