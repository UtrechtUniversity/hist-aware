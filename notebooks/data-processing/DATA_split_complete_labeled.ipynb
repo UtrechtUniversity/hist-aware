{
 "cells": [
  {
   "cell_type": "markdown",
   "metadata": {},
   "source": [
    "# Take labeled data from Label studio and split into 3 cateogories"
   ]
  },
  {
   "cell_type": "code",
   "execution_count": 9,
   "metadata": {},
   "outputs": [],
   "source": [
    "import pandas as pd\n",
    "import numpy as np\n",
    "import os"
   ]
  },
  {
   "cell_type": "code",
   "execution_count": 11,
   "metadata": {},
   "outputs": [
    {
     "data": {
      "text/plain": [
       "854"
      ]
     },
     "execution_count": 11,
     "metadata": {},
     "output_type": "execute_result"
    }
   ],
   "source": [
    "DATA_DIR = \"/Users/leonardovida/dev/hist-aware/notebooks/data/labeled\"\n",
    "DATA_NAME = \"sentiment_1960_marin.csv\"\n",
    "df = pd.read_csv(os.path.join(DATA_DIR, DATA_NAME))\n",
    "len(df)"
   ]
  },
  {
   "cell_type": "code",
   "execution_count": 12,
   "metadata": {
    "tags": []
   },
   "outputs": [
    {
     "data": {
      "text/plain": [
       "839"
      ]
     },
     "execution_count": 12,
     "metadata": {},
     "output_type": "execute_result"
    }
   ],
   "source": [
    "# Filter articles that are not energy\n",
    "df = df[df.energy == \"Y\"]\n",
    "len(df)"
   ]
  },
  {
   "cell_type": "code",
   "execution_count": 13,
   "metadata": {},
   "outputs": [],
   "source": [
    "df_coal = df[pd.isnull(df.sentiment_coal) == False].copy()\n",
    "df_oil = df[pd.isnull(df.sentiment_oil) == False].copy()\n",
    "df_gas = df[pd.isnull(df.sentiment_gas) == False].copy()"
   ]
  },
  {
   "cell_type": "code",
   "execution_count": 14,
   "metadata": {},
   "outputs": [
    {
     "name": "stdout",
     "output_type": "stream",
     "text": [
      "258\n",
      "397\n",
      "433\n"
     ]
    }
   ],
   "source": [
    "print(len(df_coal))\n",
    "print(len(df_oil))\n",
    "print(len(df_gas))"
   ]
  },
  {
   "cell_type": "markdown",
   "metadata": {},
   "source": [
    "### Rename and eliminate columns"
   ]
  },
  {
   "cell_type": "code",
   "execution_count": 15,
   "metadata": {},
   "outputs": [],
   "source": [
    "df_coal.rename(columns = {\"sentiment\" : \"accuracy_selection\", \"sentiment_coal\" :\"sentiment\"}, inplace=True)\n",
    "df_coal.drop([\"sentiment_oil\", \"sentiment_gas\"], axis=1, inplace=True)\n",
    "\n",
    "df_oil.rename(columns = {\"sentiment\" : \"accuracy_selection\", \"sentiment_oil\" :\"sentiment\"}, inplace=True)\n",
    "df_oil.drop([\"sentiment_coal\", \"sentiment_gas\"], axis=1, inplace=True)\n",
    "\n",
    "df_gas.rename(columns = {\"sentiment\" : \"accuracy_selection\", \"sentiment_gas\" :\"sentiment\"}, inplace=True)\n",
    "df_gas.drop([\"sentiment_oil\", \"sentiment_coal\"], axis=1, inplace=True)"
   ]
  },
  {
   "cell_type": "code",
   "execution_count": 16,
   "metadata": {},
   "outputs": [],
   "source": [
    "df_coal.to_csv(os.path.join(DATA_DIR, \"marin_1960s_coal.csv\"))\n",
    "df_oil.to_csv(os.path.join(DATA_DIR, \"marin_1960s_oil.csv\"))\n",
    "df_gas.to_csv(os.path.join(DATA_DIR, \"marin_1960s_gas.csv\"))"
   ]
  },
  {
   "cell_type": "code",
   "execution_count": null,
   "metadata": {},
   "outputs": [],
   "source": []
  }
 ],
 "metadata": {
  "kernelspec": {
   "display_name": "Python 3",
   "language": "python",
   "name": "python3"
  },
  "language_info": {
   "codemirror_mode": {
    "name": "ipython",
    "version": 3
   },
   "file_extension": ".py",
   "mimetype": "text/x-python",
   "name": "python",
   "nbconvert_exporter": "python",
   "pygments_lexer": "ipython3",
   "version": "3.8.5"
  }
 },
 "nbformat": 4,
 "nbformat_minor": 5
}
