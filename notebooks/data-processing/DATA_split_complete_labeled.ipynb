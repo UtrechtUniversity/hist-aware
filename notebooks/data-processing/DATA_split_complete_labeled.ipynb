{
 "cells": [
  {
   "cell_type": "markdown",
   "id": "6f5f7a4a",
   "metadata": {},
   "source": [
    "# Take labeled data from Label studio and split into 3 cateogories"
   ]
  },
  {
   "cell_type": "code",
   "execution_count": 1,
   "id": "127c28e2",
   "metadata": {},
   "outputs": [],
   "source": [
    "import pandas as pd\n",
    "import numpy as np\n",
    "import os"
   ]
  },
  {
   "cell_type": "markdown",
   "id": "f7890f68",
   "metadata": {},
   "source": [
    "Setup here the name of the labeler, the decade of the labeling and the data directory"
   ]
  },
  {
   "cell_type": "code",
   "execution_count": 2,
   "id": "c42ae689",
   "metadata": {},
   "outputs": [],
   "source": [
    "DATA_DIR = \"~/data/volume_1/delphbert-results/7-labeled-data/labeled-full/original_labeled\"\n",
    "DECADE = \"1960s\"\n",
    "LABELER = \"marin\"\n",
    "DATA_NAME = f\"{DECADE}_{LABELER}.csv\"\n",
    "\n",
    "df = pd.read_csv(os.path.join(DATA_DIR, DATA_NAME))"
   ]
  },
  {
   "cell_type": "code",
   "execution_count": 3,
   "id": "8f4f47ad",
   "metadata": {},
   "outputs": [],
   "source": [
    "# Filter articles that are not energy\n",
    "df = df[df.energy == \"Y\"]\n",
    "\n",
    "# Eliminate nulls\n",
    "df_coal = df[pd.isnull(df.sentiment_coal) == False].copy()\n",
    "df_oil = df[pd.isnull(df.sentiment_oil) == False].copy()\n",
    "df_gas = df[pd.isnull(df.sentiment_gas) == False].copy()"
   ]
  },
  {
   "cell_type": "markdown",
   "id": "ded7c0b2",
   "metadata": {},
   "source": [
    "### Rename and eliminate columns"
   ]
  },
  {
   "cell_type": "code",
   "execution_count": 4,
   "id": "3032b90c",
   "metadata": {},
   "outputs": [],
   "source": [
    "df_coal.rename(columns = {\"sentiment\" : \"accuracy_selection\", \"sentiment_coal\" :\"sentiment\"}, inplace=True)\n",
    "df_coal.drop([\"sentiment_oil\", \"sentiment_gas\"], axis=1, inplace=True)\n",
    "\n",
    "df_oil.rename(columns = {\"sentiment\" : \"accuracy_selection\", \"sentiment_oil\" :\"sentiment\"}, inplace=True)\n",
    "df_oil.drop([\"sentiment_coal\", \"sentiment_gas\"], axis=1, inplace=True)\n",
    "\n",
    "df_gas.rename(columns = {\"sentiment\" : \"accuracy_selection\", \"sentiment_gas\" :\"sentiment\"}, inplace=True)\n",
    "df_gas.drop([\"sentiment_oil\", \"sentiment_coal\"], axis=1, inplace=True)"
   ]
  },
  {
   "cell_type": "code",
   "execution_count": 5,
   "id": "ebac655e",
   "metadata": {},
   "outputs": [],
   "source": [
    "DATA_DIR = \"~/data/volume_1/delphbert-results/7-labeled-data/labeled-full/split_labeled/uncleaned\"\n",
    "df_coal.to_csv(os.path.join(DATA_DIR, f\"{LABELER}_{DECADE}_coal.csv\"))\n",
    "df_oil.to_csv(os.path.join(DATA_DIR, f\"{LABELER}_{DECADE}_oil.csv\"))\n",
    "df_gas.to_csv(os.path.join(DATA_DIR, f\"{LABELER}_{DECADE}_gas.csv\"))"
   ]
  },
  {
   "cell_type": "markdown",
   "id": "f22d82f2",
   "metadata": {},
   "source": [
    "---"
   ]
  },
  {
   "cell_type": "code",
   "execution_count": null,
   "id": "5d13ccbf",
   "metadata": {},
   "outputs": [],
   "source": []
  }
 ],
 "metadata": {
  "kernelspec": {
   "display_name": "Python 3",
   "language": "python",
   "name": "python3"
  },
  "language_info": {
   "codemirror_mode": {
    "name": "ipython",
    "version": 3
   },
   "file_extension": ".py",
   "mimetype": "text/x-python",
   "name": "python",
   "nbconvert_exporter": "python",
   "pygments_lexer": "ipython3",
   "version": "3.8.5"
  }
 },
 "nbformat": 4,
 "nbformat_minor": 5
}
