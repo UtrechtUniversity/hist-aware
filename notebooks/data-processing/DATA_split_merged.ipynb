{
 "cells": [
  {
   "cell_type": "markdown",
   "id": "282a2761",
   "metadata": {},
   "source": [
    "# Split merged clean label files"
   ]
  },
  {
   "cell_type": "code",
   "execution_count": 33,
   "id": "6e3f5922",
   "metadata": {},
   "outputs": [],
   "source": [
    "import os\n",
    "\n",
    "import pandas as pd\n",
    "\n",
    "%matplotlib inline\n",
    "%config InlineBackend.figure_format='retina'\n",
    "\n",
    "import math\n",
    "from collections import defaultdict\n",
    "from textwrap import wrap\n",
    "import numpy as np\n",
    "\n",
    "import pandas as pd\n",
    "import seaborn as sns\n",
    "from pylab import rcParams\n",
    "import matplotlib.pyplot as plt\n",
    "from matplotlib import rc\n",
    "\n",
    "import nltk.data\n",
    "from nltk.tokenize import sent_tokenize\n",
    "from nltk.corpus import alpino\n",
    "\n",
    "sent_detector = nltk.data.load('tokenizers/punkt/dutch.pickle')"
   ]
  },
  {
   "cell_type": "code",
   "execution_count": 34,
   "id": "bbb76fc2",
   "metadata": {},
   "outputs": [],
   "source": [
    "sns.set(style='whitegrid', palette='muted', font_scale=1.2)\n",
    "HAPPY_COLORS_PALETTE = [\"#01BEFE\", \"#FFDD00\", \"#FF7D00\", \"#FF006D\", \"#ADFF02\", \"#8F00FF\"]\n",
    "sns.set_palette(sns.color_palette(HAPPY_COLORS_PALETTE))\n",
    "rcParams['figure.figsize'] = 12, 8\n",
    "RANDOM_SEED = 42\n",
    "np.random.seed(RANDOM_SEED)"
   ]
  },
  {
   "cell_type": "code",
   "execution_count": 35,
   "id": "ef0189f5",
   "metadata": {},
   "outputs": [],
   "source": [
    "DATA_DIR = \"~/data/volume_1/delphbert-results/7-labeled-data/labeled-full/split_labeled/merged\"\n",
    "SAVE_DIR = \"~/data/volume_1/delphbert-results/7-labeled-data/labeled-full/split_labeled/merged_split\"\n",
    "PRE_TRAINED_MODEL_NAME = 'wietsedv/bert-base-dutch-cased'"
   ]
  },
  {
   "cell_type": "markdown",
   "id": "ccebbb84",
   "metadata": {},
   "source": [
    "### Create Tokenizer"
   ]
  },
  {
   "cell_type": "code",
   "execution_count": 36,
   "id": "9598840d",
   "metadata": {},
   "outputs": [],
   "source": [
    "import unicodedata\n",
    "\n",
    "class BasicTokenizer(object):\n",
    "    \"\"\"Runs basic tokenization (punctuation splitting, lower casing, etc.).\"\"\"\n",
    "\n",
    "    def __init__(self, do_lower_case=False):\n",
    "        \"\"\"Constructs a BasicTokenizer.\n",
    "        Args:\n",
    "          do_lower_case: Whether to lower case the input.\n",
    "        \"\"\"\n",
    "        self.do_lower_case = do_lower_case\n",
    "\n",
    "    def tokenize(self, text, return_str=False):\n",
    "        \"\"\"Tokenizes a piece of text.\"\"\"\n",
    "        text = self._clean_text(text)\n",
    "\n",
    "        orig_tokens = text.strip().split()\n",
    "        split_tokens = []\n",
    "        for token in orig_tokens:\n",
    "            if self.do_lower_case:\n",
    "                token = token.lower()\n",
    "                token = self._run_strip_accents(token)\n",
    "            split_tokens.extend(self._run_split_on_punc(token))\n",
    "\n",
    "        return split_tokens\n",
    "\n",
    "    def _run_strip_accents(self, text):\n",
    "        \"\"\"Strips accents from a piece of text.\"\"\"\n",
    "        text = unicodedata.normalize(\"NFD\", text)\n",
    "        output = []\n",
    "        for char in text:\n",
    "            cat = unicodedata.category(char)\n",
    "            if cat == \"Mn\":\n",
    "                continue\n",
    "            output.append(char)\n",
    "        return \"\".join(output)\n",
    "\n",
    "    def _run_split_on_punc(self, text):\n",
    "        \"\"\"Splits punctuation on a piece of text.\"\"\"\n",
    "        chars = list(text)\n",
    "        i = 0\n",
    "        start_new_word = True\n",
    "        output = []\n",
    "        while i < len(chars):\n",
    "            char = chars[i]\n",
    "            if _is_punctuation(char):\n",
    "                output.append([char])\n",
    "                start_new_word = True\n",
    "            else:\n",
    "                if start_new_word:\n",
    "                    output.append([])\n",
    "                start_new_word = False\n",
    "                output[-1].append(char)\n",
    "            i += 1\n",
    "\n",
    "        return [\"\".join(x) for x in output]\n",
    "\n",
    "    def _clean_text(self, text):\n",
    "        \"\"\"Performs invalid character removal and whitespace cleanup on text.\"\"\"\n",
    "        output = []\n",
    "        for char in text:\n",
    "            cp = ord(char)\n",
    "            if cp == 0 or cp == 0xfffd or _is_control(char):\n",
    "                continue\n",
    "            if _is_whitespace(char):\n",
    "                output.append(\" \")\n",
    "            else:\n",
    "                output.append(char)\n",
    "        return \"\".join(output)\n",
    "\n",
    "\n",
    "def _is_whitespace(char):\n",
    "    \"\"\"Checks whether `chars` is a whitespace character.\"\"\"\n",
    "    # \\t, \\n, and \\r are technically contorl characters but we treat them\n",
    "    # as whitespace since they are generally considered as such.\n",
    "    if char == \" \" or char == \"\\t\" or char == \"\\n\" or char == \"\\r\":\n",
    "        return True\n",
    "    cat = unicodedata.category(char)\n",
    "    if cat == \"Zs\":\n",
    "        return True\n",
    "    return False\n",
    "\n",
    "\n",
    "def _is_control(char):\n",
    "    \"\"\"Checks whether `chars` is a control character.\"\"\"\n",
    "    # These are technically control characters but we count them as whitespace\n",
    "    # characters.\n",
    "    if char == \"\\t\" or char == \"\\n\" or char == \"\\r\":\n",
    "        return False\n",
    "    cat = unicodedata.category(char)\n",
    "    if cat in (\"Cc\", \"Cf\"):\n",
    "        return True\n",
    "    return False\n",
    "\n",
    "\n",
    "def _is_punctuation(char):\n",
    "    \"\"\"Checks whether `chars` is a punctuation character.\"\"\"\n",
    "    cp = ord(char)\n",
    "    # We treat all non-letter/number ASCII as punctuation.\n",
    "    # Characters such as \"^\", \"$\", and \"`\" are not in the Unicode\n",
    "    # Punctuation class but we treat them as punctuation anyways, for\n",
    "    # consistency.\n",
    "    if ((cp >= 33 and cp <= 47) or (cp >= 58 and cp <= 64) or\n",
    "            (cp >= 91 and cp <= 96) or (cp >= 123 and cp <= 126)):\n",
    "        return True\n",
    "    cat = unicodedata.category(char)\n",
    "    return cat.startswith(\"P\")\n"
   ]
  },
  {
   "cell_type": "code",
   "execution_count": 37,
   "id": "624a1a59",
   "metadata": {},
   "outputs": [],
   "source": [
    "tokenizer = BasicTokenizer()"
   ]
  },
  {
   "cell_type": "markdown",
   "id": "fd3dcafb",
   "metadata": {},
   "source": [
    "### Split text and explode new"
   ]
  },
  {
   "cell_type": "code",
   "execution_count": 38,
   "id": "27dfa0f4",
   "metadata": {},
   "outputs": [],
   "source": [
    "def split_text(r):\n",
    "    out = []\n",
    "    sents = sent_detector.tokenize(r)\n",
    "    sents = [' '.join(tokenizer.tokenize(s)) for s in sents if len(s)>80]\n",
    "    return sents\n",
    "\n",
    "def apply_split_text(df):\n",
    "    df[\"text_split\"] = df[\"text\"].apply(split_text)\n",
    "    df.text_split.replace([], np.nan, inplace=True)\n",
    "    df.dropna(subset=['text_split'], inplace=True)\n",
    "    # Cancel all text_split == 0\n",
    "    df.drop(df[df.text_split.map(len) == 0].index, inplace=True)\n",
    "    return df"
   ]
  },
  {
   "cell_type": "code",
   "execution_count": 39,
   "id": "f6d3bd14",
   "metadata": {},
   "outputs": [
    {
     "name": "stdout",
     "output_type": "stream",
     "text": [
      "(258, 4)\n",
      "(258, 5)\n",
      "(2629, 5)\n",
      "(433, 4)\n",
      "(433, 5)\n",
      "(3546, 5)\n",
      "(397, 4)\n",
      "(397, 5)\n",
      "(4216, 5)\n"
     ]
    }
   ],
   "source": [
    "DECADES = [\"1960s\"]\n",
    "TYPES = [\"coal\", \"gas\", \"oil\"]\n",
    "\n",
    "for DECADE in DECADES:\n",
    "    for TYPE in TYPES:\n",
    "        name = f\"{DECADE}_{TYPE}_merged.csv\"\n",
    "        df = pd.read_csv(os.path.join(DATA_DIR, name))\n",
    "        print(df.shape)\n",
    "        df = apply_split_text(df)\n",
    "        print(df.shape)\n",
    "        df = df.explode('text_split')\n",
    "        print(df.shape)\n",
    "        df.to_csv(os.path.join(SAVE_DIR, f\"{DECADE}_{TYPE}_merged_split.csv\"))"
   ]
  },
  {
   "cell_type": "code",
   "execution_count": null,
   "id": "2b452943",
   "metadata": {},
   "outputs": [],
   "source": []
  }
 ],
 "metadata": {
  "kernelspec": {
   "display_name": "histaware-NidRwJ64-py3.8",
   "language": "python",
   "name": "histaware-nidrwj64-py3.8"
  },
  "language_info": {
   "codemirror_mode": {
    "name": "ipython",
    "version": 3
   },
   "file_extension": ".py",
   "mimetype": "text/x-python",
   "name": "python",
   "nbconvert_exporter": "python",
   "pygments_lexer": "ipython3",
   "version": "3.8.5"
  }
 },
 "nbformat": 4,
 "nbformat_minor": 5
}
