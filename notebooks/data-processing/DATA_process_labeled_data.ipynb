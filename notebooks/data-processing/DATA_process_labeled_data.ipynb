{
 "cells": [
  {
   "cell_type": "markdown",
   "metadata": {},
   "source": [
    "# Process selected labeled data and create DFs"
   ]
  },
  {
   "cell_type": "code",
   "execution_count": 1,
   "metadata": {},
   "outputs": [],
   "source": [
    "import os\n",
    "\n",
    "import pandas as pd\n",
    "\n",
    "%matplotlib inline\n",
    "%config InlineBackend.figure_format='retina'\n",
    "\n",
    "import math\n",
    "from collections import defaultdict\n",
    "from textwrap import wrap\n",
    "import numpy as np\n",
    "\n",
    "import pandas as pd\n",
    "import seaborn as sns\n",
    "from pylab import rcParams\n",
    "import matplotlib.pyplot as plt\n",
    "from matplotlib import rc\n",
    "\n",
    "import nltk.data\n",
    "from nltk.tokenize import sent_tokenize\n",
    "from nltk.corpus import alpino"
   ]
  },
  {
   "cell_type": "code",
   "execution_count": 2,
   "metadata": {},
   "outputs": [],
   "source": [
    "sns.set(style='whitegrid', palette='muted', font_scale=1.2)\n",
    "HAPPY_COLORS_PALETTE = [\"#01BEFE\", \"#FFDD00\", \"#FF7D00\", \"#FF006D\", \"#ADFF02\", \"#8F00FF\"]\n",
    "sns.set_palette(sns.color_palette(HAPPY_COLORS_PALETTE))\n",
    "rcParams['figure.figsize'] = 12, 8\n",
    "RANDOM_SEED = 42\n",
    "np.random.seed(RANDOM_SEED)"
   ]
  },
  {
   "cell_type": "code",
   "execution_count": 3,
   "metadata": {},
   "outputs": [],
   "source": [
    "DATA_DIR = \"~/dev/hist-aware/notebooks/data/labeled\"\n",
    "PRE_TRAINED_MODEL_NAME = 'wietsedv/bert-base-dutch-cased'"
   ]
  },
  {
   "cell_type": "markdown",
   "metadata": {},
   "source": [
    "## Load csv"
   ]
  },
  {
   "cell_type": "code",
   "execution_count": 36,
   "metadata": {},
   "outputs": [],
   "source": [
    "list_cols = ['sentiment', 'text', 'energy', 'article_filepath', 'article_name', 'count', 'date', 'dir', 'index_article', 'index_metadata', 'metadata_filepath',\n",
    "                    'newspaper_publisher', 'newspaper_title', 'newspaper_volume', \n",
    "             'newspaper_issuenumber', 'text_clean', 'type']\n",
    "list_cols_1960 = ['sentiment', 'text', 'energy', 'article_filepath', 'article_name', 'count', 'date', 'dir_x', 'index_article', 'index_metadata', 'metadata_filepath',\n",
    "                    'newspaper_publisher', 'newspaper_title', 'newspaper_volume', \n",
    "             'newspaper_issuenumber', 'text_clean', 'subject']"
   ]
  },
  {
   "cell_type": "code",
   "execution_count": 37,
   "metadata": {},
   "outputs": [],
   "source": [
    "def clean_individual_df(df):\n",
    "    \"\"\"Function to clean df after concat\"\"\"\n",
    "    df.text.replace('', np.nan, inplace=True)\n",
    "    df.dropna(subset=['text'], inplace=True)\n",
    "    df.rename(columns = {\"sentiment\": \"labels\"}, inplace=True)\n",
    "    df.labels.replace('', np.nan, inplace=True)\n",
    "    df.dropna(subset=['labels'], inplace=True)\n",
    "\n",
    "    df = df[df.energy == \"Y\"]\n",
    "    df = df[df.labels != None]\n",
    "    \n",
    "    # Substitute categorical to numerical labels\n",
    "    cleanup_sentiment = {\"labels\": {\"VN\": 1, \"NG\": 2, \"NE\": 3, \"PO\": 4, \"VP\": 5}}\n",
    "    df = df.replace(cleanup_sentiment)\n",
    "    \n",
    "    # Squeeze from 5 to 3 labels\n",
    "    def to_sentiment(rating):\n",
    "        rating = int(rating)\n",
    "        if rating <= 2:\n",
    "            return 0  # NEGATIVE\n",
    "        elif rating == 3: \n",
    "            return 1 # NEUTRAL\n",
    "        else:\n",
    "            return 2 # POSITIVE\n",
    "\n",
    "    df['labels'] = df.labels.apply(to_sentiment)\n",
    "    return df\n",
    "\n",
    "def clean_df(df):\n",
    "    \"\"\"Function to clean df after concat\"\"\"\n",
    "    df.text.replace('', np.nan, inplace=True)\n",
    "    df.dropna(subset=['text'], inplace=True)\n",
    "    df.labels.replace('', np.nan, inplace=True)\n",
    "    df.dropna(subset=['labels'], inplace=True)\n",
    "    return df"
   ]
  },
  {
   "cell_type": "markdown",
   "metadata": {},
   "source": [
    "### Gas"
   ]
  },
  {
   "cell_type": "code",
   "execution_count": 41,
   "metadata": {
    "tags": []
   },
   "outputs": [],
   "source": [
    "gas_1960 = pd.read_csv(os.path.join(DATA_DIR, \"marin_1960s_gas.csv\"))\n",
    "gas_1970 = pd.read_csv(os.path.join(DATA_DIR, \"edo_1970s_gas.csv\"))\n",
    "gas_1980 = pd.read_csv(os.path.join(DATA_DIR, \"edo_1980s_gas.csv\"))\n",
    "gas_1990 = pd.read_csv(os.path.join(DATA_DIR, \"edo_1990s_gas.csv\"))\n",
    "\n",
    "gas_1960 = gas_1960[list_cols_1960]\n",
    "gas_1960.rename(columns = {\"dir_x\": \"dir\", \"subject\": \"type\"}, inplace = True)\n",
    "gas_1970 = gas_1970[list_cols]\n",
    "gas_1970 = clean_individual_df(gas_1970)\n",
    "gas_1980 = gas_1980[list_cols]\n",
    "gas_1980 = clean_individual_df(gas_1980)\n",
    "gas_1990 = gas_1990[list_cols]\n",
    "gas_1990 = clean_individual_df(gas_1990)\n",
    "\n",
    "# Save back to csv cleaned\n",
    "gas_1970.to_csv(os.path.join(DATA_DIR, \"edo_1970s_gas_cleaned.csv\"))\n",
    "gas_1980.to_csv(os.path.join(DATA_DIR, \"edo_1980s_gas_cleaned.csv\"))\n",
    "gas_1990.to_csv(os.path.join(DATA_DIR, \"edo_1990s_gas_cleaned.csv\"))\n",
    "\n",
    "gas = gas_1960.append(gas_1970, ignore_index=True)\n",
    "gas = gas.append(gas_1980, ignore_index=True)\n",
    "gas = gas.append(gas_1990, ignore_index=True)\n",
    "gas = gas[gas.energy == \"Y\"]\n",
    "gas = gas[gas.labels != None]\n",
    "gas = clean_df(gas)"
   ]
  },
  {
   "cell_type": "code",
   "execution_count": 25,
   "id": "0274695e",
   "metadata": {},
   "outputs": [
    {
     "data": {
      "text/html": [
       "<div>\n",
       "<style scoped>\n",
       "    .dataframe tbody tr th:only-of-type {\n",
       "        vertical-align: middle;\n",
       "    }\n",
       "\n",
       "    .dataframe tbody tr th {\n",
       "        vertical-align: top;\n",
       "    }\n",
       "\n",
       "    .dataframe thead th {\n",
       "        text-align: right;\n",
       "    }\n",
       "</style>\n",
       "<table border=\"1\" class=\"dataframe\">\n",
       "  <thead>\n",
       "    <tr style=\"text-align: right;\">\n",
       "      <th></th>\n",
       "      <th>labels</th>\n",
       "      <th>text</th>\n",
       "      <th>energy</th>\n",
       "      <th>article_filepath</th>\n",
       "      <th>article_name</th>\n",
       "      <th>count</th>\n",
       "      <th>date</th>\n",
       "      <th>dir</th>\n",
       "      <th>index_article</th>\n",
       "      <th>index_metadata</th>\n",
       "      <th>metadata_filepath</th>\n",
       "      <th>newspaper_language</th>\n",
       "      <th>newspaper_publisher</th>\n",
       "      <th>newspaper_source</th>\n",
       "      <th>newspaper_title</th>\n",
       "      <th>newspaper_volume</th>\n",
       "      <th>newspaper_issuenumber</th>\n",
       "      <th>newspaper_city</th>\n",
       "      <th>text_clean</th>\n",
       "      <th>type</th>\n",
       "    </tr>\n",
       "  </thead>\n",
       "  <tbody>\n",
       "    <tr>\n",
       "      <th>0</th>\n",
       "      <td>2</td>\n",
       "      <td>Dit jaar is het precies 200 jaar geleden dat v...</td>\n",
       "      <td>Y</td>\n",
       "      <td>/Users/leonardovida/dev/HistAware/data/raw/del...</td>\n",
       "      <td>DDD_010559878_0088_articletext.xml</td>\n",
       "      <td>11</td>\n",
       "      <td>1992-01-27</td>\n",
       "      <td>/Users/leonardovida/dev/HistAware/data/raw/del...</td>\n",
       "      <td>1699050</td>\n",
       "      <td>4340.0</td>\n",
       "      <td>/Users/leonardovida/dev/HistAware/data/raw/del...</td>\n",
       "      <td>nl</td>\n",
       "      <td>Stichting Nederlands Dagblad</td>\n",
       "      <td>Nederlands Dagblad</td>\n",
       "      <td>Nederlands dagblad : gereformeerd gezinsblad /...</td>\n",
       "      <td>48.0</td>\n",
       "      <td>11999.0</td>\n",
       "      <td>Amersfoort</td>\n",
       "      <td>dit jaar is het precies jaar geleden dat voor ...</td>\n",
       "      <td>p</td>\n",
       "    </tr>\n",
       "  </tbody>\n",
       "</table>\n",
       "</div>"
      ],
      "text/plain": [
       "   labels                                               text energy  \\\n",
       "0       2  Dit jaar is het precies 200 jaar geleden dat v...      Y   \n",
       "\n",
       "                                    article_filepath  \\\n",
       "0  /Users/leonardovida/dev/HistAware/data/raw/del...   \n",
       "\n",
       "                         article_name  count        date  \\\n",
       "0  DDD_010559878_0088_articletext.xml     11  1992-01-27   \n",
       "\n",
       "                                                 dir  index_article  \\\n",
       "0  /Users/leonardovida/dev/HistAware/data/raw/del...        1699050   \n",
       "\n",
       "   index_metadata                                  metadata_filepath  \\\n",
       "0          4340.0  /Users/leonardovida/dev/HistAware/data/raw/del...   \n",
       "\n",
       "  newspaper_language           newspaper_publisher    newspaper_source  \\\n",
       "0                 nl  Stichting Nederlands Dagblad  Nederlands Dagblad   \n",
       "\n",
       "                                     newspaper_title  newspaper_volume  \\\n",
       "0  Nederlands dagblad : gereformeerd gezinsblad /...              48.0   \n",
       "\n",
       "   newspaper_issuenumber newspaper_city  \\\n",
       "0                11999.0     Amersfoort   \n",
       "\n",
       "                                          text_clean type  \n",
       "0  dit jaar is het precies jaar geleden dat voor ...    p  "
      ]
     },
     "execution_count": 25,
     "metadata": {},
     "output_type": "execute_result"
    }
   ],
   "source": [
    "#Check\n",
    "#gas_1980.head(1)\n",
    "gas_1990.head(1)"
   ]
  },
  {
   "cell_type": "markdown",
   "metadata": {},
   "source": [
    "### Oil"
   ]
  },
  {
   "cell_type": "code",
   "execution_count": 44,
   "metadata": {},
   "outputs": [],
   "source": [
    "oil_1960 = pd.read_csv(os.path.join(DATA_DIR, \"marin_1960s_oil.csv\"))\n",
    "oil_1970 = pd.read_csv(os.path.join(DATA_DIR, \"edo_1970s_oil.csv\"))\n",
    "oil_1980 = pd.read_csv(os.path.join(DATA_DIR, \"edo_1980s_oil.csv\"))\n",
    "oil_1990 = pd.read_csv(os.path.join(DATA_DIR, \"edo_1990s_oil.csv\"))\n",
    "\n",
    "oil_1960 = oil_1960[list_cols_1960]\n",
    "oil_1960.rename(columns = {\"dir_x\": \"dir\", \"subject\": \"type\"}, inplace = True)\n",
    "oil_1970 = oil_1970[list_cols]\n",
    "oil_1970 = clean_individual_df(oil_1970)\n",
    "oil_1980 = oil_1980[list_cols]\n",
    "oil_1980 = clean_individual_df(oil_1980)\n",
    "oil_1990 = oil_1990[list_cols]\n",
    "oil_1990 = clean_individual_df(oil_1990)\n",
    "\n",
    "# Save back to csv cleaned\n",
    "oil_1970.to_csv(os.path.join(DATA_DIR, \"edo_1970s_oil_cleaned.csv\"))\n",
    "oil_1980.to_csv(os.path.join(DATA_DIR, \"edo_1980s_oil_cleaned.csv\"))\n",
    "oil_1990.to_csv(os.path.join(DATA_DIR, \"edo_1990s_oil_cleaned.csv\"))\n",
    "\n",
    "oil = oil_1960.append(oil_1970, ignore_index=True)\n",
    "oil = oil.append(oil_1980, ignore_index=True)\n",
    "oil = oil.append(oil_1990, ignore_index=True)\n",
    "oil = oil[oil.energy == \"Y\"]\n",
    "oil = oil[oil.labels != None]\n",
    "oil = clean_df(oil)"
   ]
  },
  {
   "cell_type": "markdown",
   "metadata": {},
   "source": [
    "### Coal"
   ]
  },
  {
   "cell_type": "code",
   "execution_count": 45,
   "metadata": {},
   "outputs": [],
   "source": [
    "coal_1960 = pd.read_csv(os.path.join(DATA_DIR, \"marin_1960s_coal.csv\"))\n",
    "coal_1970 = pd.read_csv(os.path.join(DATA_DIR, \"edo_1970s_coal.csv\"))\n",
    "coal_1980 = pd.read_csv(os.path.join(DATA_DIR, \"edo_1980s_coal.csv\"))\n",
    "coal_1990 = pd.read_csv(os.path.join(DATA_DIR, \"edo_1990s_coal.csv\"))\n",
    "coal_1990.drop([\"sentiment_gas\", \"sentiment_oil\"], axis=1, inplace=True)\n",
    "coal_1990.rename(columns = {\"sentiment\": \"accuracy_selection\", \"sentiment_coal\": \"sentiment\"}, inplace=True)\n",
    "\n",
    "coal_1960 = coal_1960[list_cols_1960]\n",
    "coal_1960.rename(columns = {\"dir_x\": \"dir\", \"subject\": \"type\"}, inplace = True)\n",
    "coal_1970 = coal_1970[list_cols]\n",
    "coal_1970 = clean_individual_df(coal_1970)\n",
    "coal_1980 = coal_1980[list_cols]\n",
    "coal_1980 = clean_individual_df(coal_1980)\n",
    "coal_1990 = coal_1990[list_cols]\n",
    "coal_1990 = clean_individual_df(coal_1990)\n",
    "\n",
    "# Save back to csv cleaned\n",
    "coal_1970.to_csv(os.path.join(DATA_DIR, \"edo_1970s_coal_cleaned.csv\"))\n",
    "coal_1980.to_csv(os.path.join(DATA_DIR, \"edo_1980s_coal_cleaned.csv\"))\n",
    "coal_1990.to_csv(os.path.join(DATA_DIR, \"edo_1990s_coal_cleaned.csv\"))\n",
    "\n",
    "coal = coal_1960.append(coal_1970, ignore_index=True)\n",
    "coal = coal.append(coal_1980, ignore_index=True)\n",
    "coal = coal.append(coal_1990, ignore_index=True)\n",
    "coal = coal[coal.energy == \"Y\"]\n",
    "coal = coal[coal.labels != None]\n",
    "coal = clean_df(coal)"
   ]
  },
  {
   "cell_type": "markdown",
   "metadata": {},
   "source": [
    "### General df"
   ]
  },
  {
   "cell_type": "code",
   "execution_count": 46,
   "metadata": {},
   "outputs": [
    {
     "data": {
      "text/plain": [
       "(5007, 17)"
      ]
     },
     "execution_count": 46,
     "metadata": {},
     "output_type": "execute_result"
    }
   ],
   "source": [
    "df = pd.concat([gas, oil, coal], ignore_index=True)\n",
    "df = clean_df(df)\n",
    "df.shape"
   ]
  },
  {
   "cell_type": "markdown",
   "metadata": {},
   "source": [
    "## Fix labels"
   ]
  },
  {
   "cell_type": "code",
   "execution_count": 47,
   "metadata": {},
   "outputs": [],
   "source": [
    "cleanup_sentiment = {\"labels\": {\"VN\": 1, \"NG\": 2, \"NE\": 3, \"PO\": 4, \"VP\": 5}}\n",
    "oil = oil.replace(cleanup_sentiment)\n",
    "gas = gas.replace(cleanup_sentiment)\n",
    "coal = coal.replace(cleanup_sentiment)\n",
    "df = df.replace(cleanup_sentiment)"
   ]
  },
  {
   "cell_type": "code",
   "execution_count": 48,
   "metadata": {},
   "outputs": [],
   "source": [
    "#ax = sns.countplot(df.sentiment)\n",
    "#plt.xlabel('review sentiment')"
   ]
  },
  {
   "cell_type": "markdown",
   "metadata": {},
   "source": [
    "Reduce from 5 labels to 3 because of lack of labels"
   ]
  },
  {
   "cell_type": "code",
   "execution_count": 49,
   "metadata": {},
   "outputs": [],
   "source": [
    "def to_sentiment(rating):\n",
    "    rating = int(rating)\n",
    "    if rating <= 2:\n",
    "        return 0 # negative\n",
    "    elif rating == 3:\n",
    "        return 1 # neutral\n",
    "    else:\n",
    "        return 2 # Positive\n",
    "\n",
    "df['labels'] = df.labels.apply(to_sentiment)\n",
    "gas['labels'] = gas.labels.apply(to_sentiment)\n",
    "coal['labels'] = coal.labels.apply(to_sentiment)\n",
    "oil['labels'] = oil.labels.apply(to_sentiment)"
   ]
  },
  {
   "cell_type": "code",
   "execution_count": 50,
   "metadata": {},
   "outputs": [
    {
     "data": {
      "text/plain": [
       "Text(0.5, 0, 'review sentiment')"
      ]
     },
     "execution_count": 30,
     "metadata": {},
     "output_type": "execute_result"
    },
    {
     "data": {
      "image/png": "[encoded data removed]",
      "text/plain": [
       "<Figure size 864x576 with 1 Axes>"
      ]
     },
     "metadata": {
      "image/png": {
       "height": 489,
       "width": 745
      }
     },
     "output_type": "display_data"
    }
   ],
   "source": [
    "ax = sns.countplot(df.labels)\n",
    "plt.xlabel('review sentiment')"
   ]
  },
  {
   "cell_type": "markdown",
   "metadata": {},
   "source": [
    "### Split text and explode"
   ]
  },
  {
   "cell_type": "code",
   "execution_count": 52,
   "metadata": {},
   "outputs": [],
   "source": [
    "def unite(l, n):\n",
    "    \"\"\"Unite sentences previously split using nltk.tokenize.\"\"\"\n",
    "    count = []\n",
    "    chunks = []\n",
    "    sents = []\n",
    "    for s in l:\n",
    "        count.append(len(s.split()))\n",
    "    value = 0\n",
    "    prev_idx = 0\n",
    "    for i in range(0, len(count)):\n",
    "        if value == 0:\n",
    "            value = value + count[i]\n",
    "        elif (i+1 == len(count)):\n",
    "            chunks.append(l[prev_idx:i])\n",
    "            value = 0\n",
    "        elif value >= n:\n",
    "            chunks.append(l[prev_idx:i])\n",
    "            prev_idx = i\n",
    "            value = 0\n",
    "        else:\n",
    "             value = value + count[i]\n",
    "    for c in chunks:\n",
    "        sents.append(' '.join(c))\n",
    "    return(sents)"
   ]
  },
  {
   "cell_type": "code",
   "execution_count": 53,
   "metadata": {},
   "outputs": [],
   "source": [
    "def splitter(s, n):\n",
    "    \"\"\"Split sentences only using the number of words.\"\"\"\n",
    "    pieces = s.split()\n",
    "    return [\" \".join(pieces[i:i+n]) for i in range(0, len(pieces), n)]"
   ]
  },
  {
   "cell_type": "code",
   "execution_count": 54,
   "metadata": {},
   "outputs": [],
   "source": [
    "LEN_SENTS = 500\n",
    "def apply_split_text(df):\n",
    "    df[\"text_split\"] = df[\"text\"].apply(sent_tokenize)\n",
    "    df[\"text_split\"] = df[\"text_split\"].apply(unite, n = LEN_SENTS)\n",
    "    df[\"text_split_max_len\"] = df[\"text\"].apply(splitter, n = 500)\n",
    "    df.text_split.replace([], np.nan, inplace=True)\n",
    "    df.dropna(subset=['text_split'], inplace=True)\n",
    "    # Cancel all text_split == 0\n",
    "    df.drop(df[df.text_split.map(len) == 0].index, inplace=True)\n",
    "    # Currently not splitting the cleaned sentences\n",
    "    return df"
   ]
  },
  {
   "cell_type": "code",
   "execution_count": 55,
   "metadata": {},
   "outputs": [],
   "source": [
    "oil = apply_split_text(oil)\n",
    "gas = apply_split_text(gas)\n",
    "coal = apply_split_text(coal)\n",
    "df = apply_split_text(df)"
   ]
  },
  {
   "cell_type": "markdown",
   "metadata": {},
   "source": [
    "Explode the sentences that we created previously"
   ]
  },
  {
   "cell_type": "code",
   "execution_count": 69,
   "metadata": {},
   "outputs": [],
   "source": [
    "df = df.explode('text_split')\n",
    "gas = gas.explode('text_split')\n",
    "coal = coal.explode('text_split')\n",
    "oil = oil.explode('text_split')"
   ]
  },
  {
   "cell_type": "code",
   "execution_count": 71,
   "metadata": {},
   "outputs": [],
   "source": [
    "df.to_csv(os.path.join(DATA_DIR, \"labeled_energy_1960_1990.csv\"))\n",
    "gas.to_csv(os.path.join(DATA_DIR, \"labeled_gas_1960_1990.csv\"))\n",
    "coal.to_csv(os.path.join(DATA_DIR, \"labeled_coal_1960_1990.csv\"))\n",
    "oil.to_csv(os.path.join(DATA_DIR, \"labeled_oil_1960_1990.csv\"))"
   ]
  },
  {
   "cell_type": "markdown",
   "metadata": {},
   "source": [
    "---"
   ]
  },
  {
   "cell_type": "code",
   "execution_count": null,
   "metadata": {},
   "outputs": [],
   "source": []
  }
 ],
 "metadata": {
  "kernelspec": {
   "display_name": "histaware-RplM6c3o-py3.8",
   "language": "python",
   "name": "histaware-rplm6c3o-py3.8"
  },
  "language_info": {
   "codemirror_mode": {
    "name": "ipython",
    "version": 3
   },
   "file_extension": ".py",
   "mimetype": "text/x-python",
   "name": "python",
   "nbconvert_exporter": "python",
   "pygments_lexer": "ipython3",
   "version": "3.8.5"
  }
 },
 "nbformat": 4,
 "nbformat_minor": 5
}
