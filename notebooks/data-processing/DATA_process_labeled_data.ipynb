{
 "cells": [
  {
   "cell_type": "markdown",
   "id": "be0eb706",
   "metadata": {},
   "source": [
    "# Process selected labeled data and create DFs"
   ]
  },
  {
   "cell_type": "code",
   "execution_count": 8,
   "id": "cda16382",
   "metadata": {},
   "outputs": [],
   "source": [
    "import os\n",
    "\n",
    "import pandas as pd\n",
    "\n",
    "%matplotlib inline\n",
    "%config InlineBackend.figure_format='retina'\n",
    "\n",
    "import math\n",
    "from collections import defaultdict\n",
    "from textwrap import wrap\n",
    "import numpy as np\n",
    "\n",
    "import pandas as pd\n",
    "import seaborn as sns\n",
    "from pylab import rcParams\n",
    "import matplotlib.pyplot as plt\n",
    "from matplotlib import rc\n",
    "\n",
    "import nltk.data\n",
    "from nltk.tokenize import sent_tokenize\n",
    "from nltk.corpus import alpino\n",
    "\n",
    "sent_detector = nltk.data.load('tokenizers/punkt/dutch.pickle')"
   ]
  },
  {
   "cell_type": "code",
   "execution_count": 9,
   "id": "9230bf06",
   "metadata": {},
   "outputs": [],
   "source": [
    "sns.set(style='whitegrid', palette='muted', font_scale=1.2)\n",
    "HAPPY_COLORS_PALETTE = [\"#01BEFE\", \"#FFDD00\", \"#FF7D00\", \"#FF006D\", \"#ADFF02\", \"#8F00FF\"]\n",
    "sns.set_palette(sns.color_palette(HAPPY_COLORS_PALETTE))\n",
    "rcParams['figure.figsize'] = 12, 8\n",
    "RANDOM_SEED = 42\n",
    "np.random.seed(RANDOM_SEED)"
   ]
  },
  {
   "cell_type": "code",
   "execution_count": 1,
   "id": "136bcef8",
   "metadata": {},
   "outputs": [],
   "source": [
    "DATA_DIR = \"/home/leonardovida/dev/hist-aware/notebooks/data/labeled-full/split_labeled/merged\"\n",
    "SAVE_DIR = \"/home/leonardovida/dev/hist-aware/notebooks/data/labeled-full/split_labeled/merged_split\"\n",
    "PRE_TRAINED_MODEL_NAME = 'wietsedv/bert-base-dutch-cased'"
   ]
  },
  {
   "cell_type": "markdown",
   "id": "a10d4146",
   "metadata": {},
   "source": [
    "## Load csv"
   ]
  },
  {
   "cell_type": "code",
   "execution_count": 13,
   "id": "b0d40f9a",
   "metadata": {},
   "outputs": [],
   "source": [
    "list_cols = ['sentiment', 'text', 'energy', 'article_filepath', 'article_name', 'count', 'date', 'dir', 'index_article', 'index_metadata', 'metadata_filepath',\n",
    "                    'newspaper_publisher', 'newspaper_title', 'newspaper_volume', \n",
    "             'newspaper_issuenumber', 'text_clean', 'type']\n",
    "list_cols_1960 = ['sentiment', 'text', 'energy', 'article_filepath', 'article_name', 'count', 'date', 'dir_x', 'index_article', 'index_metadata', 'metadata_filepath',\n",
    "                    'newspaper_publisher', 'newspaper_title', 'newspaper_volume', \n",
    "             'newspaper_issuenumber', 'text_clean', 'subject']"
   ]
  },
  {
   "cell_type": "code",
   "execution_count": 17,
   "id": "426883a2",
   "metadata": {},
   "outputs": [],
   "source": [
    "def clean_individual_df(df):\n",
    "    \"\"\"Function to clean df after concat\"\"\"\n",
    "    df.text.replace('', np.nan, inplace=True)\n",
    "    df.dropna(subset=['text'], inplace=True)\n",
    "    df.rename(columns = {\"sentiment\": \"labels\"}, inplace=True)\n",
    "    df.labels.replace('', np.nan, inplace=True)\n",
    "    df.dropna(subset=['labels'], inplace=True)\n",
    "\n",
    "    df = df[df.energy == \"Y\"]\n",
    "    df = df[df.labels != None]\n",
    "    \n",
    "    # Substitute categorical to numerical labels\n",
    "    cleanup_sentiment = {\"labels\": {\"VN\": 1, \"NG\": 2, \"NE\": 3, \"PO\": 4, \"VP\": 5}}\n",
    "    df = df.replace(cleanup_sentiment)\n",
    "    \n",
    "    # Squeeze from 5 to 3 labels\n",
    "    def to_sentiment(rating):\n",
    "        rating = int(rating)\n",
    "        if rating <= 2:\n",
    "            return 0  # NEGATIVE\n",
    "        elif rating == 3: \n",
    "            return 1 # NEUTRAL\n",
    "        else:\n",
    "            return 2 # POSITIVE\n",
    "\n",
    "    df['labels'] = df.labels.apply(to_sentiment)\n",
    "    return df\n",
    "\n",
    "def clean_df(df):\n",
    "    \"\"\"Function to clean df after concat\"\"\"\n",
    "    df.text.replace('', np.nan, inplace=True)\n",
    "    df.dropna(subset=['text'], inplace=True)\n",
    "    df.labels.replace('', np.nan, inplace=True)\n",
    "    df.dropna(subset=['labels'], inplace=True)\n",
    "    return df"
   ]
  },
  {
   "cell_type": "markdown",
   "id": "9af5b962",
   "metadata": {},
   "source": [
    "### Gas"
   ]
  },
  {
   "cell_type": "code",
   "execution_count": 18,
   "id": "5166c187",
   "metadata": {
    "tags": []
   },
   "outputs": [],
   "source": [
    "# Load split labeled files\n",
    "gas_1960_marin = pd.read_csv(os.path.join(DATA_DIR, \"marin_1960s_gas.csv\"))\n",
    "gas_1970 = pd.read_csv(os.path.join(DATA_DIR, \"edo_1970s_gas.csv\"))\n",
    "gas_1970_marin = pd.read_csv(os.path.join(DATA_DIR, \"marin_1970s_gas.csv\"))\n",
    "gas_1980 = pd.read_csv(os.path.join(DATA_DIR, \"edo_1980s_gas.csv\"))\n",
    "gas_1980_marin = pd.read_csv(os.path.join(DATA_DIR, \"marin_1980s_gas.csv\"))\n",
    "gas_1990 = pd.read_csv(os.path.join(DATA_DIR, \"edo_1990s_gas.csv\"))\n",
    "gas_1990_marin = pd.read_csv(os.path.join(DATA_DIR, \"marin_1990s_gas.csv\"))\n",
    "\n",
    "# Clean columns\n",
    "gas_1960_marin = gas_1960_marin[list_cols_1960]\n",
    "gas_1960_marin.rename(columns = {\"dir_x\": \"dir\", \"subject\": \"type\"}, inplace = True)\n",
    "gas_1970 = gas_1970[list_cols]\n",
    "gas_1970 = clean_individual_df(gas_1970)\n",
    "gas_1970_marin = gas_1970_marin[list_cols]\n",
    "gas_1970_marin = clean_individual_df(gas_1970_marin)\n",
    "gas_1980 = gas_1980[list_cols]\n",
    "gas_1980 = clean_individual_df(gas_1980)\n",
    "gas_1980_marin = gas_1980_marin[list_cols]\n",
    "gas_1980_marin = clean_individual_df(gas_1980_marin)\n",
    "gas_1990 = gas_1990[list_cols]\n",
    "gas_1990 = clean_individual_df(gas_1990)\n",
    "gas_1990_marin = gas_1990_marin[list_cols]\n",
    "gas_1990_marin = clean_individual_df(gas_1990_marin)\n",
    "\n",
    "# Save back to cleaned csv\n",
    "gas_1960_marin.to_csv(os.path.join(DATA_DIR, \"marin_1960s_gas_cleaned.csv\"))\n",
    "gas_1970.to_csv(os.path.join(DATA_DIR, \"edo_1970s_gas_cleaned.csv\"))\n",
    "gas_1970_marin.to_csv(os.path.join(DATA_DIR, \"marin_1970s_gas_cleaned.csv\"))\n",
    "gas_1980.to_csv(os.path.join(DATA_DIR, \"edo_1980s_gas_cleaned.csv\"))\n",
    "gas_1980_marin.to_csv(os.path.join(DATA_DIR, \"marin_1980s_gas_cleaned.csv\"))\n",
    "gas_1990.to_csv(os.path.join(DATA_DIR, \"edo_1990s_gas_cleaned.csv\"))\n",
    "gas_1990_marin.to_csv(os.path.join(DATA_DIR, \"marin_1990s_gas_cleaned.csv\"))\n",
    "\n",
    "# Create complete gas df\n",
    "gas = pd.concat([gas_1960_marin, gas_1970, gas_1970_marin, gas_1980, gas_1980_marin,\n",
    "                gas_1990, gas_1990_marin], ignore_index=True)\n",
    "#gas = gas_1960.append(gas_1970, ignore_index=True)\n",
    "#gas = gas.append(gas_1980, ignore_index=True)\n",
    "#gas = gas.append(gas_1990, ignore_index=True)\n",
    "gas = gas[gas.energy == \"Y\"]\n",
    "gas = gas[gas.labels != None]\n",
    "gas = clean_df(gas)"
   ]
  },
  {
   "cell_type": "code",
   "execution_count": 21,
   "id": "d4bca598",
   "metadata": {},
   "outputs": [
    {
     "name": "stdout",
     "output_type": "stream",
     "text": [
      "   labels                                               text energy  \\\n",
      "0       0  De uitworp van zwaveldioxide (SO2) door het ve...      Y   \n",
      "\n",
      "                                    article_filepath  \\\n",
      "0  /Users/leonardovida/dev/HistAware/data/raw/del...   \n",
      "\n",
      "                         article_name  count        date  \\\n",
      "0  DDD_010645647_0550_articletext.xml      1  1990-03-09   \n",
      "\n",
      "                                                 dir  index_article  \\\n",
      "0  /Users/leonardovida/dev/HistAware/data/raw/del...        2411001   \n",
      "\n",
      "   index_metadata                                  metadata_filepath  \\\n",
      "0          6150.0  /Users/leonardovida/dev/HistAware/data/raw/del...   \n",
      "\n",
      "    newspaper_publisher newspaper_title  newspaper_volume  \\\n",
      "0  Dagblad De Telegraaf    De Telegraaf              98.0   \n",
      "\n",
      "   newspaper_issuenumber                                         text_clean  \\\n",
      "0                31769.0  de van zwaveldioxide door het verstoken van fo...   \n",
      "\n",
      "  type  \n",
      "0    p  \n",
      "2091\n"
     ]
    }
   ],
   "source": [
    "#Check\n",
    "print(gas_1990.head(1))\n",
    "print(len(gas))"
   ]
  },
  {
   "cell_type": "markdown",
   "id": "fdeaa0c1",
   "metadata": {},
   "source": [
    "### Oil"
   ]
  },
  {
   "cell_type": "code",
   "execution_count": 26,
   "id": "b652e054",
   "metadata": {},
   "outputs": [],
   "source": [
    "# Load split labeled files\n",
    "oil_1960_marin = pd.read_csv(os.path.join(DATA_DIR, \"marin_1960s_oil.csv\"))\n",
    "oil_1970 = pd.read_csv(os.path.join(DATA_DIR, \"edo_1970s_oil.csv\"))\n",
    "oil_1970_marin = pd.read_csv(os.path.join(DATA_DIR, \"marin_1970s_oil.csv\"))\n",
    "oil_1980 = pd.read_csv(os.path.join(DATA_DIR, \"edo_1980s_oil.csv\"))\n",
    "oil_1980_marin = pd.read_csv(os.path.join(DATA_DIR, \"marin_1980s_oil.csv\"))\n",
    "oil_1990 = pd.read_csv(os.path.join(DATA_DIR, \"edo_1990s_oil.csv\"))\n",
    "oil_1990_marin = pd.read_csv(os.path.join(DATA_DIR, \"marin_1990s_oil.csv\"))\n",
    "\n",
    "# Clean columns\n",
    "oil_1960_marin = oil_1960_marin[list_cols_1960]\n",
    "oil_1960_marin.rename(columns = {\"dir_x\": \"dir\", \"subject\": \"type\"}, inplace = True)\n",
    "oil_1970 = oil_1970[list_cols]\n",
    "oil_1970 = clean_individual_df(oil_1970)\n",
    "oil_1970_marin = oil_1970_marin[list_cols]\n",
    "oil_1970_marin = clean_individual_df(oil_1970_marin)\n",
    "oil_1980 = oil_1980[list_cols]\n",
    "oil_1980 = clean_individual_df(oil_1980)\n",
    "oil_1980_marin = oil_1980_marin[list_cols]\n",
    "oil_1980_marin = clean_individual_df(oil_1980_marin)\n",
    "oil_1990 = oil_1990[list_cols]\n",
    "oil_1990 = clean_individual_df(oil_1990)\n",
    "oil_1990_marin = oil_1990_marin[list_cols]\n",
    "oil_1990_marin = clean_individual_df(oil_1990_marin)\n",
    "\n",
    "# Save back to cleaned csv\n",
    "oil_1960_marin.to_csv(os.path.join(DATA_DIR, \"marin_1960s_oil_cleaned.csv\"))\n",
    "oil_1970.to_csv(os.path.join(DATA_DIR, \"edo_1970s_oil_cleaned.csv\"))\n",
    "oil_1970_marin.to_csv(os.path.join(DATA_DIR, \"marin_1970s_oil_cleaned.csv\"))\n",
    "oil_1980.to_csv(os.path.join(DATA_DIR, \"edo_1980s_oil_cleaned.csv\"))\n",
    "oil_1980_marin.to_csv(os.path.join(DATA_DIR, \"marin_1980s_oil_cleaned.csv\"))\n",
    "oil_1990.to_csv(os.path.join(DATA_DIR, \"edo_1990s_oil_cleaned.csv\"))\n",
    "oil_1990_marin.to_csv(os.path.join(DATA_DIR, \"marin_1990s_oil_cleaned.csv\"))\n",
    "\n",
    "# Create complete oil df\n",
    "oil = pd.concat([oil_1960_marin, oil_1970, oil_1970_marin, oil_1980, oil_1980_marin,\n",
    "                oil_1990, oil_1990_marin], ignore_index=True)\n",
    "#oil = oil_1960.append(oil_1970, ignore_index=True)\n",
    "#oil = oil.append(oil_1980, ignore_index=True)\n",
    "#oil = oil.append(oil_1990, ignore_index=True)\n",
    "oil = oil[oil.energy == \"Y\"]\n",
    "oil = oil[oil.labels != None]\n",
    "oil = clean_df(oil)"
   ]
  },
  {
   "cell_type": "code",
   "execution_count": 27,
   "id": "cce24164",
   "metadata": {},
   "outputs": [
    {
     "name": "stdout",
     "output_type": "stream",
     "text": [
      "   labels                                               text energy  \\\n",
      "0       0  De uitworp van zwaveldioxide (SO2) door het ve...      Y   \n",
      "\n",
      "                                    article_filepath  \\\n",
      "0  /Users/leonardovida/dev/HistAware/data/raw/del...   \n",
      "\n",
      "                         article_name  count        date  \\\n",
      "0  DDD_010645647_0550_articletext.xml      1  1990-03-09   \n",
      "\n",
      "                                                 dir  index_article  \\\n",
      "0  /Users/leonardovida/dev/HistAware/data/raw/del...        2411001   \n",
      "\n",
      "   index_metadata                                  metadata_filepath  \\\n",
      "0          6150.0  /Users/leonardovida/dev/HistAware/data/raw/del...   \n",
      "\n",
      "    newspaper_publisher newspaper_title  newspaper_volume  \\\n",
      "0  Dagblad De Telegraaf    De Telegraaf              98.0   \n",
      "\n",
      "   newspaper_issuenumber                                         text_clean  \\\n",
      "0                31769.0  de van zwaveldioxide door het verstoken van fo...   \n",
      "\n",
      "  type  \n",
      "0    p  \n",
      "2288\n"
     ]
    }
   ],
   "source": [
    "print(oil_1990.head(1))\n",
    "print(len(oil))"
   ]
  },
  {
   "cell_type": "markdown",
   "id": "9cb09e84",
   "metadata": {},
   "source": [
    "### Coal"
   ]
  },
  {
   "cell_type": "code",
   "execution_count": 29,
   "id": "07a20da8",
   "metadata": {},
   "outputs": [],
   "source": [
    "# Load split labeled files\n",
    "coal_1960_marin = pd.read_csv(os.path.join(DATA_DIR, \"marin_1960s_coal.csv\"))\n",
    "coal_1970 = pd.read_csv(os.path.join(DATA_DIR, \"edo_1970s_coal.csv\"))\n",
    "coal_1970_marin = pd.read_csv(os.path.join(DATA_DIR, \"marin_1970s_coal.csv\"))\n",
    "coal_1980 = pd.read_csv(os.path.join(DATA_DIR, \"edo_1980s_coal.csv\"))\n",
    "coal_1980_marin = pd.read_csv(os.path.join(DATA_DIR, \"marin_1980s_coal.csv\"))\n",
    "coal_1990 = pd.read_csv(os.path.join(DATA_DIR, \"edo_1990s_coal.csv\"))\n",
    "coal_1990_marin = pd.read_csv(os.path.join(DATA_DIR, \"marin_1990s_coal.csv\"))\n",
    "\n",
    "# Clean columns\n",
    "coal_1960_marin = coal_1960_marin[list_cols_1960]\n",
    "coal_1960_marin.rename(columns = {\"dir_x\": \"dir\", \"subject\": \"type\"}, inplace = True)\n",
    "coal_1970 = coal_1970[list_cols]\n",
    "coal_1970 = clean_individual_df(coal_1970)\n",
    "coal_1970_marin = coal_1970_marin[list_cols]\n",
    "coal_1970_marin = clean_individual_df(coal_1970_marin)\n",
    "coal_1980 = coal_1980[list_cols]\n",
    "coal_1980 = clean_individual_df(coal_1980)\n",
    "coal_1980_marin = coal_1980_marin[list_cols]\n",
    "coal_1980_marin = clean_individual_df(coal_1980_marin)\n",
    "coal_1990 = coal_1990[list_cols]\n",
    "coal_1990 = clean_individual_df(coal_1990)\n",
    "coal_1990_marin = coal_1990_marin[list_cols]\n",
    "coal_1990_marin = clean_individual_df(coal_1990_marin)\n",
    "\n",
    "# Save back to cleaned csv\n",
    "coal_1960_marin.to_csv(os.path.join(DATA_DIR, \"marin_1960s_coal_cleaned.csv\"))\n",
    "coal_1970.to_csv(os.path.join(DATA_DIR, \"edo_1970s_coal_cleaned.csv\"))\n",
    "coal_1970_marin.to_csv(os.path.join(DATA_DIR, \"marin_1970s_coal_cleaned.csv\"))\n",
    "coal_1980.to_csv(os.path.join(DATA_DIR, \"edo_1980s_coal_cleaned.csv\"))\n",
    "coal_1980_marin.to_csv(os.path.join(DATA_DIR, \"marin_1980s_coal_cleaned.csv\"))\n",
    "coal_1990.to_csv(os.path.join(DATA_DIR, \"edo_1990s_coal_cleaned.csv\"))\n",
    "coal_1990_marin.to_csv(os.path.join(DATA_DIR, \"marin_1990s_coal_cleaned.csv\"))\n",
    "\n",
    "# Create complete coal df\n",
    "coal = pd.concat([coal_1960_marin, coal_1970, coal_1970_marin, coal_1980, coal_1980_marin,\n",
    "                coal_1990, coal_1990_marin], ignore_index=True)\n",
    "#coal = coal_1960.append(coal_1970, ignore_index=True)\n",
    "#coal = coal.append(coal_1980, ignore_index=True)\n",
    "#coal = coal.append(coal_1990, ignore_index=True)\n",
    "coal = coal[coal.energy == \"Y\"]\n",
    "coal = coal[coal.labels != None]\n",
    "coal = clean_df(coal)"
   ]
  },
  {
   "cell_type": "code",
   "execution_count": 30,
   "id": "aeaf677e",
   "metadata": {},
   "outputs": [
    {
     "name": "stdout",
     "output_type": "stream",
     "text": [
      "   labels                                               text energy  \\\n",
      "0       2  BOGOTA - Colombia heeft een kolen-reserve welk...      Y   \n",
      "\n",
      "                                    article_filepath  \\\n",
      "0  /Users/leonardovida/dev/HistAware/data/raw/del...   \n",
      "\n",
      "                         article_name  count        date  \\\n",
      "0  DDD_010645193_0155_articletext.xml      3  1993-07-17   \n",
      "\n",
      "                                                 dir  index_article  \\\n",
      "0  /Users/leonardovida/dev/HistAware/data/raw/del...         747047   \n",
      "\n",
      "   index_metadata metadata_filepath newspaper_publisher newspaper_title  \\\n",
      "0             NaN               NaN                 NaN             NaN   \n",
      "\n",
      "   newspaper_volume  newspaper_issuenumber  \\\n",
      "0               NaN                    NaN   \n",
      "\n",
      "                                          text_clean type  \n",
      "0  heeft een welke genoeg is voor de komende vier...    p  \n",
      "2000\n"
     ]
    }
   ],
   "source": [
    "print(coal_1990.head(1))\n",
    "print(len(coal))"
   ]
  },
  {
   "cell_type": "markdown",
   "id": "691019da",
   "metadata": {},
   "source": [
    "### General df"
   ]
  },
  {
   "cell_type": "code",
   "execution_count": 32,
   "id": "79b948c0",
   "metadata": {},
   "outputs": [
    {
     "data": {
      "text/plain": [
       "(6379, 18)"
      ]
     },
     "execution_count": 32,
     "metadata": {},
     "output_type": "execute_result"
    }
   ],
   "source": [
    "df = pd.concat([gas, oil, coal], ignore_index=True)\n",
    "df = clean_df(df)\n",
    "df.shape"
   ]
  },
  {
   "cell_type": "markdown",
   "id": "e47d637a",
   "metadata": {},
   "source": [
    "## Fix labels"
   ]
  },
  {
   "cell_type": "code",
   "execution_count": 59,
   "id": "b1372c1d",
   "metadata": {},
   "outputs": [],
   "source": [
    "#cleanup_sentiment = {\"labels\": {\"VN\": 1, \"NG\": 2, \"NE\": 3, \"PO\": 4, \"VP\": 5}}\n",
    "#oil = oil.replace(cleanup_sentiment)\n",
    "#gas = gas.replace(cleanup_sentiment)\n",
    "#coal = coal.replace(cleanup_sentiment)\n",
    "#df = df.replace(cleanup_sentiment)"
   ]
  },
  {
   "cell_type": "code",
   "execution_count": 60,
   "id": "b385782d",
   "metadata": {},
   "outputs": [],
   "source": [
    "#ax = sns.countplot(df.sentiment)\n",
    "#plt.xlabel('review sentiment')"
   ]
  },
  {
   "cell_type": "markdown",
   "id": "72f27545",
   "metadata": {},
   "source": [
    "Reduce from 5 labels to 3 because of lack of labels"
   ]
  },
  {
   "cell_type": "code",
   "execution_count": 61,
   "id": "ff6c4ff2",
   "metadata": {},
   "outputs": [],
   "source": [
    "#def to_sentiment(rating):\n",
    "#    rating = int(rating)\n",
    "#    if rating <= 2:\n",
    "#        return 0 # negative\n",
    "#    elif rating == 3:\n",
    "#        return 1 # neutral\n",
    "#    else:\n",
    "#        return 2 # Positive\n",
    "#\n",
    "#df['labels'] = df.labels.apply(to_sentiment)\n",
    "#gas['labels'] = gas.labels.apply(to_sentiment)\n",
    "#coal['labels'] = coal.labels.apply(to_sentiment)\n",
    "#oil['labels'] = oil.labels.apply(to_sentiment)"
   ]
  },
  {
   "cell_type": "code",
   "execution_count": 33,
   "id": "620ab30e",
   "metadata": {},
   "outputs": [
    {
     "data": {
      "text/plain": [
       "Text(0.5, 0, 'review sentiment')"
      ]
     },
     "execution_count": 33,
     "metadata": {},
     "output_type": "execute_result"
    },
    {
     "data": {
      "image/png": "[encoded data removed]",
      "text/plain": [
       "<Figure size 864x576 with 1 Axes>"
      ]
     },
     "metadata": {
      "image/png": {
       "height": 489,
       "width": 745
      }
     },
     "output_type": "display_data"
    }
   ],
   "source": [
    "ax = sns.countplot(df.labels)\n",
    "plt.xlabel('review sentiment')"
   ]
  },
  {
   "cell_type": "markdown",
   "id": "a7429154",
   "metadata": {},
   "source": [
    "### Split text and explode new"
   ]
  },
  {
   "cell_type": "code",
   "execution_count": 83,
   "id": "0eacfa0d",
   "metadata": {},
   "outputs": [],
   "source": [
    "def split_text(r):\n",
    "    out = []\n",
    "    sents = sent_detector.tokenize(r)\n",
    "    sents = [' '.join(tokenizer.tokenize(s)) for s in sents if len(s)>80]\n",
    "    return sents\n",
    "\n",
    "def apply_split_text(df):\n",
    "    df[\"text_split\"] = df[\"text\"].apply(split_text)\n",
    "    df.text_split.replace([], np.nan, inplace=True)\n",
    "    df.dropna(subset=['text_split'], inplace=True)\n",
    "    # Cancel all text_split == 0\n",
    "    df.drop(df[df.text_split.map(len) == 0].index, inplace=True)\n",
    "    return df"
   ]
  },
  {
   "cell_type": "code",
   "execution_count": 84,
   "id": "0c4598d3",
   "metadata": {},
   "outputs": [],
   "source": [
    "oil = apply_split_text(oil)\n",
    "gas = apply_split_text(gas)\n",
    "coal = apply_split_text(coal)\n",
    "df = apply_split_text(df)"
   ]
  },
  {
   "cell_type": "code",
   "execution_count": 85,
   "id": "cc574a44",
   "metadata": {},
   "outputs": [],
   "source": [
    "df = df.explode('text_split')\n",
    "gas = gas.explode('text_split')\n",
    "coal = coal.explode('text_split')\n",
    "oil = oil.explode('text_split')"
   ]
  },
  {
   "cell_type": "code",
   "execution_count": 86,
   "id": "98ad3987",
   "metadata": {},
   "outputs": [
    {
     "data": {
      "text/plain": [
       "(39175, 19)"
      ]
     },
     "execution_count": 86,
     "metadata": {},
     "output_type": "execute_result"
    }
   ],
   "source": [
    "df.shape"
   ]
  },
  {
   "cell_type": "code",
   "execution_count": 89,
   "id": "441bc5d9",
   "metadata": {},
   "outputs": [],
   "source": [
    "df = df[[\"text_split\", \"labels\", \"text\", \"date\"]]\n",
    "gas = gas[[\"text_split\", \"labels\", \"text\", \"date\"]]\n",
    "oil = oil[[\"text_split\", \"labels\", \"text\", \"date\"]]\n",
    "coal = coal[[\"text_split\", \"labels\", \"text\", \"date\"]]"
   ]
  },
  {
   "cell_type": "code",
   "execution_count": 91,
   "id": "90a2e9ef",
   "metadata": {},
   "outputs": [],
   "source": [
    "df.to_csv(os.path.join(DATA_DIR, \"labeled_split_sents_energy_1960_1990.csv\"))\n",
    "gas.to_csv(os.path.join(DATA_DIR, \"labeled_split_sents_gas_1960_1990.csv\"))\n",
    "coal.to_csv(os.path.join(DATA_DIR, \"labeled_split_sents_coal_1960_1990.csv\"))\n",
    "oil.to_csv(os.path.join(DATA_DIR, \"labeled_split_sents_oil_1960_1990.csv\"))"
   ]
  },
  {
   "cell_type": "code",
   "execution_count": null,
   "id": "4569e5a7",
   "metadata": {},
   "outputs": [],
   "source": []
  }
 ],
 "metadata": {
  "kernelspec": {
   "display_name": "histaware-NidRwJ64-py3.8",
   "language": "python",
   "name": "histaware-nidrwj64-py3.8"
  },
  "language_info": {
   "codemirror_mode": {
    "name": "ipython",
    "version": 3
   },
   "file_extension": ".py",
   "mimetype": "text/x-python",
   "name": "python",
   "nbconvert_exporter": "python",
   "pygments_lexer": "ipython3",
   "version": "3.8.5"
  }
 },
 "nbformat": 4,
 "nbformat_minor": 5
}
