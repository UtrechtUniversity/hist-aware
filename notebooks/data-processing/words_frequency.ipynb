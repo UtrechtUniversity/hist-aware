{
 "cells": [
  {
   "cell_type": "code",
   "execution_count": 1,
   "id": "c7add6b7",
   "metadata": {},
   "outputs": [],
   "source": [
    "import pandas as pd \n",
    "from sklearn.feature_extraction.text import TfidfTransformer \n",
    "from sklearn.feature_extraction.text import CountVectorizer \n",
    "from text_cleaner import TextCleaner"
   ]
  },
  {
   "cell_type": "code",
   "execution_count": 2,
   "id": "a4d9d7c5",
   "metadata": {},
   "outputs": [],
   "source": [
    "def get_idf_weight(texts, output):\n",
    "    \"\"\"Calculate idf-weight for the given texts and save the results in output\"\"\" \n",
    "    \n",
    "    #instantiate CountVectorizer() n=(1-3)-grams\n",
    "    cv=CountVectorizer(ngram_range=(1,3)) \n",
    "\n",
    "    # this steps generates word counts for the words in your docs \n",
    "    word_count_vector=cv.fit_transform(texts)\n",
    "\n",
    "    print(word_count_vector.shape)\n",
    "    \n",
    "    tfidf_transformer=TfidfTransformer(smooth_idf=True,use_idf=True) \n",
    "    tfidf_transformer.fit(word_count_vector)\n",
    "    \n",
    "    df_idf = pd.DataFrame(tfidf_transformer.idf_, index=cv.get_feature_names(),columns=[\"idf_weights\"]) \n",
    "    df_idf['word'] = df_idf.index\n",
    "    \n",
    "    # sort ascending \n",
    "    df_idf= df_idf.sort_values(by=['idf_weights'])\n",
    "    \n",
    "    \n",
    "    # save idf_weights\n",
    "    df_idf.to_csv(output, index = False)\n",
    "    \n",
    "    return df_idf\n",
    "    "
   ]
  },
  {
   "cell_type": "code",
   "execution_count": 3,
   "id": "9fbef4e2",
   "metadata": {},
   "outputs": [],
   "source": [
    "def clean_text(data_fp):\n",
    "    \"\"\"Clean the texts stored in data_fp. Cleaning includes removing stop-words, extra spaces etc\"\"\"\n",
    "    docs = pd.read_csv(data_fp)\n",
    "    txt_cleaner = TextCleaner()\n",
    "    cleaned_texts = docs['text_clean'].apply(txt_cleaner.preprocess)\n",
    "    return cleaned_texts\n",
    "    "
   ]
  },
  {
   "cell_type": "code",
   "execution_count": 4,
   "id": "d8c46ffd",
   "metadata": {},
   "outputs": [
    {
     "name": "stdout",
     "output_type": "stream",
     "text": [
      "(4626, 633921)\n",
      "           idf_weights       word\n",
      "kolen         1.708172      kolen\n",
      "jaar          1.807263       jaar\n",
      "miljoen       2.106641    miljoen\n",
      "ton           2.145287        ton\n",
      "moeten        2.196151     moeten\n",
      "...                ...        ...\n",
      "enige         3.382880      enige\n",
      "bedrijven     3.382880  bedrijven\n",
      "miljard       3.389931    miljard\n",
      "bovendien     3.394659  bovendien\n",
      "bedrijf       3.397031    bedrijf\n",
      "\n",
      "[100 rows x 2 columns]\n"
     ]
    }
   ],
   "source": [
    "\"\"\"1960-coal\"\"\"\n",
    "data_fp = '../data/selected-data/1960/1960s_coal_labeled_full_0.95.csv'\n",
    "output = '../output/idf/coal_1960_idf.csv'\n",
    "cleaned_texts = clean_text(data_fp)\n",
    "df_idf = get_idf_weight(cleaned_texts,output)\n",
    "print(df_idf[:100])"
   ]
  },
  {
   "cell_type": "code",
   "execution_count": 6,
   "id": "fb8f0b3c",
   "metadata": {},
   "outputs": [
    {
     "name": "stdout",
     "output_type": "stream",
     "text": [
      "(57196, 5492612)\n",
      "          idf_weights      word\n",
      "olie         1.837110      olie\n",
      "jaar         2.375046      jaar\n",
      "grote        2.427064     grote\n",
      "wel          2.471526       wel\n",
      "echter       2.528321    echter\n",
      "...               ...       ...\n",
      "jaren        3.460742     jaren\n",
      "waarden      3.471862   waarden\n",
      "beter        3.472691     beter\n",
      "minister     3.473105  minister\n",
      "gedaan       3.477886    gedaan\n",
      "\n",
      "[100 rows x 2 columns]\n"
     ]
    }
   ],
   "source": [
    "\"\"\"1960-oil\"\"\"\n",
    "data_fp = '../data/selected-data/1960/1960s_oil_labeled_full_0.95.csv'\n",
    "output = '../output/idf/oil_1960_idf.csv'\n",
    "cleaned_texts = clean_text(data_fp)\n",
    "df_idf = get_idf_weight(cleaned_texts,output)\n",
    "print(df_idf[:100])"
   ]
  },
  {
   "cell_type": "code",
   "execution_count": 7,
   "id": "92d2479e",
   "metadata": {},
   "outputs": [
    {
     "name": "stdout",
     "output_type": "stream",
     "text": [
      "(40816, 3612065)\n",
      "          idf_weights      word\n",
      "aardgas      2.161217   aardgas\n",
      "gas          2.182171       gas\n",
      "jaar         2.421323      jaar\n",
      "wel          2.466901       wel\n",
      "grote        2.669828     grote\n",
      "...               ...       ...\n",
      "zeggen       3.819974    zeggen\n",
      "verwacht     3.821619  verwacht\n",
      "werk         3.829472      werk\n",
      "hadden       3.833630    hadden\n",
      "weinig       3.842839    weinig\n",
      "\n",
      "[100 rows x 2 columns]\n"
     ]
    }
   ],
   "source": [
    "\"\"\"1960-gas\"\"\"\n",
    "data_fp = '../data/selected-data/1960/1960s_gas_labeled_full_0.95.csv'\n",
    "output = '../output/idf/gas_1960_idf.csv'\n",
    "cleaned_texts = clean_text(data_fp)\n",
    "df_idf = get_idf_weight(cleaned_texts,output)\n",
    "print(df_idf[:100])"
   ]
  },
  {
   "cell_type": "code",
   "execution_count": 8,
   "id": "0ce7cf5a",
   "metadata": {},
   "outputs": [
    {
     "name": "stdout",
     "output_type": "stream",
     "text": [
      "(5388, 594354)\n",
      "           idf_weights       word\n",
      "jaar          1.816419       jaar\n",
      "kolen         1.886402      kolen\n",
      "olie          1.953435       olie\n",
      "moeten        2.149037     moeten\n",
      "steenkool     2.205025  steenkool\n",
      "...                ...        ...\n",
      "gevolg        3.554244     gevolg\n",
      "nemen         3.561430      nemen\n",
      "grootste      3.580848   grootste\n",
      "problemen     3.588228  problemen\n",
      "binnen        3.593179     binnen\n",
      "\n",
      "[100 rows x 2 columns]\n"
     ]
    }
   ],
   "source": [
    "\"\"\"1970-coal\"\"\"\n",
    "data_fp = '../data/selected-data/1970/1970s_coal_labeled_full_0.95.csv'\n",
    "output = '../output/idf/coal_1970_idf.csv'\n",
    "cleaned_texts = clean_text(data_fp)\n",
    "df_idf = get_idf_weight(cleaned_texts,output)\n",
    "print(df_idf[:100])"
   ]
  },
  {
   "cell_type": "code",
   "execution_count": 9,
   "id": "cbbad733",
   "metadata": {},
   "outputs": [
    {
     "name": "stdout",
     "output_type": "stream",
     "text": [
      "(96189, 7342717)\n",
      "          idf_weights      word\n",
      "olie         1.845996      olie\n",
      "jaar         2.292204      jaar\n",
      "wel          2.526146       wel\n",
      "grote        2.634172     grote\n",
      "moeten       2.717297    moeten\n",
      "...               ...       ...\n",
      "ter          3.688847       ter\n",
      "stemming     3.692679  stemming\n",
      "waarbij      3.699149   waarbij\n",
      "miljard      3.701780   miljard\n",
      "tijdens      3.703797   tijdens\n",
      "\n",
      "[100 rows x 2 columns]\n"
     ]
    }
   ],
   "source": [
    "\"\"\"1970-oil\"\"\"\n",
    "data_fp = '../data/selected-data/1970/1970s_oil_labeled_full_0.95.csv'\n",
    "output = '../output/idf/oil_1970_idf.csv'\n",
    "cleaned_texts = clean_text(data_fp)\n",
    "df_idf = get_idf_weight(cleaned_texts,output)\n",
    "print(df_idf[:100])"
   ]
  },
  {
   "cell_type": "code",
   "execution_count": 10,
   "id": "da15205e",
   "metadata": {},
   "outputs": [
    {
     "name": "stdout",
     "output_type": "stream",
     "text": [
      "(5388, 594354)\n",
      "           idf_weights       word\n",
      "jaar          1.816419       jaar\n",
      "kolen         1.886402      kolen\n",
      "olie          1.953435       olie\n",
      "moeten        2.149037     moeten\n",
      "steenkool     2.205025  steenkool\n",
      "...                ...        ...\n",
      "gevolg        3.554244     gevolg\n",
      "nemen         3.561430      nemen\n",
      "grootste      3.580848   grootste\n",
      "problemen     3.588228  problemen\n",
      "binnen        3.593179     binnen\n",
      "\n",
      "[100 rows x 2 columns]\n"
     ]
    }
   ],
   "source": [
    "\"\"\"1970-coal\"\"\"\n",
    "data_fp = '../data/selected-data/1970/1970s_coal_labeled_full_0.95.csv'\n",
    "output = '../output/idf/coal_1970_idf.csv'\n",
    "cleaned_texts = clean_text(data_fp)\n",
    "df_idf = get_idf_weight(cleaned_texts,output)\n",
    "print(df_idf[:100])"
   ]
  },
  {
   "cell_type": "code",
   "execution_count": 11,
   "id": "132d06c1",
   "metadata": {},
   "outputs": [
    {
     "name": "stdout",
     "output_type": "stream",
     "text": [
      "(51678, 3817821)\n",
      "          idf_weights      word\n",
      "gas          2.346370       gas\n",
      "jaar         2.355109      jaar\n",
      "wel          2.404947       wel\n",
      "aardgas      2.447558   aardgas\n",
      "moeten       2.623547    moeten\n",
      "...               ...       ...\n",
      "kosten       3.991080    kosten\n",
      "gisteren     4.014463  gisteren\n",
      "weten        4.017228     weten\n",
      "tien         4.020396      tien\n",
      "bekend       4.022381    bekend\n",
      "\n",
      "[100 rows x 2 columns]\n"
     ]
    }
   ],
   "source": [
    "\"\"\"1970-gas\"\"\"\n",
    "data_fp = '../data/selected-data/1970/1970s_gas_labeled_full_0.95.csv'\n",
    "output = '../output/idf/gas_1970_idf.csv'\n",
    "cleaned_texts = clean_text(data_fp)\n",
    "df_idf = get_idf_weight(cleaned_texts,output)\n",
    "print(df_idf[:100])"
   ]
  },
  {
   "cell_type": "code",
   "execution_count": 12,
   "id": "9df5c741",
   "metadata": {},
   "outputs": [
    {
     "name": "stdout",
     "output_type": "stream",
     "text": [
      "(29289, 541157)\n",
      "              idf_weights          word\n",
      "kolen            1.773372         kolen\n",
      "jaar             1.816691          jaar\n",
      "olie             2.182246          olie\n",
      "moeten           2.265822        moeten\n",
      "steenkool        2.310763     steenkool\n",
      "...                   ...           ...\n",
      "brandstoffen     3.561881  brandstoffen\n",
      "gebied           3.575245        gebied\n",
      "nemen            3.579289         nemen\n",
      "zeker            3.588789         zeker\n",
      "ter              3.597004           ter\n",
      "\n",
      "[100 rows x 2 columns]\n"
     ]
    }
   ],
   "source": [
    "\"\"\"1980-coal\"\"\"\n",
    "data_fp = '../data/selected-data/1980/1980s_coal_labeled_full_0.95.csv'\n",
    "output = '../output/idf/coal_1980_idf.csv'\n",
    "cleaned_texts = clean_text(data_fp)\n",
    "df_idf = get_idf_weight(cleaned_texts,output)\n",
    "print(df_idf[:100])"
   ]
  },
  {
   "cell_type": "code",
   "execution_count": 13,
   "id": "93c0d503",
   "metadata": {},
   "outputs": [
    {
     "name": "stdout",
     "output_type": "stream",
     "text": [
      "(1474, 366538)\n",
      "           idf_weights       word\n",
      "jaar          1.316337       jaar\n",
      "olie          1.358129       olie\n",
      "procent       1.613052    procent\n",
      "per           1.711622        per\n",
      "miljoen       1.722733    miljoen\n",
      "...                ...        ...\n",
      "gemaakt       2.845375    gemaakt\n",
      "daarbij       2.849676    daarbij\n",
      "steenkool     2.853996  steenkool\n",
      "rond          2.858334       rond\n",
      "problemen     2.862691  problemen\n",
      "\n",
      "[100 rows x 2 columns]\n"
     ]
    }
   ],
   "source": [
    "\"\"\"1980-oil\"\"\"\n",
    "data_fp = '../data/selected-data/1980/1980s_oil_labeled_full_0.95.csv'\n",
    "output = '../output/idf/oil_1980_idf.csv'\n",
    "cleaned_texts = clean_text(data_fp)\n",
    "df_idf = get_idf_weight(cleaned_texts,output)\n",
    "print(df_idf[:100])"
   ]
  },
  {
   "cell_type": "code",
   "execution_count": 14,
   "id": "82a26865",
   "metadata": {},
   "outputs": [
    {
     "name": "stdout",
     "output_type": "stream",
     "text": [
      "(174378, 4376038)\n",
      "           idf_weights       word\n",
      "jaar          2.207970       jaar\n",
      "gas           2.285706        gas\n",
      "wel           2.412221        wel\n",
      "moeten        2.658019     moeten\n",
      "volgens       2.796387    volgens\n",
      "...                ...        ...\n",
      "geval         3.937148      geval\n",
      "geleden       3.939965    geleden\n",
      "geven         3.941050      geven\n",
      "bedrijven     3.950652  bedrijven\n",
      "via           3.960457        via\n",
      "\n",
      "[100 rows x 2 columns]\n"
     ]
    }
   ],
   "source": [
    "\"\"\"1980-gas\"\"\"\n",
    "data_fp = '../data/selected-data/1980/1980s_gas_labeled_full_0.95.csv'\n",
    "output = '../output/idf/gas_1980_idf.csv'\n",
    "cleaned_texts = clean_text(data_fp)\n",
    "df_idf = get_idf_weight(cleaned_texts,output)\n",
    "print(df_idf[:100])"
   ]
  },
  {
   "cell_type": "code",
   "execution_count": 15,
   "id": "d38a3f41",
   "metadata": {},
   "outputs": [
    {
     "name": "stdout",
     "output_type": "stream",
     "text": [
      "(2259, 145380)\n",
      "         idf_weights     word\n",
      "it          1.763722       it\n",
      "jaar        1.799491     jaar\n",
      "kolen       2.010164    kolen\n",
      "olie        2.176335     olie\n",
      "volgens     2.177770  volgens\n",
      "...              ...      ...\n",
      "zeer        3.385582     zeer\n",
      "zoden       3.400110    zoden\n",
      "den         3.409914      den\n",
      "bijna       3.414852    bijna\n",
      "oost        3.414852     oost\n",
      "\n",
      "[100 rows x 2 columns]\n"
     ]
    }
   ],
   "source": [
    "\"\"\"1990-coal\"\"\"\n",
    "data_fp = '../data/selected-data/1990/1990s_coal_labeled_full_0.95.csv'\n",
    "output = '../output/idf/coal_1990_idf.csv'\n",
    "cleaned_texts = clean_text(data_fp)\n",
    "df_idf = get_idf_weight(cleaned_texts,output)\n",
    "print(df_idf[:100])"
   ]
  },
  {
   "cell_type": "code",
   "execution_count": 16,
   "id": "5017285e",
   "metadata": {},
   "outputs": [
    {
     "name": "stdout",
     "output_type": "stream",
     "text": [
      "(87740, 3588526)\n",
      "          idf_weights      word\n",
      "olie         1.804361      olie\n",
      "it           2.026976        it\n",
      "jaar         2.154149      jaar\n",
      "volgens      2.533060   volgens\n",
      "miljoen      2.570717   miljoen\n",
      "...               ...       ...\n",
      "index        3.520936     index\n",
      "handel       3.530338    handel\n",
      "vraag        3.531484     vraag\n",
      "steeg        3.532200     steeg\n",
      "minister     3.534497  minister\n",
      "\n",
      "[100 rows x 2 columns]\n"
     ]
    }
   ],
   "source": [
    "\"\"\"1990-oil\"\"\"\n",
    "data_fp = '../data/selected-data/1990/1990s_oil_labeled_full_0.95.csv'\n",
    "output = '../output/idf/oil_1990_idf.csv'\n",
    "cleaned_texts = clean_text(data_fp)\n",
    "df_idf = get_idf_weight(cleaned_texts,output)\n",
    "print(df_idf[:100])"
   ]
  },
  {
   "cell_type": "code",
   "execution_count": 17,
   "id": "b0c51748",
   "metadata": {},
   "outputs": [
    {
     "name": "stdout",
     "output_type": "stream",
     "text": [
      "(16127, 2041858)\n",
      "          idf_weights      word\n",
      "it           2.124426        it\n",
      "gas          2.134787       gas\n",
      "jaar         2.175127      jaar\n",
      "wel          2.429372       wel\n",
      "knnen        2.563865     knnen\n",
      "...               ...       ...\n",
      "milie        3.799740     milie\n",
      "gemaakt      3.808956   gemaakt\n",
      "ongeveer     3.814114  ongeveer\n",
      "staan        3.817221     staan\n",
      "zeker        3.823464     zeker\n",
      "\n",
      "[100 rows x 2 columns]\n"
     ]
    }
   ],
   "source": [
    "\"\"\"1990-gas\"\"\"\n",
    "data_fp = '../data/selected-data/1990/1990s_gas_labeled_full_0.95.csv'\n",
    "output = '../output/idf/gas_1990_idf.csv'\n",
    "cleaned_texts = clean_text(data_fp)\n",
    "df_idf = get_idf_weight(cleaned_texts,output)\n",
    "print(df_idf[:100])"
   ]
  },
  {
   "cell_type": "code",
   "execution_count": null,
   "id": "52b7e9dc",
   "metadata": {},
   "outputs": [],
   "source": []
  }
 ],
 "metadata": {
  "kernelspec": {
   "display_name": "Python 3 (ipykernel)",
   "language": "python",
   "name": "python3"
  },
  "language_info": {
   "codemirror_mode": {
    "name": "ipython",
    "version": 3
   },
   "file_extension": ".py",
   "mimetype": "text/x-python",
   "name": "python",
   "nbconvert_exporter": "python",
   "pygments_lexer": "ipython3",
   "version": "3.9.5"
  }
 },
 "nbformat": 4,
 "nbformat_minor": 5
}
