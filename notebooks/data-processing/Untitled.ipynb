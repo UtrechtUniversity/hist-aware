{
 "cells": [
  {
   "cell_type": "code",
   "execution_count": 6,
   "id": "c4f6a489",
   "metadata": {},
   "outputs": [],
   "source": [
    "import pandas as pd \n",
    "from sklearn.feature_extraction.text import TfidfTransformer \n",
    "from sklearn.feature_extraction.text import CountVectorizer "
   ]
  },
  {
   "cell_type": "code",
   "execution_count": 46,
   "id": "6072088e",
   "metadata": {},
   "outputs": [],
   "source": []
  },
  {
   "cell_type": "code",
   "execution_count": 56,
   "id": "d3f70fbd",
   "metadata": {},
   "outputs": [],
   "source": [
    "def get_idf_weight(data_fp, output):\n",
    "    docs = pd.read_csv(data_fp)\n",
    "    \n",
    "    #instantiate CountVectorizer() n=(1-3)-grams\n",
    "    cv=CountVectorizer(ngram_range=(1,3)) \n",
    "\n",
    "    # this steps generates word counts for the words in your docs \n",
    "    word_count_vector=cv.fit_transform(docs['text_clean'])\n",
    "\n",
    "    print(word_count_vector.shape)\n",
    "    \n",
    "    tfidf_transformer=TfidfTransformer(smooth_idf=True,use_idf=True) \n",
    "    tfidf_transformer.fit(word_count_vector)\n",
    "    \n",
    "    df_idf = pd.DataFrame(tfidf_transformer.idf_, index=cv.get_feature_names(),columns=[\"idf_weights\"]) \n",
    "    \n",
    "    \n",
    "    # sort ascending \n",
    "    df_idf= df_idf.sort_values(by=['idf_weights'])\n",
    "    \n",
    "    # save idf_weights\n",
    "    df_idf.to_csv(output, index = False)\n",
    "    \n",
    "    return df_idf\n",
    "    "
   ]
  },
  {
   "cell_type": "code",
   "execution_count": 57,
   "id": "cad7d318",
   "metadata": {},
   "outputs": [
    {
     "name": "stdout",
     "output_type": "stream",
     "text": [
      "(4626, 812835)\n",
      "                             idf_weights\n",
      "de                              1.004332\n",
      "van                             1.015244\n",
      "in                              1.045769\n",
      "het                             1.048261\n",
      "een                             1.089470\n",
      "...                                  ...\n",
      "grotere afzet aan               8.746517\n",
      "grotere afzetmarkt              8.746517\n",
      "grotere afzetmarkt eisten       8.746517\n",
      "grotere afhankelijkheid van     8.746517\n",
      "zwoegen ten bate                8.746517\n",
      "\n",
      "[812835 rows x 1 columns]\n"
     ]
    }
   ],
   "source": [
    "data_fp = '../data/selected-data/1960/1960s_coal_labeled_full_0.95.csv'\n",
    "output = '../output/coal_1960_idf.csv'\n",
    "df_idf = get_idf_weight(data_fp,output)\n",
    "print(df_idf)"
   ]
  },
  {
   "cell_type": "code",
   "execution_count": null,
   "id": "b9e6a35f",
   "metadata": {},
   "outputs": [],
   "source": []
  }
 ],
 "metadata": {
  "kernelspec": {
   "display_name": "Python 3 (ipykernel)",
   "language": "python",
   "name": "python3"
  },
  "language_info": {
   "codemirror_mode": {
    "name": "ipython",
    "version": 3
   },
   "file_extension": ".py",
   "mimetype": "text/x-python",
   "name": "python",
   "nbconvert_exporter": "python",
   "pygments_lexer": "ipython3",
   "version": "3.9.5"
  }
 },
 "nbformat": 4,
 "nbformat_minor": 5
}
