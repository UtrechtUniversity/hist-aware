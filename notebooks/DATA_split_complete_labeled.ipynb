{
 "cells": [
  {
   "cell_type": "code",
   "execution_count": 74,
   "id": "falling-abraham",
   "metadata": {},
   "outputs": [],
   "source": [
    "import pandas as pd\n",
    "import numpy as np"
   ]
  },
  {
   "cell_type": "code",
   "execution_count": 75,
   "id": "perfect-villa",
   "metadata": {},
   "outputs": [],
   "source": [
    "df = pd.read_csv(\"~/dev/hist-aware/notebooks/sentiment/edo_1980_full.csv\")"
   ]
  },
  {
   "cell_type": "code",
   "execution_count": 76,
   "id": "olympic-print",
   "metadata": {
    "tags": []
   },
   "outputs": [],
   "source": [
    "# Filter articles that are not energy\n",
    "df = df[df.energy == \"Y\"]"
   ]
  },
  {
   "cell_type": "code",
   "execution_count": 77,
   "id": "approximate-right",
   "metadata": {},
   "outputs": [],
   "source": [
    "df_coal = df[pd.isnull(df.sentiment_coal) == False].copy()\n",
    "df_oil = df[pd.isnull(df.sentiment_oil) == False].copy()\n",
    "df_gas = df[pd.isnull(df.sentiment_gas) == False].copy()"
   ]
  },
  {
   "cell_type": "code",
   "execution_count": 78,
   "id": "horizontal-lending",
   "metadata": {},
   "outputs": [
    {
     "name": "stdout",
     "output_type": "stream",
     "text": [
      "388\n",
      "562\n",
      "561\n"
     ]
    }
   ],
   "source": [
    "print(len(df_coal))\n",
    "print(len(df_oil))\n",
    "print(len(df_gas))"
   ]
  },
  {
   "cell_type": "markdown",
   "id": "monetary-fireplace",
   "metadata": {},
   "source": [
    "### Rename and eliminate columns"
   ]
  },
  {
   "cell_type": "code",
   "execution_count": 79,
   "id": "north-massage",
   "metadata": {},
   "outputs": [],
   "source": [
    "df_coal.rename(columns = {\"sentiment\" : \"accuracy_selection\", \"sentiment_coal\" :\"sentiment\"}, inplace=True)\n",
    "df_coal.drop([\"sentiment_oil\", \"sentiment_gas\"], axis=1, inplace=True)\n",
    "\n",
    "df_oil.rename(columns = {\"sentiment\" : \"accuracy_selection\", \"sentiment_oil\" :\"sentiment\"}, inplace=True)\n",
    "df_oil.drop([\"sentiment_coal\", \"sentiment_gas\"], axis=1, inplace=True)\n",
    "\n",
    "df_gas.rename(columns = {\"sentiment\" : \"accuracy_selection\", \"sentiment_gas\" :\"sentiment\"}, inplace=True)\n",
    "df_gas.drop([\"sentiment_oil\", \"sentiment_coal\"], axis=1, inplace=True)"
   ]
  },
  {
   "cell_type": "code",
   "execution_count": 80,
   "id": "charming-environment",
   "metadata": {},
   "outputs": [],
   "source": [
    "df_coal.to_csv(\"~/dev/hist-aware/notebooks/sentiment/edo_1980s_coal.csv\")\n",
    "df_oil.to_csv(\"~/dev/hist-aware/notebooks/sentiment/edo_1980s_oil.csv\")\n",
    "df_gas.to_csv(\"~/dev/hist-aware/notebooks/sentiment/edo_1980s_gas.csv\")"
   ]
  },
  {
   "cell_type": "code",
   "execution_count": null,
   "id": "analyzed-configuration",
   "metadata": {},
   "outputs": [],
   "source": []
  }
 ],
 "metadata": {
  "kernelspec": {
   "display_name": "histaware-NidRwJ64-py3.8",
   "language": "python",
   "name": "histaware-nidrwj64-py3.8"
  },
  "language_info": {
   "codemirror_mode": {
    "name": "ipython",
    "version": 3
   },
   "file_extension": ".py",
   "mimetype": "text/x-python",
   "name": "python",
   "nbconvert_exporter": "python",
   "pygments_lexer": "ipython3",
   "version": "3.8.6"
  }
 },
 "nbformat": 4,
 "nbformat_minor": 5
}
