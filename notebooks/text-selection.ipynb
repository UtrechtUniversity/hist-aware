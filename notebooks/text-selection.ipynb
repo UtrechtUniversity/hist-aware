{
 "cells": [
  {
   "cell_type": "code",
   "execution_count": 5,
   "metadata": {},
   "outputs": [],
   "source": [
    "from IPython.display import Markdown, display"
   ]
  },
  {
   "cell_type": "markdown",
   "metadata": {},
   "source": [
    "## Links to Project Resources"
   ]
  },
  {
   "cell_type": "markdown",
   "metadata": {},
   "source": [
    "- [Trello board](https://trello.com/invite/b/BWnRAtKJ/3e7ce03017000289323e762d0ed2e304/histaware)\n",
    "- [Notion Wiki](https://www.notion.so/HistAware-529aba41f84946b19d493394ef6a2748)"
   ]
  },
  {
   "cell_type": "markdown",
   "metadata": {
    "tags": [
     "text",
     "selection",
     "xml",
     "transformers"
    ]
   },
   "source": [
    "# Part I: Text selection"
   ]
  },
  {
   "cell_type": "markdown",
   "metadata": {},
   "source": [
    "In this first phase of the project, we approach the first problem of selecting texts similar texts. Intially the scope of the research is focused on texts that deal with `energy`. However, this scope might change and/or might be expanded."
   ]
  },
  {
   "cell_type": "markdown",
   "metadata": {},
   "source": [
    "**Phases of Part I:**\n",
    "- **Validate the approach to the project**:\n",
    "    1. Decide whether to use title and paragraphs or only one of the two\n",
    "    2. Find the most efficient way to read all the xml files\n",
    "    3. Begin to label a golden set of texts that are within the scope of the research AND select the most important keywords that will be used to search for similar texts\n",
    "    4. Run the text similarity ML algorithm\n",
    "    5. Have the teaching assistant go throught the selection and identify mistakes\n",
    "- **To think about**: how to keep the relevant information about the text fragment (i.e. newspaper origin and date)?\n",
    "- **Decide the tools to use for text selection**. Current choices are:\n",
    "    - Use `sentence-transformers` from UKPLab (https://github.com/UKPLab/sentence-transformers)\n",
    "        - Generate embeddings on sentences (max 512 words)\n",
    "        - Find similar texts\n",
    "    - Use `faiss` from Facebook AI (https://github.com/facebookresearch/faiss)\n",
    "        - Less documentation but seemingly more scalable\n",
    "    - Use ASReview from Utrecht University ()\n",
    "        - A meeting with Jonathan or Raul is necessary to understand the feasibility of this approach"
   ]
  },
  {
   "cell_type": "markdown",
   "metadata": {},
   "source": [
    "### Import statements"
   ]
  },
  {
   "cell_type": "code",
   "execution_count": 7,
   "metadata": {},
   "outputs": [
    {
     "ename": "ImportError",
     "evalue": "Unable to import required dependencies:\nnumpy: \n\nIMPORTANT: PLEASE READ THIS FOR ADVICE ON HOW TO SOLVE THIS ISSUE!\n\nImporting the numpy C-extensions failed. This error can happen for\nmany reasons, often due to issues with your setup or how NumPy was\ninstalled.\n\nWe have compiled some common reasons and troubleshooting tips at:\n\n    https://numpy.org/devdocs/user/troubleshooting-importerror.html\n\nPlease note and check the following:\n\n  * The Python version is: Python3.7 from \"/Users/leonardovida/dev/HistAware/.venv/bin/python\"\n  * The NumPy version is: \"1.19.2\"\n\nand make sure that they are the versions you expect.\nPlease carefully study the documentation linked above for further help.\n\nOriginal error was: dlopen(/Users/leonardovida/dev/HistAware/.venv/lib/python3.7/site-packages/numpy/core/_multiarray_umath.cpython-37m-darwin.so, 2): Symbol not found: ___addtf3\n  Referenced from: /Users/leonardovida/dev/HistAware/.venv/lib/python3.7/site-packages/numpy/core/../.dylibs/libquadmath.0.dylib\n  Expected in: /usr/lib/libSystem.B.dylib\n in /Users/leonardovida/dev/HistAware/.venv/lib/python3.7/site-packages/numpy/core/../.dylibs/libquadmath.0.dylib\n",
     "output_type": "error",
     "traceback": [
      "\u001b[0;31m--------------------------------------------------------------------------\u001b[0m",
      "\u001b[0;31mImportError\u001b[0m                              Traceback (most recent call last)",
      "\u001b[0;32m<ipython-input-7-8e841605b73c>\u001b[0m in \u001b[0;36m<module>\u001b[0;34m\u001b[0m\n\u001b[1;32m      1\u001b[0m \u001b[0;31m#import numpy as np\u001b[0m\u001b[0;34m\u001b[0m\u001b[0;34m\u001b[0m\u001b[0;34m\u001b[0m\u001b[0m\n\u001b[0;32m----> 2\u001b[0;31m \u001b[0;32mimport\u001b[0m \u001b[0mpandas\u001b[0m \u001b[0;32mas\u001b[0m \u001b[0mpd\u001b[0m\u001b[0;34m\u001b[0m\u001b[0;34m\u001b[0m\u001b[0m\n\u001b[0m\u001b[1;32m      3\u001b[0m \u001b[0;32mimport\u001b[0m \u001b[0mlogging\u001b[0m\u001b[0;34m\u001b[0m\u001b[0;34m\u001b[0m\u001b[0m\n\u001b[1;32m      4\u001b[0m \u001b[0;32mimport\u001b[0m \u001b[0mre\u001b[0m\u001b[0;34m\u001b[0m\u001b[0;34m\u001b[0m\u001b[0m\n\u001b[1;32m      5\u001b[0m \u001b[0;32mfrom\u001b[0m \u001b[0mdatetime\u001b[0m \u001b[0;32mimport\u001b[0m \u001b[0mdatetime\u001b[0m\u001b[0;34m\u001b[0m\u001b[0;34m\u001b[0m\u001b[0m\n",
      "\u001b[0;32m~/dev/HistAware/.venv/lib/python3.7/site-packages/pandas/__init__.py\u001b[0m in \u001b[0;36m<module>\u001b[0;34m\u001b[0m\n\u001b[1;32m     15\u001b[0m \u001b[0;32mif\u001b[0m \u001b[0mmissing_dependencies\u001b[0m\u001b[0;34m:\u001b[0m\u001b[0;34m\u001b[0m\u001b[0;34m\u001b[0m\u001b[0m\n\u001b[1;32m     16\u001b[0m     raise ImportError(\n\u001b[0;32m---> 17\u001b[0;31m         \u001b[0;34m\"Unable to import required dependencies:\\n\"\u001b[0m \u001b[0;34m+\u001b[0m \u001b[0;34m\"\\n\"\u001b[0m\u001b[0;34m.\u001b[0m\u001b[0mjoin\u001b[0m\u001b[0;34m(\u001b[0m\u001b[0mmissing_dependencies\u001b[0m\u001b[0;34m)\u001b[0m\u001b[0;34m\u001b[0m\u001b[0;34m\u001b[0m\u001b[0m\n\u001b[0m\u001b[1;32m     18\u001b[0m     )\n\u001b[1;32m     19\u001b[0m \u001b[0;32mdel\u001b[0m \u001b[0mhard_dependencies\u001b[0m\u001b[0;34m,\u001b[0m \u001b[0mdependency\u001b[0m\u001b[0;34m,\u001b[0m \u001b[0mmissing_dependencies\u001b[0m\u001b[0;34m\u001b[0m\u001b[0;34m\u001b[0m\u001b[0m\n",
      "\u001b[0;31mImportError\u001b[0m: Unable to import required dependencies:\nnumpy: \n\nIMPORTANT: PLEASE READ THIS FOR ADVICE ON HOW TO SOLVE THIS ISSUE!\n\nImporting the numpy C-extensions failed. This error can happen for\nmany reasons, often due to issues with your setup or how NumPy was\ninstalled.\n\nWe have compiled some common reasons and troubleshooting tips at:\n\n    https://numpy.org/devdocs/user/troubleshooting-importerror.html\n\nPlease note and check the following:\n\n  * The Python version is: Python3.7 from \"/Users/leonardovida/dev/HistAware/.venv/bin/python\"\n  * The NumPy version is: \"1.19.2\"\n\nand make sure that they are the versions you expect.\nPlease carefully study the documentation linked above for further help.\n\nOriginal error was: dlopen(/Users/leonardovida/dev/HistAware/.venv/lib/python3.7/site-packages/numpy/core/_multiarray_umath.cpython-37m-darwin.so, 2): Symbol not found: ___addtf3\n  Referenced from: /Users/leonardovida/dev/HistAware/.venv/lib/python3.7/site-packages/numpy/core/../.dylibs/libquadmath.0.dylib\n  Expected in: /usr/lib/libSystem.B.dylib\n in /Users/leonardovida/dev/HistAware/.venv/lib/python3.7/site-packages/numpy/core/../.dylibs/libquadmath.0.dylib\n"
     ]
    }
   ],
   "source": [
    "#import numpy as np\n",
    "import pandas as pd\n",
    "import logging\n",
    "import re\n",
    "from datetime import datetime\n",
    "import xml.etree.ElementTree as et \n",
    "import collections\n",
    "import sys\n",
    "import os\n",
    "import gzip\n",
    "import shutil\n",
    "import xmltodict\n",
    "import pathlib\n",
    "from itertools import chain\n",
    "import xml.etree.ElementTree as ET\n",
    "\n",
    "%matplotlib inline\n",
    "%config InlineBackend.figure_format='retina'\n",
    "\n",
    "\n",
    "#### Just some code to print debug information to stdout\n",
    "np.set_printoptions(threshold=100)\n",
    "\n",
    "logging.basicConfig(format='%(asctime)s - %(message)s',\n",
    "                    datefmt='%Y-%m-%d %H:%M:%S',\n",
    "                    level=logging.INFO)\n",
    "#### /print debug information to stdout\n",
    "\n",
    "# Find path of data folder\n",
    "main_path = sys.path\n",
    "# To go back to main folder\n",
    "sys.path.insert(0, \"..\")"
   ]
  },
  {
   "cell_type": "markdown",
   "metadata": {},
   "source": [
    "## Delpher Dataset"
   ]
  },
  {
   "cell_type": "markdown",
   "metadata": {},
   "source": [
    "### Create a catalogue of the files"
   ]
  },
  {
   "cell_type": "markdown",
   "metadata": {},
   "source": [
    "#### Find the location of each article"
   ]
  },
  {
   "cell_type": "markdown",
   "metadata": {},
   "source": [
    "We save the file path and the file name into a dictionary. Then we transform the dictionary into a DataFrame so that we can later keep track of the index at which the parsing got stopped/interrupted (Dictionaries in Python do not have an order)"
   ]
  },
  {
   "cell_type": "code",
   "execution_count": 3,
   "metadata": {},
   "outputs": [],
   "source": [
    "def iterate_directory(path_dir, file_type):\n",
    "    \"\"\"Iterate over the `path_dir` and its children and\n",
    "    create a dictionary of\n",
    "        - name\n",
    "        - path\n",
    "        - dir\n",
    "    names of files found\n",
    "    \"\"\"\n",
    "    rootdir = main_path[0]+path_dir\n",
    "    file_names = {}\n",
    "    list_names = []\n",
    "\n",
    "    for subdir, dirs, files in os.walk(rootdir, topdown=True):\n",
    "        for file in files:\n",
    "            filepath = subdir + os.sep + file\n",
    "            if filepath.endswith(str(file_type)):\n",
    "                file_names[\"article_name\"] = file\n",
    "                file_names[\"article_path\"] = filepath\n",
    "                file_names[\"article_dir\"] = subdir\n",
    "                list_names.append(file_names)\n",
    "                file_names = {}\n",
    "\n",
    "    return(list_names)"
   ]
  },
  {
   "cell_type": "code",
   "execution_count": 4,
   "metadata": {},
   "outputs": [],
   "source": [
    "xml_article_names = iterate_directory(\"/data/1950/\",\".xml\")\n",
    "article_names = pd.DataFrame.from_dict(xml_article_names)"
   ]
  },
  {
   "cell_type": "markdown",
   "metadata": {},
   "source": [
    "#### Find location of each metadata and \"ungizp\" them"
   ]
  },
  {
   "cell_type": "code",
   "execution_count": 5,
   "metadata": {},
   "outputs": [],
   "source": [
    "def iterate_directory_gz(path_dir,file_type):\n",
    "    \"\"\"Iterate over the `path_dir` and its children and\n",
    "    create a dictionary of\n",
    "        - name\n",
    "        - path\n",
    "        - dir\n",
    "        - content\n",
    "    of .gz files found.\n",
    "    \"\"\"\n",
    "    rootdir = main_path[0]+path_dir\n",
    "    gz_content = {}\n",
    "    list_gzs = []\n",
    "    \n",
    "    for subdir, dirs, files in os.walk(rootdir, topdown=True):\n",
    "        for file in files:\n",
    "            filepath = subdir + os.sep + file\n",
    "            if filepath.endswith(str(file_type)):\n",
    "                # Create list of dict\n",
    "                with gzip.open(filepath, 'rb') as f:\n",
    "                #, \\\n",
    "                #open(filepath+\".xml\", \"wb\") as r:\n",
    "                    gz_content[\"metadata_name\"] = file+\".xml\"\n",
    "                    gz_content[\"metadata_dir\"] = subdir\n",
    "                    gz_content[\"metadata_path\"] = filepath+\".xml\"\n",
    "                    # Ungzipping and writing to .xml\n",
    "                    #shutil.copyfileobj(f, r, 65536)\n",
    "                    \n",
    "                    list_gzs.append(gz_content)\n",
    "                    gz_content = {}\n",
    "    \n",
    "    return(list_gzs)"
   ]
  },
  {
   "cell_type": "code",
   "execution_count": 6,
   "metadata": {},
   "outputs": [],
   "source": [
    "gz_metadata_files = iterate_directory_gz(\"/data/1950/\",\".gz\")\n",
    "metadata_files = pd.DataFrame.from_dict(gz_metadata_files)"
   ]
  },
  {
   "cell_type": "markdown",
   "metadata": {},
   "source": [
    "### Parse XML"
   ]
  },
  {
   "cell_type": "markdown",
   "metadata": {},
   "source": [
    "#### Parse articles"
   ]
  },
  {
   "cell_type": "code",
   "execution_count": 7,
   "metadata": {},
   "outputs": [],
   "source": [
    "def parse_XML_article(path, art_dir, title, index):\n",
    "    \"\"\"Parse the input XML file and store the result in a pandas \n",
    "    DataFrame with the given columns. \n",
    "    \n",
    "    Takes the filepath, file title and index integer of the df\n",
    "    \"\"\"\n",
    "    \n",
    "    xtree = et.parse(path)\n",
    "    xroot = xtree.getroot()\n",
    "    article = {}\n",
    "    dict_articles = {}\n",
    "    \n",
    "    # Parse the date with regex\n",
    "    match = re.search(r'\\d{4}[/]\\d{2}[-]\\d{2}', path)\n",
    "    date = datetime.strptime(match.group(), '%Y/%m-%d').date()\n",
    "    \n",
    "    for i, node in enumerate(xroot):\n",
    "        article[\"article_name\"] = str(title)\n",
    "        article[\"date\"] = str(date)\n",
    "        article[\"index\"] = index\n",
    "        article[\"filepath\"] = path\n",
    "        article[\"dir\"] = art_dir\n",
    "        if node.tag != \"p\":\n",
    "            article[node.tag] = node.text\n",
    "        else:\n",
    "            article[node.tag+\"_\"+str(i)] = node.text\n",
    "        dict_articles[index] = article\n",
    "\n",
    "    # Returns dict of dicts to speed up the parsing\n",
    "    return dict_articles"
   ]
  },
  {
   "cell_type": "markdown",
   "metadata": {},
   "source": [
    "#### Parse metadata"
   ]
  },
  {
   "cell_type": "code",
   "execution_count": 99,
   "metadata": {},
   "outputs": [],
   "source": [
    "#Test\n",
    "#temp_data = doc[\"didl:DIDL\"][\"didl:Item\"][\"didl:Component\"][0][\"didl:Resource\"][\"srw_dc:dcx\"]"
   ]
  },
  {
   "cell_type": "code",
   "execution_count": 8,
   "metadata": {},
   "outputs": [],
   "source": [
    "def parse_XML_metadata(path, met_dir, title, index):\n",
    "    \"\"\"Parse the input XML file and store the result in a pandas \n",
    "    DataFrame with the given columns. \n",
    "    \n",
    "    Takes the filepath, file title and index integer of the df\n",
    "    \"\"\"\n",
    "    metadata = {}\n",
    "    dict_metadata = {}\n",
    "    \n",
    "    # Parse the date with regex\n",
    "    match = re.search(r'\\d{4}[/]\\d{2}[-]\\d{2}', path)\n",
    "    date = datetime.strptime(match.group(), '%Y/%m-%d').date()\n",
    "    \n",
    "    # Parse DIDL XML\n",
    "    with open(pathlib.Path(path), 'r') as f:\n",
    "        doc = xmltodict.parse(f.read())\n",
    "    temp_data = doc[\"didl:DIDL\"][\"didl:Item\"][\"didl:Component\"][0][\"didl:Resource\"][\"srw_dc:dcx\"]\n",
    "\n",
    "    metadata[\"metadata_title\"] = title\n",
    "    metadata[\"date\"] = date\n",
    "    metadata[\"index\"] = index\n",
    "    metadata[\"filepath\"] = path\n",
    "    metadata[\"dir\"] = met_dir\n",
    "    \n",
    "    # Retrieve informations about the newspaper\n",
    "    metadata[\"newspaper_title\"] = temp_data[\"dc:title\"]\n",
    "    metadata[\"newspaper_date\"] = temp_data[\"dc:date\"]\n",
    "    metadata[\"newspaper_city\"] = temp_data[\"dcterms:spatial\"][1][\"#text\"]\n",
    "    metadata[\"newspaper_publisher\"] = temp_data[\"dc:publisher\"]\n",
    "    metadata[\"newspaper_source\"] = temp_data[\"dc:source\"]\n",
    "    metadata[\"newspaper_volume\"] = temp_data[\"dcx:volume\"]\n",
    "    metadata[\"newspaper_issuenumber\"] = temp_data[\"dcx:issuenumber\"]\n",
    "    metadata[\"newspaper_language\"] = temp_data[\"dc:language\"][\"#text\"]\n",
    "    \n",
    "    dict_metadata[index] = metadata\n",
    "\n",
    "    return(dict_metadata)"
   ]
  },
  {
   "cell_type": "markdown",
   "metadata": {},
   "source": [
    "**Utils Addendum**\n",
    "\n",
    "To search for an `article_path` or `article_name` given the other, use the following:"
   ]
  },
  {
   "cell_type": "code",
   "execution_count": 301,
   "metadata": {},
   "outputs": [],
   "source": [
    "#a = df_file_names.loc[df_file_names['article_name'] == \"DDD_110637387_0004_articletext.xml\"]\n",
    "#a = df_file_names.iloc[0]\n",
    "c = df_file_names.iloc[500000]"
   ]
  },
  {
   "cell_type": "markdown",
   "metadata": {},
   "source": [
    "### Iterate through the files given"
   ]
  },
  {
   "cell_type": "markdown",
   "metadata": {},
   "source": [
    "Currently, this loop takes ~0.012s for each parsing. This is extremely slow and it's not due to the `parse_XML` function (which is efficient), but instead it's because of the `concat` between series. \n",
    "\n",
    "In this way 100.000 documents take around 20 minutes to be parsed.\n",
    "- If possible, substitute the concat statement with something more efficient!"
   ]
  },
  {
   "cell_type": "code",
   "execution_count": 9,
   "metadata": {},
   "outputs": [],
   "source": [
    "def iterate_files(files):\n",
    "    \"\"\"Iterate through files `files`, parse them and concatenate\n",
    "    the result to be saved as a DataFrame in a feather object (.ftr)\n",
    "    \"\"\"\n",
    "    main = None\n",
    "    previous_i = 0\n",
    "    current_i = 0\n",
    "    i = 0\n",
    "    n = 0\n",
    "    cnt = 0\n",
    "    dict_articles = {}\n",
    "    \n",
    "    for index, row in files.iterrows():\n",
    "        try:\n",
    "            dict_articles.update(\n",
    "                parse_XML_article(\n",
    "                    path = row[\"article_path\"],\n",
    "                    art_dir = row[\"article_dir\"], \n",
    "                    title = row[\"article_name\"],\n",
    "                    index = index))\n",
    "        except Exception as e:\n",
    "            print(e.message, e.args)\n",
    "            continue\n",
    "        # Each X, save the file in a .ftr\n",
    "        if (i == 10000):\n",
    "            current_i = current_i + i\n",
    "            file_path = main_path[0]+\"/data/processed/processed_articles/processed_data_\"+str(previous_i)+\"_\"+str(current_i)+\".ftr\"\n",
    "            main = pd.DataFrame.from_dict(dict_articles).T\n",
    "            main.to_feather(file_path)\n",
    "            main = None\n",
    "            previous_i = current_i\n",
    "            i = 0\n",
    "        # Each 1000 files, print the progress\n",
    "        if (i % 2000 == 0):\n",
    "            print(\"Files parsed: \"+str(2000*cnt))\n",
    "            print(\"Current file: \"+row[\"article_name\"]+\"\\n\")\n",
    "            cnt += 1\n",
    "        i += 1"
   ]
  },
  {
   "cell_type": "code",
   "execution_count": 10,
   "metadata": {},
   "outputs": [],
   "source": [
    "def iterate_metadata(files):\n",
    "    \"\"\"Iterate through files `files`, parse them and concatenate\n",
    "    the result to be saved as a DataFrame in a feather object (.ftr)\n",
    "    \"\"\"\n",
    "    main = None\n",
    "    previous_i = 0\n",
    "    current_i = 0\n",
    "    i = 0\n",
    "    n = 0\n",
    "    cnt = 0\n",
    "    dict_metadata = {}\n",
    "    \n",
    "    for index, row in files.iterrows():\n",
    "        try:\n",
    "            dict_metadata.update(\n",
    "                parse_XML_metadata(\n",
    "                    path = row[\"metadata_path\"],\n",
    "                    met_dir = row[\"metadata_dir\"], \n",
    "                    title = row[\"metadata_name\"],\n",
    "                    index = index))\n",
    "        except Exception:\n",
    "            continue\n",
    "        # Each X, save the file in a .ftr\n",
    "        if (i == 1000):\n",
    "            current_i = current_i + i\n",
    "            file_path = main_path[0]+\"/data/processed/processed_metadata/processed_metadata_\"+str(previous_i)+\"_\"+str(current_i)+\".ftr\"\n",
    "            main = pd.DataFrame.from_dict(dict_metadata).T.reset_index()\n",
    "            main.to_feather(file_path)\n",
    "            #return(main)\n",
    "            main = None\n",
    "            previous_i = current_i\n",
    "            i = 0\n",
    "        # Each 100 files, print the progress\n",
    "        if (i % 100 == 0):\n",
    "            print(\"Files parsed: \"+str(50*cnt))\n",
    "            print(\"Current file: \"+row[\"metadata_name\"]+\"\\n\")\n",
    "            cnt += 1\n",
    "        i += 1"
   ]
  },
  {
   "cell_type": "code",
   "execution_count": 110,
   "metadata": {
    "collapsed": true,
    "jupyter": {
     "outputs_hidden": true
    }
   },
   "outputs": [
    {
     "name": "stdout",
     "output_type": "stream",
     "text": [
      "Files parsed: 0\n",
      "Current file: DDD_110637387_0004_articletext.xml\n",
      "\n",
      "Files parsed: 2000\n",
      "Current file: DDD_010537363_0096_articletext.xml\n",
      "\n",
      "Files parsed: 4000\n",
      "Current file: DDD_010475606_0001_articletext.xml\n",
      "\n",
      "Files parsed: 6000\n",
      "Current file: DDD_010553991_0005_articletext.xml\n",
      "\n",
      "Files parsed: 8000\n",
      "Current file: DDD_010865369_0055_articletext.xml\n",
      "\n",
      "Files parsed: 10000\n",
      "Current file: DDD_011155306_0020_articletext.xml\n",
      "\n",
      "Files parsed: 12000\n",
      "Current file: DDD_010865705_0089_articletext.xml\n",
      "\n",
      "Files parsed: 14000\n",
      "Current file: DDD_011210774_0051_articletext.xml\n",
      "\n",
      "Files parsed: 16000\n",
      "Current file: DDD_110584875_0016_articletext.xml\n",
      "\n",
      "Files parsed: 18000\n",
      "Current file: DDD_110637374_0017_articletext.xml\n",
      "\n",
      "Files parsed: 20000\n",
      "Current file: DDD_110637356_0038_articletext.xml\n",
      "\n",
      "Files parsed: 22000\n",
      "Current file: DDD_010612734_0045_articletext.xml\n",
      "\n",
      "Files parsed: 24000\n",
      "Current file: DDD_011155499_0038_articletext.xml\n",
      "\n",
      "Files parsed: 26000\n",
      "Current file: DDD_010852376_0056_articletext.xml\n",
      "\n",
      "Files parsed: 28000\n",
      "Current file: DDD_010612732_0127_articletext.xml\n",
      "\n",
      "Files parsed: 30000\n",
      "Current file: DDD_010950576_0159_articletext.xml\n",
      "\n",
      "Files parsed: 32000\n",
      "Current file: DDD_010852482_0066_articletext.xml\n",
      "\n"
     ]
    },
    {
     "ename": "KeyboardInterrupt",
     "evalue": "",
     "output_type": "error",
     "traceback": [
      "\u001b[0;31m-------------------------------------------------------------------------\u001b[0m",
      "\u001b[0;31mKeyboardInterrupt\u001b[0m                       Traceback (most recent call last)",
      "\u001b[0;32m<ipython-input-110-e0fc2bb21704>\u001b[0m in \u001b[0;36m<module>\u001b[0;34m\u001b[0m\n\u001b[0;32m----> 1\u001b[0;31m \u001b[0miterate_files\u001b[0m\u001b[0;34m(\u001b[0m\u001b[0marticle_names\u001b[0m\u001b[0;34m)\u001b[0m\u001b[0;34m\u001b[0m\u001b[0;34m\u001b[0m\u001b[0m\n\u001b[0m",
      "\u001b[0;32m<ipython-input-109-a5199ef58753>\u001b[0m in \u001b[0;36miterate_files\u001b[0;34m(files)\u001b[0m\n\u001b[1;32m     18\u001b[0m                     \u001b[0mart_dir\u001b[0m \u001b[0;34m=\u001b[0m \u001b[0mrow\u001b[0m\u001b[0;34m[\u001b[0m\u001b[0;34m\"article_dir\"\u001b[0m\u001b[0;34m]\u001b[0m\u001b[0;34m,\u001b[0m\u001b[0;34m\u001b[0m\u001b[0;34m\u001b[0m\u001b[0m\n\u001b[1;32m     19\u001b[0m                     \u001b[0mtitle\u001b[0m \u001b[0;34m=\u001b[0m \u001b[0mrow\u001b[0m\u001b[0;34m[\u001b[0m\u001b[0;34m\"article_name\"\u001b[0m\u001b[0;34m]\u001b[0m\u001b[0;34m,\u001b[0m\u001b[0;34m\u001b[0m\u001b[0;34m\u001b[0m\u001b[0m\n\u001b[0;32m---> 20\u001b[0;31m                     index = index))\n\u001b[0m\u001b[1;32m     21\u001b[0m         \u001b[0;32mexcept\u001b[0m \u001b[0mException\u001b[0m \u001b[0;32mas\u001b[0m \u001b[0me\u001b[0m\u001b[0;34m:\u001b[0m\u001b[0;34m\u001b[0m\u001b[0;34m\u001b[0m\u001b[0m\n\u001b[1;32m     22\u001b[0m             \u001b[0mprint\u001b[0m\u001b[0;34m(\u001b[0m\u001b[0me\u001b[0m\u001b[0;34m.\u001b[0m\u001b[0mmessage\u001b[0m\u001b[0;34m,\u001b[0m \u001b[0me\u001b[0m\u001b[0;34m.\u001b[0m\u001b[0margs\u001b[0m\u001b[0;34m)\u001b[0m\u001b[0;34m\u001b[0m\u001b[0;34m\u001b[0m\u001b[0m\n",
      "\u001b[0;32m<ipython-input-95-08c8bc94d4b8>\u001b[0m in \u001b[0;36mparse_XML_article\u001b[0;34m(path, art_dir, title, index)\u001b[0m\n\u001b[1;32m      6\u001b[0m     \"\"\"\n\u001b[1;32m      7\u001b[0m \u001b[0;34m\u001b[0m\u001b[0m\n\u001b[0;32m----> 8\u001b[0;31m     \u001b[0mxtree\u001b[0m \u001b[0;34m=\u001b[0m \u001b[0met\u001b[0m\u001b[0;34m.\u001b[0m\u001b[0mparse\u001b[0m\u001b[0;34m(\u001b[0m\u001b[0mpath\u001b[0m\u001b[0;34m)\u001b[0m\u001b[0;34m\u001b[0m\u001b[0;34m\u001b[0m\u001b[0m\n\u001b[0m\u001b[1;32m      9\u001b[0m     \u001b[0mxroot\u001b[0m \u001b[0;34m=\u001b[0m \u001b[0mxtree\u001b[0m\u001b[0;34m.\u001b[0m\u001b[0mgetroot\u001b[0m\u001b[0;34m(\u001b[0m\u001b[0;34m)\u001b[0m\u001b[0;34m\u001b[0m\u001b[0;34m\u001b[0m\u001b[0m\n\u001b[1;32m     10\u001b[0m     \u001b[0marticle\u001b[0m \u001b[0;34m=\u001b[0m \u001b[0;34m{\u001b[0m\u001b[0;34m}\u001b[0m\u001b[0;34m\u001b[0m\u001b[0;34m\u001b[0m\u001b[0m\n",
      "\u001b[0;32m~/.pyenv/versions/3.7.7/lib/python3.7/xml/etree/ElementTree.py\u001b[0m in \u001b[0;36mparse\u001b[0;34m(source, parser)\u001b[0m\n\u001b[1;32m   1195\u001b[0m     \"\"\"\n\u001b[1;32m   1196\u001b[0m     \u001b[0mtree\u001b[0m \u001b[0;34m=\u001b[0m \u001b[0mElementTree\u001b[0m\u001b[0;34m(\u001b[0m\u001b[0;34m)\u001b[0m\u001b[0;34m\u001b[0m\u001b[0;34m\u001b[0m\u001b[0m\n\u001b[0;32m-> 1197\u001b[0;31m     \u001b[0mtree\u001b[0m\u001b[0;34m.\u001b[0m\u001b[0mparse\u001b[0m\u001b[0;34m(\u001b[0m\u001b[0msource\u001b[0m\u001b[0;34m,\u001b[0m \u001b[0mparser\u001b[0m\u001b[0;34m)\u001b[0m\u001b[0;34m\u001b[0m\u001b[0;34m\u001b[0m\u001b[0m\n\u001b[0m\u001b[1;32m   1198\u001b[0m     \u001b[0;32mreturn\u001b[0m \u001b[0mtree\u001b[0m\u001b[0;34m\u001b[0m\u001b[0;34m\u001b[0m\u001b[0m\n\u001b[1;32m   1199\u001b[0m \u001b[0;34m\u001b[0m\u001b[0m\n",
      "\u001b[0;32m~/.pyenv/versions/3.7.7/lib/python3.7/xml/etree/ElementTree.py\u001b[0m in \u001b[0;36mparse\u001b[0;34m(self, source, parser)\u001b[0m\n\u001b[1;32m    585\u001b[0m         \u001b[0mclose_source\u001b[0m \u001b[0;34m=\u001b[0m \u001b[0;32mFalse\u001b[0m\u001b[0;34m\u001b[0m\u001b[0;34m\u001b[0m\u001b[0m\n\u001b[1;32m    586\u001b[0m         \u001b[0;32mif\u001b[0m \u001b[0;32mnot\u001b[0m \u001b[0mhasattr\u001b[0m\u001b[0;34m(\u001b[0m\u001b[0msource\u001b[0m\u001b[0;34m,\u001b[0m \u001b[0;34m\"read\"\u001b[0m\u001b[0;34m)\u001b[0m\u001b[0;34m:\u001b[0m\u001b[0;34m\u001b[0m\u001b[0;34m\u001b[0m\u001b[0m\n\u001b[0;32m--> 587\u001b[0;31m             \u001b[0msource\u001b[0m \u001b[0;34m=\u001b[0m \u001b[0mopen\u001b[0m\u001b[0;34m(\u001b[0m\u001b[0msource\u001b[0m\u001b[0;34m,\u001b[0m \u001b[0;34m\"rb\"\u001b[0m\u001b[0;34m)\u001b[0m\u001b[0;34m\u001b[0m\u001b[0;34m\u001b[0m\u001b[0m\n\u001b[0m\u001b[1;32m    588\u001b[0m             \u001b[0mclose_source\u001b[0m \u001b[0;34m=\u001b[0m \u001b[0;32mTrue\u001b[0m\u001b[0;34m\u001b[0m\u001b[0;34m\u001b[0m\u001b[0m\n\u001b[1;32m    589\u001b[0m         \u001b[0;32mtry\u001b[0m\u001b[0;34m:\u001b[0m\u001b[0;34m\u001b[0m\u001b[0;34m\u001b[0m\u001b[0m\n",
      "\u001b[0;31mKeyboardInterrupt\u001b[0m: "
     ]
    }
   ],
   "source": [
    "iterate_files(article_names)"
   ]
  },
  {
   "cell_type": "code",
   "execution_count": 300,
   "metadata": {
    "collapsed": true,
    "jupyter": {
     "outputs_hidden": true
    }
   },
   "outputs": [
    {
     "name": "stdout",
     "output_type": "stream",
     "text": [
      "Files parsed: 0\n",
      "Current file: DDD:ddd:110637387:mpeg21.didl.xml.gz.xml\n",
      "\n",
      "Files parsed: 50\n",
      "Current file: DDD:ddd:010865705:mpeg21.didl.xml.gz.xml\n",
      "\n",
      "Files parsed: 100\n",
      "Current file: DDD:ddd:010891636:mpeg21.didl.xml.gz.xml\n",
      "\n",
      "Files parsed: 150\n",
      "Current file: DDD:ddd:010480615:mpeg21.didl.xml.gz.xml\n",
      "\n",
      "Files parsed: 200\n",
      "Current file: DDD:ddd:010480574:mpeg21.didl.xml.gz.xml\n",
      "\n",
      "Files parsed: 250\n",
      "Current file: DDD:ddd:011155446:mpeg21.didl.xml.gz.xml\n",
      "\n",
      "Files parsed: 300\n",
      "Current file: DDD:ddd:010537413:mpeg21.didl.xml.gz.xml\n",
      "\n",
      "Files parsed: 350\n",
      "Current file: DDD:ddd:110637339:mpeg21.didl.xml.gz.xml\n",
      "\n",
      "Files parsed: 400\n",
      "Current file: DDD:ddd:010950304:mpeg21.didl.xml.gz.xml\n",
      "\n",
      "Files parsed: 450\n",
      "Current file: DDD:ddd:011202192:mpeg21.didl.xml.gz.xml\n",
      "\n",
      "Files parsed: 500\n",
      "Current file: DDD:ddd:010852499:mpeg21.didl.xml.gz.xml\n",
      "\n",
      "Files parsed: 550\n",
      "Current file: DDD:ddd:010862555:mpeg21.didl.xml.gz.xml\n",
      "\n",
      "Files parsed: 600\n",
      "Current file: DDD:ddd:010865671:mpeg21.didl.xml.gz.xml\n",
      "\n",
      "Files parsed: 650\n",
      "Current file: DDD:ddd:010950611:mpeg21.didl.xml.gz.xml\n",
      "\n",
      "Files parsed: 700\n",
      "Current file: DDD:ddd:010950604:mpeg21.didl.xml.gz.xml\n",
      "\n",
      "Files parsed: 750\n",
      "Current file: DDD:ddd:010733900:mpeg21.didl.xml.gz.xml\n",
      "\n",
      "Files parsed: 800\n",
      "Current file: DDD:ddd:010886513:mpeg21.didl.xml.gz.xml\n",
      "\n",
      "Files parsed: 850\n",
      "Current file: DDD:ddd:010475617:mpeg21.didl.xml.gz.xml\n",
      "\n",
      "Files parsed: 900\n",
      "Current file: DDD:ddd:010417752:mpeg21.didl.xml.gz.xml\n",
      "\n",
      "Files parsed: 950\n",
      "Current file: DDD:ddd:010475618:mpeg21.didl.xml.gz.xml\n",
      "\n",
      "Files parsed: 1000\n",
      "Current file: DDD:ddd:010862664:mpeg21.didl.xml.gz.xml\n",
      "\n",
      "Files parsed: 1050\n",
      "Current file: DDD:ddd:010850961:mpeg21.didl.xml.gz.xml\n",
      "\n",
      "Files parsed: 1100\n",
      "Current file: DDD:ddd:011155321:mpeg21.didl.xml.gz.xml\n",
      "\n",
      "Files parsed: 1150\n",
      "Current file: DDD:ddd:010852448:mpeg21.didl.xml.gz.xml\n",
      "\n",
      "Files parsed: 1200\n",
      "Current file: DDD:ddd:010537412:mpeg21.didl.xml.gz.xml\n",
      "\n",
      "Files parsed: 1250\n",
      "Current file: DDD:ddd:010476410:mpeg21.didl.xml.gz.xml\n",
      "\n",
      "Files parsed: 1300\n",
      "Current file: DDD:ddd:010475604:mpeg21.didl.xml.gz.xml\n",
      "\n",
      "Files parsed: 1350\n",
      "Current file: DDD:ddd:010987679:mpeg21.didl.xml.gz.xml\n",
      "\n",
      "Files parsed: 1400\n",
      "Current file: DDD:ddd:010852523:mpeg21.didl.xml.gz.xml\n",
      "\n",
      "Files parsed: 1450\n",
      "Current file: DDD:ddd:011155471:mpeg21.didl.xml.gz.xml\n",
      "\n",
      "Files parsed: 1500\n",
      "Current file: DDD:ddd:010862791:mpeg21.didl.xml.gz.xml\n",
      "\n",
      "Files parsed: 1550\n",
      "Current file: DDD:ddd:110584895:mpeg21.didl.xml.gz.xml\n",
      "\n",
      "Files parsed: 1600\n",
      "Current file: DDD:ddd:010862798:mpeg21.didl.xml.gz.xml\n",
      "\n",
      "Files parsed: 1650\n",
      "Current file: DDD:ddd:110637545:mpeg21.didl.xml.gz.xml\n",
      "\n",
      "Files parsed: 1700\n",
      "Current file: DDD:ddd:010480431:mpeg21.didl.xml.gz.xml\n",
      "\n",
      "Files parsed: 1750\n",
      "Current file: DDD:ddd:010850943:mpeg21.didl.xml.gz.xml\n",
      "\n",
      "Files parsed: 1800\n",
      "Current file: DDD:ddd:010852559:mpeg21.didl.xml.gz.xml\n",
      "\n",
      "Files parsed: 1850\n",
      "Current file: DDD:ddd:010417410:mpeg21.didl.xml.gz.xml\n",
      "\n",
      "Files parsed: 1900\n",
      "Current file: DDD:ddd:010476457:mpeg21.didl.xml.gz.xml\n",
      "\n",
      "Files parsed: 1950\n",
      "Current file: DDD:ddd:010862620:mpeg21.didl.xml.gz.xml\n",
      "\n",
      "Files parsed: 2000\n",
      "Current file: DDD:ddd:010852585:mpeg21.didl.xml.gz.xml\n",
      "\n",
      "Files parsed: 2050\n",
      "Current file: DDD:ddd:010476428:mpeg21.didl.xml.gz.xml\n",
      "\n",
      "Files parsed: 2100\n",
      "Current file: DDD:ddd:110637581:mpeg21.didl.xml.gz.xml\n",
      "\n",
      "Files parsed: 2150\n",
      "Current file: DDD:ddd:010852453:mpeg21.didl.xml.gz.xml\n",
      "\n",
      "Files parsed: 2200\n",
      "Current file: DDD:ddd:010852385:mpeg21.didl.xml.gz.xml\n",
      "\n",
      "Files parsed: 2250\n",
      "Current file: DDD:ddd:010950489:mpeg21.didl.xml.gz.xml\n",
      "\n",
      "Files parsed: 2300\n",
      "Current file: DDD:ddd:011210764:mpeg21.didl.xml.gz.xml\n",
      "\n",
      "Files parsed: 2350\n",
      "Current file: DDD:ddd:010862753:mpeg21.didl.xml.gz.xml\n",
      "\n"
     ]
    }
   ],
   "source": [
    "iterate_metadata(metadata_files)"
   ]
  },
  {
   "cell_type": "markdown",
   "metadata": {
    "jupyter": {
     "source_hidden": true
    }
   },
   "source": [
    "## Text selection model"
   ]
  },
  {
   "cell_type": "markdown",
   "metadata": {
    "jupyter": {
     "source_hidden": true
    }
   },
   "source": [
    "## Ingest parsed files previously saved"
   ]
  },
  {
   "cell_type": "markdown",
   "metadata": {},
   "source": [
    "Once we parse all the files present in the example `data-1950` folder, we produce 65 files containing the parsed original data into a format which is more easily readable by a machine. The total weight of the files is 65*10=650MB which is a 5x reduction from the original size of the dataset."
   ]
  },
  {
   "cell_type": "code",
   "execution_count": 18,
   "metadata": {
    "jupyter": {
     "source_hidden": true
    }
   },
   "outputs": [
    {
     "name": "stderr",
     "output_type": "stream",
     "text": [
      "2020-09-09 16:13:54 - PyTorch version 1.6.0 available.\n"
     ]
    }
   ],
   "source": [
    "# https://www.sbert.net/docs/\n",
    "from sentence_transformers import SentenceTransformer, LoggingHandler, util\n",
    "\n",
    "# These are the pure transformers from huggingface\n",
    "import transformers\n",
    "from transformers import BertModel, BertTokenizer, AdamW, get_linear_schedule_with_warmup\n",
    "import torch\n",
    "\n",
    "import seaborn as sns\n",
    "from pylab import rcParams\n",
    "import matplotlib.pyplot as plt\n",
    "from matplotlib import rc\n",
    "from sklearn.model_selection import train_test_split\n",
    "from sklearn.metrics import confusion_matrix, classification_report\n",
    "from collections import defaultdict\n",
    "from textwrap import wrap\n",
    "from torch import nn, optim\n",
    "from torch.utils.data import Dataset, DataLoader\n",
    "\n",
    "# For saving\n",
    "import pickle\n",
    "import csv\n",
    "\n",
    "# Set searborn settings\n",
    "rcParams['figure.figsize'] = 12, 8\n",
    "\n",
    "# Set fixed random seed\n",
    "RANDOM_SEED = 42\n",
    "np.random.seed(RANDOM_SEED)\n",
    "torch.manual_seed(RANDOM_SEED)\n",
    "\n",
    "# Find GPU on device\n",
    "device = torch.device(\"cuda:0\" if torch.cuda.is_available() else \"cpu\")"
   ]
  },
  {
   "cell_type": "markdown",
   "metadata": {},
   "source": [
    "## Read saved files"
   ]
  },
  {
   "cell_type": "markdown",
   "metadata": {},
   "source": [
    "#### Retrieve all the names of the ftr files saved"
   ]
  },
  {
   "cell_type": "code",
   "execution_count": 11,
   "metadata": {},
   "outputs": [],
   "source": [
    "ftr_articles = iterate_directory(\"/data/processed/processed_articles\",\".ftr\")\n",
    "df_articles = pd.DataFrame(ftr_articles)\n",
    "df_articles.rename({'article_name': 'ftr_name', 'article_path': 'ftr_path', 'article_dir': 'ftr_dir'}, axis=1, inplace=True)"
   ]
  },
  {
   "cell_type": "code",
   "execution_count": 12,
   "metadata": {},
   "outputs": [],
   "source": [
    "ftr_metadata = iterate_directory(\"/data/processed/processed_metadata\",\".ftr\")\n",
    "df_metadata = pd.DataFrame(ftr_metadata)\n",
    "df_metadata.rename({'article_name': 'ftr_name', 'article_path': 'ftr_path', 'article_dir': 'ftr_dir'}, axis=1, inplace=True)"
   ]
  },
  {
   "cell_type": "markdown",
   "metadata": {},
   "source": [
    "#### Retrieve all the content of the files into a list format"
   ]
  },
  {
   "cell_type": "markdown",
   "metadata": {},
   "source": [
    "Read one ftr file as a test"
   ]
  },
  {
   "cell_type": "code",
   "execution_count": 13,
   "metadata": {},
   "outputs": [],
   "source": [
    "def iterate_ftr(df):\n",
    "    list_ftr = []\n",
    "    for index, row in df.iterrows():\n",
    "        #to delete - just for test\n",
    "        if index > 1:\n",
    "            break\n",
    "        \n",
    "        else:\n",
    "            ftr = pd.read_feather(row[\"ftr_path\"])\n",
    "            list_ftr.append(ftr)\n",
    "    \n",
    "    return(ftr)"
   ]
  },
  {
   "cell_type": "code",
   "execution_count": 14,
   "metadata": {},
   "outputs": [],
   "source": [
    "df_test_articles = iterate_ftr(df_articles)\n",
    "df_test_metadata = iterate_ftr(df_metadata)"
   ]
  },
  {
   "cell_type": "code",
   "execution_count": 15,
   "metadata": {},
   "outputs": [],
   "source": [
    "df_test_metadata.drop([\"level_0\", \"date\", \"index\"], axis=1, inplace=True)\n",
    "df_test_metadata.rename({\"filepath\": \"metadata_filepath\"}, axis=1, inplace=True)"
   ]
  },
  {
   "cell_type": "code",
   "execution_count": 16,
   "metadata": {},
   "outputs": [],
   "source": [
    "df_test_joined = df_test_articles.merge(df_test_metadata, how='left', on='dir')"
   ]
  },
  {
   "cell_type": "markdown",
   "metadata": {},
   "source": [
    "#### Now we have (one)a merged file"
   ]
  },
  {
   "cell_type": "markdown",
   "metadata": {},
   "source": [
    "Although this will be needed to be done recursively, for all files present in the database.\n",
    "\n",
    "So efficiency is key here!!!"
   ]
  },
  {
   "cell_type": "markdown",
   "metadata": {},
   "source": [
    "### Find synonym(s) for the key search word(s)"
   ]
  },
  {
   "cell_type": "code",
   "execution_count": 17,
   "metadata": {},
   "outputs": [],
   "source": [
    "import nl_core_news_lg\n",
    "import spacy\n",
    "from tqdm import tqdm\n",
    "import hdbscan"
   ]
  },
  {
   "cell_type": "code",
   "execution_count": 18,
   "metadata": {},
   "outputs": [],
   "source": [
    "nlp = nl_core_news_lg.load()"
   ]
  },
  {
   "cell_type": "code",
   "execution_count": 35,
   "metadata": {},
   "outputs": [],
   "source": [
    "ms = nlp.vocab.vectors.most_similar(np.asarray([nlp.vocab.vectors[nlp.vocab.strings['energie']]]), n=10)\n",
    "list_synonyms = [nlp.vocab.strings[w] for w in ms[0][0]]"
   ]
  },
  {
   "cell_type": "markdown",
   "metadata": {},
   "source": [
    "#### Create a list with only the text (paragraphs) and not the other variables"
   ]
  },
  {
   "cell_type": "markdown",
   "metadata": {},
   "source": [
    "Retrieve all the paragraphs into one single file"
   ]
  },
  {
   "cell_type": "code",
   "execution_count": 36,
   "metadata": {
    "collapsed": true,
    "jupyter": {
     "outputs_hidden": true
    }
   },
   "outputs": [
    {
     "data": {
      "text/html": [
       "<div>\n",
       "<style scoped>\n",
       "    .dataframe tbody tr th:only-of-type {\n",
       "        vertical-align: middle;\n",
       "    }\n",
       "\n",
       "    .dataframe tbody tr th {\n",
       "        vertical-align: top;\n",
       "    }\n",
       "\n",
       "    .dataframe thead th {\n",
       "        text-align: right;\n",
       "    }\n",
       "</style>\n",
       "<table border=\"1\" class=\"dataframe\">\n",
       "  <thead>\n",
       "    <tr style=\"text-align: right;\">\n",
       "      <th></th>\n",
       "      <th>article_name</th>\n",
       "      <th>date</th>\n",
       "      <th>index</th>\n",
       "      <th>filepath</th>\n",
       "      <th>dir</th>\n",
       "      <th>title</th>\n",
       "      <th>p_1</th>\n",
       "      <th>p_2</th>\n",
       "      <th>p_3</th>\n",
       "      <th>{urn:mpeg:mpeg21:2002:02-DIDL-NS}Item</th>\n",
       "      <th>...</th>\n",
       "      <th>metadata_title</th>\n",
       "      <th>metadata_filepath</th>\n",
       "      <th>newspaper_title</th>\n",
       "      <th>newspaper_date</th>\n",
       "      <th>newspaper_city</th>\n",
       "      <th>newspaper_publisher</th>\n",
       "      <th>newspaper_source</th>\n",
       "      <th>newspaper_volume</th>\n",
       "      <th>newspaper_issuenumber</th>\n",
       "      <th>newspaper_language</th>\n",
       "    </tr>\n",
       "  </thead>\n",
       "  <tbody>\n",
       "    <tr>\n",
       "      <th>0</th>\n",
       "      <td>DDD_110637387_0004_articletext.xml</td>\n",
       "      <td>1950-04-27</td>\n",
       "      <td>0</td>\n",
       "      <td>../data/1950/04-27/DDD_110637387/DDD_110637387...</td>\n",
       "      <td>../data/1950/04-27/DDD_110637387</td>\n",
       "      <td>None</td>\n",
       "      <td>Buiten Sociëteit „Het Park\" Dansgelegenheid vo...</td>\n",
       "      <td>None</td>\n",
       "      <td>None</td>\n",
       "      <td>None</td>\n",
       "      <td>...</td>\n",
       "      <td>DDD:ddd:110637387:mpeg21.didl.xml.gz.xml</td>\n",
       "      <td>../data/1950/04-27/DDD_110637387/DDD:ddd:11063...</td>\n",
       "      <td>De West : nieuwsblad uit en voor Suriname</td>\n",
       "      <td>1950-04-27</td>\n",
       "      <td>Paramaribo</td>\n",
       "      <td>W. Kraan</td>\n",
       "      <td>Koninklijke Bibliotheek</td>\n",
       "      <td>41</td>\n",
       "      <td>5087</td>\n",
       "      <td>nl</td>\n",
       "    </tr>\n",
       "    <tr>\n",
       "      <th>1</th>\n",
       "      <td>DDD_110637387_0039_articletext.xml</td>\n",
       "      <td>1950-04-27</td>\n",
       "      <td>1</td>\n",
       "      <td>../data/1950/04-27/DDD_110637387/DDD_110637387...</td>\n",
       "      <td>../data/1950/04-27/DDD_110637387</td>\n",
       "      <td>Aanvaring</td>\n",
       "      <td>Hongkong Het Chinese 1 communistische persbure...</td>\n",
       "      <td>None</td>\n",
       "      <td>None</td>\n",
       "      <td>None</td>\n",
       "      <td>...</td>\n",
       "      <td>DDD:ddd:110637387:mpeg21.didl.xml.gz.xml</td>\n",
       "      <td>../data/1950/04-27/DDD_110637387/DDD:ddd:11063...</td>\n",
       "      <td>De West : nieuwsblad uit en voor Suriname</td>\n",
       "      <td>1950-04-27</td>\n",
       "      <td>Paramaribo</td>\n",
       "      <td>W. Kraan</td>\n",
       "      <td>Koninklijke Bibliotheek</td>\n",
       "      <td>41</td>\n",
       "      <td>5087</td>\n",
       "      <td>nl</td>\n",
       "    </tr>\n",
       "    <tr>\n",
       "      <th>2</th>\n",
       "      <td>DDD_110637387_0043_articletext.xml</td>\n",
       "      <td>1950-04-27</td>\n",
       "      <td>2</td>\n",
       "      <td>../data/1950/04-27/DDD_110637387/DDD_110637387...</td>\n",
       "      <td>../data/1950/04-27/DDD_110637387</td>\n",
       "      <td>Dokter Raatgever vrijgesproken</td>\n",
       "      <td>Hedenmorgen stonden dokter Raatgever en de hee...</td>\n",
       "      <td>None</td>\n",
       "      <td>None</td>\n",
       "      <td>None</td>\n",
       "      <td>...</td>\n",
       "      <td>DDD:ddd:110637387:mpeg21.didl.xml.gz.xml</td>\n",
       "      <td>../data/1950/04-27/DDD_110637387/DDD:ddd:11063...</td>\n",
       "      <td>De West : nieuwsblad uit en voor Suriname</td>\n",
       "      <td>1950-04-27</td>\n",
       "      <td>Paramaribo</td>\n",
       "      <td>W. Kraan</td>\n",
       "      <td>Koninklijke Bibliotheek</td>\n",
       "      <td>41</td>\n",
       "      <td>5087</td>\n",
       "      <td>nl</td>\n",
       "    </tr>\n",
       "    <tr>\n",
       "      <th>3</th>\n",
       "      <td>DDD_110637387_0067_articletext.xml</td>\n",
       "      <td>1950-04-27</td>\n",
       "      <td>3</td>\n",
       "      <td>../data/1950/04-27/DDD_110637387/DDD_110637387...</td>\n",
       "      <td>../data/1950/04-27/DDD_110637387</td>\n",
       "      <td>De Avonturen van Kapitein Rob</td>\n",
       "      <td>Terwijl het ..Levende Eiland\" met grote snelhe...</td>\n",
       "      <td>None</td>\n",
       "      <td>None</td>\n",
       "      <td>None</td>\n",
       "      <td>...</td>\n",
       "      <td>DDD:ddd:110637387:mpeg21.didl.xml.gz.xml</td>\n",
       "      <td>../data/1950/04-27/DDD_110637387/DDD:ddd:11063...</td>\n",
       "      <td>De West : nieuwsblad uit en voor Suriname</td>\n",
       "      <td>1950-04-27</td>\n",
       "      <td>Paramaribo</td>\n",
       "      <td>W. Kraan</td>\n",
       "      <td>Koninklijke Bibliotheek</td>\n",
       "      <td>41</td>\n",
       "      <td>5087</td>\n",
       "      <td>nl</td>\n",
       "    </tr>\n",
       "    <tr>\n",
       "      <th>4</th>\n",
       "      <td>DDD_110637387_0020_articletext.xml</td>\n",
       "      <td>1950-04-27</td>\n",
       "      <td>4</td>\n",
       "      <td>../data/1950/04-27/DDD_110637387/DDD_110637387...</td>\n",
       "      <td>../data/1950/04-27/DDD_110637387</td>\n",
       "      <td>None</td>\n",
       "      <td>TRY AMERICA'S mm ït£jëk iï~££'U\"% ■.. «■ i.t:P...</td>\n",
       "      <td>None</td>\n",
       "      <td>None</td>\n",
       "      <td>None</td>\n",
       "      <td>...</td>\n",
       "      <td>DDD:ddd:110637387:mpeg21.didl.xml.gz.xml</td>\n",
       "      <td>../data/1950/04-27/DDD_110637387/DDD:ddd:11063...</td>\n",
       "      <td>De West : nieuwsblad uit en voor Suriname</td>\n",
       "      <td>1950-04-27</td>\n",
       "      <td>Paramaribo</td>\n",
       "      <td>W. Kraan</td>\n",
       "      <td>Koninklijke Bibliotheek</td>\n",
       "      <td>41</td>\n",
       "      <td>5087</td>\n",
       "      <td>nl</td>\n",
       "    </tr>\n",
       "    <tr>\n",
       "      <th>...</th>\n",
       "      <td>...</td>\n",
       "      <td>...</td>\n",
       "      <td>...</td>\n",
       "      <td>...</td>\n",
       "      <td>...</td>\n",
       "      <td>...</td>\n",
       "      <td>...</td>\n",
       "      <td>...</td>\n",
       "      <td>...</td>\n",
       "      <td>...</td>\n",
       "      <td>...</td>\n",
       "      <td>...</td>\n",
       "      <td>...</td>\n",
       "      <td>...</td>\n",
       "      <td>...</td>\n",
       "      <td>...</td>\n",
       "      <td>...</td>\n",
       "      <td>...</td>\n",
       "      <td>...</td>\n",
       "      <td>...</td>\n",
       "      <td>...</td>\n",
       "    </tr>\n",
       "    <tr>\n",
       "      <th>29996</th>\n",
       "      <td>DDD_010950576_0024_articletext.xml</td>\n",
       "      <td>1950-10-26</td>\n",
       "      <td>29996</td>\n",
       "      <td>../data/1950/10-26/DDD_010950576/DDD_010950576...</td>\n",
       "      <td>../data/1950/10-26/DDD_010950576</td>\n",
       "      <td>Jean Dulieu. 1377.</td>\n",
       "      <td>*'■ 1377,\"-.\"Daar. Pieter;no*t'nooit een' leeu...</td>\n",
       "      <td>None</td>\n",
       "      <td>None</td>\n",
       "      <td>None</td>\n",
       "      <td>...</td>\n",
       "      <td>DDD:ddd:010950576:mpeg21.didl.xml.gz.xml</td>\n",
       "      <td>../data/1950/10-26/DDD_010950576/DDD:ddd:01095...</td>\n",
       "      <td>Het vrĳe volk : democratisch-socialistisch dag...</td>\n",
       "      <td>1950-10-26</td>\n",
       "      <td>Rotterdam</td>\n",
       "      <td>De Arbeiderspers</td>\n",
       "      <td>Gemeentearchief Rotterdam</td>\n",
       "      <td>6</td>\n",
       "      <td>1661</td>\n",
       "      <td>nl</td>\n",
       "    </tr>\n",
       "    <tr>\n",
       "      <th>29997</th>\n",
       "      <td>DDD_010950576_0111_articletext.xml</td>\n",
       "      <td>1950-10-26</td>\n",
       "      <td>29997</td>\n",
       "      <td>../data/1950/10-26/DDD_010950576/DDD_010950576...</td>\n",
       "      <td>../data/1950/10-26/DDD_010950576</td>\n",
       "      <td>Nieuw Lagerhuis, maar met de eeuwenoude tradities</td>\n",
       "      <td>(Van onze Londense correspondent, \\',ï\\\\£ï **•...</td>\n",
       "      <td>10 Mei is niet alleen voor Nederland een belan...</td>\n",
       "      <td>Churchill verzocht het parlement om stricte ge...</td>\n",
       "      <td>None</td>\n",
       "      <td>...</td>\n",
       "      <td>DDD:ddd:010950576:mpeg21.didl.xml.gz.xml</td>\n",
       "      <td>../data/1950/10-26/DDD_010950576/DDD:ddd:01095...</td>\n",
       "      <td>Het vrĳe volk : democratisch-socialistisch dag...</td>\n",
       "      <td>1950-10-26</td>\n",
       "      <td>Rotterdam</td>\n",
       "      <td>De Arbeiderspers</td>\n",
       "      <td>Gemeentearchief Rotterdam</td>\n",
       "      <td>6</td>\n",
       "      <td>1661</td>\n",
       "      <td>nl</td>\n",
       "    </tr>\n",
       "    <tr>\n",
       "      <th>29998</th>\n",
       "      <td>DDD_010950576_0063_articletext.xml</td>\n",
       "      <td>1950-10-26</td>\n",
       "      <td>29998</td>\n",
       "      <td>../data/1950/10-26/DDD_010950576/DDD_010950576...</td>\n",
       "      <td>../data/1950/10-26/DDD_010950576</td>\n",
       "      <td>None</td>\n",
       "      <td>Gedemobiliseerden vragen Uw aandacht WIE HELPT...</td>\n",
       "      <td>None</td>\n",
       "      <td>None</td>\n",
       "      <td>None</td>\n",
       "      <td>...</td>\n",
       "      <td>DDD:ddd:010950576:mpeg21.didl.xml.gz.xml</td>\n",
       "      <td>../data/1950/10-26/DDD_010950576/DDD:ddd:01095...</td>\n",
       "      <td>Het vrĳe volk : democratisch-socialistisch dag...</td>\n",
       "      <td>1950-10-26</td>\n",
       "      <td>Rotterdam</td>\n",
       "      <td>De Arbeiderspers</td>\n",
       "      <td>Gemeentearchief Rotterdam</td>\n",
       "      <td>6</td>\n",
       "      <td>1661</td>\n",
       "      <td>nl</td>\n",
       "    </tr>\n",
       "    <tr>\n",
       "      <th>29999</th>\n",
       "      <td>DDD_010950576_0164_articletext.xml</td>\n",
       "      <td>1950-10-26</td>\n",
       "      <td>29999</td>\n",
       "      <td>../data/1950/10-26/DDD_010950576/DDD_010950576...</td>\n",
       "      <td>../data/1950/10-26/DDD_010950576</td>\n",
       "      <td>„De Wereld heeft geen Wachtkamer” Toneelstuk v...</td>\n",
       "      <td>(Van onze kunstredactie) • „De Wereld heeft ge...</td>\n",
       "      <td>Het verhaal van de jonge geleerde,, die zich v...</td>\n",
       "      <td>None</td>\n",
       "      <td>None</td>\n",
       "      <td>...</td>\n",
       "      <td>DDD:ddd:010950576:mpeg21.didl.xml.gz.xml</td>\n",
       "      <td>../data/1950/10-26/DDD_010950576/DDD:ddd:01095...</td>\n",
       "      <td>Het vrĳe volk : democratisch-socialistisch dag...</td>\n",
       "      <td>1950-10-26</td>\n",
       "      <td>Rotterdam</td>\n",
       "      <td>De Arbeiderspers</td>\n",
       "      <td>Gemeentearchief Rotterdam</td>\n",
       "      <td>6</td>\n",
       "      <td>1661</td>\n",
       "      <td>nl</td>\n",
       "    </tr>\n",
       "    <tr>\n",
       "      <th>30000</th>\n",
       "      <td>DDD_010950576_0159_articletext.xml</td>\n",
       "      <td>1950-10-26</td>\n",
       "      <td>30000</td>\n",
       "      <td>../data/1950/10-26/DDD_010950576/DDD_010950576...</td>\n",
       "      <td>../data/1950/10-26/DDD_010950576</td>\n",
       "      <td>Oil City Hoogvliet Plan voor 1400 woningen</td>\n",
       "      <td>Het omvangryke industriegebied aan de beide Pe...</td>\n",
       "      <td>Aan de zuidzyde van laatstgenoemde dijk is een...</td>\n",
       "      <td>Het plan geeft 1378 woningen aan, v/aarvan 117...</td>\n",
       "      <td>None</td>\n",
       "      <td>...</td>\n",
       "      <td>DDD:ddd:010950576:mpeg21.didl.xml.gz.xml</td>\n",
       "      <td>../data/1950/10-26/DDD_010950576/DDD:ddd:01095...</td>\n",
       "      <td>Het vrĳe volk : democratisch-socialistisch dag...</td>\n",
       "      <td>1950-10-26</td>\n",
       "      <td>Rotterdam</td>\n",
       "      <td>De Arbeiderspers</td>\n",
       "      <td>Gemeentearchief Rotterdam</td>\n",
       "      <td>6</td>\n",
       "      <td>1661</td>\n",
       "      <td>nl</td>\n",
       "    </tr>\n",
       "  </tbody>\n",
       "</table>\n",
       "<p>30001 rows × 59 columns</p>\n",
       "</div>"
      ],
      "text/plain": [
       "                             article_name        date  index  \\\n",
       "0      DDD_110637387_0004_articletext.xml  1950-04-27      0   \n",
       "1      DDD_110637387_0039_articletext.xml  1950-04-27      1   \n",
       "2      DDD_110637387_0043_articletext.xml  1950-04-27      2   \n",
       "3      DDD_110637387_0067_articletext.xml  1950-04-27      3   \n",
       "4      DDD_110637387_0020_articletext.xml  1950-04-27      4   \n",
       "...                                   ...         ...    ...   \n",
       "29996  DDD_010950576_0024_articletext.xml  1950-10-26  29996   \n",
       "29997  DDD_010950576_0111_articletext.xml  1950-10-26  29997   \n",
       "29998  DDD_010950576_0063_articletext.xml  1950-10-26  29998   \n",
       "29999  DDD_010950576_0164_articletext.xml  1950-10-26  29999   \n",
       "30000  DDD_010950576_0159_articletext.xml  1950-10-26  30000   \n",
       "\n",
       "                                                filepath  \\\n",
       "0      ../data/1950/04-27/DDD_110637387/DDD_110637387...   \n",
       "1      ../data/1950/04-27/DDD_110637387/DDD_110637387...   \n",
       "2      ../data/1950/04-27/DDD_110637387/DDD_110637387...   \n",
       "3      ../data/1950/04-27/DDD_110637387/DDD_110637387...   \n",
       "4      ../data/1950/04-27/DDD_110637387/DDD_110637387...   \n",
       "...                                                  ...   \n",
       "29996  ../data/1950/10-26/DDD_010950576/DDD_010950576...   \n",
       "29997  ../data/1950/10-26/DDD_010950576/DDD_010950576...   \n",
       "29998  ../data/1950/10-26/DDD_010950576/DDD_010950576...   \n",
       "29999  ../data/1950/10-26/DDD_010950576/DDD_010950576...   \n",
       "30000  ../data/1950/10-26/DDD_010950576/DDD_010950576...   \n",
       "\n",
       "                                    dir  \\\n",
       "0      ../data/1950/04-27/DDD_110637387   \n",
       "1      ../data/1950/04-27/DDD_110637387   \n",
       "2      ../data/1950/04-27/DDD_110637387   \n",
       "3      ../data/1950/04-27/DDD_110637387   \n",
       "4      ../data/1950/04-27/DDD_110637387   \n",
       "...                                 ...   \n",
       "29996  ../data/1950/10-26/DDD_010950576   \n",
       "29997  ../data/1950/10-26/DDD_010950576   \n",
       "29998  ../data/1950/10-26/DDD_010950576   \n",
       "29999  ../data/1950/10-26/DDD_010950576   \n",
       "30000  ../data/1950/10-26/DDD_010950576   \n",
       "\n",
       "                                                   title  \\\n",
       "0                                                   None   \n",
       "1                                              Aanvaring   \n",
       "2                         Dokter Raatgever vrijgesproken   \n",
       "3                          De Avonturen van Kapitein Rob   \n",
       "4                                                   None   \n",
       "...                                                  ...   \n",
       "29996                                 Jean Dulieu. 1377.   \n",
       "29997  Nieuw Lagerhuis, maar met de eeuwenoude tradities   \n",
       "29998                                               None   \n",
       "29999  „De Wereld heeft geen Wachtkamer” Toneelstuk v...   \n",
       "30000         Oil City Hoogvliet Plan voor 1400 woningen   \n",
       "\n",
       "                                                     p_1  \\\n",
       "0      Buiten Sociëteit „Het Park\" Dansgelegenheid vo...   \n",
       "1      Hongkong Het Chinese 1 communistische persbure...   \n",
       "2      Hedenmorgen stonden dokter Raatgever en de hee...   \n",
       "3      Terwijl het ..Levende Eiland\" met grote snelhe...   \n",
       "4      TRY AMERICA'S mm ït£jëk iï~££'U\"% ■.. «■ i.t:P...   \n",
       "...                                                  ...   \n",
       "29996  *'■ 1377,\"-.\"Daar. Pieter;no*t'nooit een' leeu...   \n",
       "29997  (Van onze Londense correspondent, \\',ï\\\\£ï **•...   \n",
       "29998  Gedemobiliseerden vragen Uw aandacht WIE HELPT...   \n",
       "29999  (Van onze kunstredactie) • „De Wereld heeft ge...   \n",
       "30000  Het omvangryke industriegebied aan de beide Pe...   \n",
       "\n",
       "                                                     p_2  \\\n",
       "0                                                   None   \n",
       "1                                                   None   \n",
       "2                                                   None   \n",
       "3                                                   None   \n",
       "4                                                   None   \n",
       "...                                                  ...   \n",
       "29996                                               None   \n",
       "29997  10 Mei is niet alleen voor Nederland een belan...   \n",
       "29998                                               None   \n",
       "29999  Het verhaal van de jonge geleerde,, die zich v...   \n",
       "30000  Aan de zuidzyde van laatstgenoemde dijk is een...   \n",
       "\n",
       "                                                     p_3  \\\n",
       "0                                                   None   \n",
       "1                                                   None   \n",
       "2                                                   None   \n",
       "3                                                   None   \n",
       "4                                                   None   \n",
       "...                                                  ...   \n",
       "29996                                               None   \n",
       "29997  Churchill verzocht het parlement om stricte ge...   \n",
       "29998                                               None   \n",
       "29999                                               None   \n",
       "30000  Het plan geeft 1378 woningen aan, v/aarvan 117...   \n",
       "\n",
       "      {urn:mpeg:mpeg21:2002:02-DIDL-NS}Item  ...  \\\n",
       "0                                      None  ...   \n",
       "1                                      None  ...   \n",
       "2                                      None  ...   \n",
       "3                                      None  ...   \n",
       "4                                      None  ...   \n",
       "...                                     ...  ...   \n",
       "29996                                  None  ...   \n",
       "29997                                  None  ...   \n",
       "29998                                  None  ...   \n",
       "29999                                  None  ...   \n",
       "30000                                  None  ...   \n",
       "\n",
       "                                 metadata_title  \\\n",
       "0      DDD:ddd:110637387:mpeg21.didl.xml.gz.xml   \n",
       "1      DDD:ddd:110637387:mpeg21.didl.xml.gz.xml   \n",
       "2      DDD:ddd:110637387:mpeg21.didl.xml.gz.xml   \n",
       "3      DDD:ddd:110637387:mpeg21.didl.xml.gz.xml   \n",
       "4      DDD:ddd:110637387:mpeg21.didl.xml.gz.xml   \n",
       "...                                         ...   \n",
       "29996  DDD:ddd:010950576:mpeg21.didl.xml.gz.xml   \n",
       "29997  DDD:ddd:010950576:mpeg21.didl.xml.gz.xml   \n",
       "29998  DDD:ddd:010950576:mpeg21.didl.xml.gz.xml   \n",
       "29999  DDD:ddd:010950576:mpeg21.didl.xml.gz.xml   \n",
       "30000  DDD:ddd:010950576:mpeg21.didl.xml.gz.xml   \n",
       "\n",
       "                                       metadata_filepath  \\\n",
       "0      ../data/1950/04-27/DDD_110637387/DDD:ddd:11063...   \n",
       "1      ../data/1950/04-27/DDD_110637387/DDD:ddd:11063...   \n",
       "2      ../data/1950/04-27/DDD_110637387/DDD:ddd:11063...   \n",
       "3      ../data/1950/04-27/DDD_110637387/DDD:ddd:11063...   \n",
       "4      ../data/1950/04-27/DDD_110637387/DDD:ddd:11063...   \n",
       "...                                                  ...   \n",
       "29996  ../data/1950/10-26/DDD_010950576/DDD:ddd:01095...   \n",
       "29997  ../data/1950/10-26/DDD_010950576/DDD:ddd:01095...   \n",
       "29998  ../data/1950/10-26/DDD_010950576/DDD:ddd:01095...   \n",
       "29999  ../data/1950/10-26/DDD_010950576/DDD:ddd:01095...   \n",
       "30000  ../data/1950/10-26/DDD_010950576/DDD:ddd:01095...   \n",
       "\n",
       "                                         newspaper_title newspaper_date  \\\n",
       "0              De West : nieuwsblad uit en voor Suriname     1950-04-27   \n",
       "1              De West : nieuwsblad uit en voor Suriname     1950-04-27   \n",
       "2              De West : nieuwsblad uit en voor Suriname     1950-04-27   \n",
       "3              De West : nieuwsblad uit en voor Suriname     1950-04-27   \n",
       "4              De West : nieuwsblad uit en voor Suriname     1950-04-27   \n",
       "...                                                  ...            ...   \n",
       "29996  Het vrĳe volk : democratisch-socialistisch dag...     1950-10-26   \n",
       "29997  Het vrĳe volk : democratisch-socialistisch dag...     1950-10-26   \n",
       "29998  Het vrĳe volk : democratisch-socialistisch dag...     1950-10-26   \n",
       "29999  Het vrĳe volk : democratisch-socialistisch dag...     1950-10-26   \n",
       "30000  Het vrĳe volk : democratisch-socialistisch dag...     1950-10-26   \n",
       "\n",
       "      newspaper_city newspaper_publisher           newspaper_source  \\\n",
       "0         Paramaribo            W. Kraan    Koninklijke Bibliotheek   \n",
       "1         Paramaribo            W. Kraan    Koninklijke Bibliotheek   \n",
       "2         Paramaribo            W. Kraan    Koninklijke Bibliotheek   \n",
       "3         Paramaribo            W. Kraan    Koninklijke Bibliotheek   \n",
       "4         Paramaribo            W. Kraan    Koninklijke Bibliotheek   \n",
       "...              ...                 ...                        ...   \n",
       "29996      Rotterdam    De Arbeiderspers  Gemeentearchief Rotterdam   \n",
       "29997      Rotterdam    De Arbeiderspers  Gemeentearchief Rotterdam   \n",
       "29998      Rotterdam    De Arbeiderspers  Gemeentearchief Rotterdam   \n",
       "29999      Rotterdam    De Arbeiderspers  Gemeentearchief Rotterdam   \n",
       "30000      Rotterdam    De Arbeiderspers  Gemeentearchief Rotterdam   \n",
       "\n",
       "      newspaper_volume newspaper_issuenumber newspaper_language  \n",
       "0                   41                  5087                 nl  \n",
       "1                   41                  5087                 nl  \n",
       "2                   41                  5087                 nl  \n",
       "3                   41                  5087                 nl  \n",
       "4                   41                  5087                 nl  \n",
       "...                ...                   ...                ...  \n",
       "29996                6                  1661                 nl  \n",
       "29997                6                  1661                 nl  \n",
       "29998                6                  1661                 nl  \n",
       "29999                6                  1661                 nl  \n",
       "30000                6                  1661                 nl  \n",
       "\n",
       "[30001 rows x 59 columns]"
      ]
     },
     "execution_count": 36,
     "metadata": {},
     "output_type": "execute_result"
    }
   ],
   "source": [
    "df_test_joined"
   ]
  },
  {
   "cell_type": "code",
   "execution_count": 41,
   "metadata": {},
   "outputs": [],
   "source": [
    "def list_paragraphs(df):\n",
    "    list_p = []\n",
    "\n",
    "    for index, row in df.iterrows():\n",
    "        for i in range(1,df.shape[1]):\n",
    "            p = \"p_\"+str(i)\n",
    "            try:\n",
    "                if row[p] and row[p] is not None:\n",
    "                    list_p.append(row[p])\n",
    "            except KeyError as e:\n",
    "                continue\n",
    "\n",
    "    return(list_p)"
   ]
  },
  {
   "cell_type": "code",
   "execution_count": null,
   "metadata": {},
   "outputs": [],
   "source": [
    "par = list_paragraphs(df_test_joined)"
   ]
  },
  {
   "cell_type": "code",
   "execution_count": 47,
   "metadata": {},
   "outputs": [],
   "source": [
    "indices = [i for i, x in enumerate(list_sentences) if x == \"50\"]"
   ]
  },
  {
   "cell_type": "code",
   "execution_count": 64,
   "metadata": {},
   "outputs": [],
   "source": [
    "test = pd.DataFrame(list_sentences).reset_index()\n",
    "test.rename({0: 'text'}, axis=1, inplace=True)"
   ]
  },
  {
   "cell_type": "code",
   "execution_count": 66,
   "metadata": {},
   "outputs": [
    {
     "data": {
      "text/html": [
       "<div>\n",
       "<style scoped>\n",
       "    .dataframe tbody tr th:only-of-type {\n",
       "        vertical-align: middle;\n",
       "    }\n",
       "\n",
       "    .dataframe tbody tr th {\n",
       "        vertical-align: top;\n",
       "    }\n",
       "\n",
       "    .dataframe thead th {\n",
       "        text-align: right;\n",
       "    }\n",
       "</style>\n",
       "<table border=\"1\" class=\"dataframe\">\n",
       "  <thead>\n",
       "    <tr style=\"text-align: right;\">\n",
       "      <th></th>\n",
       "      <th>index</th>\n",
       "      <th>text</th>\n",
       "    </tr>\n",
       "  </thead>\n",
       "  <tbody>\n",
       "    <tr>\n",
       "      <th>122</th>\n",
       "      <td>122</td>\n",
       "      <td>Het is natuurlijk waar, dat de inzet van mense...</td>\n",
       "    </tr>\n",
       "    <tr>\n",
       "      <th>437</th>\n",
       "      <td>437</td>\n",
       "      <td>Botsing:. — Op de hoek BreukerwegTTCarboonstra...</td>\n",
       "    </tr>\n",
       "    <tr>\n",
       "      <th>462</th>\n",
       "      <td>462</td>\n",
       "      <td>(AJvertentie) Rheumatiek ondermijnt Uw hele ge...</td>\n",
       "    </tr>\n",
       "    <tr>\n",
       "      <th>726</th>\n",
       "      <td>726</td>\n",
       "      <td>\\7 OOR de grote meerderheid der sterren zou me...</td>\n",
       "    </tr>\n",
       "    <tr>\n",
       "      <th>731</th>\n",
       "      <td>731</td>\n",
       "      <td>Professor Auguste Piccard, de beroemde stratos...</td>\n",
       "    </tr>\n",
       "    <tr>\n",
       "      <th>...</th>\n",
       "      <td>...</td>\n",
       "      <td>...</td>\n",
       "    </tr>\n",
       "    <tr>\n",
       "      <th>16465</th>\n",
       "      <td>16465</td>\n",
       "      <td>Men mag met. stelligheid aannemen, dat de rege...</td>\n",
       "    </tr>\n",
       "    <tr>\n",
       "      <th>16501</th>\n",
       "      <td>16501</td>\n",
       "      <td>Vitanol Pillen: . geven levensl. en vern. Uw k...</td>\n",
       "    </tr>\n",
       "    <tr>\n",
       "      <th>16603</th>\n",
       "      <td>16603</td>\n",
       "      <td>Ongeveer een jaar geleden heeft het werk van d...</td>\n",
       "    </tr>\n",
       "    <tr>\n",
       "      <th>16607</th>\n",
       "      <td>16607</td>\n",
       "      <td>Vanochtend om 5.30 uur bleek, dat «lechts één ...</td>\n",
       "    </tr>\n",
       "    <tr>\n",
       "      <th>16650</th>\n",
       "      <td>16650</td>\n",
       "      <td>A Is U nu eens goed wilt opletten,\" zei profes...</td>\n",
       "    </tr>\n",
       "  </tbody>\n",
       "</table>\n",
       "<p>104 rows × 2 columns</p>\n",
       "</div>"
      ],
      "text/plain": [
       "       index                                               text\n",
       "122      122  Het is natuurlijk waar, dat de inzet van mense...\n",
       "437      437  Botsing:. — Op de hoek BreukerwegTTCarboonstra...\n",
       "462      462  (AJvertentie) Rheumatiek ondermijnt Uw hele ge...\n",
       "726      726  \\7 OOR de grote meerderheid der sterren zou me...\n",
       "731      731  Professor Auguste Piccard, de beroemde stratos...\n",
       "...      ...                                                ...\n",
       "16465  16465  Men mag met. stelligheid aannemen, dat de rege...\n",
       "16501  16501  Vitanol Pillen: . geven levensl. en vern. Uw k...\n",
       "16603  16603  Ongeveer een jaar geleden heeft het werk van d...\n",
       "16607  16607  Vanochtend om 5.30 uur bleek, dat «lechts één ...\n",
       "16650  16650  A Is U nu eens goed wilt opletten,\" zei profes...\n",
       "\n",
       "[104 rows x 2 columns]"
      ]
     },
     "execution_count": 66,
     "metadata": {},
     "output_type": "execute_result"
    }
   ],
   "source": [
    "test1 = test[test[\"text\"].str.contains(\"energie\")]\n",
    "test1"
   ]
  },
  {
   "cell_type": "code",
   "execution_count": 55,
   "metadata": {},
   "outputs": [],
   "source": [
    "# Save to CSV\n",
    "test.to_csv(path[0]+\"/data\"+\"/list_sentences.csv\",\n",
    "            sep=\",\",\n",
    "            quotechar='\"',\n",
    "            header=[\"index\",\"text\"],\n",
    "            index=False)\n",
    "\n",
    "#with open(path[0]+\"/data\"+\"/list_sentences.csv\", 'w') as myfile:\n",
    "#    wr = csv.writer(myfile, quoting=csv.QUOTE_ALL)\n",
    "#    wr.writerow(list_sentences)\n",
    "\n",
    "#with open('list_sentences.pkl', \"wb\") as fOut:\n",
    "#    pickle.dump(list_sentences, fOut, protocol=pickle.HIGHEST_PROTOCOL)"
   ]
  },
  {
   "cell_type": "code",
   "execution_count": 29,
   "metadata": {},
   "outputs": [],
   "source": [
    "# Temp list\n",
    "sen = list_sentences"
   ]
  },
  {
   "cell_type": "markdown",
   "metadata": {
    "jupyter": {
     "source_hidden": true
    }
   },
   "source": [
    "### Use the multilingual model pre-trained on 10+ languages"
   ]
  },
  {
   "cell_type": "markdown",
   "metadata": {},
   "source": [
    "### Play around with `SBERT`"
   ]
  },
  {
   "cell_type": "markdown",
   "metadata": {},
   "source": [
    "The model is the `distiluse-base-multilingual-cased` model. From (sbert)[https://www.sbert.net/docs/pretrained_models.html]"
   ]
  },
  {
   "cell_type": "code",
   "execution_count": 23,
   "metadata": {
    "collapsed": true,
    "jupyter": {
     "outputs_hidden": true
    }
   },
   "outputs": [
    {
     "name": "stderr",
     "output_type": "stream",
     "text": [
      "2020-09-01 14:57:56 - Load pretrained SentenceTransformer: distiluse-base-multilingual-cased\n",
      "2020-09-01 14:57:56 - Did not find a '/' or '\\' in the name. Assume to download model from server.\n",
      "2020-09-01 14:57:56 - Load SentenceTransformer from folder: /Users/leonardovida/.cache/torch/sentence_transformers/public.ukp.informatik.tu-darmstadt.de_reimers_sentence-transformers_v0.2_distiluse-base-multilingual-cased.zip\n",
      "2020-09-01 14:57:56 - loading configuration file /Users/leonardovida/.cache/torch/sentence_transformers/public.ukp.informatik.tu-darmstadt.de_reimers_sentence-transformers_v0.2_distiluse-base-multilingual-cased.zip/0_DistilBERT/config.json\n",
      "2020-09-01 14:57:56 - Model config DistilBertConfig {\n",
      "  \"activation\": \"gelu\",\n",
      "  \"attention_dropout\": 0.1,\n",
      "  \"dim\": 768,\n",
      "  \"dropout\": 0.1,\n",
      "  \"hidden_dim\": 3072,\n",
      "  \"initializer_range\": 0.02,\n",
      "  \"max_position_embeddings\": 512,\n",
      "  \"model_type\": \"distilbert\",\n",
      "  \"n_heads\": 12,\n",
      "  \"n_layers\": 6,\n",
      "  \"output_hidden_states\": true,\n",
      "  \"output_past\": true,\n",
      "  \"pad_token_id\": 0,\n",
      "  \"qa_dropout\": 0.1,\n",
      "  \"seq_classif_dropout\": 0.2,\n",
      "  \"sinusoidal_pos_embds\": false,\n",
      "  \"tie_weights_\": true,\n",
      "  \"vocab_size\": 119547\n",
      "}\n",
      "\n",
      "2020-09-01 14:57:56 - loading weights file /Users/leonardovida/.cache/torch/sentence_transformers/public.ukp.informatik.tu-darmstadt.de_reimers_sentence-transformers_v0.2_distiluse-base-multilingual-cased.zip/0_DistilBERT/pytorch_model.bin\n",
      "2020-09-01 14:58:02 - All model checkpoint weights were used when initializing DistilBertModel.\n",
      "\n",
      "2020-09-01 14:58:02 - All the weights of DistilBertModel were initialized from the model checkpoint at /Users/leonardovida/.cache/torch/sentence_transformers/public.ukp.informatik.tu-darmstadt.de_reimers_sentence-transformers_v0.2_distiluse-base-multilingual-cased.zip/0_DistilBERT.\n",
      "If your task is similar to the task the model of the ckeckpoint was trained on, you can already use DistilBertModel for predictions without further training.\n",
      "2020-09-01 14:58:02 - Model name '/Users/leonardovida/.cache/torch/sentence_transformers/public.ukp.informatik.tu-darmstadt.de_reimers_sentence-transformers_v0.2_distiluse-base-multilingual-cased.zip/0_DistilBERT' not found in model shortcut name list (distilbert-base-uncased, distilbert-base-uncased-distilled-squad, distilbert-base-cased, distilbert-base-cased-distilled-squad, distilbert-base-german-cased, distilbert-base-multilingual-cased). Assuming '/Users/leonardovida/.cache/torch/sentence_transformers/public.ukp.informatik.tu-darmstadt.de_reimers_sentence-transformers_v0.2_distiluse-base-multilingual-cased.zip/0_DistilBERT' is a path, a model identifier, or url to a directory containing tokenizer files.\n",
      "2020-09-01 14:58:02 - Didn't find file /Users/leonardovida/.cache/torch/sentence_transformers/public.ukp.informatik.tu-darmstadt.de_reimers_sentence-transformers_v0.2_distiluse-base-multilingual-cased.zip/0_DistilBERT/tokenizer.json. We won't load it.\n",
      "2020-09-01 14:58:02 - loading file /Users/leonardovida/.cache/torch/sentence_transformers/public.ukp.informatik.tu-darmstadt.de_reimers_sentence-transformers_v0.2_distiluse-base-multilingual-cased.zip/0_DistilBERT/vocab.txt\n",
      "2020-09-01 14:58:02 - loading file /Users/leonardovida/.cache/torch/sentence_transformers/public.ukp.informatik.tu-darmstadt.de_reimers_sentence-transformers_v0.2_distiluse-base-multilingual-cased.zip/0_DistilBERT/added_tokens.json\n",
      "2020-09-01 14:58:02 - loading file /Users/leonardovida/.cache/torch/sentence_transformers/public.ukp.informatik.tu-darmstadt.de_reimers_sentence-transformers_v0.2_distiluse-base-multilingual-cased.zip/0_DistilBERT/special_tokens_map.json\n",
      "2020-09-01 14:58:02 - loading file /Users/leonardovida/.cache/torch/sentence_transformers/public.ukp.informatik.tu-darmstadt.de_reimers_sentence-transformers_v0.2_distiluse-base-multilingual-cased.zip/0_DistilBERT/tokenizer_config.json\n",
      "2020-09-01 14:58:02 - loading file None\n"
     ]
    },
    {
     "data": {
      "application/vnd.jupyter.widget-view+json": {
       "model_id": "b1c7dcaa65ea4c65910a2240002fde48",
       "version_major": 2,
       "version_minor": 0
      },
      "text/plain": [
       "HBox(children=(FloatProgress(value=0.0, description='Batches', max=2.0, style=ProgressStyle(description_width=…"
      ]
     },
     "metadata": {},
     "output_type": "display_data"
    },
    {
     "name": "stdout",
     "output_type": "stream",
     "text": [
      "\n",
      "Sentence: t/„.t„;j.'_„ Gisteren heeft Verleiding... Dagwacnt op één van zyn tochten door de stad alle mogelyke moeite gedaan de parkjes te omzeilen. De verleiding was groot om neer te zinken op één van de banken en te genieten van de zalige zomers aandoende zonneschyn. Laat hy u vertellen, dat hij niet bezweken is, maar manmoedig doorstapte naar het uitgestippelde doel. Maar zomer was het. De kinderen, die met meester of juffrouw wandelden, maakten extra hard lawaai, stampten met de schoenen, zongen en sprongen. De kinderwagens met de jonge spruiten erin stonden in de stadsparken wiel aan wiel. De jonge moeders keuvelden en breiden. Opmerkeiyk hoe goed dat samen gaat. Maar laten we nu stoppen. We hebben vandaag nog meer te doen. Het doel van gistermiddag was een gouden bruiloft, die op komst is. Gouden feest ™™£* straat 149 ni woont het echtpaar K. F. de Dood—Christina Johanna Elders. Vandaag, Woensdag 8 Maart, gaan de bruidsdagen in. En de heuglijke dag, waarop zy vflftig jaar geleden samen de lange weg aanvaardden, ls op 21 Maart a.s. De heer K. F. de Dood is nog een oude stryder, die er al heel wat acties op heeft ztiten. Jarenlang was hij lid van de Heiwerkersvereniging „Broederschap\". Een strijdbaar mens, deze nog vitale vriend. Jarenlang reeds lezer van onze krant, vóór de oorlog Tribune en Volksdagblad, in en na de oorlog De Waarheid. Een man, die geen blad voor de mond neemt en altijd nog bereid is te vechten voor een beter bestaan. Hij „trekt\" nu als zoveel anderen van Drees. Maar is nog vol vertrouwen op een betere toekomst. Mag Dagwacht nog eens zijn hartelijke en welgemeende gelukwensen „overhandigen\" ? N.A.D.-tournooi Gisteravond is in het bekende clublokaal van „Beurszicht\" aan de Oude Brugsteég het N.A.D.-klaverjastournooi gestart. In totaal nemen 64 verenigingen deel. Er zijn maar liefst 32 prijzen. De eerste prijswinnaar van elke wedstrijdavond komt in de kwart-finale. De tweede aankomende in iedere wedstrfld krygt meteen een prys. Verder een prys voor de vereniging, die ln de le ronde het hoogste aantal punten haalt. Van elke vereniging nemen vier koppels deel. Het was een spannende strijd. De eerste ronden leverden practisch geen verschil op. Hier volgt de eindstand van de eerste speelavond. 1. 't Hoekje met 17906 pnt en 9 marsen; 2. De Krommerdt met 16765 pnt en 10 marsen; 3. 15995 pnt en 4 marsen; 4. 8.P.1. met 15532 pnt en 8 marsen. Het hoogste koppel de heren Altink— v. d. Vegt van de vereniging Holver met 4844 pnt over drie partyen. Dezelfde vereniging behaalde in de eerste ronde het hoogste aantal punten, nl. 5762. De organisatie van dit tournooi was in handen van „Hartenboer\". Tournooi Dan heeft Tante Anna vanmprgen „De Wester\" opgebeld en Dagwacht medegedeeld, dat „De Wester\" a.s. Zondagmorgen om 10 uur een tournooi zal openen van 42 klaverjasverenigingen. Er zijn zes bekers beschikbaar gesteld. ledere vereniging speelt met vier koppels. Natuurlijk ook daar marsenprijs en prijzen voor de hoogste koppels. Maar nu weet u ~nog niet wie Tante Anna is. Dat is mevr. v. d. Heyden uit het koffiehuis Westerstraat 30, waar het tournooi gehouden wordt. Zondagmorgen starten: De Zon, Flevo, Joko en O.V.E. Dat is T.O.F. De .Wandelgort. vereniging T.O.F, organiseert op Zaterdag 11 Maart a.s. des avonds 8 uur in gebouw Het Eiland, Grote -Wittenburgerstraat 39, een propaganda-feestavond. Optreden van het cabaretgezelschap „The Treblys\". Na afloop groot bal. Muzikale medewerking van Fenny Ferano. Toegangsprijs 60 cent. Kaarten verkrijgbaar bij: J. F. Hemelaar, Blankenstraat 611 en indien voorradig aan de zaal om 7 u. Neem miin Dat |s. haast een ' sprookje. üets maar £aar gaat-ie dan. ' Er was eens een mijnheer, die zfln fiets zo maar aan een 1 vreemde ter leen gaf : Toen hij dat las, staakten even de ijve- i rige vingers van Dagwacht en hij peins- < de... de wonderen zfln de wereld nog niet < uit. Maar laten we verder gaan en dan in : chronologische volgorde. s\n",
      "Embedding: [ 0.02790088  0.02604871 -0.08606742 ...  0.01682778 -0.023875\n",
      " -0.04637701]\n",
      "\n",
      "Sentence: Onze jonge vriend Van Voorst moest Zondag j.l. voetballen op een terrein aan de Velserweg. Hij fietste welgemoed, met een spannende wedstrijd in het vooruitzicht, op de Plantage Middenlaan. Pang daar sprong zijn band. Wat te doen, zo gauw. Maar daar komt een mijnheer, die het geval zag en hoorde gebeuren en die zei: „Hier jongen, neem mijn fiets maar zo lang en zet de jouwe maar in de stalling. We treffen elkaar vanmiddag dan wel hier op dezelfde plaats om zo laat!\" De jongen wist niet hoe hij het had, maar nam gretig het aanbod aan. Na afloop van de wedstrijd — die helaas verloren ging voor de club van de jonge Van Voorst — stond inderdaad de onbekende op de afgesproken plaats.\n",
      "Embedding: [-0.03441722  0.0531322  -0.01806286 ...  0.0748575   0.01198592\n",
      "  0.05636977]\n",
      "\n",
      "Sentence: Vanaf deze plaats wil de jonge man, Van Voorst, zijn dank brengen aan de grote onbekende. Een sympathieke weldoener en ongetwijfeld een grote sportvriend. Hulde! Morgenrood - De Arbeiderszangvereniging „Mor- Noord genrood-Noord\" bestaat 1 jaar. Ter gelegenheid van deze heugiyke gebeurtenis organiseert deze bekende zangvereniging, die zoveel heeft bögedragen tot het welslagen van menige bijeenkomst van arbeiders een feestavond op Zaterdag 11 Maart in gebouw „Nieuwendammerham\" een bonte avond, samengesteld door E. Korff. Bal tot 4 uur. Zaal open 7.30 uur. Toegangsprijs 75 cent. Postduif He* sPp DaS ' wacht. Maar deze 129 29 77 postduif met bovenstaand nummer is verongelukt. Het nummer werd deze morgen op zijn bureau gedeponeerd. De duif was reeds onherkenbaar en moet in een van de polders rond Amsterdam liggen. De ring kan afgehaald worden. DAGWACHT.\n",
      "Embedding: [ 0.00177542  0.01528502 -0.00299547 ... -0.09304792  0.00859881\n",
      " -0.022215  ]\n",
      "\n",
      "Sentence: ..__, , — 1 ._..... , , .... Hedenavond BELLEVUE (ingang Leidsekade). Viering INTERNATIONALE VHOEJVENJDAG Spreekster: ANNIE GELOK. Medewerking: Lion Contran, piano; zangkoor „Morgenrood\"; Lizzy May en Jan Wronk, pantomime. — Massazang. Toegangsprijs 30 cent. Nog enkele kaarten aan de zaal. Aanvang 8 uur precies.\n",
      "Embedding: [-0.00347647 -0.0146441  -0.00446896 ... -0.05464415 -0.01841481\n",
      "  0.02283575]\n",
      "\n",
      "Sentence: Op 17 Maart a.s. worden de watertaxi's, die de verbinding Amsterdam—Zaandam v.v. onderhouden, uit de vaart genomen. De grote salonboten zullen dan weer een uurdienst onderhouden van 's morgens 7 uur tot 's avonds 6 uur.\n",
      "Embedding: [ 0.0119343  -0.00173819 -0.13151963 ...  0.06140389  0.04241562\n",
      " -0.02426011]\n",
      "\n",
      "Sentence: Gistermorgen heeft een onderhoud plaatsgevonden tussen een delegatie van D.U.W.-arbeiders en een aantal ambtenaren van het gewestelijk arbeidsbureau te Amsterdam. De delegatie, die bestond uit een vijftal arbeiders in de D.U.W.-objecten Halfweg, Twiske, Someren by Eindhoven, V. .eringermeer en Bosplan, werd verge: _d door de E.V.C.-bestuurder J. v. d. Linden. Krachtig protesteerde de delegatie namens al hun collega's werkzaam op bovengenoemde obj 2ten, tegen het feit dat het G.A.B. D.U.W.-arbeiders oproept om onderkruiperswerk te aanvaarden bij de firma Wiersma, waar zoals wij eerder schreven, reeds ongeveer 3 weken een staking plaats vindt. Verder wees de delegatie er op dat het niet aangaat niet vakbekwame grondwerkers in het z.g. „diepriool\" aan het werk te zetten in verband met de grote kans op ongelukken. De ambtenaren hadden evenwel voor deze deskundige argumenten geen oor en zeiden te zullen voortgaan D.U.W.-art riders op te roepen ondanks dat de aannemer op wel zeer laatdunkende wyze heeft te kennen gegeven; „dat het merenr'eel der D.U.W.-arbeiders geen knip voor de neus waard is.\" De D.U.W.-arbeiders en de stakers van Wiersma zullen zowel deze man als de ambtenaren van het G.A.B, te verstaan moeten geven dat zij samen met alle bouwvakarbeiders, aan deze ronselprak» tyk een einde zullen maken.\n",
      "Embedding: [-0.01565673 -0.04596153 -0.03241918 ... -0.03133322 -0.0463277\n",
      " -0.05166562]\n",
      "\n",
      "Sentence: (Van een medewerker). TVIAAR aanleiding van het proces-Lou■'-* wers in Praag is door belanghebbenden in Nederland een nieuwe campagne geopend; een campagne, die moet tonen, hoe vrij wy toch wel zijn en hoe onvrij de Volksdemocratische landen. Volgens de organisatoren van deze campagne hebben „w_\" zelfs op het gebied van spionnage zogezegd democratische opvattingen en „zij\" dictatoriale. Gezegd wordt, dat in Tsjechoslowakye onder spionnage iets wordt _erstaan, dat hier als een onschuldig „vetftamélen van gegevens\" wordt beschouwd. Men schuift de bekend geworden feiten over militaire spionnage, over smokkelarij en vervalsing van documenten met een hoogmoedig gebaar terzyde en spreekt over het verzamelen van economische gegevens. De A.K.U., een der belanghebbenden in deze zaak, drukte haar opvatting zo uit: „Wij kunnen ons niet voorstellen, dat Louwers tot spionnage in staat was, althans zoals wij dat opvatte n.\" De vraag is dus, wat „wy\", dat wil zeggen de Nederlandse bezittende klasse, onder spionnage verstaat. AangW.en zij het alleen over de economische spionnage hebben, zullen we hun het plezier doen om ons in dit artikel tot dit onderdeel te beperken. Louwers en zgn medeplichtigen hebben o.m. uitgebreide gegevens over de standplaats van zekere industrieën verzameld. Is dat spionnage? Onder normale omstandigheden behoeft dat niet zo te zijn. Het kan zuiver „wetenschappeiyke\" belangstelling zijn. Maar we leven niet in normale omstandigheden. De kwestie is nl., dat de reactie onder leiding van Amerika zich op een oorlog voorbereidt. By een moderne oorlog behoren bombardementen. Men bombardeert o.m. de fabrieken, om de vijand economisch te breken. Om dat te kunnen doen, moet men weten waar de fabrieken liggen, die voor de tegenstander belangryk zyn. Het verzamelen van zulke gegevens is dus> zuiver militaire spionnage. Maar Louwers en zijn medeplichtigen hebben veel meer gedaan. Hun hoofddoel was het verzamelen van gegevens over productie en fabrieksgeheimen. Beschouwt de Nederlandse bourgeoisie dit als een onschuldige bezigheid? Integendeel. Zij beschouwt het bewaren van haar productie-geheimen als een zo gewichtig iets, dat zy dit nimmer alleen aan de staat heeft overgelaten. In de door de staat beschermde patentregisters zal men vergeefs naar de productiegeheimen van de A.K.U., van de textielindustrie of de leer-industrie zoeken. Het looien van leer is een geheim van de vakman. De Brabantse leerlooiers zyn gaarne bereid, eventuele bezoekers hun prachtige fabrieksgebouwen te tonen. Maar hun geheim wordt beschermd zoals de Nederlandse Bank haar goud beschermt. De textielfabrikanten zullen bezoekers gaarne hun prachtige uit Duitsland of Amerika ingevoerde spinmachines tonen. Maar één afdeling hebben bezoekers nog nimmer betreden: de afdeling waar textiel geverfd wordt. En hetzelfde geldt voor het verven van leer.\n",
      "Embedding: [-0.01454462  0.01867091 -0.0017339  ...  0.03728751 -0.05831017\n",
      " -0.05419778]\n",
      "\n",
      "Sentence: Louwers was op jacht naar topgeheimen van de moderne techniek\n",
      "Embedding: [-0.02709552  0.0467111  -0.04623926 ...  0.02043635  0.04793524\n",
      "  0.01781351]\n",
      "\n",
      "Sentence: Maar het waren juist deze geheime gegevens, die Louwers in handen wilde krijgen. Want de Tsjechoslowaakse industrie heeft op dit gebied een reusachtige voorsprong. Of nemen wij Philips! Toen de Duitsers ons land binnenvielen, vertrokken uit Eindhoven 30 auto's, volgeladen met geheime papieren: de productiegeheimen van Philips! Die moesten in veiligheid. De rest was niet belangrijk. Geen mens buiten de vesting van Philips komt over deze geheimen iets te weten. En binnen de vesting is een wetenschappelijk systeem uitgewerkt, dat er voor zorgt, dat de lagere ingenieurs en technici slechts gedeelten van een bepaald productieproces leren kennen, waarmee zij niets kunnen beginnen. Verteld wordt, dat eens een delegatie van Japanse belangstellenden Philips kwam bezoeken. De heren werden „overal\" rondgeleid, ze kregen een pracht van een diner aangeboden. Maar de Philipsdirectie vermoedde dat sommigen van hen micro-fototoestellen by zich hadden. Fouilleren kon men de „geëerde gasten\" niet. Dus werden de heren vriendelijk uitgenodigd ook de laatste snufjes van de Röntgen-afdeling te bezichtigen. Met een „Japanse\" glimlach nodigde men de Japanners uit, van de gelegenheid gebruik te maken. Ze lieten dus Röntgenfoto's van zich zelf maken en meteen waren de microfilms van hun verborgen toestellen onbruikbaar gemaakt. Het beschermen van fabrieksgeheimen is dus de eerste zorg der ondernemers. Wetenschapelijke werkers, die de dienst van Philips verlaten, mogen een bepaald aantal jaren geen publicaties op hun gebied doen — zolang nl. totdat hun kennis van Philips-geheimen reeds weer verouderd is. Arbeiders in de textielververyen mogen gedurende een bepaald aantal jaren, nadat zij ontslag hebben genomen, niet bij concurrenten gaan werken.\n",
      "Embedding: [-0.04750384  0.00565458  0.01628794 ...  0.03732255 -0.06935277\n",
      " -0.01901356]\n",
      "\n",
      "Sentence: Alle denkbare voorzorgsmaatregelen worden dus genomen om de fabrieksgeheimen te beschermen. Anderzyds wordt ook alles in het werk gesteld om zulke geheimen te bemachtigen. Toen de Amerikanen West-Duitsland bezet hadden was hun eerste daad om de „specialisten\" naar Amerika over te brengen en hun tweede om zoveel mogeiyk fabrieksgeheimen te bemachtigen. Volgens officiële schattingen werden toen fabrieksgeheimen ter waarde van 10 milliard dollar buitgemaakt. Dat was dus „officieel\" spionnage in het groot. Maar in vredestyd geven de grote ondernemers, vooral in Amerika, jaariyks vele millioenen uit, om fabrieksgeheimen van anderen te bemachtigen, illegaal, door omkoperij, gewone diefstal en inbraak. Speciale politiecorpsen in particuliere dienst (zoals by Philips) moeten daarentegen weer er voor zorgen, dat dit soort roofridderconcurrentie verhinderd wordt. (Natuuriyk heeft die fabrieks-politie ook nog andere taken, zoals iedere Philipsarbeider weet.)\n",
      "Embedding: [ 0.02986976 -0.01434534  0.01647022 ... -0.01147063  0.04017244\n",
      " -0.0252724 ]\n",
      "\n",
      "Sentence: Gevallen van economische spionnage komen by ons zelden voor de rechter (hoewel zulke gevallen bekend zijn). Dit komt, omdat altijd hoge heren by dit\n",
      "Embedding: [ 0.01052862 -0.09382389 -0.06288575 ... -0.03990443  0.02153838\n",
      "  0.07682306]\n",
      "\n",
      "Sentence: soort spionnage betrokken zyn. En juist om te voorkomen, dat de vuile was der bourgeoisie buiten komt te hangen, neemt men liever uitgebreide maatregelen tot zelfbescherming. Geen rechter zou echter heden ten dage een omschrijving van het begrip „economische spionnage\" kunnen geven. De grens tussen deze en militaire spionnage bestaat niet meer. Tenslotte is zelfs een speciale soort camouflage-verf of een speciaal soort kunstzijde voor parachutes militair van belang. En ons artikel 98 van het Wetboek van Strafrecht, dat over spionnage handelt, geeft over het verschil tussen militaire en economische spionnage geen uitsluitsel. Uit onze voorbeelden biykt echter, dat de bezitters de bescherming van hun economische geheimen als een kostbaar goed beschouwen. Waarom zou een socialistische of volksdemocratische staat, die direct' verantwoordelijk is voor zijn nationale industrie, deze geheimen niet mogen beschermen? Integendeel, dit is zyn plicht. En het proces-Louwers bewijst, dat de Tsjechoslowaakse staat deze plicht begrepen heeft.\n",
      "Embedding: [ 0.00479649  0.0339552  -0.00154372 ...  0.00147557 -0.00857318\n",
      " -0.04851322]\n",
      "\n",
      "Sentence: Plassende jongentjes moeten het ontgelden by de filmkeuringen. In ons land schrapte de Filmkeuringcommissie een dergelijke zondige scène uit de Deense film „Ditte\". In Amerika moest het kleine jongetje uit de „Fietsendieven\" het ontgelden. Bovendien konden de scènes van deze film, die spelen in een verdacht huis te Rome, geen genade vinden in de gestrenge ogen van de heer Johnston, de Amerikaanse celluloid-dictator. Vittorio de Sica, de bekende Italiaanse regisseur, weigerde echter de schaar te laten zetten in zijn werk, dat ook in Amerika tot de beste film van het jaar is verklaard.\n",
      "Embedding: [-0.02430907 -0.01447766 -0.01086433 ...  0.00976131 -0.00087751\n",
      " -0.00165495]\n",
      "\n",
      "Sentence: Dank zij de censuur van Johnston zullen de Amerikanen thans in geen der bioscopen van de machtige M.P.E.A. de „Fietsendieven\" kunnen zien, daar deze nog slechts in onafhankelijke, dus kleine theaters en in besloten voorstellingen mag worden gedraaid. De Sica heeft in een telegram de Amerikaanse exploitanten gevraagd om eerst het oordeel der openbare mening af te wachten.\n",
      "Embedding: [-0.00288573 -0.01598421  0.02883421 ... -0.02585534 -0.04883725\n",
      "  0.01672245]\n",
      "\n",
      "Sentence: Wedden, dat de bazen van Ho,llywood er helemaa' niet happig op zijn dat oordeel over deze eerlijke film te vernemen?\n",
      "Embedding: [-0.00601114  0.03236288 -0.01914009 ... -0.05712792 -0.00709139\n",
      " -0.00977023]\n",
      "\n",
      "Sentence: „In ons land is de vrede levenswet'\n",
      "Embedding: [-0.03610053 -0.00918549 -0.04090122 ...  0.03750436 -0.08301251\n",
      " -0.00979391]\n",
      "\n",
      "Sentence: Het vredescomité van de Sowjet- Unie heeft gisteren de delegatie van het permanente comité van het Wereldvredescongres te Moskou ontvangen.\n",
      "Embedding: [ 0.00260397  0.02133139 -0.00653134 ... -0.01122825 -0.02753161\n",
      " -0.00328487]\n",
      "\n",
      "Sentence: De voorzitter van het comité, de beroemde dichter Soer k o w, begroette de delegatie, die bestaat uit vertegenwoordigers van Frankrgk, Italië, Engeland, de Verenigde Staten, Canada en Afrika en in hun persoon de volken van deze landen.\n",
      "Embedding: [-0.0141849  -0.02088659 -0.01036604 ... -0.07396297  0.0270134\n",
      "  0.0545688 ]\n",
      "\n",
      "Sentence: Hij zei: „Ons verbindt de gemeenschappehjke wil, consequent en opofferingsgezind voor een duurzame vrede, voor vriendschap en wederkerig vertrouwen tussen de volken te strijden, de gemeenschappehjke .ekerheid dat de krachten van de vredesaanhangers op de wereld onvergelijkelyk sterker zijn dan de krachten van de misdadige internationale kliek van imperialistische rovers\". De componist Sjostakowitsj zei tot de vredesdelegatie: „Gij zijt als vredesboden tot ons gekomen. Er kan geen mooier doel bestaan dan het doel dat U tot ons heeft geleid, in ons land waar de vrede levenswet is.\" De leider van de vredesdelegatie Yves Far g e dankte voor de begroetingen. Hy noemde de vredesbeweging in de Sowjet-Unie de grootste steunpilaar van de internationale vredesbeweging. Verder werd het woord gevoerd door een vertegenwoordigster van de Sowjetvrouwen, een fabrieksarbeider, de Amerikaanse kunstenaar Rockwell Kent, de metropoliet van Kroetizy, Nikolai, Antoine Darlan (Afrika), John Platts Milis, Lucien Jayat, ds James Endicott DAstier de la Vigerie, Renato Vigano en John Rogge. Het protest van het lid van het vredescomité van de Sowjet-Unie, de beroemde filmregisseur Poedowkin, tegen de houding van de regering van'de Verenigde Staten en Nederland, die de delegaties van het wereldvredescongres niet wilden toelaten, werd door alle aanwezigen ondersteund. Deze bijeenkomst, waaraan vertegenwoordigers van zeven landen deelnamen' was een nieuw bewijs van de eenheid van het kamp van de vrede. (Tass).\n",
      "Embedding: [-0.02179139  0.04022403 -0.04017203 ...  0.03544901 -0.05698781\n",
      " -0.00342265]\n",
      "\n",
      "Sentence: Een groot aantal arbeiders werkzaam by de stofzuigerfabriek Efa Produka heeft jl. Maandag gedurende een half uur gestaakt tegen een dreigende tariefsverlaging. Toen een vertegenwoordiger van het zo gehate tariefbureau Beerenschot in de draaierij verscheen om de „tarieven aan een weteiischappehjk onderzoek te onderwerpen\", zetten de arbeiders van deze afdeling de machines stop. De arbeiders van de afdelingen slijperij, gietery, stuiterij en plaatwerkerij volgden hun voorbeeld op en gaven eensgezind te kennen niet op de „wetenschappelijke methoden\" van Beerenschot gesteld te zijn.\n",
      "Embedding: [ 0.05975293  0.01292361  0.01298821 ...  0.00500672 -0.00636966\n",
      " -0.05666854]\n",
      "\n",
      "Sentence: De arbeiders hebben door deze proteststaking getoond, dat zij het smoesje van de directie, als zou dit tariefbureau tijdopmetingen doen in het belang van het personeel, op de juiste waarde weten te schatten. Het blijkt echter, dat sommige arbeiders uit de stempelmakerij nog niet volkomen begrijpen, dat de dreigende tariefsverlaging ook hun lonen zal verlagen. Het is verkeerd te denken, dat de stempelmakerij buiten schot zou blijven. Gezamenlijk zullen de arbeiders in staat zijn elke verslechtering af te wgzen. De stakers yan Maandag hebben getoond hun taak te hebben begrepen. (Arcor).\n",
      "Embedding: [ 0.02677855 -0.00317214 -0.07645785 ... -0.02612366 -0.03129007\n",
      "  0.01734345]\n",
      "\n",
      "Sentence: Prins Bernhard is na vele omzwervingen in Zuid- en Midden-Amerika in Washington aangekomen. Hij werd verwelkomd door functionarissen van het Amerikaanse ministerie van Buitenlandse Zaken, terwyi een bataljon luchtpolitie een erewacht vormde.\n",
      "Embedding: [ 0.09489153 -0.05990174  0.02738713 ... -0.0280856  -0.01483586\n",
      " -0.06356007]\n",
      "\n",
      "Sentence: Tabinta pass 7 Flnisierre Groote Beer pass 7 Maladiven Georgic 7 370 m ZO Dondrahead Waterman pass 7 Maladiven Somersetshire 7 te Djakarta\n",
      "Embedding: [ 0.06723937  0.0336099   0.02977748 ... -0.0269446   0.0207608\n",
      " -0.02239717]\n",
      "\n",
      "Sentence: Lid Vredescomité: „Het gaat goed in de haven \"\n",
      "Embedding: [ 0.01478047 -0.07168946 -0.01518675 ...  0.03411477 -0.04345352\n",
      " -0.08681148]\n",
      "\n",
      "Sentence: (Van een verslaggever.)\n",
      "Embedding: [-0.04358769 -0.03907692 -0.05531379 ...  0.04499722 -0.01353578\n",
      "  0.02116697]\n",
      "\n",
      "Sentence: haven op een vroege lentedag: fel weerkaatsen de zonnestralen in het water, dat grote en kleine schepen op zn rug torst. De groten liggen aan de kaden gemeerd, de kleinen varen dapper op en neer en prikken hun roetzwarte rookpluimen in de licht blauwe lucht. Heel langzaam vervagen ze daar, want er staat maar weinig wind. Het gehakkepuf vermengt zich met het krachtiger geluid van de kranen, die hun grijpgrage klauwen in de ruimen laten zakken en er met een zware last uit komen. ,J3ananen\", staat er op een. pas gevulde goederenwagon Een vrachtauto met fruit raast voorbij. Anderen zoeken ook een plaatsje in het havencomplex. Lange goederentreinen rijden af en aan. De arbeiders vullen ze, de ene wagon na de andere... Lost geen wapentuig! T\\AT is goed werk\", vertelt een arbei\"*-* der ons, die een paar knuisten aan het lichaam heeft waar men beter niet mee in aanraking kan komen. „Dat is goed werk\", herhaalt hy. „Daar kunnen ze ons niet genoeg van geven. Maar die oorlogsrommel kunnen ze me stelen\". We vragen hem of ze er allemaal zo over denken. „Dat geloof ik wel. Maar zo denken en er naar handelen verschilt nogal wat. Wat my betreft: ik pas wel op om die herrie te lossen. En zo zyn er nog heel veel.\" Verder gaan we. Daar, waar de Johan van Oldenbarneveldt in al zijn majestueuze schoonheid gemeerd ligt, treffen we een groepje arbeiders, die op het punt staan naar huis te vertrekken. „Waarom we geen wapens lossen?\", vragen ze, nadat we een paar minuten met hen gesproken hebben. „Dat is nogal logisch. We hebben er niets geen aardigheid in om wapens uit de schepen te halen, waar twe zelf mee kapot geschoten zullen worden. Als Drees zegt, dat ze er toch uitgehaald zullen worden, dan doet-ie 't zelf maar. Krijgt-ie ook es misschien voor het eerst in zijn leven een paar smerige handen\". Eén van .de jongens twijfelt nog. Hy weet nog niet wat hij doen zal. „Als wij het niet doen, zullen er anderen voor komen. Het leger, Steun Wettig Gezag en meer van die 1ui...\" „Met hem is geen goed garen te spinnen. We hebben 'cm al tien keer verteld, dat wy het zgn die de oorlog moeten voeren en dat, als de arbeiders hun handen niet vuil maken aan het wapentuig, de oorlogsstokers niet veel kunnen beginnen\", valt een van de jongens hem in de rede. „Geloof maar, dat als ze het zelf moeten doen, de zaak bekeken is. Maar dan moeten we niet zo denken en praten als jij doet. Hoor 'es makker, je moet een beetje vertrouwen hebben in jezelf en al die andere jongens, die toch niet voor de 10l gezegd hebben dat ze weigeren zullen te lossen?\"\n",
      "Embedding: [-0.06067582 -0.02316919 -0.04305386 ...  0.04728722 -0.04157836\n",
      "  0.022514  ]\n",
      "\n",
      "Sentence: Het fiasco van Het Vrije Volk \"TJEZE makker heeft gelijk. En het blijkt, dat honderden zo denken in de Amsterdamse haven. De heer Tamminga, lid van het Haven-Vredescomité, bevestigde het ons. „Het gaat goed in de Amsterdamse haven\", zei hij. Met een voorbeeld toonde hij het aan. In de kantine van loods 3 bij de K.N.S.M. ontstond Vrijdagmiddag een discussie naar aanleiding van een door de Algemene Bedrijfs Bond Transport uitgegeven manifest. Een zekere meneer Hessel de Vries en zijn vrienden hadden er geen goed woord voor over, gebruikten krachttermen als „opruiers, laaienlichters, moordenaars en luie honden\", maar toen de heer Tamminga aan de aanwezige tweehonderd arbeiders vroeg of zij voor het lossen van de wapens zyn, antwoordde de grote meerderheid ontkennend. En daarmede leed Het Vrije Volk zijn zoveelste fiasco. Dat blad schreef op 20 Februari j.1., dat een vertrouwensman van de C.B.T. twaalf van deze arbeiders had gesproken, maar geen enkele sympathisant had kunnen vinden. Hadden ze Vrijdagmiddag in de kantine moeten zijn „We hebben aan Hessel de Vries gevraagd of hy het eventjes aan Voskuil wilde doorgeven, maar dan voor Zaterdagavond, zodat hij het voor de radio zou kunnen vertellen\". De Vries werd er stil van en liet mededelen, dat hij in het vervolg „met rust en orde\" zijn brood wilde opeten in de schaft. De overgrote meerderheid van de arbeiders in de Amsterdamse haven weten, waarvoor de wapens gebruikt moeten worden, wat de gevolgen daarvan zullen zijn en wat ze in de komende tijd moeten doen. Op verschillende huizen in de Kleine Kattenburgerstraat staat het met vette letters: Lost geen oorlogstuig!\n",
      "Embedding: [-0.02697027 -0.08316029 -0.00857984 ... -0.0860358   0.05084341\n",
      " -0.03998049]\n",
      "\n",
      "Sentence: Tijdens de laatste wedstrijden, waara* de Nederlandse zwemsters in ken deelnamen, konden zij enkele fra^1 successen behalen. Dicky van Ekris V°r in 1 min. 15.5 sec. de 100 meter rugslasj voor Gerda Olsen, die 1 min. 16.7 rfi teerde. De 100 meter vrije slag was voor Vf\"\" Jacquet, die met 1 min. 10.9 sec. ha* beste persoonlgke prestatie leverde, tweede eindigde Kate Nielsen met 1 12.5 sec. Nettie Leene en Jytte Hanse» zwommen de 200 meter schoolslag ont> slist, hoewel sommige omstanders meeZ.t den dat Nettie Leene als eerste *&? tikte. Voor beide zwemsters werd 3 n*1' 2.7 sec. afgedrukt. t# De 3 x 50 meter wisselslag tenslo1 werd met 1 min. 48.1 sec. gewonnen d°° de Nederlandse ploeg.\n",
      "Embedding: [ 0.00184448  0.04371112 -0.05398464 ... -0.0282626  -0.02550314\n",
      " -0.07694559]\n",
      "\n",
      "Sentence: Hilversum 1, SOl m. 20.00-20.05 iJWS- JmK Sweelinck-kwartet. 21.50 Commen__r **}?$ competiüe. 22.00 Marinierskapel. 22.J» ejt< Gr. 23.— Nws. 23.15 Utrechts Stedelijk OrJ 23.45 Jascha Heifetz (viool). 24.00 Sluiti\"8 ,» 20' _ Hilversum 11. 415 m. 20.00-20.05 Nws. \",M The Ramblers. 20.55 Christopher \"$& (hrsp.). 22.15 Kwintet. 22.45 Causerie. *» Nws. 23.15 Swing and sweet. \"3.40 Piaß\"\" 24.00 Sluiting. Programma voor Donderdaê Hilversum 1, SOl m. 8.00 Nws. 8.15 Gt-Jfi Schoolradio. 10.00-10.15 Residentie °I pK 10.45 Christelijke liederen. 11.00 Voor °%cc% ken. 11.45-12.00 Schoolradio. 12.03 eert. 13.00 Nws. 13.20 Pianovoordracht. ,j.*» Gr. 14.45 Voor de vrouw. 15.30-16.00 GT.J„o>' Gr. 17.00 Voor de Jeugd. 17.30-18.00 Met/°M Orkest. 18.30 Reg. Uitz. 19.00 Nws. 19.10 de Jeugd. 19.40 Radiokrant 20.00 Nwf- $& Gevar. Programma. 22.05 Gr. 22.15 22.35-22.45 Gr. 23.00 Nws. 23.16 Gr. Sluiting. .. te\" Hilversum 11, 4.15 m. 8.00 Nws. 8.15 OcW fi_ blad. 8.40 Gr. 8.55 Voor de vrouw. 9.30 Waterstanden. 9.35-10.10 Gr. 10.1$ Kx\\o*< orkest. 10.50 Voor de kinderen. 11.00 C»r atJf; orgel en bas-bariton. 11.45 TuinbouwPrjeiiJj; 12.00 Semi-klassieke muziek. 12.30 MeOeuj3J: gen. 12.38 Zigeunerensemble. 13.00 Nw»; <K Musette orkest, 13.50 Gr. 14.00 Voo'jj.iJ' Vrouw. 14.30 Sopraan, fluit en piano'r|teS,J' Voor de zieken. 16.00 Promenade ,°««B 16.30 Gr. 17.00 Voor de Jeugd. 17.6° iB.ffl Uitz. 18.00 Nws. 18.16 Sportpraatje- j 9£ Strijkorkest. 19.00 Voor de kinderen, zi# Accordeonorkest. 19.30 Radio Voll.sinun,irfs school. 22.00 Nws. 20.05 Gevar. Progr* 21.45 Radio Philharmonisch orkest, .„of* Causerie. 22.45 Gr. 23.00 Nws. 23.15 or actualiteiten. 23.30 Gr. 24.0 U Sluiting.\n",
      "Embedding: [ 0.02232281  0.08271415 -0.05562551 ... -0.04774902 -0.01507904\n",
      " -0.00440824]\n",
      "\n",
      "Sentence: om 1 uur geeft de nieuwsdienst van het A.N.P. een overzicht van wat het noemt „belangrijke gebeurtenissen van de afgelopen Week\". Nu is men er wel aan gewend, dat het nogal erg moeiUjk is voor het A.N.P. om uit te maken van wat er in de afgelopen week belangrijk en onbelangrijk is. Als je aan het eind van zon Week in een glazen waarzegbol moet zien wat er'niet alleen in de toekomst zal gebeuren, maar ook wat er in het verleden gebeurd is, dan valt dat ook niet mee. Vooral wanneer de glazen bol bovendien beslagen is, zoals dat by het A.N.P. dikwijls het geval is. Zondag jl. schynt die bol daar volkomen witbeslagen te zgn geweest. Daardoor Zgn de waarzegstralen erg zwak en Vertoonde zy meer dan anders afwykingen. Zo kon het A.N.P. in zyn bol bgvoorbeeld niet zien, dat er in de afgelopen week in de Sowjet-Unie enorme Prijsdalingen van 11 tot 50 pet hebben plaats gevonden op talrgke consumptiegoederen met inbegrip van alle belangrijke levensmiddelen, textielgoederen, huishoudehjke artikelen, rookwaren, speelgoed, culturele goederen, bouwmaterialen, fietsen, motorfietsen en nog tal van andere artikelen!\n",
      "Embedding: [-0.02417467  0.04215337 -0.02810203 ...  0.04090523 -0.00170633\n",
      "  0.00036377]\n",
      "\n",
      "Sentence: f Personeel gevraagd j Gevraagd voor direct v le OF 2e KEAS ZETTER voor goede kracht goed loon. - Drukkerij „Econoom\", le Lau, rierdwarsstraat 46, Adam. Berko conf. fabriek vraagt PRIMA HANDWERKSTERS Aanm. Corn, Anthoniszstr. 10. Op kl. mantelatel. gevr. bekw. MACHINESTIKSTERS Aanm. van B—s uur Weesperzijde 135 bv., telef. 55667, na 6 uur Vogelenzangstraat 1611, A'dam-W. en Ferd. Bolstraat 106 11. Berco damesconi.fabr. vr. prima KLEERMAKER-AFPERSER . Aanm. Corn. Anthoniszstr. 10. Mantelatelier vr. v. dir. gerout. POPEEINE-STIKSTERS Aanm. Hulsman, Bilderdijkkade 76 hs. Confectiebedrijf „Olisk\" vraagt bekwame STHiSTERS en handwerksters voor mantels klasse C. Aanm. 9—5 uur. Ger. Doustraat 82. Voor direct gevraagd JONGENS EN MEISJES - voor eerste klas kleermakerij. Aanm. na 6 uur Joh. Verhulststraat 208 hs. In Huize „Avondrust\" te Schagen (N.-H.) is plaats v. enkele LEERL.-VERPLEEGSTERS of verpleeghulpen, leeft, boven | 21 jaar. Soll. aan de directrice.\n",
      "Embedding: [-0.02233401  0.0254346   0.02122527 ...  0.01459654 -0.00346283\n",
      "  0.00676359]\n",
      "\n",
      "Sentence: Telefoonniim\"«\" Directie : N.V. Beheers Mij Dagbladbelangcn Z. 1266 Hoofdredactie A.W. Colijn: 7. 1267 Redactie: 7.\". 1268 en Z. 1260 Administratie : z. 1260 Abonn.-Expedltle Z. 1264 Advertenties Z. 1265 : ƒ 6.50.— p. mnd. Advertentie-tarief : 50 cent per mm. regel (minimum 10 mm. regels). Aanbieding, advertenties één dag vóór plaatsingsdatum. V rij d a g & Zaterdap 209{>_toeslag. * Oplaag 16.000 exemplarrc. Uitgave : de VRIJ IC I'KUS X. V KALIASIN 52. Postbox li BOERABAJA.\n",
      "Embedding: [-0.00523308 -0.04686382  0.00371143 ... -0.02904098  0.01181771\n",
      " -0.05963398]\n",
      "\n",
      "Sentence: WATEN STEDT-S ALZGITTER, 0 Maart (Reuter). — Meer dan 1000 Duitse arbeiders hebben een complete veldslag geleverd tegen een ontniautelingspatrouiKe, die cpflracht''had de~'lnstallaties v:vn de vroegere Hennann Göring-Staalfabrieken in Wateastedt op te blazen. Deze arbeiders drongen de fabrieken binnen en doofden de lonten van de explosieve ladingen, nadat zij de Duitse ontmante-I'ngspatrouille en de bewakers van deze patrouille uiteen hadden geslagen. De Britse ambtenaar, die cS leiding had van de ontnnr.telingsoperaties, riep de hulp van de politie in, die de orde wist te herstellen: Terwijl hc* gevecht gaande was tussen de ontmantelingspatrouille en de demonstranten, drongen ongeveer 100 woedende arbeiders het kantoor van de ontmantelLngs-commissie binnen en sloegen daar alles kort en k!cin. AHe papieren werden op straat geworpen en daar in brand gestoken.\n",
      "Embedding: [ 0.01290711 -0.00963276 -0.00617487 ... -0.01825407 -0.02828576\n",
      " -0.06770266]\n",
      "\n",
      "Sentence: ledere, babbelpartij van de goedbedoelende. maar vaak. koddig onbekwame muizen die de geplaagde Cinderella te hulp snellen, 'edere zucht van de verstoten jonge ASSEPOESTER. iedere groene fonkeling , van haat in de ogen van . de valse stiefmoeder, de laffe' stréken vt n Cinderella's jaloerse half zusters, roepen 'bii de meest ontgoochelde film- Lc:.oekers de gevoelsreacties: wakker die men 7.0 vaak hoopt, te vinden maar zelden aantreft rti het witte doek. De GOEDE l>e is een van Disney's aardigste vindingen. In plaats van een suikerzoete schoonheid is. zij een komische dikke tante; die de geheime toverformule op het beslissende moment vergeten is en slechts op het laat-. ste ogen'>lik zich de magische woorden „Bibbidi-Bobbidi-Boo\" - herinnert die de poorten van j Cinderella's droomkasteel ore- 1 nen- Dan is er LUCIFER do kat. een van de meest gecompli- | ceerdé schurken die ooit in! F'lmlarid de deugd belaagden,! een oorspronkelijke, met hu-1 mor doortrokken \" \"schepping, j Nranr n-ir.st Cinderella zelve J ziin het twee muizen, GUS de 1 overmoedige durfal, de James Cagne.v van de. muizenwereld, i en JAQ zijn dikke kameraad, j die on de warmbloedige Dopey. rit „Sneeuwwitje\" lijkt, die het; „leeuwen\" ''cel opeisen yan 1 • Cinderella's\" succes- Of zijn. het misschien de décors, de fantastische pal;izcn waarbij de kastelen van Duizend en Een- Nrcht. Drentse modderhutten ziin, de knappe prins die zijn, vieren gewaande geliefde! terugvindt, of de sierlijkste,1 snelste pompoenenkoets' die I door de middernachtelijke stra- j U-n van het sprookjesstadje! trr k t alsof een ster ge trok kt-n door hemel paarden .langs do romantische gevels gleed,' of de - dansende zeepbel- j len waarin Cinderella'zich duizendmaal weespiegelt ziet?. Wie Disney's . Cinderella-film niet liefheeft, heeft een dokter of. o«n psychiater nodig èn\\ de\" 1 pns •is groot dat beiden de i film als medicijn zullen voor-: schrijven.' Niet omdat er zes j-vir aan gewerkt is, omdat 750 tekenaars een rrillioen tekeningen moesten maken, of.omdat 1500 man personeel achtergronden vervaardigden, camerawerk .verzorgden, muziek componeerden en historische navorsingen deden, maar omdat de prest'itiec van dit gehele leger artist en door een regi'seur bij ile grrtie Gods werden samengew.even in een film. gedicht. Disney, die eens aan d\" film een nieuwe dimensie toevoegde;«laat ons met Cinderella oen .droom belëveft Toe- het is de oude strijd tussen goed en kwaad, jaloezie en opofferende vriendschap in primitieve vorm. een etrijd die zich dn ons aller leven iedere dag véél ingewikkelder voortzet. m.\\ar nimmer is het Aasepoester-verhaal van ar, moede tot rijkdom, van tranon »*. it geluk, de strijd tussen licht v/1 wluisternis in een . jong >r I Vwhart, kleurrijker en vertcld.\n",
      "Embedding: [ 0.02268636 -0.00335388  0.05406583 ... -0.00451874  0.00900005\n",
      "  0.03074666]\n",
      "\n",
      "Sentence: Woensdag as. zal hier ter stede een bijeenkomst plaats vin.den van ambtenaren van de voorlichtingsdienst in . Ooai> Java- Deze bijeenkomst zal vei\" moedelijk worden bijgewoond door de heer Sutomo i?an het ministerie rail Voorlichtingvan de R.I-\n",
      "Embedding: [ 0.02292683 -0.00157032  0.03501372 ... -0.00430991 -0.03046845\n",
      " -0.06414567]\n",
      "\n",
      "Sentence: Het binnenlands kapitaal moet . gemobiliseerd worden. Thans circuleert dit hoofdzakelijk in de smokkelhandel- Volgens de „Pedoman\" bedraagt dit kapitaal in de smokkelhandel 20(V millioen pulden- De President noemde de hoofdoorzaken van de smokkelhandel de bestaande . im- en exportbepalingen. Inderdaad hebben de niet-Nederlanders tijdens het vorige regiem geen kans gehad hun kapitaal langa i normale wegen te doen groeien- De smokkelhandel is door de politieke ontwikkeling in de laatste .laren — de RI- financierde de strud met gelden in de smokkelhandel verdient — • sterk toegenomen. Niet met politieversterklrgen en patrouillevaarten langs de kust moet de smokkel bestreden worden, dóch door het In de smokkel geïnvesteerde kapitaal tot de legale handel aan te trekken aldus de heer Siauw. Daarbij moet het binnenlandse kapitaal beschermd worden tegen het grote buitenlandse kapitaal- Wanneer de regering op deze wijze steun krijgt van het binnenlands kapitaal zal deze waarschijnlijk groter zal zijn dan bij eventuele buitenlandse leningen Dit kapitaal. bezit van Indo-Chinezen of andere groepen van-het Indonesische volk, is bovendien nationaal kapitaal. Het kapitaal van de volbloed Chinezen is ook te verkiezen boven buitenlands kapitaal, omdat de volbloed Chinees gewoonlijk geen transfer en geen waarborgen voor hoorlijke\" winsten vraagt. Tenslcite verklaarde de'heer Siauw, dat ontplooiing va ■* het nationale kapitaal de. invloed van het buitenlandse kapitaal kan beperken- Volgens hem dient de-regering spoedig een definitieve houding ten oczicbte van dit nationale kapitaal t® tonen.\n",
      "Embedding: [ 0.036183    0.00261531 -0.05557239 ... -0.02813691 -0.02649973\n",
      "  0.06231144]\n",
      "\n",
      "Sentence: Hedenmorgen te omstreeks acht uur is de heer Iladjamin Nasoetion, Republikeins burgemeester van Soerabaja in evacuatie, in ambtscostuum naar het kantoor van gei nieentezaken hier ter stede gekomen om in de kamer van Ide burgemeester plaats te nemen op de stoel van de VVali ' Kota. Zoals wij hebben gemeld is gisteren de heer I)ul Arnowo bij besluit .van de gouverneur van Oost-Java, de heer Samadikun; benoemd tot waarnemend burgemeester van Soerabaja..',: .f': V' i' •. In een.onderhoud, dat wij'- hedenmorgen met de heer Kadjamin in de burgemeesterskamer hadden, deelde hij ons mede het benoemingsbesluit van de heer l)ul Arnowo aflet te erkennen. Niet Gouverneur Samadikun moet een burgemeester, beroemen, doch de .Militair Gouverneur van Oost-Java. Bovendien ben ik aldus de heer Kadjamin dcor de regering te Djokja; die mij *n 1!)45 tot burgemeester van Soerabaja benoemd heeft, , nooit- ontslagen. Nog zeer onlangs is mij door Djokja de verzekering gegeven, dat ik nog steeds burgemeester in evacuatie ben.\" Nog vandaag, zo voegde de heer Kadjamin hieraan toe, zal 'ik de bevoegdheden van de loco-burgemeester, de heer Pranoto overnomen.\n",
      "Embedding: [-0.00806481  0.04250927  0.01079271 ...  0.04040865  0.04943532\n",
      " -0.00249734]\n",
      "\n",
      "Sentence: staan. In deze loodsen is een aantal daklozen ondergebracht. In verband met de verkoop van i de grond, waar deze loodscn op i s aan, moeten zij weg en elders : weer opgebouwd wouen. Dit j kost de gemeente een behoorlijk ; bedrag.' Ik ben er nu in geslaagd van de N.V. Proctor en- Gamble gedaan te krijgen, dat de fabriek oen deel van je kosten iop zich zal riemen. ' 'Terugkomende op de door •hem onwettig geachte berioe-1 rning van de heer Dul Arnowo j lo'v burgemeester van Soerabaja, vertelde de heer Radjamin, dat-j hij Maandag op :verzoek van en j vergezeld door twee leden van ( de Parindra ,die hem met schorsing als lid van do partij dreigden als hij nie: aan hun verzoek ; voldeed, een bezoek aan kolo-j ! nel Sungkono hooft gebracht. | Doel van dit bezoek was onder ! de aandacht van de Militaire i ; Gouverneur te brengen, dat het j j nu dringend \"noodzakelijk werd; : een burgemeester te benoemen, i mede gezien de in de gemeente-! raad aangenomen motie, waarin j ;de Militaire Gouverneur . ge-! I vraagd wordt een wali kota aan tc. stellen- •* ; Kolonel Sungkono anwoordde, , dat hij over deze kwestie ten .spoedigs :e overleg zou plegen mét do horen Samadikun c n Dul Arnowo. Daarna zcu door hem een besluit geslagen worden. Volkomen onverwacht hoorde | ik gisteren, da: de heer Dul: Arnowo door de heer Samadikun is benoemd. Met de krant in de hand ben ik daarop - gisteravond weer ' naar kolonel Sungkono loege-; gaai. Ik heb zijn aandach. , gevestigd op twee berichten in ae krant ii.l. de mot'ie van de ; gein ten'era ad, waarin de Mili-; t&ire Gouverneur. verzocht'. wordt een burgemeester aan te s.ellen en op het bericht, waarin ; gemeld wordt, dat de heer Dul Arnowo tot waarnemend bur- j gemcester is benoemd door de Gouverneur. De hcer_Radjamin doelde kolonel Sungkono mede van plan te zijn hedenmorgen op de stoel van de burgemees- j i ter te gaan zitten en zo spoc*: j dig-mogelijk het bestuur over j ' de stad op zich te nemeni ~Zoals reeds gezegd, ach t-ik de handelwijze. van de heer Samadikun volkomen onbegrijpelijk. Immers jl. Zaterdag op de bijeenkomst met do socreta-: ris-generaal van Binnenlandse j Zaken van de R.I.S. mr. Wong- j ! sonegoro, zei dc heer Samadi- I kun nog, dat zoveel mogelijk ; oudé \"Republikeinse ambtenaren : ; het bestuur van federalisten moesten overnemen. In deze bijeenkomst vestigde ik er de aandacht op, dat reeds . verschillende functies door fe- • deralisten waren overgedragen en ik vroeg wanneer de burge; meestersfuncties in Making en . Soerabaja aan de beurt zouden zijn- De lieer Samadikun antwoordde mij: „Heb nog even geduld, ook dat zal spoedig gebeuren\". . Ik acht het benoomingsbc- i j siui: van dc hoer Dul Arnowo ! ook daarom onwettig, omdat do, ; laatste tijd alle benoemingen ; zijn uitgegaan van de Militaire Gouverneur. Zo b.v. die van! resident en regent van Soer:i--' baja en die van directeur van ' ■do haven. Waarom moet\" daar Zoals gezegd, troffen wij do heer .Kadjamin Nasoetion hedenmorgen Tn do kamer'van de.. • burgemeester van Soerabaja- j 'Op zijn. tafel lagen verscheide-i - re besluiten en andere papie-[ ren, waarop hij do wettigheid j van zijn handelen baseert Allereerst toonde hij. oJls qcii waarop als functie* vermeld slaat : burgc- j meester ■» vttu Soerabaja e Deze ; identiteitskaart, ucrd op 7 Juli , 19.'/7 tc Malttng afgegeven eti is ondertekend, door de heer Dul Arnowo, in diens functie vim waarnemend ' gouverneur van Oost-\\iva. Vertier liet dr heer Radjamin ons een brief zien . van de h? er Soeroso, - hoofdbestuurslid van tic Parindra ,waarin deze aan de heer , IZiSljumin verslag uitbrmgi i *van hel onderhoud, dat hij c;> 9 Fbbruari jl met de minister van Binnenlandse Zaken van de Rcpitblik Indoncsia, mr■ £<.v- j santo had- In deze brief rcr-1 telt de heer Soeroso, dat de 1 minister dun hem heeft bevestigd. dat dc heer Radjamii nog steeds als burgemeester va:t j Soerabaja wordt beschouwd,; nimmer ontslagen iccrd en op het moment, dat de stad.Soc'rabttjV weer zal worden gevoegd bij de Rcpitblik Indoncsia als enige aanspraak kan maken op de burgemeestersplaats- Op 26 Febr. heeft de heer Soe: reso de woorden van de minister nog eens bevestigd in j de lodenvergadering van de ! Parindia, die hier ter stede In : de Ge.dong Nasional Indonesia werd gehouden- ' ■ Oe regerirg van de liopublik Indonesia. beschouwt mij dur nog\" steeds, zo vertelde de heer' \"Radjamin verder, als burgèmeester van Soerabnjn.- I!: wordt ook als zodanig, door Djokja uitbetaald- Ziet U maar hier- Uit de stapel papieren kwam een uitbot alingsbewijs over Januari jl- Dit bewijs is j afgestempeld dcor het kantoer i vai de Gouverneur van Oosti Java\". Hieruit blijkt dus boven''ditn. dat de heren Samadiliur. ! c-n Dul Arnowc volledig var.-, i de werkelijke situatie op de j hoogte zijn.\" aldus do heer Ra-! i djamin- Het is aldus, zq vervolgt d : heer Radjamin, voor mij dun ook een i aaJJ:I waarom ~ij zo 'gehandeld hebben- Eertijk gr-\" ' zegd ben ik eigenlijk r en bcct\\je verlegen om V dit alle maal tc verfeilt ii. Ons orderhoud werd evenj onderbroken door een telefoon- j . tje- Hot was oen gelukwens ! voor de lieer Radjamin, die hij ! echter afwimpelde mot de mededeling: „Ik heb het bestuur 1 nog niet overgenomen-\" Aansluitend op uit telefoon- i gesprek, vertelde de lieer Ra-djamin, dat hij al maandenlang ■ dcor zeer vele Soorabajanen als j burgemeester vail Soerabaja wordt beschouwd- Honderden stadgenoten zijn in de afgelopen maanden bij mij thuis gc, komen om raad tc vragen. Ik voerde in mijn hoedanig- j ■ heid van burgemeester onlange ! \\ ook besprekingen met de diree-1 ! tio val de N.V. Proctor en I Gamble. Het ging over het i verplaatsen van een aantal j loodsen, die nchtei—de-fabriek\"' van de N-V. Proctor en Gamble i, lui plotseling voor burgemees\" ' tor van Soerabaja van afgeweken worden ? • lenslottc toonde de heer Padjamin ens een telegram, dat hij gisteren heeft gezonden aan het ministerie van IJinnenlandsc Zaken Djokja. In, dit t-legram \\Taegt hij de goedkeuring van de regering van zijn besluit de hem toekomende plaats van burgemeester van Soerabaja'weer 'te hebben in- • genomen. ' - i To. zove'r ons onderhoud met! d? luer Radjamin- - j Verder vernamen wij nog,, dat het feit, dat de heer Radja- ■ mi hedenmorgen zijn cr.le! Vhnts achter.de burgemeester 'af el weer herft. ingenomen. i:i j doorgegeven aan hot kantoor ' >'an de heer Samadikun. Van ! enige reactie was bij het afslui- [ tcri van iit bericht nog niets bekend. Zoals wij gisteren hebben gemeld, bevinden zowel de lieer Samadikun als de heer Dul Arnowo zich vandaag on Ma- i doora. - • 1 Het ligt ?n de bedoeling, dat j de heer Dul Arnowo morgen- | ochtend om negen uur cp bi t • kantoer- voor Gemeentezaken , z*»l worden geïnstalleerd als [ waarnemend burgemeester van i \"oerabaja. J\n",
      "Embedding: [ 0.03181767 -0.0582047  -0.04121877 ...  0.01141494  0.00552025\n",
      " -0.01996166]\n",
      "\n",
      "Sentence: j AMSTERDAM. 7 Maart (A.N.P.) ' — De Indonesische fondsen waren ' goed prijshoudend en boekten klei-1 ne winsten, waarvan vooral Am! sterdam Rubber profiteerde, dio • drie punten hoger noteerde in ver! band met de verwachte handha- I ving van de pariteit van de Indo; nésische en de Nederlandse gul| den. Het zaken-verkeer was echter j zeer beperkt. Tabakken gingen ! traag doch waren per saldo prijs■ houdend Indonesische banken wa- I ren licht verdeeld. Javasche Bank I noteerde opnieuw hoger en kwam j t0t\"169. De industriële hoek en de BCheepvaart-afdeling werden verwaarloosd en gaven slechts onbetekenende verschillen te \"zien, Staatsfondsen betoonden zich vriendelijker. De Amerikaanse sector was overwegend -paster. De voornaamste slotnoteringen waren: 7 Maart 5 Maart Kon. Olie 289 28R-% Philips 230-% 230-'.; Unilever 225-%- 225-U Scheepv. Unie 148 147-% H. V. A. 150 148-U N. H. M. 162 160 N. I. H. M. 100-% 101-% Escompto Mij. 75 75->; Javasche Bank 169 166 Cultuur Mij. 84 . 82 % 3% Obl. N.I. 96-i/ia 96-H A. K. U. 180-U — A'dam Rubber 146-% — K. P. M. 136- % 137-% Vorstenlanden 40-% 39-% Deli Mij. 141-% 140-%\n",
      "Embedding: [ 0.01583412 -0.01146715 -0.07102423 ... -0.03357002  0.04129267\n",
      " -0.05338404]\n",
      "\n",
      "Sentence: Een onzer lezers zo*d ons een geboorteaankondiging toe, welke • hij Maandag j I. over de post ontving. In hrt'adres was ..straat\" doorgehaald en veranderd i.. . djalan\"- ' Dezelfde hand had met forse letters, op liet geboortekaartje, dat daartoe dus uit de enveloppe moet zijn • gelmald geschreven : „Tctap Merdek'a 100 procent\"-\n",
      "Embedding: [-0.00711426  0.03208409 -0.05408811 ...  0.0504588  -0.01796567\n",
      "  0.0306388 ]\n",
      "\n",
      "Sentence: j * J T - f ■ ' * * / > I RIJK AAN VITAMINEN 8.8. 924 - 145 - H.\n",
      "Embedding: [ 0.01024324  0.06028384  0.0251971  ... -0.06899809 -0.02185662\n",
      " -0.0571238 ]\n",
      "\n",
      "Sentence: Heeft Soerabaja, «n vooral de benedenstad in de regentijd last van een overvloed van regenwater, dat niet snel genoeg kan worden afgevoerd, aan de andere kant heeft de stad gebrek aan leidingwater. Het. is weer de benedenstad, die daar het meest van te lijden heeft. Maar bij de aanvoer van leidingwater ligt de zaak wel iets anders, dan bij de afvoer van groiul- en regenwater. De hoeveelheid regenwater is niet groter geworden, het gebruik van leidingwater daarentegen wel. Thans produceert de waterzuiveringsinstallatie op Ngagel per maand meer, dan voor de oorlog in een heel jaar. Dat ondanks deze opvoering van de capaciteit van Ngagel er ren tekort aan leidingwater Is. komt ten dele door de aanwas van de bevolking, ten «lele door de vele lekkages in het oude materiaal en tenslotte wordt. Uit grotere waterverbruik ook veroorzaakt door een grotere ~waterbeschaving\" van de Indonesische. bevolking. Thans v,il men in de kampong zijn waterleiding hebben, terwijl dat vroeger in veel mindere mate het geval was\n",
      "Embedding: [ 0.01532562 -0.03444106  0.00176055 ...  0.08269067  0.07775416\n",
      " -0.00703953]\n",
      "\n",
      "Sentence: Ten eerste heeft men het water uit de kali en daarnaast het water uit de bergen. . Het water uit de ri\"vier, wordt bn Ngagel gezuiverd.: Het wordt uit de livier in gro- • te vijvers gepompt, waar het eerste vuil bezinkt. Door toevoeging van alluminiumsul , <\"-°at. out wordt ingevoerd uit Amerika, wordt coaguler'ng, of uitvlokking het water Het feu. dat nu veel meer ;'\\v?er door de leidingen wordt j i T.pfompt rjnn vroeger, zal hen, | ; f''e klagen over de lage druk j op de leiding - en wie klaagt i daar ,niel over - wel een aiii d.?rc kijk geven cp de waterlei- Uingsdienst van de gemeente- Men werkt daar zo hard mogelijk om de stad van water te voorzien. Die voorziening jcschiedt op twee manieren. chemisch gereinigd. Daarna raat het door Amerikaanse i snelfiitcrs naar de reinwater: l eiders. Dit gebeurt echter niet voordat het water is gefcterdiseerd door toevoeging vnn chloorgas,, dat onder hoge i rruk ini cyiinder.3 uit Boekeloo wordt geïmi>orteerd- Door dit I chloreren wordt het leidingwaj ter absoluut bactei iënvrij- Er , wordt wel eens aanmerking ; gemaakt op de chloorsmaak. | '■'i' hot leidingwater ■ hier r '•\"•\"ft. doch deze is erg gering. P Amerka, waar men dezelf, (:'• methode voor het sterilise; :eii toepast wordt nog meer chloorgas aan het water toe| trevoegd.. Niet omdat het stcri- daardoor beter i wordt, doch alleen om dc men: s-vn gerust te stellen. Daar , beeft irit-n In het begin ook | klachten- gekregen ovch de l ciloorsmaak van het water, j po toevoeging van chloor werd ' >cn tot liet minimum beperkt, j rrrar het gevolg was dat toen : stroom %-on klachteri bij i ne watcrleidlngdienstén kwam over het gemis van de chloori .smaak. Men vreesde dat het water n.et meer-zuiver was. En om al deze mensen gerust te stellen werd' in het vervolg mar.r wat teveel chloorgas aan het water toegevoegd. j t'cr maand werd gedurende • do - eerste drie kwartalen van 1949 door de zuiveringsinstallatie ongeveer 480.000 kubieke meter water naar de stad gejon.pt, thans \"is dit kwantum nog met 25% verhoogd, zodat in de maand Januari de li* miet werd bereikt. — 600.000 kubieke meter. Uit de bergen wordt ongeveer evenveel water aangevoerd els uit de rivier wordt gehaald. Momenteel is de toevoer uit.de bergen, uit Kasri en Tamanan. ongeveer 400.000 kubieke meter daar de pompen van het Ftation Oemboelan lange tijd niet konden worden gebruikt. Thans zijn deze pompen echter hersteld, doch men meet voor de In gebruikstelling van dit station wachten op stroom. Wnnncer dit bedrijf ook in gebruik ie gesteld, zal uit de borgen 200.000 kubieke meter ner\" mand moer voer de stad tor -beschikking komen. ' Dat rn reeds uit Oemboelan 100.000 kubieke meter komt, is hot gevolg van het natuurlijk verval. ' De totale hoeveelheid water waarover Soerabaja dan per • .maand ycschlkt, zal 1.300.0001 kubieke meter bedragen. Dit j ir echter niet genoeg om de! druk op de waterleiding belangrijk op te voeren. Het zal j slechts in de droge tijd de toe- , stand niet verslechteren, iets wat tot nu toe het geval is geweest. l)e waterleiding heeft momenteel niet vele moeilijklie-j den te kampen. Door gebrek i aan meters - men heeft er dui- [ zenden te weinig - laten vele aangeslotenen de kraan inaar lopen. Veel water gaat op (Üe manier verloren Door de slechte leidingen, die na veel jaren in gebruik, te zijn ge; weest eigenlijk door nieuwe vervangen zouden moeten worden, gaat ook water verloren. Dezo lekke r leidingen vormen bovendien een gevaar voor.de volksgezondheid. Wanneer de tl ruk in deze leküngen te uaag wordt, loopt men kans dat het grondwater in de buizen dringt, waardoor het leidingwater besmet wordt. Daarom tracht men de gemiddelde druk zoveel mogelijk op te. voeren. Ook de zuiveringsinstallaties kunnen door het oude materiaal niet altijd op volle kracht' wei ken. Allemaal factoren, die het dé dienst moeilijk maken. Toch. zijn het laatste half jaar meer dan honderd straten en; wegen op dc leiding aangesloten. Dat betekent ongeveer 3000 nieuwe bniraansluitingen. . De benedenstad heeft ruog steeds, waterloze uren. De druk dicht bij de pompstations in d 2 bovenstad bedraagt dertig meter, doch het water heeft op weg naar de benedenstad zo\\eel druk verval, door aftapping «vnderweg, dat in de beneden-■ stad geheel geen druk meer o-, «ie biding staat. In deze toestand zal weinig verandering komen, daar de benedenstad nu eenmaal' te ver \\Tin ■_ij. bron afligt bij de huidige cpoacitolt van de pompen. De p\"'ge mógelijkheid het drukvorval te doen verminderen is de bouw van een nieuwe installatie naast de bestaande. De klacht, dat. men in de bovenstad letterlijk zwemt in hot water omdat daar de zwembaden wel van water worden voorzien,- is ongegrond. De zwembaden krijgen alleen nieuw water, wanneer do reservoirs van de waterleiding zcuden kunnen gaan overlopen. Bovendien worden de zwembaden slechts eens in do drie maanden van schoon water voorzien, hetgeen neerkomt op' een tiende procent van het totaal verbruik in de stad. De zwembaden beschikken zelf over installaties om hun water sulver te houden. Ook de hoevc-slheid water, die naar de haven wordt getnr.oporteerd cm de schepen vin drinkwater t.c voorzien, is n!M dermate groot dat daardoor de stad ernstig benadeeld wordt. Per dag wordt 850 kubieke meter naar' de haven getransporteerd: dit is 2\\'<% van' het totale waterverbruik van Soerabaja Rij 'ie. iwalerlelillngsdicnst van de gemeente wordt hard gewerkt oin alle water\\crbruikers zoveel mogelijk tevreden ïe steülen. oiulank.s de vele moeilijkheden waarmee men*t«i . dampen heeft. Men heeft echter bijna d« grenzen van het mogelijke be- ' reikt; \\eranderingen op grote schaal kunnen alleen no:; maar worden aangebracht warneer de gemeente • grote sommen geld kan uitgeven voor vernieuwingen en wanneer Indonesië over voldoende deviezen beschikt om dc/.c geldenl in het buitenland aan < te «-enden voor de koop van . het . zo - dringend benodigde materieel.\n",
      "Embedding: [-0.00268887  0.0391362  -0.02553064 ...  0.03684089  0.01483023\n",
      " -0.05779732]\n",
      "\n",
      "Sentence: De politiechefs van de regentschappen Malang, Pasoeróean, Probolinggo en I-oemadjang zijn respectievelijk de heren RS- Iranto. K- Surjadi, R. Suharjono en M. Kasiriii.\n",
      "Embedding: [-0.00643279  0.05482002  0.05933427 ... -0.00466166 -0.07806123\n",
      " -0.0543367 ]\n",
      "\n",
      "Sentence: 19) Het vreemde toestel t an de duvrg uas nu Rommeldam gevaderd, maar door Imt {vcrlièf van de kachelpijp scheen lfci zijn stuur kwijt tc zijn. Hot daal' de ten vunste tamelijk snsl en beschreef vreemde bochten in de lucht.. Zonder remmen daverde het dwars door leen tortft heen en het valt tc begrijpen, dat de burgers van dc goece stad door dit voorval hevig schrokken. ,J£en vliegende schotel!\" riep iemand• „Marsbcwoulrs!\" riep een aiuler, en een derdo brulde: ,J£cn gesplitste atoom!\" - Dc verkeersagent, die midden op het plein het verkeer regel- de enige die zijn kalmte bewaarde. , fioorlopen!\" riep hij, ~rcclitshouden! Ilct is alleen maar een—.\" Op dat moment hud het vreemde toestel er genoeg van- Het maakte een duikeling en stortte met een daverende knal voor He vcktcn van de agent op straat,.Hct is alleen maar een potkachel!\" zei de verkeersambteiiaar, onzeker ren pas achterwaarts doende■ ,J{om er tens uit meneer!!\" De dioerq werd nu zichtbaar. Er tras niet aan hem'te zien, dat hii zich jnjn had gedaan en misschien was dat ook wrl niet co. Hij glimlachte ten minste vriendelijk en schudde zijn hoofd-\n",
      "Embedding: [-0.05512105 -0.01365347 -0.0258221  ... -0.05412794 -0.05604668\n",
      "  0.01619506]\n",
      "\n",
      "Sentence: ,Jk vrrefr, dat de gigelgens nikt zicaar genoeg was om de kracht van de gridogeen op te heffen!'.' sprak hij spijtig■ Allemaal praatjes!\" snauwde 1 de agent. „Mtig ik uw rijbewijs > crus even zien? U brengt met ! die grappen het verkeer i7i gcj vaar!\" | „Dat loopt mi.*, heer Bcmj mri >\" cci Tom Poes, die op het | dak van de Oude Schicht was \\ (X'krjinmen om over de oploop ' hem tckunnlcn kijken.\n",
      "Embedding: [ 0.02094163  0.00062043  0.02773698 ... -0.002781   -0.03188628\n",
      " -0.04571407]\n",
      "\n",
      "Sentence: DJAKARTA, 6 Maart (Aneta). — Van de zes plaatsen -in het R.1.5.-Parlement, gereserveerd voor de Europese minderheid ,zijn er thans drie bezet nl. van de Partai Kalholiek, de heer Schmitz; van do Partai Indo Nasional, de heer Snel' en van het I.E.V. de heer Mayer Polak.\n",
      "Embedding: [ 0.01839473 -0.01849742 -0.01196721 ... -0.01925539 -0.02703712\n",
      "  0.01371233]\n",
      "\n",
      "Sentence: Speeltijden ||\"^T>77l J.70 JswA Zondag Matinee 18 u. v. m. r Plaatsbespreken 9-12 u. v.m. l Vrijkaarten lnw. A/h loket. I ' HEDEN voor hei laatst: v. ® „CAN'T HELP SINGING\" met DEANNA DURBIN-ROBFRT PAIGE-AKIM TAMiROFF. VANAF WORGEN: * 1 . .\n",
      "Embedding: [ 0.02498992 -0.00516707  0.01502836 ... -0.01759776 -0.01509086\n",
      "  0.0101048 ]\n",
      "\n",
      "Sentence: (Van onze correspondent) MALANG, 6 — In Malang worden nog steeds wielrijders van hun fiets beroofd. Deze berovingen gaan meestal gepaard met bedreiging me'. vuurwapens- Een melkboer, - die aan de rand van de stad zjn klanten wilde bedienen, werd door twee * rovers aangehouden- Zij waren gewapend met een karabijn en eisten zijn fiets op. De melkslijter liet zich echter niet zo gauw intimideren. Hij Kreeg in de gaten dat het wapen van de onverlaten een dummy-karabijn was- Met een van zijn melkflessen viel hij de beide* ma-Jien verwoed aan- Do heren dronen toen met wonden aan het hoofd af- De speelgoedkarabijn lieten zij achter voor de politie-\n",
      "Embedding: [-0.04182546 -0.01973629  0.02244727 ...  0.04489936 -0.019804\n",
      " -0.0014069 ]\n",
      "\n"
     ]
    }
   ],
   "source": [
    "# Create embeddings\n",
    "model = SentenceTransformer('distiluse-base-multilingual-cased', device=device)\n",
    "\n",
    "# Load paragraphs\n",
    "sentences = sen\n",
    "\n",
    "#Sentences are encoded by calling model.encode()\n",
    "embeddings = model.encode(sentences)\n",
    "\n",
    "#Print the embeddings\n",
    "for sentence, embedding in zip(sentences, embeddings):\n",
    "    print(\"Sentence:\", sentence)\n",
    "    print(\"Embedding:\", embedding)\n",
    "    print(\"\")"
   ]
  },
  {
   "cell_type": "code",
   "execution_count": 34,
   "metadata": {
    "collapsed": true,
    "jupyter": {
     "outputs_hidden": true
    }
   },
   "outputs": [
    {
     "name": "stdout",
     "output_type": "stream",
     "text": [
      "Maar het waren juist deze geheime gegevens, die Louwers in handen wilde krijgen. Want de Tsjechoslowaakse industrie heeft op dit gebied een reusachtige voorsprong. Of nemen wij Philips! Toen de Duitsers ons land binnenvielen, vertrokken uit Eindhoven 30 auto's, volgeladen met geheime papieren: de productiegeheimen van Philips! Die moesten in veiligheid. De rest was niet belangrijk. Geen mens buiten de vesting van Philips komt over deze geheimen iets te weten. En binnen de vesting is een wetenschappelijk systeem uitgewerkt, dat er voor zorgt, dat de lagere ingenieurs en technici slechts gedeelten van een bepaald productieproces leren kennen, waarmee zij niets kunnen beginnen. Verteld wordt, dat eens een delegatie van Japanse belangstellenden Philips kwam bezoeken. De heren werden „overal\" rondgeleid, ze kregen een pracht van een diner aangeboden. Maar de Philipsdirectie vermoedde dat sommigen van hen micro-fototoestellen by zich hadden. Fouilleren kon men de „geëerde gasten\" niet. Dus werden de heren vriendelijk uitgenodigd ook de laatste snufjes van de Röntgen-afdeling te bezichtigen. Met een „Japanse\" glimlach nodigde men de Japanners uit, van de gelegenheid gebruik te maken. Ze lieten dus Röntgenfoto's van zich zelf maken en meteen waren de microfilms van hun verborgen toestellen onbruikbaar gemaakt. Het beschermen van fabrieksgeheimen is dus de eerste zorg der ondernemers. Wetenschapelijke werkers, die de dienst van Philips verlaten, mogen een bepaald aantal jaren geen publicaties op hun gebied doen — zolang nl. totdat hun kennis van Philips-geheimen reeds weer verouderd is. Arbeiders in de textielververyen mogen gedurende een bepaald aantal jaren, nadat zij ontslag hebben genomen, niet bij concurrenten gaan werken. \t\t Alle denkbare voorzorgsmaatregelen worden dus genomen om de fabrieksgeheimen te beschermen. Anderzyds wordt ook alles in het werk gesteld om zulke geheimen te bemachtigen. Toen de Amerikanen West-Duitsland bezet hadden was hun eerste daad om de „specialisten\" naar Amerika over te brengen en hun tweede om zoveel mogeiyk fabrieksgeheimen te bemachtigen. Volgens officiële schattingen werden toen fabrieksgeheimen ter waarde van 10 milliard dollar buitgemaakt. Dat was dus „officieel\" spionnage in het groot. Maar in vredestyd geven de grote ondernemers, vooral in Amerika, jaariyks vele millioenen uit, om fabrieksgeheimen van anderen te bemachtigen, illegaal, door omkoperij, gewone diefstal en inbraak. Speciale politiecorpsen in particuliere dienst (zoals by Philips) moeten daarentegen weer er voor zorgen, dat dit soort roofridderconcurrentie verhinderd wordt. (Natuuriyk heeft die fabrieks-politie ook nog andere taken, zoals iedere Philipsarbeider weet.) \t\t Score: 0.5156\n",
      "Een groot aantal arbeiders werkzaam by de stofzuigerfabriek Efa Produka heeft jl. Maandag gedurende een half uur gestaakt tegen een dreigende tariefsverlaging. Toen een vertegenwoordiger van het zo gehate tariefbureau Beerenschot in de draaierij verscheen om de „tarieven aan een weteiischappehjk onderzoek te onderwerpen\", zetten de arbeiders van deze afdeling de machines stop. De arbeiders van de afdelingen slijperij, gietery, stuiterij en plaatwerkerij volgden hun voorbeeld op en gaven eensgezind te kennen niet op de „wetenschappelijke methoden\" van Beerenschot gesteld te zijn. \t\t De arbeiders hebben door deze proteststaking getoond, dat zij het smoesje van de directie, als zou dit tariefbureau tijdopmetingen doen in het belang van het personeel, op de juiste waarde weten te schatten. Het blijkt echter, dat sommige arbeiders uit de stempelmakerij nog niet volkomen begrijpen, dat de dreigende tariefsverlaging ook hun lonen zal verlagen. Het is verkeerd te denken, dat de stempelmakerij buiten schot zou blijven. Gezamenlijk zullen de arbeiders in staat zijn elke verslechtering af te wgzen. De stakers yan Maandag hebben getoond hun taak te hebben begrepen. (Arcor). \t\t Score: 0.5004\n"
     ]
    }
   ],
   "source": [
    "# Sentence mining from sentence-transformers\n",
    "sentences = sen[1:40]\n",
    "paraphrases = util.paraphrase_mining(\n",
    "    model,\n",
    "    sentences,\n",
    "    corpus_chunk_size=20, #len(sentences)\n",
    "    query_chunk_size=20,\n",
    "    top_k=20,\n",
    "    max_pairs=5)\n",
    "\n",
    "for paraphrase in paraphrases[0:10]:\n",
    "    score, i, j = paraphrase\n",
    "    print(\"{} \\t\\t {} \\t\\t Score: {:.4f}\".format(sentences[i], sentences[j], score))"
   ]
  },
  {
   "cell_type": "code",
   "execution_count": null,
   "metadata": {},
   "outputs": [],
   "source": [
    "#with open('paraphrase_test.pkl', \"wb\") as fOut:\n",
    "#    pickle.dump(paraphrase, fOut, protocol=pickle.HIGHEST_PROTOCOL)"
   ]
  },
  {
   "cell_type": "code",
   "execution_count": 25,
   "metadata": {},
   "outputs": [],
   "source": [
    "# Save embeddings\n",
    "import pickle\n",
    "\n",
    "with open('embeddings.pkl', \"wb\") as fOut:\n",
    "    pickle.dump({'sentences': sentences, 'embeddings': embeddings}, fOut, protocol=pickle.HIGHEST_PROTOCOL)\n",
    "\n",
    "    \n",
    "    \n",
    "#Load sentences & embeddings from disc\n",
    "with open('embeddings.pkl', \"rb\") as fIn:\n",
    "    stored_data = pickle.load(fIn)\n",
    "    stored_sentences = stored_data['sentences']\n",
    "    stored_embeddings = stored_data['embeddings']"
   ]
  },
  {
   "cell_type": "code",
   "execution_count": 28,
   "metadata": {
    "collapsed": true,
    "jupyter": {
     "outputs_hidden": true
    }
   },
   "outputs": [
    {
     "name": "stdout",
     "output_type": "stream",
     "text": [
      "Maar het waren juist deze geheime gegevens, die Louwers in handen wilde krijgen. Want de Tsjechoslowaakse industrie heeft op dit gebied een reusachtige voorsprong. Of nemen wij Philips! Toen de Duitsers ons land binnenvielen, vertrokken uit Eindhoven 30 auto's, volgeladen met geheime papieren: de productiegeheimen van Philips! Die moesten in veiligheid. De rest was niet belangrijk. Geen mens buiten de vesting van Philips komt over deze geheimen iets te weten. En binnen de vesting is een wetenschappelijk systeem uitgewerkt, dat er voor zorgt, dat de lagere ingenieurs en technici slechts gedeelten van een bepaald productieproces leren kennen, waarmee zij niets kunnen beginnen. Verteld wordt, dat eens een delegatie van Japanse belangstellenden Philips kwam bezoeken. De heren werden „overal\" rondgeleid, ze kregen een pracht van een diner aangeboden. Maar de Philipsdirectie vermoedde dat sommigen van hen micro-fototoestellen by zich hadden. Fouilleren kon men de „geëerde gasten\" niet. Dus werden de heren vriendelijk uitgenodigd ook de laatste snufjes van de Röntgen-afdeling te bezichtigen. Met een „Japanse\" glimlach nodigde men de Japanners uit, van de gelegenheid gebruik te maken. Ze lieten dus Röntgenfoto's van zich zelf maken en meteen waren de microfilms van hun verborgen toestellen onbruikbaar gemaakt. Het beschermen van fabrieksgeheimen is dus de eerste zorg der ondernemers. Wetenschapelijke werkers, die de dienst van Philips verlaten, mogen een bepaald aantal jaren geen publicaties op hun gebied doen — zolang nl. totdat hun kennis van Philips-geheimen reeds weer verouderd is. Arbeiders in de textielververyen mogen gedurende een bepaald aantal jaren, nadat zij ontslag hebben genomen, niet bij concurrenten gaan werken. \t\t Alle denkbare voorzorgsmaatregelen worden dus genomen om de fabrieksgeheimen te beschermen. Anderzyds wordt ook alles in het werk gesteld om zulke geheimen te bemachtigen. Toen de Amerikanen West-Duitsland bezet hadden was hun eerste daad om de „specialisten\" naar Amerika over te brengen en hun tweede om zoveel mogeiyk fabrieksgeheimen te bemachtigen. Volgens officiële schattingen werden toen fabrieksgeheimen ter waarde van 10 milliard dollar buitgemaakt. Dat was dus „officieel\" spionnage in het groot. Maar in vredestyd geven de grote ondernemers, vooral in Amerika, jaariyks vele millioenen uit, om fabrieksgeheimen van anderen te bemachtigen, illegaal, door omkoperij, gewone diefstal en inbraak. Speciale politiecorpsen in particuliere dienst (zoals by Philips) moeten daarentegen weer er voor zorgen, dat dit soort roofridderconcurrentie verhinderd wordt. (Natuuriyk heeft die fabrieks-politie ook nog andere taken, zoals iedere Philipsarbeider weet.) \t\t Score: 0.5156\n",
      "Een groot aantal arbeiders werkzaam by de stofzuigerfabriek Efa Produka heeft jl. Maandag gedurende een half uur gestaakt tegen een dreigende tariefsverlaging. Toen een vertegenwoordiger van het zo gehate tariefbureau Beerenschot in de draaierij verscheen om de „tarieven aan een weteiischappehjk onderzoek te onderwerpen\", zetten de arbeiders van deze afdeling de machines stop. De arbeiders van de afdelingen slijperij, gietery, stuiterij en plaatwerkerij volgden hun voorbeeld op en gaven eensgezind te kennen niet op de „wetenschappelijke methoden\" van Beerenschot gesteld te zijn. \t\t De arbeiders hebben door deze proteststaking getoond, dat zij het smoesje van de directie, als zou dit tariefbureau tijdopmetingen doen in het belang van het personeel, op de juiste waarde weten te schatten. Het blijkt echter, dat sommige arbeiders uit de stempelmakerij nog niet volkomen begrijpen, dat de dreigende tariefsverlaging ook hun lonen zal verlagen. Het is verkeerd te denken, dat de stempelmakerij buiten schot zou blijven. Gezamenlijk zullen de arbeiders in staat zijn elke verslechtering af te wgzen. De stakers yan Maandag hebben getoond hun taak te hebben begrepen. (Arcor). \t\t Score: 0.5004\n",
      "Alle denkbare voorzorgsmaatregelen worden dus genomen om de fabrieksgeheimen te beschermen. Anderzyds wordt ook alles in het werk gesteld om zulke geheimen te bemachtigen. Toen de Amerikanen West-Duitsland bezet hadden was hun eerste daad om de „specialisten\" naar Amerika over te brengen en hun tweede om zoveel mogeiyk fabrieksgeheimen te bemachtigen. Volgens officiële schattingen werden toen fabrieksgeheimen ter waarde van 10 milliard dollar buitgemaakt. Dat was dus „officieel\" spionnage in het groot. Maar in vredestyd geven de grote ondernemers, vooral in Amerika, jaariyks vele millioenen uit, om fabrieksgeheimen van anderen te bemachtigen, illegaal, door omkoperij, gewone diefstal en inbraak. Speciale politiecorpsen in particuliere dienst (zoals by Philips) moeten daarentegen weer er voor zorgen, dat dit soort roofridderconcurrentie verhinderd wordt. (Natuuriyk heeft die fabrieks-politie ook nog andere taken, zoals iedere Philipsarbeider weet.) \t\t WATEN STEDT-S ALZGITTER, 0 Maart (Reuter). — Meer dan 1000 Duitse arbeiders hebben een complete veldslag geleverd tegen een ontniautelingspatrouiKe, die cpflracht''had de~'lnstallaties v:vn de vroegere Hennann Göring-Staalfabrieken in Wateastedt op te blazen. Deze arbeiders drongen de fabrieken binnen en doofden de lonten van de explosieve ladingen, nadat zij de Duitse ontmante-I'ngspatrouille en de bewakers van deze patrouille uiteen hadden geslagen. De Britse ambtenaar, die cS leiding had van de ontnnr.telingsoperaties, riep de hulp van de politie in, die de orde wist te herstellen: Terwijl hc* gevecht gaande was tussen de ontmantelingspatrouille en de demonstranten, drongen ongeveer 100 woedende arbeiders het kantoor van de ontmantelLngs-commissie binnen en sloegen daar alles kort en k!cin. AHe papieren werden op straat geworpen en daar in brand gestoken. \t\t Score: 0.4718\n",
      "staan. In deze loodsen is een aantal daklozen ondergebracht. In verband met de verkoop van i de grond, waar deze loodscn op i s aan, moeten zij weg en elders : weer opgebouwd wouen. Dit j kost de gemeente een behoorlijk ; bedrag.' Ik ben er nu in geslaagd van de N.V. Proctor en- Gamble gedaan te krijgen, dat de fabriek oen deel van je kosten iop zich zal riemen. ' 'Terugkomende op de door •hem onwettig geachte berioe-1 rning van de heer Dul Arnowo j lo'v burgemeester van Soerabaja, vertelde de heer Radjamin, dat-j hij Maandag op :verzoek van en j vergezeld door twee leden van ( de Parindra ,die hem met schorsing als lid van do partij dreigden als hij nie: aan hun verzoek ; voldeed, een bezoek aan kolo-j ! nel Sungkono hooft gebracht. | Doel van dit bezoek was onder ! de aandacht van de Militaire i ; Gouverneur te brengen, dat het j j nu dringend \"noodzakelijk werd; : een burgemeester te benoemen, i mede gezien de in de gemeente-! raad aangenomen motie, waarin j ;de Militaire Gouverneur . ge-! I vraagd wordt een wali kota aan tc. stellen- •* ; Kolonel Sungkono anwoordde, , dat hij over deze kwestie ten .spoedigs :e overleg zou plegen mét do horen Samadikun c n Dul Arnowo. Daarna zcu door hem een besluit geslagen worden. Volkomen onverwacht hoorde | ik gisteren, da: de heer Dul: Arnowo door de heer Samadikun is benoemd. Met de krant in de hand ben ik daarop - gisteravond weer ' naar kolonel Sungkono loege-; gaai. Ik heb zijn aandach. , gevestigd op twee berichten in ae krant ii.l. de mot'ie van de ; gein ten'era ad, waarin de Mili-; t&ire Gouverneur. verzocht'. wordt een burgemeester aan te s.ellen en op het bericht, waarin ; gemeld wordt, dat de heer Dul Arnowo tot waarnemend bur- j gemcester is benoemd door de Gouverneur. De hcer_Radjamin doelde kolonel Sungkono mede van plan te zijn hedenmorgen op de stoel van de burgemees- j i ter te gaan zitten en zo spoc*: j dig-mogelijk het bestuur over j ' de stad op zich te nemeni ~Zoals reeds gezegd, ach t-ik de handelwijze. van de heer Samadikun volkomen onbegrijpelijk. Immers jl. Zaterdag op de bijeenkomst met do socreta-: ris-generaal van Binnenlandse j Zaken van de R.I.S. mr. Wong- j ! sonegoro, zei dc heer Samadi- I kun nog, dat zoveel mogelijk ; oudé \"Republikeinse ambtenaren : ; het bestuur van federalisten moesten overnemen. In deze bijeenkomst vestigde ik er de aandacht op, dat reeds . verschillende functies door fe- • deralisten waren overgedragen en ik vroeg wanneer de burge; meestersfuncties in Making en . Soerabaja aan de beurt zouden zijn- De lieer Samadikun antwoordde mij: „Heb nog even geduld, ook dat zal spoedig gebeuren\". . Ik acht het benoomingsbc- i j siui: van dc hoer Dul Arnowo ! ook daarom onwettig, omdat do, ; laatste tijd alle benoemingen ; zijn uitgegaan van de Militaire Gouverneur. Zo b.v. die van! resident en regent van Soer:i--' baja en die van directeur van ' ■do haven. Waarom moet\" daar Zoals gezegd, troffen wij do heer .Kadjamin Nasoetion hedenmorgen Tn do kamer'van de.. • burgemeester van Soerabaja- j 'Op zijn. tafel lagen verscheide-i - re besluiten en andere papie-[ ren, waarop hij do wettigheid j van zijn handelen baseert Allereerst toonde hij. oJls qcii waarop als functie* vermeld slaat : burgc- j meester ■» vttu Soerabaja e Deze ; identiteitskaart, ucrd op 7 Juli , 19.'/7 tc Malttng afgegeven eti is ondertekend, door de heer Dul Arnowo, in diens functie vim waarnemend ' gouverneur van Oost-\\iva. Vertier liet dr heer Radjamin ons een brief zien . van de h? er Soeroso, - hoofdbestuurslid van tic Parindra ,waarin deze aan de heer , IZiSljumin verslag uitbrmgi i *van hel onderhoud, dat hij c;> 9 Fbbruari jl met de minister van Binnenlandse Zaken van de Rcpitblik Indoncsia, mr■ £<.v- j santo had- In deze brief rcr-1 telt de heer Soeroso, dat de 1 minister dun hem heeft bevestigd. dat dc heer Radjamii nog steeds als burgemeester va:t j Soerabaja wordt beschouwd,; nimmer ontslagen iccrd en op het moment, dat de stad.Soc'rabttjV weer zal worden gevoegd bij de Rcpitblik Indoncsia als enige aanspraak kan maken op de burgemeestersplaats- Op 26 Febr. heeft de heer Soe: reso de woorden van de minister nog eens bevestigd in j de lodenvergadering van de ! Parindia, die hier ter stede In : de Ge.dong Nasional Indonesia werd gehouden- ' ■ Oe regerirg van de liopublik Indonesia. beschouwt mij dur nog\" steeds, zo vertelde de heer' \"Radjamin verder, als burgèmeester van Soerabnjn.- I!: wordt ook als zodanig, door Djokja uitbetaald- Ziet U maar hier- Uit de stapel papieren kwam een uitbot alingsbewijs over Januari jl- Dit bewijs is j afgestempeld dcor het kantoer i vai de Gouverneur van Oosti Java\". Hieruit blijkt dus boven''ditn. dat de heren Samadiliur. ! c-n Dul Arnowc volledig var.-, i de werkelijke situatie op de j hoogte zijn.\" aldus do heer Ra-! i djamin- Het is aldus, zq vervolgt d : heer Radjamin, voor mij dun ook een i aaJJ:I waarom ~ij zo 'gehandeld hebben- Eertijk gr-\" ' zegd ben ik eigenlijk r en bcct\\je verlegen om V dit alle maal tc verfeilt ii. Ons orderhoud werd evenj onderbroken door een telefoon- j . tje- Hot was oen gelukwens ! voor de lieer Radjamin, die hij ! echter afwimpelde mot de mededeling: „Ik heb het bestuur 1 nog niet overgenomen-\" Aansluitend op uit telefoon- i gesprek, vertelde de lieer Ra-djamin, dat hij al maandenlang ■ dcor zeer vele Soorabajanen als j burgemeester vail Soerabaja wordt beschouwd- Honderden stadgenoten zijn in de afgelopen maanden bij mij thuis gc, komen om raad tc vragen. Ik voerde in mijn hoedanig- j ■ heid van burgemeester onlange ! \\ ook besprekingen met de diree-1 ! tio val de N.V. Proctor en I Gamble. Het ging over het i verplaatsen van een aantal j loodsen, die nchtei—de-fabriek\"' van de N-V. Proctor en Gamble i, lui plotseling voor burgemees\" ' tor van Soerabaja van afgeweken worden ? • lenslottc toonde de heer Padjamin ens een telegram, dat hij gisteren heeft gezonden aan het ministerie van IJinnenlandsc Zaken Djokja. In, dit t-legram \\Taegt hij de goedkeuring van de regering van zijn besluit de hem toekomende plaats van burgemeester van Soerabaja'weer 'te hebben in- • genomen. ' - i To. zove'r ons onderhoud met! d? luer Radjamin- - j Verder vernamen wij nog,, dat het feit, dat de heer Radja- ■ mi hedenmorgen zijn cr.le! Vhnts achter.de burgemeester 'af el weer herft. ingenomen. i:i j doorgegeven aan hot kantoor ' >'an de heer Samadikun. Van ! enige reactie was bij het afslui- [ tcri van iit bericht nog niets bekend. Zoals wij gisteren hebben gemeld, bevinden zowel de lieer Samadikun als de heer Dul Arnowo zich vandaag on Ma- i doora. - • 1 Het ligt ?n de bedoeling, dat j de heer Dul Arnowo morgen- | ochtend om negen uur cp bi t • kantoer- voor Gemeentezaken , z*»l worden geïnstalleerd als [ waarnemend burgemeester van i \"oerabaja. J \t\t Heeft Soerabaja, «n vooral de benedenstad in de regentijd last van een overvloed van regenwater, dat niet snel genoeg kan worden afgevoerd, aan de andere kant heeft de stad gebrek aan leidingwater. Het. is weer de benedenstad, die daar het meest van te lijden heeft. Maar bij de aanvoer van leidingwater ligt de zaak wel iets anders, dan bij de afvoer van groiul- en regenwater. De hoeveelheid regenwater is niet groter geworden, het gebruik van leidingwater daarentegen wel. Thans produceert de waterzuiveringsinstallatie op Ngagel per maand meer, dan voor de oorlog in een heel jaar. Dat ondanks deze opvoering van de capaciteit van Ngagel er ren tekort aan leidingwater Is. komt ten dele door de aanwas van de bevolking, ten «lele door de vele lekkages in het oude materiaal en tenslotte wordt. Uit grotere waterverbruik ook veroorzaakt door een grotere ~waterbeschaving\" van de Indonesische. bevolking. Thans v,il men in de kampong zijn waterleiding hebben, terwijl dat vroeger in veel mindere mate het geval was \t\t Score: 0.4493\n",
      "..__, , — 1 ._..... , , .... Hedenavond BELLEVUE (ingang Leidsekade). Viering INTERNATIONALE VHOEJVENJDAG Spreekster: ANNIE GELOK. Medewerking: Lion Contran, piano; zangkoor „Morgenrood\"; Lizzy May en Jan Wronk, pantomime. — Massazang. Toegangsprijs 30 cent. Nog enkele kaarten aan de zaal. Aanvang 8 uur precies. \t\t Hilversum 1, SOl m. 20.00-20.05 iJWS- JmK Sweelinck-kwartet. 21.50 Commen__r **}?$ competiüe. 22.00 Marinierskapel. 22.J» ejt< Gr. 23.— Nws. 23.15 Utrechts Stedelijk OrJ 23.45 Jascha Heifetz (viool). 24.00 Sluiti\"8 ,» 20' _ Hilversum 11. 415 m. 20.00-20.05 Nws. \",M The Ramblers. 20.55 Christopher \"$& (hrsp.). 22.15 Kwintet. 22.45 Causerie. *» Nws. 23.15 Swing and sweet. \"3.40 Piaß\"\" 24.00 Sluiting. Programma voor Donderdaê Hilversum 1, SOl m. 8.00 Nws. 8.15 Gt-Jfi Schoolradio. 10.00-10.15 Residentie °I pK 10.45 Christelijke liederen. 11.00 Voor °%cc% ken. 11.45-12.00 Schoolradio. 12.03 eert. 13.00 Nws. 13.20 Pianovoordracht. ,j.*» Gr. 14.45 Voor de vrouw. 15.30-16.00 GT.J„o>' Gr. 17.00 Voor de Jeugd. 17.30-18.00 Met/°M Orkest. 18.30 Reg. Uitz. 19.00 Nws. 19.10 de Jeugd. 19.40 Radiokrant 20.00 Nwf- $& Gevar. Programma. 22.05 Gr. 22.15 22.35-22.45 Gr. 23.00 Nws. 23.16 Gr. Sluiting. .. te\" Hilversum 11, 4.15 m. 8.00 Nws. 8.15 OcW fi_ blad. 8.40 Gr. 8.55 Voor de vrouw. 9.30 Waterstanden. 9.35-10.10 Gr. 10.1$ Kx\\o*< orkest. 10.50 Voor de kinderen. 11.00 C»r atJf; orgel en bas-bariton. 11.45 TuinbouwPrjeiiJj; 12.00 Semi-klassieke muziek. 12.30 MeOeuj3J: gen. 12.38 Zigeunerensemble. 13.00 Nw»; <K Musette orkest, 13.50 Gr. 14.00 Voo'jj.iJ' Vrouw. 14.30 Sopraan, fluit en piano'r|teS,J' Voor de zieken. 16.00 Promenade ,°««B 16.30 Gr. 17.00 Voor de Jeugd. 17.6° iB.ffl Uitz. 18.00 Nws. 18.16 Sportpraatje- j 9£ Strijkorkest. 19.00 Voor de kinderen, zi# Accordeonorkest. 19.30 Radio Voll.sinun,irfs school. 22.00 Nws. 20.05 Gevar. Progr* 21.45 Radio Philharmonisch orkest, .„of* Causerie. 22.45 Gr. 23.00 Nws. 23.15 or actualiteiten. 23.30 Gr. 24.0 U Sluiting. \t\t Score: 0.4406\n",
      "Gistermorgen heeft een onderhoud plaatsgevonden tussen een delegatie van D.U.W.-arbeiders en een aantal ambtenaren van het gewestelijk arbeidsbureau te Amsterdam. De delegatie, die bestond uit een vijftal arbeiders in de D.U.W.-objecten Halfweg, Twiske, Someren by Eindhoven, V. .eringermeer en Bosplan, werd verge: _d door de E.V.C.-bestuurder J. v. d. Linden. Krachtig protesteerde de delegatie namens al hun collega's werkzaam op bovengenoemde obj 2ten, tegen het feit dat het G.A.B. D.U.W.-arbeiders oproept om onderkruiperswerk te aanvaarden bij de firma Wiersma, waar zoals wij eerder schreven, reeds ongeveer 3 weken een staking plaats vindt. Verder wees de delegatie er op dat het niet aangaat niet vakbekwame grondwerkers in het z.g. „diepriool\" aan het werk te zetten in verband met de grote kans op ongelukken. De ambtenaren hadden evenwel voor deze deskundige argumenten geen oor en zeiden te zullen voortgaan D.U.W.-art riders op te roepen ondanks dat de aannemer op wel zeer laatdunkende wyze heeft te kennen gegeven; „dat het merenr'eel der D.U.W.-arbeiders geen knip voor de neus waard is.\" De D.U.W.-arbeiders en de stakers van Wiersma zullen zowel deze man als de ambtenaren van het G.A.B, te verstaan moeten geven dat zij samen met alle bouwvakarbeiders, aan deze ronselprak» tyk een einde zullen maken. \t\t Een groot aantal arbeiders werkzaam by de stofzuigerfabriek Efa Produka heeft jl. Maandag gedurende een half uur gestaakt tegen een dreigende tariefsverlaging. Toen een vertegenwoordiger van het zo gehate tariefbureau Beerenschot in de draaierij verscheen om de „tarieven aan een weteiischappehjk onderzoek te onderwerpen\", zetten de arbeiders van deze afdeling de machines stop. De arbeiders van de afdelingen slijperij, gietery, stuiterij en plaatwerkerij volgden hun voorbeeld op en gaven eensgezind te kennen niet op de „wetenschappelijke methoden\" van Beerenschot gesteld te zijn. \t\t Score: 0.4356\n",
      "..__, , — 1 ._..... , , .... Hedenavond BELLEVUE (ingang Leidsekade). Viering INTERNATIONALE VHOEJVENJDAG Spreekster: ANNIE GELOK. Medewerking: Lion Contran, piano; zangkoor „Morgenrood\"; Lizzy May en Jan Wronk, pantomime. — Massazang. Toegangsprijs 30 cent. Nog enkele kaarten aan de zaal. Aanvang 8 uur precies. \t\t Speeltijden ||\"^T>77l J.70 JswA Zondag Matinee 18 u. v. m. r Plaatsbespreken 9-12 u. v.m. l Vrijkaarten lnw. A/h loket. I ' HEDEN voor hei laatst: v. ® „CAN'T HELP SINGING\" met DEANNA DURBIN-ROBFRT PAIGE-AKIM TAMiROFF. VANAF WORGEN: * 1 . . \t\t Score: 0.4229\n",
      "Woensdag as. zal hier ter stede een bijeenkomst plaats vin.den van ambtenaren van de voorlichtingsdienst in . Ooai> Java- Deze bijeenkomst zal vei\" moedelijk worden bijgewoond door de heer Sutomo i?an het ministerie rail Voorlichtingvan de R.I- \t\t Hedenmorgen te omstreeks acht uur is de heer Iladjamin Nasoetion, Republikeins burgemeester van Soerabaja in evacuatie, in ambtscostuum naar het kantoor van gei nieentezaken hier ter stede gekomen om in de kamer van Ide burgemeester plaats te nemen op de stoel van de VVali ' Kota. Zoals wij hebben gemeld is gisteren de heer I)ul Arnowo bij besluit .van de gouverneur van Oost-Java, de heer Samadikun; benoemd tot waarnemend burgemeester van Soerabaja..',: .f': V' i' •. In een.onderhoud, dat wij'- hedenmorgen met de heer Kadjamin in de burgemeesterskamer hadden, deelde hij ons mede het benoemingsbesluit van de heer l)ul Arnowo aflet te erkennen. Niet Gouverneur Samadikun moet een burgemeester, beroemen, doch de .Militair Gouverneur van Oost-Java. Bovendien ben ik aldus de heer Kadjamin dcor de regering te Djokja; die mij *n 1!)45 tot burgemeester van Soerabaja benoemd heeft, , nooit- ontslagen. Nog zeer onlangs is mij door Djokja de verzekering gegeven, dat ik nog steeds burgemeester in evacuatie ben.\" Nog vandaag, zo voegde de heer Kadjamin hieraan toe, zal 'ik de bevoegdheden van de loco-burgemeester, de heer Pranoto overnomen. \t\t Score: 0.4142\n",
      "Een groot aantal arbeiders werkzaam by de stofzuigerfabriek Efa Produka heeft jl. Maandag gedurende een half uur gestaakt tegen een dreigende tariefsverlaging. Toen een vertegenwoordiger van het zo gehate tariefbureau Beerenschot in de draaierij verscheen om de „tarieven aan een weteiischappehjk onderzoek te onderwerpen\", zetten de arbeiders van deze afdeling de machines stop. De arbeiders van de afdelingen slijperij, gietery, stuiterij en plaatwerkerij volgden hun voorbeeld op en gaven eensgezind te kennen niet op de „wetenschappelijke methoden\" van Beerenschot gesteld te zijn. \t\t WATEN STEDT-S ALZGITTER, 0 Maart (Reuter). — Meer dan 1000 Duitse arbeiders hebben een complete veldslag geleverd tegen een ontniautelingspatrouiKe, die cpflracht''had de~'lnstallaties v:vn de vroegere Hennann Göring-Staalfabrieken in Wateastedt op te blazen. Deze arbeiders drongen de fabrieken binnen en doofden de lonten van de explosieve ladingen, nadat zij de Duitse ontmante-I'ngspatrouille en de bewakers van deze patrouille uiteen hadden geslagen. De Britse ambtenaar, die cS leiding had van de ontnnr.telingsoperaties, riep de hulp van de politie in, die de orde wist te herstellen: Terwijl hc* gevecht gaande was tussen de ontmantelingspatrouille en de demonstranten, drongen ongeveer 100 woedende arbeiders het kantoor van de ontmantelLngs-commissie binnen en sloegen daar alles kort en k!cin. AHe papieren werden op straat geworpen en daar in brand gestoken. \t\t Score: 0.4063\n",
      "„In ons land is de vrede levenswet' \t\t Lid Vredescomité: „Het gaat goed in de haven \" \t\t Score: 0.4054\n"
     ]
    }
   ],
   "source": []
  },
  {
   "cell_type": "markdown",
   "metadata": {},
   "source": [
    "### Playing around with BERTje"
   ]
  },
  {
   "cell_type": "code",
   "execution_count": 18,
   "metadata": {},
   "outputs": [
    {
     "name": "stderr",
     "output_type": "stream",
     "text": [
      "2020-09-02 11:23:32 - Lock 5397104528 acquired on /Users/leonardovida/.cache/torch/transformers/75d9be4cc7910048b3bdd477c435ffc46330193705f74eaf9a4f375cd3be28b2.1e00a56207196ed1759c49bdd1fa93c2fb20273d59fabb0c4c8092f7beb773c2.lock\n",
      "2020-09-02 11:23:32 - https://s3.amazonaws.com/models.huggingface.co/bert/wietsedv/bert-base-dutch-cased/vocab.txt not found in cache or force_download set to True, downloading to /Users/leonardovida/.cache/torch/transformers/tmppdbo_bik\n"
     ]
    },
    {
     "data": {
      "application/vnd.jupyter.widget-view+json": {
       "model_id": "03c05e6f8d9f4c20ab402b55cece1e0b",
       "version_major": 2,
       "version_minor": 0
      },
      "text/plain": [
       "HBox(children=(FloatProgress(value=0.0, description='Downloading', max=241440.0, style=ProgressStyle(descripti…"
      ]
     },
     "metadata": {},
     "output_type": "display_data"
    },
    {
     "name": "stderr",
     "output_type": "stream",
     "text": [
      "2020-09-02 11:23:33 - storing https://s3.amazonaws.com/models.huggingface.co/bert/wietsedv/bert-base-dutch-cased/vocab.txt in cache at /Users/leonardovida/.cache/torch/transformers/75d9be4cc7910048b3bdd477c435ffc46330193705f74eaf9a4f375cd3be28b2.1e00a56207196ed1759c49bdd1fa93c2fb20273d59fabb0c4c8092f7beb773c2\n",
      "2020-09-02 11:23:33 - creating metadata file for /Users/leonardovida/.cache/torch/transformers/75d9be4cc7910048b3bdd477c435ffc46330193705f74eaf9a4f375cd3be28b2.1e00a56207196ed1759c49bdd1fa93c2fb20273d59fabb0c4c8092f7beb773c2\n",
      "2020-09-02 11:23:33 - Lock 5397104528 released on /Users/leonardovida/.cache/torch/transformers/75d9be4cc7910048b3bdd477c435ffc46330193705f74eaf9a4f375cd3be28b2.1e00a56207196ed1759c49bdd1fa93c2fb20273d59fabb0c4c8092f7beb773c2.lock\n",
      "2020-09-02 11:23:33 - loading file https://s3.amazonaws.com/models.huggingface.co/bert/wietsedv/bert-base-dutch-cased/vocab.txt from cache at /Users/leonardovida/.cache/torch/transformers/75d9be4cc7910048b3bdd477c435ffc46330193705f74eaf9a4f375cd3be28b2.1e00a56207196ed1759c49bdd1fa93c2fb20273d59fabb0c4c8092f7beb773c2\n"
     ]
    },
    {
     "name": "stdout",
     "output_type": "stream",
     "text": [
      "\n"
     ]
    },
    {
     "name": "stderr",
     "output_type": "stream",
     "text": [
      "2020-09-02 11:23:34 - Lock 5357248464 acquired on /Users/leonardovida/.cache/torch/transformers/6702c5c53edb76b65d71f73ff2d9811ba62f16257ea58e36dedceffd71290a6a.1a78bd120fe46d78b55efa59f4ffa1dafcc9242743ab9fd6629d1b56672c9119.lock\n",
      "2020-09-02 11:23:34 - https://s3.amazonaws.com/models.huggingface.co/bert/wietsedv/bert-base-dutch-cased/config.json not found in cache or force_download set to True, downloading to /Users/leonardovida/.cache/torch/transformers/tmpqyn8q3s_\n"
     ]
    },
    {
     "data": {
      "application/vnd.jupyter.widget-view+json": {
       "model_id": "147b29228fb34fab8f65f9318722d9d7",
       "version_major": 2,
       "version_minor": 0
      },
      "text/plain": [
       "HBox(children=(FloatProgress(value=0.0, description='Downloading', max=433.0, style=ProgressStyle(description_…"
      ]
     },
     "metadata": {},
     "output_type": "display_data"
    },
    {
     "name": "stderr",
     "output_type": "stream",
     "text": [
      "2020-09-02 11:23:34 - storing https://s3.amazonaws.com/models.huggingface.co/bert/wietsedv/bert-base-dutch-cased/config.json in cache at /Users/leonardovida/.cache/torch/transformers/6702c5c53edb76b65d71f73ff2d9811ba62f16257ea58e36dedceffd71290a6a.1a78bd120fe46d78b55efa59f4ffa1dafcc9242743ab9fd6629d1b56672c9119\n",
      "2020-09-02 11:23:34 - creating metadata file for /Users/leonardovida/.cache/torch/transformers/6702c5c53edb76b65d71f73ff2d9811ba62f16257ea58e36dedceffd71290a6a.1a78bd120fe46d78b55efa59f4ffa1dafcc9242743ab9fd6629d1b56672c9119\n",
      "2020-09-02 11:23:34 - Lock 5357248464 released on /Users/leonardovida/.cache/torch/transformers/6702c5c53edb76b65d71f73ff2d9811ba62f16257ea58e36dedceffd71290a6a.1a78bd120fe46d78b55efa59f4ffa1dafcc9242743ab9fd6629d1b56672c9119.lock\n",
      "2020-09-02 11:23:34 - loading configuration file https://s3.amazonaws.com/models.huggingface.co/bert/wietsedv/bert-base-dutch-cased/config.json from cache at /Users/leonardovida/.cache/torch/transformers/6702c5c53edb76b65d71f73ff2d9811ba62f16257ea58e36dedceffd71290a6a.1a78bd120fe46d78b55efa59f4ffa1dafcc9242743ab9fd6629d1b56672c9119\n",
      "2020-09-02 11:23:34 - Model config BertConfig {\n",
      "  \"architectures\": [\n",
      "    \"BertForMaskedLM\"\n",
      "  ],\n",
      "  \"attention_probs_dropout_prob\": 0.1,\n",
      "  \"gradient_checkpointing\": false,\n",
      "  \"hidden_act\": \"gelu\",\n",
      "  \"hidden_dropout_prob\": 0.1,\n",
      "  \"hidden_size\": 768,\n",
      "  \"initializer_range\": 0.02,\n",
      "  \"intermediate_size\": 3072,\n",
      "  \"layer_norm_eps\": 1e-12,\n",
      "  \"max_position_embeddings\": 512,\n",
      "  \"model_type\": \"bert\",\n",
      "  \"num_attention_heads\": 12,\n",
      "  \"num_hidden_layers\": 12,\n",
      "  \"pad_token_id\": 3,\n",
      "  \"type_vocab_size\": 2,\n",
      "  \"vocab_size\": 30000\n",
      "}\n",
      "\n"
     ]
    },
    {
     "name": "stdout",
     "output_type": "stream",
     "text": [
      "\n"
     ]
    },
    {
     "name": "stderr",
     "output_type": "stream",
     "text": [
      "2020-09-02 11:23:35 - Lock 5390180048 acquired on /Users/leonardovida/.cache/torch/transformers/e5754f612ca0f16edba5b775fdddba806751f5e4b87c5e7f16cc0c8d8d17df4d.b7c03627733fd0712f078a4d3a31ad964550f50a6113efdf874ecbcf5ddf6b53.lock\n",
      "2020-09-02 11:23:35 - https://cdn.huggingface.co/wietsedv/bert-base-dutch-cased/pytorch_model.bin not found in cache or force_download set to True, downloading to /Users/leonardovida/.cache/torch/transformers/tmp1wjgs76_\n"
     ]
    },
    {
     "data": {
      "application/vnd.jupyter.widget-view+json": {
       "model_id": "96474afab91444b2b20b8e15275941ab",
       "version_major": 2,
       "version_minor": 0
      },
      "text/plain": [
       "HBox(children=(FloatProgress(value=0.0, description='Downloading', max=438869143.0, style=ProgressStyle(descri…"
      ]
     },
     "metadata": {},
     "output_type": "display_data"
    },
    {
     "name": "stderr",
     "output_type": "stream",
     "text": [
      "2020-09-02 11:24:36 - storing https://cdn.huggingface.co/wietsedv/bert-base-dutch-cased/pytorch_model.bin in cache at /Users/leonardovida/.cache/torch/transformers/e5754f612ca0f16edba5b775fdddba806751f5e4b87c5e7f16cc0c8d8d17df4d.b7c03627733fd0712f078a4d3a31ad964550f50a6113efdf874ecbcf5ddf6b53\n",
      "2020-09-02 11:24:36 - creating metadata file for /Users/leonardovida/.cache/torch/transformers/e5754f612ca0f16edba5b775fdddba806751f5e4b87c5e7f16cc0c8d8d17df4d.b7c03627733fd0712f078a4d3a31ad964550f50a6113efdf874ecbcf5ddf6b53\n",
      "2020-09-02 11:24:36 - Lock 5390180048 released on /Users/leonardovida/.cache/torch/transformers/e5754f612ca0f16edba5b775fdddba806751f5e4b87c5e7f16cc0c8d8d17df4d.b7c03627733fd0712f078a4d3a31ad964550f50a6113efdf874ecbcf5ddf6b53.lock\n",
      "2020-09-02 11:24:36 - loading weights file https://cdn.huggingface.co/wietsedv/bert-base-dutch-cased/pytorch_model.bin from cache at /Users/leonardovida/.cache/torch/transformers/e5754f612ca0f16edba5b775fdddba806751f5e4b87c5e7f16cc0c8d8d17df4d.b7c03627733fd0712f078a4d3a31ad964550f50a6113efdf874ecbcf5ddf6b53\n"
     ]
    },
    {
     "name": "stdout",
     "output_type": "stream",
     "text": [
      "\n"
     ]
    },
    {
     "name": "stderr",
     "output_type": "stream",
     "text": [
      "2020-09-02 11:24:40 - All model checkpoint weights were used when initializing BertModel.\n",
      "\n",
      "2020-09-02 11:24:40 - All the weights of BertModel were initialized from the model checkpoint at wietsedv/bert-base-dutch-cased.\n",
      "If your task is similar to the task the model of the ckeckpoint was trained on, you can already use BertModel for predictions without further training.\n"
     ]
    }
   ],
   "source": [
    "from transformers import BertTokenizer, BertModel\n",
    "\n",
    "\n",
    "tokenizer = BertTokenizer.from_pretrained(\"wietsedv/bert-base-dutch-cased\")\n",
    "model = BertModel.from_pretrained(\"wietsedv/bert-base-dutch-cased\")"
   ]
  },
  {
   "cell_type": "code",
   "execution_count": null,
   "metadata": {},
   "outputs": [],
   "source": []
  }
 ],
 "metadata": {
  "kernelspec": {
   "display_name": "HistAware",
   "language": "python",
   "name": "histaware"
  },
  "language_info": {
   "codemirror_mode": {
    "name": "ipython",
    "version": 3
   },
   "file_extension": ".py",
   "mimetype": "text/x-python",
   "name": "python",
   "nbconvert_exporter": "python",
   "pygments_lexer": "ipython3",
   "version": "3.7.7"
  },
  "toc": {
   "base_numbering": 1,
   "nav_menu": {},
   "number_sections": true,
   "sideBar": true,
   "skip_h1_title": false,
   "title_cell": "Table of Contents",
   "title_sidebar": "Contents",
   "toc_cell": false,
   "toc_position": {},
   "toc_section_display": true,
   "toc_window_display": true
  },
  "varInspector": {
   "cols": {
    "lenName": 16,
    "lenType": 16,
    "lenVar": 40
   },
   "kernels_config": {
    "python": {
     "delete_cmd_postfix": "",
     "delete_cmd_prefix": "del ",
     "library": "var_list.py",
     "varRefreshCmd": "print(var_dic_list())"
    },
    "r": {
     "delete_cmd_postfix": ") ",
     "delete_cmd_prefix": "rm(",
     "library": "var_list.r",
     "varRefreshCmd": "cat(var_dic_list()) "
    }
   },
   "types_to_exclude": [
    "module",
    "function",
    "builtin_function_or_method",
    "instance",
    "_Feature"
   ],
   "window_display": false
  }
 },
 "nbformat": 4,
 "nbformat_minor": 4
}
