{
 "cells": [
  {
   "cell_type": "markdown",
   "id": "useful-meditation",
   "metadata": {},
   "source": [
    "# Fasttext"
   ]
  },
  {
   "cell_type": "code",
   "execution_count": 2,
   "id": "spoken-senegal",
   "metadata": {},
   "outputs": [],
   "source": [
    "import fasttext\n",
    "import pandas as pd\n",
    "from sklearn.model_selection import train_test_split"
   ]
  },
  {
   "cell_type": "markdown",
   "id": "sacred-possible",
   "metadata": {},
   "source": [
    "## Load data and create fasttext data"
   ]
  },
  {
   "cell_type": "code",
   "execution_count": 3,
   "id": "communist-polls",
   "metadata": {},
   "outputs": [],
   "source": [
    "coal = pd.read_csv(\"~/dev/hist-aware/notebooks/sentiment/coal.csv\")\n",
    "oil = pd.read_csv(\"~/dev/hist-aware/notebooks/sentiment/oil.csv\")\n",
    "gas = pd.read_csv(\"~/dev/hist-aware/notebooks/sentiment/gas.csv\")\n",
    "df = pd.read_csv(\"~/dev/hist-aware/notebooks/sentiment/df.csv\")"
   ]
  },
  {
   "cell_type": "code",
   "execution_count": 4,
   "id": "photographic-static",
   "metadata": {},
   "outputs": [
    {
     "data": {
      "text/plain": [
       "Index(['Unnamed: 0', 'labels', 'text', 'energy', 'article_filepath',\n",
       "       'article_name', 'count', 'date', 'dir', 'index_article',\n",
       "       'index_metadata', 'metadata_filepath', 'newspaper_language',\n",
       "       'newspaper_publisher', 'newspaper_source', 'newspaper_title',\n",
       "       'newspaper_volume', 'newspaper_issuenumber', 'newspaper_city',\n",
       "       'text_clean', 'type', 'text_split'],\n",
       "      dtype='object')"
      ]
     },
     "execution_count": 4,
     "metadata": {},
     "output_type": "execute_result"
    }
   ],
   "source": [
    "df.columns"
   ]
  },
  {
   "cell_type": "code",
   "execution_count": 5,
   "id": "marked-hours",
   "metadata": {},
   "outputs": [],
   "source": [
    "train_x, valid_x, train_y, valid_y = train_test_split(\n",
    "    df.text_split,\n",
    "    df.labels,\n",
    "    stratify=df.labels,\n",
    "    random_state=42, \n",
    "    test_size=0.2,\n",
    "    shuffle=True\n",
    ")"
   ]
  },
  {
   "cell_type": "code",
   "execution_count": 6,
   "id": "favorite-duration",
   "metadata": {},
   "outputs": [],
   "source": [
    "file = open('sentiment/fasttext.df.train', 'w+')\n",
    "for idx, row in train_x.items():\n",
    "    line = '__label__' + str(train_y[idx]) + ' ' + train_x[idx]\n",
    "    file.write(line + '\\n')\n",
    "    \n",
    "file = open('sentiment/fasttext.df.valid', 'w+')\n",
    "for idx, row in valid_x.items():\n",
    "    line = '__label__' + str(valid_y[idx]) + ' ' + valid_x[idx]\n",
    "    file.write(line + '\\n')"
   ]
  },
  {
   "cell_type": "markdown",
   "id": "gross-residence",
   "metadata": {},
   "source": [
    "## Create Fasttext model"
   ]
  },
  {
   "cell_type": "code",
   "execution_count": 54,
   "id": "foreign-preliminary",
   "metadata": {},
   "outputs": [],
   "source": [
    "model = fasttext.train_supervised(\n",
    "    input=\"sentiment/fasttext.df.train\",\n",
    "    lr=0.2,               # learning rate [0.1]\n",
    "    dim=100,               # size of word vectors [100]\n",
    "    ws=10,                # size of the context window [5]\n",
    "    epoch=50,            # number of epochs [5]\n",
    "    minCount=20,          # minimal number of word occurences [1]\n",
    "    wordNgrams=3,        # max length of word ngram [1]\n",
    "    loss=\"ova\",              # loss function {ns, hs, softmax, ova} [softmax]\n",
    "    bucket=5000000,           # number of buckets [2000000]\n",
    "    thread=6,          # number of threads [number of cpus]\n",
    "    lrUpdateRate=100,     # change the rate of updates for the learning rate [100]\n",
    "    t=0.0001,                 # sampling threshold [0.0001]\n",
    "    autotuneValidationFile='sentiment/fasttext.df.valid',\n",
    "    #verbose           # verbose [2]\n",
    ")\n",
    "model.save_model(\"FASTTEXT_model_manual.bin\")"
   ]
  },
  {
   "cell_type": "code",
   "execution_count": null,
   "id": "retired-dubai",
   "metadata": {},
   "outputs": [],
   "source": [
    "model_2 = fasttext.train_supervised(\n",
    "    input=\"sentiment/fasttext.df.train\",\n",
    "    autotuneValidationFile='sentiment/fasttext.df.valid',\n",
    "    autotuneDuration=1000)\n",
    "model_2.save_model(\"FASTTEXT_model_auto.bin\")"
   ]
  },
  {
   "cell_type": "markdown",
   "id": "visible-viewer",
   "metadata": {},
   "source": [
    "## Predict model"
   ]
  },
  {
   "cell_type": "code",
   "execution_count": 55,
   "id": "attractive-wisconsin",
   "metadata": {},
   "outputs": [
    {
     "name": "stdout",
     "output_type": "stream",
     "text": [
      "Manually trained model, results on validation:\n",
      "- Sample 1413 \n",
      "- Accuracy: 0.7183297947629158\n",
      "\n",
      "---\n",
      "\n",
      "Automatically trained model, results on validation:\n",
      "- Sample 1413 \n",
      "- Accuracy: 0.7098372257607927\n"
     ]
    }
   ],
   "source": [
    "res = model.test('sentiment/fasttext.df.valid')\n",
    "print(f\"Manually trained model, results on validation:\\n- Sample {res[0]} \\n- Accuracy: {res[1]}\")\n",
    "\n",
    "print(\"\\n---\\n\")\n",
    "\n",
    "res = model_2.test('sentiment/fasttext.df.valid')\n",
    "print(f\"Automatically trained model, results on validation:\\n- Sample {res[0]} \\n- Accuracy: {res[1]}\")"
   ]
  },
  {
   "cell_type": "code",
   "execution_count": 61,
   "id": "finnish-pioneer",
   "metadata": {},
   "outputs": [
    {
     "name": "stdout",
     "output_type": "stream",
     "text": [
      "We want as many predictions as possible (k-1) for the prediction of:\n",
      " - coal\n",
      "Label: __label__1 - Prob: 1\n",
      "Label: __label__2 - Prob: 0\n",
      "Label: __label__0 - Prob: 0\n"
     ]
    }
   ],
   "source": [
    "predict_phrase = \"coal\"\n",
    "print(f\"We want as many predictions as possible (k-1) for the prediction of:\\n - {predict_phrase}\")\n",
    "pred = model.predict(predict_phrase, k=-1)\n",
    "for p, l in zip(pred[1], pred[0]):\n",
    "    print(f\"Label: {l} - Prob: {int(p)}\")"
   ]
  },
  {
   "cell_type": "code",
   "execution_count": null,
   "id": "grave-germany",
   "metadata": {},
   "outputs": [],
   "source": []
  }
 ],
 "metadata": {
  "kernelspec": {
   "display_name": "histaware-NidRwJ64-py3.8",
   "language": "python",
   "name": "histaware-nidrwj64-py3.8"
  },
  "language_info": {
   "codemirror_mode": {
    "name": "ipython",
    "version": 3
   },
   "file_extension": ".py",
   "mimetype": "text/x-python",
   "name": "python",
   "nbconvert_exporter": "python",
   "pygments_lexer": "ipython3",
   "version": "3.8.5"
  }
 },
 "nbformat": 4,
 "nbformat_minor": 5
}
