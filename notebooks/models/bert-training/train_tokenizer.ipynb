{
 "cells": [
  {
   "cell_type": "code",
   "execution_count": 53,
   "id": "classified-interval",
   "metadata": {},
   "outputs": [],
   "source": [
    "import glob\n",
    "import os\n",
    "from pathlib import Path\n",
    "\n",
    "from tokenizers import Tokenizer\n",
    "from tokenizers import ByteLevelBPETokenizer\n",
    "from tokenizers.models import BPE\n",
    "from tokenizers.trainers import BpeTrainer\n",
    "from tokenizers.pre_tokenizers import Whitespace\n",
    "from tokenizers.implementations import ByteLevelBPETokenizer\n",
    "from tokenizers.processors import BertProcessing\n",
    "from transformers import RobertaConfig\n",
    "from transformers import RobertaTokenizerFast\n",
    "\n",
    "import numpy as np\n",
    "import pandas as pd\n",
    "from tqdm.notebook import trange, tqdm"
   ]
  },
  {
   "cell_type": "code",
   "execution_count": 29,
   "id": "persistent-thread",
   "metadata": {},
   "outputs": [],
   "source": [
    "# Find path to csv files with processed data\n",
    "#Path().parent.absolute()\n",
    "paths = [str(x) for x in Path(\"/home/leonardovida/data-histaware\").glob(\"*.csv\")]"
   ]
  },
  {
   "cell_type": "code",
   "execution_count": 30,
   "id": "human-respondent",
   "metadata": {
    "collapsed": true,
    "jupyter": {
     "outputs_hidden": true
    },
    "tags": []
   },
   "outputs": [
    {
     "data": {
      "application/vnd.jupyter.widget-view+json": {
       "model_id": "693dafacfaf04847a144ae6d80348ea5",
       "version_major": 2,
       "version_minor": 0
      },
      "text/plain": [
       "HBox(children=(FloatProgress(value=0.0, max=80.0), HTML(value='')))"
      ]
     },
     "metadata": {},
     "output_type": "display_data"
    },
    {
     "name": "stdout",
     "output_type": "stream",
     "text": [
      "articles3050000_3100000\n",
      "articles2300000_2350000\n",
      "articles850000_900000\n",
      "articles750000_800000\n",
      "articles3150000_3200000\n",
      "articles3700000_3750000\n",
      "articles650000_700000\n",
      "articles3000000_3050000\n",
      "articles250000_300000\n",
      "articles2100000_2150000\n",
      "articles1000000_1050000\n",
      "articles2850000_2900000\n",
      "articles3250000_3300000\n",
      "articles800000_850000\n",
      "articles1100000_1150000\n",
      "articles1150000_1200000\n",
      "articles3400000_3450000\n",
      "articles600000_650000\n",
      "articles2350000_2400000\n",
      "articles2650000_2700000\n",
      "articles3350000_3400000\n",
      "articles950000_1000000\n",
      "articles100000_150000\n",
      "articles1750000_1800000\n",
      "articles2400000_2450000\n",
      "articles3650000_3700000\n",
      "articles3750000_3800000\n",
      "articles2050000_2100000\n",
      "articles1650000_1700000\n",
      "articles2200000_2250000\n",
      "articles1400000_1450000\n",
      "articles2500000_2550000\n",
      "articles300000_350000\n",
      "articles3950000_3977117\n",
      "articles3500000_3550000\n",
      "articles500000_550000\n",
      "articles700000_750000\n",
      "articles2750000_2800000\n",
      "articles3850000_3900000\n",
      "articles1200000_1250000\n",
      "articles1850000_1900000\n",
      "articles3550000_3600000\n",
      "articles3450000_3500000\n",
      "articles1350000_1400000\n",
      "articles3100000_3150000\n",
      "articles1450000_1500000\n",
      "articles1800000_1850000\n",
      "articles1900000_1950000\n",
      "articles1250000_1300000\n",
      "articles1950000_2000000\n",
      "articles350000_400000\n",
      "articles1700000_1750000\n",
      "articles150000_200000\n",
      "articles1500000_1550000\n",
      "articles2950000_3000000\n",
      "articles50000_100000\n",
      "articles2450000_2500000\n",
      "articles3300000_3350000\n",
      "articles1550000_1600000\n",
      "articles1300000_1350000\n",
      "articles2700000_2750000\n",
      "articles450000_500000\n",
      "articles550000_600000\n",
      "articles3800000_3850000\n",
      "articles1600000_1650000\n",
      "articles2150000_2200000\n",
      "articles2900000_2950000\n",
      "articles3600000_3650000\n",
      "articles400000_450000\n",
      "articles0_50000\n",
      "articles2000000_2050000\n",
      "articles2800000_2850000\n",
      "articles3900000_3950000\n",
      "articles3200000_3250000\n",
      "articles2600000_2650000\n",
      "articles900000_950000\n",
      "articles200000_250000\n",
      "articles2250000_2300000\n",
      "articles2550000_2600000\n",
      "articles1050000_1100000\n",
      "\n"
     ]
    }
   ],
   "source": [
    "for path in tqdm(paths, total=len(paths)):\n",
    "    base = os.path.basename(path)\n",
    "    name = os.path.splitext(base)[0]\n",
    "    print(name)\n",
    "    df = pd.read_csv(path)\n",
    "    df.dropna(subset=[\"text\"], inplace=True)\n",
    "    df.to_csv(f'/home/leonardovida/data-histaware/{name}.txt', header=None, index=None, sep=' ', mode='a')"
   ]
  },
  {
   "cell_type": "code",
   "execution_count": 31,
   "id": "satisfied-commerce",
   "metadata": {
    "collapsed": true,
    "jupyter": {
     "outputs_hidden": true
    },
    "tags": []
   },
   "outputs": [
    {
     "data": {
      "text/plain": [
       "['/home/leonardovida/data-histaware/articles650000_700000.txt',\n",
       " '/home/leonardovida/data-histaware/articles550000_600000.txt',\n",
       " '/home/leonardovida/data-histaware/articles3050000_3100000.txt',\n",
       " '/home/leonardovida/data-histaware/articles3350000_3400000.txt',\n",
       " '/home/leonardovida/data-histaware/articles3100000_3150000.txt',\n",
       " '/home/leonardovida/data-histaware/articles1650000_1700000.txt',\n",
       " '/home/leonardovida/data-histaware/articles0_50000.txt',\n",
       " '/home/leonardovida/data-histaware/articles3000000_3050000.txt',\n",
       " '/home/leonardovida/data-histaware/articles2950000_3000000.txt',\n",
       " '/home/leonardovida/data-histaware/articles2300000_2350000.txt',\n",
       " '/home/leonardovida/data-histaware/articles2550000_2600000.txt',\n",
       " '/home/leonardovida/data-histaware/articles800000_850000.txt',\n",
       " '/home/leonardovida/data-histaware/articles700000_750000.txt',\n",
       " '/home/leonardovida/data-histaware/articles3800000_3850000.txt',\n",
       " '/home/leonardovida/data-histaware/articles2000000_2050000.txt',\n",
       " '/home/leonardovida/data-histaware/articles300000_350000.txt',\n",
       " '/home/leonardovida/data-histaware/articles1400000_1450000.txt',\n",
       " '/home/leonardovida/data-histaware/articles900000_950000.txt',\n",
       " '/home/leonardovida/data-histaware/articles750000_800000.txt',\n",
       " '/home/leonardovida/data-histaware/articles1200000_1250000.txt',\n",
       " '/home/leonardovida/data-histaware/articles1000000_1050000.txt',\n",
       " '/home/leonardovida/data-histaware/articles600000_650000.txt',\n",
       " '/home/leonardovida/data-histaware/articles2850000_2900000.txt',\n",
       " '/home/leonardovida/data-histaware/articles3650000_3700000.txt',\n",
       " '/home/leonardovida/data-histaware/articles2800000_2850000.txt',\n",
       " '/home/leonardovida/data-histaware/articles200000_250000.txt',\n",
       " '/home/leonardovida/data-histaware/articles250000_300000.txt',\n",
       " '/home/leonardovida/data-histaware/articles3550000_3600000.txt',\n",
       " '/home/leonardovida/data-histaware/articles3700000_3750000.txt',\n",
       " '/home/leonardovida/data-histaware/articles150000_200000.txt',\n",
       " '/home/leonardovida/data-histaware/articles2250000_2300000.txt',\n",
       " '/home/leonardovida/data-histaware/articles3450000_3500000.txt',\n",
       " '/home/leonardovida/data-histaware/articles950000_1000000.txt',\n",
       " '/home/leonardovida/data-histaware/articles1500000_1550000.txt',\n",
       " '/home/leonardovida/data-histaware/articles1550000_1600000.txt',\n",
       " '/home/leonardovida/data-histaware/articles3750000_3800000.txt',\n",
       " '/home/leonardovida/data-histaware/articles2050000_2100000.txt',\n",
       " '/home/leonardovida/data-histaware/articles2500000_2550000.txt',\n",
       " '/home/leonardovida/data-histaware/articles1300000_1350000.txt',\n",
       " '/home/leonardovida/data-histaware/articles1950000_2000000.txt',\n",
       " '/home/leonardovida/data-histaware/articles2350000_2400000.txt',\n",
       " '/home/leonardovida/data-histaware/articles350000_400000.txt',\n",
       " '/home/leonardovida/data-histaware/articles1350000_1400000.txt',\n",
       " '/home/leonardovida/data-histaware/articles2450000_2500000.txt',\n",
       " '/home/leonardovida/data-histaware/articles450000_500000.txt',\n",
       " '/home/leonardovida/data-histaware/articles1800000_1850000.txt',\n",
       " '/home/leonardovida/data-histaware/articles3400000_3450000.txt',\n",
       " '/home/leonardovida/data-histaware/articles1050000_1100000.txt',\n",
       " '/home/leonardovida/data-histaware/articles100000_150000.txt',\n",
       " '/home/leonardovida/data-histaware/articles1850000_1900000.txt',\n",
       " '/home/leonardovida/data-histaware/articles3500000_3550000.txt',\n",
       " '/home/leonardovida/data-histaware/articles3150000_3200000.txt',\n",
       " '/home/leonardovida/data-histaware/articles3250000_3300000.txt',\n",
       " '/home/leonardovida/data-histaware/articles1700000_1750000.txt',\n",
       " '/home/leonardovida/data-histaware/articles400000_450000.txt',\n",
       " '/home/leonardovida/data-histaware/articles3850000_3900000.txt',\n",
       " '/home/leonardovida/data-histaware/articles2200000_2250000.txt',\n",
       " '/home/leonardovida/data-histaware/articles3300000_3350000.txt',\n",
       " '/home/leonardovida/data-histaware/articles1250000_1300000.txt',\n",
       " '/home/leonardovida/data-histaware/articles2150000_2200000.txt',\n",
       " '/home/leonardovida/data-histaware/articles2650000_2700000.txt',\n",
       " '/home/leonardovida/data-histaware/articles1450000_1500000.txt',\n",
       " '/home/leonardovida/data-histaware/articles2750000_2800000.txt',\n",
       " '/home/leonardovida/data-histaware/articles1900000_1950000.txt',\n",
       " '/home/leonardovida/data-histaware/articles1150000_1200000.txt',\n",
       " '/home/leonardovida/data-histaware/articles1600000_1650000.txt',\n",
       " '/home/leonardovida/data-histaware/articles2400000_2450000.txt',\n",
       " '/home/leonardovida/data-histaware/articles3200000_3250000.txt',\n",
       " '/home/leonardovida/data-histaware/articles3600000_3650000.txt',\n",
       " '/home/leonardovida/data-histaware/articles2900000_2950000.txt',\n",
       " '/home/leonardovida/data-histaware/articles3900000_3950000.txt',\n",
       " '/home/leonardovida/data-histaware/articles1100000_1150000.txt',\n",
       " '/home/leonardovida/data-histaware/articles50000_100000.txt',\n",
       " '/home/leonardovida/data-histaware/articles1750000_1800000.txt',\n",
       " '/home/leonardovida/data-histaware/articles2700000_2750000.txt',\n",
       " '/home/leonardovida/data-histaware/articles2100000_2150000.txt',\n",
       " '/home/leonardovida/data-histaware/articles500000_550000.txt',\n",
       " '/home/leonardovida/data-histaware/articles2600000_2650000.txt',\n",
       " '/home/leonardovida/data-histaware/articles850000_900000.txt',\n",
       " '/home/leonardovida/data-histaware/articles3950000_3977117.txt']"
      ]
     },
     "execution_count": 31,
     "metadata": {},
     "output_type": "execute_result"
    }
   ],
   "source": [
    "[str(x) for x in Path(\"/home/leonardovida/data-histaware\").glob(\"*.txt\")]"
   ]
  },
  {
   "cell_type": "code",
   "execution_count": 32,
   "id": "outside-sound",
   "metadata": {},
   "outputs": [
    {
     "name": "stdout",
     "output_type": "stream",
     "text": [
      "CPU times: user 1h 49min 34s, sys: 1min, total: 1h 50min 34s\n",
      "Wall time: 14min 35s\n"
     ]
    }
   ],
   "source": [
    "%%time \n",
    "\n",
    "paths = [str(x) for x in Path(\"/home/leonardovida/data-histaware\").glob(\"*.txt\")]\n",
    "\n",
    "# Initialize a tokenizer\n",
    "tokenizer = ByteLevelBPETokenizer()\n",
    "\n",
    "tokenizer.pre_tokenizer = Whitespace()\n",
    "\n",
    "# Customize training\n",
    "tokenizer.train(files=paths, vocab_size=52_000, min_frequency=2, special_tokens=[\n",
    "    \"<s>\",\n",
    "    \"<pad>\",\n",
    "    \"</s>\",\n",
    "    \"<unk>\",\n",
    "    \"<mask>\",\n",
    "])"
   ]
  },
  {
   "cell_type": "markdown",
   "id": "cutting-cigarette",
   "metadata": {},
   "source": [
    "### Save tokenizer"
   ]
  },
  {
   "cell_type": "code",
   "execution_count": 38,
   "id": "incident-korean",
   "metadata": {},
   "outputs": [
    {
     "data": {
      "text/plain": [
       "['/home/leonardovida/dev/hist-aware/notebooks/models/bert-training/vocab.json',\n",
       " '/home/leonardovida/dev/hist-aware/notebooks/models/bert-training/merges.txt']"
      ]
     },
     "execution_count": 38,
     "metadata": {},
     "output_type": "execute_result"
    }
   ],
   "source": [
    "tokenizer.save_model(\"/home/leonardovida/dev/hist-aware/notebooks/models/bert-training\")"
   ]
  },
  {
   "cell_type": "markdown",
   "id": "extraordinary-zoning",
   "metadata": {},
   "source": [
    "### Load tokenizer"
   ]
  },
  {
   "cell_type": "code",
   "execution_count": 44,
   "id": "thrown-latex",
   "metadata": {},
   "outputs": [],
   "source": [
    "tokenizer = ByteLevelBPETokenizer(\n",
    "    \"/home/leonardovida/dev/hist-aware/notebooks/models/bert-training/vocab.json\",\n",
    "    \"/home/leonardovida/dev/hist-aware/notebooks/models/bert-training/merges.txt\",\n",
    ")"
   ]
  },
  {
   "cell_type": "code",
   "execution_count": 45,
   "id": "chinese-revelation",
   "metadata": {},
   "outputs": [],
   "source": [
    "tokenizer._tokenizer.post_processor = BertProcessing(\n",
    "    (\"</s>\", tokenizer.token_to_id(\"</s>\")),\n",
    "    (\"<s>\", tokenizer.token_to_id(\"<s>\")),\n",
    ")\n",
    "tokenizer.enable_truncation(max_length=512)"
   ]
  },
  {
   "cell_type": "code",
   "execution_count": 48,
   "id": "subtle-chambers",
   "metadata": {
    "collapsed": true,
    "jupyter": {
     "outputs_hidden": true
    },
    "tags": []
   },
   "outputs": [
    {
     "data": {
      "text/plain": [
       "['<s>',\n",
       " 'Waarom',\n",
       " 'Ġniet',\n",
       " 'Ġmet',\n",
       " 'ĠdÃ©',\n",
       " 'da',\n",
       " 'in',\n",
       " 'Ġover',\n",
       " 'ĠSchilder',\n",
       " ',',\n",
       " 'Ġzoals',\n",
       " 'Ġover',\n",
       " 'Ġzoveel',\n",
       " 'Ġanderen',\n",
       " '?',\n",
       " 'ĠHij',\n",
       " 'Ġwist',\n",
       " 'Ġzich',\n",
       " 'Ġtegenstander',\n",
       " ':',\n",
       " 'ĠBart',\n",
       " 'h',\n",
       " 'Ġstond',\n",
       " 'Ġtussen',\n",
       " 'Ġbeiden',\n",
       " '.',\n",
       " 'ĠMaar',\n",
       " 'ĠM',\n",
       " 'isk',\n",
       " 'otte',\n",
       " 'Ġwist',\n",
       " 'Ġzich',\n",
       " 'Ġin',\n",
       " 'Ġdezelfde',\n",
       " 'Ġtijd',\n",
       " 'Ġte',\n",
       " 'Ġstaan',\n",
       " ',',\n",
       " 'Ġin',\n",
       " 'Ġdezelfde',\n",
       " 'Ġstorm',\n",
       " ',',\n",
       " 'Ġdie',\n",
       " 'Ġook',\n",
       " 'ĠSchilder',\n",
       " 'Ġonder',\n",
       " 'ging',\n",
       " '.',\n",
       " 'ĠSoms',\n",
       " 'Ġis',\n",
       " 'Ġer',\n",
       " 'Ġopvallende',\n",
       " 'Ġaffiniteit',\n",
       " '.',\n",
       " 'ĠHij',\n",
       " 'Ġkende',\n",
       " 'Ġde',\n",
       " 'Ġdichters',\n",
       " 'Ġvan',\n",
       " 'ĠNederland',\n",
       " ',',\n",
       " 'Ġzoals',\n",
       " 'Ġook',\n",
       " 'ĠSchilder',\n",
       " ':',\n",
       " 'ĠD',\n",
       " 'Ã¨r',\n",
       " 'ĠM',\n",
       " 'ouw',\n",
       " 'Ġ(',\n",
       " 'Ad',\n",
       " 'wa',\n",
       " 'ita',\n",
       " '),',\n",
       " 'ĠNij',\n",
       " 'hof',\n",
       " 'Ġf',\n",
       " 'Ġen',\n",
       " 'ĠMar',\n",
       " 'sman',\n",
       " '.',\n",
       " 'ĠHij',\n",
       " 'Ġstond',\n",
       " ',',\n",
       " 'Ġdenk',\n",
       " 'Ġik',\n",
       " ',',\n",
       " 'Ġgeestelijk',\n",
       " 'Ġook',\n",
       " 'Ġaanzienlijk',\n",
       " 'Ġdichter',\n",
       " 'Ġbij',\n",
       " 'Ġhen',\n",
       " '.',\n",
       " 'ĠHij',\n",
       " 'Ġhad',\n",
       " 'Ġde',\n",
       " 'ĠNederlandse',\n",
       " 'Ġtaal',\n",
       " 'Ġen',\n",
       " 'Ġhet',\n",
       " 'ĠNederlands',\n",
       " 'Ġland',\n",
       " 'Ġlief',\n",
       " ':',\n",
       " 'ĠâĢŀ',\n",
       " 'De',\n",
       " 'Ġne',\n",
       " 'derlandse',\n",
       " 'Ġtaal',\n",
       " 'Ġen',\n",
       " 'Ġhet',\n",
       " 'Ġge',\n",
       " 'boom',\n",
       " 'te',\n",
       " 'Ġvan',\n",
       " 'Ġdit',\n",
       " 'Ġland',\n",
       " ',',\n",
       " 'Ġdeze',\n",
       " 'Ġtwee',\n",
       " 'Ġgewassen',\n",
       " 'Ġzijn',\n",
       " 'Ġmijn',\n",
       " 'Ġaard',\n",
       " 'se',\n",
       " 'Ġheerlijk',\n",
       " 'heid',\n",
       " '\"',\n",
       " 'Ġ(',\n",
       " '329',\n",
       " ').',\n",
       " 'ĠAl',\n",
       " 'Ġzou',\n",
       " 'Ġhet',\n",
       " 'ĠallÃ©Ã©n',\n",
       " 'ĠdÃ©',\n",
       " 'ze',\n",
       " 'Ġzin',\n",
       " 'Ġzijn',\n",
       " 'Ġ-',\n",
       " 'Ġdaarvoor',\n",
       " 'Ġis',\n",
       " 'Ġle',\n",
       " 'ctuur',\n",
       " 'Ġvan',\n",
       " 'Ġmeer',\n",
       " 'Ġdan',\n",
       " 'Ġ600',\n",
       " 'Ġbladzijden',\n",
       " 'Ġgeen',\n",
       " 'Ġte',\n",
       " 'Ġhoge',\n",
       " 'Ġprijs',\n",
       " '!',\n",
       " 'ĠDit',\n",
       " 'ĠNederland',\n",
       " 'Ġwerd',\n",
       " 'Ġplat',\n",
       " 'ged',\n",
       " 'rukt',\n",
       " 'Ġdoor',\n",
       " 'Ġtraditionele',\n",
       " 'Ġkerk',\n",
       " 'elijkheid',\n",
       " 'Ġen',\n",
       " 'Ġbloed',\n",
       " 'de',\n",
       " 'Ġweg',\n",
       " 'Ġin',\n",
       " 'Ġdood',\n",
       " 'Ġgeloof',\n",
       " '.',\n",
       " 'ĠDit',\n",
       " 'ĠNederland',\n",
       " 'Ġwerd',\n",
       " 'Ġbesp',\n",
       " 'rongen',\n",
       " 'Ġdoor',\n",
       " 'Ġdu',\n",
       " 'istere',\n",
       " 'Ġma',\n",
       " 'chten',\n",
       " '.',\n",
       " 'ĠZou',\n",
       " 'Ġhet',\n",
       " 'ĠWoord',\n",
       " 'Ġ(',\n",
       " 'zoals',\n",
       " 'ĠBart',\n",
       " 'h',\n",
       " 'Ġhet',\n",
       " 'Ġverst',\n",
       " 'ond',\n",
       " ')',\n",
       " 'Ġgeen',\n",
       " 'Ġnieuwe',\n",
       " 'Ġglans',\n",
       " 'Ġkunnen',\n",
       " 'Ġleggen',\n",
       " 'Ġop',\n",
       " 'Ġhet',\n",
       " 'Ġeigen',\n",
       " 'Ġleven',\n",
       " ',',\n",
       " 'Ġop',\n",
       " 'Ġhet',\n",
       " 'Ġvolk',\n",
       " ',',\n",
       " 'Ġwaaronder',\n",
       " 'Ġhij',\n",
       " 'Ġwerkte',\n",
       " '?',\n",
       " '</s>']"
      ]
     },
     "execution_count": 48,
     "metadata": {},
     "output_type": "execute_result"
    }
   ],
   "source": [
    "tokenizer.encode('Waarom niet met dédain over Schilder, zoals over zoveel anderen? Hij wist zich tegenstander: Barth stond tussen beiden. Maar Miskotte wist zich in dezelfde tijd te staan, in dezelfde storm, die ook Schilder onderging. Soms is er opvallende affiniteit. Hij kende de dichters van Nederland, zoals ook Schilder: Dèr Mouw (Adwaita), Nijhof f en Marsman. Hij stond, denk ik, geestelijk ook aanzienlijk dichter bij hen. Hij had de Nederlandse taal en het Nederlands land lief: „De nederlandse taal en het geboomte van dit land, deze twee gewassen zijn mijn aardse heerlijkheid\" (329). Al zou het alléén déze zin zijn - daarvoor is lectuur van meer dan 600 bladzijden geen te hoge prijs! Dit Nederland werd platgedrukt door traditionele kerkelijkheid en bloedde weg in dood geloof. Dit Nederland werd besprongen door duistere machten. Zou het Woord (zoals Barth het verstond) geen nieuwe glans kunnen leggen op het eigen leven, op het volk, waaronder hij werkte?').tokens"
   ]
  },
  {
   "cell_type": "markdown",
   "id": "portuguese-renewal",
   "metadata": {},
   "source": [
    "### Train model"
   ]
  },
  {
   "cell_type": "code",
   "execution_count": 49,
   "id": "incorporated-development",
   "metadata": {},
   "outputs": [
    {
     "name": "stdout",
     "output_type": "stream",
     "text": [
      "Wed Mar 17 17:07:39 2021       \n",
      "+-----------------------------------------------------------------------------+\n",
      "| NVIDIA-SMI 455.32.00    Driver Version: 455.32.00    CUDA Version: 11.1     |\n",
      "|-------------------------------+----------------------+----------------------+\n",
      "| GPU  Name        Persistence-M| Bus-Id        Disp.A | Volatile Uncorr. ECC |\n",
      "| Fan  Temp  Perf  Pwr:Usage/Cap|         Memory-Usage | GPU-Util  Compute M. |\n",
      "|                               |                      |               MIG M. |\n",
      "|===============================+======================+======================|\n",
      "|   0  GeForce RTX 208...  On   | 00000000:00:05.0 Off |                  N/A |\n",
      "| 30%   29C    P8     9W / 250W |      1MiB / 11019MiB |      0%      Default |\n",
      "|                               |                      |                  N/A |\n",
      "+-------------------------------+----------------------+----------------------+\n",
      "|   1  GeForce RTX 208...  On   | 00000000:00:06.0 Off |                  N/A |\n",
      "| 30%   28C    P8    10W / 250W |      1MiB / 11019MiB |      0%      Default |\n",
      "|                               |                      |                  N/A |\n",
      "+-------------------------------+----------------------+----------------------+\n",
      "                                                                               \n",
      "+-----------------------------------------------------------------------------+\n",
      "| Processes:                                                                  |\n",
      "|  GPU   GI   CI        PID   Type   Process name                  GPU Memory |\n",
      "|        ID   ID                                                   Usage      |\n",
      "|=============================================================================|\n",
      "|  No running processes found                                                 |\n",
      "+-----------------------------------------------------------------------------+\n"
     ]
    }
   ],
   "source": [
    "!nvidia-smi"
   ]
  },
  {
   "cell_type": "code",
   "execution_count": 50,
   "id": "tested-vacation",
   "metadata": {},
   "outputs": [
    {
     "data": {
      "text/plain": [
       "True"
      ]
     },
     "execution_count": 50,
     "metadata": {},
     "output_type": "execute_result"
    }
   ],
   "source": [
    "import torch\n",
    "torch.cuda.is_available()"
   ]
  },
  {
   "cell_type": "code",
   "execution_count": 52,
   "id": "treated-finnish",
   "metadata": {},
   "outputs": [],
   "source": [
    "config = RobertaConfig(\n",
    "    vocab_size=52_000,\n",
    "    max_position_embeddings=514,\n",
    "    num_attention_heads=12,\n",
    "    num_hidden_layers=6, \n",
    "    type_vocab_size=1, # The vocabulary size of the token_type_ids passed\n",
    ")"
   ]
  },
  {
   "cell_type": "markdown",
   "id": "fitting-africa",
   "metadata": {},
   "source": [
    "Paper BERTje\n",
    "--max_predictions_per_seq=20 \\\n",
    "  --train_batch_size=256 \\\n",
    "  --eval_batch_size=32 \\\n",
    "  --learning_rate=1e-4 \\\n",
    "  --num_train_steps=1000000 \\\n",
    "  --num_warmup_steps=10000 \\\n",
    "  --save_checkpoints_steps=10000 \\\n",
    "  --iterations_per_loop=10000 \\\n",
    "  --max_eval_steps=10000 \\"
   ]
  },
  {
   "cell_type": "code",
   "execution_count": 54,
   "id": "present-procedure",
   "metadata": {},
   "outputs": [],
   "source": [
    "tokenizer = RobertaTokenizerFast.from_pretrained(\"/home/leonardovida/dev/hist-aware/notebooks/models/bert-training\", max_len=512)"
   ]
  },
  {
   "cell_type": "code",
   "execution_count": 55,
   "id": "adverse-hospital",
   "metadata": {},
   "outputs": [],
   "source": [
    "from transformers import RobertaForMaskedLM\n",
    "\n",
    "model = RobertaForMaskedLM(config=config)"
   ]
  },
  {
   "cell_type": "code",
   "execution_count": 56,
   "id": "therapeutic-leisure",
   "metadata": {},
   "outputs": [
    {
     "data": {
      "text/plain": [
       "83504416"
      ]
     },
     "execution_count": 56,
     "metadata": {},
     "output_type": "execute_result"
    }
   ],
   "source": [
    "model.num_parameters()"
   ]
  },
  {
   "cell_type": "code",
   "execution_count": null,
   "id": "persistent-metropolitan",
   "metadata": {},
   "outputs": [],
   "source": []
  }
 ],
 "metadata": {
  "kernelspec": {
   "display_name": "Python 3",
   "language": "python",
   "name": "python3"
  },
  "language_info": {
   "codemirror_mode": {
    "name": "ipython",
    "version": 3
   },
   "file_extension": ".py",
   "mimetype": "text/x-python",
   "name": "python",
   "nbconvert_exporter": "python",
   "pygments_lexer": "ipython3",
   "version": "3.8.5"
  }
 },
 "nbformat": 4,
 "nbformat_minor": 5
}
