{
 "cells": [
  {
   "cell_type": "markdown",
   "id": "27489dfe",
   "metadata": {},
   "source": [
    "# Facebook FASTTEXT"
   ]
  },
  {
   "cell_type": "code",
   "execution_count": 63,
   "id": "1bbf828d",
   "metadata": {},
   "outputs": [],
   "source": [
    "import os\n",
    "\n",
    "import fasttext\n",
    "import pandas as pd\n",
    "from sklearn.model_selection import train_test_split"
   ]
  },
  {
   "cell_type": "markdown",
   "id": "930ff001",
   "metadata": {},
   "source": [
    "Set PATH"
   ]
  },
  {
   "cell_type": "code",
   "execution_count": 64,
   "id": "f1a8af1b",
   "metadata": {},
   "outputs": [],
   "source": [
    "PATH_DATA = \"/home/leonardovida/dev/hist-aware/notebooks/data/labeled-full/split_labeled/merged\""
   ]
  },
  {
   "cell_type": "markdown",
   "id": "3b758b55",
   "metadata": {},
   "source": [
    "## Load data and create fasttext data"
   ]
  },
  {
   "cell_type": "code",
   "execution_count": 26,
   "id": "5398e81b",
   "metadata": {},
   "outputs": [],
   "source": [
    "# Full data\n",
    "coal = pd.read_csv(os.path.join(PATH_DATA, \"labeled_coal_1970_1990.csv\"))\n",
    "oil = pd.read_csv(os.path.join(PATH_DATA, \"labeled_oil_1970_1990.csv\"))\n",
    "gas = pd.read_csv(os.path.join(PATH_DATA, \"labeled_gas_1970_1990.csv\"))\n",
    "df = pd.read_csv(os.path.join(PATH_DATA, \"labeled_energy_1970_1990.csv\"))"
   ]
  },
  {
   "cell_type": "markdown",
   "id": "07bb9094",
   "metadata": {},
   "source": [
    "---"
   ]
  },
  {
   "cell_type": "code",
   "execution_count": 66,
   "id": "c0086244",
   "metadata": {},
   "outputs": [
    {
     "name": "stdout",
     "output_type": "stream",
     "text": [
      "['Unnamed: 0' 'labels' 'text' 'energy' 'article_filepath' 'article_name'\n",
      " 'count' 'date' 'dir' 'index_article' 'index_metadata' 'metadata_filepath'\n",
      " 'newspaper_language' 'newspaper_publisher' 'newspaper_source'\n",
      " 'newspaper_title' 'newspaper_volume' 'newspaper_issuenumber'\n",
      " 'newspaper_city' 'text_clean' 'type']\n"
     ]
    },
    {
     "ename": "KeyError",
     "evalue": "1860",
     "output_type": "error",
     "traceback": [
      "\u001b[0;31m---------------------------------------------------------------------------\u001b[0m",
      "\u001b[0;31mKeyError\u001b[0m                                  Traceback (most recent call last)",
      "\u001b[0;32m~/.cache/pypoetry/virtualenvs/histaware-NidRwJ64-py3.8/lib/python3.8/site-packages/pandas/core/indexes/base.py\u001b[0m in \u001b[0;36mget_loc\u001b[0;34m(self, key, method, tolerance)\u001b[0m\n\u001b[1;32m   3079\u001b[0m             \u001b[0;32mtry\u001b[0m\u001b[0;34m:\u001b[0m\u001b[0;34m\u001b[0m\u001b[0;34m\u001b[0m\u001b[0m\n\u001b[0;32m-> 3080\u001b[0;31m                 \u001b[0;32mreturn\u001b[0m \u001b[0mself\u001b[0m\u001b[0;34m.\u001b[0m\u001b[0m_engine\u001b[0m\u001b[0;34m.\u001b[0m\u001b[0mget_loc\u001b[0m\u001b[0;34m(\u001b[0m\u001b[0mcasted_key\u001b[0m\u001b[0;34m)\u001b[0m\u001b[0;34m\u001b[0m\u001b[0;34m\u001b[0m\u001b[0m\n\u001b[0m\u001b[1;32m   3081\u001b[0m             \u001b[0;32mexcept\u001b[0m \u001b[0mKeyError\u001b[0m \u001b[0;32mas\u001b[0m \u001b[0merr\u001b[0m\u001b[0;34m:\u001b[0m\u001b[0;34m\u001b[0m\u001b[0;34m\u001b[0m\u001b[0m\n",
      "\u001b[0;32mpandas/_libs/index.pyx\u001b[0m in \u001b[0;36mpandas._libs.index.IndexEngine.get_loc\u001b[0;34m()\u001b[0m\n",
      "\u001b[0;32mpandas/_libs/index.pyx\u001b[0m in \u001b[0;36mpandas._libs.index.IndexEngine.get_loc\u001b[0;34m()\u001b[0m\n",
      "\u001b[0;32mpandas/_libs/hashtable_class_helper.pxi\u001b[0m in \u001b[0;36mpandas._libs.hashtable.Int64HashTable.get_item\u001b[0;34m()\u001b[0m\n",
      "\u001b[0;32mpandas/_libs/hashtable_class_helper.pxi\u001b[0m in \u001b[0;36mpandas._libs.hashtable.Int64HashTable.get_item\u001b[0;34m()\u001b[0m\n",
      "\u001b[0;31mKeyError\u001b[0m: 1860",
      "\nThe above exception was the direct cause of the following exception:\n",
      "\u001b[0;31mKeyError\u001b[0m                                  Traceback (most recent call last)",
      "\u001b[0;32m<ipython-input-66-3017cedf2886>\u001b[0m in \u001b[0;36m<module>\u001b[0;34m\u001b[0m\n\u001b[1;32m     16\u001b[0m         \u001b[0mfile\u001b[0m \u001b[0;34m=\u001b[0m \u001b[0mopen\u001b[0m\u001b[0;34m(\u001b[0m\u001b[0mos\u001b[0m\u001b[0;34m.\u001b[0m\u001b[0mpath\u001b[0m\u001b[0;34m.\u001b[0m\u001b[0mjoin\u001b[0m\u001b[0;34m(\u001b[0m\u001b[0mPATH_DATA\u001b[0m\u001b[0;34m,\u001b[0m \u001b[0;34mf\"{DECADE}\"\u001b[0m\u001b[0;34m,\u001b[0m \u001b[0;34mf'fasttext.train.{TOPIC}'\u001b[0m\u001b[0;34m)\u001b[0m\u001b[0;34m,\u001b[0m \u001b[0;34m'w+'\u001b[0m\u001b[0;34m)\u001b[0m\u001b[0;34m\u001b[0m\u001b[0;34m\u001b[0m\u001b[0m\n\u001b[1;32m     17\u001b[0m         \u001b[0;32mfor\u001b[0m \u001b[0midx\u001b[0m\u001b[0;34m,\u001b[0m \u001b[0mrow\u001b[0m \u001b[0;32min\u001b[0m \u001b[0mtrain_x\u001b[0m\u001b[0;34m.\u001b[0m\u001b[0mitems\u001b[0m\u001b[0;34m(\u001b[0m\u001b[0;34m)\u001b[0m\u001b[0;34m:\u001b[0m\u001b[0;34m\u001b[0m\u001b[0;34m\u001b[0m\u001b[0m\n\u001b[0;32m---> 18\u001b[0;31m             \u001b[0mline\u001b[0m \u001b[0;34m=\u001b[0m \u001b[0;34m'__label__'\u001b[0m \u001b[0;34m+\u001b[0m \u001b[0mstr\u001b[0m\u001b[0;34m(\u001b[0m\u001b[0mtrain_y\u001b[0m\u001b[0;34m[\u001b[0m\u001b[0midx\u001b[0m\u001b[0;34m]\u001b[0m\u001b[0;34m)\u001b[0m \u001b[0;34m+\u001b[0m \u001b[0;34m' '\u001b[0m \u001b[0;34m+\u001b[0m \u001b[0mtrain_x\u001b[0m\u001b[0;34m[\u001b[0m\u001b[0midx\u001b[0m\u001b[0;34m]\u001b[0m\u001b[0;34m\u001b[0m\u001b[0;34m\u001b[0m\u001b[0m\n\u001b[0m\u001b[1;32m     19\u001b[0m             \u001b[0mfile\u001b[0m\u001b[0;34m.\u001b[0m\u001b[0mwrite\u001b[0m\u001b[0;34m(\u001b[0m\u001b[0mline\u001b[0m \u001b[0;34m+\u001b[0m \u001b[0;34m'\\n'\u001b[0m\u001b[0;34m)\u001b[0m\u001b[0;34m\u001b[0m\u001b[0;34m\u001b[0m\u001b[0m\n\u001b[1;32m     20\u001b[0m \u001b[0;34m\u001b[0m\u001b[0m\n",
      "\u001b[0;32m~/.cache/pypoetry/virtualenvs/histaware-NidRwJ64-py3.8/lib/python3.8/site-packages/pandas/core/series.py\u001b[0m in \u001b[0;36m__getitem__\u001b[0;34m(self, key)\u001b[0m\n\u001b[1;32m    851\u001b[0m \u001b[0;34m\u001b[0m\u001b[0m\n\u001b[1;32m    852\u001b[0m         \u001b[0;32melif\u001b[0m \u001b[0mkey_is_scalar\u001b[0m\u001b[0;34m:\u001b[0m\u001b[0;34m\u001b[0m\u001b[0;34m\u001b[0m\u001b[0m\n\u001b[0;32m--> 853\u001b[0;31m             \u001b[0;32mreturn\u001b[0m \u001b[0mself\u001b[0m\u001b[0;34m.\u001b[0m\u001b[0m_get_value\u001b[0m\u001b[0;34m(\u001b[0m\u001b[0mkey\u001b[0m\u001b[0;34m)\u001b[0m\u001b[0;34m\u001b[0m\u001b[0;34m\u001b[0m\u001b[0m\n\u001b[0m\u001b[1;32m    854\u001b[0m \u001b[0;34m\u001b[0m\u001b[0m\n\u001b[1;32m    855\u001b[0m         \u001b[0;32mif\u001b[0m \u001b[0mis_hashable\u001b[0m\u001b[0;34m(\u001b[0m\u001b[0mkey\u001b[0m\u001b[0;34m)\u001b[0m\u001b[0;34m:\u001b[0m\u001b[0;34m\u001b[0m\u001b[0;34m\u001b[0m\u001b[0m\n",
      "\u001b[0;32m~/.cache/pypoetry/virtualenvs/histaware-NidRwJ64-py3.8/lib/python3.8/site-packages/pandas/core/series.py\u001b[0m in \u001b[0;36m_get_value\u001b[0;34m(self, label, takeable)\u001b[0m\n\u001b[1;32m    959\u001b[0m \u001b[0;34m\u001b[0m\u001b[0m\n\u001b[1;32m    960\u001b[0m         \u001b[0;31m# Similar to Index.get_value, but we do not fall back to positional\u001b[0m\u001b[0;34m\u001b[0m\u001b[0;34m\u001b[0m\u001b[0;34m\u001b[0m\u001b[0m\n\u001b[0;32m--> 961\u001b[0;31m         \u001b[0mloc\u001b[0m \u001b[0;34m=\u001b[0m \u001b[0mself\u001b[0m\u001b[0;34m.\u001b[0m\u001b[0mindex\u001b[0m\u001b[0;34m.\u001b[0m\u001b[0mget_loc\u001b[0m\u001b[0;34m(\u001b[0m\u001b[0mlabel\u001b[0m\u001b[0;34m)\u001b[0m\u001b[0;34m\u001b[0m\u001b[0;34m\u001b[0m\u001b[0m\n\u001b[0m\u001b[1;32m    962\u001b[0m         \u001b[0;32mreturn\u001b[0m \u001b[0mself\u001b[0m\u001b[0;34m.\u001b[0m\u001b[0mindex\u001b[0m\u001b[0;34m.\u001b[0m\u001b[0m_get_values_for_loc\u001b[0m\u001b[0;34m(\u001b[0m\u001b[0mself\u001b[0m\u001b[0;34m,\u001b[0m \u001b[0mloc\u001b[0m\u001b[0;34m,\u001b[0m \u001b[0mlabel\u001b[0m\u001b[0;34m)\u001b[0m\u001b[0;34m\u001b[0m\u001b[0;34m\u001b[0m\u001b[0m\n\u001b[1;32m    963\u001b[0m \u001b[0;34m\u001b[0m\u001b[0m\n",
      "\u001b[0;32m~/.cache/pypoetry/virtualenvs/histaware-NidRwJ64-py3.8/lib/python3.8/site-packages/pandas/core/indexes/base.py\u001b[0m in \u001b[0;36mget_loc\u001b[0;34m(self, key, method, tolerance)\u001b[0m\n\u001b[1;32m   3080\u001b[0m                 \u001b[0;32mreturn\u001b[0m \u001b[0mself\u001b[0m\u001b[0;34m.\u001b[0m\u001b[0m_engine\u001b[0m\u001b[0;34m.\u001b[0m\u001b[0mget_loc\u001b[0m\u001b[0;34m(\u001b[0m\u001b[0mcasted_key\u001b[0m\u001b[0;34m)\u001b[0m\u001b[0;34m\u001b[0m\u001b[0;34m\u001b[0m\u001b[0m\n\u001b[1;32m   3081\u001b[0m             \u001b[0;32mexcept\u001b[0m \u001b[0mKeyError\u001b[0m \u001b[0;32mas\u001b[0m \u001b[0merr\u001b[0m\u001b[0;34m:\u001b[0m\u001b[0;34m\u001b[0m\u001b[0;34m\u001b[0m\u001b[0m\n\u001b[0;32m-> 3082\u001b[0;31m                 \u001b[0;32mraise\u001b[0m \u001b[0mKeyError\u001b[0m\u001b[0;34m(\u001b[0m\u001b[0mkey\u001b[0m\u001b[0;34m)\u001b[0m \u001b[0;32mfrom\u001b[0m \u001b[0merr\u001b[0m\u001b[0;34m\u001b[0m\u001b[0;34m\u001b[0m\u001b[0m\n\u001b[0m\u001b[1;32m   3083\u001b[0m \u001b[0;34m\u001b[0m\u001b[0m\n\u001b[1;32m   3084\u001b[0m         \u001b[0;32mif\u001b[0m \u001b[0mtolerance\u001b[0m \u001b[0;32mis\u001b[0m \u001b[0;32mnot\u001b[0m \u001b[0;32mNone\u001b[0m\u001b[0;34m:\u001b[0m\u001b[0;34m\u001b[0m\u001b[0;34m\u001b[0m\u001b[0m\n",
      "\u001b[0;31mKeyError\u001b[0m: 1860"
     ]
    }
   ],
   "source": [
    "for DECADE in [\"1970\", \"1980\", \"1990\"]:    \n",
    "    # create train and valid\n",
    "    for TOPIC in [\"coal\", \"oil\", \"gas\", \"df\"]:\n",
    "        df = pd.read_csv(os.path.join(PATH_DATA, f\"edo_{DECADE}s_{TOPIC}_cleaned.csv\"))\n",
    "        \n",
    "        train_x_, valid_x, train_y, valid_y = train_test_split(\n",
    "            df.text_clean,\n",
    "            df.labels,\n",
    "            stratify=df.labels,\n",
    "            random_state=42, \n",
    "            test_size=0.2,\n",
    "            shuffle=True\n",
    "        )\n",
    "        \n",
    "        print(train_x_)\n",
    "    \n",
    "        file = open(os.path.join(PATH_DATA, f\"{DECADE}\", f'fasttext.train.{TOPIC}'), 'w+')\n",
    "        for idx, row in train_x.items():\n",
    "            line = '__label__' + str(train_y[idx]) + ' ' + train_x[idx]\n",
    "            file.write(line + '\\n')\n",
    "\n",
    "        file = open(os.path.join(PATH_DATA, f\"{DECADE}\", f'fasttext.valid.{TOPIC}'), 'w+')\n",
    "        for idx, row in valid_x.items():\n",
    "            line = '__label__' + str(valid_y[idx]) + ' ' + valid_x[idx]\n",
    "            file.write(line + '\\n')"
   ]
  },
  {
   "cell_type": "markdown",
   "id": "ad39645f",
   "metadata": {},
   "source": [
    "## Create Fasttext model"
   ]
  },
  {
   "cell_type": "code",
   "execution_count": 37,
   "id": "fa016b59",
   "metadata": {},
   "outputs": [],
   "source": [
    "model = fasttext.train_supervised(\n",
    "    input=os.path.join(PATH_DATA, 'fasttext.df.train'),\n",
    "    lr=0.2,               # learning rate [0.1]\n",
    "    dim=100,               # size of word vectors [100]\n",
    "    ws=10,                # size of the context window [5]\n",
    "    epoch=50,            # number of epochs [5]\n",
    "    minCount=20,          # minimal number of word occurences [1]\n",
    "    wordNgrams=3,        # max length of word ngram [1]\n",
    "    loss=\"ova\",              # loss function {ns, hs, softmax, ova} [softmax]\n",
    "    bucket=5000000,           # number of buckets [2000000]\n",
    "    thread=6,          # number of threads [number of cpus]\n",
    "    lrUpdateRate=100,     # change the rate of updates for the learning rate [100]\n",
    "    t=0.0001,                 # sampling threshold [0.0001]\n",
    "    autotuneValidationFile=os.path.join(PATH_DATA, 'fasttext.df.valid'),\n",
    "    #verbose           # verbose [2]\n",
    ")\n",
    "model.save_model(\"FASTTEXT_model_manual.bin\")"
   ]
  },
  {
   "cell_type": "code",
   "execution_count": 38,
   "id": "7f26fc7c",
   "metadata": {},
   "outputs": [],
   "source": [
    "model_2 = fasttext.train_supervised(\n",
    "    input=os.path.join(PATH_DATA, 'fasttext.df.train'),\n",
    "    autotuneValidationFile=os.path.join(PATH_DATA, 'fasttext.df.valid'),\n",
    "    autotuneDuration=1000)\n",
    "model_2.save_model(\"FASTTEXT_model_auto.bin\")"
   ]
  },
  {
   "cell_type": "markdown",
   "id": "bd3b6a51",
   "metadata": {},
   "source": [
    "## Predict model"
   ]
  },
  {
   "cell_type": "code",
   "execution_count": 42,
   "id": "47b64e32",
   "metadata": {},
   "outputs": [
    {
     "name": "stdout",
     "output_type": "stream",
     "text": [
      "Manually trained model, results on validation:\n",
      "- Sample 1239 \n",
      "- Accuracy: 0.6795803066989508\n",
      "\n",
      "---\n",
      "\n",
      "Automatically trained model, results on validation:\n",
      "- Sample 1239 \n",
      "- Accuracy: 0.6852300242130751\n"
     ]
    }
   ],
   "source": [
    "res = model.test(os.path.join(PATH_DATA, 'fasttext.df.valid'))\n",
    "print(f\"Manually trained model, results on validation:\\n- Sample {res[0]} \\n- Accuracy: {res[1]}\")\n",
    "\n",
    "print(\"\\n---\\n\")\n",
    "\n",
    "res = model_2.test(os.path.join(PATH_DATA, 'fasttext.df.valid'),)\n",
    "print(f\"Automatically trained model, results on validation:\\n- Sample {res[0]} \\n- Accuracy: {res[1]}\")"
   ]
  },
  {
   "cell_type": "code",
   "execution_count": 49,
   "id": "b8795f6f",
   "metadata": {},
   "outputs": [
    {
     "name": "stdout",
     "output_type": "stream",
     "text": [
      "We want as many predictions as possible (k-1) for the prediction of:\n",
      " - oil\n",
      "(('__label__1', '__label__2', '__label__0'), array([1.00001001e+00, 1.00000034e-05, 1.00000034e-05]))\n"
     ]
    }
   ],
   "source": [
    "predict_phrase = \"oil\"\n",
    "print(f\"We want as many predictions as possible (k-1) for the prediction of:\\n - {predict_phrase}\")\n",
    "pred = model.predict(predict_phrase, k=-1)\n",
    "print(pred)"
   ]
  },
  {
   "cell_type": "code",
   "execution_count": null,
   "id": "6a2fc719",
   "metadata": {},
   "outputs": [],
   "source": []
  }
 ],
 "metadata": {
  "kernelspec": {
   "display_name": "Python 3",
   "language": "python",
   "name": "python3"
  },
  "language_info": {
   "codemirror_mode": {
    "name": "ipython",
    "version": 3
   },
   "file_extension": ".py",
   "mimetype": "text/x-python",
   "name": "python",
   "nbconvert_exporter": "python",
   "pygments_lexer": "ipython3",
   "version": "3.8.5"
  }
 },
 "nbformat": 4,
 "nbformat_minor": 5
}
