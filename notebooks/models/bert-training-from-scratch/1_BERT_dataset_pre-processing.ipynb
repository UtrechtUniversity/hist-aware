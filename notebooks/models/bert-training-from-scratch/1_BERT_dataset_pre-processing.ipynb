{
 "cells": [
  {
   "cell_type": "markdown",
   "id": "f56a8f58",
   "metadata": {},
   "source": [
    "# Pre-training DelphBERT - A tiny Transformer model based on a large newspaper dataset"
   ]
  },
  {
   "cell_type": "code",
   "execution_count": 2,
   "id": "bf53f6d2",
   "metadata": {},
   "outputs": [],
   "source": [
    "import glob\n",
    "import os\n",
    "import re\n",
    "# Set cache to external hd\n",
    "os.environ['TRANSFORMERS_CACHE'] = '/home/leonardovida/data/volume_1/huggingface_cache/'\n",
    "os.environ['HF_DATASETS_CACHE'] = '/home/leonardovida/data/volume_1/huggingface_cache/'\n",
    "from pathlib import Path\n",
    "\n",
    "from typing import Any, Dict, List, NamedTuple, Optional, Sequence, Tuple, Union\n",
    "\n",
    "from tokenizers import Tokenizer\n",
    "from tokenizers import ByteLevelBPETokenizer\n",
    "from tokenizers.models import BPE\n",
    "from tokenizers.trainers import BpeTrainer\n",
    "from tokenizers.pre_tokenizers import Whitespace\n",
    "from tokenizers.implementations import ByteLevelBPETokenizer\n",
    "from tokenizers.processors import BertProcessing\n",
    "from transformers import RobertaConfig\n",
    "from transformers import RobertaTokenizerFast\n",
    "from transformers import BertTokenizer\n",
    "from transformers import PreTrainedTokenizer\n",
    "from transformers import TrainingArguments\n",
    "from transformers import RobertaForMaskedLM\n",
    "from datasets import Dataset, DatasetDict\n",
    "from datasets import load_from_disk\n",
    "\n",
    "from tqdm.notebook import tqdm\n",
    "from nltk.tokenize import sent_tokenize\n",
    "tqdm.pandas()\n",
    "\n",
    "import torch\n",
    "from torch import Tensor\n",
    "from torch.utils.data import DataLoader\n",
    "\n",
    "import numpy as np\n",
    "import pandas as pd\n",
    "from tqdm.notebook import trange, tqdm"
   ]
  },
  {
   "cell_type": "markdown",
   "id": "49449126",
   "metadata": {},
   "source": [
    "First, we need to load the entire \"processed\" library of Delpher newspaper on the transformer.\n",
    "\n",
    "* Even though we are loading clean and unclean text, we are training using the **unclean** text.\n",
    "* Transformers \"want\" complete sentences and the clean text does not have stopwords nor lower-upper cases. Thus, we will first take the \"merged\" dataset and use it in two different approaches.\n",
    "\n",
    "1. We will clean the merged dataset, dividing each paragraph in its own row, and save it as TXT file. \n",
    "    * This text file will be used to train a tokenizer on it\n",
    "    * This text file will also be used to train a transfromer on it using the NVIDIA approach\n",
    "2. We will transform the merged dataset into a HuggingFace dataset, this dataset will be used to share the data with other people and\n",
    "to train transformers with the HuggingFace script"
   ]
  },
  {
   "cell_type": "markdown",
   "id": "1b2497d3-d89c-48fc-9fae-62c68f0559b9",
   "metadata": {},
   "source": [
    "## Load Data"
   ]
  },
  {
   "cell_type": "code",
   "execution_count": 4,
   "id": "36f42000",
   "metadata": {},
   "outputs": [],
   "source": [
    "PATH_RAW_FILES = \"/home/leonardovida/data/volume_1/data-histaware/merged_articles/1970s\"\n",
    "PATH_TOKENIZER_DIR = \"/home/leonardovida/data/volume_1/data-histaware/tokenizer\"\n",
    "PATH_DATASET_DIR = \"/home/leonardovida/data/volume_1/data-histaware/dataset\"\n",
    "\n",
    "# For tokenizer\n",
    "PRE_TRAINED_MODEL_NAME = 'wietsedv/bert-base-dutch-cased'\n",
    "tokenizer = BertTokenizer.from_pretrained(PRE_TRAINED_MODEL_NAME)\n",
    "#!mkdir PATH_MODEL_DIR"
   ]
  },
  {
   "cell_type": "markdown",
   "id": "cefbffd9-e2e1-49c7-8b9d-e3c991cf0d25",
   "metadata": {},
   "source": [
    "## From CSV to Text"
   ]
  },
  {
   "cell_type": "code",
   "execution_count": 84,
   "id": "d4fde37a-1d7c-46e7-9abe-43267eb9b24c",
   "metadata": {},
   "outputs": [
    {
     "name": "stdout",
     "output_type": "stream",
     "text": [
      "CSV: /home/leonardovida/data/volume_1/data-histaware/merged_articles/1970s/merged_1970s_100.csv\n",
      "596439\n",
      "1472965\n"
     ]
    },
    {
     "data": {
      "application/vnd.jupyter.widget-view+json": {
       "model_id": "47ee9233dad54c58bdfbc0720c7efe72",
       "version_major": 2,
       "version_minor": 0
      },
      "text/plain": [
       "HBox(children=(FloatProgress(value=0.0, max=1472965.0), HTML(value='')))"
      ]
     },
     "metadata": {},
     "output_type": "display_data"
    },
    {
     "name": "stdout",
     "output_type": "stream",
     "text": [
      "\n",
      "CSV: /home/leonardovida/data/volume_1/data-histaware/merged_articles/1970s/merged_1970s_60.csv\n",
      "598306\n",
      "1455737\n"
     ]
    },
    {
     "data": {
      "application/vnd.jupyter.widget-view+json": {
       "model_id": "01cf960d11f640e190c6d15c7a346eae",
       "version_major": 2,
       "version_minor": 0
      },
      "text/plain": [
       "HBox(children=(FloatProgress(value=0.0, max=1455737.0), HTML(value='')))"
      ]
     },
     "metadata": {},
     "output_type": "display_data"
    },
    {
     "name": "stdout",
     "output_type": "stream",
     "text": [
      "\n",
      "CSV: /home/leonardovida/data/volume_1/data-histaware/merged_articles/1970s/merged_1970s_20.csv\n",
      "633428\n",
      "1538910\n"
     ]
    },
    {
     "data": {
      "application/vnd.jupyter.widget-view+json": {
       "model_id": "68736acb25414e4799339ba409563a18",
       "version_major": 2,
       "version_minor": 0
      },
      "text/plain": [
       "HBox(children=(FloatProgress(value=0.0, max=1538910.0), HTML(value='')))"
      ]
     },
     "metadata": {},
     "output_type": "display_data"
    },
    {
     "name": "stdout",
     "output_type": "stream",
     "text": [
      "\n",
      "CSV: /home/leonardovida/data/volume_1/data-histaware/merged_articles/1970s/merged_1970s_140.csv\n",
      "598242\n",
      "1466379\n"
     ]
    },
    {
     "data": {
      "application/vnd.jupyter.widget-view+json": {
       "model_id": "edbda7cf2006415a8080cf99b98a95ae",
       "version_major": 2,
       "version_minor": 0
      },
      "text/plain": [
       "HBox(children=(FloatProgress(value=0.0, max=1466379.0), HTML(value='')))"
      ]
     },
     "metadata": {},
     "output_type": "display_data"
    },
    {
     "name": "stdout",
     "output_type": "stream",
     "text": [
      "\n",
      "CSV: /home/leonardovida/data/volume_1/data-histaware/merged_articles/1970s/merged_1970s_80.csv\n",
      "601051\n",
      "1459106\n"
     ]
    },
    {
     "data": {
      "application/vnd.jupyter.widget-view+json": {
       "model_id": "26ccb5a0fa8048d3a99b037e6a3bbb4b",
       "version_major": 2,
       "version_minor": 0
      },
      "text/plain": [
       "HBox(children=(FloatProgress(value=0.0, max=1459106.0), HTML(value='')))"
      ]
     },
     "metadata": {},
     "output_type": "display_data"
    },
    {
     "name": "stdout",
     "output_type": "stream",
     "text": [
      "\n",
      "CSV: /home/leonardovida/data/volume_1/data-histaware/merged_articles/1970s/merged_1970s_40.csv\n",
      "567544\n",
      "1396036\n"
     ]
    },
    {
     "data": {
      "application/vnd.jupyter.widget-view+json": {
       "model_id": "4ca8985d2118420b9c4b4b86307ca9c7",
       "version_major": 2,
       "version_minor": 0
      },
      "text/plain": [
       "HBox(children=(FloatProgress(value=0.0, max=1396036.0), HTML(value='')))"
      ]
     },
     "metadata": {},
     "output_type": "display_data"
    },
    {
     "name": "stdout",
     "output_type": "stream",
     "text": [
      "\n",
      "CSV: /home/leonardovida/data/volume_1/data-histaware/merged_articles/1970s/merged_1970s_120.csv\n",
      "591197\n",
      "1467397\n"
     ]
    },
    {
     "data": {
      "application/vnd.jupyter.widget-view+json": {
       "model_id": "e87cf73a343c4f89b4a15fe3a039cd17",
       "version_major": 2,
       "version_minor": 0
      },
      "text/plain": [
       "HBox(children=(FloatProgress(value=0.0, max=1467397.0), HTML(value='')))"
      ]
     },
     "metadata": {},
     "output_type": "display_data"
    },
    {
     "name": "stdout",
     "output_type": "stream",
     "text": [
      "\n"
     ]
    }
   ],
   "source": [
    "csv_paths = [str(x) for x in Path(PATH_RAW_FILES).glob(\"*.csv\")]\n",
    "\n",
    "def clean(article):\n",
    "    words = re.sub(r\"[-\\[\\]\\#/@;:<>{}=~|*»]\", \"\", str(article)) # cleaning useless parts of sentences\n",
    "    words = re.sub(r\"^\\s*|\\s\\s*\", \" \", words).strip() # reduce spaces\n",
    "    words = re.sub(r'[^\\x00-\\x7F]+', \"\", words) # eliminate non unicode chars\n",
    "    return words\n",
    "\n",
    "def tokenize_sent(article):\n",
    "    sents = sent_tokenize(article)\n",
    "    return sents\n",
    "\n",
    "for csv in csv_paths:\n",
    "    df = pd.read_csv(csv, converters={'p': eval})\n",
    "    df.drop(columns = ['Unnamed: 0', 'article_name', 'date', 'index_article',\n",
    "                                  'article_filepath', 'dir', 'title', 'access_rights',\n",
    "                                  'identifier', 'metadata_title', 'index_metadata', 'metadata_filepath',\n",
    "                                  'newspaper_title', 'newspaper_date', 'newspaper_publisher', 'newspaper_source',\n",
    "                                  'newspaper_volume', 'newspaper_issuenumber', 'newspaper_recordIdentifier',\n",
    "                                  'transformedRecordIdentifier', 'recordIdentifier'], inplace=True)\n",
    "    df = df[df[\"subject\"] == \"artikel\"]\n",
    "    print(f\"CSV: {csv}\")\n",
    "    print(df.shape[0])\n",
    "    df = df.explode('p', ignore_index = True)\n",
    "    print(df.shape[0])\n",
    "    df[\"p\"] = df.progress_apply(lambda x: clean(x[\"p\"]), axis=1)\n",
    "    # We are not tokenizing sentences, as the tokenized sentences are not clean enough\n",
    "    #df[\"p\"] = df.progress_apply(lambda x: tokenize_sent(x[\"p\"]), axis=1)\n",
    "    #df = df.explode('p', ignore_index = True)\n",
    "    df[\"p\"].to_csv(r'/home/leonardovida/data/volume_1/data-histaware/dataset/data.1970.txt', header=None, index=None, sep='\\n', mode='a')\n",
    "    print(\"Saved\")"
   ]
  },
  {
   "cell_type": "markdown",
   "id": "34908383-8b98-468e-aa64-1940a4b8ff86",
   "metadata": {},
   "source": [
    "Test loading the text file"
   ]
  },
  {
   "cell_type": "markdown",
   "id": "ba8d0587",
   "metadata": {},
   "source": [
    "# Load data into Dataset directly from .csv"
   ]
  },
  {
   "cell_type": "code",
   "execution_count": 5,
   "id": "813a8b42",
   "metadata": {},
   "outputs": [
    {
     "name": "stderr",
     "output_type": "stream",
     "text": [
      "Using custom data configuration default-6f257d010843fb18\n",
      "Reusing dataset csv (/home/leonardovida/data/volume_1/huggingface_cache/csv/default-6f257d010843fb18/0.0.0/2dc6629a9ff6b5697d82c25b73731dd440507a69cbce8b425db50b751e8fcfd0)\n"
     ]
    }
   ],
   "source": [
    "import datasets\n",
    "\n",
    "csv_paths = [str(x) for x in Path(PATH_RAW_FILES).glob(\"*.csv\")]\n",
    "dataset = datasets.load_dataset(\n",
    "    \"csv\",\n",
    "    data_files = csv_paths,\n",
    "    cache_dir = '/home/leonardovida/data/volume_1/huggingface_cache/'\n",
    ")"
   ]
  },
  {
   "cell_type": "markdown",
   "id": "a6524f50",
   "metadata": {},
   "source": [
    "Remove columns that are not necessary in the training"
   ]
  },
  {
   "cell_type": "code",
   "execution_count": null,
   "id": "b0550120",
   "metadata": {},
   "outputs": [],
   "source": [
    "dataset = dataset.remove_columns(['Unnamed: 0', 'article_name', 'date', 'index_article',\n",
    "                                  'article_filepath', 'dir', 'title', 'access_rights',\n",
    "                                  'identifier', 'metadata_title', 'index_metadata', 'metadata_filepath',\n",
    "                                  'newspaper_title', 'newspaper_date', 'newspaper_publisher', 'newspaper_source',\n",
    "                                  'newspaper_volume', 'newspaper_issuenumber', 'newspaper_recordIdentifier',\n",
    "                                  'transformedRecordIdentifier'])"
   ]
  },
  {
   "cell_type": "code",
   "execution_count": 6,
   "id": "26a45f77-bc35-4127-b1d3-82f78a788b89",
   "metadata": {},
   "outputs": [
    {
     "data": {
      "text/plain": [
       "DatasetDict({\n",
       "    train: Dataset({\n",
       "        features: ['Unnamed: 0', 'article_name', 'date', 'index_article', 'article_filepath', 'dir', 'title', 'p', 'subject', 'access_rights', 'recordIdentifier', 'identifier', 'metadata_title', 'index_metadata', 'metadata_filepath', 'newspaper_title', 'newspaper_date', 'newspaper_publisher', 'newspaper_source', 'newspaper_volume', 'newspaper_issuenumber', 'newspaper_recordIdentifier', 'transformedRecordIdentifier'],\n",
       "        num_rows: 7007009\n",
       "    })\n",
       "})"
      ]
     },
     "execution_count": 6,
     "metadata": {},
     "output_type": "execute_result"
    }
   ],
   "source": [
    "dataset"
   ]
  },
  {
   "cell_type": "code",
   "execution_count": 26,
   "id": "a4629394",
   "metadata": {},
   "outputs": [
    {
     "data": {
      "application/vnd.jupyter.widget-view+json": {
       "model_id": "bc57d65179df4475914de4c9a15f9100",
       "version_major": 2,
       "version_minor": 0
      },
      "text/plain": [
       "HBox(children=(FloatProgress(value=0.0, max=7008.0), HTML(value='')))"
      ]
     },
     "metadata": {},
     "output_type": "display_data"
    },
    {
     "name": "stdout",
     "output_type": "stream",
     "text": [
      "\n"
     ]
    }
   ],
   "source": [
    "dataset = dataset.filter(lambda article: article['subject'] == \"artikel\")"
   ]
  },
  {
   "cell_type": "markdown",
   "id": "a0c31f92",
   "metadata": {},
   "source": [
    "## High-level Data Cleaninig\n",
    "\n",
    "Always visually check to understand if dataset is actually what you expect"
   ]
  },
  {
   "cell_type": "code",
   "execution_count": 99,
   "id": "cf588e24",
   "metadata": {},
   "outputs": [],
   "source": [
    "import re\n",
    "\n",
    "def paragraph_clean(article):\n",
    "    \"\"\"Basic cleaning of paragraphs.\n",
    "    \n",
    "    More can and will be done in the tokenizing step.\n",
    "    \"\"\"\n",
    "    words = re.sub(r\"[-\\[\\]\\\"'#/@;,:<>{}=~|*»]\", \"\", article[\"p\"]) # cleaning useless parts of sentences\n",
    "    words = re.sub(r\"^\\s*|\\s\\s*\", \" \", words).strip() # reduce spaces\n",
    "    words = re.sub(r'[^\\x00-\\x7F]+', \"\", words) # eliminate non unicode chars\n",
    "    return {\"p_clean\": words}"
   ]
  },
  {
   "cell_type": "code",
   "execution_count": 100,
   "id": "a729b94f-fa18-4733-b6e4-0f75714dc87a",
   "metadata": {
    "tags": []
   },
   "outputs": [
    {
     "name": "stdout",
     "output_type": "stream",
     "text": [
      "         "
     ]
    },
    {
     "data": {
      "application/vnd.jupyter.widget-view+json": {
       "model_id": "5bf8ee8d7f4e468eac4b05cdc70f1f2e",
       "version_major": 2,
       "version_minor": 0
      },
      "text/plain": [
       "HBox(children=(FloatProgress(value=0.0, description='#6', max=465134.0, style=ProgressStyle(description_width=…"
      ]
     },
     "metadata": {},
     "output_type": "display_data"
    },
    {
     "data": {
      "application/vnd.jupyter.widget-view+json": {
       "model_id": "d29e6cfe12b7465da40b256da4d68428",
       "version_major": 2,
       "version_minor": 0
      },
      "text/plain": [
       "HBox(children=(FloatProgress(value=0.0, description='#3', max=465134.0, style=ProgressStyle(description_width=…"
      ]
     },
     "metadata": {},
     "output_type": "display_data"
    },
    {
     "data": {
      "application/vnd.jupyter.widget-view+json": {
       "model_id": "f9ae1e1a5881455c856348b52df5ebe6",
       "version_major": 2,
       "version_minor": 0
      },
      "text/plain": [
       "HBox(children=(FloatProgress(value=0.0, description='#4', max=465134.0, style=ProgressStyle(description_width=…"
      ]
     },
     "metadata": {},
     "output_type": "display_data"
    },
    {
     "data": {
      "application/vnd.jupyter.widget-view+json": {
       "model_id": "e78ae64fab164906885dc317d6c07c8c",
       "version_major": 2,
       "version_minor": 0
      },
      "text/plain": [
       "HBox(children=(FloatProgress(value=0.0, description='#5', max=465134.0, style=ProgressStyle(description_width=…"
      ]
     },
     "metadata": {},
     "output_type": "display_data"
    },
    {
     "data": {
      "application/vnd.jupyter.widget-view+json": {
       "model_id": "110c5b1409fc4cb88fef70e26624c309",
       "version_major": 2,
       "version_minor": 0
      },
      "text/plain": [
       "HBox(children=(FloatProgress(value=0.0, description='#7', max=465134.0, style=ProgressStyle(description_width=…"
      ]
     },
     "metadata": {},
     "output_type": "display_data"
    },
    {
     "data": {
      "application/vnd.jupyter.widget-view+json": {
       "model_id": "522f2e18d41b4ea4a4b8606f15e47779",
       "version_major": 2,
       "version_minor": 0
      },
      "text/plain": [
       "HBox(children=(FloatProgress(value=0.0, description='#8', max=465134.0, style=ProgressStyle(description_width=…"
      ]
     },
     "metadata": {},
     "output_type": "display_data"
    },
    {
     "data": {
      "application/vnd.jupyter.widget-view+json": {
       "model_id": "ad7a6f08c0414d58aaaa00c55f77b95d",
       "version_major": 2,
       "version_minor": 0
      },
      "text/plain": [
       "HBox(children=(FloatProgress(value=0.0, description='#2', max=465134.0, style=ProgressStyle(description_width=…"
      ]
     },
     "metadata": {},
     "output_type": "display_data"
    },
    {
     "data": {
      "application/vnd.jupyter.widget-view+json": {
       "model_id": "3c3f29b11f2d4e37b9399c66b89f4fe1",
       "version_major": 2,
       "version_minor": 0
      },
      "text/plain": [
       "HBox(children=(FloatProgress(value=0.0, description='#1', max=465134.0, style=ProgressStyle(description_width=…"
      ]
     },
     "metadata": {},
     "output_type": "display_data"
    },
    {
     "data": {
      "application/vnd.jupyter.widget-view+json": {
       "model_id": "9a9462295ed64dbb83445690c0b194ad",
       "version_major": 2,
       "version_minor": 0
      },
      "text/plain": [
       "HBox(children=(FloatProgress(value=0.0, description='#0', max=465135.0, style=ProgressStyle(description_width=…"
      ]
     },
     "metadata": {},
     "output_type": "display_data"
    },
    {
     "name": "stdout",
     "output_type": "stream",
     "text": [
      "\n",
      "\n",
      "\n",
      "\n",
      "\n",
      "\n",
      "\n",
      "\n",
      "\n"
     ]
    }
   ],
   "source": [
    "dataset = dataset.map(paragraph_clean, num_proc=9)"
   ]
  },
  {
   "cell_type": "code",
   "execution_count": 114,
   "id": "516cf1f6-6c59-4310-84ef-4cb8b0708574",
   "metadata": {},
   "outputs": [],
   "source": [
    "dataset.save_to_disk(PATH_DATASET_DIR)"
   ]
  },
  {
   "cell_type": "markdown",
   "id": "3f9b92f8",
   "metadata": {},
   "source": [
    "### Divide each paragraph into sentences"
   ]
  },
  {
   "cell_type": "code",
   "execution_count": 21,
   "id": "d01ae825",
   "metadata": {
    "tags": []
   },
   "outputs": [
    {
     "name": "stdout",
     "output_type": "stream",
     "text": [
      "    "
     ]
    },
    {
     "data": {
      "application/vnd.jupyter.widget-view+json": {
       "model_id": "cb0898261f9c4b3d9a2d880549313593",
       "version_major": 2,
       "version_minor": 0
      },
      "text/plain": [
       "HBox(children=(FloatProgress(value=0.0, description='#1', max=465134.0, style=ProgressStyle(description_width=…"
      ]
     },
     "metadata": {},
     "output_type": "display_data"
    },
    {
     "data": {
      "application/vnd.jupyter.widget-view+json": {
       "model_id": "796128434ed4446cb8b339f3d4fc9d3b",
       "version_major": 2,
       "version_minor": 0
      },
      "text/plain": [
       "HBox(children=(FloatProgress(value=0.0, description='#3', max=465134.0, style=ProgressStyle(description_width=…"
      ]
     },
     "metadata": {},
     "output_type": "display_data"
    },
    {
     "data": {
      "application/vnd.jupyter.widget-view+json": {
       "model_id": "c37b558a5e9947c388dfc2ccea8c10f2",
       "version_major": 2,
       "version_minor": 0
      },
      "text/plain": [
       "HBox(children=(FloatProgress(value=0.0, description='#0', max=465135.0, style=ProgressStyle(description_width=…"
      ]
     },
     "metadata": {},
     "output_type": "display_data"
    },
    {
     "data": {
      "application/vnd.jupyter.widget-view+json": {
       "model_id": "798fcef289fc4a76be554075f22971c7",
       "version_major": 2,
       "version_minor": 0
      },
      "text/plain": [
       "HBox(children=(FloatProgress(value=0.0, description='#2', max=465134.0, style=ProgressStyle(description_width=…"
      ]
     },
     "metadata": {},
     "output_type": "display_data"
    },
    {
     "name": "stdout",
     "output_type": "stream",
     "text": [
      " "
     ]
    },
    {
     "data": {
      "application/vnd.jupyter.widget-view+json": {
       "model_id": "8ad3c87f0b8742f6847938e0648f4830",
       "version_major": 2,
       "version_minor": 0
      },
      "text/plain": [
       "HBox(children=(FloatProgress(value=0.0, description='#4', max=465134.0, style=ProgressStyle(description_width=…"
      ]
     },
     "metadata": {},
     "output_type": "display_data"
    },
    {
     "name": "stdout",
     "output_type": "stream",
     "text": [
      "    "
     ]
    },
    {
     "data": {
      "application/vnd.jupyter.widget-view+json": {
       "model_id": "80a43cbc8b724cd28786d747b1d7b573",
       "version_major": 2,
       "version_minor": 0
      },
      "text/plain": [
       "HBox(children=(FloatProgress(value=0.0, description='#5', max=465134.0, style=ProgressStyle(description_width=…"
      ]
     },
     "metadata": {},
     "output_type": "display_data"
    },
    {
     "data": {
      "application/vnd.jupyter.widget-view+json": {
       "model_id": "edfec54ca41a47c98a1fe3e48e03f13c",
       "version_major": 2,
       "version_minor": 0
      },
      "text/plain": [
       "HBox(children=(FloatProgress(value=0.0, description='#6', max=465134.0, style=ProgressStyle(description_width=…"
      ]
     },
     "metadata": {},
     "output_type": "display_data"
    },
    {
     "data": {
      "application/vnd.jupyter.widget-view+json": {
       "model_id": "0070f730168e46d09d099cc3757f75f6",
       "version_major": 2,
       "version_minor": 0
      },
      "text/plain": [
       "HBox(children=(FloatProgress(value=0.0, description='#7', max=465134.0, style=ProgressStyle(description_width=…"
      ]
     },
     "metadata": {},
     "output_type": "display_data"
    },
    {
     "data": {
      "application/vnd.jupyter.widget-view+json": {
       "model_id": "92c1d05f802244e5bfecd2e5928bc96b",
       "version_major": 2,
       "version_minor": 0
      },
      "text/plain": [
       "HBox(children=(FloatProgress(value=0.0, description='#8', max=465134.0, style=ProgressStyle(description_width=…"
      ]
     },
     "metadata": {},
     "output_type": "display_data"
    },
    {
     "name": "stdout",
     "output_type": "stream",
     "text": [
      "\n",
      "\n",
      "\n",
      "\n",
      "\n",
      "\n",
      "\n",
      "\n",
      "\n"
     ]
    }
   ],
   "source": [
    "import re\n",
    "from nltk.tokenize import sent_tokenize\n",
    "\n",
    "def sentence_tokenize(article):\n",
    "    \"\"\"Tokenize sentences from paragraphs.\"\"\"\n",
    "    sents = sent_tokenize(article[\"p_clean\"])\n",
    "    #sents = re.split('(?<!\\w\\.\\w.)(?<![A-Z][a-z]\\.)(?<=\\.|\\?)(\\s|[A-Z].*)', article[\"p_clean\"])\n",
    "    return {\"sentences\": sents}\n",
    "\n",
    "dataset = dataset.map(sentence_tokenize, num_proc=9)"
   ]
  },
  {
   "cell_type": "markdown",
   "id": "14b857b5",
   "metadata": {},
   "source": [
    "Check for sentences"
   ]
  },
  {
   "cell_type": "markdown",
   "id": "1534f48b",
   "metadata": {},
   "source": [
    "### Check distribution of paragraph lengths"
   ]
  },
  {
   "cell_type": "markdown",
   "id": "745191ec",
   "metadata": {},
   "source": [
    "Use pre-trained tokenizer to tokenize individual sentences. We do this to check for the length of each individual sentence and understand how much data we will lose when truncating on pre-training (the maximum length of BERT is 512 tokens). \n",
    "\n",
    "We also want to understand the overall distribution of the sentences and check how many short sentences there are in the dataset. We will put a bottom and top limit for each article"
   ]
  },
  {
   "cell_type": "code",
   "execution_count": 28,
   "id": "6134ecb7",
   "metadata": {},
   "outputs": [],
   "source": [
    "from transformers import BertTokenizer\n",
    "\n",
    "def build_dist(article):\n",
    "    sents_len = []\n",
    "    for sent in article[\"sentences\"]:\n",
    "        sents_len.append(len(sent.split()))\n",
    "    return {\"sents_len\": sents_len}"
   ]
  },
  {
   "cell_type": "code",
   "execution_count": 29,
   "id": "eef6ffaa",
   "metadata": {},
   "outputs": [
    {
     "name": "stdout",
     "output_type": "stream",
     "text": [
      "        "
     ]
    },
    {
     "data": {
      "application/vnd.jupyter.widget-view+json": {
       "model_id": "aeaad57cfc87430984c6ca002af34fa7",
       "version_major": 2,
       "version_minor": 0
      },
      "text/plain": [
       "HBox(children=(FloatProgress(value=0.0, description='#4', max=523276.0, style=ProgressStyle(description_width=…"
      ]
     },
     "metadata": {},
     "output_type": "display_data"
    },
    {
     "data": {
      "application/vnd.jupyter.widget-view+json": {
       "model_id": "a57810a14ad048da8db951fe73dc0421",
       "version_major": 2,
       "version_minor": 0
      },
      "text/plain": [
       "HBox(children=(FloatProgress(value=0.0, description='#0', max=523276.0, style=ProgressStyle(description_width=…"
      ]
     },
     "metadata": {},
     "output_type": "display_data"
    },
    {
     "data": {
      "application/vnd.jupyter.widget-view+json": {
       "model_id": "e65ccdf055a04dcf8fcdcee9e7373287",
       "version_major": 2,
       "version_minor": 0
      },
      "text/plain": [
       "HBox(children=(FloatProgress(value=0.0, description='#7', max=523275.0, style=ProgressStyle(description_width=…"
      ]
     },
     "metadata": {},
     "output_type": "display_data"
    },
    {
     "data": {
      "application/vnd.jupyter.widget-view+json": {
       "model_id": "cd30ef4e6e8245b9844f5c4ff41dc172",
       "version_major": 2,
       "version_minor": 0
      },
      "text/plain": [
       "HBox(children=(FloatProgress(value=0.0, description='#3', max=523276.0, style=ProgressStyle(description_width=…"
      ]
     },
     "metadata": {},
     "output_type": "display_data"
    },
    {
     "data": {
      "application/vnd.jupyter.widget-view+json": {
       "model_id": "1a9b24a9b5d74b03bc4290eda4f76399",
       "version_major": 2,
       "version_minor": 0
      },
      "text/plain": [
       "HBox(children=(FloatProgress(value=0.0, description='#2', max=523276.0, style=ProgressStyle(description_width=…"
      ]
     },
     "metadata": {},
     "output_type": "display_data"
    },
    {
     "data": {
      "application/vnd.jupyter.widget-view+json": {
       "model_id": "ca3feff3671740aeb8fb0b7bebefa2d7",
       "version_major": 2,
       "version_minor": 0
      },
      "text/plain": [
       "HBox(children=(FloatProgress(value=0.0, description='#1', max=523276.0, style=ProgressStyle(description_width=…"
      ]
     },
     "metadata": {},
     "output_type": "display_data"
    },
    {
     "data": {
      "application/vnd.jupyter.widget-view+json": {
       "model_id": "53454acec09b4720b5ec3ec5d014057c",
       "version_major": 2,
       "version_minor": 0
      },
      "text/plain": [
       "HBox(children=(FloatProgress(value=0.0, description='#5', max=523276.0, style=ProgressStyle(description_width=…"
      ]
     },
     "metadata": {},
     "output_type": "display_data"
    },
    {
     "data": {
      "application/vnd.jupyter.widget-view+json": {
       "model_id": "3fb32798e0c2445583df1b9c10719f77",
       "version_major": 2,
       "version_minor": 0
      },
      "text/plain": [
       "HBox(children=(FloatProgress(value=0.0, description='#6', max=523276.0, style=ProgressStyle(description_width=…"
      ]
     },
     "metadata": {},
     "output_type": "display_data"
    },
    {
     "name": "stdout",
     "output_type": "stream",
     "text": [
      "\n",
      "\n",
      "\n",
      "\n",
      "\n",
      "\n",
      "\n",
      "\n"
     ]
    }
   ],
   "source": [
    "dataset = dataset.map(build_dist, num_proc=8)"
   ]
  },
  {
   "cell_type": "markdown",
   "id": "f2518a82-0761-4491-b92d-0bab171e1b2a",
   "metadata": {},
   "source": [
    "### Check dist of first 100000"
   ]
  },
  {
   "cell_type": "code",
   "execution_count": 36,
   "id": "73bd1969-fe14-45ba-bbfa-df5f6eba5f29",
   "metadata": {},
   "outputs": [],
   "source": [
    "sents = dataset[\"train\"][\"sents_len\"][1:1000000]"
   ]
  },
  {
   "cell_type": "code",
   "execution_count": 37,
   "id": "4f292eb5-c05f-44e4-bfac-718e0beb3163",
   "metadata": {},
   "outputs": [],
   "source": [
    "flat_list = [item for sublist in sents for item in sublist]"
   ]
  },
  {
   "cell_type": "code",
   "execution_count": 38,
   "id": "06c7ed91",
   "metadata": {},
   "outputs": [
    {
     "data": {
      "image/png": "[encoded data removed]",
      "text/plain": [
       "<Figure size 432x288 with 1 Axes>"
      ]
     },
     "metadata": {
      "image/png": {
       "height": 261,
       "width": 386
      },
      "needs_background": "light"
     },
     "output_type": "display_data"
    }
   ],
   "source": [
    "%matplotlib inline\n",
    "%config InlineBackend.figure_format='retina'\n",
    "import seaborn as sns\n",
    "import matplotlib.pyplot as plt\n",
    "\n",
    "sns.distplot(flat_list)\n",
    "plt.xlim([0, 512]);\n",
    "plt.xlabel('Token count');"
   ]
  },
  {
   "cell_type": "code",
   "execution_count": 40,
   "id": "917e9035",
   "metadata": {},
   "outputs": [],
   "source": [
    "dataset.save_to_disk(PATH_DATASET_DIR)"
   ]
  },
  {
   "cell_type": "markdown",
   "id": "aabfebee",
   "metadata": {},
   "source": [
    "---"
   ]
  }
 ],
 "metadata": {
  "kernelspec": {
   "display_name": "histaware-NidRwJ64-py3.8",
   "language": "python",
   "name": "histaware-nidrwj64-py3.8"
  },
  "language_info": {
   "codemirror_mode": {
    "name": "ipython",
    "version": 3
   },
   "file_extension": ".py",
   "mimetype": "text/x-python",
   "name": "python",
   "nbconvert_exporter": "python",
   "pygments_lexer": "ipython3",
   "version": "3.8.5"
  }
 },
 "nbformat": 4,
 "nbformat_minor": 5
}
