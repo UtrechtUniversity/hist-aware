{
 "cells": [
  {
   "cell_type": "code",
   "execution_count": 1,
   "metadata": {},
   "outputs": [],
   "source": [
    "%load_ext autoreload\n",
    "%autoreload 2\n",
    "\n",
    "import os\n",
    "import pandas as pd\n",
    "import pickle\n",
    "import glob\n",
    "from sklearn.metrics import confusion_matrix, classification_report, recall_score, accuracy_score\n",
    "from sklearn.model_selection import train_test_split\n",
    "from text_manager import TextManager\n",
    "from embedding import Word2VecEmbedding\n",
    "from cnn_model import CNN_Model\n",
    "from tensorflow.keras.utils import to_categorical\n",
    "import numpy as np"
   ]
  },
  {
   "cell_type": "code",
   "execution_count": 2,
   "metadata": {},
   "outputs": [],
   "source": [
    "TEMP_DATA_DIR = '../../data/tmp'\n",
    "EMBEDDING_PATH = \"../../data/320/combined-320.txt\"\n",
    "LABELS_DIR = '../../data/labeled_all'\n",
    "OUTPUT_DIR = '../../data/output'\n",
    "MAX_NUM_WORDS = 20000\n",
    "MAX_SEQUENCE_LENGTH = 11600"
   ]
  },
  {
   "cell_type": "code",
   "execution_count": 3,
   "metadata": {
    "tags": []
   },
   "outputs": [],
   "source": [
    "def load_dataset(data_fp):\n",
    "    \"\"\"Read the data of the file locations given as argument to this function\n",
    "        Parameters\n",
    "        ----------\n",
    "        data_fp: str\n",
    "                file path of data\n",
    "                \n",
    "        Return\n",
    "        ----------\n",
    "        'text' and 'label' of the given file\n",
    "    \"\"\"\n",
    "    fps = glob.glob(data_fp)\n",
    "    frames =[]\n",
    "    for fp in fps:\n",
    "        d = pd.read_csv(fp)\n",
    "        frames.append(d)\n",
    "\n",
    "    df = pd.concat(frames)\n",
    "    \n",
    "    # make texts and labels\n",
    "    texts = df['text'].fillna('')\n",
    "    labels = df[\"labels\"]\n",
    "\n",
    "    return texts.values, labels.values\n",
    "\n",
    "\n",
    "def data_prep(data_fp,output_fp='hist_aware_pickle.pickle'):\n",
    "    \"\"\"Preprocess data including cleaning and tokenizing, \n",
    "         save data, embedding layer, tokenizer and word-index in a pickle file\n",
    "         \n",
    "        Parameters\n",
    "        ----------\n",
    "        data_fp: str\n",
    "                file path of data\n",
    "        output_fp: str\n",
    "                file path of output(pickle)        \n",
    "    \"\"\"\n",
    "\n",
    "    data_fp = os.path.join(LABELS_DIR,data_fp)\n",
    "    pickle_fp = os.path.join(TEMP_DATA_DIR, output_fp)\n",
    "    tokenz_pickle_fp = os.path.join(TEMP_DATA_DIR, 'tokenz_'+output_fp)\n",
    "    \n",
    "    dir_path = os.path.dirname(pickle_fp)\n",
    "    \n",
    "    if not os.path.exists(dir_path):\n",
    "        os.makedirs(dir_path)\n",
    "       \n",
    "    # load the dataset from disk\n",
    "    texts, lbls = load_dataset(data_fp)\n",
    "    \n",
    "\n",
    "    # get the texts and their corresponding labels\n",
    "    textManager = TextManager(\n",
    "        max_num_words = MAX_NUM_WORDS,\n",
    "        max_sequence_length = MAX_SEQUENCE_LENGTH\n",
    "    )\n",
    "    \n",
    "    texts = textManager.clean_text(texts)\n",
    "    print('max length of all texts', len(max(texts, key=len)))\n",
    "    \n",
    "    word_index, tokenizer = textManager.create_tokenizer(texts)\n",
    "    data = textManager.sequence_maker(tokenizer, texts)\n",
    "    \n",
    "    embedding = Word2VecEmbedding(word_index, MAX_NUM_WORDS,\n",
    "                                  MAX_SEQUENCE_LENGTH)\n",
    "    embedding.load_word2vec_data(EMBEDDING_PATH)\n",
    "    embedding_layer = embedding.build_embedding()\n",
    "\n",
    "    labels = to_categorical(np.asarray(lbls))\n",
    "    \n",
    "    # Dataset, labels and embedding layer are stored to disk in pickle file. \n",
    "    with open(pickle_fp, 'wb') as f:\n",
    "        pickle.dump((data, labels, embedding_layer), f)\n",
    "    \n",
    "      \n",
    "    with open(tokenz_pickle_fp, 'wb') as f:\n",
    "        pickle.dump((tokenizer,word_index), f)\n",
    "\n",
    "\n",
    "def train_model(dropout, optimizer, batch_size, epoch_no, hidden_dims=50, model_fp_suff='all',pkl_fp='hist_aware_pickle.pickle'):\n",
    "        \"\"\"Train a cnn model, using the given parameters,\n",
    "                save the model and make a prediction on validation dataset\n",
    "        \"\"\"\n",
    "         \n",
    "        pickle_fp = os.path.join(TEMP_DATA_DIR,pkl_fp )\n",
    "        \n",
    "        \"\"\" Read dataset, labels and embedding layer from pickle file. \"\"\"\n",
    "        with open(pickle_fp, 'rb') as f:\n",
    "            data, labels, embedding_layer = pickle.load(f)\n",
    "\n",
    "\n",
    "        \"\"\" Split dataset to train and test \"\"\"\n",
    "        x_train, x_val, y_train, y_val = train_test_split(data, labels,\n",
    "                                                    test_size=0.33,\n",
    "                                                    random_state=0,\n",
    "                                                    stratify=labels)\n",
    "            \n",
    "        print(\"x_train shape:\", x_train.shape, \", x_val shape:\", x_val.shape)\n",
    "        print(\"y_train shape:\", y_train.shape, \", y_val shape:\", y_val.shape)\n",
    "       \n",
    "    \n",
    "        \"\"\" Make a cnn model \"\"\"\n",
    "        deep_model = CNN_Model\n",
    "        args_model = {\n",
    "            'dropout' : dropout , \n",
    "            'optimizer': optimizer, \n",
    "            'max_sequence_length': MAX_SEQUENCE_LENGTH,\n",
    "            'embedding_layer': embedding_layer,\n",
    "            'kernel_size' : (3, 8), \n",
    "            'num_filters':  128,\n",
    "            'hidden_dims': hidden_dims\n",
    "        }\n",
    "            \n",
    "        \"\"\" Train model, save model, and make prediction \"\"\"\n",
    "        model = deep_model(**args_model)\n",
    "        model.train(x_train, y_train, x_val, y_val, batch_size, epoch_no)\n",
    "        \n",
    "        \n",
    "        if not os.path.exists(OUTPUT_DIR):\n",
    "                os.makedirs(OUTPUT_DIR)\n",
    "        export_path = os.path.join(OUTPUT_DIR, 'cnn_model','dropout{}_optimizer_{}_batch_size{}_epoch_no{}_hidden_dims{}_{}.h5'.format(dropout, optimizer,batch_size, epoch_no, hidden_dims,model_fp_suff))\n",
    "        model.save(export_path)\n",
    "\n",
    "        pred = model.predict(x_val)\n",
    "        \n",
    "         \"\"\"Save result in dataframe \"\"\"\n",
    "        df_y = pd.DataFrame({'sent_0': y_val[:,0],'sent_1': y_val[:,1],'sent_2': y_val[:,2]})\n",
    "        df_pred = pd.DataFrame({'sent_0': pred[:,0],'sent_1': pred[:,1],'sent_2': pred[:,2]})\n",
    "\n",
    "        result_df = pd.concat([df_y.idxmax(axis=1),df_pred.idxmax(axis=1)], axis=1)\n",
    "        result_df.columns =['y_val','pred']\n",
    "\n",
    "\n",
    "        \"\"\"Save the result to a file\"\"\"\n",
    "\n",
    "        if not os.path.exists(OUTPUT_DIR):\n",
    "                os.makedirs(OUTPUT_DIR)\n",
    "        export_path = os.path.join(OUTPUT_DIR, 'dropout{}_optimizer_{}_batch_size{}_epoch_no{}_hidden_dims{}_{}.csv'.format(dropout, optimizer,batch_size, epoch_no, hidden_dims,model_fp_suff))\n",
    "        result_df.to_csv(export_path,index=False)\n",
    "        df_pred.to_csv(os.path.join(OUTPUT_DIR,'dropout{}_optimizer_{}_batch_size{}_epoch_no{}_hidden_dims{}_preds_prob_{}.csv'.format(dropout, optimizer,batch_size, epoch_no, hidden_dims,model_fp_suff)))\n",
    "\n",
    "        return model\n",
    "\n",
    "def get_classification_report(y_test, preds):\n",
    "    cr = classification_report(y_test, preds , output_dict=True)\n",
    "    return pd.DataFrame(cr).transpose()"
   ]
  },
  {
   "cell_type": "markdown",
   "metadata": {},
   "source": [
    "## Data preparation\n",
    "\n",
    "### The entire dataset"
   ]
  },
  {
   "cell_type": "code",
   "execution_count": 17,
   "metadata": {},
   "outputs": [
    {
     "name": "stdout",
     "output_type": "stream",
     "text": [
      "../../data/tmp\n",
      "max length of all texts 11644\n",
      "Found 28422 unique tokens.\n",
      "Shape of data tensor: (3095, 11600)\n",
      "Shape of label tensor: (3095, 3)\n",
      "Indexing word vectors.\n",
      "Found 1442951 word vectors.\n",
      "Shape of embedding matrix:  (20000, 320)\n",
      "../../data/tmp/hist_aware_pickle.pickle\n"
     ]
    }
   ],
   "source": [
    "data_fp = \"../../data/labeled_all/*.csv\"\n",
    "output_fp='hist_aware_pickle.pickle'\n",
    "data_prep(data_fp,output_fp)"
   ]
  },
  {
   "cell_type": "markdown",
   "metadata": {},
   "source": [
    "### 1960-oil"
   ]
  },
  {
   "cell_type": "code",
   "execution_count": 17,
   "metadata": {},
   "outputs": [
    {
     "name": "stdout",
     "output_type": "stream",
     "text": [
      "max length of all texts 6281\n",
      "Found 12939 unique tokens.\n",
      "Shape of data tensor: (397, 11600)\n",
      "Indexing word vectors.\n",
      "Found 1442951 word vectors.\n",
      "Shape of embedding matrix:  (12940, 320)\n"
     ]
    }
   ],
   "source": [
    "data_fp = \"1960s_oil_merged.csv\"\n",
    "output_fp='1960_oil_hist_aware_pickle.pickle'\n",
    "data_prep(data_fp,output_fp)"
   ]
  },
  {
   "cell_type": "markdown",
   "metadata": {},
   "source": [
    "### 1960-coal"
   ]
  },
  {
   "cell_type": "code",
   "execution_count": 18,
   "metadata": {},
   "outputs": [
    {
     "name": "stdout",
     "output_type": "stream",
     "text": [
      "max length of all texts 5838\n",
      "Found 8330 unique tokens.\n",
      "Shape of data tensor: (258, 11600)\n",
      "Indexing word vectors.\n",
      "Found 1442951 word vectors.\n",
      "Shape of embedding matrix:  (8331, 320)\n"
     ]
    }
   ],
   "source": [
    "data_fp = \"1960s_coal_merged.csv\"\n",
    "output_fp='1960_coal_hist_aware_pickle.pickle'\n",
    "data_prep(data_fp,output_fp)"
   ]
  },
  {
   "cell_type": "markdown",
   "metadata": {},
   "source": [
    "### 1960-gas"
   ]
  },
  {
   "cell_type": "code",
   "execution_count": 19,
   "metadata": {},
   "outputs": [
    {
     "name": "stdout",
     "output_type": "stream",
     "text": [
      "max length of all texts 5986\n",
      "Found 11257 unique tokens.\n",
      "Shape of data tensor: (433, 11600)\n",
      "Indexing word vectors.\n",
      "Found 1442951 word vectors.\n",
      "Shape of embedding matrix:  (11258, 320)\n"
     ]
    }
   ],
   "source": [
    "data_fp = \"1960s_gas_merged.csv\"\n",
    "output_fp='1960_gas_hist_aware_pickle.pickle'\n",
    "data_prep(data_fp,output_fp)"
   ]
  },
  {
   "cell_type": "markdown",
   "metadata": {
    "tags": []
   },
   "source": [
    "### 1970-oil"
   ]
  },
  {
   "cell_type": "code",
   "execution_count": 17,
   "metadata": {},
   "outputs": [
    {
     "name": "stdout",
     "output_type": "stream",
     "text": [
      "../../data/tmp\n",
      "max length of all texts 11644\n",
      "Found 14024 unique tokens.\n",
      "Shape of data tensor: (500, 11600)\n",
      "Indexing word vectors.\n",
      "Found 1442951 word vectors.\n",
      "Shape of embedding matrix:  (14025, 320)\n"
     ]
    }
   ],
   "source": [
    "data_fp = \"1970s_oil_merged.csv\"\n",
    "output_fp='1970_oil_hist_aware_pickle.pickle'\n",
    "data_prep(data_fp,output_fp)"
   ]
  },
  {
   "cell_type": "markdown",
   "metadata": {
    "tags": []
   },
   "source": [
    "### 1970-coal"
   ]
  },
  {
   "cell_type": "code",
   "execution_count": 8,
   "metadata": {},
   "outputs": [
    {
     "name": "stdout",
     "output_type": "stream",
     "text": [
      "max length of all texts 5461\n",
      "Found 7038 unique tokens.\n",
      "Shape of data tensor: (344, 11600)\n",
      "Indexing word vectors.\n",
      "Found 1442951 word vectors.\n",
      "Shape of embedding matrix:  (7039, 320)\n"
     ]
    }
   ],
   "source": [
    "data_fp = \"1970s_coal_merged.csv\"\n",
    "output_fp='1970_coal_hist_aware_pickle.pickle'\n",
    "data_prep(data_fp,output_fp)"
   ]
  },
  {
   "cell_type": "markdown",
   "metadata": {
    "tags": []
   },
   "source": [
    "### 1970-gas"
   ]
  },
  {
   "cell_type": "code",
   "execution_count": 9,
   "metadata": {},
   "outputs": [
    {
     "name": "stdout",
     "output_type": "stream",
     "text": [
      "max length of all texts 5461\n",
      "Found 6096 unique tokens.\n",
      "Shape of data tensor: (179, 11600)\n",
      "Indexing word vectors.\n",
      "Found 1442951 word vectors.\n",
      "Shape of embedding matrix:  (6097, 320)\n"
     ]
    }
   ],
   "source": [
    "data_fp = \"1970s_gas_merged.csv\"\n",
    "output_fp='1970_gas_hist_aware_pickle.pickle'\n",
    "data_prep(data_fp,output_fp)"
   ]
  },
  {
   "cell_type": "markdown",
   "metadata": {
    "tags": []
   },
   "source": [
    "### 1980-oil"
   ]
  },
  {
   "cell_type": "code",
   "execution_count": 10,
   "metadata": {},
   "outputs": [
    {
     "name": "stdout",
     "output_type": "stream",
     "text": [
      "max length of all texts 6402\n",
      "Found 12258 unique tokens.\n",
      "Shape of data tensor: (484, 11600)\n",
      "Indexing word vectors.\n",
      "Found 1442951 word vectors.\n",
      "Shape of embedding matrix:  (12259, 320)\n"
     ]
    }
   ],
   "source": [
    "data_fp = \"1980s_oil_merged.csv\"\n",
    "output_fp='1980_oil_hist_aware_pickle.pickle'\n",
    "data_prep(data_fp,output_fp)"
   ]
  },
  {
   "cell_type": "markdown",
   "metadata": {
    "tags": []
   },
   "source": [
    "### 1980-coal"
   ]
  },
  {
   "cell_type": "code",
   "execution_count": 11,
   "metadata": {},
   "outputs": [
    {
     "name": "stdout",
     "output_type": "stream",
     "text": [
      "max length of all texts 6402\n",
      "Found 7756 unique tokens.\n",
      "Shape of data tensor: (325, 11600)\n",
      "Indexing word vectors.\n",
      "Found 1442951 word vectors.\n",
      "Shape of embedding matrix:  (7757, 320)\n"
     ]
    }
   ],
   "source": [
    "data_fp = \"1980s_coal_merged.csv\"\n",
    "output_fp='1980_coal_hist_aware_pickle.pickle'\n",
    "data_prep(data_fp,output_fp)"
   ]
  },
  {
   "cell_type": "markdown",
   "metadata": {
    "tags": []
   },
   "source": [
    "### 1980-gas"
   ]
  },
  {
   "cell_type": "code",
   "execution_count": 12,
   "metadata": {},
   "outputs": [
    {
     "name": "stdout",
     "output_type": "stream",
     "text": [
      "max length of all texts 5592\n",
      "Found 10972 unique tokens.\n",
      "Shape of data tensor: (511, 11600)\n",
      "Indexing word vectors.\n",
      "Found 1442951 word vectors.\n",
      "Shape of embedding matrix:  (10973, 320)\n"
     ]
    }
   ],
   "source": [
    "data_fp = \"1980s_gas_merged.csv\"\n",
    "output_fp='1980_gas_hist_aware_pickle.pickle'\n",
    "data_prep(data_fp,output_fp)"
   ]
  },
  {
   "cell_type": "markdown",
   "metadata": {
    "tags": []
   },
   "source": [
    "### 1990-oil"
   ]
  },
  {
   "cell_type": "code",
   "execution_count": 13,
   "metadata": {},
   "outputs": [
    {
     "name": "stdout",
     "output_type": "stream",
     "text": [
      "max length of all texts 5103\n",
      "Found 5485 unique tokens.\n",
      "Shape of data tensor: (193, 11600)\n",
      "Indexing word vectors.\n",
      "Found 1442951 word vectors.\n",
      "Shape of embedding matrix:  (5486, 320)\n"
     ]
    }
   ],
   "source": [
    "data_fp = \"1990s_oil_merged.csv\"\n",
    "output_fp='1990_oil_hist_aware_pickle.pickle'\n",
    "data_prep(data_fp,output_fp)"
   ]
  },
  {
   "cell_type": "markdown",
   "metadata": {
    "tags": []
   },
   "source": [
    "### 1990-coal"
   ]
  },
  {
   "cell_type": "code",
   "execution_count": 14,
   "metadata": {},
   "outputs": [
    {
     "name": "stdout",
     "output_type": "stream",
     "text": [
      "max length of all texts 5103\n",
      "Found 7628 unique tokens.\n",
      "Shape of data tensor: (337, 11600)\n",
      "Indexing word vectors.\n",
      "Found 1442951 word vectors.\n",
      "Shape of embedding matrix:  (7629, 320)\n"
     ]
    }
   ],
   "source": [
    "data_fp = \"1990s_coal_merged.csv\"\n",
    "output_fp='1990_coal_hist_aware_pickle.pickle'\n",
    "data_prep(data_fp,output_fp)"
   ]
  },
  {
   "cell_type": "markdown",
   "metadata": {
    "tags": []
   },
   "source": [
    "### 1990-gas"
   ]
  },
  {
   "cell_type": "code",
   "execution_count": 16,
   "metadata": {},
   "outputs": [
    {
     "name": "stdout",
     "output_type": "stream",
     "text": [
      "max length of all texts 5103\n",
      "Found 5597 unique tokens.\n",
      "Shape of data tensor: (222, 11600)\n",
      "Indexing word vectors.\n",
      "Found 1442951 word vectors.\n",
      "Shape of embedding matrix:  (5598, 320)\n"
     ]
    }
   ],
   "source": [
    "data_fp = \"1990s_gas_merged.csv\"\n",
    "output_fp='1990_gas_hist_aware_pickle.pickle'\n",
    "data_prep(data_fp,output_fp)"
   ]
  },
  {
   "cell_type": "markdown",
   "metadata": {},
   "source": [
    "## Train model on the entire dataset"
   ]
  },
  {
   "cell_type": "code",
   "execution_count": 4,
   "metadata": {},
   "outputs": [
    {
     "name": "stdout",
     "output_type": "stream",
     "text": [
      "x_train shape: (2073, 11600) , x_val shape: (1022, 11600)\n",
      "y_train shape: (2073, 3) , y_val shape: (1022, 3)\n",
      "Model: \"model\"\n",
      "__________________________________________________________________________________________________\n",
      "Layer (type)                    Output Shape         Param #     Connected to                     \n",
      "==================================================================================================\n",
      "input_1 (InputLayer)            [(None, 11600)]      0                                            \n",
      "__________________________________________________________________________________________________\n",
      "embedding (Embedding)           (None, 11600, 320)   6400000     input_1[0][0]                    \n",
      "__________________________________________________________________________________________________\n",
      "conv1d (Conv1D)                 (None, 11598, 128)   123008      embedding[0][0]                  \n",
      "__________________________________________________________________________________________________\n",
      "conv1d_1 (Conv1D)               (None, 11593, 128)   327808      embedding[0][0]                  \n",
      "__________________________________________________________________________________________________\n",
      "max_pooling1d (MaxPooling1D)    (None, 5799, 128)    0           conv1d[0][0]                     \n",
      "__________________________________________________________________________________________________\n",
      "max_pooling1d_1 (MaxPooling1D)  (None, 5796, 128)    0           conv1d_1[0][0]                   \n",
      "__________________________________________________________________________________________________\n",
      "flatten (Flatten)               (None, 742272)       0           max_pooling1d[0][0]              \n",
      "__________________________________________________________________________________________________\n",
      "flatten_1 (Flatten)             (None, 741888)       0           max_pooling1d_1[0][0]            \n",
      "__________________________________________________________________________________________________\n",
      "concatenate (Concatenate)       (None, 1484160)      0           flatten[0][0]                    \n",
      "                                                                 flatten_1[0][0]                  \n",
      "__________________________________________________________________________________________________\n",
      "dropout (Dropout)               (None, 1484160)      0           concatenate[0][0]                \n",
      "__________________________________________________________________________________________________\n",
      "dense (Dense)                   (None, 50)           74208050    dropout[0][0]                    \n",
      "__________________________________________________________________________________________________\n",
      "dense_1 (Dense)                 (None, 3)            153         dense[0][0]                      \n",
      "==================================================================================================\n",
      "Total params: 81,059,019\n",
      "Trainable params: 74,659,019\n",
      "Non-trainable params: 6,400,000\n",
      "__________________________________________________________________________________________________\n",
      "INFO:tensorflow:Assets written to: ../../data/output/cnn_model/dropout(0.5, 0.8)_optimizer_adam_batch_size16_epoch_no100_hidden_dims50_all/assets\n"
     ]
    }
   ],
   "source": [
    "## Trained on the entire dataset\n",
    "dropout = (0.5,0.8)\n",
    "optimizer = 'adam'\n",
    "batch_size = 16\n",
    "epoch_no = 100\n",
    "hidden_dims=50\n",
    "model_fp_suff='all'\n",
    "train_model(dropout, optimizer, batch_size, epoch_no, hidden_dims)"
   ]
  },
  {
   "cell_type": "markdown",
   "metadata": {},
   "source": [
    "### Confusion matrix"
   ]
  },
  {
   "cell_type": "code",
   "execution_count": 5,
   "metadata": {},
   "outputs": [
    {
     "data": {
      "text/plain": [
       "array([[293,  38, 112],\n",
       "       [ 48,  52,  60],\n",
       "       [105,  39, 275]])"
      ]
     },
     "execution_count": 5,
     "metadata": {},
     "output_type": "execute_result"
    }
   ],
   "source": [
    "export_path = os.path.join(OUTPUT_DIR,'dropout{}_optimizer_{}_batch_size{}_epoch_no{}_hidden_dims{}_{}.csv'.format(dropout, optimizer,batch_size, epoch_no, hidden_dims,model_fp_suff))\n",
    "results = pd.read_csv(export_path)\n",
    "\n",
    "confusion_matrix(results['y_val'], results['pred'])"
   ]
  },
  {
   "cell_type": "markdown",
   "metadata": {},
   "source": [
    "### Classification report"
   ]
  },
  {
   "cell_type": "code",
   "execution_count": 6,
   "metadata": {},
   "outputs": [
    {
     "data": {
      "text/html": [
       "<div>\n",
       "<style scoped>\n",
       "    .dataframe tbody tr th:only-of-type {\n",
       "        vertical-align: middle;\n",
       "    }\n",
       "\n",
       "    .dataframe tbody tr th {\n",
       "        vertical-align: top;\n",
       "    }\n",
       "\n",
       "    .dataframe thead th {\n",
       "        text-align: right;\n",
       "    }\n",
       "</style>\n",
       "<table border=\"1\" class=\"dataframe\">\n",
       "  <thead>\n",
       "    <tr style=\"text-align: right;\">\n",
       "      <th></th>\n",
       "      <th>precision</th>\n",
       "      <th>recall</th>\n",
       "      <th>f1-score</th>\n",
       "      <th>support</th>\n",
       "    </tr>\n",
       "  </thead>\n",
       "  <tbody>\n",
       "    <tr>\n",
       "      <th>sent_0</th>\n",
       "      <td>0.656951</td>\n",
       "      <td>0.661400</td>\n",
       "      <td>0.659168</td>\n",
       "      <td>443.000000</td>\n",
       "    </tr>\n",
       "    <tr>\n",
       "      <th>sent_1</th>\n",
       "      <td>0.403101</td>\n",
       "      <td>0.325000</td>\n",
       "      <td>0.359862</td>\n",
       "      <td>160.000000</td>\n",
       "    </tr>\n",
       "    <tr>\n",
       "      <th>sent_2</th>\n",
       "      <td>0.615213</td>\n",
       "      <td>0.656325</td>\n",
       "      <td>0.635104</td>\n",
       "      <td>419.000000</td>\n",
       "    </tr>\n",
       "    <tr>\n",
       "      <th>accuracy</th>\n",
       "      <td>0.606654</td>\n",
       "      <td>0.606654</td>\n",
       "      <td>0.606654</td>\n",
       "      <td>0.606654</td>\n",
       "    </tr>\n",
       "    <tr>\n",
       "      <th>macro avg</th>\n",
       "      <td>0.558421</td>\n",
       "      <td>0.547575</td>\n",
       "      <td>0.551378</td>\n",
       "      <td>1022.000000</td>\n",
       "    </tr>\n",
       "    <tr>\n",
       "      <th>weighted avg</th>\n",
       "      <td>0.600097</td>\n",
       "      <td>0.606654</td>\n",
       "      <td>0.602444</td>\n",
       "      <td>1022.000000</td>\n",
       "    </tr>\n",
       "  </tbody>\n",
       "</table>\n",
       "</div>"
      ],
      "text/plain": [
       "              precision    recall  f1-score      support\n",
       "sent_0         0.656951  0.661400  0.659168   443.000000\n",
       "sent_1         0.403101  0.325000  0.359862   160.000000\n",
       "sent_2         0.615213  0.656325  0.635104   419.000000\n",
       "accuracy       0.606654  0.606654  0.606654     0.606654\n",
       "macro avg      0.558421  0.547575  0.551378  1022.000000\n",
       "weighted avg   0.600097  0.606654  0.602444  1022.000000"
      ]
     },
     "execution_count": 6,
     "metadata": {},
     "output_type": "execute_result"
    }
   ],
   "source": [
    "get_classification_report(results['y_val'], results['pred'])"
   ]
  },
  {
   "cell_type": "markdown",
   "metadata": {},
   "source": [
    "## Train model per decade/ per topic\n",
    "### 1960-oil"
   ]
  },
  {
   "cell_type": "code",
   "execution_count": 4,
   "metadata": {},
   "outputs": [
    {
     "name": "stdout",
     "output_type": "stream",
     "text": [
      "x_train shape: (265, 11600) , x_val shape: (132, 11600)\n",
      "y_train shape: (265, 3) , y_val shape: (132, 3)\n",
      "Model: \"model\"\n",
      "__________________________________________________________________________________________________\n",
      "Layer (type)                    Output Shape         Param #     Connected to                     \n",
      "==================================================================================================\n",
      "input_1 (InputLayer)            [(None, 11600)]      0                                            \n",
      "__________________________________________________________________________________________________\n",
      "embedding_8 (Embedding)         (None, 11600, 320)   4140800     input_1[0][0]                    \n",
      "__________________________________________________________________________________________________\n",
      "conv1d (Conv1D)                 (None, 11598, 128)   123008      embedding_8[0][0]                \n",
      "__________________________________________________________________________________________________\n",
      "conv1d_1 (Conv1D)               (None, 11593, 128)   327808      embedding_8[0][0]                \n",
      "__________________________________________________________________________________________________\n",
      "max_pooling1d (MaxPooling1D)    (None, 5799, 128)    0           conv1d[0][0]                     \n",
      "__________________________________________________________________________________________________\n",
      "max_pooling1d_1 (MaxPooling1D)  (None, 5796, 128)    0           conv1d_1[0][0]                   \n",
      "__________________________________________________________________________________________________\n",
      "flatten (Flatten)               (None, 742272)       0           max_pooling1d[0][0]              \n",
      "__________________________________________________________________________________________________\n",
      "flatten_1 (Flatten)             (None, 741888)       0           max_pooling1d_1[0][0]            \n",
      "__________________________________________________________________________________________________\n",
      "concatenate (Concatenate)       (None, 1484160)      0           flatten[0][0]                    \n",
      "                                                                 flatten_1[0][0]                  \n",
      "__________________________________________________________________________________________________\n",
      "dropout (Dropout)               (None, 1484160)      0           concatenate[0][0]                \n",
      "__________________________________________________________________________________________________\n",
      "dense (Dense)                   (None, 50)           74208050    dropout[0][0]                    \n",
      "__________________________________________________________________________________________________\n",
      "dense_1 (Dense)                 (None, 3)            153         dense[0][0]                      \n",
      "==================================================================================================\n",
      "Total params: 78,799,819\n",
      "Trainable params: 74,659,019\n",
      "Non-trainable params: 4,140,800\n",
      "__________________________________________________________________________________________________\n"
     ]
    },
    {
     "data": {
      "text/plain": [
       "<cnn_model.CNN_Model at 0x7f225b1f28b0>"
      ]
     },
     "execution_count": 4,
     "metadata": {},
     "output_type": "execute_result"
    }
   ],
   "source": [
    "dropout = (0.5,0.8)\n",
    "optimizer = 'adam'\n",
    "batch_size = 16\n",
    "epoch_no = 100\n",
    "hidden_dims=50\n",
    "model_fp_suff='1960_oil'\n",
    "train_model(dropout, optimizer, batch_size, epoch_no, hidden_dims,model_fp_suff=model_fp_suff, pkl_fp='1960_oil_hist_aware_pickle.pickle')"
   ]
  },
  {
   "cell_type": "markdown",
   "metadata": {
    "tags": []
   },
   "source": [
    "### Confusion matrix"
   ]
  },
  {
   "cell_type": "code",
   "execution_count": 5,
   "metadata": {},
   "outputs": [
    {
     "data": {
      "text/plain": [
       "array([[11, 12, 11],\n",
       "       [ 9, 13, 12],\n",
       "       [12, 24, 28]])"
      ]
     },
     "execution_count": 5,
     "metadata": {},
     "output_type": "execute_result"
    }
   ],
   "source": [
    "export_path = os.path.join(OUTPUT_DIR,'dropout{}_optimizer_{}_batch_size{}_epoch_no{}_hidden_dims{}_{}.csv'.format(dropout, optimizer,batch_size, epoch_no, hidden_dims,model_fp_suff))\n",
    "results = pd.read_csv(export_path)\n",
    "\n",
    "confusion_matrix(results['y_val'], results['pred'])"
   ]
  },
  {
   "cell_type": "markdown",
   "metadata": {},
   "source": [
    "### Classification report"
   ]
  },
  {
   "cell_type": "code",
   "execution_count": 6,
   "metadata": {},
   "outputs": [
    {
     "data": {
      "text/html": [
       "<div>\n",
       "<style scoped>\n",
       "    .dataframe tbody tr th:only-of-type {\n",
       "        vertical-align: middle;\n",
       "    }\n",
       "\n",
       "    .dataframe tbody tr th {\n",
       "        vertical-align: top;\n",
       "    }\n",
       "\n",
       "    .dataframe thead th {\n",
       "        text-align: right;\n",
       "    }\n",
       "</style>\n",
       "<table border=\"1\" class=\"dataframe\">\n",
       "  <thead>\n",
       "    <tr style=\"text-align: right;\">\n",
       "      <th></th>\n",
       "      <th>precision</th>\n",
       "      <th>recall</th>\n",
       "      <th>f1-score</th>\n",
       "      <th>support</th>\n",
       "    </tr>\n",
       "  </thead>\n",
       "  <tbody>\n",
       "    <tr>\n",
       "      <th>sent_0</th>\n",
       "      <td>0.343750</td>\n",
       "      <td>0.323529</td>\n",
       "      <td>0.333333</td>\n",
       "      <td>34.000000</td>\n",
       "    </tr>\n",
       "    <tr>\n",
       "      <th>sent_1</th>\n",
       "      <td>0.265306</td>\n",
       "      <td>0.382353</td>\n",
       "      <td>0.313253</td>\n",
       "      <td>34.000000</td>\n",
       "    </tr>\n",
       "    <tr>\n",
       "      <th>sent_2</th>\n",
       "      <td>0.549020</td>\n",
       "      <td>0.437500</td>\n",
       "      <td>0.486957</td>\n",
       "      <td>64.000000</td>\n",
       "    </tr>\n",
       "    <tr>\n",
       "      <th>accuracy</th>\n",
       "      <td>0.393939</td>\n",
       "      <td>0.393939</td>\n",
       "      <td>0.393939</td>\n",
       "      <td>0.393939</td>\n",
       "    </tr>\n",
       "    <tr>\n",
       "      <th>macro avg</th>\n",
       "      <td>0.386025</td>\n",
       "      <td>0.381127</td>\n",
       "      <td>0.377848</td>\n",
       "      <td>132.000000</td>\n",
       "    </tr>\n",
       "    <tr>\n",
       "      <th>weighted avg</th>\n",
       "      <td>0.423069</td>\n",
       "      <td>0.393939</td>\n",
       "      <td>0.402645</td>\n",
       "      <td>132.000000</td>\n",
       "    </tr>\n",
       "  </tbody>\n",
       "</table>\n",
       "</div>"
      ],
      "text/plain": [
       "              precision    recall  f1-score     support\n",
       "sent_0         0.343750  0.323529  0.333333   34.000000\n",
       "sent_1         0.265306  0.382353  0.313253   34.000000\n",
       "sent_2         0.549020  0.437500  0.486957   64.000000\n",
       "accuracy       0.393939  0.393939  0.393939    0.393939\n",
       "macro avg      0.386025  0.381127  0.377848  132.000000\n",
       "weighted avg   0.423069  0.393939  0.402645  132.000000"
      ]
     },
     "execution_count": 6,
     "metadata": {},
     "output_type": "execute_result"
    }
   ],
   "source": [
    "get_classification_report(results['y_val'], results['pred'])"
   ]
  },
  {
   "cell_type": "markdown",
   "metadata": {},
   "source": [
    "### 1960-coal"
   ]
  },
  {
   "cell_type": "code",
   "execution_count": 7,
   "metadata": {},
   "outputs": [
    {
     "name": "stdout",
     "output_type": "stream",
     "text": [
      "x_train shape: (172, 11600) , x_val shape: (86, 11600)\n",
      "y_train shape: (172, 3) , y_val shape: (86, 3)\n",
      "Model: \"model_1\"\n",
      "__________________________________________________________________________________________________\n",
      "Layer (type)                    Output Shape         Param #     Connected to                     \n",
      "==================================================================================================\n",
      "input_2 (InputLayer)            [(None, 11600)]      0                                            \n",
      "__________________________________________________________________________________________________\n",
      "embedding_9 (Embedding)         (None, 11600, 320)   2665920     input_2[0][0]                    \n",
      "__________________________________________________________________________________________________\n",
      "conv1d_2 (Conv1D)               (None, 11598, 128)   123008      embedding_9[0][0]                \n",
      "__________________________________________________________________________________________________\n",
      "conv1d_3 (Conv1D)               (None, 11593, 128)   327808      embedding_9[0][0]                \n",
      "__________________________________________________________________________________________________\n",
      "max_pooling1d_2 (MaxPooling1D)  (None, 5799, 128)    0           conv1d_2[0][0]                   \n",
      "__________________________________________________________________________________________________\n",
      "max_pooling1d_3 (MaxPooling1D)  (None, 5796, 128)    0           conv1d_3[0][0]                   \n",
      "__________________________________________________________________________________________________\n",
      "flatten_2 (Flatten)             (None, 742272)       0           max_pooling1d_2[0][0]            \n",
      "__________________________________________________________________________________________________\n",
      "flatten_3 (Flatten)             (None, 741888)       0           max_pooling1d_3[0][0]            \n",
      "__________________________________________________________________________________________________\n",
      "concatenate_1 (Concatenate)     (None, 1484160)      0           flatten_2[0][0]                  \n",
      "                                                                 flatten_3[0][0]                  \n",
      "__________________________________________________________________________________________________\n",
      "dropout_1 (Dropout)             (None, 1484160)      0           concatenate_1[0][0]              \n",
      "__________________________________________________________________________________________________\n",
      "dense_2 (Dense)                 (None, 50)           74208050    dropout_1[0][0]                  \n",
      "__________________________________________________________________________________________________\n",
      "dense_3 (Dense)                 (None, 3)            153         dense_2[0][0]                    \n",
      "==================================================================================================\n",
      "Total params: 77,324,939\n",
      "Trainable params: 74,659,019\n",
      "Non-trainable params: 2,665,920\n",
      "__________________________________________________________________________________________________\n"
     ]
    },
    {
     "data": {
      "text/plain": [
       "<cnn_model.CNN_Model at 0x7f2259487430>"
      ]
     },
     "execution_count": 7,
     "metadata": {},
     "output_type": "execute_result"
    }
   ],
   "source": [
    "dropout = (0.5,0.8)\n",
    "optimizer = 'adam'\n",
    "batch_size = 16\n",
    "epoch_no = 100\n",
    "hidden_dims=50\n",
    "model_fp_suff='1960_coal'\n",
    "train_model(dropout, optimizer, batch_size, epoch_no, hidden_dims,model_fp_suff=model_fp_suff, pkl_fp='1960_coal_hist_aware_pickle.pickle')"
   ]
  },
  {
   "cell_type": "markdown",
   "metadata": {
    "tags": []
   },
   "source": [
    "### Confusion matrix"
   ]
  },
  {
   "cell_type": "code",
   "execution_count": 8,
   "metadata": {},
   "outputs": [
    {
     "data": {
      "text/plain": [
       "array([[ 1,  6, 12],\n",
       "       [ 3,  6, 19],\n",
       "       [ 1,  8, 30]])"
      ]
     },
     "execution_count": 8,
     "metadata": {},
     "output_type": "execute_result"
    }
   ],
   "source": [
    "export_path = os.path.join(OUTPUT_DIR,'dropout{}_optimizer_{}_batch_size{}_epoch_no{}_hidden_dims{}_{}.csv'.format(dropout, optimizer,batch_size, epoch_no, hidden_dims,model_fp_suff))\n",
    "results = pd.read_csv(export_path)\n",
    "\n",
    "confusion_matrix(results['y_val'], results['pred'])"
   ]
  },
  {
   "cell_type": "markdown",
   "metadata": {},
   "source": [
    "### Classification report"
   ]
  },
  {
   "cell_type": "code",
   "execution_count": 9,
   "metadata": {},
   "outputs": [
    {
     "data": {
      "text/html": [
       "<div>\n",
       "<style scoped>\n",
       "    .dataframe tbody tr th:only-of-type {\n",
       "        vertical-align: middle;\n",
       "    }\n",
       "\n",
       "    .dataframe tbody tr th {\n",
       "        vertical-align: top;\n",
       "    }\n",
       "\n",
       "    .dataframe thead th {\n",
       "        text-align: right;\n",
       "    }\n",
       "</style>\n",
       "<table border=\"1\" class=\"dataframe\">\n",
       "  <thead>\n",
       "    <tr style=\"text-align: right;\">\n",
       "      <th></th>\n",
       "      <th>precision</th>\n",
       "      <th>recall</th>\n",
       "      <th>f1-score</th>\n",
       "      <th>support</th>\n",
       "    </tr>\n",
       "  </thead>\n",
       "  <tbody>\n",
       "    <tr>\n",
       "      <th>sent_0</th>\n",
       "      <td>0.200000</td>\n",
       "      <td>0.052632</td>\n",
       "      <td>0.083333</td>\n",
       "      <td>19.000000</td>\n",
       "    </tr>\n",
       "    <tr>\n",
       "      <th>sent_1</th>\n",
       "      <td>0.300000</td>\n",
       "      <td>0.214286</td>\n",
       "      <td>0.250000</td>\n",
       "      <td>28.000000</td>\n",
       "    </tr>\n",
       "    <tr>\n",
       "      <th>sent_2</th>\n",
       "      <td>0.491803</td>\n",
       "      <td>0.769231</td>\n",
       "      <td>0.600000</td>\n",
       "      <td>39.000000</td>\n",
       "    </tr>\n",
       "    <tr>\n",
       "      <th>accuracy</th>\n",
       "      <td>0.430233</td>\n",
       "      <td>0.430233</td>\n",
       "      <td>0.430233</td>\n",
       "      <td>0.430233</td>\n",
       "    </tr>\n",
       "    <tr>\n",
       "      <th>macro avg</th>\n",
       "      <td>0.330601</td>\n",
       "      <td>0.345383</td>\n",
       "      <td>0.311111</td>\n",
       "      <td>86.000000</td>\n",
       "    </tr>\n",
       "    <tr>\n",
       "      <th>weighted avg</th>\n",
       "      <td>0.364888</td>\n",
       "      <td>0.430233</td>\n",
       "      <td>0.371899</td>\n",
       "      <td>86.000000</td>\n",
       "    </tr>\n",
       "  </tbody>\n",
       "</table>\n",
       "</div>"
      ],
      "text/plain": [
       "              precision    recall  f1-score    support\n",
       "sent_0         0.200000  0.052632  0.083333  19.000000\n",
       "sent_1         0.300000  0.214286  0.250000  28.000000\n",
       "sent_2         0.491803  0.769231  0.600000  39.000000\n",
       "accuracy       0.430233  0.430233  0.430233   0.430233\n",
       "macro avg      0.330601  0.345383  0.311111  86.000000\n",
       "weighted avg   0.364888  0.430233  0.371899  86.000000"
      ]
     },
     "execution_count": 9,
     "metadata": {},
     "output_type": "execute_result"
    }
   ],
   "source": [
    "get_classification_report(results['y_val'], results['pred'])"
   ]
  },
  {
   "cell_type": "markdown",
   "metadata": {},
   "source": [
    "### 1960-gas"
   ]
  },
  {
   "cell_type": "code",
   "execution_count": 10,
   "metadata": {},
   "outputs": [
    {
     "name": "stdout",
     "output_type": "stream",
     "text": [
      "x_train shape: (290, 11600) , x_val shape: (143, 11600)\n",
      "y_train shape: (290, 3) , y_val shape: (143, 3)\n",
      "Model: \"model_2\"\n",
      "__________________________________________________________________________________________________\n",
      "Layer (type)                    Output Shape         Param #     Connected to                     \n",
      "==================================================================================================\n",
      "input_3 (InputLayer)            [(None, 11600)]      0                                            \n",
      "__________________________________________________________________________________________________\n",
      "embedding_10 (Embedding)        (None, 11600, 320)   3602560     input_3[0][0]                    \n",
      "__________________________________________________________________________________________________\n",
      "conv1d_4 (Conv1D)               (None, 11598, 128)   123008      embedding_10[0][0]               \n",
      "__________________________________________________________________________________________________\n",
      "conv1d_5 (Conv1D)               (None, 11593, 128)   327808      embedding_10[0][0]               \n",
      "__________________________________________________________________________________________________\n",
      "max_pooling1d_4 (MaxPooling1D)  (None, 5799, 128)    0           conv1d_4[0][0]                   \n",
      "__________________________________________________________________________________________________\n",
      "max_pooling1d_5 (MaxPooling1D)  (None, 5796, 128)    0           conv1d_5[0][0]                   \n",
      "__________________________________________________________________________________________________\n",
      "flatten_4 (Flatten)             (None, 742272)       0           max_pooling1d_4[0][0]            \n",
      "__________________________________________________________________________________________________\n",
      "flatten_5 (Flatten)             (None, 741888)       0           max_pooling1d_5[0][0]            \n",
      "__________________________________________________________________________________________________\n",
      "concatenate_2 (Concatenate)     (None, 1484160)      0           flatten_4[0][0]                  \n",
      "                                                                 flatten_5[0][0]                  \n",
      "__________________________________________________________________________________________________\n",
      "dropout_2 (Dropout)             (None, 1484160)      0           concatenate_2[0][0]              \n",
      "__________________________________________________________________________________________________\n",
      "dense_4 (Dense)                 (None, 50)           74208050    dropout_2[0][0]                  \n",
      "__________________________________________________________________________________________________\n",
      "dense_5 (Dense)                 (None, 3)            153         dense_4[0][0]                    \n",
      "==================================================================================================\n",
      "Total params: 78,261,579\n",
      "Trainable params: 74,659,019\n",
      "Non-trainable params: 3,602,560\n",
      "__________________________________________________________________________________________________\n"
     ]
    },
    {
     "data": {
      "text/plain": [
       "<cnn_model.CNN_Model at 0x7f22fdd01160>"
      ]
     },
     "execution_count": 10,
     "metadata": {},
     "output_type": "execute_result"
    }
   ],
   "source": [
    "dropout = (0.5,0.8)\n",
    "optimizer = 'adam'\n",
    "batch_size = 16\n",
    "epoch_no = 100\n",
    "hidden_dims=50\n",
    "model_fp_suff='1960_gas'\n",
    "train_model(dropout, optimizer, batch_size, epoch_no, hidden_dims,model_fp_suff=model_fp_suff, pkl_fp='1960_gas_hist_aware_pickle.pickle')"
   ]
  },
  {
   "cell_type": "markdown",
   "metadata": {
    "tags": []
   },
   "source": [
    "### Confusion matrix"
   ]
  },
  {
   "cell_type": "code",
   "execution_count": 11,
   "metadata": {},
   "outputs": [
    {
     "data": {
      "text/plain": [
       "array([[ 2,  5, 19],\n",
       "       [ 0,  6, 38],\n",
       "       [ 7,  4, 62]])"
      ]
     },
     "execution_count": 11,
     "metadata": {},
     "output_type": "execute_result"
    }
   ],
   "source": [
    "export_path = os.path.join(OUTPUT_DIR,'dropout{}_optimizer_{}_batch_size{}_epoch_no{}_hidden_dims{}_{}.csv'.format(dropout, optimizer,batch_size, epoch_no, hidden_dims,model_fp_suff))\n",
    "results = pd.read_csv(export_path)\n",
    "\n",
    "confusion_matrix(results['y_val'], results['pred'])"
   ]
  },
  {
   "cell_type": "markdown",
   "metadata": {},
   "source": [
    "### Classification report"
   ]
  },
  {
   "cell_type": "code",
   "execution_count": 12,
   "metadata": {},
   "outputs": [
    {
     "data": {
      "text/html": [
       "<div>\n",
       "<style scoped>\n",
       "    .dataframe tbody tr th:only-of-type {\n",
       "        vertical-align: middle;\n",
       "    }\n",
       "\n",
       "    .dataframe tbody tr th {\n",
       "        vertical-align: top;\n",
       "    }\n",
       "\n",
       "    .dataframe thead th {\n",
       "        text-align: right;\n",
       "    }\n",
       "</style>\n",
       "<table border=\"1\" class=\"dataframe\">\n",
       "  <thead>\n",
       "    <tr style=\"text-align: right;\">\n",
       "      <th></th>\n",
       "      <th>precision</th>\n",
       "      <th>recall</th>\n",
       "      <th>f1-score</th>\n",
       "      <th>support</th>\n",
       "    </tr>\n",
       "  </thead>\n",
       "  <tbody>\n",
       "    <tr>\n",
       "      <th>sent_0</th>\n",
       "      <td>0.222222</td>\n",
       "      <td>0.076923</td>\n",
       "      <td>0.114286</td>\n",
       "      <td>26.00000</td>\n",
       "    </tr>\n",
       "    <tr>\n",
       "      <th>sent_1</th>\n",
       "      <td>0.400000</td>\n",
       "      <td>0.136364</td>\n",
       "      <td>0.203390</td>\n",
       "      <td>44.00000</td>\n",
       "    </tr>\n",
       "    <tr>\n",
       "      <th>sent_2</th>\n",
       "      <td>0.521008</td>\n",
       "      <td>0.849315</td>\n",
       "      <td>0.645833</td>\n",
       "      <td>73.00000</td>\n",
       "    </tr>\n",
       "    <tr>\n",
       "      <th>accuracy</th>\n",
       "      <td>0.489510</td>\n",
       "      <td>0.489510</td>\n",
       "      <td>0.489510</td>\n",
       "      <td>0.48951</td>\n",
       "    </tr>\n",
       "    <tr>\n",
       "      <th>macro avg</th>\n",
       "      <td>0.381077</td>\n",
       "      <td>0.354201</td>\n",
       "      <td>0.321170</td>\n",
       "      <td>143.00000</td>\n",
       "    </tr>\n",
       "    <tr>\n",
       "      <th>weighted avg</th>\n",
       "      <td>0.429450</td>\n",
       "      <td>0.489510</td>\n",
       "      <td>0.413052</td>\n",
       "      <td>143.00000</td>\n",
       "    </tr>\n",
       "  </tbody>\n",
       "</table>\n",
       "</div>"
      ],
      "text/plain": [
       "              precision    recall  f1-score    support\n",
       "sent_0         0.222222  0.076923  0.114286   26.00000\n",
       "sent_1         0.400000  0.136364  0.203390   44.00000\n",
       "sent_2         0.521008  0.849315  0.645833   73.00000\n",
       "accuracy       0.489510  0.489510  0.489510    0.48951\n",
       "macro avg      0.381077  0.354201  0.321170  143.00000\n",
       "weighted avg   0.429450  0.489510  0.413052  143.00000"
      ]
     },
     "execution_count": 12,
     "metadata": {},
     "output_type": "execute_result"
    }
   ],
   "source": [
    "get_classification_report(results['y_val'], results['pred'])"
   ]
  },
  {
   "cell_type": "markdown",
   "metadata": {},
   "source": [
    "### 1970-oil"
   ]
  },
  {
   "cell_type": "code",
   "execution_count": 20,
   "metadata": {},
   "outputs": [
    {
     "name": "stdout",
     "output_type": "stream",
     "text": [
      "x_train shape: (335, 11600) , x_val shape: (165, 11600)\n",
      "y_train shape: (335, 3) , y_val shape: (165, 3)\n",
      "Model: \"model\"\n",
      "__________________________________________________________________________________________________\n",
      "Layer (type)                    Output Shape         Param #     Connected to                     \n",
      "==================================================================================================\n",
      "input_1 (InputLayer)            [(None, 11600)]      0                                            \n",
      "__________________________________________________________________________________________________\n",
      "embedding_5 (Embedding)         (None, 11600, 320)   4488000     input_1[0][0]                    \n",
      "__________________________________________________________________________________________________\n",
      "conv1d (Conv1D)                 (None, 11598, 128)   123008      embedding_5[0][0]                \n",
      "__________________________________________________________________________________________________\n",
      "conv1d_1 (Conv1D)               (None, 11593, 128)   327808      embedding_5[0][0]                \n",
      "__________________________________________________________________________________________________\n",
      "max_pooling1d (MaxPooling1D)    (None, 5799, 128)    0           conv1d[0][0]                     \n",
      "__________________________________________________________________________________________________\n",
      "max_pooling1d_1 (MaxPooling1D)  (None, 5796, 128)    0           conv1d_1[0][0]                   \n",
      "__________________________________________________________________________________________________\n",
      "flatten (Flatten)               (None, 742272)       0           max_pooling1d[0][0]              \n",
      "__________________________________________________________________________________________________\n",
      "flatten_1 (Flatten)             (None, 741888)       0           max_pooling1d_1[0][0]            \n",
      "__________________________________________________________________________________________________\n",
      "concatenate (Concatenate)       (None, 1484160)      0           flatten[0][0]                    \n",
      "                                                                 flatten_1[0][0]                  \n",
      "__________________________________________________________________________________________________\n",
      "dropout (Dropout)               (None, 1484160)      0           concatenate[0][0]                \n",
      "__________________________________________________________________________________________________\n",
      "dense (Dense)                   (None, 50)           74208050    dropout[0][0]                    \n",
      "__________________________________________________________________________________________________\n",
      "dense_1 (Dense)                 (None, 3)            153         dense[0][0]                      \n",
      "==================================================================================================\n",
      "Total params: 79,147,019\n",
      "Trainable params: 74,659,019\n",
      "Non-trainable params: 4,488,000\n",
      "__________________________________________________________________________________________________\n"
     ]
    },
    {
     "data": {
      "text/plain": [
       "<cnn_model.CNN_Model at 0x7fdc7e5bbfd0>"
      ]
     },
     "execution_count": 20,
     "metadata": {},
     "output_type": "execute_result"
    }
   ],
   "source": [
    "dropout = (0.5,0.8)\n",
    "optimizer = 'adam'\n",
    "batch_size = 16\n",
    "epoch_no = 100\n",
    "hidden_dims=50\n",
    "model_fp_suff='1970_oil'\n",
    "train_model(dropout, optimizer, batch_size, epoch_no, hidden_dims,model_fp_suff=model_fp_suff, pkl_fp='1970_oil_hist_aware_pickle.pickle')"
   ]
  },
  {
   "cell_type": "markdown",
   "metadata": {
    "tags": []
   },
   "source": [
    "### Confusion matrix"
   ]
  },
  {
   "cell_type": "code",
   "execution_count": 21,
   "metadata": {},
   "outputs": [
    {
     "data": {
      "text/plain": [
       "array([[65,  7, 14],\n",
       "       [17, 11,  7],\n",
       "       [21,  8, 15]])"
      ]
     },
     "execution_count": 21,
     "metadata": {},
     "output_type": "execute_result"
    }
   ],
   "source": [
    "export_path = os.path.join(OUTPUT_DIR,'dropout{}_optimizer_{}_batch_size{}_epoch_no{}_hidden_dims{}_{}.csv'.format(dropout, optimizer,batch_size, epoch_no, hidden_dims,model_fp_suff))\n",
    "results = pd.read_csv(export_path)\n",
    "\n",
    "confusion_matrix(results['y_val'], results['pred'])"
   ]
  },
  {
   "cell_type": "markdown",
   "metadata": {},
   "source": [
    "### Classification report"
   ]
  },
  {
   "cell_type": "code",
   "execution_count": 22,
   "metadata": {},
   "outputs": [
    {
     "data": {
      "text/html": [
       "<div>\n",
       "<style scoped>\n",
       "    .dataframe tbody tr th:only-of-type {\n",
       "        vertical-align: middle;\n",
       "    }\n",
       "\n",
       "    .dataframe tbody tr th {\n",
       "        vertical-align: top;\n",
       "    }\n",
       "\n",
       "    .dataframe thead th {\n",
       "        text-align: right;\n",
       "    }\n",
       "</style>\n",
       "<table border=\"1\" class=\"dataframe\">\n",
       "  <thead>\n",
       "    <tr style=\"text-align: right;\">\n",
       "      <th></th>\n",
       "      <th>precision</th>\n",
       "      <th>recall</th>\n",
       "      <th>f1-score</th>\n",
       "      <th>support</th>\n",
       "    </tr>\n",
       "  </thead>\n",
       "  <tbody>\n",
       "    <tr>\n",
       "      <th>sent_0</th>\n",
       "      <td>0.631068</td>\n",
       "      <td>0.755814</td>\n",
       "      <td>0.687831</td>\n",
       "      <td>86.000000</td>\n",
       "    </tr>\n",
       "    <tr>\n",
       "      <th>sent_1</th>\n",
       "      <td>0.423077</td>\n",
       "      <td>0.314286</td>\n",
       "      <td>0.360656</td>\n",
       "      <td>35.000000</td>\n",
       "    </tr>\n",
       "    <tr>\n",
       "      <th>sent_2</th>\n",
       "      <td>0.416667</td>\n",
       "      <td>0.340909</td>\n",
       "      <td>0.375000</td>\n",
       "      <td>44.000000</td>\n",
       "    </tr>\n",
       "    <tr>\n",
       "      <th>accuracy</th>\n",
       "      <td>0.551515</td>\n",
       "      <td>0.551515</td>\n",
       "      <td>0.551515</td>\n",
       "      <td>0.551515</td>\n",
       "    </tr>\n",
       "    <tr>\n",
       "      <th>macro avg</th>\n",
       "      <td>0.490271</td>\n",
       "      <td>0.470336</td>\n",
       "      <td>0.474495</td>\n",
       "      <td>165.000000</td>\n",
       "    </tr>\n",
       "    <tr>\n",
       "      <th>weighted avg</th>\n",
       "      <td>0.529775</td>\n",
       "      <td>0.551515</td>\n",
       "      <td>0.535008</td>\n",
       "      <td>165.000000</td>\n",
       "    </tr>\n",
       "  </tbody>\n",
       "</table>\n",
       "</div>"
      ],
      "text/plain": [
       "              precision    recall  f1-score     support\n",
       "sent_0         0.631068  0.755814  0.687831   86.000000\n",
       "sent_1         0.423077  0.314286  0.360656   35.000000\n",
       "sent_2         0.416667  0.340909  0.375000   44.000000\n",
       "accuracy       0.551515  0.551515  0.551515    0.551515\n",
       "macro avg      0.490271  0.470336  0.474495  165.000000\n",
       "weighted avg   0.529775  0.551515  0.535008  165.000000"
      ]
     },
     "execution_count": 22,
     "metadata": {},
     "output_type": "execute_result"
    }
   ],
   "source": [
    "get_classification_report(results['y_val'], results['pred'])"
   ]
  },
  {
   "cell_type": "markdown",
   "metadata": {},
   "source": [
    "### 1970-coal"
   ]
  },
  {
   "cell_type": "code",
   "execution_count": 23,
   "metadata": {},
   "outputs": [
    {
     "name": "stdout",
     "output_type": "stream",
     "text": [
      "x_train shape: (230, 11600) , x_val shape: (114, 11600)\n",
      "y_train shape: (230, 3) , y_val shape: (114, 3)\n",
      "Model: \"model_1\"\n",
      "__________________________________________________________________________________________________\n",
      "Layer (type)                    Output Shape         Param #     Connected to                     \n",
      "==================================================================================================\n",
      "input_2 (InputLayer)            [(None, 11600)]      0                                            \n",
      "__________________________________________________________________________________________________\n",
      "embedding (Embedding)           (None, 11600, 320)   2252480     input_2[0][0]                    \n",
      "__________________________________________________________________________________________________\n",
      "conv1d_2 (Conv1D)               (None, 11598, 128)   123008      embedding[0][0]                  \n",
      "__________________________________________________________________________________________________\n",
      "conv1d_3 (Conv1D)               (None, 11593, 128)   327808      embedding[0][0]                  \n",
      "__________________________________________________________________________________________________\n",
      "max_pooling1d_2 (MaxPooling1D)  (None, 5799, 128)    0           conv1d_2[0][0]                   \n",
      "__________________________________________________________________________________________________\n",
      "max_pooling1d_3 (MaxPooling1D)  (None, 5796, 128)    0           conv1d_3[0][0]                   \n",
      "__________________________________________________________________________________________________\n",
      "flatten_2 (Flatten)             (None, 742272)       0           max_pooling1d_2[0][0]            \n",
      "__________________________________________________________________________________________________\n",
      "flatten_3 (Flatten)             (None, 741888)       0           max_pooling1d_3[0][0]            \n",
      "__________________________________________________________________________________________________\n",
      "concatenate_1 (Concatenate)     (None, 1484160)      0           flatten_2[0][0]                  \n",
      "                                                                 flatten_3[0][0]                  \n",
      "__________________________________________________________________________________________________\n",
      "dropout_1 (Dropout)             (None, 1484160)      0           concatenate_1[0][0]              \n",
      "__________________________________________________________________________________________________\n",
      "dense_2 (Dense)                 (None, 50)           74208050    dropout_1[0][0]                  \n",
      "__________________________________________________________________________________________________\n",
      "dense_3 (Dense)                 (None, 3)            153         dense_2[0][0]                    \n",
      "==================================================================================================\n",
      "Total params: 76,911,499\n",
      "Trainable params: 74,659,019\n",
      "Non-trainable params: 2,252,480\n",
      "__________________________________________________________________________________________________\n"
     ]
    }
   ],
   "source": [
    "dropout = (0.5,0.8)\n",
    "optimizer = 'adam'\n",
    "batch_size = 16\n",
    "epoch_no = 100\n",
    "hidden_dims=50\n",
    "model_fp_suff='1970_coal'\n",
    "model = train_model(dropout, optimizer, batch_size, epoch_no, hidden_dims,model_fp_suff=model_fp_suff, pkl_fp='1970_coal_hist_aware_pickle.pickle')"
   ]
  },
  {
   "cell_type": "markdown",
   "metadata": {
    "tags": []
   },
   "source": [
    "### Confusion matrix"
   ]
  },
  {
   "cell_type": "code",
   "execution_count": 24,
   "metadata": {},
   "outputs": [
    {
     "data": {
      "text/plain": [
       "array([[ 1,  0, 15],\n",
       "       [ 0,  1,  5],\n",
       "       [ 1,  0, 91]])"
      ]
     },
     "execution_count": 24,
     "metadata": {},
     "output_type": "execute_result"
    }
   ],
   "source": [
    "export_path = os.path.join(OUTPUT_DIR,'dropout{}_optimizer_{}_batch_size{}_epoch_no{}_hidden_dims{}_{}.csv'.format(dropout, optimizer,batch_size, epoch_no, hidden_dims,model_fp_suff))\n",
    "results = pd.read_csv(export_path)\n",
    "\n",
    "confusion_matrix(results['y_val'], results['pred'])"
   ]
  },
  {
   "cell_type": "markdown",
   "metadata": {},
   "source": [
    "### Classification report"
   ]
  },
  {
   "cell_type": "code",
   "execution_count": 25,
   "metadata": {},
   "outputs": [
    {
     "data": {
      "text/html": [
       "<div>\n",
       "<style scoped>\n",
       "    .dataframe tbody tr th:only-of-type {\n",
       "        vertical-align: middle;\n",
       "    }\n",
       "\n",
       "    .dataframe tbody tr th {\n",
       "        vertical-align: top;\n",
       "    }\n",
       "\n",
       "    .dataframe thead th {\n",
       "        text-align: right;\n",
       "    }\n",
       "</style>\n",
       "<table border=\"1\" class=\"dataframe\">\n",
       "  <thead>\n",
       "    <tr style=\"text-align: right;\">\n",
       "      <th></th>\n",
       "      <th>precision</th>\n",
       "      <th>recall</th>\n",
       "      <th>f1-score</th>\n",
       "      <th>support</th>\n",
       "    </tr>\n",
       "  </thead>\n",
       "  <tbody>\n",
       "    <tr>\n",
       "      <th>sent_0</th>\n",
       "      <td>0.500000</td>\n",
       "      <td>0.062500</td>\n",
       "      <td>0.111111</td>\n",
       "      <td>16.000000</td>\n",
       "    </tr>\n",
       "    <tr>\n",
       "      <th>sent_1</th>\n",
       "      <td>1.000000</td>\n",
       "      <td>0.166667</td>\n",
       "      <td>0.285714</td>\n",
       "      <td>6.000000</td>\n",
       "    </tr>\n",
       "    <tr>\n",
       "      <th>sent_2</th>\n",
       "      <td>0.819820</td>\n",
       "      <td>0.989130</td>\n",
       "      <td>0.896552</td>\n",
       "      <td>92.000000</td>\n",
       "    </tr>\n",
       "    <tr>\n",
       "      <th>accuracy</th>\n",
       "      <td>0.815789</td>\n",
       "      <td>0.815789</td>\n",
       "      <td>0.815789</td>\n",
       "      <td>0.815789</td>\n",
       "    </tr>\n",
       "    <tr>\n",
       "      <th>macro avg</th>\n",
       "      <td>0.773273</td>\n",
       "      <td>0.406099</td>\n",
       "      <td>0.431126</td>\n",
       "      <td>114.000000</td>\n",
       "    </tr>\n",
       "    <tr>\n",
       "      <th>weighted avg</th>\n",
       "      <td>0.784416</td>\n",
       "      <td>0.815789</td>\n",
       "      <td>0.754165</td>\n",
       "      <td>114.000000</td>\n",
       "    </tr>\n",
       "  </tbody>\n",
       "</table>\n",
       "</div>"
      ],
      "text/plain": [
       "              precision    recall  f1-score     support\n",
       "sent_0         0.500000  0.062500  0.111111   16.000000\n",
       "sent_1         1.000000  0.166667  0.285714    6.000000\n",
       "sent_2         0.819820  0.989130  0.896552   92.000000\n",
       "accuracy       0.815789  0.815789  0.815789    0.815789\n",
       "macro avg      0.773273  0.406099  0.431126  114.000000\n",
       "weighted avg   0.784416  0.815789  0.754165  114.000000"
      ]
     },
     "execution_count": 25,
     "metadata": {},
     "output_type": "execute_result"
    }
   ],
   "source": [
    "get_classification_report(results['y_val'], results['pred'])"
   ]
  },
  {
   "cell_type": "markdown",
   "metadata": {},
   "source": [
    "### 1970-gas"
   ]
  },
  {
   "cell_type": "code",
   "execution_count": 26,
   "metadata": {},
   "outputs": [
    {
     "name": "stdout",
     "output_type": "stream",
     "text": [
      "x_train shape: (119, 11600) , x_val shape: (60, 11600)\n",
      "y_train shape: (119, 3) , y_val shape: (60, 3)\n",
      "Model: \"model_2\"\n",
      "__________________________________________________________________________________________________\n",
      "Layer (type)                    Output Shape         Param #     Connected to                     \n",
      "==================================================================================================\n",
      "input_3 (InputLayer)            [(None, 11600)]      0                                            \n",
      "__________________________________________________________________________________________________\n",
      "embedding_1 (Embedding)         (None, 11600, 320)   1951040     input_3[0][0]                    \n",
      "__________________________________________________________________________________________________\n",
      "conv1d_4 (Conv1D)               (None, 11598, 128)   123008      embedding_1[0][0]                \n",
      "__________________________________________________________________________________________________\n",
      "conv1d_5 (Conv1D)               (None, 11593, 128)   327808      embedding_1[0][0]                \n",
      "__________________________________________________________________________________________________\n",
      "max_pooling1d_4 (MaxPooling1D)  (None, 5799, 128)    0           conv1d_4[0][0]                   \n",
      "__________________________________________________________________________________________________\n",
      "max_pooling1d_5 (MaxPooling1D)  (None, 5796, 128)    0           conv1d_5[0][0]                   \n",
      "__________________________________________________________________________________________________\n",
      "flatten_4 (Flatten)             (None, 742272)       0           max_pooling1d_4[0][0]            \n",
      "__________________________________________________________________________________________________\n",
      "flatten_5 (Flatten)             (None, 741888)       0           max_pooling1d_5[0][0]            \n",
      "__________________________________________________________________________________________________\n",
      "concatenate_2 (Concatenate)     (None, 1484160)      0           flatten_4[0][0]                  \n",
      "                                                                 flatten_5[0][0]                  \n",
      "__________________________________________________________________________________________________\n",
      "dropout_2 (Dropout)             (None, 1484160)      0           concatenate_2[0][0]              \n",
      "__________________________________________________________________________________________________\n",
      "dense_4 (Dense)                 (None, 50)           74208050    dropout_2[0][0]                  \n",
      "__________________________________________________________________________________________________\n",
      "dense_5 (Dense)                 (None, 3)            153         dense_4[0][0]                    \n",
      "==================================================================================================\n",
      "Total params: 76,610,059\n",
      "Trainable params: 74,659,019\n",
      "Non-trainable params: 1,951,040\n",
      "__________________________________________________________________________________________________\n"
     ]
    },
    {
     "data": {
      "text/plain": [
       "<cnn_model.CNN_Model at 0x7fdc70d426a0>"
      ]
     },
     "execution_count": 26,
     "metadata": {},
     "output_type": "execute_result"
    }
   ],
   "source": [
    "dropout = (0.5,0.8)\n",
    "optimizer = 'adam'\n",
    "batch_size = 16\n",
    "epoch_no = 100\n",
    "hidden_dims=50\n",
    "model_fp_suff='1970_gas'\n",
    "train_model(dropout, optimizer, batch_size, epoch_no, hidden_dims,model_fp_suff=model_fp_suff, pkl_fp='1970_gas_hist_aware_pickle.pickle')"
   ]
  },
  {
   "cell_type": "markdown",
   "metadata": {
    "tags": []
   },
   "source": [
    "### Confusion matrix"
   ]
  },
  {
   "cell_type": "code",
   "execution_count": 27,
   "metadata": {},
   "outputs": [
    {
     "data": {
      "text/plain": [
       "array([[ 8,  2,  8],\n",
       "       [ 1,  1,  5],\n",
       "       [ 9,  1, 25]])"
      ]
     },
     "execution_count": 27,
     "metadata": {},
     "output_type": "execute_result"
    }
   ],
   "source": [
    "export_path = os.path.join(OUTPUT_DIR,'dropout{}_optimizer_{}_batch_size{}_epoch_no{}_hidden_dims{}_{}.csv'.format(dropout, optimizer,batch_size, epoch_no, hidden_dims,model_fp_suff))\n",
    "results = pd.read_csv(export_path)\n",
    "\n",
    "confusion_matrix(results['y_val'], results['pred'])"
   ]
  },
  {
   "cell_type": "markdown",
   "metadata": {},
   "source": [
    "### Classification report"
   ]
  },
  {
   "cell_type": "code",
   "execution_count": 28,
   "metadata": {},
   "outputs": [
    {
     "data": {
      "text/html": [
       "<div>\n",
       "<style scoped>\n",
       "    .dataframe tbody tr th:only-of-type {\n",
       "        vertical-align: middle;\n",
       "    }\n",
       "\n",
       "    .dataframe tbody tr th {\n",
       "        vertical-align: top;\n",
       "    }\n",
       "\n",
       "    .dataframe thead th {\n",
       "        text-align: right;\n",
       "    }\n",
       "</style>\n",
       "<table border=\"1\" class=\"dataframe\">\n",
       "  <thead>\n",
       "    <tr style=\"text-align: right;\">\n",
       "      <th></th>\n",
       "      <th>precision</th>\n",
       "      <th>recall</th>\n",
       "      <th>f1-score</th>\n",
       "      <th>support</th>\n",
       "    </tr>\n",
       "  </thead>\n",
       "  <tbody>\n",
       "    <tr>\n",
       "      <th>sent_0</th>\n",
       "      <td>0.444444</td>\n",
       "      <td>0.444444</td>\n",
       "      <td>0.444444</td>\n",
       "      <td>18.000000</td>\n",
       "    </tr>\n",
       "    <tr>\n",
       "      <th>sent_1</th>\n",
       "      <td>0.250000</td>\n",
       "      <td>0.142857</td>\n",
       "      <td>0.181818</td>\n",
       "      <td>7.000000</td>\n",
       "    </tr>\n",
       "    <tr>\n",
       "      <th>sent_2</th>\n",
       "      <td>0.657895</td>\n",
       "      <td>0.714286</td>\n",
       "      <td>0.684932</td>\n",
       "      <td>35.000000</td>\n",
       "    </tr>\n",
       "    <tr>\n",
       "      <th>accuracy</th>\n",
       "      <td>0.566667</td>\n",
       "      <td>0.566667</td>\n",
       "      <td>0.566667</td>\n",
       "      <td>0.566667</td>\n",
       "    </tr>\n",
       "    <tr>\n",
       "      <th>macro avg</th>\n",
       "      <td>0.450780</td>\n",
       "      <td>0.433862</td>\n",
       "      <td>0.437065</td>\n",
       "      <td>60.000000</td>\n",
       "    </tr>\n",
       "    <tr>\n",
       "      <th>weighted avg</th>\n",
       "      <td>0.546272</td>\n",
       "      <td>0.566667</td>\n",
       "      <td>0.554089</td>\n",
       "      <td>60.000000</td>\n",
       "    </tr>\n",
       "  </tbody>\n",
       "</table>\n",
       "</div>"
      ],
      "text/plain": [
       "              precision    recall  f1-score    support\n",
       "sent_0         0.444444  0.444444  0.444444  18.000000\n",
       "sent_1         0.250000  0.142857  0.181818   7.000000\n",
       "sent_2         0.657895  0.714286  0.684932  35.000000\n",
       "accuracy       0.566667  0.566667  0.566667   0.566667\n",
       "macro avg      0.450780  0.433862  0.437065  60.000000\n",
       "weighted avg   0.546272  0.566667  0.554089  60.000000"
      ]
     },
     "execution_count": 28,
     "metadata": {},
     "output_type": "execute_result"
    }
   ],
   "source": [
    "get_classification_report(results['y_val'], results['pred'])"
   ]
  },
  {
   "cell_type": "markdown",
   "metadata": {
    "tags": []
   },
   "source": [
    "### 1980-oil"
   ]
  },
  {
   "cell_type": "code",
   "execution_count": 29,
   "metadata": {},
   "outputs": [
    {
     "name": "stdout",
     "output_type": "stream",
     "text": [
      "x_train shape: (324, 11600) , x_val shape: (160, 11600)\n",
      "y_train shape: (324, 3) , y_val shape: (160, 3)\n",
      "Model: \"model_3\"\n",
      "__________________________________________________________________________________________________\n",
      "Layer (type)                    Output Shape         Param #     Connected to                     \n",
      "==================================================================================================\n",
      "input_4 (InputLayer)            [(None, 11600)]      0                                            \n",
      "__________________________________________________________________________________________________\n",
      "embedding_2 (Embedding)         (None, 11600, 320)   3922880     input_4[0][0]                    \n",
      "__________________________________________________________________________________________________\n",
      "conv1d_6 (Conv1D)               (None, 11598, 128)   123008      embedding_2[0][0]                \n",
      "__________________________________________________________________________________________________\n",
      "conv1d_7 (Conv1D)               (None, 11593, 128)   327808      embedding_2[0][0]                \n",
      "__________________________________________________________________________________________________\n",
      "max_pooling1d_6 (MaxPooling1D)  (None, 5799, 128)    0           conv1d_6[0][0]                   \n",
      "__________________________________________________________________________________________________\n",
      "max_pooling1d_7 (MaxPooling1D)  (None, 5796, 128)    0           conv1d_7[0][0]                   \n",
      "__________________________________________________________________________________________________\n",
      "flatten_6 (Flatten)             (None, 742272)       0           max_pooling1d_6[0][0]            \n",
      "__________________________________________________________________________________________________\n",
      "flatten_7 (Flatten)             (None, 741888)       0           max_pooling1d_7[0][0]            \n",
      "__________________________________________________________________________________________________\n",
      "concatenate_3 (Concatenate)     (None, 1484160)      0           flatten_6[0][0]                  \n",
      "                                                                 flatten_7[0][0]                  \n",
      "__________________________________________________________________________________________________\n",
      "dropout_3 (Dropout)             (None, 1484160)      0           concatenate_3[0][0]              \n",
      "__________________________________________________________________________________________________\n",
      "dense_6 (Dense)                 (None, 50)           74208050    dropout_3[0][0]                  \n",
      "__________________________________________________________________________________________________\n",
      "dense_7 (Dense)                 (None, 3)            153         dense_6[0][0]                    \n",
      "==================================================================================================\n",
      "Total params: 78,581,899\n",
      "Trainable params: 74,659,019\n",
      "Non-trainable params: 3,922,880\n",
      "__________________________________________________________________________________________________\n"
     ]
    },
    {
     "data": {
      "text/plain": [
       "<cnn_model.CNN_Model at 0x7fdc713a3df0>"
      ]
     },
     "execution_count": 29,
     "metadata": {},
     "output_type": "execute_result"
    }
   ],
   "source": [
    "dropout = (0.5,0.8)\n",
    "optimizer = 'adam'\n",
    "batch_size = 16\n",
    "epoch_no = 100\n",
    "hidden_dims=50\n",
    "model_fp_suff='1980_oil'\n",
    "train_model(dropout, optimizer, batch_size, epoch_no, hidden_dims,model_fp_suff=model_fp_suff, pkl_fp='1980_oil_hist_aware_pickle.pickle')"
   ]
  },
  {
   "cell_type": "markdown",
   "metadata": {},
   "source": [
    "### Confusion matrix"
   ]
  },
  {
   "cell_type": "code",
   "execution_count": 30,
   "metadata": {},
   "outputs": [
    {
     "data": {
      "text/plain": [
       "array([[60, 10,  9],\n",
       "       [22, 10,  5],\n",
       "       [27,  2, 15]])"
      ]
     },
     "execution_count": 30,
     "metadata": {},
     "output_type": "execute_result"
    }
   ],
   "source": [
    "export_path = os.path.join(OUTPUT_DIR,'dropout{}_optimizer_{}_batch_size{}_epoch_no{}_hidden_dims{}_{}.csv'.format(dropout, optimizer,batch_size, epoch_no, hidden_dims,model_fp_suff))\n",
    "results = pd.read_csv(export_path)\n",
    "\n",
    "confusion_matrix(results['y_val'], results['pred'])"
   ]
  },
  {
   "cell_type": "markdown",
   "metadata": {},
   "source": [
    "### Classification report"
   ]
  },
  {
   "cell_type": "code",
   "execution_count": 31,
   "metadata": {},
   "outputs": [
    {
     "data": {
      "text/html": [
       "<div>\n",
       "<style scoped>\n",
       "    .dataframe tbody tr th:only-of-type {\n",
       "        vertical-align: middle;\n",
       "    }\n",
       "\n",
       "    .dataframe tbody tr th {\n",
       "        vertical-align: top;\n",
       "    }\n",
       "\n",
       "    .dataframe thead th {\n",
       "        text-align: right;\n",
       "    }\n",
       "</style>\n",
       "<table border=\"1\" class=\"dataframe\">\n",
       "  <thead>\n",
       "    <tr style=\"text-align: right;\">\n",
       "      <th></th>\n",
       "      <th>precision</th>\n",
       "      <th>recall</th>\n",
       "      <th>f1-score</th>\n",
       "      <th>support</th>\n",
       "    </tr>\n",
       "  </thead>\n",
       "  <tbody>\n",
       "    <tr>\n",
       "      <th>sent_0</th>\n",
       "      <td>0.550459</td>\n",
       "      <td>0.759494</td>\n",
       "      <td>0.638298</td>\n",
       "      <td>79.00000</td>\n",
       "    </tr>\n",
       "    <tr>\n",
       "      <th>sent_1</th>\n",
       "      <td>0.454545</td>\n",
       "      <td>0.270270</td>\n",
       "      <td>0.338983</td>\n",
       "      <td>37.00000</td>\n",
       "    </tr>\n",
       "    <tr>\n",
       "      <th>sent_2</th>\n",
       "      <td>0.517241</td>\n",
       "      <td>0.340909</td>\n",
       "      <td>0.410959</td>\n",
       "      <td>44.00000</td>\n",
       "    </tr>\n",
       "    <tr>\n",
       "      <th>accuracy</th>\n",
       "      <td>0.531250</td>\n",
       "      <td>0.531250</td>\n",
       "      <td>0.531250</td>\n",
       "      <td>0.53125</td>\n",
       "    </tr>\n",
       "    <tr>\n",
       "      <th>macro avg</th>\n",
       "      <td>0.507415</td>\n",
       "      <td>0.456891</td>\n",
       "      <td>0.462747</td>\n",
       "      <td>160.00000</td>\n",
       "    </tr>\n",
       "    <tr>\n",
       "      <th>weighted avg</th>\n",
       "      <td>0.519144</td>\n",
       "      <td>0.531250</td>\n",
       "      <td>0.506563</td>\n",
       "      <td>160.00000</td>\n",
       "    </tr>\n",
       "  </tbody>\n",
       "</table>\n",
       "</div>"
      ],
      "text/plain": [
       "              precision    recall  f1-score    support\n",
       "sent_0         0.550459  0.759494  0.638298   79.00000\n",
       "sent_1         0.454545  0.270270  0.338983   37.00000\n",
       "sent_2         0.517241  0.340909  0.410959   44.00000\n",
       "accuracy       0.531250  0.531250  0.531250    0.53125\n",
       "macro avg      0.507415  0.456891  0.462747  160.00000\n",
       "weighted avg   0.519144  0.531250  0.506563  160.00000"
      ]
     },
     "execution_count": 31,
     "metadata": {},
     "output_type": "execute_result"
    }
   ],
   "source": [
    "get_classification_report(results['y_val'], results['pred'])"
   ]
  },
  {
   "cell_type": "markdown",
   "metadata": {
    "tags": []
   },
   "source": [
    "### 1980-coal"
   ]
  },
  {
   "cell_type": "code",
   "execution_count": 32,
   "metadata": {},
   "outputs": [
    {
     "name": "stdout",
     "output_type": "stream",
     "text": [
      "x_train shape: (217, 11600) , x_val shape: (108, 11600)\n",
      "y_train shape: (217, 3) , y_val shape: (108, 3)\n",
      "Model: \"model_4\"\n",
      "__________________________________________________________________________________________________\n",
      "Layer (type)                    Output Shape         Param #     Connected to                     \n",
      "==================================================================================================\n",
      "input_5 (InputLayer)            [(None, 11600)]      0                                            \n",
      "__________________________________________________________________________________________________\n",
      "embedding_3 (Embedding)         (None, 11600, 320)   2482240     input_5[0][0]                    \n",
      "__________________________________________________________________________________________________\n",
      "conv1d_8 (Conv1D)               (None, 11598, 128)   123008      embedding_3[0][0]                \n",
      "__________________________________________________________________________________________________\n",
      "conv1d_9 (Conv1D)               (None, 11593, 128)   327808      embedding_3[0][0]                \n",
      "__________________________________________________________________________________________________\n",
      "max_pooling1d_8 (MaxPooling1D)  (None, 5799, 128)    0           conv1d_8[0][0]                   \n",
      "__________________________________________________________________________________________________\n",
      "max_pooling1d_9 (MaxPooling1D)  (None, 5796, 128)    0           conv1d_9[0][0]                   \n",
      "__________________________________________________________________________________________________\n",
      "flatten_8 (Flatten)             (None, 742272)       0           max_pooling1d_8[0][0]            \n",
      "__________________________________________________________________________________________________\n",
      "flatten_9 (Flatten)             (None, 741888)       0           max_pooling1d_9[0][0]            \n",
      "__________________________________________________________________________________________________\n",
      "concatenate_4 (Concatenate)     (None, 1484160)      0           flatten_8[0][0]                  \n",
      "                                                                 flatten_9[0][0]                  \n",
      "__________________________________________________________________________________________________\n",
      "dropout_4 (Dropout)             (None, 1484160)      0           concatenate_4[0][0]              \n",
      "__________________________________________________________________________________________________\n",
      "dense_8 (Dense)                 (None, 50)           74208050    dropout_4[0][0]                  \n",
      "__________________________________________________________________________________________________\n",
      "dense_9 (Dense)                 (None, 3)            153         dense_8[0][0]                    \n",
      "==================================================================================================\n",
      "Total params: 77,141,259\n",
      "Trainable params: 74,659,019\n",
      "Non-trainable params: 2,482,240\n",
      "__________________________________________________________________________________________________\n"
     ]
    },
    {
     "data": {
      "text/plain": [
       "<cnn_model.CNN_Model at 0x7fdc6f922850>"
      ]
     },
     "execution_count": 32,
     "metadata": {},
     "output_type": "execute_result"
    }
   ],
   "source": [
    "dropout = (0.5,0.8)\n",
    "optimizer = 'adam'\n",
    "batch_size = 16\n",
    "epoch_no = 100\n",
    "hidden_dims=50\n",
    "model_fp_suff='1980_coal'\n",
    "train_model(dropout, optimizer, batch_size, epoch_no, hidden_dims,model_fp_suff=model_fp_suff, pkl_fp='1980_coal_hist_aware_pickle.pickle')"
   ]
  },
  {
   "cell_type": "markdown",
   "metadata": {},
   "source": [
    "### Confusion matrix"
   ]
  },
  {
   "cell_type": "code",
   "execution_count": 33,
   "metadata": {},
   "outputs": [
    {
     "data": {
      "text/plain": [
       "array([[11,  5, 13],\n",
       "       [ 3,  3,  7],\n",
       "       [ 9,  4, 53]])"
      ]
     },
     "execution_count": 33,
     "metadata": {},
     "output_type": "execute_result"
    }
   ],
   "source": [
    "export_path = os.path.join(OUTPUT_DIR,'dropout{}_optimizer_{}_batch_size{}_epoch_no{}_hidden_dims{}_{}.csv'.format(dropout, optimizer,batch_size, epoch_no, hidden_dims,model_fp_suff))\n",
    "results = pd.read_csv(export_path)\n",
    "\n",
    "confusion_matrix(results['y_val'], results['pred'])"
   ]
  },
  {
   "cell_type": "markdown",
   "metadata": {},
   "source": [
    "### Classification report"
   ]
  },
  {
   "cell_type": "code",
   "execution_count": 34,
   "metadata": {},
   "outputs": [
    {
     "data": {
      "text/html": [
       "<div>\n",
       "<style scoped>\n",
       "    .dataframe tbody tr th:only-of-type {\n",
       "        vertical-align: middle;\n",
       "    }\n",
       "\n",
       "    .dataframe tbody tr th {\n",
       "        vertical-align: top;\n",
       "    }\n",
       "\n",
       "    .dataframe thead th {\n",
       "        text-align: right;\n",
       "    }\n",
       "</style>\n",
       "<table border=\"1\" class=\"dataframe\">\n",
       "  <thead>\n",
       "    <tr style=\"text-align: right;\">\n",
       "      <th></th>\n",
       "      <th>precision</th>\n",
       "      <th>recall</th>\n",
       "      <th>f1-score</th>\n",
       "      <th>support</th>\n",
       "    </tr>\n",
       "  </thead>\n",
       "  <tbody>\n",
       "    <tr>\n",
       "      <th>sent_0</th>\n",
       "      <td>0.478261</td>\n",
       "      <td>0.379310</td>\n",
       "      <td>0.423077</td>\n",
       "      <td>29.00000</td>\n",
       "    </tr>\n",
       "    <tr>\n",
       "      <th>sent_1</th>\n",
       "      <td>0.250000</td>\n",
       "      <td>0.230769</td>\n",
       "      <td>0.240000</td>\n",
       "      <td>13.00000</td>\n",
       "    </tr>\n",
       "    <tr>\n",
       "      <th>sent_2</th>\n",
       "      <td>0.726027</td>\n",
       "      <td>0.803030</td>\n",
       "      <td>0.762590</td>\n",
       "      <td>66.00000</td>\n",
       "    </tr>\n",
       "    <tr>\n",
       "      <th>accuracy</th>\n",
       "      <td>0.620370</td>\n",
       "      <td>0.620370</td>\n",
       "      <td>0.620370</td>\n",
       "      <td>0.62037</td>\n",
       "    </tr>\n",
       "    <tr>\n",
       "      <th>macro avg</th>\n",
       "      <td>0.484763</td>\n",
       "      <td>0.471037</td>\n",
       "      <td>0.475222</td>\n",
       "      <td>108.00000</td>\n",
       "    </tr>\n",
       "    <tr>\n",
       "      <th>weighted avg</th>\n",
       "      <td>0.602198</td>\n",
       "      <td>0.620370</td>\n",
       "      <td>0.608520</td>\n",
       "      <td>108.00000</td>\n",
       "    </tr>\n",
       "  </tbody>\n",
       "</table>\n",
       "</div>"
      ],
      "text/plain": [
       "              precision    recall  f1-score    support\n",
       "sent_0         0.478261  0.379310  0.423077   29.00000\n",
       "sent_1         0.250000  0.230769  0.240000   13.00000\n",
       "sent_2         0.726027  0.803030  0.762590   66.00000\n",
       "accuracy       0.620370  0.620370  0.620370    0.62037\n",
       "macro avg      0.484763  0.471037  0.475222  108.00000\n",
       "weighted avg   0.602198  0.620370  0.608520  108.00000"
      ]
     },
     "execution_count": 34,
     "metadata": {},
     "output_type": "execute_result"
    }
   ],
   "source": [
    "get_classification_report(results['y_val'], results['pred'])"
   ]
  },
  {
   "cell_type": "markdown",
   "metadata": {
    "tags": []
   },
   "source": [
    "### 1980-gas"
   ]
  },
  {
   "cell_type": "code",
   "execution_count": 35,
   "metadata": {},
   "outputs": [
    {
     "name": "stdout",
     "output_type": "stream",
     "text": [
      "x_train shape: (342, 11600) , x_val shape: (169, 11600)\n",
      "y_train shape: (342, 3) , y_val shape: (169, 3)\n",
      "Model: \"model_5\"\n",
      "__________________________________________________________________________________________________\n",
      "Layer (type)                    Output Shape         Param #     Connected to                     \n",
      "==================================================================================================\n",
      "input_6 (InputLayer)            [(None, 11600)]      0                                            \n",
      "__________________________________________________________________________________________________\n",
      "embedding_4 (Embedding)         (None, 11600, 320)   3511360     input_6[0][0]                    \n",
      "__________________________________________________________________________________________________\n",
      "conv1d_10 (Conv1D)              (None, 11598, 128)   123008      embedding_4[0][0]                \n",
      "__________________________________________________________________________________________________\n",
      "conv1d_11 (Conv1D)              (None, 11593, 128)   327808      embedding_4[0][0]                \n",
      "__________________________________________________________________________________________________\n",
      "max_pooling1d_10 (MaxPooling1D) (None, 5799, 128)    0           conv1d_10[0][0]                  \n",
      "__________________________________________________________________________________________________\n",
      "max_pooling1d_11 (MaxPooling1D) (None, 5796, 128)    0           conv1d_11[0][0]                  \n",
      "__________________________________________________________________________________________________\n",
      "flatten_10 (Flatten)            (None, 742272)       0           max_pooling1d_10[0][0]           \n",
      "__________________________________________________________________________________________________\n",
      "flatten_11 (Flatten)            (None, 741888)       0           max_pooling1d_11[0][0]           \n",
      "__________________________________________________________________________________________________\n",
      "concatenate_5 (Concatenate)     (None, 1484160)      0           flatten_10[0][0]                 \n",
      "                                                                 flatten_11[0][0]                 \n",
      "__________________________________________________________________________________________________\n",
      "dropout_5 (Dropout)             (None, 1484160)      0           concatenate_5[0][0]              \n",
      "__________________________________________________________________________________________________\n",
      "dense_10 (Dense)                (None, 50)           74208050    dropout_5[0][0]                  \n",
      "__________________________________________________________________________________________________\n",
      "dense_11 (Dense)                (None, 3)            153         dense_10[0][0]                   \n",
      "==================================================================================================\n",
      "Total params: 78,170,379\n",
      "Trainable params: 74,659,019\n",
      "Non-trainable params: 3,511,360\n",
      "__________________________________________________________________________________________________\n"
     ]
    },
    {
     "data": {
      "text/plain": [
       "<cnn_model.CNN_Model at 0x7fdc6f922430>"
      ]
     },
     "execution_count": 35,
     "metadata": {},
     "output_type": "execute_result"
    }
   ],
   "source": [
    "dropout = (0.5,0.8)\n",
    "optimizer = 'adam'\n",
    "batch_size = 16\n",
    "epoch_no = 100\n",
    "hidden_dims=50\n",
    "model_fp_suff='1980_gas'\n",
    "train_model(dropout, optimizer, batch_size, epoch_no, hidden_dims,model_fp_suff=model_fp_suff, pkl_fp='1980_gas_hist_aware_pickle.pickle')"
   ]
  },
  {
   "cell_type": "markdown",
   "metadata": {},
   "source": [
    "### Confusion matrix"
   ]
  },
  {
   "cell_type": "code",
   "execution_count": 36,
   "metadata": {},
   "outputs": [
    {
     "data": {
      "text/plain": [
       "array([[23, 10, 29],\n",
       "       [ 2,  7, 14],\n",
       "       [ 6,  9, 69]])"
      ]
     },
     "execution_count": 36,
     "metadata": {},
     "output_type": "execute_result"
    }
   ],
   "source": [
    "export_path = os.path.join(OUTPUT_DIR,'dropout{}_optimizer_{}_batch_size{}_epoch_no{}_hidden_dims{}_{}.csv'.format(dropout, optimizer,batch_size, epoch_no, hidden_dims,model_fp_suff))\n",
    "results = pd.read_csv(export_path)\n",
    "\n",
    "confusion_matrix(results['y_val'], results['pred'])"
   ]
  },
  {
   "cell_type": "markdown",
   "metadata": {},
   "source": [
    "### Classification report"
   ]
  },
  {
   "cell_type": "code",
   "execution_count": 37,
   "metadata": {},
   "outputs": [
    {
     "data": {
      "text/html": [
       "<div>\n",
       "<style scoped>\n",
       "    .dataframe tbody tr th:only-of-type {\n",
       "        vertical-align: middle;\n",
       "    }\n",
       "\n",
       "    .dataframe tbody tr th {\n",
       "        vertical-align: top;\n",
       "    }\n",
       "\n",
       "    .dataframe thead th {\n",
       "        text-align: right;\n",
       "    }\n",
       "</style>\n",
       "<table border=\"1\" class=\"dataframe\">\n",
       "  <thead>\n",
       "    <tr style=\"text-align: right;\">\n",
       "      <th></th>\n",
       "      <th>precision</th>\n",
       "      <th>recall</th>\n",
       "      <th>f1-score</th>\n",
       "      <th>support</th>\n",
       "    </tr>\n",
       "  </thead>\n",
       "  <tbody>\n",
       "    <tr>\n",
       "      <th>sent_0</th>\n",
       "      <td>0.741935</td>\n",
       "      <td>0.370968</td>\n",
       "      <td>0.494624</td>\n",
       "      <td>62.000000</td>\n",
       "    </tr>\n",
       "    <tr>\n",
       "      <th>sent_1</th>\n",
       "      <td>0.269231</td>\n",
       "      <td>0.304348</td>\n",
       "      <td>0.285714</td>\n",
       "      <td>23.000000</td>\n",
       "    </tr>\n",
       "    <tr>\n",
       "      <th>sent_2</th>\n",
       "      <td>0.616071</td>\n",
       "      <td>0.821429</td>\n",
       "      <td>0.704082</td>\n",
       "      <td>84.000000</td>\n",
       "    </tr>\n",
       "    <tr>\n",
       "      <th>accuracy</th>\n",
       "      <td>0.585799</td>\n",
       "      <td>0.585799</td>\n",
       "      <td>0.585799</td>\n",
       "      <td>0.585799</td>\n",
       "    </tr>\n",
       "    <tr>\n",
       "      <th>macro avg</th>\n",
       "      <td>0.542413</td>\n",
       "      <td>0.498915</td>\n",
       "      <td>0.494807</td>\n",
       "      <td>169.000000</td>\n",
       "    </tr>\n",
       "    <tr>\n",
       "      <th>weighted avg</th>\n",
       "      <td>0.615043</td>\n",
       "      <td>0.585799</td>\n",
       "      <td>0.570301</td>\n",
       "      <td>169.000000</td>\n",
       "    </tr>\n",
       "  </tbody>\n",
       "</table>\n",
       "</div>"
      ],
      "text/plain": [
       "              precision    recall  f1-score     support\n",
       "sent_0         0.741935  0.370968  0.494624   62.000000\n",
       "sent_1         0.269231  0.304348  0.285714   23.000000\n",
       "sent_2         0.616071  0.821429  0.704082   84.000000\n",
       "accuracy       0.585799  0.585799  0.585799    0.585799\n",
       "macro avg      0.542413  0.498915  0.494807  169.000000\n",
       "weighted avg   0.615043  0.585799  0.570301  169.000000"
      ]
     },
     "execution_count": 37,
     "metadata": {},
     "output_type": "execute_result"
    }
   ],
   "source": [
    "get_classification_report(results['y_val'], results['pred'])"
   ]
  },
  {
   "cell_type": "markdown",
   "metadata": {
    "tags": []
   },
   "source": [
    "### 1990-oil"
   ]
  },
  {
   "cell_type": "code",
   "execution_count": 38,
   "metadata": {},
   "outputs": [
    {
     "name": "stdout",
     "output_type": "stream",
     "text": [
      "x_train shape: (129, 11600) , x_val shape: (64, 11600)\n",
      "y_train shape: (129, 3) , y_val shape: (64, 3)\n",
      "Model: \"model_6\"\n",
      "__________________________________________________________________________________________________\n",
      "Layer (type)                    Output Shape         Param #     Connected to                     \n",
      "==================================================================================================\n",
      "input_7 (InputLayer)            [(None, 11600)]      0                                            \n",
      "__________________________________________________________________________________________________\n",
      "embedding_5 (Embedding)         (None, 11600, 320)   1755520     input_7[0][0]                    \n",
      "__________________________________________________________________________________________________\n",
      "conv1d_12 (Conv1D)              (None, 11598, 128)   123008      embedding_5[0][0]                \n",
      "__________________________________________________________________________________________________\n",
      "conv1d_13 (Conv1D)              (None, 11593, 128)   327808      embedding_5[0][0]                \n",
      "__________________________________________________________________________________________________\n",
      "max_pooling1d_12 (MaxPooling1D) (None, 5799, 128)    0           conv1d_12[0][0]                  \n",
      "__________________________________________________________________________________________________\n",
      "max_pooling1d_13 (MaxPooling1D) (None, 5796, 128)    0           conv1d_13[0][0]                  \n",
      "__________________________________________________________________________________________________\n",
      "flatten_12 (Flatten)            (None, 742272)       0           max_pooling1d_12[0][0]           \n",
      "__________________________________________________________________________________________________\n",
      "flatten_13 (Flatten)            (None, 741888)       0           max_pooling1d_13[0][0]           \n",
      "__________________________________________________________________________________________________\n",
      "concatenate_6 (Concatenate)     (None, 1484160)      0           flatten_12[0][0]                 \n",
      "                                                                 flatten_13[0][0]                 \n",
      "__________________________________________________________________________________________________\n",
      "dropout_6 (Dropout)             (None, 1484160)      0           concatenate_6[0][0]              \n",
      "__________________________________________________________________________________________________\n",
      "dense_12 (Dense)                (None, 50)           74208050    dropout_6[0][0]                  \n",
      "__________________________________________________________________________________________________\n",
      "dense_13 (Dense)                (None, 3)            153         dense_12[0][0]                   \n",
      "==================================================================================================\n",
      "Total params: 76,414,539\n",
      "Trainable params: 74,659,019\n",
      "Non-trainable params: 1,755,520\n",
      "__________________________________________________________________________________________________\n"
     ]
    },
    {
     "data": {
      "text/plain": [
       "<cnn_model.CNN_Model at 0x7fdbe8046520>"
      ]
     },
     "execution_count": 38,
     "metadata": {},
     "output_type": "execute_result"
    }
   ],
   "source": [
    "dropout = (0.5,0.8)\n",
    "optimizer = 'adam'\n",
    "batch_size = 16\n",
    "epoch_no = 100\n",
    "hidden_dims=50\n",
    "model_fp_suff='1990_oil'\n",
    "train_model(dropout, optimizer, batch_size, epoch_no, hidden_dims,model_fp_suff=model_fp_suff, pkl_fp='1990_oil_hist_aware_pickle.pickle')"
   ]
  },
  {
   "cell_type": "markdown",
   "metadata": {},
   "source": [
    "### Confusion matrix"
   ]
  },
  {
   "cell_type": "code",
   "execution_count": 39,
   "metadata": {},
   "outputs": [
    {
     "data": {
      "text/plain": [
       "array([[38,  3,  1],\n",
       "       [11,  3,  0],\n",
       "       [ 7,  0,  1]])"
      ]
     },
     "execution_count": 39,
     "metadata": {},
     "output_type": "execute_result"
    }
   ],
   "source": [
    "export_path = os.path.join(OUTPUT_DIR,'dropout{}_optimizer_{}_batch_size{}_epoch_no{}_hidden_dims{}_{}.csv'.format(dropout, optimizer,batch_size, epoch_no, hidden_dims,model_fp_suff))\n",
    "results = pd.read_csv(export_path)\n",
    "\n",
    "confusion_matrix(results['y_val'], results['pred'])"
   ]
  },
  {
   "cell_type": "markdown",
   "metadata": {},
   "source": [
    "### Classification report"
   ]
  },
  {
   "cell_type": "code",
   "execution_count": 40,
   "metadata": {},
   "outputs": [
    {
     "data": {
      "text/html": [
       "<div>\n",
       "<style scoped>\n",
       "    .dataframe tbody tr th:only-of-type {\n",
       "        vertical-align: middle;\n",
       "    }\n",
       "\n",
       "    .dataframe tbody tr th {\n",
       "        vertical-align: top;\n",
       "    }\n",
       "\n",
       "    .dataframe thead th {\n",
       "        text-align: right;\n",
       "    }\n",
       "</style>\n",
       "<table border=\"1\" class=\"dataframe\">\n",
       "  <thead>\n",
       "    <tr style=\"text-align: right;\">\n",
       "      <th></th>\n",
       "      <th>precision</th>\n",
       "      <th>recall</th>\n",
       "      <th>f1-score</th>\n",
       "      <th>support</th>\n",
       "    </tr>\n",
       "  </thead>\n",
       "  <tbody>\n",
       "    <tr>\n",
       "      <th>sent_0</th>\n",
       "      <td>0.678571</td>\n",
       "      <td>0.904762</td>\n",
       "      <td>0.775510</td>\n",
       "      <td>42.00000</td>\n",
       "    </tr>\n",
       "    <tr>\n",
       "      <th>sent_1</th>\n",
       "      <td>0.500000</td>\n",
       "      <td>0.214286</td>\n",
       "      <td>0.300000</td>\n",
       "      <td>14.00000</td>\n",
       "    </tr>\n",
       "    <tr>\n",
       "      <th>sent_2</th>\n",
       "      <td>0.500000</td>\n",
       "      <td>0.125000</td>\n",
       "      <td>0.200000</td>\n",
       "      <td>8.00000</td>\n",
       "    </tr>\n",
       "    <tr>\n",
       "      <th>accuracy</th>\n",
       "      <td>0.656250</td>\n",
       "      <td>0.656250</td>\n",
       "      <td>0.656250</td>\n",
       "      <td>0.65625</td>\n",
       "    </tr>\n",
       "    <tr>\n",
       "      <th>macro avg</th>\n",
       "      <td>0.559524</td>\n",
       "      <td>0.414683</td>\n",
       "      <td>0.425170</td>\n",
       "      <td>64.00000</td>\n",
       "    </tr>\n",
       "    <tr>\n",
       "      <th>weighted avg</th>\n",
       "      <td>0.617188</td>\n",
       "      <td>0.656250</td>\n",
       "      <td>0.599554</td>\n",
       "      <td>64.00000</td>\n",
       "    </tr>\n",
       "  </tbody>\n",
       "</table>\n",
       "</div>"
      ],
      "text/plain": [
       "              precision    recall  f1-score   support\n",
       "sent_0         0.678571  0.904762  0.775510  42.00000\n",
       "sent_1         0.500000  0.214286  0.300000  14.00000\n",
       "sent_2         0.500000  0.125000  0.200000   8.00000\n",
       "accuracy       0.656250  0.656250  0.656250   0.65625\n",
       "macro avg      0.559524  0.414683  0.425170  64.00000\n",
       "weighted avg   0.617188  0.656250  0.599554  64.00000"
      ]
     },
     "execution_count": 40,
     "metadata": {},
     "output_type": "execute_result"
    }
   ],
   "source": [
    "get_classification_report(results['y_val'], results['pred'])"
   ]
  },
  {
   "cell_type": "markdown",
   "metadata": {
    "tags": []
   },
   "source": [
    "### 1990-coal"
   ]
  },
  {
   "cell_type": "code",
   "execution_count": 41,
   "metadata": {},
   "outputs": [
    {
     "name": "stdout",
     "output_type": "stream",
     "text": [
      "x_train shape: (225, 11600) , x_val shape: (112, 11600)\n",
      "y_train shape: (225, 3) , y_val shape: (112, 3)\n",
      "Model: \"model_7\"\n",
      "__________________________________________________________________________________________________\n",
      "Layer (type)                    Output Shape         Param #     Connected to                     \n",
      "==================================================================================================\n",
      "input_8 (InputLayer)            [(None, 11600)]      0                                            \n",
      "__________________________________________________________________________________________________\n",
      "embedding_6 (Embedding)         (None, 11600, 320)   2441280     input_8[0][0]                    \n",
      "__________________________________________________________________________________________________\n",
      "conv1d_14 (Conv1D)              (None, 11598, 128)   123008      embedding_6[0][0]                \n",
      "__________________________________________________________________________________________________\n",
      "conv1d_15 (Conv1D)              (None, 11593, 128)   327808      embedding_6[0][0]                \n",
      "__________________________________________________________________________________________________\n",
      "max_pooling1d_14 (MaxPooling1D) (None, 5799, 128)    0           conv1d_14[0][0]                  \n",
      "__________________________________________________________________________________________________\n",
      "max_pooling1d_15 (MaxPooling1D) (None, 5796, 128)    0           conv1d_15[0][0]                  \n",
      "__________________________________________________________________________________________________\n",
      "flatten_14 (Flatten)            (None, 742272)       0           max_pooling1d_14[0][0]           \n",
      "__________________________________________________________________________________________________\n",
      "flatten_15 (Flatten)            (None, 741888)       0           max_pooling1d_15[0][0]           \n",
      "__________________________________________________________________________________________________\n",
      "concatenate_7 (Concatenate)     (None, 1484160)      0           flatten_14[0][0]                 \n",
      "                                                                 flatten_15[0][0]                 \n",
      "__________________________________________________________________________________________________\n",
      "dropout_7 (Dropout)             (None, 1484160)      0           concatenate_7[0][0]              \n",
      "__________________________________________________________________________________________________\n",
      "dense_14 (Dense)                (None, 50)           74208050    dropout_7[0][0]                  \n",
      "__________________________________________________________________________________________________\n",
      "dense_15 (Dense)                (None, 3)            153         dense_14[0][0]                   \n",
      "==================================================================================================\n",
      "Total params: 77,100,299\n",
      "Trainable params: 74,659,019\n",
      "Non-trainable params: 2,441,280\n",
      "__________________________________________________________________________________________________\n"
     ]
    },
    {
     "data": {
      "text/plain": [
       "<cnn_model.CNN_Model at 0x7fdbe066d3a0>"
      ]
     },
     "execution_count": 41,
     "metadata": {},
     "output_type": "execute_result"
    }
   ],
   "source": [
    "dropout = (0.5,0.8)\n",
    "optimizer = 'adam'\n",
    "batch_size = 16\n",
    "epoch_no = 100\n",
    "hidden_dims=50\n",
    "model_fp_suff='1990_coal'\n",
    "train_model(dropout, optimizer, batch_size, epoch_no, hidden_dims,model_fp_suff=model_fp_suff, pkl_fp='1990_coal_hist_aware_pickle.pickle')"
   ]
  },
  {
   "cell_type": "markdown",
   "metadata": {},
   "source": [
    "### Confusion matrix"
   ]
  },
  {
   "cell_type": "code",
   "execution_count": 42,
   "metadata": {},
   "outputs": [
    {
     "data": {
      "text/plain": [
       "array([[79,  0,  2],\n",
       "       [10,  0,  2],\n",
       "       [14,  0,  5]])"
      ]
     },
     "execution_count": 42,
     "metadata": {},
     "output_type": "execute_result"
    }
   ],
   "source": [
    "export_path = os.path.join(OUTPUT_DIR,'dropout{}_optimizer_{}_batch_size{}_epoch_no{}_hidden_dims{}_{}.csv'.format(dropout, optimizer,batch_size, epoch_no, hidden_dims,model_fp_suff))\n",
    "results = pd.read_csv(export_path)\n",
    "\n",
    "confusion_matrix(results['y_val'], results['pred'])"
   ]
  },
  {
   "cell_type": "markdown",
   "metadata": {},
   "source": [
    "### Classification report"
   ]
  },
  {
   "cell_type": "code",
   "execution_count": 43,
   "metadata": {},
   "outputs": [
    {
     "name": "stderr",
     "output_type": "stream",
     "text": [
      "/home/pzahedi/.cache/pypoetry/virtualenvs/histaware-mZDXeHX2-py3.8/lib/python3.8/site-packages/sklearn/metrics/_classification.py:1221: UndefinedMetricWarning: Precision and F-score are ill-defined and being set to 0.0 in labels with no predicted samples. Use `zero_division` parameter to control this behavior.\n",
      "  _warn_prf(average, modifier, msg_start, len(result))\n"
     ]
    },
    {
     "data": {
      "text/html": [
       "<div>\n",
       "<style scoped>\n",
       "    .dataframe tbody tr th:only-of-type {\n",
       "        vertical-align: middle;\n",
       "    }\n",
       "\n",
       "    .dataframe tbody tr th {\n",
       "        vertical-align: top;\n",
       "    }\n",
       "\n",
       "    .dataframe thead th {\n",
       "        text-align: right;\n",
       "    }\n",
       "</style>\n",
       "<table border=\"1\" class=\"dataframe\">\n",
       "  <thead>\n",
       "    <tr style=\"text-align: right;\">\n",
       "      <th></th>\n",
       "      <th>precision</th>\n",
       "      <th>recall</th>\n",
       "      <th>f1-score</th>\n",
       "      <th>support</th>\n",
       "    </tr>\n",
       "  </thead>\n",
       "  <tbody>\n",
       "    <tr>\n",
       "      <th>sent_0</th>\n",
       "      <td>0.766990</td>\n",
       "      <td>0.975309</td>\n",
       "      <td>0.858696</td>\n",
       "      <td>81.00</td>\n",
       "    </tr>\n",
       "    <tr>\n",
       "      <th>sent_1</th>\n",
       "      <td>0.000000</td>\n",
       "      <td>0.000000</td>\n",
       "      <td>0.000000</td>\n",
       "      <td>12.00</td>\n",
       "    </tr>\n",
       "    <tr>\n",
       "      <th>sent_2</th>\n",
       "      <td>0.555556</td>\n",
       "      <td>0.263158</td>\n",
       "      <td>0.357143</td>\n",
       "      <td>19.00</td>\n",
       "    </tr>\n",
       "    <tr>\n",
       "      <th>accuracy</th>\n",
       "      <td>0.750000</td>\n",
       "      <td>0.750000</td>\n",
       "      <td>0.750000</td>\n",
       "      <td>0.75</td>\n",
       "    </tr>\n",
       "    <tr>\n",
       "      <th>macro avg</th>\n",
       "      <td>0.440849</td>\n",
       "      <td>0.412822</td>\n",
       "      <td>0.405280</td>\n",
       "      <td>112.00</td>\n",
       "    </tr>\n",
       "    <tr>\n",
       "      <th>weighted avg</th>\n",
       "      <td>0.648944</td>\n",
       "      <td>0.750000</td>\n",
       "      <td>0.681608</td>\n",
       "      <td>112.00</td>\n",
       "    </tr>\n",
       "  </tbody>\n",
       "</table>\n",
       "</div>"
      ],
      "text/plain": [
       "              precision    recall  f1-score  support\n",
       "sent_0         0.766990  0.975309  0.858696    81.00\n",
       "sent_1         0.000000  0.000000  0.000000    12.00\n",
       "sent_2         0.555556  0.263158  0.357143    19.00\n",
       "accuracy       0.750000  0.750000  0.750000     0.75\n",
       "macro avg      0.440849  0.412822  0.405280   112.00\n",
       "weighted avg   0.648944  0.750000  0.681608   112.00"
      ]
     },
     "execution_count": 43,
     "metadata": {},
     "output_type": "execute_result"
    }
   ],
   "source": [
    "get_classification_report(results['y_val'], results['pred'])"
   ]
  },
  {
   "cell_type": "markdown",
   "metadata": {
    "tags": []
   },
   "source": [
    "### 1990-gas"
   ]
  },
  {
   "cell_type": "code",
   "execution_count": 44,
   "metadata": {},
   "outputs": [
    {
     "name": "stdout",
     "output_type": "stream",
     "text": [
      "x_train shape: (148, 11600) , x_val shape: (74, 11600)\n",
      "y_train shape: (148, 3) , y_val shape: (74, 3)\n",
      "Model: \"model_8\"\n",
      "__________________________________________________________________________________________________\n",
      "Layer (type)                    Output Shape         Param #     Connected to                     \n",
      "==================================================================================================\n",
      "input_9 (InputLayer)            [(None, 11600)]      0                                            \n",
      "__________________________________________________________________________________________________\n",
      "embedding_7 (Embedding)         (None, 11600, 320)   1791360     input_9[0][0]                    \n",
      "__________________________________________________________________________________________________\n",
      "conv1d_16 (Conv1D)              (None, 11598, 128)   123008      embedding_7[0][0]                \n",
      "__________________________________________________________________________________________________\n",
      "conv1d_17 (Conv1D)              (None, 11593, 128)   327808      embedding_7[0][0]                \n",
      "__________________________________________________________________________________________________\n",
      "max_pooling1d_16 (MaxPooling1D) (None, 5799, 128)    0           conv1d_16[0][0]                  \n",
      "__________________________________________________________________________________________________\n",
      "max_pooling1d_17 (MaxPooling1D) (None, 5796, 128)    0           conv1d_17[0][0]                  \n",
      "__________________________________________________________________________________________________\n",
      "flatten_16 (Flatten)            (None, 742272)       0           max_pooling1d_16[0][0]           \n",
      "__________________________________________________________________________________________________\n",
      "flatten_17 (Flatten)            (None, 741888)       0           max_pooling1d_17[0][0]           \n",
      "__________________________________________________________________________________________________\n",
      "concatenate_8 (Concatenate)     (None, 1484160)      0           flatten_16[0][0]                 \n",
      "                                                                 flatten_17[0][0]                 \n",
      "__________________________________________________________________________________________________\n",
      "dropout_8 (Dropout)             (None, 1484160)      0           concatenate_8[0][0]              \n",
      "__________________________________________________________________________________________________\n",
      "dense_16 (Dense)                (None, 50)           74208050    dropout_8[0][0]                  \n",
      "__________________________________________________________________________________________________\n",
      "dense_17 (Dense)                (None, 3)            153         dense_16[0][0]                   \n",
      "==================================================================================================\n",
      "Total params: 76,450,379\n",
      "Trainable params: 74,659,019\n",
      "Non-trainable params: 1,791,360\n",
      "__________________________________________________________________________________________________\n"
     ]
    },
    {
     "data": {
      "text/plain": [
       "<cnn_model.CNN_Model at 0x7fdbe0462b50>"
      ]
     },
     "execution_count": 44,
     "metadata": {},
     "output_type": "execute_result"
    }
   ],
   "source": [
    "dropout = (0.5,0.8)\n",
    "optimizer = 'adam'\n",
    "batch_size = 16\n",
    "epoch_no = 100\n",
    "hidden_dims=50\n",
    "model_fp_suff='1990_gas'\n",
    "train_model(dropout, optimizer, batch_size, epoch_no, hidden_dims,model_fp_suff=model_fp_suff, pkl_fp='1990_gas_hist_aware_pickle.pickle')"
   ]
  },
  {
   "cell_type": "markdown",
   "metadata": {},
   "source": [
    "### Confusion matrix"
   ]
  },
  {
   "cell_type": "code",
   "execution_count": 45,
   "metadata": {},
   "outputs": [
    {
     "data": {
      "text/plain": [
       "array([[29,  1,  4],\n",
       "       [ 8,  2,  3],\n",
       "       [13,  1, 13]])"
      ]
     },
     "execution_count": 45,
     "metadata": {},
     "output_type": "execute_result"
    }
   ],
   "source": [
    "export_path = os.path.join(OUTPUT_DIR,'dropout{}_optimizer_{}_batch_size{}_epoch_no{}_hidden_dims{}_{}.csv'.format(dropout, optimizer,batch_size, epoch_no, hidden_dims,model_fp_suff))\n",
    "results = pd.read_csv(export_path)\n",
    "\n",
    "confusion_matrix(results['y_val'], results['pred'])"
   ]
  },
  {
   "cell_type": "markdown",
   "metadata": {},
   "source": [
    "### Classification report"
   ]
  },
  {
   "cell_type": "code",
   "execution_count": 46,
   "metadata": {},
   "outputs": [
    {
     "data": {
      "text/html": [
       "<div>\n",
       "<style scoped>\n",
       "    .dataframe tbody tr th:only-of-type {\n",
       "        vertical-align: middle;\n",
       "    }\n",
       "\n",
       "    .dataframe tbody tr th {\n",
       "        vertical-align: top;\n",
       "    }\n",
       "\n",
       "    .dataframe thead th {\n",
       "        text-align: right;\n",
       "    }\n",
       "</style>\n",
       "<table border=\"1\" class=\"dataframe\">\n",
       "  <thead>\n",
       "    <tr style=\"text-align: right;\">\n",
       "      <th></th>\n",
       "      <th>precision</th>\n",
       "      <th>recall</th>\n",
       "      <th>f1-score</th>\n",
       "      <th>support</th>\n",
       "    </tr>\n",
       "  </thead>\n",
       "  <tbody>\n",
       "    <tr>\n",
       "      <th>sent_0</th>\n",
       "      <td>0.580000</td>\n",
       "      <td>0.852941</td>\n",
       "      <td>0.690476</td>\n",
       "      <td>34.000000</td>\n",
       "    </tr>\n",
       "    <tr>\n",
       "      <th>sent_1</th>\n",
       "      <td>0.500000</td>\n",
       "      <td>0.153846</td>\n",
       "      <td>0.235294</td>\n",
       "      <td>13.000000</td>\n",
       "    </tr>\n",
       "    <tr>\n",
       "      <th>sent_2</th>\n",
       "      <td>0.650000</td>\n",
       "      <td>0.481481</td>\n",
       "      <td>0.553191</td>\n",
       "      <td>27.000000</td>\n",
       "    </tr>\n",
       "    <tr>\n",
       "      <th>accuracy</th>\n",
       "      <td>0.594595</td>\n",
       "      <td>0.594595</td>\n",
       "      <td>0.594595</td>\n",
       "      <td>0.594595</td>\n",
       "    </tr>\n",
       "    <tr>\n",
       "      <th>macro avg</th>\n",
       "      <td>0.576667</td>\n",
       "      <td>0.496090</td>\n",
       "      <td>0.492987</td>\n",
       "      <td>74.000000</td>\n",
       "    </tr>\n",
       "    <tr>\n",
       "      <th>weighted avg</th>\n",
       "      <td>0.591486</td>\n",
       "      <td>0.594595</td>\n",
       "      <td>0.560421</td>\n",
       "      <td>74.000000</td>\n",
       "    </tr>\n",
       "  </tbody>\n",
       "</table>\n",
       "</div>"
      ],
      "text/plain": [
       "              precision    recall  f1-score    support\n",
       "sent_0         0.580000  0.852941  0.690476  34.000000\n",
       "sent_1         0.500000  0.153846  0.235294  13.000000\n",
       "sent_2         0.650000  0.481481  0.553191  27.000000\n",
       "accuracy       0.594595  0.594595  0.594595   0.594595\n",
       "macro avg      0.576667  0.496090  0.492987  74.000000\n",
       "weighted avg   0.591486  0.594595  0.560421  74.000000"
      ]
     },
     "execution_count": 46,
     "metadata": {},
     "output_type": "execute_result"
    }
   ],
   "source": [
    "get_classification_report(results['y_val'], results['pred'])"
   ]
  },
  {
   "cell_type": "code",
   "execution_count": null,
   "metadata": {},
   "outputs": [],
   "source": []
  }
 ],
 "metadata": {
  "kernelspec": {
   "display_name": "hist_aware3.8",
   "language": "python",
   "name": "hist_aware3.8"
  },
  "language_info": {
   "codemirror_mode": {
    "name": "ipython",
    "version": 3
   },
   "file_extension": ".py",
   "mimetype": "text/x-python",
   "name": "python",
   "nbconvert_exporter": "python",
   "pygments_lexer": "ipython3",
   "version": "3.8.5"
  }
 },
 "nbformat": 4,
 "nbformat_minor": 4
}
