{
 "cells": [
  {
   "cell_type": "code",
   "execution_count": 1,
   "metadata": {},
   "outputs": [],
   "source": [
    "%load_ext autoreload\n",
    "%autoreload 2\n",
    "\n",
    "import os\n",
    "import pandas as pd\n",
    "import pickle\n",
    "import glob\n",
    "from sklearn.metrics import confusion_matrix, classification_report, recall_score, accuracy_score\n",
    "from sklearn.model_selection import train_test_split\n",
    "from text_manager import TextManager\n",
    "from embedding import Word2VecEmbedding\n",
    "from cnn_model import CNN_Model\n",
    "import numpy as np"
   ]
  },
  {
   "cell_type": "code",
   "execution_count": 2,
   "metadata": {},
   "outputs": [],
   "source": [
    "MODEL_DIR = '../../output/cnn_model'\n",
    "TXT_DIR = '../../data/selected'\n",
    "TEMP_DATA_DIR = '../../output/tmp'\n",
    "PRED_DIR = '../../output/predictions'\n",
    "MAX_SEQUENCE_LENGTH = 11600"
   ]
  },
  {
   "cell_type": "code",
   "execution_count": 3,
   "metadata": {
    "tags": []
   },
   "outputs": [],
   "source": [
    "def data_prep(data_fp,tokenz_fp, output_fp='text_to_pred.pickle'):\n",
    "    \n",
    "    output_fp = os.path.join(TEMP_DATA_DIR,output_fp)\n",
    "    if not os.path.exists(TEMP_DATA_DIR):\n",
    "        os.makedirs(TEMP_DATA_DIR)\n",
    "       \n",
    "    data_fp = os.path.join(TXT_DIR,data_fp)\n",
    "    df = pd.read_csv(data_fp)\n",
    "    \n",
    "    # read tokenizer/word-index from trained data\n",
    "    pickle_fp = os.path.join(TEMP_DATA_DIR,tokenz_fp)\n",
    "    with open(pickle_fp, 'rb') as f:\n",
    "        (tokenizer,word_index) = pickle.load(f)\n",
    "\n",
    "    # get the texts\n",
    "    textManager = TextManager(max_sequence_length=MAX_SEQUENCE_LENGTH)\n",
    "    \n",
    "    texts = textManager.clean_text(df['text_clean'])\n",
    "    print('max length of all texts', len(max(texts, key=len)))\n",
    "    data = textManager.sequence_maker(tokenizer,texts)\n",
    "    \n",
    "    with open(output_fp, 'wb') as f:\n",
    "        pickle.dump(data, f)\n",
    "\n",
    "def predict(model_fp,pickle_fp):\n",
    "     \n",
    "    model_fp = os.path.join(MODEL_DIR,model_fp) \n",
    "    pickle_fp = os.path.join(TEMP_DATA_DIR,pickle_fp)\n",
    "    \n",
    "    with open(pickle_fp, 'rb') as f:\n",
    "            features = pickle.load(f)\n",
    "\n",
    "    deep_model = CNN_Model    \n",
    "    model = deep_model()\n",
    "    preds = model.predict_model( model_fp, features)\n",
    "    \n",
    "    if not os.path.exists(PRED_DIR):\n",
    "        os.makedirs(PRED_DIR)\n",
    "    export_path = os.path.join(PRED_DIR, '{}.txt'.format(model_fp_suff))\n",
    "    np.savetxt(export_path, preds, fmt=\"%s\")"
   ]
  },
  {
   "cell_type": "markdown",
   "metadata": {},
   "source": [
    "## Data preparation\n",
    "\n",
    "### 1960-oil"
   ]
  },
  {
   "cell_type": "code",
   "execution_count": 6,
   "metadata": {},
   "outputs": [
    {
     "name": "stdout",
     "output_type": "stream",
     "text": [
      "max length of all texts 11929\n",
      "Shape of data tensor: (57196, 11600)\n"
     ]
    }
   ],
   "source": [
    "data_fp = \"1960/1960s_oil_labeled_full_0.95.csv\"\n",
    "output_fp=\"1960_oil_text_to_pred.pickle\"\n",
    "tokenz_fp = \"tokenz_1960_oil_hist_aware_pickle.pickle\"\n",
    "data_prep(data_fp,tokenz_fp, output_fp)"
   ]
  },
  {
   "cell_type": "markdown",
   "metadata": {},
   "source": [
    "### 1960-coal"
   ]
  },
  {
   "cell_type": "code",
   "execution_count": 9,
   "metadata": {},
   "outputs": [
    {
     "name": "stdout",
     "output_type": "stream",
     "text": [
      "max length of all texts 10579\n",
      "Shape of data tensor: (4626, 11600)\n"
     ]
    }
   ],
   "source": [
    "data_fp = \"1960/1960s_coal_labeled_full_0.95.csv\"\n",
    "output_fp=\"1960_coal_text_to_pred.pickle\"\n",
    "tokenz_fp = \"tokenz_1960_coal_hist_aware_pickle.pickle\"\n",
    "data_prep(data_fp,tokenz_fp, output_fp)"
   ]
  },
  {
   "cell_type": "markdown",
   "metadata": {},
   "source": [
    "### 1960-gas"
   ]
  },
  {
   "cell_type": "code",
   "execution_count": 11,
   "metadata": {},
   "outputs": [
    {
     "name": "stdout",
     "output_type": "stream",
     "text": [
      "max length of all texts 9599\n",
      "Shape of data tensor: (40816, 11600)\n"
     ]
    }
   ],
   "source": [
    "data_fp = \"1960/1960s_gas_labeled_full_0.95.csv\"\n",
    "output_fp=\"1960_gas_text_to_pred.pickle\"\n",
    "tokenz_fp = \"tokenz_1960_gas_hist_aware_pickle.pickle\"\n",
    "data_prep(data_fp,tokenz_fp, output_fp)"
   ]
  },
  {
   "cell_type": "markdown",
   "metadata": {},
   "source": [
    "### 1970-oil"
   ]
  },
  {
   "cell_type": "code",
   "execution_count": 19,
   "metadata": {},
   "outputs": [
    {
     "name": "stdout",
     "output_type": "stream",
     "text": [
      "max length of all texts 11252\n",
      "Shape of data tensor: (96189, 11600)\n"
     ]
    }
   ],
   "source": [
    "data_fp = \"1970/1970s_oil_labeled_full_0.95.csv\"\n",
    "output_fp=\"1970_oil_text_to_pred.pickle\"\n",
    "tokenz_fp = \"tokenz_1970_oil_hist_aware_pickle.pickle\"\n",
    "data_prep(data_fp,tokenz_fp, output_fp)"
   ]
  },
  {
   "cell_type": "markdown",
   "metadata": {},
   "source": [
    "### 1970_coal"
   ]
  },
  {
   "cell_type": "code",
   "execution_count": 4,
   "metadata": {},
   "outputs": [
    {
     "name": "stdout",
     "output_type": "stream",
     "text": [
      "max length of all texts 7489\n",
      "Shape of data tensor: (5388, 11600)\n"
     ]
    }
   ],
   "source": [
    "data_fp = \"1970/1970s_coal_labeled_full_0.95.csv\"\n",
    "output_fp=\"1970_coal_text_to_pred.pickle\"\n",
    "tokenz_fp = \"tokenz_1970_coal_hist_aware_pickle.pickle\"\n",
    "data_prep(data_fp,tokenz_fp, output_fp)"
   ]
  },
  {
   "cell_type": "markdown",
   "metadata": {},
   "source": [
    "### 1970_gas"
   ]
  },
  {
   "cell_type": "code",
   "execution_count": 4,
   "metadata": {},
   "outputs": [
    {
     "name": "stdout",
     "output_type": "stream",
     "text": [
      "max length of all texts 11988\n",
      "Shape of data tensor: (51678, 11600)\n"
     ]
    }
   ],
   "source": [
    "data_fp = \"1970/1970s_gas_labeled_full_0.95.csv\"\n",
    "output_fp=\"1970_gas_text_to_pred.pickle\"\n",
    "tokenz_fp = \"tokenz_1970_gas_hist_aware_pickle.pickle\"\n",
    "data_prep(data_fp,tokenz_fp, output_fp)"
   ]
  },
  {
   "cell_type": "markdown",
   "metadata": {},
   "source": [
    "### 1980_oil"
   ]
  },
  {
   "cell_type": "code",
   "execution_count": 4,
   "metadata": {},
   "outputs": [
    {
     "name": "stdout",
     "output_type": "stream",
     "text": [
      "max length of all texts 8916\n",
      "Shape of data tensor: (1474, 11600)\n"
     ]
    }
   ],
   "source": [
    "data_fp = \"1980/1980s_oil_labeled_full_0.95.csv\"\n",
    "output_fp=\"1980_oil_text_to_pred.pickle\"\n",
    "tokenz_fp = \"tokenz_1980_oil_hist_aware_pickle.pickle\"\n",
    "data_prep(data_fp,tokenz_fp, output_fp)"
   ]
  },
  {
   "cell_type": "markdown",
   "metadata": {},
   "source": [
    "### 1980_coal"
   ]
  },
  {
   "cell_type": "code",
   "execution_count": 5,
   "metadata": {},
   "outputs": [
    {
     "name": "stdout",
     "output_type": "stream",
     "text": [
      "max length of all texts 6627\n",
      "Shape of data tensor: (29289, 11600)\n"
     ]
    }
   ],
   "source": [
    "data_fp = \"1980/1980s_coal_labeled_full_0.95.csv\"\n",
    "output_fp=\"1980_coal_text_to_pred.pickle\"\n",
    "tokenz_fp = \"tokenz_1980_coal_hist_aware_pickle.pickle\"\n",
    "data_prep(data_fp,tokenz_fp, output_fp)"
   ]
  },
  {
   "cell_type": "markdown",
   "metadata": {},
   "source": [
    "### 1980_gas"
   ]
  },
  {
   "cell_type": "code",
   "execution_count": 5,
   "metadata": {},
   "outputs": [
    {
     "name": "stdout",
     "output_type": "stream",
     "text": [
      "max length of all texts 7632\n",
      "Shape of data tensor: (94515, 11600)\n"
     ]
    }
   ],
   "source": [
    "data_fp = \"1980/1980s_gas_labeled_full_0.95.csv\"\n",
    "output_fp=\"1980_gas_text_to_pred.pickle\"\n",
    "tokenz_fp = \"tokenz_1980_gas_hist_aware_pickle.pickle\"\n",
    "data_prep(data_fp,tokenz_fp, output_fp)"
   ]
  },
  {
   "cell_type": "markdown",
   "metadata": {},
   "source": [
    "### 1990_oil"
   ]
  },
  {
   "cell_type": "code",
   "execution_count": null,
   "metadata": {},
   "outputs": [
    {
     "name": "stdout",
     "output_type": "stream",
     "text": [
      "max length of all texts 15085\n"
     ]
    }
   ],
   "source": [
    "data_fp = \"1990/1990s_oil_labeled_full_0.95.csv\"\n",
    "output_fp=\"1990_oil_text_to_pred.pickle\"\n",
    "tokenz_fp = \"tokenz_1990_oil_hist_aware_pickle.pickle\"\n",
    "data_prep(data_fp,tokenz_fp, output_fp)"
   ]
  },
  {
   "cell_type": "markdown",
   "metadata": {},
   "source": [
    "### 1990_coal"
   ]
  },
  {
   "cell_type": "code",
   "execution_count": 7,
   "metadata": {},
   "outputs": [
    {
     "name": "stdout",
     "output_type": "stream",
     "text": [
      "max length of all texts 6712\n",
      "Shape of data tensor: (2259, 11600)\n"
     ]
    }
   ],
   "source": [
    "data_fp = \"1990/1990s_coal_labeled_full_0.95.csv\"\n",
    "output_fp=\"1990_coal_text_to_pred.pickle\"\n",
    "tokenz_fp = \"tokenz_1990_coal_hist_aware_pickle.pickle\"\n",
    "data_prep(data_fp,tokenz_fp, output_fp)"
   ]
  },
  {
   "cell_type": "markdown",
   "metadata": {},
   "source": [
    "### 1990_gas"
   ]
  },
  {
   "cell_type": "code",
   "execution_count": 13,
   "metadata": {},
   "outputs": [
    {
     "name": "stdout",
     "output_type": "stream",
     "text": [
      "max length of all texts 8308\n",
      "Shape of data tensor: (16127, 11600)\n"
     ]
    }
   ],
   "source": [
    "data_fp = \"1990/1990s_gas_labeled_full_0.95.csv\"\n",
    "output_fp=\"1990_gas_text_to_pred.pickle\"\n",
    "tokenz_fp = \"tokenz_1990_gas_hist_aware_pickle.pickle\"\n",
    "data_prep(data_fp,tokenz_fp, output_fp)"
   ]
  },
  {
   "cell_type": "markdown",
   "metadata": {},
   "source": [
    "## Predictions"
   ]
  },
  {
   "cell_type": "code",
   "execution_count": null,
   "metadata": {},
   "outputs": [],
   "source": [
    "model_fp_suff = '1960_oil'\n",
    "model_fp= \"dropout(0.5, 0.8)_optimizer_adam_batch_size16_epoch_no100_hidden_dims50_1960_oil.h5\"\n",
    "pickle_fp=\"1960_oil_text_to_pred.pickle\"\n",
    "predict(model_fp,pickle_fp)"
   ]
  },
  {
   "cell_type": "code",
   "execution_count": 15,
   "metadata": {},
   "outputs": [],
   "source": [
    "model_fp_suff = '1960_coal'\n",
    "model_fp= \"dropout(0.5, 0.8)_optimizer_adam_batch_size16_epoch_no100_hidden_dims50_1960_coal.h5\"\n",
    "pickle_fp=\"1960_coal_text_to_pred.pickle\"\n",
    "predict(model_fp,pickle_fp)"
   ]
  },
  {
   "cell_type": "code",
   "execution_count": null,
   "metadata": {},
   "outputs": [],
   "source": [
    "model_fp_suff = '1960_gas'\n",
    "model_fp= \"dropout(0.5, 0.8)_optimizer_adam_batch_size16_epoch_no100_hidden_dims50_1960_gas.h5\"\n",
    "pickle_fp=\"1960_gas_text_to_pred.pickle\"\n",
    "predict(model_fp,pickle_fp)"
   ]
  },
  {
   "cell_type": "code",
   "execution_count": 25,
   "metadata": {},
   "outputs": [],
   "source": [
    "model_fp_suff = '1970_oil'\n",
    "model_fp= \"dropout(0.5, 0.8)_optimizer_adam_batch_size16_epoch_no100_hidden_dims50_1970_oil\"\n",
    "pickle_fp=\"1970_oil_text_to_pred.pickle\"\n",
    "predict(model_fp,pickle_fp)"
   ]
  },
  {
   "cell_type": "code",
   "execution_count": 4,
   "metadata": {
    "tags": []
   },
   "outputs": [],
   "source": [
    "\n",
    "model_fp_suff = '1970_coal'\n",
    "model_fp= \"dropout(0.5, 0.8)_optimizer_adam_batch_size16_epoch_no100_hidden_dims50_1970_coal.h5\"\n",
    "pickle_fp=\"1970_coal_text_to_pred.pickle\"\n",
    "predict(model_fp,pickle_fp)"
   ]
  },
  {
   "cell_type": "code",
   "execution_count": 9,
   "metadata": {},
   "outputs": [],
   "source": [
    "model_fp_suff = '1970_gas'\n",
    "model_fp= \"dropout(0.5, 0.8)_optimizer_adam_batch_size16_epoch_no100_hidden_dims50_1970_gas.h5\"\n",
    "pickle_fp=\"1970_gas_text_to_pred.pickle\"\n",
    "predict(model_fp,pickle_fp)"
   ]
  },
  {
   "cell_type": "code",
   "execution_count": 10,
   "metadata": {},
   "outputs": [],
   "source": [
    "model_fp_suff = '1980_oil'\n",
    "model_fp= \"dropout(0.5, 0.8)_optimizer_adam_batch_size16_epoch_no100_hidden_dims50_1980_oil.h5\"\n",
    "pickle_fp=\"1980_oil_text_to_pred.pickle\"\n",
    "predict(model_fp,pickle_fp)"
   ]
  },
  {
   "cell_type": "code",
   "execution_count": 11,
   "metadata": {},
   "outputs": [],
   "source": [
    "model_fp_suff = '1980_coal'\n",
    "model_fp= \"dropout(0.5, 0.8)_optimizer_adam_batch_size16_epoch_no100_hidden_dims50_1980_coal.h5\"\n",
    "pickle_fp=\"1980_coal_text_to_pred.pickle\"\n",
    "predict(model_fp,pickle_fp)"
   ]
  },
  {
   "cell_type": "code",
   "execution_count": 12,
   "metadata": {},
   "outputs": [],
   "source": [
    "model_fp_suff = '1980_gas'\n",
    "model_fp= \"dropout(0.5, 0.8)_optimizer_adam_batch_size16_epoch_no100_hidden_dims50_1980_gas.h5\"\n",
    "pickle_fp=\"1980_gas_text_to_pred.pickle\"\n",
    "predict(model_fp,pickle_fp)"
   ]
  },
  {
   "cell_type": "code",
   "execution_count": null,
   "metadata": {},
   "outputs": [],
   "source": [
    "model_fp_suff = '1990_oil'\n",
    "model_fp= \"dropout(0.5, 0.8)_optimizer_adam_batch_size16_epoch_no100_hidden_dims50_1990_oil.h5\"\n",
    "pickle_fp=\"1990_oil_text_to_pred.pickle\"\n",
    "predict(model_fp,pickle_fp)"
   ]
  },
  {
   "cell_type": "code",
   "execution_count": null,
   "metadata": {},
   "outputs": [],
   "source": [
    "model_fp_suff = '1990_coal'\n",
    "model_fp= \"dropout(0.5, 0.8)_optimizer_adam_batch_size16_epoch_no100_hidden_dims50_1990_coal.h5\"\n",
    "pickle_fp=\"1990_coal_text_to_pred.pickle\"\n",
    "predict(model_fp,pickle_fp)"
   ]
  },
  {
   "cell_type": "code",
   "execution_count": null,
   "metadata": {},
   "outputs": [],
   "source": [
    "model_fp_suff = '1990_gas'\n",
    "model_fp= \"dropout(0.5, 0.8)_optimizer_adam_batch_size16_epoch_no100_hidden_dims50_1990_gas.h5\"\n",
    "pickle_fp=\"1990_gas_text_to_pred.pickle\"\n",
    "predict(model_fp,pickle_fp)"
   ]
  }
 ],
 "metadata": {
  "kernelspec": {
   "display_name": "hist_aware3.8",
   "language": "python",
   "name": "hist_aware3.8"
  },
  "language_info": {
   "codemirror_mode": {
    "name": "ipython",
    "version": 3
   },
   "file_extension": ".py",
   "mimetype": "text/x-python",
   "name": "python",
   "nbconvert_exporter": "python",
   "pygments_lexer": "ipython3",
   "version": "3.8.5"
  }
 },
 "nbformat": 4,
 "nbformat_minor": 4
}
