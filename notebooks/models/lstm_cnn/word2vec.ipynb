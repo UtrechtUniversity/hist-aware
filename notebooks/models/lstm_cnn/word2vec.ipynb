{
 "cells": [
  {
   "cell_type": "code",
   "execution_count": 1,
   "metadata": {},
   "outputs": [],
   "source": [
    "import pandas as pd\n",
    "import glob\n",
    "import os\n",
    "from string import punctuation\n",
    "from os import listdir\n",
    "from gensim.models import Word2Vec\n",
    " \n",
    "from text_manager import TextManager\n",
    "import multiprocessing\n"
   ]
  },
  {
   "cell_type": "code",
   "execution_count": 2,
   "metadata": {},
   "outputs": [],
   "source": [
    "MAX_NUM_WORDS = 20000\n",
    "MAX_SEQUENCE_LENGTH = 12000\n",
    "\n",
    "\n",
    "RAW_DIR = '../../data/raw/'\n",
    "RAW_PATH_ALL = RAW_DIR+'*/*.csv'\n",
    "TXT_PATH_ALL = RAW_DIR+'*/*.txt'\n",
    "CLN_TXT_PATH_ALL = RAW_DIR+'*/clean_*.txt'"
   ]
  },
  {
   "cell_type": "code",
   "execution_count": 3,
   "metadata": {},
   "outputs": [],
   "source": [
    "def make_txts():\n",
    "    '''\n",
    "     read data files and convert them from csv to txt\n",
    "    '''\n",
    "    fps = glob.glob(RAW_PATH_ALL)\n",
    "    txc = TextManager()\n",
    "\n",
    "    for fp in fps:\n",
    "        df = pd.read_csv(fp)\n",
    "        print(df.shape)\n",
    "        txc.csv_to_txt(os.path.splitext(fp)[0]+'.txt', df.p) \n"
   ]
  },
  {
   "cell_type": "code",
   "execution_count": 4,
   "metadata": {},
   "outputs": [],
   "source": [
    "def load_txt(fp):\n",
    "    '''\n",
    "        load a text file\n",
    "    '''\n",
    "    with open(fp,'r') as f:\n",
    "        text = f.read()\n",
    "        \n",
    "    return text\n"
   ]
  },
  {
   "cell_type": "code",
   "execution_count": 6,
   "metadata": {},
   "outputs": [],
   "source": [
    "def clean_text(fp):\n",
    "    texts = load_txt(fp)\n",
    "    print(fp)\n",
    "    textManager = TextManager(\n",
    "            max_num_words = MAX_NUM_WORDS,\n",
    "            max_sequence_length = MAX_SEQUENCE_LENGTH\n",
    "        )\n",
    "\n",
    "    clean_texts = textManager.clean_text(texts)\n",
    "    print('max length of texts in a file', len(max(clean_texts, key=len)))\n",
    "    \n",
    "    file_name = os.path.basename(fp)\n",
    "    dir_name = os.path.dirname(fp)\n",
    "    \n",
    "    save_txts(clean_texts, dir_name+'/clean_'+file_name)"
   ]
  },
  {
   "cell_type": "code",
   "execution_count": 7,
   "metadata": {},
   "outputs": [],
   "source": [
    "def clean_texts():\n",
    "    fps = glob.glob(TXT_PATH_ALL)\n",
    "    for fp in fps:\n",
    "        clean_text(fp)"
   ]
  },
  {
   "cell_type": "code",
   "execution_count": 8,
   "metadata": {},
   "outputs": [],
   "source": [
    "def save_txts(texts, f_p):\n",
    "    '''\n",
    "        save a list of texts in a file\n",
    "    '''\n",
    "    with open(f_p, 'w') as f:\n",
    "        f.write(texts)"
   ]
  },
  {
   "cell_type": "code",
   "execution_count": 9,
   "metadata": {},
   "outputs": [],
   "source": [
    "def get_clean_texts():\n",
    "    fps = glob.glob(CLN_TXT_PATH_ALL)\n",
    "    texts = []\n",
    "    for fp in fps:\n",
    "        txt = load_txt(fp)\n",
    "        texts.append(txt)\n",
    "    save_txts(texts,RAW_DIR+'all_clean_txt.txt')"
   ]
  },
  {
   "cell_type": "markdown",
   "metadata": {},
   "source": [
    "## Preprocessing\n",
    "\n",
    "In this step we convert csv to text files, and clean the texts. The result is saved in 'all_clean_texts.txt'."
   ]
  },
  {
   "cell_type": "code",
   "execution_count": null,
   "metadata": {},
   "outputs": [],
   "source": [
    "make_txts()"
   ]
  },
  {
   "cell_type": "code",
   "execution_count": null,
   "metadata": {},
   "outputs": [
    {
     "name": "stdout",
     "output_type": "stream",
     "text": [
      "../../data/raw/1960/40.txt\n",
      "get words\n",
      "Transform to lower case.\n"
     ]
    }
   ],
   "source": [
    "clean_texts()"
   ]
  },
  {
   "cell_type": "markdown",
   "metadata": {},
   "source": [
    "## Train word2vec Embedding"
   ]
  },
  {
   "cell_type": "code",
   "execution_count": null,
   "metadata": {},
   "outputs": [],
   "source": [
    "cpu_no = multiprocessing.cpu_count()\n",
    "\n",
    "# train word2vec model\n",
    "model = Word2Vec(texts, size=320, window=5, workers=cpu_no, min_count=1)\n",
    "# summarize vocabulary size in model\n",
    "words = list(model.wv.vocab)\n",
    "print('Vocabulary size: %d' % len(words))\n",
    " \n",
    "# save model in ASCII (word2vec) format\n",
    "filename = 'embedding_word2vec.txt'\n",
    "model.wv.save_word2vec_format(filename, binary=False)"
   ]
  },
  {
   "cell_type": "code",
   "execution_count": 1,
   "metadata": {},
   "outputs": [],
   "source": []
  },
  {
   "cell_type": "code",
   "execution_count": 3,
   "metadata": {},
   "outputs": [],
   "source": []
  },
  {
   "cell_type": "code",
   "execution_count": 5,
   "metadata": {},
   "outputs": [
    {
     "data": {
      "text/plain": [
       "5"
      ]
     },
     "execution_count": 5,
     "metadata": {},
     "output_type": "execute_result"
    }
   ],
   "source": [
    "\n",
    "\n",
    "\n"
   ]
  },
  {
   "cell_type": "code",
   "execution_count": null,
   "metadata": {},
   "outputs": [],
   "source": []
  }
 ],
 "metadata": {
  "kernelspec": {
   "display_name": "histaware-VpTDj7tf-py3.8",
   "language": "python",
   "name": "histaware-vptdj7tf-py3.8"
  },
  "language_info": {
   "codemirror_mode": {
    "name": "ipython",
    "version": 3
   },
   "file_extension": ".py",
   "mimetype": "text/x-python",
   "name": "python",
   "nbconvert_exporter": "python",
   "pygments_lexer": "ipython3",
   "version": "3.8.5"
  }
 },
 "nbformat": 4,
 "nbformat_minor": 4
}
