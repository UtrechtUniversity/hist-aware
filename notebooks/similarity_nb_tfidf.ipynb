{
 "cells": [
  {
   "cell_type": "markdown",
   "metadata": {},
   "source": [
    "# Similarity search"
   ]
  },
  {
   "cell_type": "code",
   "execution_count": 35,
   "metadata": {},
   "outputs": [],
   "source": [
    "import re\n",
    "import pandas as pd\n",
    "import numpy as np\n",
    "from tqdm import tqdm\n",
    "from sklearn.svm import SVC\n",
    "from keras.models import Sequential\n",
    "from keras.layers.recurrent import LSTM, GRU\n",
    "from keras.layers.core import Dense, Activation, Dropout\n",
    "from keras.layers.embeddings import Embedding\n",
    "from keras.layers.normalization import BatchNormalization\n",
    "from keras.utils import np_utils\n",
    "from sklearn import preprocessing, decomposition, model_selection, metrics, pipeline\n",
    "from sklearn.model_selection import GridSearchCV\n",
    "from sklearn.feature_extraction.text import TfidfVectorizer, CountVectorizer\n",
    "from sklearn.decomposition import TruncatedSVD\n",
    "from sklearn.linear_model import LogisticRegression\n",
    "from sklearn.model_selection import train_test_split\n",
    "from sklearn.naive_bayes import MultinomialNB\n",
    "from keras.layers import GlobalMaxPooling1D, Conv1D, MaxPooling1D, Flatten, Bidirectional, SpatialDropout1D\n",
    "from keras.preprocessing import sequence, text\n",
    "from keras.callbacks import EarlyStopping\n",
    "import nltk\n",
    "from nltk import word_tokenize\n",
    "from nltk.corpus import stopwords"
   ]
  },
  {
   "cell_type": "markdown",
   "metadata": {},
   "source": [
    "### Read preprocessed text"
   ]
  },
  {
   "cell_type": "code",
   "execution_count": 157,
   "metadata": {},
   "outputs": [
    {
     "name": "stdout",
     "output_type": "stream",
     "text": [
      "<class 'pandas.core.frame.DataFrame'>\n",
      "Int64Index: 915 entries, 0 to 914\n",
      "Data columns (total 6 columns):\n",
      " #   Column         Non-Null Count  Dtype \n",
      "---  ------         --------------  ----- \n",
      " 0   text_clean     915 non-null    object\n",
      " 1   text_no_point  915 non-null    object\n",
      " 2   Unnamed: 0_x   915 non-null    int64 \n",
      " 3   Unnamed: 0     915 non-null    int64 \n",
      " 4   article_name   915 non-null    object\n",
      " 5   count          915 non-null    int64 \n",
      "dtypes: int64(3), object(3)\n",
      "memory usage: 50.0+ KB\n"
     ]
    }
   ],
   "source": [
    "df = pd.read_csv(\"cleaned_df.csv\")\n",
    "df = df[['text_clean', \"text_no_point\", 'Unnamed: 0_x', 'Unnamed: 0', 'article_name', 'count']]\n",
    "df.dropna(inplace=True)\n",
    "df = df.sort_values(by=['count'], ascending=False)\n",
    "df.info()"
   ]
  },
  {
   "cell_type": "code",
   "execution_count": 176,
   "metadata": {},
   "outputs": [],
   "source": [
    "# Read labelled test df\n",
    "#df.to_csv(\"merge.csv\")\n",
    "df = pd.read_csv(\"merge.csv\", sep=\";\")"
   ]
  },
  {
   "cell_type": "code",
   "execution_count": 177,
   "metadata": {},
   "outputs": [],
   "source": [
    "train = df[:60].copy()\n",
    "test =  df[61:].copy()"
   ]
  },
  {
   "cell_type": "code",
   "execution_count": 178,
   "metadata": {},
   "outputs": [
    {
     "data": {
      "text/html": [
       "<div>\n",
       "<style scoped>\n",
       "    .dataframe tbody tr th:only-of-type {\n",
       "        vertical-align: middle;\n",
       "    }\n",
       "\n",
       "    .dataframe tbody tr th {\n",
       "        vertical-align: top;\n",
       "    }\n",
       "\n",
       "    .dataframe thead th {\n",
       "        text-align: right;\n",
       "    }\n",
       "</style>\n",
       "<table border=\"1\" class=\"dataframe\">\n",
       "  <thead>\n",
       "    <tr style=\"text-align: right;\">\n",
       "      <th></th>\n",
       "      <th>index</th>\n",
       "      <th>text_clean</th>\n",
       "      <th>text_no_point</th>\n",
       "      <th>Unnamed: 0_x</th>\n",
       "      <th>Unnamed: 0</th>\n",
       "      <th>article_name</th>\n",
       "      <th>count</th>\n",
       "      <th>label</th>\n",
       "    </tr>\n",
       "  </thead>\n",
       "  <tbody>\n",
       "    <tr>\n",
       "      <th>55</th>\n",
       "      <td>74</td>\n",
       "      <td>STEENWIJK.  Mei. Coöp. Veilingsver. ..Steenwij...</td>\n",
       "      <td>STEENWIJK Mei Co Veilingsver Steenwijk en Bone...</td>\n",
       "      <td>102357</td>\n",
       "      <td>52</td>\n",
       "      <td>DDD_010537383_0070_articletext.xml</td>\n",
       "      <td>3</td>\n",
       "      <td>False</td>\n",
       "    </tr>\n",
       "    <tr>\n",
       "      <th>56</th>\n",
       "      <td>75</td>\n",
       "      <td>N.SCHARWOUDE.  Nov. — Groente  kg ien  — grote...</td>\n",
       "      <td>SCHARWOUDE Nov Groente kg ien grote drielingen...</td>\n",
       "      <td>27757</td>\n",
       "      <td>53</td>\n",
       "      <td>DDD_110585212_0127_articletext.xml</td>\n",
       "      <td>3</td>\n",
       "      <td>False</td>\n",
       "    </tr>\n",
       "    <tr>\n",
       "      <th>57</th>\n",
       "      <td>76</td>\n",
       "      <td>NAALDWIJK.  Dcc — Alicanten f .—.. Handappelen...</td>\n",
       "      <td>NAALDWIJK Dcc Alicanten Handappelen Stoofperen...</td>\n",
       "      <td>42450</td>\n",
       "      <td>54</td>\n",
       "      <td>DDD_110585221_0265_articletext.xml</td>\n",
       "      <td>3</td>\n",
       "      <td>False</td>\n",
       "    </tr>\n",
       "    <tr>\n",
       "      <th>58</th>\n",
       "      <td>77</td>\n",
       "      <td>Welk percentage van de steenkool in gas wordt ...</td>\n",
       "      <td>Welk percentage van de steenkool in gas wordt ...</td>\n",
       "      <td>123980</td>\n",
       "      <td>55</td>\n",
       "      <td>DDD_010612554_0068_articletext.xml</td>\n",
       "      <td>3</td>\n",
       "      <td>True</td>\n",
       "    </tr>\n",
       "    <tr>\n",
       "      <th>59</th>\n",
       "      <td>85</td>\n",
       "      <td>f Stel  voor dat  een stk Steenkool van een ki...</td>\n",
       "      <td>Stel voor dat een stk Steenkool van een kilo i...</td>\n",
       "      <td>126729</td>\n",
       "      <td>62</td>\n",
       "      <td>DDD_010862579_0048_articletext.xml</td>\n",
       "      <td>3</td>\n",
       "      <td>True</td>\n",
       "    </tr>\n",
       "  </tbody>\n",
       "</table>\n",
       "</div>"
      ],
      "text/plain": [
       "    index                                         text_clean  \\\n",
       "55     74  STEENWIJK.  Mei. Coöp. Veilingsver. ..Steenwij...   \n",
       "56     75  N.SCHARWOUDE.  Nov. — Groente  kg ien  — grote...   \n",
       "57     76  NAALDWIJK.  Dcc — Alicanten f .—.. Handappelen...   \n",
       "58     77  Welk percentage van de steenkool in gas wordt ...   \n",
       "59     85  f Stel  voor dat  een stk Steenkool van een ki...   \n",
       "\n",
       "                                        text_no_point  Unnamed: 0_x  \\\n",
       "55  STEENWIJK Mei Co Veilingsver Steenwijk en Bone...        102357   \n",
       "56  SCHARWOUDE Nov Groente kg ien grote drielingen...         27757   \n",
       "57  NAALDWIJK Dcc Alicanten Handappelen Stoofperen...         42450   \n",
       "58  Welk percentage van de steenkool in gas wordt ...        123980   \n",
       "59  Stel voor dat een stk Steenkool van een kilo i...        126729   \n",
       "\n",
       "    Unnamed: 0                        article_name  count  label  \n",
       "55          52  DDD_010537383_0070_articletext.xml      3  False  \n",
       "56          53  DDD_110585212_0127_articletext.xml      3  False  \n",
       "57          54  DDD_110585221_0265_articletext.xml      3  False  \n",
       "58          55  DDD_010612554_0068_articletext.xml      3   True  \n",
       "59          62  DDD_010862579_0048_articletext.xml      3   True  "
      ]
     },
     "execution_count": 178,
     "metadata": {},
     "output_type": "execute_result"
    }
   ],
   "source": [
    "train.tail(5)"
   ]
  },
  {
   "cell_type": "markdown",
   "metadata": {},
   "source": [
    "### TF-IDF similarity"
   ]
  },
  {
   "cell_type": "code",
   "execution_count": 36,
   "metadata": {},
   "outputs": [
    {
     "data": {
      "text/plain": [
       "915"
      ]
     },
     "execution_count": 36,
     "metadata": {},
     "output_type": "execute_result"
    }
   ],
   "source": [
    "stop_words = nltk.corpus.stopwords.words('dutch')\n",
    "\n",
    "def normalize_document(doc):\n",
    "    # lower case and remove special characters\\whitespaces\n",
    "    doc = re.sub(r'[^a-zA-Z0-9\\s]', '', doc, re.I|re.A)\n",
    "    doc = doc.lower()\n",
    "    doc = doc.strip()\n",
    "    # tokenize document\n",
    "    tokens = nltk.word_tokenize(doc)\n",
    "    #filter stopwords out of document\n",
    "    filtered_tokens = [token for token in tokens if token not in stop_words]\n",
    "    # re-create document from filtered tokens\n",
    "    doc = ' '.join(filtered_tokens)\n",
    "    return doc\n",
    "\n",
    "normalize_corpus = np.vectorize(normalize_document)\n",
    "\n",
    "norm_corpus = normalize_corpus(list(df['text_clean']))\n",
    "len(norm_corpus)"
   ]
  },
  {
   "cell_type": "code",
   "execution_count": 210,
   "metadata": {},
   "outputs": [],
   "source": [
    "# Spliting into X & y\n",
    "#X = train.iloc[:, 2].values # to get th\n",
    "X = train[\"text_no_point\"].values # to get th\n",
    "\n",
    "# Convert label to numeric\n",
    "lbl_enc = preprocessing.LabelEncoder()\n",
    "y = lbl_enc.fit_transform(train.label.values)"
   ]
  },
  {
   "cell_type": "code",
   "execution_count": 211,
   "metadata": {},
   "outputs": [],
   "source": [
    "# Building a TF IDF matrix out of the corpus of reviews\n",
    "from sklearn.feature_extraction.text import TfidfVectorizer\n",
    "td = TfidfVectorizer(max_features=None, strip_accents='unicode', analyzer='word', token_pattern=r'\\w{1,}',\n",
    "            ngram_range=(1, 1),  use_idf=1, smooth_idf=1, sublinear_tf=1)\n",
    "X = td.fit_transform(X).toarray()\n",
    "\n",
    "# Splitting into training & test subsets\n",
    "from sklearn.model_selection import train_test_split\n",
    "X_train, X_test, y_train, y_test = train_test_split(X, y, test_size = 0.3,\n",
    "                                                    random_state = 0)\n",
    "\n",
    "# Training the classifier & predicting on test data\n",
    "from sklearn.naive_bayes import MultinomialNB\n",
    "classifier = MultinomialNB()\n",
    "classifier.fit(X_train, y_train)\n",
    "\n",
    "# Predict\n",
    "y_pred = classifier.predict(X_test)"
   ]
  },
  {
   "cell_type": "code",
   "execution_count": 212,
   "metadata": {},
   "outputs": [
    {
     "name": "stdout",
     "output_type": "stream",
     "text": [
      "\n",
      " Accuracy:  1.0\n",
      "\n",
      "Classification Report\n",
      "======================================================\n",
      "\n",
      "               precision    recall  f1-score   support\n",
      "\n",
      "           0       1.00      1.00      1.00        12\n",
      "           1       1.00      1.00      1.00         6\n",
      "\n",
      "    accuracy                           1.00        18\n",
      "   macro avg       1.00      1.00      1.00        18\n",
      "weighted avg       1.00      1.00      1.00        18\n",
      "\n"
     ]
    }
   ],
   "source": [
    "# Classification metrics\n",
    "from sklearn.metrics import accuracy_score, classification_report\n",
    "classification_report = classification_report(y_test, y_pred)\n",
    "\n",
    "print('\\n Accuracy: ', accuracy_score(y_test, y_pred))\n",
    "print('\\nClassification Report')\n",
    "print('======================================================')\n",
    "print('\\n', classification_report)"
   ]
  },
  {
   "cell_type": "code",
   "execution_count": 213,
   "metadata": {},
   "outputs": [
    {
     "data": {
      "text/plain": [
       "array([0, 0, 1, 0, 0, 0, 0, 1, 0, 0, 0, 1, 1, 1, 1, 0, 0, 0, 1, 1, 0, 1,\n",
       "       1, 1, 0, 1, 1, 0, 1, 0, 1, 1, 0, 1, 0, 1, 1, 0, 0, 0, 1, 0, 0, 0,\n",
       "       1, 0, 0, 1, 1, 0, 1, 0, 1, 0, 0, 1, 0, 0, 1, 1, 0, 1, 0, 1, 1, 0,\n",
       "       1, 1, 1, 0, 1, 0, 1, 1, 1, 1, 0, 0, 1, 0, 0, 1, 0, 1, 0, 0, 1, 1,\n",
       "       0, 0, 1, 0, 0, 0, 1, 1, 1, 0, 0, 1, 1, 1, 0, 1, 1, 1, 1, 1, 1, 1,\n",
       "       1, 1, 1, 1, 1, 1, 0, 1, 1, 1, 0, 0, 0, 0, 1, 1, 1, 1, 0, 0, 1, 1,\n",
       "       1, 0, 0, 0, 1, 1, 1, 1, 1, 1, 0, 1, 0, 1, 1, 0, 0, 0, 1, 0, 0, 0,\n",
       "       1, 1, 0, 0, 0, 0, 0, 1, 0, 0, 0, 1, 1, 0, 0, 0, 1, 1, 0, 0, 0, 0,\n",
       "       0, 0, 1, 0, 0, 0, 0, 1, 0, 0, 0, 1, 1, 0, 1, 0, 1, 0, 1, 0, 1, 0,\n",
       "       0, 1, 0, 0, 1, 1, 0, 1, 1, 1, 1, 1, 0, 0, 1, 0, 0, 1, 1, 1, 0, 1,\n",
       "       0, 1, 0, 1, 1, 1, 0, 1, 1, 0, 0, 0, 1, 0, 0, 0, 0, 0, 0, 0, 0, 0,\n",
       "       1, 1, 0, 0, 0, 0, 1, 1, 0, 0, 0, 1, 0, 1, 0, 1, 0, 1, 0, 1, 1, 0,\n",
       "       0, 1, 0, 0, 0, 0, 0, 1, 1, 0, 1, 1, 1, 1, 0, 1, 1, 0, 1, 0, 0, 0,\n",
       "       0, 1, 0, 1, 1, 0, 0, 0, 1, 0, 1, 1, 0, 1, 0, 1, 1, 0, 0, 0, 0, 1,\n",
       "       0, 1, 0, 1, 1, 0, 1, 0, 1, 1, 0, 0, 1, 0, 1, 0, 0, 1, 0, 0, 0, 0,\n",
       "       1, 1, 0, 0, 0, 1, 0, 0, 0, 0, 1, 0, 1, 0, 1, 0, 0, 1, 1, 1, 0, 0,\n",
       "       1, 0, 1, 0, 0, 1, 1, 1, 1, 0, 0, 0, 0, 1, 0, 1, 1, 0, 0, 1, 0, 1,\n",
       "       0, 0, 0, 1, 0, 1, 0, 0, 0, 0, 0, 0, 0, 1, 0, 1, 0, 0, 1, 1, 0, 1,\n",
       "       0, 0, 1, 0, 1, 1, 0, 0, 1, 1, 1, 0, 0, 0, 0, 0, 0, 0, 0, 1, 0, 1,\n",
       "       0, 0, 1, 0, 1, 0, 0, 0, 0, 0, 1, 0, 1, 1, 0, 0, 1, 1, 0, 0, 1, 1,\n",
       "       1, 1, 1, 0, 1, 0, 0, 0, 0, 0, 0, 1, 1, 1, 0, 0, 0, 0, 1, 1, 0, 0,\n",
       "       0, 0, 0, 1, 0, 1, 1, 1, 0, 1, 0, 1, 0, 1, 0, 0, 1, 0, 0, 0, 0, 0,\n",
       "       0, 1, 1, 1, 1, 0, 1, 0, 1, 1, 1, 0, 1, 1, 1, 0, 0, 0, 1, 1, 0, 1,\n",
       "       1, 0, 1, 1, 0, 1, 1, 0, 0, 1, 0, 1, 0, 0, 0, 1, 1, 1, 1, 0, 1, 0,\n",
       "       1, 1, 1, 1, 0, 1, 0, 1, 1, 1, 0, 1, 0, 0, 1, 0, 0, 0, 0, 0, 1, 1,\n",
       "       0, 1, 1, 1, 0, 1, 1, 1, 0, 0, 0, 0, 0, 0, 1, 0, 0, 0, 0, 1, 0, 0,\n",
       "       0, 0, 0, 0, 0, 0, 1, 1, 1, 0, 1, 0, 1, 0, 1, 1, 1, 0, 1, 0, 0, 0,\n",
       "       0, 1, 0, 0, 1, 0, 0, 0, 0, 1, 1, 0, 1, 0, 0, 1, 0, 0, 0, 0, 1, 0,\n",
       "       0, 0, 1, 0, 1, 1, 1, 0, 0, 0, 1, 0, 1, 0, 1, 0, 0, 1, 1, 1, 1, 1,\n",
       "       1, 1, 0, 1, 1, 1, 1, 1, 1, 1, 1, 1, 1, 0, 0, 1, 1, 1, 1, 1, 1, 1,\n",
       "       1, 0, 1, 1, 0, 1, 0, 1, 1, 0, 1, 0, 1, 1, 1, 1, 1, 1, 0, 1, 1, 0,\n",
       "       0, 0, 1, 1, 1, 1, 0, 1, 0, 0, 0, 0, 0, 0, 0, 1, 1, 0, 0, 1, 0, 1,\n",
       "       0, 0, 1, 0, 1, 1, 1, 0, 1, 0, 1, 0, 0, 0, 1, 0, 0, 1, 0, 1, 0, 1,\n",
       "       1, 1, 1, 1, 0, 0, 0, 0, 1, 0, 1, 1, 1, 1, 0, 0, 1, 0, 0, 0, 1, 1,\n",
       "       0, 0, 1, 0, 0, 1, 1, 0, 0, 1, 0, 1, 1, 0, 0, 1, 0, 0, 0, 0, 1, 1,\n",
       "       0, 0, 0, 0, 0, 0, 0, 0, 0, 1, 1, 1, 0, 0, 1, 1, 0, 0, 1, 0, 0, 0,\n",
       "       1, 1, 1, 0, 0, 0, 1, 1, 0, 1, 1, 0, 0, 1, 0, 0, 1, 0, 0, 0, 0, 0,\n",
       "       1, 0, 0, 1, 0, 1, 1, 0, 1, 0, 0, 1, 1, 1, 1, 0, 1, 0, 1, 0, 0, 1,\n",
       "       0, 0, 0, 0, 0, 0, 0, 0, 0, 1, 0, 1, 1, 0, 0, 0, 0, 1])"
      ]
     },
     "execution_count": 213,
     "metadata": {},
     "output_type": "execute_result"
    }
   ],
   "source": [
    "T = test.iloc[:,1].values\n",
    "X_pred_test = td.transform(T).toarray()\n",
    "y_test = classifier.predict(X_pred_test)\n",
    "\n",
    "y_test"
   ]
  },
  {
   "cell_type": "markdown",
   "metadata": {},
   "source": [
    "## Fasttext"
   ]
  },
  {
   "cell_type": "code",
   "execution_count": 218,
   "metadata": {},
   "outputs": [],
   "source": [
    "df_ft = train.copy()"
   ]
  },
  {
   "cell_type": "code",
   "execution_count": 220,
   "metadata": {},
   "outputs": [],
   "source": [
    "df_ft.head()\n",
    "# Convert label to numeric\n",
    "lbl_enc = preprocessing.LabelEncoder()\n",
    "y = lbl_enc.fit_transform(train.label.values)\n",
    "df_ft[\"label\"] = y"
   ]
  },
  {
   "cell_type": "code",
   "execution_count": 228,
   "metadata": {},
   "outputs": [
    {
     "data": {
      "text/html": [
       "<div>\n",
       "<style scoped>\n",
       "    .dataframe tbody tr th:only-of-type {\n",
       "        vertical-align: middle;\n",
       "    }\n",
       "\n",
       "    .dataframe tbody tr th {\n",
       "        vertical-align: top;\n",
       "    }\n",
       "\n",
       "    .dataframe thead th {\n",
       "        text-align: right;\n",
       "    }\n",
       "</style>\n",
       "<table border=\"1\" class=\"dataframe\">\n",
       "  <thead>\n",
       "    <tr style=\"text-align: right;\">\n",
       "      <th></th>\n",
       "      <th>index</th>\n",
       "      <th>text_clean</th>\n",
       "      <th>text_no_point</th>\n",
       "      <th>Unnamed: 0_x</th>\n",
       "      <th>Unnamed: 0</th>\n",
       "      <th>article_name</th>\n",
       "      <th>count</th>\n",
       "      <th>label</th>\n",
       "    </tr>\n",
       "  </thead>\n",
       "  <tbody>\n",
       "    <tr>\n",
       "      <th>0</th>\n",
       "      <td>0</td>\n",
       "      <td>AMSTERDAM.  Nov. — Coörj. Tir.dersveilingverg....</td>\n",
       "      <td>AMSTERDAM Nov Co rj Tir dersveilingverg Amster...</td>\n",
       "      <td>40995</td>\n",
       "      <td>0</td>\n",
       "      <td>DDD_110585201_0106_articletext.xml</td>\n",
       "      <td>22</td>\n",
       "      <td>__label__0</td>\n",
       "    </tr>\n",
       "    <tr>\n",
       "      <th>1</th>\n",
       "      <td>1</td>\n",
       "      <td>AMSTERDAM  Nov. — Groente. tCoöp. Tindersveili...</td>\n",
       "      <td>AMSTERDAM Nov Groente tCo Tindersveilingverg A...</td>\n",
       "      <td>27756</td>\n",
       "      <td>1</td>\n",
       "      <td>DDD_110585212_0127_articletext.xml</td>\n",
       "      <td>19</td>\n",
       "      <td>__label__0</td>\n",
       "    </tr>\n",
       "    <tr>\n",
       "      <th>2</th>\n",
       "      <td>2</td>\n",
       "      <td>GROENTENVEILING LEEUWARDEN  Jni. Andijvie B—l ...</td>\n",
       "      <td>GROENTENVEILING LEEUWARDEN Jni Andijvie et per...</td>\n",
       "      <td>122267</td>\n",
       "      <td>2</td>\n",
       "      <td>DDD_010612675_0107_articletext.xml</td>\n",
       "      <td>13</td>\n",
       "      <td>__label__0</td>\n",
       "    </tr>\n",
       "    <tr>\n",
       "      <th>3</th>\n",
       "      <td>3</td>\n",
       "      <td>Aoiang er mijnen bestaan is het mijngas de gro...</td>\n",
       "      <td>Aoiang er mijnen bestaan is het mijngas de gro...</td>\n",
       "      <td>36288</td>\n",
       "      <td>3</td>\n",
       "      <td>DDD_010417712_0100_articletext.xml</td>\n",
       "      <td>13</td>\n",
       "      <td>__label__1</td>\n",
       "    </tr>\n",
       "    <tr>\n",
       "      <th>4</th>\n",
       "      <td>4</td>\n",
       "      <td>NAALDWIJK  Dec. — Groente Alleanten .—.. handa...</td>\n",
       "      <td>NAALDWIJK Dec Groente Alleanten handappelen an...</td>\n",
       "      <td>90947</td>\n",
       "      <td>4</td>\n",
       "      <td>DDD_110585219_0073_articletext.xml</td>\n",
       "      <td>12</td>\n",
       "      <td>__label__0</td>\n",
       "    </tr>\n",
       "  </tbody>\n",
       "</table>\n",
       "</div>"
      ],
      "text/plain": [
       "   index                                         text_clean  \\\n",
       "0      0  AMSTERDAM.  Nov. — Coörj. Tir.dersveilingverg....   \n",
       "1      1  AMSTERDAM  Nov. — Groente. tCoöp. Tindersveili...   \n",
       "2      2  GROENTENVEILING LEEUWARDEN  Jni. Andijvie B—l ...   \n",
       "3      3  Aoiang er mijnen bestaan is het mijngas de gro...   \n",
       "4      4  NAALDWIJK  Dec. — Groente Alleanten .—.. handa...   \n",
       "\n",
       "                                       text_no_point  Unnamed: 0_x  \\\n",
       "0  AMSTERDAM Nov Co rj Tir dersveilingverg Amster...         40995   \n",
       "1  AMSTERDAM Nov Groente tCo Tindersveilingverg A...         27756   \n",
       "2  GROENTENVEILING LEEUWARDEN Jni Andijvie et per...        122267   \n",
       "3  Aoiang er mijnen bestaan is het mijngas de gro...         36288   \n",
       "4  NAALDWIJK Dec Groente Alleanten handappelen an...         90947   \n",
       "\n",
       "   Unnamed: 0                        article_name  count       label  \n",
       "0           0  DDD_110585201_0106_articletext.xml     22  __label__0  \n",
       "1           1  DDD_110585212_0127_articletext.xml     19  __label__0  \n",
       "2           2  DDD_010612675_0107_articletext.xml     13  __label__0  \n",
       "3           3  DDD_010417712_0100_articletext.xml     13  __label__1  \n",
       "4           4  DDD_110585219_0073_articletext.xml     12  __label__0  "
      ]
     },
     "execution_count": 228,
     "metadata": {},
     "output_type": "execute_result"
    }
   ],
   "source": [
    "df_ft.head()"
   ]
  },
  {
   "cell_type": "code",
   "execution_count": 230,
   "metadata": {},
   "outputs": [
    {
     "data": {
      "text/html": [
       "<div>\n",
       "<style scoped>\n",
       "    .dataframe tbody tr th:only-of-type {\n",
       "        vertical-align: middle;\n",
       "    }\n",
       "\n",
       "    .dataframe tbody tr th {\n",
       "        vertical-align: top;\n",
       "    }\n",
       "\n",
       "    .dataframe thead th {\n",
       "        text-align: right;\n",
       "    }\n",
       "</style>\n",
       "<table border=\"1\" class=\"dataframe\">\n",
       "  <thead>\n",
       "    <tr style=\"text-align: right;\">\n",
       "      <th></th>\n",
       "      <th>index</th>\n",
       "      <th>text_clean</th>\n",
       "      <th>text_no_point</th>\n",
       "      <th>Unnamed: 0_x</th>\n",
       "      <th>Unnamed: 0</th>\n",
       "      <th>article_name</th>\n",
       "      <th>count</th>\n",
       "      <th>label</th>\n",
       "    </tr>\n",
       "  </thead>\n",
       "  <tbody>\n",
       "    <tr>\n",
       "      <th>0</th>\n",
       "      <td>0</td>\n",
       "      <td>AMSTERDAM.  Nov. — Coörj. Tir.dersveilingverg....</td>\n",
       "      <td>AMSTERDAM Nov Co rj Tir dersveilingverg Amster...</td>\n",
       "      <td>40995</td>\n",
       "      <td>0</td>\n",
       "      <td>DDD_110585201_0106_articletext.xml</td>\n",
       "      <td>22</td>\n",
       "      <td>__label____label__0</td>\n",
       "    </tr>\n",
       "    <tr>\n",
       "      <th>1</th>\n",
       "      <td>1</td>\n",
       "      <td>AMSTERDAM  Nov. — Groente. tCoöp. Tindersveili...</td>\n",
       "      <td>AMSTERDAM Nov Groente tCo Tindersveilingverg A...</td>\n",
       "      <td>27756</td>\n",
       "      <td>1</td>\n",
       "      <td>DDD_110585212_0127_articletext.xml</td>\n",
       "      <td>19</td>\n",
       "      <td>__label____label__0</td>\n",
       "    </tr>\n",
       "    <tr>\n",
       "      <th>2</th>\n",
       "      <td>2</td>\n",
       "      <td>GROENTENVEILING LEEUWARDEN  Jni. Andijvie B—l ...</td>\n",
       "      <td>GROENTENVEILING LEEUWARDEN Jni Andijvie et per...</td>\n",
       "      <td>122267</td>\n",
       "      <td>2</td>\n",
       "      <td>DDD_010612675_0107_articletext.xml</td>\n",
       "      <td>13</td>\n",
       "      <td>__label____label__0</td>\n",
       "    </tr>\n",
       "    <tr>\n",
       "      <th>3</th>\n",
       "      <td>3</td>\n",
       "      <td>Aoiang er mijnen bestaan is het mijngas de gro...</td>\n",
       "      <td>Aoiang er mijnen bestaan is het mijngas de gro...</td>\n",
       "      <td>36288</td>\n",
       "      <td>3</td>\n",
       "      <td>DDD_010417712_0100_articletext.xml</td>\n",
       "      <td>13</td>\n",
       "      <td>__label____label__1</td>\n",
       "    </tr>\n",
       "    <tr>\n",
       "      <th>4</th>\n",
       "      <td>4</td>\n",
       "      <td>NAALDWIJK  Dec. — Groente Alleanten .—.. handa...</td>\n",
       "      <td>NAALDWIJK Dec Groente Alleanten handappelen an...</td>\n",
       "      <td>90947</td>\n",
       "      <td>4</td>\n",
       "      <td>DDD_110585219_0073_articletext.xml</td>\n",
       "      <td>12</td>\n",
       "      <td>__label____label__0</td>\n",
       "    </tr>\n",
       "  </tbody>\n",
       "</table>\n",
       "</div>"
      ],
      "text/plain": [
       "   index                                         text_clean  \\\n",
       "0      0  AMSTERDAM.  Nov. — Coörj. Tir.dersveilingverg....   \n",
       "1      1  AMSTERDAM  Nov. — Groente. tCoöp. Tindersveili...   \n",
       "2      2  GROENTENVEILING LEEUWARDEN  Jni. Andijvie B—l ...   \n",
       "3      3  Aoiang er mijnen bestaan is het mijngas de gro...   \n",
       "4      4  NAALDWIJK  Dec. — Groente Alleanten .—.. handa...   \n",
       "\n",
       "                                       text_no_point  Unnamed: 0_x  \\\n",
       "0  AMSTERDAM Nov Co rj Tir dersveilingverg Amster...         40995   \n",
       "1  AMSTERDAM Nov Groente tCo Tindersveilingverg A...         27756   \n",
       "2  GROENTENVEILING LEEUWARDEN Jni Andijvie et per...        122267   \n",
       "3  Aoiang er mijnen bestaan is het mijngas de gro...         36288   \n",
       "4  NAALDWIJK Dec Groente Alleanten handappelen an...         90947   \n",
       "\n",
       "   Unnamed: 0                        article_name  count                label  \n",
       "0           0  DDD_110585201_0106_articletext.xml     22  __label____label__0  \n",
       "1           1  DDD_110585212_0127_articletext.xml     19  __label____label__0  \n",
       "2           2  DDD_010612675_0107_articletext.xml     13  __label____label__0  \n",
       "3           3  DDD_010417712_0100_articletext.xml     13  __label____label__1  \n",
       "4           4  DDD_110585219_0073_articletext.xml     12  __label____label__0  "
      ]
     },
     "execution_count": 230,
     "metadata": {},
     "output_type": "execute_result"
    }
   ],
   "source": [
    "df_ft['label']=['__label__'+str(s) for s in df_ft['label']]"
   ]
  },
  {
   "cell_type": "code",
   "execution_count": 236,
   "metadata": {},
   "outputs": [],
   "source": [
    "dff = df_ft[[\"label\", \"text_no_point\"]]"
   ]
  },
  {
   "cell_type": "code",
   "execution_count": 240,
   "metadata": {},
   "outputs": [],
   "source": [
    "import csv\n",
    "dff.to_csv(r'merge.txt', index=False, sep=' ', header=False, quoting=csv.QUOTE_NONE, quotechar=\"\", escapechar=\" \")"
   ]
  },
  {
   "cell_type": "code",
   "execution_count": 261,
   "metadata": {},
   "outputs": [],
   "source": [
    "import fasttext\n",
    "\n",
    "model = fasttext.train_supervised(input=\"merge.txt\", lr=0.001, epoch=500, wordNgrams=5, bucket=200000, dim=200, loss='hs')"
   ]
  },
  {
   "cell_type": "code",
   "execution_count": 298,
   "metadata": {},
   "outputs": [
    {
     "data": {
      "text/plain": [
       "'Ernstig ongelk bij frites bakken te Gelle. — Bij de bakker H. Bollen te Gelle was men dezer dagen bezig op een Petrolemstel frites te bakken. Het petrolemstel kantelde en de petrolem verlengde zich met het vet. Een felle vlam sloeg hoog op jist toen de vrow van de heer Bollen en haar schoonzster toeschoten om het gevaar te bezweren. De bieren van beide vrowen vatten vlam. Mevrow Bollen had de tegenwoordigheid van geest onmiddellijk in een biten de honing geplaats vat met water te springen. De schoonzster bekwam ernstiger brandwonden. De twee vrowen zijn naar het ziekenhis Calvariënberg te Maastricht overgebracht. Hn toestand is thans bevredigend.'"
      ]
     },
     "execution_count": 298,
     "metadata": {},
     "output_type": "execute_result"
    }
   ],
   "source": [
    "#model.predict(test.iloc[:,1].values)\n",
    "test.iloc[7,1]#.values"
   ]
  },
  {
   "cell_type": "code",
   "execution_count": 299,
   "metadata": {},
   "outputs": [
    {
     "data": {
      "text/plain": [
       "array([1])"
      ]
     },
     "execution_count": 299,
     "metadata": {},
     "output_type": "execute_result"
    }
   ],
   "source": [
    "t=[test.iloc[7,1]]\n",
    "tt = td.transform(t).toarray()\n",
    "classifier.predict(tt)"
   ]
  },
  {
   "cell_type": "code",
   "execution_count": null,
   "metadata": {},
   "outputs": [],
   "source": []
  }
 ],
 "metadata": {
  "kernelspec": {
   "display_name": "histaware-RplM6c3o-py3.8",
   "language": "python",
   "name": "histaware-rplm6c3o-py3.8"
  },
  "language_info": {
   "codemirror_mode": {
    "name": "ipython",
    "version": 3
   },
   "file_extension": ".py",
   "mimetype": "text/x-python",
   "name": "python",
   "nbconvert_exporter": "python",
   "pygments_lexer": "ipython3",
   "version": "3.8.5"
  }
 },
 "nbformat": 4,
 "nbformat_minor": 4
}
