{
 "cells": [
  {
   "cell_type": "markdown",
   "metadata": {},
   "source": [
    "# Similarity search"
   ]
  },
  {
   "cell_type": "code",
   "execution_count": 17,
   "metadata": {},
   "outputs": [],
   "source": [
    "import re\n",
    "import pandas as pd\n",
    "import numpy as np\n",
    "from tqdm import tqdm\n",
    "from sklearn.svm import SVC\n",
    "from keras.models import Sequential\n",
    "from keras.layers.recurrent import LSTM, GRU\n",
    "from keras.layers.core import Dense, Activation, Dropout\n",
    "from keras.layers.embeddings import Embedding\n",
    "from keras.layers.normalization import BatchNormalization\n",
    "from keras.utils import np_utils\n",
    "from sklearn import preprocessing, decomposition, model_selection, metrics, pipeline\n",
    "from sklearn.model_selection import GridSearchCV\n",
    "from sklearn.feature_extraction.text import TfidfVectorizer, CountVectorizer\n",
    "from sklearn.decomposition import TruncatedSVD\n",
    "from sklearn.linear_model import LogisticRegression\n",
    "from sklearn.model_selection import train_test_split\n",
    "from sklearn.naive_bayes import MultinomialNB\n",
    "from keras.layers import GlobalMaxPooling1D, Conv1D, MaxPooling1D, Flatten, Bidirectional, SpatialDropout1D\n",
    "from keras.preprocessing import sequence, text\n",
    "from keras.callbacks import EarlyStopping\n",
    "import nltk\n",
    "from nltk import word_tokenize\n",
    "from nltk.corpus import stopwords"
   ]
  },
  {
   "cell_type": "markdown",
   "metadata": {},
   "source": [
    "### Read preprocessed text"
   ]
  },
  {
   "cell_type": "code",
   "execution_count": 36,
   "metadata": {},
   "outputs": [
    {
     "name": "stdout",
     "output_type": "stream",
     "text": [
      "<class 'pandas.core.frame.DataFrame'>\n",
      "Int64Index: 34065 entries, 0 to 135906\n",
      "Data columns (total 6 columns):\n",
      " #   Column         Non-Null Count  Dtype \n",
      "---  ------         --------------  ----- \n",
      " 0   Unnamed: 0     34065 non-null  int64 \n",
      " 1   Unnamed: 0_x   34065 non-null  int64 \n",
      " 2   text_clean     34065 non-null  object\n",
      " 3   text_no_point  34065 non-null  object\n",
      " 4   article_name   34065 non-null  object\n",
      " 5   count          34065 non-null  int64 \n",
      "dtypes: int64(3), object(3)\n",
      "memory usage: 1.8+ MB\n"
     ]
    }
   ],
   "source": [
    "df = pd.read_csv(\"cleaned_df.csv\")\n",
    "df = df[[\"Unnamed: 0\", \"Unnamed: 0_x\", 'text_clean', \"text_no_point\", 'article_name', 'count']]\n",
    "df.dropna(inplace=True)\n",
    "df = df.sort_values(by=['count'], ascending=False)"
   ]
  },
  {
   "cell_type": "code",
   "execution_count": 34,
   "metadata": {},
   "outputs": [],
   "source": [
    "# Read labelled test df\n",
    "#df.to_csv(\"merge.csv\")\n",
    "label = df[:300].copy()\n",
    "label = label[['text_clean', \"Unnamed: 0\"]]\n",
    "label.rename(columns={'text_clean': 'text', 'Unnamed: 0': 'index'}, inplace=True)\n",
    "label.to_csv(\"to_annotate.csv\")"
   ]
  },
  {
   "cell_type": "markdown",
   "metadata": {},
   "source": [
    "### After manually annotating text"
   ]
  },
  {
   "cell_type": "code",
   "execution_count": 40,
   "metadata": {},
   "outputs": [],
   "source": [
    "df = pd.read_csv(\"to_annotate.csv\")\n",
    "df = pd.read_csv(\"merge.csv\", sep=\";\")"
   ]
  },
  {
   "cell_type": "code",
   "execution_count": 41,
   "metadata": {},
   "outputs": [],
   "source": [
    "train = df[:60].copy()\n",
    "test =  df[61:].copy()"
   ]
  },
  {
   "cell_type": "code",
   "execution_count": 43,
   "metadata": {},
   "outputs": [
    {
     "data": {
      "text/html": [
       "<div>\n",
       "<style scoped>\n",
       "    .dataframe tbody tr th:only-of-type {\n",
       "        vertical-align: middle;\n",
       "    }\n",
       "\n",
       "    .dataframe tbody tr th {\n",
       "        vertical-align: top;\n",
       "    }\n",
       "\n",
       "    .dataframe thead th {\n",
       "        text-align: right;\n",
       "    }\n",
       "</style>\n",
       "<table border=\"1\" class=\"dataframe\">\n",
       "  <thead>\n",
       "    <tr style=\"text-align: right;\">\n",
       "      <th></th>\n",
       "      <th>index</th>\n",
       "      <th>text_clean</th>\n",
       "      <th>text_no_point</th>\n",
       "      <th>Unnamed: 0_x</th>\n",
       "      <th>Unnamed: 0</th>\n",
       "      <th>article_name</th>\n",
       "      <th>count</th>\n",
       "      <th>label</th>\n",
       "    </tr>\n",
       "  </thead>\n",
       "  <tbody>\n",
       "    <tr>\n",
       "      <th>910</th>\n",
       "      <td>443</td>\n",
       "      <td>HotelManager Restarater met terdege vakkennis ...</td>\n",
       "      <td>HotelManager Restarater met terdege vakkennis ...</td>\n",
       "      <td>121333</td>\n",
       "      <td>753</td>\n",
       "      <td>DDD_010865783_0077_articletext.xml</td>\n",
       "      <td>1</td>\n",
       "      <td>NaN</td>\n",
       "    </tr>\n",
       "    <tr>\n",
       "      <th>911</th>\n",
       "      <td>444</td>\n",
       "      <td>DAMESFIETS merk „Jawis Te bez. Djalan Skabmi ...</td>\n",
       "      <td>DAMESFIETS merk Jawis Te bez Djalan Skabmi GAS...</td>\n",
       "      <td>121413</td>\n",
       "      <td>754</td>\n",
       "      <td>DDD_010865783_0071_articletext.xml</td>\n",
       "      <td>1</td>\n",
       "      <td>NaN</td>\n",
       "    </tr>\n",
       "    <tr>\n",
       "      <th>912</th>\n",
       "      <td>445</td>\n",
       "      <td>Met ingang van gisteren Ls de erkoopprU» van b...</td>\n",
       "      <td>Met ingang van gisteren Ls de erkoopprU van be...</td>\n",
       "      <td>121494</td>\n",
       "      <td>755</td>\n",
       "      <td>DDD_011210731_0040_articletext.xml</td>\n",
       "      <td>1</td>\n",
       "      <td>NaN</td>\n",
       "    </tr>\n",
       "    <tr>\n",
       "      <th>913</th>\n",
       "      <td>446</td>\n",
       "      <td>«ea. Bk. sc. Air. Annd.  Rotterd. Bankv»   Sri...</td>\n",
       "      <td>ea Bk sc Air Annd Rotterd Bankv Srinaamse Bk r...</td>\n",
       "      <td>121692</td>\n",
       "      <td>756</td>\n",
       "      <td>DDD_011155381_0129_articletext.xml</td>\n",
       "      <td>1</td>\n",
       "      <td>NaN</td>\n",
       "    </tr>\n",
       "    <tr>\n",
       "      <th>914</th>\n",
       "      <td>914</td>\n",
       "      <td>Donderdag  en Vrijdag  Jni zal het Koninklijk ...</td>\n",
       "      <td>Donderdag en Vrijdag Jni zal het Koninklijk Pa...</td>\n",
       "      <td>135657</td>\n",
       "      <td>914</td>\n",
       "      <td>DDD_010537284_0012_articletext.xml</td>\n",
       "      <td>1</td>\n",
       "      <td>NaN</td>\n",
       "    </tr>\n",
       "  </tbody>\n",
       "</table>\n",
       "</div>"
      ],
      "text/plain": [
       "     index                                         text_clean  \\\n",
       "910    443  HotelManager Restarater met terdege vakkennis ...   \n",
       "911    444   DAMESFIETS merk „Jawis Te bez. Djalan Skabmi ...   \n",
       "912    445  Met ingang van gisteren Ls de erkoopprU» van b...   \n",
       "913    446  «ea. Bk. sc. Air. Annd.  Rotterd. Bankv»   Sri...   \n",
       "914    914  Donderdag  en Vrijdag  Jni zal het Koninklijk ...   \n",
       "\n",
       "                                         text_no_point  Unnamed: 0_x  \\\n",
       "910  HotelManager Restarater met terdege vakkennis ...        121333   \n",
       "911  DAMESFIETS merk Jawis Te bez Djalan Skabmi GAS...        121413   \n",
       "912  Met ingang van gisteren Ls de erkoopprU van be...        121494   \n",
       "913  ea Bk sc Air Annd Rotterd Bankv Srinaamse Bk r...        121692   \n",
       "914  Donderdag en Vrijdag Jni zal het Koninklijk Pa...        135657   \n",
       "\n",
       "     Unnamed: 0                        article_name  count label  \n",
       "910         753  DDD_010865783_0077_articletext.xml      1   NaN  \n",
       "911         754  DDD_010865783_0071_articletext.xml      1   NaN  \n",
       "912         755  DDD_011210731_0040_articletext.xml      1   NaN  \n",
       "913         756  DDD_011155381_0129_articletext.xml      1   NaN  \n",
       "914         914  DDD_010537284_0012_articletext.xml      1   NaN  "
      ]
     },
     "execution_count": 43,
     "metadata": {},
     "output_type": "execute_result"
    }
   ],
   "source": [
    "test.tail(5)"
   ]
  },
  {
   "cell_type": "markdown",
   "metadata": {},
   "source": [
    "### TF-IDF similarity"
   ]
  },
  {
   "cell_type": "code",
   "execution_count": 210,
   "metadata": {},
   "outputs": [],
   "source": [
    "# Spliting into X & y\n",
    "#X = train.iloc[:, 2].values # to get th\n",
    "X = train[\"text_no_point\"].values # to get th\n",
    "\n",
    "# Convert label to numeric\n",
    "lbl_enc = preprocessing.LabelEncoder()\n",
    "y = lbl_enc.fit_transform(train.label.values)"
   ]
  },
  {
   "cell_type": "code",
   "execution_count": 211,
   "metadata": {},
   "outputs": [],
   "source": [
    "# Building a TF IDF matrix out of the corpus of reviews\n",
    "from sklearn.feature_extraction.text import TfidfVectorizer\n",
    "td = TfidfVectorizer(max_features=None, strip_accents='unicode', analyzer='word', token_pattern=r'\\w{1,}',\n",
    "            ngram_range=(1, 1),  use_idf=1, smooth_idf=1, sublinear_tf=1)\n",
    "X = td.fit_transform(X).toarray()\n",
    "\n",
    "# Splitting into training & test subsets\n",
    "from sklearn.model_selection import train_test_split\n",
    "X_train, X_test, y_train, y_test = train_test_split(X, y, test_size = 0.3,\n",
    "                                                    random_state = 0)\n",
    "\n",
    "# Training the classifier & predicting on test data\n",
    "from sklearn.naive_bayes import MultinomialNB\n",
    "classifier = MultinomialNB()\n",
    "classifier.fit(X_train, y_train)\n",
    "\n",
    "# Predict\n",
    "y_pred = classifier.predict(X_test)"
   ]
  },
  {
   "cell_type": "code",
   "execution_count": 212,
   "metadata": {},
   "outputs": [
    {
     "name": "stdout",
     "output_type": "stream",
     "text": [
      "\n",
      " Accuracy:  1.0\n",
      "\n",
      "Classification Report\n",
      "======================================================\n",
      "\n",
      "               precision    recall  f1-score   support\n",
      "\n",
      "           0       1.00      1.00      1.00        12\n",
      "           1       1.00      1.00      1.00         6\n",
      "\n",
      "    accuracy                           1.00        18\n",
      "   macro avg       1.00      1.00      1.00        18\n",
      "weighted avg       1.00      1.00      1.00        18\n",
      "\n"
     ]
    }
   ],
   "source": [
    "# Classification metrics\n",
    "from sklearn.metrics import accuracy_score, classification_report\n",
    "classification_report = classification_report(y_test, y_pred)\n",
    "\n",
    "print('\\n Accuracy: ', accuracy_score(y_test, y_pred))\n",
    "print('\\nClassification Report')\n",
    "print('======================================================')\n",
    "print('\\n', classification_report)"
   ]
  },
  {
   "cell_type": "code",
   "execution_count": 213,
   "metadata": {},
   "outputs": [
    {
     "data": {
      "text/plain": [
       "array([0, 0, 1, 0, 0, 0, 0, 1, 0, 0, 0, 1, 1, 1, 1, 0, 0, 0, 1, 1, 0, 1,\n",
       "       1, 1, 0, 1, 1, 0, 1, 0, 1, 1, 0, 1, 0, 1, 1, 0, 0, 0, 1, 0, 0, 0,\n",
       "       1, 0, 0, 1, 1, 0, 1, 0, 1, 0, 0, 1, 0, 0, 1, 1, 0, 1, 0, 1, 1, 0,\n",
       "       1, 1, 1, 0, 1, 0, 1, 1, 1, 1, 0, 0, 1, 0, 0, 1, 0, 1, 0, 0, 1, 1,\n",
       "       0, 0, 1, 0, 0, 0, 1, 1, 1, 0, 0, 1, 1, 1, 0, 1, 1, 1, 1, 1, 1, 1,\n",
       "       1, 1, 1, 1, 1, 1, 0, 1, 1, 1, 0, 0, 0, 0, 1, 1, 1, 1, 0, 0, 1, 1,\n",
       "       1, 0, 0, 0, 1, 1, 1, 1, 1, 1, 0, 1, 0, 1, 1, 0, 0, 0, 1, 0, 0, 0,\n",
       "       1, 1, 0, 0, 0, 0, 0, 1, 0, 0, 0, 1, 1, 0, 0, 0, 1, 1, 0, 0, 0, 0,\n",
       "       0, 0, 1, 0, 0, 0, 0, 1, 0, 0, 0, 1, 1, 0, 1, 0, 1, 0, 1, 0, 1, 0,\n",
       "       0, 1, 0, 0, 1, 1, 0, 1, 1, 1, 1, 1, 0, 0, 1, 0, 0, 1, 1, 1, 0, 1,\n",
       "       0, 1, 0, 1, 1, 1, 0, 1, 1, 0, 0, 0, 1, 0, 0, 0, 0, 0, 0, 0, 0, 0,\n",
       "       1, 1, 0, 0, 0, 0, 1, 1, 0, 0, 0, 1, 0, 1, 0, 1, 0, 1, 0, 1, 1, 0,\n",
       "       0, 1, 0, 0, 0, 0, 0, 1, 1, 0, 1, 1, 1, 1, 0, 1, 1, 0, 1, 0, 0, 0,\n",
       "       0, 1, 0, 1, 1, 0, 0, 0, 1, 0, 1, 1, 0, 1, 0, 1, 1, 0, 0, 0, 0, 1,\n",
       "       0, 1, 0, 1, 1, 0, 1, 0, 1, 1, 0, 0, 1, 0, 1, 0, 0, 1, 0, 0, 0, 0,\n",
       "       1, 1, 0, 0, 0, 1, 0, 0, 0, 0, 1, 0, 1, 0, 1, 0, 0, 1, 1, 1, 0, 0,\n",
       "       1, 0, 1, 0, 0, 1, 1, 1, 1, 0, 0, 0, 0, 1, 0, 1, 1, 0, 0, 1, 0, 1,\n",
       "       0, 0, 0, 1, 0, 1, 0, 0, 0, 0, 0, 0, 0, 1, 0, 1, 0, 0, 1, 1, 0, 1,\n",
       "       0, 0, 1, 0, 1, 1, 0, 0, 1, 1, 1, 0, 0, 0, 0, 0, 0, 0, 0, 1, 0, 1,\n",
       "       0, 0, 1, 0, 1, 0, 0, 0, 0, 0, 1, 0, 1, 1, 0, 0, 1, 1, 0, 0, 1, 1,\n",
       "       1, 1, 1, 0, 1, 0, 0, 0, 0, 0, 0, 1, 1, 1, 0, 0, 0, 0, 1, 1, 0, 0,\n",
       "       0, 0, 0, 1, 0, 1, 1, 1, 0, 1, 0, 1, 0, 1, 0, 0, 1, 0, 0, 0, 0, 0,\n",
       "       0, 1, 1, 1, 1, 0, 1, 0, 1, 1, 1, 0, 1, 1, 1, 0, 0, 0, 1, 1, 0, 1,\n",
       "       1, 0, 1, 1, 0, 1, 1, 0, 0, 1, 0, 1, 0, 0, 0, 1, 1, 1, 1, 0, 1, 0,\n",
       "       1, 1, 1, 1, 0, 1, 0, 1, 1, 1, 0, 1, 0, 0, 1, 0, 0, 0, 0, 0, 1, 1,\n",
       "       0, 1, 1, 1, 0, 1, 1, 1, 0, 0, 0, 0, 0, 0, 1, 0, 0, 0, 0, 1, 0, 0,\n",
       "       0, 0, 0, 0, 0, 0, 1, 1, 1, 0, 1, 0, 1, 0, 1, 1, 1, 0, 1, 0, 0, 0,\n",
       "       0, 1, 0, 0, 1, 0, 0, 0, 0, 1, 1, 0, 1, 0, 0, 1, 0, 0, 0, 0, 1, 0,\n",
       "       0, 0, 1, 0, 1, 1, 1, 0, 0, 0, 1, 0, 1, 0, 1, 0, 0, 1, 1, 1, 1, 1,\n",
       "       1, 1, 0, 1, 1, 1, 1, 1, 1, 1, 1, 1, 1, 0, 0, 1, 1, 1, 1, 1, 1, 1,\n",
       "       1, 0, 1, 1, 0, 1, 0, 1, 1, 0, 1, 0, 1, 1, 1, 1, 1, 1, 0, 1, 1, 0,\n",
       "       0, 0, 1, 1, 1, 1, 0, 1, 0, 0, 0, 0, 0, 0, 0, 1, 1, 0, 0, 1, 0, 1,\n",
       "       0, 0, 1, 0, 1, 1, 1, 0, 1, 0, 1, 0, 0, 0, 1, 0, 0, 1, 0, 1, 0, 1,\n",
       "       1, 1, 1, 1, 0, 0, 0, 0, 1, 0, 1, 1, 1, 1, 0, 0, 1, 0, 0, 0, 1, 1,\n",
       "       0, 0, 1, 0, 0, 1, 1, 0, 0, 1, 0, 1, 1, 0, 0, 1, 0, 0, 0, 0, 1, 1,\n",
       "       0, 0, 0, 0, 0, 0, 0, 0, 0, 1, 1, 1, 0, 0, 1, 1, 0, 0, 1, 0, 0, 0,\n",
       "       1, 1, 1, 0, 0, 0, 1, 1, 0, 1, 1, 0, 0, 1, 0, 0, 1, 0, 0, 0, 0, 0,\n",
       "       1, 0, 0, 1, 0, 1, 1, 0, 1, 0, 0, 1, 1, 1, 1, 0, 1, 0, 1, 0, 0, 1,\n",
       "       0, 0, 0, 0, 0, 0, 0, 0, 0, 1, 0, 1, 1, 0, 0, 0, 0, 1])"
      ]
     },
     "execution_count": 213,
     "metadata": {},
     "output_type": "execute_result"
    }
   ],
   "source": [
    "T = test.iloc[:,1].values\n",
    "X_pred_test = td.transform(T).toarray()\n",
    "y_test = classifier.predict(X_pred_test)\n",
    "\n",
    "y_test"
   ]
  },
  {
   "cell_type": "markdown",
   "metadata": {},
   "source": [
    "## Fasttext"
   ]
  },
  {
   "cell_type": "code",
   "execution_count": 218,
   "metadata": {},
   "outputs": [],
   "source": [
    "df_ft = train.copy()"
   ]
  },
  {
   "cell_type": "code",
   "execution_count": 220,
   "metadata": {},
   "outputs": [],
   "source": [
    "df_ft.head()\n",
    "# Convert label to numeric\n",
    "lbl_enc = preprocessing.LabelEncoder()\n",
    "y = lbl_enc.fit_transform(train.label.values)\n",
    "df_ft[\"label\"] = y"
   ]
  },
  {
   "cell_type": "code",
   "execution_count": 228,
   "metadata": {},
   "outputs": [
    {
     "data": {
      "text/html": [
       "<div>\n",
       "<style scoped>\n",
       "    .dataframe tbody tr th:only-of-type {\n",
       "        vertical-align: middle;\n",
       "    }\n",
       "\n",
       "    .dataframe tbody tr th {\n",
       "        vertical-align: top;\n",
       "    }\n",
       "\n",
       "    .dataframe thead th {\n",
       "        text-align: right;\n",
       "    }\n",
       "</style>\n",
       "<table border=\"1\" class=\"dataframe\">\n",
       "  <thead>\n",
       "    <tr style=\"text-align: right;\">\n",
       "      <th></th>\n",
       "      <th>index</th>\n",
       "      <th>text_clean</th>\n",
       "      <th>text_no_point</th>\n",
       "      <th>Unnamed: 0_x</th>\n",
       "      <th>Unnamed: 0</th>\n",
       "      <th>article_name</th>\n",
       "      <th>count</th>\n",
       "      <th>label</th>\n",
       "    </tr>\n",
       "  </thead>\n",
       "  <tbody>\n",
       "    <tr>\n",
       "      <th>0</th>\n",
       "      <td>0</td>\n",
       "      <td>AMSTERDAM.  Nov. — Coörj. Tir.dersveilingverg....</td>\n",
       "      <td>AMSTERDAM Nov Co rj Tir dersveilingverg Amster...</td>\n",
       "      <td>40995</td>\n",
       "      <td>0</td>\n",
       "      <td>DDD_110585201_0106_articletext.xml</td>\n",
       "      <td>22</td>\n",
       "      <td>__label__0</td>\n",
       "    </tr>\n",
       "    <tr>\n",
       "      <th>1</th>\n",
       "      <td>1</td>\n",
       "      <td>AMSTERDAM  Nov. — Groente. tCoöp. Tindersveili...</td>\n",
       "      <td>AMSTERDAM Nov Groente tCo Tindersveilingverg A...</td>\n",
       "      <td>27756</td>\n",
       "      <td>1</td>\n",
       "      <td>DDD_110585212_0127_articletext.xml</td>\n",
       "      <td>19</td>\n",
       "      <td>__label__0</td>\n",
       "    </tr>\n",
       "    <tr>\n",
       "      <th>2</th>\n",
       "      <td>2</td>\n",
       "      <td>GROENTENVEILING LEEUWARDEN  Jni. Andijvie B—l ...</td>\n",
       "      <td>GROENTENVEILING LEEUWARDEN Jni Andijvie et per...</td>\n",
       "      <td>122267</td>\n",
       "      <td>2</td>\n",
       "      <td>DDD_010612675_0107_articletext.xml</td>\n",
       "      <td>13</td>\n",
       "      <td>__label__0</td>\n",
       "    </tr>\n",
       "    <tr>\n",
       "      <th>3</th>\n",
       "      <td>3</td>\n",
       "      <td>Aoiang er mijnen bestaan is het mijngas de gro...</td>\n",
       "      <td>Aoiang er mijnen bestaan is het mijngas de gro...</td>\n",
       "      <td>36288</td>\n",
       "      <td>3</td>\n",
       "      <td>DDD_010417712_0100_articletext.xml</td>\n",
       "      <td>13</td>\n",
       "      <td>__label__1</td>\n",
       "    </tr>\n",
       "    <tr>\n",
       "      <th>4</th>\n",
       "      <td>4</td>\n",
       "      <td>NAALDWIJK  Dec. — Groente Alleanten .—.. handa...</td>\n",
       "      <td>NAALDWIJK Dec Groente Alleanten handappelen an...</td>\n",
       "      <td>90947</td>\n",
       "      <td>4</td>\n",
       "      <td>DDD_110585219_0073_articletext.xml</td>\n",
       "      <td>12</td>\n",
       "      <td>__label__0</td>\n",
       "    </tr>\n",
       "  </tbody>\n",
       "</table>\n",
       "</div>"
      ],
      "text/plain": [
       "   index                                         text_clean  \\\n",
       "0      0  AMSTERDAM.  Nov. — Coörj. Tir.dersveilingverg....   \n",
       "1      1  AMSTERDAM  Nov. — Groente. tCoöp. Tindersveili...   \n",
       "2      2  GROENTENVEILING LEEUWARDEN  Jni. Andijvie B—l ...   \n",
       "3      3  Aoiang er mijnen bestaan is het mijngas de gro...   \n",
       "4      4  NAALDWIJK  Dec. — Groente Alleanten .—.. handa...   \n",
       "\n",
       "                                       text_no_point  Unnamed: 0_x  \\\n",
       "0  AMSTERDAM Nov Co rj Tir dersveilingverg Amster...         40995   \n",
       "1  AMSTERDAM Nov Groente tCo Tindersveilingverg A...         27756   \n",
       "2  GROENTENVEILING LEEUWARDEN Jni Andijvie et per...        122267   \n",
       "3  Aoiang er mijnen bestaan is het mijngas de gro...         36288   \n",
       "4  NAALDWIJK Dec Groente Alleanten handappelen an...         90947   \n",
       "\n",
       "   Unnamed: 0                        article_name  count       label  \n",
       "0           0  DDD_110585201_0106_articletext.xml     22  __label__0  \n",
       "1           1  DDD_110585212_0127_articletext.xml     19  __label__0  \n",
       "2           2  DDD_010612675_0107_articletext.xml     13  __label__0  \n",
       "3           3  DDD_010417712_0100_articletext.xml     13  __label__1  \n",
       "4           4  DDD_110585219_0073_articletext.xml     12  __label__0  "
      ]
     },
     "execution_count": 228,
     "metadata": {},
     "output_type": "execute_result"
    }
   ],
   "source": [
    "df_ft.head()"
   ]
  },
  {
   "cell_type": "code",
   "execution_count": 230,
   "metadata": {},
   "outputs": [
    {
     "data": {
      "text/html": [
       "<div>\n",
       "<style scoped>\n",
       "    .dataframe tbody tr th:only-of-type {\n",
       "        vertical-align: middle;\n",
       "    }\n",
       "\n",
       "    .dataframe tbody tr th {\n",
       "        vertical-align: top;\n",
       "    }\n",
       "\n",
       "    .dataframe thead th {\n",
       "        text-align: right;\n",
       "    }\n",
       "</style>\n",
       "<table border=\"1\" class=\"dataframe\">\n",
       "  <thead>\n",
       "    <tr style=\"text-align: right;\">\n",
       "      <th></th>\n",
       "      <th>index</th>\n",
       "      <th>text_clean</th>\n",
       "      <th>text_no_point</th>\n",
       "      <th>Unnamed: 0_x</th>\n",
       "      <th>Unnamed: 0</th>\n",
       "      <th>article_name</th>\n",
       "      <th>count</th>\n",
       "      <th>label</th>\n",
       "    </tr>\n",
       "  </thead>\n",
       "  <tbody>\n",
       "    <tr>\n",
       "      <th>0</th>\n",
       "      <td>0</td>\n",
       "      <td>AMSTERDAM.  Nov. — Coörj. Tir.dersveilingverg....</td>\n",
       "      <td>AMSTERDAM Nov Co rj Tir dersveilingverg Amster...</td>\n",
       "      <td>40995</td>\n",
       "      <td>0</td>\n",
       "      <td>DDD_110585201_0106_articletext.xml</td>\n",
       "      <td>22</td>\n",
       "      <td>__label____label__0</td>\n",
       "    </tr>\n",
       "    <tr>\n",
       "      <th>1</th>\n",
       "      <td>1</td>\n",
       "      <td>AMSTERDAM  Nov. — Groente. tCoöp. Tindersveili...</td>\n",
       "      <td>AMSTERDAM Nov Groente tCo Tindersveilingverg A...</td>\n",
       "      <td>27756</td>\n",
       "      <td>1</td>\n",
       "      <td>DDD_110585212_0127_articletext.xml</td>\n",
       "      <td>19</td>\n",
       "      <td>__label____label__0</td>\n",
       "    </tr>\n",
       "    <tr>\n",
       "      <th>2</th>\n",
       "      <td>2</td>\n",
       "      <td>GROENTENVEILING LEEUWARDEN  Jni. Andijvie B—l ...</td>\n",
       "      <td>GROENTENVEILING LEEUWARDEN Jni Andijvie et per...</td>\n",
       "      <td>122267</td>\n",
       "      <td>2</td>\n",
       "      <td>DDD_010612675_0107_articletext.xml</td>\n",
       "      <td>13</td>\n",
       "      <td>__label____label__0</td>\n",
       "    </tr>\n",
       "    <tr>\n",
       "      <th>3</th>\n",
       "      <td>3</td>\n",
       "      <td>Aoiang er mijnen bestaan is het mijngas de gro...</td>\n",
       "      <td>Aoiang er mijnen bestaan is het mijngas de gro...</td>\n",
       "      <td>36288</td>\n",
       "      <td>3</td>\n",
       "      <td>DDD_010417712_0100_articletext.xml</td>\n",
       "      <td>13</td>\n",
       "      <td>__label____label__1</td>\n",
       "    </tr>\n",
       "    <tr>\n",
       "      <th>4</th>\n",
       "      <td>4</td>\n",
       "      <td>NAALDWIJK  Dec. — Groente Alleanten .—.. handa...</td>\n",
       "      <td>NAALDWIJK Dec Groente Alleanten handappelen an...</td>\n",
       "      <td>90947</td>\n",
       "      <td>4</td>\n",
       "      <td>DDD_110585219_0073_articletext.xml</td>\n",
       "      <td>12</td>\n",
       "      <td>__label____label__0</td>\n",
       "    </tr>\n",
       "  </tbody>\n",
       "</table>\n",
       "</div>"
      ],
      "text/plain": [
       "   index                                         text_clean  \\\n",
       "0      0  AMSTERDAM.  Nov. — Coörj. Tir.dersveilingverg....   \n",
       "1      1  AMSTERDAM  Nov. — Groente. tCoöp. Tindersveili...   \n",
       "2      2  GROENTENVEILING LEEUWARDEN  Jni. Andijvie B—l ...   \n",
       "3      3  Aoiang er mijnen bestaan is het mijngas de gro...   \n",
       "4      4  NAALDWIJK  Dec. — Groente Alleanten .—.. handa...   \n",
       "\n",
       "                                       text_no_point  Unnamed: 0_x  \\\n",
       "0  AMSTERDAM Nov Co rj Tir dersveilingverg Amster...         40995   \n",
       "1  AMSTERDAM Nov Groente tCo Tindersveilingverg A...         27756   \n",
       "2  GROENTENVEILING LEEUWARDEN Jni Andijvie et per...        122267   \n",
       "3  Aoiang er mijnen bestaan is het mijngas de gro...         36288   \n",
       "4  NAALDWIJK Dec Groente Alleanten handappelen an...         90947   \n",
       "\n",
       "   Unnamed: 0                        article_name  count                label  \n",
       "0           0  DDD_110585201_0106_articletext.xml     22  __label____label__0  \n",
       "1           1  DDD_110585212_0127_articletext.xml     19  __label____label__0  \n",
       "2           2  DDD_010612675_0107_articletext.xml     13  __label____label__0  \n",
       "3           3  DDD_010417712_0100_articletext.xml     13  __label____label__1  \n",
       "4           4  DDD_110585219_0073_articletext.xml     12  __label____label__0  "
      ]
     },
     "execution_count": 230,
     "metadata": {},
     "output_type": "execute_result"
    }
   ],
   "source": [
    "df_ft['label']=['__label__'+str(s) for s in df_ft['label']]"
   ]
  },
  {
   "cell_type": "code",
   "execution_count": 236,
   "metadata": {},
   "outputs": [],
   "source": [
    "dff = df_ft[[\"label\", \"text_no_point\"]]"
   ]
  },
  {
   "cell_type": "code",
   "execution_count": 240,
   "metadata": {},
   "outputs": [],
   "source": [
    "import csv\n",
    "dff.to_csv(r'merge.txt', index=False, sep=' ', header=False, quoting=csv.QUOTE_NONE, quotechar=\"\", escapechar=\" \")"
   ]
  },
  {
   "cell_type": "code",
   "execution_count": 261,
   "metadata": {},
   "outputs": [],
   "source": [
    "import fasttext\n",
    "\n",
    "model = fasttext.train_supervised(input=\"merge.txt\", lr=0.001, epoch=500, wordNgrams=5, bucket=200000, dim=200, loss='hs')"
   ]
  },
  {
   "cell_type": "code",
   "execution_count": 298,
   "metadata": {},
   "outputs": [
    {
     "data": {
      "text/plain": [
       "'Ernstig ongelk bij frites bakken te Gelle. — Bij de bakker H. Bollen te Gelle was men dezer dagen bezig op een Petrolemstel frites te bakken. Het petrolemstel kantelde en de petrolem verlengde zich met het vet. Een felle vlam sloeg hoog op jist toen de vrow van de heer Bollen en haar schoonzster toeschoten om het gevaar te bezweren. De bieren van beide vrowen vatten vlam. Mevrow Bollen had de tegenwoordigheid van geest onmiddellijk in een biten de honing geplaats vat met water te springen. De schoonzster bekwam ernstiger brandwonden. De twee vrowen zijn naar het ziekenhis Calvariënberg te Maastricht overgebracht. Hn toestand is thans bevredigend.'"
      ]
     },
     "execution_count": 298,
     "metadata": {},
     "output_type": "execute_result"
    }
   ],
   "source": [
    "#model.predict(test.iloc[:,1].values)\n",
    "test.iloc[7,1]#.values"
   ]
  },
  {
   "cell_type": "code",
   "execution_count": 299,
   "metadata": {},
   "outputs": [
    {
     "data": {
      "text/plain": [
       "array([1])"
      ]
     },
     "execution_count": 299,
     "metadata": {},
     "output_type": "execute_result"
    }
   ],
   "source": [
    "t=[test.iloc[7,1]]\n",
    "tt = td.transform(t).toarray()\n",
    "classifier.predict(tt)"
   ]
  },
  {
   "cell_type": "code",
   "execution_count": null,
   "metadata": {},
   "outputs": [],
   "source": []
  }
 ],
 "metadata": {
  "kernelspec": {
   "display_name": "histaware-RplM6c3o-py3.8",
   "language": "python",
   "name": "histaware-rplm6c3o-py3.8"
  },
  "language_info": {
   "codemirror_mode": {
    "name": "ipython",
    "version": 3
   },
   "file_extension": ".py",
   "mimetype": "text/x-python",
   "name": "python",
   "nbconvert_exporter": "python",
   "pygments_lexer": "ipython3",
   "version": "3.8.5"
  }
 },
 "nbformat": 4,
 "nbformat_minor": 4
}
