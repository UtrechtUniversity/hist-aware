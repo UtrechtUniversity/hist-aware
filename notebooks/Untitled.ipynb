{
 "cells": [
  {
   "cell_type": "code",
   "execution_count": 62,
   "metadata": {},
   "outputs": [],
   "source": [
    "import spacy\n",
    "import nl_core_news_lg\n",
    "\n",
    "import pandas as pd\n",
    "from tqdm import tqdm\n",
    "\n",
    "\n",
    "import sys\n",
    "sys.path.insert(0, \"..\")"
   ]
  },
  {
   "cell_type": "code",
   "execution_count": 63,
   "metadata": {},
   "outputs": [],
   "source": [
    "DECADE = \"1990s\"\n",
    "TYPE = \"gas\"\n",
    "THRESHOLD = \"0.1\"\n",
    "df = pd.read_csv(f\"../data/processed/labeled_articles/{DECADE}/{DECADE}_{TYPE}_labeled_full_{THRESHOLD}.csv\")"
   ]
  },
  {
   "cell_type": "code",
   "execution_count": 64,
   "metadata": {},
   "outputs": [],
   "source": [
    "nlp = spacy.load(\"nl_core_news_lg\")\n",
    "tqdm.pandas()"
   ]
  },
  {
   "cell_type": "code",
   "execution_count": 66,
   "metadata": {},
   "outputs": [
    {
     "name": "stderr",
     "output_type": "stream",
     "text": [
      "100%|██████████| 6135/6135 [05:22<00:00, 19.01it/s]\n"
     ]
    }
   ],
   "source": [
    "df['sents'] = df['text'].progress_apply(lambda x: list(nlp(x).sents))"
   ]
  },
  {
   "cell_type": "code",
   "execution_count": 68,
   "metadata": {},
   "outputs": [
    {
     "data": {
      "text/plain": [
       "0       [(Van, een, onzer, verslaggevers, GRONINGEN, ,...\n",
       "1       [(Van, onze, redacteur, economie), (Henk, Woll...\n",
       "2       [(DEURNE, —, Automobilisten, die, massaal, thu...\n",
       "3       [(Een, slager, die, adviseert, om, minder, vle...\n",
       "4       [(Gasvoorraden, zijn, er, in, ruime, mate, ,, ...\n",
       "                              ...                        \n",
       "6130    [(Dat, betoogde, drs., T.J., van, Heesch, ,, d...\n",
       "6131    [(Volgens, Van, Wachem, ', zal, het, wereldver...\n",
       "6132    [(L, \", Oebruik, van, propaangas, k*ll, boord,...\n",
       "6133    [(De, Europese, Investeringsbank, (, EIB, ), h...\n",
       "6134    [(Onze, testwagen, was, uitgerust, met, een, h...\n",
       "Name: sents, Length: 6135, dtype: object"
      ]
     },
     "execution_count": 68,
     "metadata": {},
     "output_type": "execute_result"
    }
   ],
   "source": []
  },
  {
   "cell_type": "code",
   "execution_count": 59,
   "metadata": {},
   "outputs": [],
   "source": [
    "DECADE = \"1980s\"\n",
    "TYPE = \"kool\"\n",
    "THRESHOLD = \"0.02\"\n",
    "df = pd.read_csv(f\"../data/processed/labeled_articles/{DECADE}/{DECADE}_{TYPE}_labeled_full_{THRESHOLD}.csv\")\n",
    "df.sort_values(by=[\"sentiment\"], ascending=True, inplace=True)\n",
    "df1=df.tail(5)\n",
    "df1.to_excel(f\"../data/processed/labeled_articles/{DECADE}/{DECADE}_{TYPE}_{THRESHOLD}.xlsx\")"
   ]
  },
  {
   "cell_type": "code",
   "execution_count": null,
   "metadata": {},
   "outputs": [],
   "source": []
  }
 ],
 "metadata": {
  "kernelspec": {
   "display_name": "histaware-RplM6c3o-py3.8",
   "language": "python",
   "name": "histaware-rplm6c3o-py3.8"
  },
  "language_info": {
   "codemirror_mode": {
    "name": "ipython",
    "version": 3
   },
   "file_extension": ".py",
   "mimetype": "text/x-python",
   "name": "python",
   "nbconvert_exporter": "python",
   "pygments_lexer": "ipython3",
   "version": "3.8.5"
  }
 },
 "nbformat": 4,
 "nbformat_minor": 4
}
