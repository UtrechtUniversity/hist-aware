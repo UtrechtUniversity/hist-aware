{
 "cells": [
  {
   "cell_type": "code",
   "execution_count": 19,
   "metadata": {},
   "outputs": [
    {
     "name": "stdout",
     "output_type": "stream",
     "text": [
      "\n",
      "\n",
      "----------------------------------\n",
      "\n",
      "AMSTERDAM  Nov. — Groente. tCoöp. Tindersveilingverg. Amsterdam en omstreken G.A. Andijvie — O spinazie — prei B—l . ien s—i. broeivet — boerenkool —. rode kool —. groene kool —lo gele kool — spritkool —. stoofsla — waspeen —  witlof A I —. A II —. B I —. B II — et per kg sla A — li knolselderij — et. p. st. selderij B—l . peterselie —. bospeen —. kervel — et n. bos. MARKTBERICHT „DE TUINBOUW. GROOTEBROEK.  Nov. — Groente  kg Rode kool .—.  kg Witte kool   kg Gele kool .—   kg Groene kool .— ..  kg Bieten A  — . B —.  kg Uien grof .— . groot .—.. . stks Bloemkool B —. B II —. C —. C II B—lo. stek B—l . VEILING BROEK OP LANGENDHK. BROEK OP LANGENDUK  Nov. — Groente   kg Witlof Al . —  kg Uien .. drielingen .—. nep —.  kg Peen C . . kg Andijvie .— . . kg Groene kool —. . kg Gele kool .—  . kg Rode kool —. . leg Witte kool  Scces —.   st. Bloemkool B —. Doorgedraaid  kg Gele kool.  kg Rode kool.  kg Groene kool.  kg Witte kool.\n",
      "----------------------------------\n",
      "\n",
      "\n"
     ]
    },
    {
     "ename": "TypeError",
     "evalue": "Can't instantiate abstract class BaseReview with abstract methods _get_labels",
     "output_type": "error",
     "traceback": [
      "\u001b[0;31m---------------------------------------------------------------------------\u001b[0m",
      "\u001b[0;31mTypeError\u001b[0m                                 Traceback (most recent call last)",
      "\u001b[0;32m<ipython-input-19-a198c0b7321c>\u001b[0m in \u001b[0;36m<module>\u001b[0;34m\u001b[0m\n\u001b[1;32m     21\u001b[0m \u001b[0;34m\u001b[0m\u001b[0m\n\u001b[1;32m     22\u001b[0m \u001b[0;31m# start the review process.\u001b[0m\u001b[0;34m\u001b[0m\u001b[0;34m\u001b[0m\u001b[0;34m\u001b[0m\u001b[0m\n\u001b[0;32m---> 23\u001b[0;31m reviewer = BaseReview(\n\u001b[0m\u001b[1;32m     24\u001b[0m     \u001b[0mas_data\u001b[0m\u001b[0;34m,\u001b[0m\u001b[0;34m\u001b[0m\u001b[0;34m\u001b[0m\u001b[0m\n\u001b[1;32m     25\u001b[0m     \u001b[0mmodel\u001b[0m\u001b[0;34m=\u001b[0m\u001b[0mtrain_model\u001b[0m\u001b[0;34m,\u001b[0m\u001b[0;34m\u001b[0m\u001b[0;34m\u001b[0m\u001b[0m\n",
      "\u001b[0;31mTypeError\u001b[0m: Can't instantiate abstract class BaseReview with abstract methods _get_labels"
     ]
    }
   ],
   "source": [
    "import pandas as pd\n",
    "import asreview\n",
    "from asreview.review import BaseReview\n",
    "from asreview.models import NBModel\n",
    "from asreview.query_strategies import MixedQuery\n",
    "from asreview.balance_strategies import SimpleBalance\n",
    "from asreview.feature_extraction import Tfidf\n",
    "\n",
    "a = pd.read_csv(\"test_df.csv\", sep=\";\")\n",
    "a.rename(columns = {\"text_clean\": \"abstract\", \"label\":\"labels\"}, inplace=True)\n",
    "a = a[[\"abstract\", \"labels\"]]\n",
    "\n",
    "# load data\n",
    "as_data = asreview.ASReviewData(df=a)\n",
    "print(as_data.format_record(1))\n",
    "\n",
    "train_model = NBModel()\n",
    "query_model = MixedQuery()\n",
    "balance_model = SimpleBalance()\n",
    "feature_model = Tfidf(ngram_max=3)\n",
    "\n",
    "# start the review process.\n",
    "reviewer = BaseReview(\n",
    "    as_data,\n",
    "    model=train_model,\n",
    "    query_model=query_model,\n",
    "    balance_model=balance_model,\n",
    "    feature_model=feature_model,\n",
    "#    n_papers=100,\n",
    "    n_instances=100,\n",
    "    state_file=\"state_file.log\"\n",
    ")\n",
    "reviewer.classify()"
   ]
  },
  {
   "cell_type": "code",
   "execution_count": null,
   "metadata": {},
   "outputs": [],
   "source": [
    "reviewer.train"
   ]
  },
  {
   "cell_type": "code",
   "execution_count": null,
   "metadata": {},
   "outputs": [],
   "source": []
  }
 ],
 "metadata": {
  "kernelspec": {
   "display_name": "test-wrqwwHUP-py3.8",
   "language": "python",
   "name": "test-wrqwwhup-py3.8"
  },
  "language_info": {
   "codemirror_mode": {
    "name": "ipython",
    "version": 3
   },
   "file_extension": ".py",
   "mimetype": "text/x-python",
   "name": "python",
   "nbconvert_exporter": "python",
   "pygments_lexer": "ipython3",
   "version": "3.8.5"
  }
 },
 "nbformat": 4,
 "nbformat_minor": 4
}
