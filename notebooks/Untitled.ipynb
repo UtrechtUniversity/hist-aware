{
 "cells": [
  {
   "cell_type": "code",
   "execution_count": 2,
   "metadata": {},
   "outputs": [],
   "source": [
    "import spacy\n",
    "import nl_core_news_lg\n",
    "\n",
    "import pandas as pd\n",
    "from tqdm import tqdm\n",
    "import os\n",
    "\n",
    "import sys\n",
    "sys.path.insert(0, \"..\")"
   ]
  },
  {
   "cell_type": "code",
   "execution_count": 63,
   "metadata": {},
   "outputs": [],
   "source": [
    "DECADE = \"1990s\"\n",
    "TYPE = \"gas\"\n",
    "THRESHOLD = \"0.1\"\n",
    "df = pd.read_csv(f\"../data/processed/labeled_articles/{DECADE}/{DECADE}_{TYPE}_labeled_full_{THRESHOLD}.csv\")"
   ]
  },
  {
   "cell_type": "code",
   "execution_count": 64,
   "metadata": {},
   "outputs": [],
   "source": [
    "nlp = spacy.load(\"nl_core_news_lg\")\n",
    "tqdm.pandas()"
   ]
  },
  {
   "cell_type": "code",
   "execution_count": 66,
   "metadata": {},
   "outputs": [
    {
     "name": "stderr",
     "output_type": "stream",
     "text": [
      "100%|██████████| 6135/6135 [05:22<00:00, 19.01it/s]\n"
     ]
    }
   ],
   "source": [
    "df['sents'] = df['text'].progress_apply(lambda x: list(nlp(x).sents))"
   ]
  },
  {
   "cell_type": "code",
   "execution_count": 4,
   "metadata": {},
   "outputs": [
    {
     "name": "stdout",
     "output_type": "stream",
     "text": [
      "TEST\n"
     ]
    }
   ],
   "source": [
    "SELECTED_DECADE = os.path.join(\"asdasd\", \"labeled_articles\", \"all_decades\")\n",
    "\n",
    "if \"all_decades\" in SELECTED_DECADE:\n",
    "    print(\"TEST\")"
   ]
  },
  {
   "cell_type": "code",
   "execution_count": null,
   "metadata": {},
   "outputs": [],
   "source": [
    "DECADE = \"1980s\"\n",
    "TYPE = \"kool\"\n",
    "THRESHOLD = \"0.02\"\n",
    "df = pd.read_csv(f\"../data/processed/labeled_articles/{DECADE}/{DECADE}_{TYPE}_labeled_full_{THRESHOLD}.csv\")\n",
    "df.sort_values(by=[\"sentiment\"], ascending=True, inplace=True)\n",
    "df1=df.tail(5)\n",
    "df1.to_excel(f\"../data/processed/labeled_articles/{DECADE}/{DECADE}_{TYPE}_{THRESHOLD}.xlsx\")"
   ]
  },
  {
   "cell_type": "code",
   "execution_count": null,
   "metadata": {},
   "outputs": [],
   "source": []
  }
 ],
 "metadata": {
  "kernelspec": {
   "display_name": "histaware-RplM6c3o-py3.8",
   "language": "python",
   "name": "histaware-rplm6c3o-py3.8"
  },
  "language_info": {
   "codemirror_mode": {
    "name": "ipython",
    "version": 3
   },
   "file_extension": ".py",
   "mimetype": "text/x-python",
   "name": "python",
   "nbconvert_exporter": "python",
   "pygments_lexer": "ipython3",
   "version": "3.8.5"
  }
 },
 "nbformat": 4,
 "nbformat_minor": 4
}
