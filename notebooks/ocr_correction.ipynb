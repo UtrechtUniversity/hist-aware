{
 "metadata": {
  "language_info": {
   "codemirror_mode": {
    "name": "ipython",
    "version": 3
   },
   "file_extension": ".py",
   "mimetype": "text/x-python",
   "name": "python",
   "nbconvert_exporter": "python",
   "pygments_lexer": "ipython3",
   "version": "3.8.5-final"
  },
  "orig_nbformat": 2,
  "kernelspec": {
   "name": "Python 3.8.5 64-bit ('histaware-RplM6c3o-py3.8': venv)",
   "display_name": "Python 3.8.5 64-bit ('histaware-RplM6c3o-py3.8': venv)",
   "metadata": {
    "interpreter": {
     "hash": "86315069d9bbcc5e7b6a2d7416b15171a30b5af37cfb10a9c473db24ce95b203"
    }
   }
  }
 },
 "nbformat": 4,
 "nbformat_minor": 2,
 "cells": [
  {
   "source": [
    "### Create corpus of words"
   ],
   "cell_type": "markdown",
   "metadata": {}
  },
  {
   "cell_type": "code",
   "execution_count": 85,
   "metadata": {},
   "outputs": [
    {
     "output_type": "stream",
     "name": "stderr",
     "text": [
      "/Users/leonardovida/.vscode/extensions/ms-python.python-2020.9.114305/pythonFiles/lib/python/past/types/oldstr.py:23: DeprecationWarning: invalid escape sequence \\d\n  \"\"\"\n"
     ]
    }
   ],
   "source": [
    "# Importing the libraries needed\n",
    "import os, os.path\n",
    "import sys\n",
    "sys.path.append(\"/Users/leonardovida/dev/HistAware\")\n",
    "from string import punctuation\n",
    "import re\n",
    "\n",
    "import pandas as pd\n",
    "import torch\n",
    "import transformers\n",
    "from torch.utils.data import Dataset, DataLoader\n",
    "from transformers import DistilBertModel, DistilBertTokenizer\n",
    "import pandas as pd\n",
    "import numpy as np\n",
    "from sentence_transformers import SentenceTransformer, LoggingHandler, util\n",
    "from transformers import BertTokenizer, BertModel\n",
    "\n",
    "import nltk.data\n",
    "from tqdm import tqdm_notebook as tqdm\n",
    "from pprint import pprint\n",
    "import spacy\n",
    "import enchant\n",
    "from enchant.checker import SpellChecker\n",
    "from nltk.sentiment import vader\n",
    "from nltk.corpus import stopwords\n",
    "import nltk\n",
    "from gensim import corpora\n",
    "from gensim import models\n",
    "\n",
    "import pyLDAvis\n",
    "import pyLDAvis.gensim\n",
    "import pandas as pd\n",
    "import seaborn as sns\n",
    "import matplotlib.pyplot as plt\n",
    "%matplotlib inline\n",
    "\n",
    "from src import iterators"
   ]
  },
  {
   "cell_type": "code",
   "execution_count": 42,
   "metadata": {},
   "outputs": [],
   "source": [
    "# Setting up the device for GPU usage\n",
    "from torch import cuda\n",
    "device = 'cuda' if cuda.is_available() else 'cpu'"
   ]
  },
  {
   "cell_type": "code",
   "execution_count": 43,
   "metadata": {},
   "outputs": [],
   "source": [
    "# Setup the file\n",
    "csv = iterators.iterate_directory(\"../data/processed/selected_articles/\", \".csv\")\n",
    "df = pd.concat([pd.read_csv(c[\"article_path\"]) for c in csv],ignore_index=True)\n",
    "df.sort_values(by=[\"count\"], ascending=False, inplace=True)"
   ]
  },
  {
   "cell_type": "code",
   "execution_count": 44,
   "metadata": {},
   "outputs": [
    {
     "output_type": "display_data",
     "data": {
      "text/plain": "HBox(children=(FloatProgress(value=0.0, max=5744.0), HTML(value='')))",
      "application/vnd.jupyter.widget-view+json": {
       "version_major": 2,
       "version_minor": 0,
       "model_id": "f6d91e13732d47d4a5283840df6f403b"
      }
     },
     "metadata": {}
    },
    {
     "output_type": "stream",
     "name": "stdout",
     "text": [
      "\n"
     ]
    }
   ],
   "source": [
    "word_nl=[]\n",
    "for idx, row in tqdm(df.iterrows(), total=df.shape[0]):\n",
    "    word_nl.append(row[\"text\"])"
   ]
  },
  {
   "source": [
    "We will take this text as a basis to check our progress in cleaning the text"
   ],
   "cell_type": "markdown",
   "metadata": {}
  },
  {
   "cell_type": "code",
   "execution_count": 48,
   "metadata": {},
   "outputs": [
    {
     "output_type": "execute_result",
     "data": {
      "text/plain": [
       "'ning tijdens de ontgassing normaal kan doorgaan. In de Belgische mijn „Le Grand Trait\" te Frameries in Henegouwen „oogstte\" men op deze wijze in 2 maanden tijds 378.000 m 3 methaangas, in de mijn „Saint Albert\" te Ressaix in een iets langere periode 428.650 m 3 methaan. In Henegouwen wordt het gas reeds naar buiten geleverd via de lichtgasfabrieken te Tertre. Methaangas levert 8000 tot 9000 caloriën warmte, hetgeen tweemaal zoveel is als gewoon cokesovengas. In vele andere mijnen, waaronder de K'"
      ]
     },
     "metadata": {},
     "execution_count": 48
    }
   ],
   "source": [
    "word_nl[1][:500]"
   ]
  },
  {
   "source": [
    "Clean-up"
   ],
   "cell_type": "markdown",
   "metadata": {}
  },
  {
   "cell_type": "code",
   "execution_count": 53,
   "metadata": {},
   "outputs": [],
   "source": [
    "word_nl=[\"\".join([l for l in word if l not in punctuation]) for word in word_nl]  #remove punctuation\n",
    "word_nl=[word.lower() for word in word_nl]  # convert to lower case\n",
    "word_nl=[\" \".join(word.split()) for word in word_nl]   # remove double spaces by splitting the strings into words and joining these words again\n",
    "word_nl=[re.sub(r'[^a-zA-z\\s]', '', word) for word in word_nl]  # to remove special characters and symbols"
   ]
  },
  {
   "cell_type": "code",
   "execution_count": 54,
   "metadata": {},
   "outputs": [
    {
     "output_type": "execute_result",
     "data": {
      "text/plain": [
       "'ning tijdens de ontgassing normaal kan doorgaan in de belgische mijn le grand trait te frameries in henegouwen oogstte men op deze wijze in  maanden tijds  m  methaangas in de mijn saint albert te ressaix in een iets langere periode  m  methaan in henegouwen wordt het gas reeds naar buiten geleverd via de lichtgasfabrieken te tertre methaangas levert  tot  calorin warmte hetgeen tweemaal zoveel is als gewoon cokesovengas in vele andere mijnen waaronder de kempische neemt men proeven er bestaan p'"
      ]
     },
     "metadata": {},
     "execution_count": 54
    }
   ],
   "source": [
    "word_nl[1][:500]"
   ]
  },
  {
   "source": [
    "Convert a list of words (tokens) to (token_id, token_count) tuples."
   ],
   "cell_type": "markdown",
   "metadata": {}
  },
  {
   "cell_type": "code",
   "execution_count": 55,
   "metadata": {},
   "outputs": [],
   "source": [
    "ldainput_m1 = [word.split() for word in word_nl]           # convert all strings to list of words\n",
    "id2word_m1 = corpora.Dictionary(ldainput_m1)                       # assign a token_id to each word\n",
    "ldacorpus_m1 = [id2word_m1.doc2bow(doc) for doc in ldainput_m1]       # represent each word by (token_id, token_count) tuples"
   ]
  },
  {
   "cell_type": "code",
   "execution_count": 56,
   "metadata": {},
   "outputs": [],
   "source": [
    "lda_m1 = models.LdaModel(ldacorpus_m1, id2word=id2word_m1, num_topics=10)"
   ]
  },
  {
   "cell_type": "code",
   "execution_count": 57,
   "metadata": {},
   "outputs": [
    {
     "output_type": "execute_result",
     "data": {
      "text/plain": [
       "[(0,\n",
       "  '0.033*\"i\" + 0.031*\"a\" + 0.017*\"j\" + 0.014*\"v\" + 0.013*\"n\" + 0.010*\"b\" + 0.009*\"t\" + 0.009*\"h\" + 0.009*\"de\" + 0.008*\"s\"'),\n",
       " (1,\n",
       "  '0.061*\"v\" + 0.034*\"te\" + 0.023*\"n\" + 0.013*\"de\" + 0.010*\"p\" + 0.009*\"stg\" + 0.008*\"van\" + 0.006*\"op\" + 0.005*\"ledig\" + 0.005*\"londen\"'),\n",
       " (2,\n",
       "  '0.023*\"de\" + 0.021*\"t\" + 0.020*\"en\" + 0.013*\"in\" + 0.013*\"i\" + 0.011*\"van\" + 0.010*\"v\" + 0.009*\"f\" + 0.008*\"u\" + 0.008*\"een\"'),\n",
       " (3,\n",
       "  '0.027*\"de\" + 0.016*\"een\" + 0.014*\"van\" + 0.013*\"te\" + 0.012*\"het\" + 0.010*\"en\" + 0.010*\"in\" + 0.010*\"i\" + 0.008*\"voor\" + 0.007*\"f\"'),\n",
       " (4,\n",
       "  '0.063*\"de\" + 0.026*\"van\" + 0.022*\"het\" + 0.020*\"een\" + 0.017*\"en\" + 0.016*\"in\" + 0.014*\"op\" + 0.013*\"te\" + 0.010*\"dat\" + 0.010*\"is\"'),\n",
       " (5,\n",
       "  '0.004*\"te\" + 0.003*\"v\" + 0.002*\"de\" + 0.002*\"n\" + 0.002*\"en\" + 0.001*\"koop\" + 0.001*\"in\" + 0.001*\"van\" + 0.001*\"het\" + 0.001*\"p\"'),\n",
       " (6,\n",
       "  '0.046*\"de\" + 0.029*\"en\" + 0.027*\"van\" + 0.017*\"in\" + 0.013*\"te\" + 0.011*\"g\" + 0.011*\"het\" + 0.008*\"een\" + 0.008*\"met\" + 0.008*\"voor\"'),\n",
       " (7,\n",
       "  '0.048*\"de\" + 0.019*\"van\" + 0.017*\"het\" + 0.012*\"en\" + 0.011*\"a\" + 0.008*\"i\" + 0.008*\"in\" + 0.008*\"een\" + 0.008*\"te\" + 0.007*\"op\"'),\n",
       " (8,\n",
       "  '0.074*\"de\" + 0.038*\"van\" + 0.031*\"het\" + 0.028*\"en\" + 0.025*\"een\" + 0.023*\"in\" + 0.013*\"te\" + 0.011*\"op\" + 0.011*\"dat\" + 0.009*\"met\"'),\n",
       " (9,\n",
       "  '0.033*\"en\" + 0.022*\"te\" + 0.016*\"de\" + 0.012*\"van\" + 0.011*\"in\" + 0.011*\"met\" + 0.011*\"m\" + 0.011*\"no\" + 0.010*\"voor\" + 0.010*\"br\"')]"
      ]
     },
     "metadata": {},
     "execution_count": 57
    }
   ],
   "source": [
    "lda_m1.print_topics()"
   ]
  },
  {
   "source": [
    "All topics are stopwords! We don't want this, right?\n",
    "Let's try to remove them."
   ],
   "cell_type": "markdown",
   "metadata": {}
  },
  {
   "cell_type": "code",
   "execution_count": 68,
   "metadata": {},
   "outputs": [],
   "source": [
    "stopword_list = nltk.corpus.stopwords.words('dutch')\n",
    "words_nl_clean = [\" \".join([w for w in word.split() if w not in stopword_list]) for word in word_nl] # eliminate all stopwords\n",
    "words_nl_clean = [\" \".join([w for w in word.split() if len(w)>1] ) for word in words_nl_clean] # eliminate all one char words"
   ]
  },
  {
   "cell_type": "code",
   "execution_count": 69,
   "metadata": {},
   "outputs": [
    {
     "output_type": "execute_result",
     "data": {
      "text/plain": [
       "'ning tijdens ontgassing normaal doorgaan belgische le grand trait frameries henegouwen oogstte wijze maanden tijds methaangas saint albert ressaix langere periode methaan henegouwen gas buiten geleverd via lichtgasfabrieken tertre methaangas levert calorin warmte hetgeen tweemaal zoveel gewoon cokesovengas vele mijnen waaronder kempische neemt proeven bestaan plannen belgisch limburg leidingermet leggen distributie gas bevolking probleem vormt echter vrij onregelmatige toevoer waarmee ongetwijfe'"
      ]
     },
     "metadata": {},
     "execution_count": 69
    }
   ],
   "source": [
    "words_nl_clean[1][:500]"
   ]
  },
  {
   "cell_type": "code",
   "execution_count": 70,
   "metadata": {},
   "outputs": [
    {
     "output_type": "execute_result",
     "data": {
      "text/plain": [
       "[(0, '0.012*\"ca\" + 0.010*\"ned\" + 0.008*\"st\" + 0.007*\"am\" + 0.004*\"holl\"'),\n",
       " (1,\n",
       "  '0.003*\"jaar\" + 0.003*\"wij\" + 0.003*\"regering\" + 0.002*\"heer\" + 0.002*\"eerste\"'),\n",
       " (2,\n",
       "  '0.010*\"stg\" + 0.007*\"ned\" + 0.005*\"ledig\" + 0.004*\"londen\" + 0.004*\"koop\"'),\n",
       " (3,\n",
       "  '0.007*\"tel\" + 0.003*\"af\" + 0.003*\"per\" + 0.003*\"philips\" + 0.003*\"radio\"'),\n",
       " (4, '0.010*\"it\" + 0.006*\"fan\" + 0.005*\"yn\" + 0.004*\"mei\" + 0.004*\"mar\"'),\n",
       " (5, '0.005*\"the\" + 0.005*\"and\" + 0.003*\"koop\" + 0.003*\"no\" + 0.003*\"to\"'),\n",
       " (6, '0.009*\"no\" + 0.009*\"br\" + 0.007*\"koop\" + 0.006*\"tel\" + 0.006*\"uur\"'),\n",
       " (7,\n",
       "  '0.008*\"nieuws\" + 0.005*\"stg\" + 0.005*\"gram\" + 0.004*\"rott\" + 0.004*\"mijl\"'),\n",
       " (8,\n",
       "  '0.005*\"wel\" + 0.003*\"weer\" + 0.003*\"eerste\" + 0.003*\"gasten\" + 0.003*\"waar\"'),\n",
       " (9, '0.009*\"uur\" + 0.005*\"per\" + 0.003*\"tel\" + 0.003*\"wij\" + 0.002*\"zeer\"')]"
      ]
     },
     "metadata": {},
     "execution_count": 70
    }
   ],
   "source": [
    "ldainput_m2 = [word.split() for word in words_nl_clean]      # words_nl_clean instead of words_nl\n",
    "id2word_m2 = corpora.Dictionary(ldainput_m2)                       \n",
    "ldacorpus_m2 = [id2word_m2.doc2bow(doc) for doc in ldainput_m2]  \n",
    "lda_m2 = models.LdaModel(ldacorpus_m2, id2word=id2word_m2, num_topics=10)\n",
    "lda_m2.print_topics(num_words=5)"
   ]
  },
  {
   "source": [
    "### Stopwords commentary!\n",
    "- Is kind of arbitrary what is on the stopword list and what not\n",
    "- Depending on the research question one is interested in, it might differ what words are 'meaningful'"
   ],
   "cell_type": "markdown",
   "metadata": {}
  },
  {
   "source": [
    "Let's try with tf-idf"
   ],
   "cell_type": "markdown",
   "metadata": {}
  },
  {
   "cell_type": "code",
   "execution_count": 94,
   "metadata": {},
   "outputs": [
    {
     "output_type": "stream",
     "name": "stderr",
     "text": [
      "/Users/leonardovida/Library/Caches/pypoetry/virtualenvs/histaware-RplM6c3o-py3.8/lib/python3.8/site-packages/ipykernel/ipkernel.py:287: DeprecationWarning: `should_run_async` will not call `transform_cell` automatically in the future. Please pass the result to `transformed_cell` argument and any exception that happen during thetransform in `preprocessing_exc_tuple` in IPython 7.17 and above.\n  and should_run_async(code)\n"
     ]
    },
    {
     "output_type": "execute_result",
     "data": {
      "text/plain": [
       "[(0,\n",
       "  '0.001*\"uur\" + 0.001*\"gasten\" + 0.001*\"koop\" + 0.001*\"wij\" + 0.001*\"wel\"'),\n",
       " (1, '0.000*\"it\" + 0.000*\"yn\" + 0.000*\"fan\" + 0.000*\"mar\" + 0.000*\"mei\"'),\n",
       " (2,\n",
       "  '0.001*\"gasille\" + 0.001*\"frau\" + 0.000*\"arnhem\" + 0.000*\"stg\" + 0.000*\"gastvrouw\"'),\n",
       " (3,\n",
       "  '0.000*\"gasten\" + 0.000*\"pakistan\" + 0.000*\"bank\" + 0.000*\"olie\" + 0.000*\"gasperi\"'),\n",
       " (4,\n",
       "  '0.001*\"mrs\" + 0.000*\"prins\" + 0.000*\"mei\" + 0.000*\"brand\" + 0.000*\"pegasus\"'),\n",
       " (5,\n",
       "  '0.001*\"olies\" + 0.000*\"hilv\" + 0.000*\"per\" + 0.000*\"hoger\" + 0.000*\"zullen\"'),\n",
       " (6,\n",
       "  '0.000*\"knil\" + 0.000*\"liter\" + 0.000*\"introductie\" + 0.000*\"per\" + 0.000*\"alcide\"'),\n",
       " (7,\n",
       "  '0.000*\"rooms\" + 0.000*\"pnt\" + 0.000*\"katholieke\" + 0.000*\"kerkdiensten\" + 0.000*\"gerecht\"'),\n",
       " (8, '0.001*\"br\" + 0.001*\"no\" + 0.000*\"per\" + 0.000*\"gevr\" + 0.000*\"tel\"'),\n",
       " (9,\n",
       "  '0.001*\"pholien\" + 0.001*\"ned\" + 0.001*\"ca\" + 0.001*\"stg\" + 0.000*\"ledig\"')]"
      ]
     },
     "metadata": {},
     "execution_count": 94
    }
   ],
   "source": [
    "#ldacorpus_m3 = ldacorpus_m1       # reuse corpus from Model 1 \n",
    "#id2word_m3 = id2word_m1           # and thus, also use id2word-mapping\n",
    "#tfidfcorpus_m3 = models.TfidfModel(ldacorpus_m3)\n",
    "#lda_m3 = models.ldamodel.LdaModel(corpus=tfidfcorpus_m3[ldacorpus_m3],id2word=id2word_m3,num_topics=10)\n",
    "#lda_m3.print_topics(num_words=5)\n",
    "\n",
    "### Using cleaned with stopwords\n",
    "\n",
    "ldacorpus_m3 = ldacorpus_m2       # reuse corpus from Model 2\n",
    "id2word_m3 = id2word_m2           # and thus, also use id2word-mapping\n",
    "tfidfcorpus_m3 = models.TfidfModel(ldacorpus_m3)\n",
    "lda_m3 = models.ldamodel.LdaModel(corpus=tfidfcorpus_m3[ldacorpus_m3],id2word=id2word_m3,num_topics=10)\n",
    "lda_m3.print_topics(num_words=5)"
   ]
  },
  {
   "source": [
    "Filtering extremes"
   ],
   "cell_type": "markdown",
   "metadata": {}
  },
  {
   "cell_type": "code",
   "execution_count": 93,
   "metadata": {},
   "outputs": [
    {
     "output_type": "stream",
     "name": "stderr",
     "text": [
      "/Users/leonardovida/Library/Caches/pypoetry/virtualenvs/histaware-RplM6c3o-py3.8/lib/python3.8/site-packages/ipykernel/ipkernel.py:287: DeprecationWarning: `should_run_async` will not call `transform_cell` automatically in the future. Please pass the result to `transformed_cell` argument and any exception that happen during thetransform in `preprocessing_exc_tuple` in IPython 7.17 and above.\n  and should_run_async(code)\n"
     ]
    },
    {
     "output_type": "execute_result",
     "data": {
      "text/plain": [
       "[(0, '0.009*\"br\" + 0.009*\"no\" + 0.008*\"koop\" + 0.005*\"tel\" + 0.004*\"heerlen\"'),\n",
       " (1,\n",
       "  '0.004*\"franse\" + 0.003*\"regering\" + 0.002*\"ca\" + 0.002*\"wel\" + 0.002*\"gasten\"'),\n",
       " (2,\n",
       "  '0.005*\"tel\" + 0.005*\"koop\" + 0.004*\"nieuws\" + 0.004*\"telef\" + 0.004*\"pholien\"'),\n",
       " (3,\n",
       "  '0.004*\"mrs\" + 0.002*\"bezoek\" + 0.002*\"mr\" + 0.002*\"regering\" + 0.002*\"belgische\"'),\n",
       " (4,\n",
       "  '0.006*\"bank\" + 0.005*\"olies\" + 0.005*\"punten\" + 0.005*\"gas\" + 0.004*\"markt\"'),\n",
       " (5,\n",
       "  '0.008*\"gasten\" + 0.006*\"rust\" + 0.004*\"minuten\" + 0.004*\"bal\" + 0.004*\"spel\"'),\n",
       " (6,\n",
       "  '0.003*\"heer\" + 0.003*\"gooi\" + 0.003*\"prins\" + 0.003*\"uur\" + 0.002*\"boord\"'),\n",
       " (7, '0.008*\"it\" + 0.005*\"fan\" + 0.004*\"yn\" + 0.003*\"and\" + 0.003*\"mar\"'),\n",
       " (8,\n",
       "  '0.004*\"onze\" + 0.004*\"uur\" + 0.004*\"gast\" + 0.003*\"gasille\" + 0.003*\"mei\"'),\n",
       " (9, '0.004*\"ft\" + 0.003*\"ned\" + 0.003*\"aand\" + 0.003*\"kisten\" + 0.003*\"djl\"')]"
      ]
     },
     "metadata": {},
     "execution_count": 93
    }
   ],
   "source": [
    "#id2word_m4 = corpora.Dictionary(ldainput_m1)        # reuse input from M1     \n",
    "\n",
    "#id2word_m4.filter_extremes(no_below=10, no_above=0.5)   # do not consider all words that occur in less than n=5 documents\n",
    "                                                    # or in more than 50% of all documents.\n",
    "\n",
    "#ldacorpus_m4 = [id2word_m4.doc2bow(doc) for doc in ldainput_m1]\n",
    "#tfidfcorpus_m4 = models.TfidfModel(ldacorpus_m4)\n",
    "#lda_m4 = models.ldamodel.LdaModel(corpus=tfidfcorpus_m4[ldacorpus_m4],id2word=id2word_m4,num_topics=10)\n",
    "#lda_m4.print_topics(num_words=5)\n",
    "\n",
    "\n",
    "### Using cleaned with stopwords\n",
    "\n",
    "id2word_m4 = corpora.Dictionary(ldainput_m2)        # reuse input from M2 \n",
    "\n",
    "id2word_m4.filter_extremes(no_below=20, no_above=0.5)   # do not consider all words that occur in less than n=5 documents\n",
    "                                                    # or in more than 50% of all documents.\n",
    "\n",
    "ldacorpus_m4 = [id2word_m4.doc2bow(doc) for doc in ldainput_m2]\n",
    "tfidfcorpus_m4 = models.TfidfModel(ldacorpus_m4)\n",
    "lda_m4 = models.ldamodel.LdaModel(corpus=tfidfcorpus_m4[ldacorpus_m4],id2word=id2word_m4,num_topics=10)\n",
    "lda_m4.print_topics(num_words=5)"
   ]
  },
  {
   "source": [
    "Bigrams"
   ],
   "cell_type": "markdown",
   "metadata": {}
  },
  {
   "cell_type": "code",
   "execution_count": 76,
   "metadata": {},
   "outputs": [],
   "source": [
    "words_nl_bigrams = [[\"_\".join(tup) for tup in nltk.ngrams(word.split(),2)] for word in words_nl_clean]"
   ]
  },
  {
   "cell_type": "code",
   "execution_count": 77,
   "metadata": {},
   "outputs": [],
   "source": [
    "assert len(words_nl_clean)==len(words_nl_bigrams)\n",
    "words_nl_uniandbigrams = []\n",
    "for a,b in zip([word.split() for word in words_nl_clean],words_nl_bigrams):\n",
    "    words_nl_uniandbigrams.append(a + b)"
   ]
  },
  {
   "cell_type": "code",
   "execution_count": 78,
   "metadata": {},
   "outputs": [
    {
     "output_type": "execute_result",
     "data": {
      "text/plain": [
       "(721, 360, 361)"
      ]
     },
     "metadata": {},
     "execution_count": 78
    }
   ],
   "source": [
    "len(words_nl_uniandbigrams[6]),len(words_nl_bigrams[6]),len(words_nl_clean[6].split())"
   ]
  },
  {
   "cell_type": "code",
   "execution_count": 96,
   "metadata": {},
   "outputs": [
    {
     "output_type": "stream",
     "name": "stderr",
     "text": [
      "/Users/leonardovida/Library/Caches/pypoetry/virtualenvs/histaware-RplM6c3o-py3.8/lib/python3.8/site-packages/ipykernel/ipkernel.py:287: DeprecationWarning: `should_run_async` will not call `transform_cell` automatically in the future. Please pass the result to `transformed_cell` argument and any exception that happen during thetransform in `preprocessing_exc_tuple` in IPython 7.17 and above.\n  and should_run_async(code)\n"
     ]
    },
    {
     "output_type": "execute_result",
     "data": {
      "text/plain": [
       "[(0,\n",
       "  '0.004*\"nieuws\" + 0.002*\"steenkool\" + 0.002*\"ten\" + 0.002*\"ton\" + 0.002*\"water\"'),\n",
       " (1, '0.006*\"tel\" + 0.003*\"ca\" + 0.003*\"br\" + 0.003*\"uur\" + 0.003*\"koop\"'),\n",
       " (2, '0.004*\"it\" + 0.004*\"franse\" + 0.003*\"fan\" + 0.003*\"onze\" + 0.002*\"yn\"'),\n",
       " (3,\n",
       "  '0.003*\"wel\" + 0.002*\"gast\" + 0.002*\"gasten\" + 0.002*\"weer\" + 0.002*\"echter\"'),\n",
       " (4, '0.004*\"mrs\" + 0.003*\"mr\" + 0.003*\"mr_mrs\" + 0.003*\"heer\" + 0.003*\"we\"'),\n",
       " (5,\n",
       "  '0.006*\"bank\" + 0.003*\"olies\" + 0.003*\"punten\" + 0.003*\"philips\" + 0.003*\"vandaag\"'),\n",
       " (6,\n",
       "  '0.003*\"gasten\" + 0.002*\"gasfabriek\" + 0.002*\"minuten\" + 0.002*\"doelpunt\" + 0.002*\"aardolie\"'),\n",
       " (7,\n",
       "  '0.010*\"pholien\" + 0.003*\"mrt\" + 0.003*\"wonnen\" + 0.003*\"rooms\" + 0.003*\"katholieken\"'),\n",
       " (8, '0.006*\"koop\" + 0.006*\"gasten\" + 0.006*\"no\" + 0.004*\"br\" + 0.004*\"hilv\"'),\n",
       " (9, '0.005*\"am\" + 0.004*\"stg\" + 0.004*\"mei\" + 0.003*\"st\" + 0.003*\"prins\"')]"
      ]
     },
     "metadata": {},
     "execution_count": 96
    }
   ],
   "source": [
    "id2word_m5 = corpora.Dictionary(words_nl_uniandbigrams)                       \n",
    "id2word_m5.filter_extremes(no_below=20, no_above=0.5)\n",
    "ldacorpus_m5 = [id2word_m5.doc2bow(doc) for doc in words_nl_uniandbigrams]\n",
    "tfidfcorpus_m5 = models.TfidfModel(ldacorpus_m5)\n",
    "lda_m5 = models.ldamodel.LdaModel(corpus=tfidfcorpus_m5[ldacorpus_m5],id2word=id2word_m5,num_topics=10)\n",
    "lda_m5.print_topics(num_words=5)"
   ]
  },
  {
   "cell_type": "code",
   "execution_count": 97,
   "metadata": {},
   "outputs": [
    {
     "output_type": "stream",
     "name": "stderr",
     "text": [
      "/Users/leonardovida/Library/Caches/pypoetry/virtualenvs/histaware-RplM6c3o-py3.8/lib/python3.8/site-packages/ipykernel/ipkernel.py:287: DeprecationWarning: `should_run_async` will not call `transform_cell` automatically in the future. Please pass the result to `transformed_cell` argument and any exception that happen during thetransform in `preprocessing_exc_tuple` in IPython 7.17 and above.\n",
      "  and should_run_async(code)\n",
      "Coherence of naive model = -1.0065971499963493\n",
      "Coherence of clean model = -2.4950369875396925\n",
      "Coherence of tf-idf model = -10.175816384984412\n",
      "Coherence of tf-idf model without extreme words -4.512475279764333\n",
      "Coherence of tf-idf model without extreme words with bigrams -5.234766037827193\n",
      "NB: Note that it may not make too much sense to compare these vaues across different corpora\n"
     ]
    }
   ],
   "source": [
    "cm1 = models.CoherenceModel(model=lda_m1, corpus=ldacorpus_m1, dictionary= id2word_m1, coherence='u_mass')  \n",
    "naivecoh = cm1.get_coherence()\n",
    "cm2 = models.CoherenceModel(model=lda_m2, corpus=ldacorpus_m2, dictionary= id2word_m2, coherence='u_mass')  \n",
    "cleancoh = cm2.get_coherence()\n",
    "#cm3 = models.CoherenceModel(model=lda_m3, corpus=ldacorpus_m3, coherence='u_mass')\n",
    "cm3 = models.CoherenceModel(model=lda_m3, corpus=tfidfcorpus_m3[ldacorpus_m3], dictionary= id2word_m3, coherence='u_mass')\n",
    "tfidfcoh = cm3.get_coherence()\n",
    "cm4 = models.CoherenceModel(model=lda_m4, corpus=tfidfcorpus_m4[ldacorpus_m4], dictionary= id2word_m4, coherence='u_mass')\n",
    "tfidffiltercoh = cm4.get_coherence()\n",
    "cm5 = models.CoherenceModel(model=lda_m5, corpus=tfidfcorpus_m5[ldacorpus_m5], dictionary= id2word_m5, coherence='u_mass')\n",
    "tfidffiltercohbi = cm5.get_coherence()\n",
    "print(\"Coherence of naive model = {}\\nCoherence of clean model = {}\\nCoherence of tf-idf model = {}\\nCoherence of tf-idf model without extreme words {}\\nCoherence of tf-idf model without extreme words with bigrams {}\".format(naivecoh, cleancoh, tfidfcoh,tfidffiltercoh, tfidffiltercohbi))\n",
    "print(\"NB: Note that it may not make too much sense to compare these vaues across different corpora\")"
   ]
  },
  {
   "cell_type": "code",
   "execution_count": 98,
   "metadata": {},
   "outputs": [
    {
     "output_type": "stream",
     "name": "stderr",
     "text": [
      "/Users/leonardovida/Library/Caches/pypoetry/virtualenvs/histaware-RplM6c3o-py3.8/lib/python3.8/site-packages/ipykernel/ipkernel.py:287: DeprecationWarning: `should_run_async` will not call `transform_cell` automatically in the future. Please pass the result to `transformed_cell` argument and any exception that happen during thetransform in `preprocessing_exc_tuple` in IPython 7.17 and above.\n",
      "  and should_run_async(code)\n",
      "-11.009042078816773\n",
      "-3.8527509763853436\n",
      "-6.9572462986021675\n"
     ]
    }
   ],
   "source": [
    "lda_m3_good = models.LdaModel(tfidfcorpus_m3[ldacorpus_m3], id2word=id2word_m3, num_topics=10, iterations=50, passes=5, eta='auto',alpha='auto')\n",
    "print(models.CoherenceModel(model=lda_m3_good, corpus=tfidfcorpus_m3[ldacorpus_m3], coherence='u_mass').get_coherence())\n",
    "\n",
    "lda_m4_good = models.LdaModel(tfidfcorpus_m4[ldacorpus_m4], id2word=id2word_m4, num_topics=10, iterations=50, passes=5, eta='auto',alpha='auto')\n",
    "print(models.CoherenceModel(model=lda_m4_good, corpus=tfidfcorpus_m4[ldacorpus_m4], coherence='u_mass').get_coherence())\n",
    "\n",
    "lda_m5_good = models.LdaModel(tfidfcorpus_m5[ldacorpus_m5], id2word=id2word_m5, num_topics=10, iterations=50, passes=5, eta='auto',alpha='auto')\n",
    "print(models.CoherenceModel(model=lda_m5_good, corpus=tfidfcorpus_m5[ldacorpus_m5], coherence='u_mass').get_coherence())"
   ]
  },
  {
   "cell_type": "code",
   "execution_count": 101,
   "metadata": {},
   "outputs": [
    {
     "output_type": "stream",
     "name": "stderr",
     "text": [
      "/Users/leonardovida/Library/Caches/pypoetry/virtualenvs/histaware-RplM6c3o-py3.8/lib/python3.8/site-packages/ipykernel/ipkernel.py:287: DeprecationWarning: `should_run_async` will not call `transform_cell` automatically in the future. Please pass the result to `transformed_cell` argument and any exception that happen during thetransform in `preprocessing_exc_tuple` in IPython 7.17 and above.\n  and should_run_async(code)\n"
     ]
    },
    {
     "output_type": "execute_result",
     "data": {
      "text/plain": [
       "[([(0.013298701, 'tel'),\n",
       "   (0.011875413, 'koop'),\n",
       "   (0.011725163, 'no'),\n",
       "   (0.010293188, 'br'),\n",
       "   (0.006389606, 'telefoon'),\n",
       "   (0.005796473, 'br_no'),\n",
       "   (0.0056766374, 'enz'),\n",
       "   (0.005346738, 'prima'),\n",
       "   (0.0047042477, 'telef'),\n",
       "   (0.0045381156, 'gr'),\n",
       "   (0.004282774, 'uur'),\n",
       "   (0.004157889, 'per'),\n",
       "   (0.003971332, 'vanaf'),\n",
       "   (0.0039335587, 'st'),\n",
       "   (0.0038672606, 'gevraagd'),\n",
       "   (0.0038622823, 'bur'),\n",
       "   (0.0037630112, 'gevr'),\n",
       "   (0.003719777, 'brieven'),\n",
       "   (0.003695346, 'prijs'),\n",
       "   (0.00368805, 'heerlen')],\n",
       "  -1.4226505475735711),\n",
       " ([(0.00242109, 'wij'),\n",
       "   (0.00241874, 'heer'),\n",
       "   (0.0024047955, 'wel'),\n",
       "   (0.0024030686, 'onze'),\n",
       "   (0.0022985316, 'jaar'),\n",
       "   (0.0022102934, 'uur'),\n",
       "   (0.0021385876, 'waar'),\n",
       "   (0.0021326314, 'grote'),\n",
       "   (0.0021229677, 'weer'),\n",
       "   (0.002104246, 'gasten'),\n",
       "   (0.0020525474, 'we'),\n",
       "   (0.002016045, 'twee'),\n",
       "   (0.0018666487, 'ten'),\n",
       "   (0.0018544492, 'zullen'),\n",
       "   (0.0017914749, 'alle'),\n",
       "   (0.0016847705, 'nederlandse'),\n",
       "   (0.001682963, 'nieuwe'),\n",
       "   (0.0016613646, 'eerste'),\n",
       "   (0.0016518584, 'werden'),\n",
       "   (0.0016448962, 'plaats')],\n",
       "  -1.610560760562553),\n",
       " ([(0.016000113, 'rust'),\n",
       "   (0.015501248, 'gasten'),\n",
       "   (0.01093138, 'minuten'),\n",
       "   (0.010639714, 'bal'),\n",
       "   (0.010026249, 'helft'),\n",
       "   (0.0098298965, 'doelpunt'),\n",
       "   (0.009285931, 'spel'),\n",
       "   (0.009079757, 'wedstrijd'),\n",
       "   (0.008990843, 'thuisclub'),\n",
       "   (0.008177328, 'stand'),\n",
       "   (0.008154491, 'doelpunten'),\n",
       "   (0.007778046, 'schot'),\n",
       "   (0.007138802, 'tweede_helft'),\n",
       "   (0.0067898594, 'aanval'),\n",
       "   (0.006657434, 'pholien'),\n",
       "   (0.0064684334, 'aanvallen'),\n",
       "   (0.00631651, 'tweede'),\n",
       "   (0.0062857238, 'voorsprong'),\n",
       "   (0.0059860866, 'doelman'),\n",
       "   (0.005868192, 'gastheren')],\n",
       "  -3.6610767264490955),\n",
       " ([(0.009253528, 'bank'),\n",
       "   (0.007809142, 'olies'),\n",
       "   (0.0072233262, 'punten'),\n",
       "   (0.006868433, 'markt'),\n",
       "   (0.006427243, 'prijshoudend'),\n",
       "   (0.006343986, 'vandaag'),\n",
       "   (0.006209954, 'lager'),\n",
       "   (0.0059717875, 'aandelen'),\n",
       "   (0.005948966, 'philips'),\n",
       "   (0.0058699297, 'hoger'),\n",
       "   (0.005776217, 'olie'),\n",
       "   (0.0057726274, 'ton'),\n",
       "   (0.0055045844, 'aku'),\n",
       "   (0.0053722872, 'unilever'),\n",
       "   (0.0053446786, 'stemming'),\n",
       "   (0.0049965233, 'gasfabriek'),\n",
       "   (0.0049626613, 'indonesische'),\n",
       "   (0.004946524, 'beurs'),\n",
       "   (0.0049445806, 'onveranderd'),\n",
       "   (0.004932215, 'unie')],\n",
       "  -4.276783713572811),\n",
       " ([(0.03407038, 'nieuws'),\n",
       "   (0.028643195, 'mrs'),\n",
       "   (0.016016107, 'mr_mrs'),\n",
       "   (0.014467367, 'gram'),\n",
       "   (0.007495629, 'uitzending'),\n",
       "   (0.0068509807, 'sluiting'),\n",
       "   (0.0058280127, 'ds'),\n",
       "   (0.00497369, 'muziek'),\n",
       "   (0.00466163, 'kalender'),\n",
       "   (0.0046326066, 'causerie'),\n",
       "   (0.004539373, 'onderzoek'),\n",
       "   (0.004316386, 'lunchconcert'),\n",
       "   (0.004280132, 'vara'),\n",
       "   (0.004064761, 'programma'),\n",
       "   (0.0038165755, 'nieuws_gram'),\n",
       "   (0.00376047, 'actualiteiten'),\n",
       "   (0.0036999234, 'mr'),\n",
       "   (0.0035047932, 'orkest'),\n",
       "   (0.0035045291, 'zieken'),\n",
       "   (0.003371254, 'gevarieerd')],\n",
       "  -5.838224233546405),\n",
       " ([(0.015561137, 'loco'),\n",
       "   (0.010277468, 'mrt'),\n",
       "   (0.01012779, 'mei'),\n",
       "   (0.0057479213, 'juli'),\n",
       "   (0.005480437, 'vork'),\n",
       "   (0.0050746696, 'new'),\n",
       "   (0.004536676, 'maart'),\n",
       "   (0.00436222, 'mede_namens'),\n",
       "   (0.004156313, 'new_vork'),\n",
       "   (0.004137186, 'noteerde'),\n",
       "   (0.003973347, 'co'),\n",
       "   (0.003929837, 'vele_blijken'),\n",
       "   (0.0037718825, 'tank'),\n",
       "   (0.0035271666, 'sept'),\n",
       "   (0.0034999445, 'december'),\n",
       "   (0.0034634604, 'blijken_belangstelling'),\n",
       "   (0.0034503574, 'katoen'),\n",
       "   (0.0034331472, 'hartelijke_dank'),\n",
       "   (0.003278541, 'jan'),\n",
       "   (0.0032058973, 'ondervonden')],\n",
       "  -9.239288030359274),\n",
       " ([(0.0051641017, 'ned'),\n",
       "   (0.004428178, 'stg'),\n",
       "   (0.0039662244, 'katholieke'),\n",
       "   (0.0034360203, 'ca'),\n",
       "   (0.0031074916, 'belgische'),\n",
       "   (0.0027857176, 'londen'),\n",
       "   (0.0027488032, 'ledig'),\n",
       "   (0.0026818574, 'kolen'),\n",
       "   (0.0026656038, 'partij'),\n",
       "   (0.0026400646, 'new'),\n",
       "   (0.0024382295, 'regering'),\n",
       "   (0.0024086295, 'pholien'),\n",
       "   (0.0022171563, 'communistische'),\n",
       "   (0.0021232592, 'frankrijk'),\n",
       "   (0.002029432, 'and'),\n",
       "   (0.00198555, 'boys'),\n",
       "   (0.0019684732, 'jl'),\n",
       "   (0.0019406232, 'buitenland'),\n",
       "   (0.0019180303, 'wedstrijden'),\n",
       "   (0.0019162534, 'vork')],\n",
       "  -9.817136637892805),\n",
       " ([(0.026969023, 'hilv'),\n",
       "   (0.012528894, 'bussum'),\n",
       "   (0.008943535, 'hilversum'),\n",
       "   (0.008870058, 'gooi'),\n",
       "   (0.008136585, 'jang'),\n",
       "   (0.0077158795, 'hilv_koop'),\n",
       "   (0.007451948, 'koop_gevraagd'),\n",
       "   (0.0063151447, 'kolonel'),\n",
       "   (0.006244289, 'koop'),\n",
       "   (0.005764107, 'lading'),\n",
       "   (0.0052594193, 'laren'),\n",
       "   (0.0051922533, 'werkster'),\n",
       "   (0.0051715393, 'mod'),\n",
       "   (0.0050950325, 'hilversum_koop'),\n",
       "   (0.0050716917, 'dari'),\n",
       "   (0.0050085774, 'aanm'),\n",
       "   (0.004877337, 'dengan'),\n",
       "   (0.0046510757, 'vendutie'),\n",
       "   (0.004472157, 'no'),\n",
       "   (0.004252464, 'gasstel')],\n",
       "  -9.96331903678822),\n",
       " ([(0.012045424, 'franse'),\n",
       "   (0.011002706, 'steenkool'),\n",
       "   (0.010890176, 'gasille'),\n",
       "   (0.010269318, 'regering'),\n",
       "   (0.009671017, 'gasperi'),\n",
       "   (0.0076338453, 'kabinet'),\n",
       "   (0.0072449627, 'koning'),\n",
       "   (0.006807323, 'pakistan'),\n",
       "   (0.0064285733, 'cvp'),\n",
       "   (0.00639363, 'eyskens'),\n",
       "   (0.006360543, 'ondergrondse'),\n",
       "   (0.0057642916, 'katholieken'),\n",
       "   (0.0057417355, 'voorstel'),\n",
       "   (0.005648423, 'schuman'),\n",
       "   (0.00561666, 'liberalen'),\n",
       "   (0.0054959566, 'buitenlandse_zaken'),\n",
       "   (0.0054817097, 'leopold'),\n",
       "   (0.0051042736, 'socialisten'),\n",
       "   (0.0050031412, 'belgische'),\n",
       "   (0.0048408294, 'duitse')],\n",
       "  -10.840995812185424),\n",
       " ([(0.011580314, 'gasthuis'),\n",
       "   (0.01119815, 'vaten'),\n",
       "   (0.010590576, 'kisten'),\n",
       "   (0.007761069, 'zeep'),\n",
       "   (0.0045273756, 'huid'),\n",
       "   (0.0025907645, 'kostbare'),\n",
       "   (0.0019458217, 'verzorging'),\n",
       "   (0.0014641786, 'baby'),\n",
       "   (0.001438215, 'minuut'),\n",
       "   (0.0014017876, 'stuks'),\n",
       "   (0.0012758235, 'aangevoerd'),\n",
       "   (0.0011539944, 'usa'),\n",
       "   (0.0011446746, 'eenvoudige'),\n",
       "   (0.0010646846, 'zakken'),\n",
       "   (0.0009151015, 'onderdelen'),\n",
       "   (0.00087065273, 'jf'),\n",
       "   (0.0008585758, 'schoon'),\n",
       "   (0.00079900166, 'ontslag'),\n",
       "   (0.0007732106, 'mr'),\n",
       "   (0.00072766066, 'gebruikt')],\n",
       "  -12.90242748709152)]"
      ]
     },
     "metadata": {},
     "execution_count": 101
    }
   ],
   "source": [
    "lda_m5_good.top_topics(tfidfcorpus_m5[ldacorpus_m5])"
   ]
  },
  {
   "cell_type": "code",
   "execution_count": 88,
   "metadata": {},
   "outputs": [
    {
     "output_type": "stream",
     "name": "stderr",
     "text": [
      "/Users/leonardovida/Library/Caches/pypoetry/virtualenvs/histaware-RplM6c3o-py3.8/lib/python3.8/site-packages/ipykernel/ipkernel.py:287: DeprecationWarning: `should_run_async` will not call `transform_cell` automatically in the future. Please pass the result to `transformed_cell` argument and any exception that happen during thetransform in `preprocessing_exc_tuple` in IPython 7.17 and above.\n  and should_run_async(code)\n"
     ]
    }
   ],
   "source": [
    "#vis_data = pyLDAvis.gensim.prepare(lda_m5,ldacorpus_m5,id2word_m5)\n",
    "#pyLDAvis.display(vis_data)"
   ]
  },
  {
   "cell_type": "code",
   "execution_count": 117,
   "metadata": {},
   "outputs": [
    {
     "output_type": "stream",
     "name": "stderr",
     "text": [
      "/Users/leonardovida/Library/Caches/pypoetry/virtualenvs/histaware-RplM6c3o-py3.8/lib/python3.8/site-packages/ipykernel/ipkernel.py:287: DeprecationWarning: `should_run_async` will not call `transform_cell` automatically in the future. Please pass the result to `transformed_cell` argument and any exception that happen during thetransform in `preprocessing_exc_tuple` in IPython 7.17 and above.\n  and should_run_async(code)\n"
     ]
    }
   ],
   "source": [
    "dictionary = corpora.Dictionary(ldainput_m1)\n",
    "dictionary.save('/Users/leonardovida/nltk_data/corpora/nl_1950/nl_1950_stop.dict')\n",
    "dictionary = corpora.Dictionary(ldainput_m2)\n",
    "dictionary.save('/Users/leonardovida/nltk_data/corpora/nl_1950/nl_1950_nostop.dict')"
   ]
  },
  {
   "cell_type": "code",
   "execution_count": 121,
   "metadata": {},
   "outputs": [
    {
     "output_type": "stream",
     "name": "stderr",
     "text": [
      "/Users/leonardovida/Library/Caches/pypoetry/virtualenvs/histaware-RplM6c3o-py3.8/lib/python3.8/site-packages/ipykernel/ipkernel.py:287: DeprecationWarning: `should_run_async` will not call `transform_cell` automatically in the future. Please pass the result to `transformed_cell` argument and any exception that happen during thetransform in `preprocessing_exc_tuple` in IPython 7.17 and above.\n  and should_run_async(code)\n"
     ]
    },
    {
     "output_type": "error",
     "ename": "TypeError",
     "evalue": "unhashable type: 'list'",
     "traceback": [
      "\u001b[0;31m---------------------------------------------------------------------------\u001b[0m",
      "\u001b[0;31mTypeError\u001b[0m                                 Traceback (most recent call last)",
      "\u001b[0;32m<ipython-input-121-015d1a80aac3>\u001b[0m in \u001b[0;36m<module>\u001b[0;34m\u001b[0m\n\u001b[1;32m      1\u001b[0m \u001b[0;32mimport\u001b[0m \u001b[0mcollections\u001b[0m\u001b[0;34m\u001b[0m\u001b[0;34m\u001b[0m\u001b[0m\n\u001b[0;32m----> 2\u001b[0;31m \u001b[0mcollections\u001b[0m\u001b[0;34m.\u001b[0m\u001b[0mCounter\u001b[0m\u001b[0;34m(\u001b[0m\u001b[0mldainput_m2\u001b[0m\u001b[0;34m)\u001b[0m\u001b[0;34m\u001b[0m\u001b[0;34m\u001b[0m\u001b[0m\n\u001b[0m",
      "\u001b[0;32m~/.pyenv/versions/3.8.5/lib/python3.8/collections/__init__.py\u001b[0m in \u001b[0;36m__init__\u001b[0;34m(self, iterable, **kwds)\u001b[0m\n\u001b[1;32m    550\u001b[0m         '''\n\u001b[1;32m    551\u001b[0m         \u001b[0msuper\u001b[0m\u001b[0;34m(\u001b[0m\u001b[0mCounter\u001b[0m\u001b[0;34m,\u001b[0m \u001b[0mself\u001b[0m\u001b[0;34m)\u001b[0m\u001b[0;34m.\u001b[0m\u001b[0m__init__\u001b[0m\u001b[0;34m(\u001b[0m\u001b[0;34m)\u001b[0m\u001b[0;34m\u001b[0m\u001b[0;34m\u001b[0m\u001b[0m\n\u001b[0;32m--> 552\u001b[0;31m         \u001b[0mself\u001b[0m\u001b[0;34m.\u001b[0m\u001b[0mupdate\u001b[0m\u001b[0;34m(\u001b[0m\u001b[0miterable\u001b[0m\u001b[0;34m,\u001b[0m \u001b[0;34m**\u001b[0m\u001b[0mkwds\u001b[0m\u001b[0;34m)\u001b[0m\u001b[0;34m\u001b[0m\u001b[0;34m\u001b[0m\u001b[0m\n\u001b[0m\u001b[1;32m    553\u001b[0m \u001b[0;34m\u001b[0m\u001b[0m\n\u001b[1;32m    554\u001b[0m     \u001b[0;32mdef\u001b[0m \u001b[0m__missing__\u001b[0m\u001b[0;34m(\u001b[0m\u001b[0mself\u001b[0m\u001b[0;34m,\u001b[0m \u001b[0mkey\u001b[0m\u001b[0;34m)\u001b[0m\u001b[0;34m:\u001b[0m\u001b[0;34m\u001b[0m\u001b[0;34m\u001b[0m\u001b[0m\n",
      "\u001b[0;32m~/.pyenv/versions/3.8.5/lib/python3.8/collections/__init__.py\u001b[0m in \u001b[0;36mupdate\u001b[0;34m(self, iterable, **kwds)\u001b[0m\n\u001b[1;32m    635\u001b[0m                     \u001b[0msuper\u001b[0m\u001b[0;34m(\u001b[0m\u001b[0mCounter\u001b[0m\u001b[0;34m,\u001b[0m \u001b[0mself\u001b[0m\u001b[0;34m)\u001b[0m\u001b[0;34m.\u001b[0m\u001b[0mupdate\u001b[0m\u001b[0;34m(\u001b[0m\u001b[0miterable\u001b[0m\u001b[0;34m)\u001b[0m \u001b[0;31m# fast path when counter is empty\u001b[0m\u001b[0;34m\u001b[0m\u001b[0;34m\u001b[0m\u001b[0m\n\u001b[1;32m    636\u001b[0m             \u001b[0;32melse\u001b[0m\u001b[0;34m:\u001b[0m\u001b[0;34m\u001b[0m\u001b[0;34m\u001b[0m\u001b[0m\n\u001b[0;32m--> 637\u001b[0;31m                 \u001b[0m_count_elements\u001b[0m\u001b[0;34m(\u001b[0m\u001b[0mself\u001b[0m\u001b[0;34m,\u001b[0m \u001b[0miterable\u001b[0m\u001b[0;34m)\u001b[0m\u001b[0;34m\u001b[0m\u001b[0;34m\u001b[0m\u001b[0m\n\u001b[0m\u001b[1;32m    638\u001b[0m         \u001b[0;32mif\u001b[0m \u001b[0mkwds\u001b[0m\u001b[0;34m:\u001b[0m\u001b[0;34m\u001b[0m\u001b[0;34m\u001b[0m\u001b[0m\n\u001b[1;32m    639\u001b[0m             \u001b[0mself\u001b[0m\u001b[0;34m.\u001b[0m\u001b[0mupdate\u001b[0m\u001b[0;34m(\u001b[0m\u001b[0mkwds\u001b[0m\u001b[0;34m)\u001b[0m\u001b[0;34m\u001b[0m\u001b[0;34m\u001b[0m\u001b[0m\n",
      "\u001b[0;31mTypeError\u001b[0m: unhashable type: 'list'"
     ]
    }
   ],
   "source": [
    "import collections \n",
    "collections.Counter(ldainput_m2)"
   ]
  },
  {
   "cell_type": "code",
   "execution_count": null,
   "metadata": {},
   "outputs": [],
   "source": []
  },
  {
   "cell_type": "code",
   "execution_count": null,
   "metadata": {},
   "outputs": [],
   "source": [
    "import io\n",
    "import collections\n",
    "import matplotlib.pyplot as plt\n",
    "import nltk\n",
    "import enchant\n",
    "  ​\n",
    "nltk.data.load('corpora/nl_1950/file.txt', format='raw')\n",
    "\n",
    "words = []\n",
    "with io.open('corpus.txt', 'r', encoding='utf-8') as f:\n",
    "    for line in f:\n",
    "        line = line.strip()\n",
    "        words.extend(line.split())\n",
    "  ​\n",
    "vocab = collections.Counter(words)\n",
    "vocab.most_common(10)"
   ]
  }
 ]
}