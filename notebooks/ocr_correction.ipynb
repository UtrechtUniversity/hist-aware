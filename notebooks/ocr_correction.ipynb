{
 "cells": [
  {
   "cell_type": "markdown",
   "metadata": {},
   "source": [
    "# OCR Correction"
   ]
  },
  {
   "cell_type": "code",
   "execution_count": 24,
   "metadata": {},
   "outputs": [
    {
     "ename": "ImportError",
     "evalue": "cannot import name 'iterators' from 'src' (/Users/leonardovida/airflow/src/__init__.py)",
     "output_type": "error",
     "traceback": [
      "\u001b[0;31m---------------------------------------------------------------------------\u001b[0m",
      "\u001b[0;31mImportError\u001b[0m                               Traceback (most recent call last)",
      "\u001b[0;32m<ipython-input-24-2c104a79b907>\u001b[0m in \u001b[0;36m<module>\u001b[0;34m\u001b[0m\n\u001b[1;32m     10\u001b[0m \u001b[0;32mimport\u001b[0m \u001b[0mcollections\u001b[0m\u001b[0;34m\u001b[0m\u001b[0;34m\u001b[0m\u001b[0m\n\u001b[1;32m     11\u001b[0m \u001b[0;34m\u001b[0m\u001b[0m\n\u001b[0;32m---> 12\u001b[0;31m \u001b[0;32mfrom\u001b[0m \u001b[0msrc\u001b[0m \u001b[0;32mimport\u001b[0m \u001b[0miterators\u001b[0m\u001b[0;34m\u001b[0m\u001b[0;34m\u001b[0m\u001b[0m\n\u001b[0m\u001b[1;32m     13\u001b[0m \u001b[0;34m\u001b[0m\u001b[0m\n\u001b[1;32m     14\u001b[0m \u001b[0;32mimport\u001b[0m \u001b[0mspacy\u001b[0m\u001b[0;34m\u001b[0m\u001b[0;34m\u001b[0m\u001b[0m\n",
      "\u001b[0;31mImportError\u001b[0m: cannot import name 'iterators' from 'src' (/Users/leonardovida/airflow/src/__init__.py)"
     ]
    }
   ],
   "source": [
    "import io\n",
    "from collections import defaultdict\n",
    "import os, os.path\n",
    "import sys\n",
    "sys.path.insert(0, \"..\")\n",
    "from string import punctuation\n",
    "import pprint\n",
    "import re\n",
    "from string import punctuation\n",
    "import collections\n",
    "\n",
    "from src import iterators\n",
    "\n",
    "import spacy\n",
    "\n",
    "import enchant\n",
    "\n",
    "import fasttext\n",
    "\n",
    "from nltk.corpus import stopwords\n",
    "from nltk.tokenize import RegexpTokenizer\n",
    "import nltk\n",
    "\n",
    "from gensim import corpora"
   ]
  },
  {
   "cell_type": "code",
   "execution_count": 21,
   "metadata": {},
   "outputs": [
    {
     "ename": "NameError",
     "evalue": "name 'iterators' is not defined",
     "output_type": "error",
     "traceback": [
      "\u001b[0;31m---------------------------------------------------------------------------\u001b[0m",
      "\u001b[0;31mNameError\u001b[0m                                 Traceback (most recent call last)",
      "\u001b[0;32m<ipython-input-21-46c2f90277e3>\u001b[0m in \u001b[0;36m<module>\u001b[0;34m\u001b[0m\n\u001b[1;32m      1\u001b[0m \u001b[0;31m# Load csv\u001b[0m\u001b[0;34m\u001b[0m\u001b[0;34m\u001b[0m\u001b[0;34m\u001b[0m\u001b[0m\n\u001b[0;32m----> 2\u001b[0;31m \u001b[0mcsv\u001b[0m \u001b[0;34m=\u001b[0m \u001b[0miterators\u001b[0m\u001b[0;34m.\u001b[0m\u001b[0miterate_directory\u001b[0m\u001b[0;34m(\u001b[0m\u001b[0;34m\"../data/processed/selected_articles/\"\u001b[0m\u001b[0;34m,\u001b[0m \u001b[0;34m\".csv\"\u001b[0m\u001b[0;34m)\u001b[0m\u001b[0;34m\u001b[0m\u001b[0;34m\u001b[0m\u001b[0m\n\u001b[0m\u001b[1;32m      3\u001b[0m \u001b[0mdf\u001b[0m \u001b[0;34m=\u001b[0m \u001b[0mpd\u001b[0m\u001b[0;34m.\u001b[0m\u001b[0mconcat\u001b[0m\u001b[0;34m(\u001b[0m\u001b[0;34m[\u001b[0m\u001b[0mpd\u001b[0m\u001b[0;34m.\u001b[0m\u001b[0mread_csv\u001b[0m\u001b[0;34m(\u001b[0m\u001b[0mc\u001b[0m\u001b[0;34m[\u001b[0m\u001b[0;34m\"article_path\"\u001b[0m\u001b[0;34m]\u001b[0m\u001b[0;34m)\u001b[0m \u001b[0;32mfor\u001b[0m \u001b[0mc\u001b[0m \u001b[0;32min\u001b[0m \u001b[0mcsv\u001b[0m\u001b[0;34m]\u001b[0m\u001b[0;34m,\u001b[0m\u001b[0mignore_index\u001b[0m\u001b[0;34m=\u001b[0m\u001b[0;32mTrue\u001b[0m\u001b[0;34m)\u001b[0m\u001b[0;34m\u001b[0m\u001b[0;34m\u001b[0m\u001b[0m\n\u001b[1;32m      4\u001b[0m \u001b[0mdf\u001b[0m\u001b[0;34m.\u001b[0m\u001b[0msort_values\u001b[0m\u001b[0;34m(\u001b[0m\u001b[0mby\u001b[0m\u001b[0;34m=\u001b[0m\u001b[0;34m[\u001b[0m\u001b[0;34m\"count\"\u001b[0m\u001b[0;34m]\u001b[0m\u001b[0;34m,\u001b[0m \u001b[0mascending\u001b[0m\u001b[0;34m=\u001b[0m\u001b[0;32mFalse\u001b[0m\u001b[0;34m,\u001b[0m \u001b[0minplace\u001b[0m\u001b[0;34m=\u001b[0m\u001b[0;32mTrue\u001b[0m\u001b[0;34m)\u001b[0m\u001b[0;34m\u001b[0m\u001b[0;34m\u001b[0m\u001b[0m\n\u001b[1;32m      5\u001b[0m \u001b[0mstopword_list\u001b[0m \u001b[0;34m=\u001b[0m \u001b[0mnltk\u001b[0m\u001b[0;34m.\u001b[0m\u001b[0mcorpus\u001b[0m\u001b[0;34m.\u001b[0m\u001b[0mstopwords\u001b[0m\u001b[0;34m.\u001b[0m\u001b[0mwords\u001b[0m\u001b[0;34m(\u001b[0m\u001b[0;34m'dutch'\u001b[0m\u001b[0;34m)\u001b[0m\u001b[0;34m\u001b[0m\u001b[0;34m\u001b[0m\u001b[0m\n",
      "\u001b[0;31mNameError\u001b[0m: name 'iterators' is not defined"
     ]
    }
   ],
   "source": [
    "# Load csv\n",
    "csv = iterators.iterate_directory(\"../data/processed/selected_articles/\", \".csv\")\n",
    "df = pd.concat([pd.read_csv(c[\"article_path\"]) for c in csv],ignore_index=True)\n",
    "df.sort_values(by=[\"count\"], ascending=False, inplace=True)\n",
    "stopword_list = nltk.corpus.stopwords.words('dutch')"
   ]
  },
  {
   "cell_type": "markdown",
   "metadata": {},
   "source": [
    "### Pre-process to clean up documents"
   ]
  },
  {
   "cell_type": "code",
   "execution_count": 22,
   "metadata": {},
   "outputs": [],
   "source": [
    "def remove_punctuation(text):\n",
    "    \"\"\"Remove punctuation\"\"\"\n",
    "    no_punct = \"\".join([c for c in text if c not in punctuation])\n",
    "    return(no_punct)"
   ]
  },
  {
   "cell_type": "code",
   "execution_count": 19,
   "metadata": {},
   "outputs": [],
   "source": [
    "df[\"text_clean\"] = df[\"text\"].apply(lambda x: remove_punctuation(x))"
   ]
  },
  {
   "cell_type": "code",
   "execution_count": 20,
   "metadata": {},
   "outputs": [],
   "source": [
    "tokenizer = RegexpTokenizer(r'[a-zA-Z]+') # No punctuation and no numbers\n",
    "df[\"text_clean\"] = df[\"text_clean\"].apply(lambda x: tokenizer.tokenize(x.lower()))"
   ]
  },
  {
   "cell_type": "code",
   "execution_count": 21,
   "metadata": {},
   "outputs": [],
   "source": [
    "def remove_stopwords(text):\n",
    "    \"\"\"Remove stopwords as defined by nltk\"\"\"\n",
    "    words = [w for w in text if w not in stopword_list]\n",
    "    return words"
   ]
  },
  {
   "cell_type": "code",
   "execution_count": 22,
   "metadata": {},
   "outputs": [],
   "source": [
    "df[\"text_clean\"] = df[\"text_clean\"].apply(lambda x: remove_stopwords(x))"
   ]
  },
  {
   "cell_type": "code",
   "execution_count": 23,
   "metadata": {},
   "outputs": [],
   "source": [
    "def remove_one_char(text):\n",
    "    \"\"\"Eliminates all one char words\"\"\"\n",
    "    words = [w for w in text if len(w)>1]\n",
    "    return words"
   ]
  },
  {
   "cell_type": "code",
   "execution_count": 24,
   "metadata": {},
   "outputs": [],
   "source": [
    "df[\"text_clean\"] = df[\"text_clean\"].apply(lambda x: remove_one_char(x))"
   ]
  },
  {
   "cell_type": "markdown",
   "metadata": {},
   "source": [
    "### Create the corpus"
   ]
  },
  {
   "cell_type": "code",
   "execution_count": 39,
   "metadata": {},
   "outputs": [
    {
     "data": {
      "application/vnd.jupyter.widget-view+json": {
       "model_id": "7c326140579549d698c6d3bb40edb3b4",
       "version_major": 2,
       "version_minor": 0
      },
      "text/plain": [
       "HBox(children=(FloatProgress(value=0.0, max=5744.0), HTML(value='')))"
      ]
     },
     "metadata": {},
     "output_type": "display_data"
    },
    {
     "name": "stdout",
     "output_type": "stream",
     "text": [
      "\n"
     ]
    }
   ],
   "source": [
    "corpus=[]\n",
    "for idx, row in tqdm(df.iterrows(), total=df.shape[0]):\n",
    "    corpus.extend(row[\"text_clean\"])\n",
    "\n",
    "# Save file\n",
    "with open('corpus.txt', 'w') as f:\n",
    "    for item in corpus:\n",
    "        f.write(\"%s\\n\" % item)"
   ]
  },
  {
   "cell_type": "code",
   "execution_count": 19,
   "metadata": {},
   "outputs": [
    {
     "ename": "NameError",
     "evalue": "name 'corpus' is not defined",
     "output_type": "error",
     "traceback": [
      "\u001b[0;31m---------------------------------------------------------------------------\u001b[0m",
      "\u001b[0;31mNameError\u001b[0m                                 Traceback (most recent call last)",
      "\u001b[0;32m<ipython-input-19-7e2b7f979577>\u001b[0m in \u001b[0;36m<module>\u001b[0;34m\u001b[0m\n\u001b[0;32m----> 1\u001b[0;31m \u001b[0mdictionary\u001b[0m \u001b[0;34m=\u001b[0m \u001b[0mcorpora\u001b[0m\u001b[0;34m.\u001b[0m\u001b[0mDictionary\u001b[0m\u001b[0;34m(\u001b[0m\u001b[0mcorpus\u001b[0m\u001b[0;34m)\u001b[0m\u001b[0;34m\u001b[0m\u001b[0;34m\u001b[0m\u001b[0m\n\u001b[0m\u001b[1;32m      2\u001b[0m \u001b[0mprint\u001b[0m\u001b[0;34m(\u001b[0m\u001b[0mdictionary\u001b[0m\u001b[0;34m)\u001b[0m\u001b[0;34m\u001b[0m\u001b[0;34m\u001b[0m\u001b[0m\n",
      "\u001b[0;31mNameError\u001b[0m: name 'corpus' is not defined"
     ]
    }
   ],
   "source": [
    "dictionary = corpora.Dictionary(corpus)\n",
    "print(dictionary)"
   ]
  },
  {
   "cell_type": "code",
   "execution_count": 37,
   "metadata": {},
   "outputs": [
    {
     "data": {
      "text/plain": [
       "[('zwemvereniging', 1),\n",
       " ('denisgcbouw', 1),\n",
       " ('fpfp', 1),\n",
       " ('jjgjjj', 1),\n",
       " ('gffflflgij', 1),\n",
       " ('imiihimiiiiiiim', 1),\n",
       " ('tegallega', 1),\n",
       " ('tertielbenodlgdheden', 1),\n",
       " ('verfstoffen', 1),\n",
       " ('nieuwaar', 1)]"
      ]
     },
     "execution_count": 37,
     "metadata": {},
     "output_type": "execute_result"
    }
   ],
   "source": [
    "#vocab = collections.Counter(corpus)\n",
    "#vocab.most_common(10)"
   ]
  },
  {
   "cell_type": "markdown",
   "metadata": {},
   "source": [
    "Inspecting the end of the counter we see tons of problems"
   ]
  },
  {
   "cell_type": "code",
   "execution_count": 38,
   "metadata": {},
   "outputs": [
    {
     "data": {
      "text/plain": [
       "[('zwemvereniging', 1),\n",
       " ('denisgcbouw', 1),\n",
       " ('fpfp', 1),\n",
       " ('jjgjjj', 1),\n",
       " ('gffflflgij', 1),\n",
       " ('imiihimiiiiiiim', 1),\n",
       " ('tegallega', 1),\n",
       " ('tertielbenodlgdheden', 1),\n",
       " ('verfstoffen', 1),\n",
       " ('nieuwaar', 1)]"
      ]
     },
     "execution_count": 38,
     "metadata": {},
     "output_type": "execute_result"
    }
   ],
   "source": [
    "list(reversed(vocab.most_common()[-10:]))"
   ]
  },
  {
   "cell_type": "code",
   "execution_count": 16,
   "metadata": {},
   "outputs": [],
   "source": [
    "import fasttext\n",
    "model = fasttext.train_unsupervised('corpus.txt',\n",
    "                                    epoch=50,\n",
    "                                    lr=0.01,\n",
    "                                    wordNgrams=3,\n",
    "                                   dim=100,\n",
    "                                   minCount=1,\n",
    "                                   minn=3,\n",
    "                                   maxn=6,\n",
    "                                   ws=6,\n",
    "                                   neg=20)\n",
    "model.save_model(\"fasttext_model.bin\")"
   ]
  },
  {
   "cell_type": "code",
   "execution_count": 15,
   "metadata": {},
   "outputs": [
    {
     "name": "stderr",
     "output_type": "stream",
     "text": [
      "<ipython-input-15-5115e13380b7>:3: DeprecationWarning: Call to deprecated `load_fasttext_format` (use load_facebook_vectors (to use pretrained embeddings) or load_facebook_model (to continue training with the loaded full model, more RAM) instead).\n",
      "  model = FastText.load_fasttext_format('model_fasttext_2')\n"
     ]
    },
    {
     "ename": "FileNotFoundError",
     "evalue": "[Errno 2] No such file or directory: 'model_fasttext_2'",
     "output_type": "error",
     "traceback": [
      "\u001b[0;31m---------------------------------------------------------------------------\u001b[0m",
      "\u001b[0;31mFileNotFoundError\u001b[0m                         Traceback (most recent call last)",
      "\u001b[0;32m<ipython-input-15-5115e13380b7>\u001b[0m in \u001b[0;36m<module>\u001b[0;34m\u001b[0m\n\u001b[1;32m      1\u001b[0m \u001b[0;32mfrom\u001b[0m \u001b[0mgensim\u001b[0m\u001b[0;34m.\u001b[0m\u001b[0mmodels\u001b[0m\u001b[0;34m.\u001b[0m\u001b[0mfasttext\u001b[0m \u001b[0;32mimport\u001b[0m \u001b[0mFastText\u001b[0m\u001b[0;34m\u001b[0m\u001b[0;34m\u001b[0m\u001b[0m\n\u001b[1;32m      2\u001b[0m \u001b[0;34m\u001b[0m\u001b[0m\n\u001b[0;32m----> 3\u001b[0;31m \u001b[0mmodel\u001b[0m \u001b[0;34m=\u001b[0m \u001b[0mFastText\u001b[0m\u001b[0;34m.\u001b[0m\u001b[0mload_fasttext_format\u001b[0m\u001b[0;34m(\u001b[0m\u001b[0;34m'model_fasttext_2'\u001b[0m\u001b[0;34m)\u001b[0m\u001b[0;34m\u001b[0m\u001b[0;34m\u001b[0m\u001b[0m\n\u001b[0m\u001b[1;32m      4\u001b[0m \u001b[0;34m\u001b[0m\u001b[0m\n\u001b[1;32m      5\u001b[0m \u001b[0mprint\u001b[0m\u001b[0;34m(\u001b[0m\u001b[0mmodel\u001b[0m\u001b[0;34m.\u001b[0m\u001b[0mwv\u001b[0m\u001b[0;34m.\u001b[0m\u001b[0mmost_similar\u001b[0m\u001b[0;34m(\u001b[0m\u001b[0;34m'recharge'\u001b[0m\u001b[0;34m,\u001b[0m \u001b[0mtopn\u001b[0m\u001b[0;34m=\u001b[0m\u001b[0;36m5\u001b[0m\u001b[0;34m)\u001b[0m\u001b[0;34m)\u001b[0m\u001b[0;34m\u001b[0m\u001b[0;34m\u001b[0m\u001b[0m\n",
      "\u001b[0;32m~/Library/Caches/pypoetry/virtualenvs/histaware-RplM6c3o-py3.8/lib/python3.8/site-packages/gensim/utils.py\u001b[0m in \u001b[0;36mnew_func1\u001b[0;34m(*args, **kwargs)\u001b[0m\n\u001b[1;32m   1459\u001b[0m                     \u001b[0mstacklevel\u001b[0m\u001b[0;34m=\u001b[0m\u001b[0;36m2\u001b[0m\u001b[0;34m\u001b[0m\u001b[0;34m\u001b[0m\u001b[0m\n\u001b[1;32m   1460\u001b[0m                 )\n\u001b[0;32m-> 1461\u001b[0;31m                 \u001b[0;32mreturn\u001b[0m \u001b[0mfunc\u001b[0m\u001b[0;34m(\u001b[0m\u001b[0;34m*\u001b[0m\u001b[0margs\u001b[0m\u001b[0;34m,\u001b[0m \u001b[0;34m**\u001b[0m\u001b[0mkwargs\u001b[0m\u001b[0;34m)\u001b[0m\u001b[0;34m\u001b[0m\u001b[0;34m\u001b[0m\u001b[0m\n\u001b[0m\u001b[1;32m   1462\u001b[0m \u001b[0;34m\u001b[0m\u001b[0m\n\u001b[1;32m   1463\u001b[0m             \u001b[0;32mreturn\u001b[0m \u001b[0mnew_func1\u001b[0m\u001b[0;34m\u001b[0m\u001b[0;34m\u001b[0m\u001b[0m\n",
      "\u001b[0;32m~/Library/Caches/pypoetry/virtualenvs/histaware-RplM6c3o-py3.8/lib/python3.8/site-packages/gensim/models/fasttext.py\u001b[0m in \u001b[0;36mload_fasttext_format\u001b[0;34m(cls, model_file, encoding)\u001b[0m\n\u001b[1;32m    870\u001b[0m \u001b[0;34m\u001b[0m\u001b[0m\n\u001b[1;32m    871\u001b[0m         \"\"\"\n\u001b[0;32m--> 872\u001b[0;31m         \u001b[0;32mreturn\u001b[0m \u001b[0mload_facebook_model\u001b[0m\u001b[0;34m(\u001b[0m\u001b[0mmodel_file\u001b[0m\u001b[0;34m,\u001b[0m \u001b[0mencoding\u001b[0m\u001b[0;34m=\u001b[0m\u001b[0mencoding\u001b[0m\u001b[0;34m)\u001b[0m\u001b[0;34m\u001b[0m\u001b[0;34m\u001b[0m\u001b[0m\n\u001b[0m\u001b[1;32m    873\u001b[0m \u001b[0;34m\u001b[0m\u001b[0m\n\u001b[1;32m    874\u001b[0m     @gensim.utils.deprecated(\n",
      "\u001b[0;32m~/Library/Caches/pypoetry/virtualenvs/histaware-RplM6c3o-py3.8/lib/python3.8/site-packages/gensim/models/fasttext.py\u001b[0m in \u001b[0;36mload_facebook_model\u001b[0;34m(path, encoding)\u001b[0m\n\u001b[1;32m   1140\u001b[0m \u001b[0;34m\u001b[0m\u001b[0m\n\u001b[1;32m   1141\u001b[0m     \"\"\"\n\u001b[0;32m-> 1142\u001b[0;31m     \u001b[0;32mreturn\u001b[0m \u001b[0m_load_fasttext_format\u001b[0m\u001b[0;34m(\u001b[0m\u001b[0mpath\u001b[0m\u001b[0;34m,\u001b[0m \u001b[0mencoding\u001b[0m\u001b[0;34m=\u001b[0m\u001b[0mencoding\u001b[0m\u001b[0;34m,\u001b[0m \u001b[0mfull_model\u001b[0m\u001b[0;34m=\u001b[0m\u001b[0;32mTrue\u001b[0m\u001b[0;34m)\u001b[0m\u001b[0;34m\u001b[0m\u001b[0;34m\u001b[0m\u001b[0m\n\u001b[0m\u001b[1;32m   1143\u001b[0m \u001b[0;34m\u001b[0m\u001b[0m\n\u001b[1;32m   1144\u001b[0m \u001b[0;34m\u001b[0m\u001b[0m\n",
      "\u001b[0;32m~/Library/Caches/pypoetry/virtualenvs/histaware-RplM6c3o-py3.8/lib/python3.8/site-packages/gensim/models/fasttext.py\u001b[0m in \u001b[0;36m_load_fasttext_format\u001b[0;34m(model_file, encoding, full_model)\u001b[0m\n\u001b[1;32m   1219\u001b[0m \u001b[0;34m\u001b[0m\u001b[0m\n\u001b[1;32m   1220\u001b[0m     \"\"\"\n\u001b[0;32m-> 1221\u001b[0;31m     \u001b[0;32mwith\u001b[0m \u001b[0mgensim\u001b[0m\u001b[0;34m.\u001b[0m\u001b[0mutils\u001b[0m\u001b[0;34m.\u001b[0m\u001b[0mopen\u001b[0m\u001b[0;34m(\u001b[0m\u001b[0mmodel_file\u001b[0m\u001b[0;34m,\u001b[0m \u001b[0;34m'rb'\u001b[0m\u001b[0;34m)\u001b[0m \u001b[0;32mas\u001b[0m \u001b[0mfin\u001b[0m\u001b[0;34m:\u001b[0m\u001b[0;34m\u001b[0m\u001b[0;34m\u001b[0m\u001b[0m\n\u001b[0m\u001b[1;32m   1222\u001b[0m         \u001b[0mm\u001b[0m \u001b[0;34m=\u001b[0m \u001b[0mgensim\u001b[0m\u001b[0;34m.\u001b[0m\u001b[0mmodels\u001b[0m\u001b[0;34m.\u001b[0m\u001b[0m_fasttext_bin\u001b[0m\u001b[0;34m.\u001b[0m\u001b[0mload\u001b[0m\u001b[0;34m(\u001b[0m\u001b[0mfin\u001b[0m\u001b[0;34m,\u001b[0m \u001b[0mencoding\u001b[0m\u001b[0;34m=\u001b[0m\u001b[0mencoding\u001b[0m\u001b[0;34m,\u001b[0m \u001b[0mfull_model\u001b[0m\u001b[0;34m=\u001b[0m\u001b[0mfull_model\u001b[0m\u001b[0;34m)\u001b[0m\u001b[0;34m\u001b[0m\u001b[0;34m\u001b[0m\u001b[0m\n\u001b[1;32m   1223\u001b[0m \u001b[0;34m\u001b[0m\u001b[0m\n",
      "\u001b[0;32m~/Library/Caches/pypoetry/virtualenvs/histaware-RplM6c3o-py3.8/lib/python3.8/site-packages/smart_open/smart_open_lib.py\u001b[0m in \u001b[0;36mopen\u001b[0;34m(uri, mode, buffering, encoding, errors, newline, closefd, opener, ignore_ext, transport_params)\u001b[0m\n\u001b[1;32m    178\u001b[0m         \u001b[0mtransport_params\u001b[0m \u001b[0;34m=\u001b[0m \u001b[0;34m{\u001b[0m\u001b[0;34m}\u001b[0m\u001b[0;34m\u001b[0m\u001b[0;34m\u001b[0m\u001b[0m\n\u001b[1;32m    179\u001b[0m \u001b[0;34m\u001b[0m\u001b[0m\n\u001b[0;32m--> 180\u001b[0;31m     fobj = _shortcut_open(\n\u001b[0m\u001b[1;32m    181\u001b[0m         \u001b[0muri\u001b[0m\u001b[0;34m,\u001b[0m\u001b[0;34m\u001b[0m\u001b[0;34m\u001b[0m\u001b[0m\n\u001b[1;32m    182\u001b[0m         \u001b[0mmode\u001b[0m\u001b[0;34m,\u001b[0m\u001b[0;34m\u001b[0m\u001b[0;34m\u001b[0m\u001b[0m\n",
      "\u001b[0;32m~/Library/Caches/pypoetry/virtualenvs/histaware-RplM6c3o-py3.8/lib/python3.8/site-packages/smart_open/smart_open_lib.py\u001b[0m in \u001b[0;36m_shortcut_open\u001b[0;34m(uri, mode, ignore_ext, buffering, encoding, errors, newline)\u001b[0m\n\u001b[1;32m    285\u001b[0m         \u001b[0mopen_kwargs\u001b[0m\u001b[0;34m[\u001b[0m\u001b[0;34m'errors'\u001b[0m\u001b[0;34m]\u001b[0m \u001b[0;34m=\u001b[0m \u001b[0merrors\u001b[0m\u001b[0;34m\u001b[0m\u001b[0;34m\u001b[0m\u001b[0m\n\u001b[1;32m    286\u001b[0m \u001b[0;34m\u001b[0m\u001b[0m\n\u001b[0;32m--> 287\u001b[0;31m     \u001b[0;32mreturn\u001b[0m \u001b[0m_builtin_open\u001b[0m\u001b[0;34m(\u001b[0m\u001b[0mlocal_path\u001b[0m\u001b[0;34m,\u001b[0m \u001b[0mmode\u001b[0m\u001b[0;34m,\u001b[0m \u001b[0mbuffering\u001b[0m\u001b[0;34m=\u001b[0m\u001b[0mbuffering\u001b[0m\u001b[0;34m,\u001b[0m \u001b[0;34m**\u001b[0m\u001b[0mopen_kwargs\u001b[0m\u001b[0;34m)\u001b[0m\u001b[0;34m\u001b[0m\u001b[0;34m\u001b[0m\u001b[0m\n\u001b[0m\u001b[1;32m    288\u001b[0m \u001b[0;34m\u001b[0m\u001b[0m\n\u001b[1;32m    289\u001b[0m \u001b[0;34m\u001b[0m\u001b[0m\n",
      "\u001b[0;31mFileNotFoundError\u001b[0m: [Errno 2] No such file or directory: 'model_fasttext_2'"
     ]
    }
   ],
   "source": [
    "from gensim.models.fasttext import FastText as FT_gensim\n",
    "from gensim.test.utils import datapath\n",
    "\n",
    "model = FastText.load_fasttext_format('model_fasttext_2')\n",
    " \n",
    "print(model.wv.most_similar('recharge', topn=5))\n",
    "print(model.wv.most_similar('reminder', topn=5))\n",
    "print(model.wv.most_similar('thanks', topn=5))"
   ]
  },
  {
   "cell_type": "markdown",
   "metadata": {},
   "source": [
    "### Load the corpus"
   ]
  },
  {
   "cell_type": "code",
   "execution_count": null,
   "metadata": {},
   "outputs": [],
   "source": [
    "nltk.data.load('corpora/nl_1950/file.txt', format='raw')\n",
    "\n",
    "words = []\n",
    "with io.open('corpus.txt', 'r', encoding='utf-8') as f:\n",
    "    for line in f:\n",
    "        line = line.strip()\n",
    "        words.extend(line.split())\n",
    "  ​\n",
    "vocab = collections.Counter(words)\n",
    "vocab.most_common(10)"
   ]
  },
  {
   "cell_type": "markdown",
   "metadata": {},
   "source": [
    "## Additional try"
   ]
  },
  {
   "cell_type": "code",
   "execution_count": 68,
   "metadata": {},
   "outputs": [
    {
     "ename": "TypeError",
     "evalue": "expected string or bytes-like object",
     "output_type": "error",
     "traceback": [
      "\u001b[0;31m---------------------------------------------------------------------------\u001b[0m",
      "\u001b[0;31mTypeError\u001b[0m                                 Traceback (most recent call last)",
      "\u001b[0;32m<ipython-input-68-4d5193bbb025>\u001b[0m in \u001b[0;36m<module>\u001b[0;34m\u001b[0m\n\u001b[1;32m      2\u001b[0m \u001b[0mtexts\u001b[0m\u001b[0;34m=\u001b[0m\u001b[0;34m[\u001b[0m\u001b[0;34m[\u001b[0m\u001b[0mword\u001b[0m \u001b[0;32mfor\u001b[0m \u001b[0mword\u001b[0m \u001b[0;32min\u001b[0m \u001b[0mdoc\u001b[0m\u001b[0;34m.\u001b[0m\u001b[0mlower\u001b[0m\u001b[0;34m(\u001b[0m\u001b[0;34m)\u001b[0m\u001b[0;34m.\u001b[0m\u001b[0msplit\u001b[0m\u001b[0;34m(\u001b[0m\u001b[0;34m)\u001b[0m \u001b[0;32mif\u001b[0m \u001b[0mword\u001b[0m \u001b[0;32mnot\u001b[0m \u001b[0;32min\u001b[0m \u001b[0mpunctuation\u001b[0m\u001b[0;34m]\u001b[0m \u001b[0;32mfor\u001b[0m \u001b[0mdoc\u001b[0m \u001b[0;32min\u001b[0m \u001b[0mdocuments\u001b[0m\u001b[0;34m]\u001b[0m  \u001b[0;31m#remove punctuation and to lower case\u001b[0m\u001b[0;34m\u001b[0m\u001b[0;34m\u001b[0m\u001b[0m\n\u001b[1;32m      3\u001b[0m \u001b[0mtexts\u001b[0m\u001b[0;34m=\u001b[0m\u001b[0;34m[\u001b[0m\u001b[0;34m[\u001b[0m\u001b[0mword\u001b[0m \u001b[0;32mfor\u001b[0m \u001b[0mword\u001b[0m \u001b[0;32min\u001b[0m \u001b[0mtext\u001b[0m \u001b[0;32mif\u001b[0m \u001b[0mword\u001b[0m \u001b[0;32mnot\u001b[0m \u001b[0;32min\u001b[0m \u001b[0mstopword_list\u001b[0m\u001b[0;34m]\u001b[0m \u001b[0;32mfor\u001b[0m \u001b[0mtext\u001b[0m \u001b[0;32min\u001b[0m \u001b[0mtexts\u001b[0m\u001b[0;34m]\u001b[0m  \u001b[0;31m#remove stopwords\u001b[0m\u001b[0;34m\u001b[0m\u001b[0;34m\u001b[0m\u001b[0m\n\u001b[0;32m----> 4\u001b[0;31m \u001b[0mtexts_try\u001b[0m\u001b[0;34m=\u001b[0m\u001b[0;34m[\u001b[0m\u001b[0mre\u001b[0m\u001b[0;34m.\u001b[0m\u001b[0msub\u001b[0m\u001b[0;34m(\u001b[0m\u001b[0;34m\"[^a-zA-Z]\"\u001b[0m\u001b[0;34m,\u001b[0m \u001b[0;34m\"\"\u001b[0m\u001b[0;34m,\u001b[0m \u001b[0mtext\u001b[0m\u001b[0;34m)\u001b[0m \u001b[0;32mfor\u001b[0m \u001b[0mtext\u001b[0m \u001b[0;32min\u001b[0m \u001b[0mtexts\u001b[0m\u001b[0;34m]\u001b[0m  \u001b[0;31m# remove special characters and symbols\u001b[0m\u001b[0;34m\u001b[0m\u001b[0;34m\u001b[0m\u001b[0m\n\u001b[0m\u001b[1;32m      5\u001b[0m \u001b[0;31m#texts_try=[[\" \".join(word.split()) for word in doc] for doc in documents]   # remove double spaces by splitting the strings into words and joining these words\u001b[0m\u001b[0;34m\u001b[0m\u001b[0;34m\u001b[0m\u001b[0;34m\u001b[0m\u001b[0m\n",
      "\u001b[0;32m<ipython-input-68-4d5193bbb025>\u001b[0m in \u001b[0;36m<listcomp>\u001b[0;34m(.0)\u001b[0m\n\u001b[1;32m      2\u001b[0m \u001b[0mtexts\u001b[0m\u001b[0;34m=\u001b[0m\u001b[0;34m[\u001b[0m\u001b[0;34m[\u001b[0m\u001b[0mword\u001b[0m \u001b[0;32mfor\u001b[0m \u001b[0mword\u001b[0m \u001b[0;32min\u001b[0m \u001b[0mdoc\u001b[0m\u001b[0;34m.\u001b[0m\u001b[0mlower\u001b[0m\u001b[0;34m(\u001b[0m\u001b[0;34m)\u001b[0m\u001b[0;34m.\u001b[0m\u001b[0msplit\u001b[0m\u001b[0;34m(\u001b[0m\u001b[0;34m)\u001b[0m \u001b[0;32mif\u001b[0m \u001b[0mword\u001b[0m \u001b[0;32mnot\u001b[0m \u001b[0;32min\u001b[0m \u001b[0mpunctuation\u001b[0m\u001b[0;34m]\u001b[0m \u001b[0;32mfor\u001b[0m \u001b[0mdoc\u001b[0m \u001b[0;32min\u001b[0m \u001b[0mdocuments\u001b[0m\u001b[0;34m]\u001b[0m  \u001b[0;31m#remove punctuation and to lower case\u001b[0m\u001b[0;34m\u001b[0m\u001b[0;34m\u001b[0m\u001b[0m\n\u001b[1;32m      3\u001b[0m \u001b[0mtexts\u001b[0m\u001b[0;34m=\u001b[0m\u001b[0;34m[\u001b[0m\u001b[0;34m[\u001b[0m\u001b[0mword\u001b[0m \u001b[0;32mfor\u001b[0m \u001b[0mword\u001b[0m \u001b[0;32min\u001b[0m \u001b[0mtext\u001b[0m \u001b[0;32mif\u001b[0m \u001b[0mword\u001b[0m \u001b[0;32mnot\u001b[0m \u001b[0;32min\u001b[0m \u001b[0mstopword_list\u001b[0m\u001b[0;34m]\u001b[0m \u001b[0;32mfor\u001b[0m \u001b[0mtext\u001b[0m \u001b[0;32min\u001b[0m \u001b[0mtexts\u001b[0m\u001b[0;34m]\u001b[0m  \u001b[0;31m#remove stopwords\u001b[0m\u001b[0;34m\u001b[0m\u001b[0;34m\u001b[0m\u001b[0m\n\u001b[0;32m----> 4\u001b[0;31m \u001b[0mtexts_try\u001b[0m\u001b[0;34m=\u001b[0m\u001b[0;34m[\u001b[0m\u001b[0mre\u001b[0m\u001b[0;34m.\u001b[0m\u001b[0msub\u001b[0m\u001b[0;34m(\u001b[0m\u001b[0;34m\"[^a-zA-Z]\"\u001b[0m\u001b[0;34m,\u001b[0m \u001b[0;34m\"\"\u001b[0m\u001b[0;34m,\u001b[0m \u001b[0mtext\u001b[0m\u001b[0;34m)\u001b[0m \u001b[0;32mfor\u001b[0m \u001b[0mtext\u001b[0m \u001b[0;32min\u001b[0m \u001b[0mtexts\u001b[0m\u001b[0;34m]\u001b[0m  \u001b[0;31m# remove special characters and symbols\u001b[0m\u001b[0;34m\u001b[0m\u001b[0;34m\u001b[0m\u001b[0m\n\u001b[0m\u001b[1;32m      5\u001b[0m \u001b[0;31m#texts_try=[[\" \".join(word.split()) for word in doc] for doc in documents]   # remove double spaces by splitting the strings into words and joining these words\u001b[0m\u001b[0;34m\u001b[0m\u001b[0;34m\u001b[0m\u001b[0;34m\u001b[0m\u001b[0m\n",
      "\u001b[0;32m~/.pyenv/versions/3.8.5/lib/python3.8/re.py\u001b[0m in \u001b[0;36msub\u001b[0;34m(pattern, repl, string, count, flags)\u001b[0m\n\u001b[1;32m    208\u001b[0m     \u001b[0ma\u001b[0m \u001b[0mcallable\u001b[0m\u001b[0;34m,\u001b[0m \u001b[0mit\u001b[0m\u001b[0;31m'\u001b[0m\u001b[0ms\u001b[0m \u001b[0mpassed\u001b[0m \u001b[0mthe\u001b[0m \u001b[0mMatch\u001b[0m \u001b[0mobject\u001b[0m \u001b[0;32mand\u001b[0m \u001b[0mmust\u001b[0m \u001b[0;32mreturn\u001b[0m\u001b[0;34m\u001b[0m\u001b[0;34m\u001b[0m\u001b[0m\n\u001b[1;32m    209\u001b[0m     a replacement string to be used.\"\"\"\n\u001b[0;32m--> 210\u001b[0;31m     \u001b[0;32mreturn\u001b[0m \u001b[0m_compile\u001b[0m\u001b[0;34m(\u001b[0m\u001b[0mpattern\u001b[0m\u001b[0;34m,\u001b[0m \u001b[0mflags\u001b[0m\u001b[0;34m)\u001b[0m\u001b[0;34m.\u001b[0m\u001b[0msub\u001b[0m\u001b[0;34m(\u001b[0m\u001b[0mrepl\u001b[0m\u001b[0;34m,\u001b[0m \u001b[0mstring\u001b[0m\u001b[0;34m,\u001b[0m \u001b[0mcount\u001b[0m\u001b[0;34m)\u001b[0m\u001b[0;34m\u001b[0m\u001b[0;34m\u001b[0m\u001b[0m\n\u001b[0m\u001b[1;32m    211\u001b[0m \u001b[0;34m\u001b[0m\u001b[0m\n\u001b[1;32m    212\u001b[0m \u001b[0;32mdef\u001b[0m \u001b[0msubn\u001b[0m\u001b[0;34m(\u001b[0m\u001b[0mpattern\u001b[0m\u001b[0;34m,\u001b[0m \u001b[0mrepl\u001b[0m\u001b[0;34m,\u001b[0m \u001b[0mstring\u001b[0m\u001b[0;34m,\u001b[0m \u001b[0mcount\u001b[0m\u001b[0;34m=\u001b[0m\u001b[0;36m0\u001b[0m\u001b[0;34m,\u001b[0m \u001b[0mflags\u001b[0m\u001b[0;34m=\u001b[0m\u001b[0;36m0\u001b[0m\u001b[0;34m)\u001b[0m\u001b[0;34m:\u001b[0m\u001b[0;34m\u001b[0m\u001b[0;34m\u001b[0m\u001b[0m\n",
      "\u001b[0;31mTypeError\u001b[0m: expected string or bytes-like object"
     ]
    }
   ],
   "source": [
    "def clean_sentences(text):\n",
    "    tokens = [sent for sent in nltk.sent_tokenize(text)].apply(str)\n",
    "\n",
    "    sent_list = []\n",
    "    for sent in tokens:\n",
    "        sent_str = ''\n",
    "        for i, word in enumerate(nltk.word_tokenize(sent)):\n",
    "            # nltk doesn't handle apostrophes correctly\n",
    "            if word[0] == \"'\":\n",
    "                sent_str = sent_str[:-1]\n",
    "\n",
    "            # only adds words \n",
    "            if re.sub('[a-zA-Z]',\"\", str(word)):\n",
    "                sent_str += str(word.lower() + ' ')\n",
    "                sent_list.append(sent_str.strip()).apply(str)\n",
    "\n",
    "    return str(sent_list)\n",
    "\n",
    "texts=[[word for word in doc.lower().split() if word not in punctuation] for doc in documents]  #remove punctuation and to lower case\n",
    "texts=[[word for word in text if word not in stopword_list] for text in texts]  #remove stopwords\n",
    "texts_try=[re.sub(\"[^a-zA-Z]\", \"\", text) for text in texts]  # remove special characters and symbols\n",
    "#texts_try=[[\" \".join(word.split()) for word in doc] for doc in documents]   # remove double spaces by splitting the strings into words and joining these words"
   ]
  },
  {
   "cell_type": "code",
   "execution_count": null,
   "metadata": {},
   "outputs": [],
   "source": [
    "words_nl_clean = [\" \".join([w for w in word.split() if len(w)>1]) for word in words_nl_clean] # eliminate all one char words"
   ]
  },
  {
   "cell_type": "code",
   "execution_count": 25,
   "metadata": {
    "collapsed": true,
    "jupyter": {
     "outputs_hidden": true
    },
    "tags": [
     "outputPrepend"
    ]
   },
   "outputs": [
    {
     "name": "stdout",
     "output_type": "stream",
     "text": [
      "'k', ' ', 'e', 'i', 'g', 'e', 'n', ' ', 'd', 'r', 'u', 'k', 'k', 'e', 'r', 'u', ' ', 's', 'u', 'c', 'c', 'e', 's', ' ', 'p', 'a', 'r', 't', ' ', 'k', 'r', 'a', 'n', 't', ' ', 'o', 'n', 'z', 'e', ' ', 'g', 'e', 'l', 'u', 'k', ' ', 't', 't', ' ', 'p', 'a', 'r', 't', ' ', 'k', 'r', 'a', 'n', 't', ' ', 'o', 'n', 'z', 'e', ' ', 'g', 'e', 'l', 'u', 'k', ' ', 'a', 'n', ' ', 'm', 'n', 'e', 'r', 'b', 'e', 'l', 'p', 'l', 'e', 'l', 'n', ' ', 'o', 'e', 'n', ' ', 'h', 'a', 'a', 'g', ' ', 'a', 'd', 'u', 'e', 'r', 'e', 'e', 'r', 'e', ' ', 'z', 'i', 'e', 't', ' ', 'v', 'o', 'o', 'r', 'd', 'e', 'e', 'l', ' ', 'p', 'a', 'r', 't', ' ', 'k', 'r', 'a', 'n', 't', ' ', 'o', 'n', 'z', 'e', ' ', 'g', 'e', 'l', 'u', 'k', ' ', 'w', 'e', 'n', 's', 'e', 'n', ' ', 'g', 'r', 'o', 't', 'e', 'r', 'e', ' ', 'g', 'e', 'l', 'u', 'k', 'w', 'e', 'n', 's', 'e', 'n', ' ', 'p', 'a', 'r', 't', 'u', ' ', 'p', 'a', 'r', 't', ' ', 'k', 'r', 'a', 'n', 't', ' ', 'o', 'n', 'z', 'e', ' ', 'g', 'e', 'l', 'u', 'k', ' ', 'w', 'e', 'n', 's', 'e', 'n', ' ', 'm', 'a', 'a', 'k', 't', ' ', 'l', 'e', 'd', 'r', 'e', ' ', 'w', 'a', 'a', 'r', 'h', 'e', 'i', 'd', 'l', 'e', 'z', 'e', 'r', ' ', 'k', 'l', 'a', 'n', 't', 'l', ' ', 'w', 'e', 'n', 's', 'e', 'n', ' ', 'l', 'a', 'n', 'g', ' ', 'l', 'e', 'v', 'e', ' ', 'o', 'n', 'z', 'e', ' ', 'w', 'a', 'a', 'r', 'h', 'e', 'i', 'd', ' ', 's', 't', 'e', 'r', 'k', 'e', 'r', 'e', ' ', 'k', 'r', 'a', 'n', 't', ' ', 'k', 'r', 'a', 'n', 't', ' ', 'w', 'e', 'n', 's', 'e', 'n', ' ', 'm', 'a', 'h', ' ', 'j', 'a', 'n', ' ', 'o', 'n', 'z', 'e', ' ', 'k', 'r', 'a', 'n', 't', ' ', 'w', 'a', 'a', 'r', 'h', 'e', 'i', 'd', ' ', 'g', 'a', 'a', 'n', ' ', 'w', 'i', 'j', ' ', 'o', 'n', 'z', 'e', ' ', 'w', 'e', 'g', ' ', 's', 't', 'e', 'e', 'd', 's', ' ', 'v', 'e', 'r', 'd', 'e', 'r', ' ', 'f', 'a', 'm', ' ', 'u', 'e', ' ', 'h', 'k', 'l', 'd', ' ', 'f', 'a', 'm', ' ', 'p', 'l', 'e', 'n', 't', 'e', 'r', ' ', 'h', 'a', 'r', 'm', 's', ' ', 'k', 'o', 'n', 'i', 'j', 'n', 'e', 'n', 'b', 'e', 'r', 'g', ' ', 'f', 'a', 'm', ' ', 'd', 'u', 't', 'k', 'e', 'r', 's', ' ', 'p', 'a', 'r', 't', ' ', 'k', 'r', 'a', 'n', 't', ' ', 'o', 'n', 'z', 'e', ' ', 'g', 'e', 'l', 'u', 'k', ' ', 'a', 'm', 's', 't', 'e', 'r', 'd', 'a', 'm', ' ', 's', 't', 'e', 'r', 'k', 'e', 'r', ' ', 'w', 'a', 'p', 'e', 'n', ' ', 'm', 'a', 'g', ' ', 'm', 'l', 'k', 'e', 'n', ' ', 'h', 'o', 'u', 'd', 'e', 'n', ' ', 't', 'a', 'n', 'd', ' ', 'r', 'o', 't', 't', 'e', 'r', 'd', 'a', 'm', ' ', 'c', 'r', 'o', 'n', 'l', 'n', 'g', 'e', 'n', ' ', 'z', 'w', 'o', 'l', 'l', 'e', ' ', 'a', 'e', 'l', 'd', 'l', ' ', 'a', 'm', 's', 't', 'e', 'r', 'd', 'a', 'm', ' ', 'w', 'e', 'n', 's', 'e', 'n', ' ', 's', 't', 'r', 'd', ' ', 'p', 'e', 'r', 's', 'e', 'n', ' ', 'd', 'r', 'a', 'a', 'i', 'e', 'n', ' ', 'h', 'o', 'o', 'r', 't', ' ', 'z', 'i', 'n', 'g', 'e', 'n', ' ', 't', 'u', 'l', 'c', ' ', 'a', 'm', ' ', 'r', 'k', ' ', 'p', 'a', 'r', 't', ' ', 'k', 'r', 'a', 'n', 't', ' ', 'o', 'n', 'z', 'e', ' ', 'g', 'e', 'l', 'u', 'k', ' ', 'b', 'e', 't', 'e', 'r', 'e', ' ', 'n', 'a', 'a', 't', 's', 'e', 'h', 'a', 'p', 'p', ' ', 'l', 'i', 'e', 'd', ' ', 'l', 'i', 'e', 'f', 'd', 'e', ' ', 'k', 'r', 'a', 'n', 't', ' ', 'p', 'a', 'r', 't', ' ', 'k', 'r', 'a', 'n', 't', ' ', 'o', 'n', 'z', 'e', ' ', 'g', 'e', 'l', 'u', 'k', ' ', 'o', 'n', 'z', 'e', ' ', 'g', 'e', 'l', 'u', 'k', 'w', 'e', 'n', 's', 'e', 'n', ' ', 'p', 'a', 'r', 't', ' ', 'p', 'a', 'r', 't', ' ', 'k', 'r', 'a', 'n', 't', ' ', 'o', 'n', 'z', 'e', ' ', 'g', 'e', 'l', 'u', 'k', ' ', 'p', 'a', 'r', 't', ' ', 'k', 'r', 'a', 'n', 't', ' ', 'o', 'n', 'z', 'e', ' ', 'p', 'a', 'r', 't', ' ', 'k', 'r', 'a', 'n', 't', ' ', 'o', 'n', 'z', 'e', ' ', 'g', 'e', 'l', 'u', 'k', ' ', 'a', 'm', 's', 't', 'e', 'r', 'd', 'a', 'm', ' ', 'w', 'e', 'n', 's', 'e', 'n', ' ', 'g', 'i', 'e', 'r', ' ', 'w', 'e', 'e', 'r', 'k', 'l', 'a', 'n', 'k', ' ', 'v', 'i', 'n', 'd', 't', ' ', 'o', 'n', 'z', 'e', ' ', 'h', 'a', 'r', 't', 'e', 'n', ' ', 'w', 'e', 'n', 's', 'e', 'r', ' ', 'k', 'r', 'a', 'n', 't', ' ', 's', 'u', 'c', 'c', 'e', 's', ' ', 'w', 'e', 'n', 's', 'e', 'n', ' ', 'w', 'e', 'n', 's', 'e', 'n', ' ', 'w', 'e', 'n', 's', 'e', 'n', ' ', 'd', 'o', 'l', 'l', 'v', ' ', 'b', 'e', 'r', 't', ' ', 'o', 'e', 'n', ' ', 'h', 'a', 'a', 'g', ' ', 'k', 'l', 'i', 'n', 'k', 'e', 'n', ' ', 'd', 'n', 'n', 'r', ' ', 'h', 'e', 'l', 'e', ' ', 't', 'a', 'n', 'd', ' ', 's', 'i', 'l', 'l', 'h', 'k', ' ', 'a', 'l', 'i', ' ', 'j', 'a', 'n', ' ', 'b', 'o', 'r', 's', 't', ' ', 'p', 'a', 'm', ' ', 'b', 'o', 's', 'm', 'a', 'n', ' ', 'h', 'e', 'm', 'm', 'i', 'n', 'g', 'a', ' ', 'p', 'a', 'r', 't', ' ', 'k', 'r', 'a', 'n', 't', ' ', 'a', 'n', ' ', 'h', 'a', 'r', 't', 'e', ' ', 'a', 'm', 's', 't', 'e', 'r', 'd', 'a', 'm', ' ', 'y', 'h', ' ', 's', 'c', 'h', 'e', 'r', 'm', 'e', 'r', ' ', 'j', 'r', 'o', 'n', 'l', 'n', 'g', 'e', 'n', ' ', 'z', 'w', 'o', 'l', 'l', 'e', ' ', 'a', 'p', 'e', 'l', 'd', 'o', 'o', 'r', 'n', ' ', 'a', 'm', 's', 't', 'e', 'r', 'd', 'a', 'm', ' ', 'w', 'i', ' ', 'b', 'l', 'i', 'j', 'v', 'e', 'n', ' ', 't', 'r', 'o', 'u', 'w', ' ', 'e', 'i', 'g', 'e', 'n', ' ', 'd', 'a', 'g', 'b', 'l', 'a', 'd', ' ', 'a', 'm', 's', 't', 'e', 'r', 'd', 'a', 'm', ' ', 'f', 'e', 'l', 'i', 'c', 'i', 't', 'e', 'e', 'r', 'd', ' ', 'g', 'r', 'o', 'o', 't', 's', 'e', ' ', 'n', 'a', 'm', 'e', 'n', 's', ' ', 'l', 'e', 'd', 'e', 'n', ' ', 'b', 'e', 's', 't', 'u', 'u', 'r', ' ', 'a', 't', ' ', 'v', 'n', 'u', 'm', ' ', 'n', 'b', ' ', 'v', 'n', 'c', 'h', 't', ' ', 'm', 'e', 'i', ' ', 'y', 'h', 'n', 'n', 'f', 'l', ' ', 't', 'a', 'n', 'd', 'l', ' ', 'r', 'o', 't', 't', 'e', 'r', 'd', 'a', 'm', ' ', 'k', 'r', 'a', 'n', 't', ' ', 'o', 'a', 'r', 't', ' ', 'o', 'n', 'z', 'e', ' ', 'g', 'e', 'l', 'u', 'k', ' ', 's', 'u', 'c', 'c', 'e', 's', ' ', 'p', 'a', 'r', 't', 'u', 'e', 'n', ' ', 'k', 'r', 'a', 'n', 't', ' ', 'o', 'n', 'z', 'e', ' ', 'g', 'e', 'l', 'u', 'k', ' ', 'h', 'a', 'r', 't', 'e', ' ', 'g', 'e', 'l', 'u', 'k', ' ', 'g', 'e', 'w', 'e', 'n', 's', 't', ' ', 'w', 'i', 'j', ' ', 'r', 'o', 'e', 'p', 'e', 'n', ' ', 't', 'r', 'o', 't', 's', ' ', 'w', 'e', 'l', 'g', 'e', 'm', 'e', 'e', 'n', 'd', 'e', ' ', 'p', 'a', 'r', 't', ' ', 'k', 'r', 'a', 'n', 't', ' ', 'o', 'n', 'z', 'e', ' ', 'g', 'e', 'l', 'u', 'k', ' ', 'p', 'a', 'r', 't', ' ', 'k', 'r', 'a', 'n', 't', ' ', 'r', 'o', 't', 's', 'v', 'a', 's', 't', ' ', 'g', 'e', 'l', 'u', 'k', 'w', 'e', 'n', 's', 'e', 'n', ' ', 'p', 'a', 'r', 't', 'u', ' ', 'w', 'e', 'n', 's', 'e', 'n', ' ', 'r', 'i', 'n', 'u', 's', ' ', 'k', 'i', 't', 't', 'i', ' ', 'm', 'a', 'r', 'i', 'o', 'n', ' ', 'w', 'e', 'n', 's', 'e', 'n', ' ', 'g', 'e', 'w', 'i', 'c', 'h', 't', 'i', 'g', 'e', ' ', 'd', 'a', 'g', ' ', 'g', 'e', 'l', 'u', 'k', 'g', 'e', 'w', 'e', 'n', 's', 't', ' ', 'p', 'a', 'r', 't', 'i', 'j', ' ', 'l', 'i', 'a', 'n', 't', ' ', 'p', 'a', 'r', 't', ' ', 'k', 'r', 'a', 'n', 't', ' ', 'm', 'n', ' ', 'g', 'e', 'l', 'u', 'k', 'w', 'e', 'n', 's', ' ', 'w', 'e', 'n', 's', 'e', 'n', ' ', 'p', 'l', 'a', 'n', 't', ' ', 'p', 'f', ' ', 'k', 'r', 'a', 'n', 't', ' ', 'f', 'a', 'm', ' ', 'h', 'a', 'k', 'b', ' ', 'f', 'a', 'm', ' ', 'k', 'r', 'o', 'n', 'e', 'n', 'b', 'e', 'r', 'g', ' ', 'a', 'f', 'd', ' ', 'c', 'p', 'n', ' ', 'w', 'a', 'a', 'r', 'h', 'e', 'i', 'd', ' ', 'v', 'i', 'n', 'k', 'e', 'n', 'o', 'o', 'g', ' ', 'f', 'a', 'm', ' ', 'd', 'e', 'r', 'm', 'i', 'j', 'n', ' ', 'h', 'e', 'z', 'e', 'l', ' ', 'h', 'o', 't', 'z', ' ', 'a', 'm', 'a', 't', 'e', 'r', 'd', 'a', 'm', ' ', 'a', 'm', 's', 't', 'e', 'r', 'd', 'a', 'm', ' ', 'a', 'm', 's', 't', 'e', 'r', 'd', 'a', 'm', ' ', 'd', 'e', 'n', ' ', 'h', 'a', 'a', 'g', ' ', 'r', 'o', 't', 't', 'e', 'r', 'd', 'a', 'm', ' ', 'g', 'r', 'o', 'n', 'i', 'n', 'g', 'e', 'n', ' ', 'z', 'w', 'o', 'u', ' ', 'a', 'p', 'e', 'l', 'd', 'o', 'o', 'r', 'n'], ['n', 'i', 'e', 'u', 'w', 'e', ' ', 'o', 'n', 't', 'd', 'e', 'k', 'k', 'i', 'n', 'g', ' ', 'b', 'e', 'h', 'o', 'e', 'd', 't', ' ', 'm', 'e', 'u', 'b', 'e', 'l', 'e', 'n', ' ', 'h', 'o', 'u', 't', 'w', 'o', 'r', 'm', ' ', 'a', 'f', 'c', 't', ' ', 'r', 'r', 't', ' ', 'v', 'v', 't', 't', 'i', ' ', 'v', 'r', 'r', 'i', 'r', 't', ' ', 'k', 'r', 'i', 'n', 'g', 'l', 'o', 'o', 'p', ' ', 'd', 'a', ' ', 'n', 'a', 't', 'u', 'u', 'r', ' ', 'd', 'o', 'o', 'r', 'p', 'l', 'o', 'e', 'g', 'd', ' ', 'p', 'o', 'p', 't', ' ', 'i', 'v', 'l', 't', 'i', ' ', 'l', 't', 'h', ' ', 'r', 'v', 'h', 'v', 'h', 'k', ' ', 'd', 'e', 'g', 'l', 'n', 't', ' ', 'k', 'u', 'n', 't', ' ', 'v', 'e', 'r', 'b', 'r', 'a', 'k', 'e', 'n', ' ', 'v', 'o', 'l', 'w', 'a', 's', 's', 'e', 'n', ' ', 'h', 'o', 'u', 't', 'w', 'o', 'r', 'm', ' ', 't', 'i', ' ', 't', 'v', ' ', 'i', 'i', ' ', 'i', 'j', ' ', 'b', 'o', 'u', 't', 'u', 'v', 'r', 'm', ' ', 'n', 'o', 'e', 'm', 't', ' ', 'e', 'n', 'i', 'g', 'e', ' ', 'w', 'e', 'k', 'e', 'n', ' ', 'n', 'e', 't', ' ', 'k', 'w', 'a', 'a', 'd', ' ', 'h', 'o', 'u', 't', 'k', 'e', 'v', 'e', 'r', ' ', 'l', 'e', 'g', 't', ' ', 'e', 'i', 'g', 'e', 'n', 'l', 'i', 'j', 'k', ' ', 'u', 'r', 'f', ' ', 'v', 'n', ' ', 'k', 'e', 'v', 'e', 'r', 't', 'j', 'e', ' ', 'k', 'l', 'e', 'i', 'n', 'e', ' ', 'm', 'o', 'o', 'i', ' ', 'b', 'r', 'u', 'i', 'n', ' ', 'k', 'e', 'v', 'e', 'r', 't', 'j', 'e', ' ', 'b', 'b', 'f', 'b', 'w', 'h', 'h', ' ', 'b', 'r', 'u', 'i', 'n', 'e', ' ', 'b', 'e', 'e', 's', 't', 'j', 'e', ' ', 'b', 'o', 'o', 'r', 't', ' ', 'e', 'i', 't', 'j', 'e', 's', ' ', 'w', 'a', 'a', 'r', 'u', 'i', 't', ' ', 't', 'e', 'n', 's', 'l', 'o', 't', 't', 'e', ' ', 'z', 'o', 'e', 'e', ' ', 's', 'i', 'e', 'c', 'h', 't', 's', 'e', 'n', 'k', 'e', 'i', 'e', 'm', 'i', 'i', 'i', 'i', 'm', 'e', 't', 'e', ' ', 'w', 'k', 'g', 'a', 'm', ' ', 'm', 'r', ' ', 'g', 'r', 'o', 'o', 't', ' ', 'k', 'e', 'v', 'e', 'r', 't', 'j', 'e', ' ', 'v', 'l', 'i', 'e', 'g', 't', ' ', 'h', 'c', 'n', 't', ' ', 'b', 'u', 'i', 't', 'e', 'n', ' ', 'w', 'a', 'a', 'r', 'd', 'o', 'o', 'r', 'd', 'e', 'z', 'g', 'n', ' ', 'n', 'a', 'a', 'm', 'd', 'e', ' ', 'h', 'o', 'u', 't', 'w', 'o', 'r', 'm', ' ', 'o', 'n', 't', 's', 't', 'a', 'a', 't', ' ', 'f', 'd', ' ', 'k', 't', ' ', 'w', 'z', 'b', 'm', ' ', 'h', 'o', 'u', 't', 'w', 'o', 'r', 'm', 'g', 'a', 'a', 't', 'j', 'e', 's', ' ', 'l', 'i', 'k', ' ', 'w', 'e', 'e', ' ', 'n', 'e', 'e', ' ', 'w', 's', 'j', 'a', 'j', 'f', 'k', ' ', 's', 't', 'a', 'a', 'n', 'd', 'p', ' ', 'h', 'n', 'i', 'l', 't', 'l', 'p', 'v', 'p', 'r', ' ', 'h', 'i', 'f', ' ', 'h', 'p', ' ', 'o', 'a', 'c', 'i', 'f', 'l', 'v', 'c', ' ', 'l', 't', 'g', 't', ' ', 'z', 'i', 'n', ' ', 'c', 'i', 't', 'e', 's', ' ', 'm', 'm', 'f', 'i', 'f', 't', ' ', 'o', 'n', 'd', 'e', 'r', 'b', 'r', 'e', 'e', 'k', ' ', 'f', 'a', 't', 'a', 'l', 'e', ' ', 'i', 'i', 'u', 'u', 'i', 'k', 'c', 'c', 'r', ' ', 'u', 'i', 'c', ' ', 'u', 'c', ' ', 'g', 'a', 'a', 't', 'j', 'c', 'j', ' ', 'm', 'e', 'u', 'b', 'e', 'l', 'e', 'n', 'd', 'a', 'a', 'r', 'u', 'i', 't', 'k', 'o', 'm', 'e', 'n', ' ', 'b', 's', 'b', 'b', 'b', 'f', ' ', 'k', 'r', 'i', 'n', 'g', 'l', 'o', 'o', 'p', ' ', 'j', 'v', 'i', 'w', 'r', 'i', 'f', ' ', 't', 't', ' ', 't', 't', ' ', 'l', 'i', ' ', 'z', 'e', 'e', 'r', ' ', 'k', 'l', 'e', 'i', 'n', 'e', ' ', 'l', 'a', 'r', 'f', 'j', 'e', 's', ' ', 'v', 'l', 'i', 'd', 'o', 's', 'o', 'l', ' ', 'd', 'o', 'o', 'r', 't', ' ', 'w', 'e', 'i', 'k', 'e', ' ', 'm', 'e', 'u', 'd', 'e', 'i', 'e', 'n', ' ', 'h', 'o', 'u', 't', ' ', 'd', 'r', 'i', 'n', 'g', 'e', 'n', ' ', 'm', 'e', 'e', 's', 't', ' ', 'd', 'o', 'e', 'l', 't', 'r', 'e', 'f', 'f', 'e', 'n', 'd', 'e', ' ', 'm', 'i', 'd', 'd', 'e', 'l', ' ', 'd', 'a', 'a', 'r', 'a', 'a', 'n', ' ', 'g', 'o', 'e', 'd', ' ', 'h', 'o', 'u', 't', 'w', 'o', 'r', 'm', ' ', 'p', 'e', 'l', 'i', ' ', 'v', 'i', 'n', 't', ' ', 'n', 't', 'r', 'e', 'i', 't', ' ', 'i', 'r', ' ', 's', 'o', 'm', 's', ' ', 't', 'w', 'e', 'e', ' ', 'j', 'a', 'r', 'e', 'n', ' ', 'h', 'o', 'u', 't', ' ', 'g', 'l', 'a', 'n', 's', ' ', 'h', 'o', 'u', 't', 'w', 'o', 'r', 'm', ' ', 'p', 'e', 'l', 'i', ' ', 'w', 'r', 'i', 'j', 'f', 'w', 'e', 's', ' ', 'v', 'l', 'i', 'd', 'o', 's', 'o', 'l', ' ', 'a', 'l', 'l', 'e', 'e', 'n', ' ', 'b', 'e', 'k', 'e', 'n', 'd', 'e', ' ', 'g', 'e', 'l', 'e', ' ', 'b', 'u', 's', ' ', 'b', 'e', 'r', 'o', 'e', 'm', 'd', 'e', ' ', 'p', 'e', 'l', 'i', ' ', 'w', 'r', 'i', 'j', 'r', 'w', 'a', 's', ' ', 'm', 'e', 'u', 'b', 'e', 'l', 'e', 'n', ' ', 'e', 'v', 'e', 'n', 'a', 'l', 's', ' ', 'v', 'o', 'o', 'r', 'h', 'e', 'e', 'n', ' ', 'u', 'i', 't', 'e', 'r', 's', 't', 'e', ' ', 'a', 'a', 'n', 'g', 'e', 't', 'a', 's', 't', ' ', 'h', 'o', 'u', 't', 'w', 'o', 'r', 'm', ' ', 'z', 'o', 'r', 'g', ' ', 's', 'a', 'm', 'e', 'n', 'g', 'e', 's', 't', 'e', 'l', 'd', ' ', 'e', 'd', 'e', 'l', 'e', ' ', 'a', 'a', 'm', 'i', ' ', 'b', 'e', 'h', 'a', 'n', 'd', 'e', 'l', ' ', 'b', 'r', 'u', 'i', 'n', ' ', 'j', 't', ' ', 'w', 'a', 's', 's', 'o', 'o', 'r', 't', 'e', 'n', ' ', 'g', 'e', 'e', 'f', 't', ' ', 'd', 'i', 'e', 'p', 'e', ' ', 'g', 'e', 'h', 'e', 'l', 'e', ' ', 'm', 'e', 'u', 'b', 'i', 'l', 'a', 'i', 'r', ' ', 'p', 'r', ' ', 'r', 'o', 'o', 'd', ' ', 'w', 'i', 't', ' ', 'u', 'i', 'f', 'z', 'j', ' ', 'f', 'f', 'f', 'l', 'm', 'p', 'r', ' ', 'w', 'n', 'l', 'f', 'w', 'a', ' ', 'a', 'c', 'h', 't', 'e', 'r', 'e', 'n', ' ', 'b', 'v', ' ', 'n', 'o', ' ', 'b', 'o', 'v', 'e', 'n', 'd', 'i', 'e', 'n', ' ', 'b', 'e', 'v', 'a', 't', ' ', 'f', 't', ' ', 'w', 'i', 'j', 'f', ' ', 'o', 'n', 'd', 'e', 'r', 'n', 'j', 'd', 'e', ' ', 'v', 'o', 'o', ' ', 'k', 'o', 'm', ' ', 'd', 't', ' ', 'f', 'l', 'e', 'e', 'l', ' ', 'b', 'r', 'u', 'i', 'n', ' ', 'f', 'f', 'i', ' ', 'r', 'v', 'w', 'i', 'f', 'f', 'l', 'l', 'h', 't', 'w', ' ', 'v', 'l', 'l', 'd', 'o', 's', 'o', 'l', 'h', 'e', 't', 'd', 'o', 'e', 'l', 't', 'r', 'e', 'f', 'f', 'e', 'n', 'd', 'e', ' ', 'n', 'd', 'e', ' ', 'j', 'l', 'v', 'v', 'b', 'b', ' ', 'm', 'i', 'd', 'd', 'e', 'l', ' ', 't', 'e', 'r', ' ', 'b', 'e', 's', 'c', 'h', 'e', 'r', 'm', 'i', 'n', 'g', ' ', 'v', 'o', 'o', 'r', 'j', 'a', 'a', 'r', ' ', 'b', 'e', 'g', 'i', 'n', ' ', 'z', 'o', 'm', 'e', 'r', ' ', 'f', 't', 'j', ' ', 'f', 'i', ' ', 'k', 'o', 's', 't', 'b', 'a', 'r', 'e', ' ', 'm', 'e', 'u', 'b', 'e', 'l', 'e', 'n', ' ', 'b', 'o', 'o', 'r', 'r', 'o', 'p', 'n', 'i', 'e', 'u', 'w', 'z', 'i', 'j', 'n', 'v', 'e', 'r', 'n', 'i', 'e', 'l', 'e', 'n', 'd', ' ', 'j', 'r', ' ', 'h', 'o', 'u', 't', 'w', 'o', 'r', 'm', ' ', 'w', 'e', 'r', 'k', ' ', 'b', 'e', 'g', 'i', 'n', 'n', 'e', 'n', ' ', 'g', 'e', 'b', 'r', 'u', 'i', 'k', ' ', 's', 'c', 'h', 'a', 'd', 'e', 'l', 'i', 'j', 'k', 'e', ' ', 'i', 'n', 's', 'e', 'c', 't', 'e', 'n', ' ', 'd', 'a', 'a', 'r', 'o', 'm', ' ', 'p', 'e', 'l', 'i', ' ', 'e', 'n', 'i', 'g', 'e', ' ', 'w', 'r', 'i', 'j', 'f', 'w', 'a', 's', ' ', 'v', 'l', 'i', 'd', 'o', 's', 'o', 'l', ' ', 'a', 'l', 'l', 'n', ' ', 'b', 'e', 'k', 'e', 'n', 'd', 'e', ' ', 'g', 'e', 'l', 'e', ' ', 'b', 'u', 's', 'l', ' ', 'm', 't', ' ', 'o', 'n', 'h', 'a', 'e', 'k', ' ', 't', 'o', 'o', 'r', ' ', 'h', 'u', 'i', 's', 'd', 'i', 'e', 'r', ' ', 'h', 'o', 'u', 't', ' ', 'l', 'i', 'n', 'o', 'l', 'e', 'u', 'm', ' ', 'f', 't', ' ', 'u', 'n', ' ', 's', 'e', ' ', 't', 'i', 'r', 'b', ' ', 'j', 'i', 'j', ' ', 'e', 'n', 'i', 'g', 'e', ' ', 't', 'i', 'j', 'd', ' ', 'l', 'a', 't', 'e', 'r', ' ', 'l', 'a', 's', 't', ' ', 'h', 'o', 'u', 't', 'w', 'o', 'r', 'm', ' ', 'm', 'o', 'o', 'i', 'e', ' ', 'k', 'a', 's', 't', 't', ' ', 'j', 'k', ' ', 'b', 'l', 'i', 'j', ' ', 'r', 'i', 'a', ' ', 'd', 'a', 'r', ' ', 'd', 'o', 'e', ' ', 'i', 'v', 'r', 'i', 'j', 't', ' ', 'r', 'a', 'a', 'd', ' ', 'o', 'p', 'v', 'o', 'l', 'g', 'd', 'e', ' ', 'k', 'i', 'k', ' ', 'p', 'e', 'l', 'i', ' ', 'p', 'e', 'l', 'i', ' ', 't', 'e', 'r', 'i', 'j', 'f', ' ', 'b', 'e', 'v', 'a', 't', ' ', 'p', 'r', 'a', 'c', 'h', 't', 'i', 'g', ' ', 'm', 'e', 'u', 'b', 'e', 'l', 'e', 'n', ' ', 'v', 'w', 'd', 'o', 's', 'o', 'l', ' ', 'r', 'e', 'g', 'e', 'n', ' ', 'h', 'o', 'u', 't', 'w', 'o', 'r', 'm', 'e', 'n', ' ', 'g', 'z', 'a', 'n', 'x', 'e', 'n', ' ', 'p', 'e', 'e', ' ', 's', 'p', 'o', 'o', 'r', ' ', 'f', 'r', 'r', 'l', 'o', 'l', ' ', 'r', 'r', 'r', 'r', 'l', 'i', 'i', 'r', ' ', 'r', 'l', 'n', 'c', ' ', 'a', 'c', 'h', 'o', 'd', 'e', 'l', 'j', 'i', 'f', 'c', 'e', ' ', 'i', 'n', 's', 'e', 'c', 'l', 'e', 'n', ' ', 't', 'e', 'e', 'r', ' ', 'h', 'o', 'u', 't', 'w', 'o', 'r', 'm', ' ', 'c', 'c', 'i', 'i', ' ', 'l', 'l', 'u', 'l', 'l', ' ', 'p', 'i', 'u', 'u', 'u', 'l', 'i', ' ', 'u', 'u', 's', ' ', 'g', 'u', 'c', 'u', ' ', 'n', 'r'], ['w', 'j', ' ', 'n', 'i', 'j', 'b', 'o', 'e', 'r', ' ', 'k', 'l', 'e', 'e', 'r', 'm', 'a', 'k', 'e', 'r', 'i', 'j', ' ', 't', 'a', 'm', 'b', 'l', 'q', 'n', 'g', 'w', 'e', 'g', ' ', 'w', 'e', 'n', 's', 't', ' ', 'g', 'e', 'a', 'c', 'h', 't', 'e', 'c', 'l', 'i', 'e', 'n', 't', 'l', 'e', ' ', 'b', 'e', 'k', 'e', 'n', 'd', 'e', 'n', ' ', 'g', 'e', 'l', 'u', 'k', 'k', 'i', 'g', ' ', 'n', 'i', 'e', 'u', 'w', 'j', 'a', 'a', 'r', ' ', 'e', 'l', 'g', 'a', 'i', 'g', 'i', 'f', 'g', 'i', 'i', 'a', 'i', 'j', 'l', 'g', 'i', 'l', 'i', 'l', 'g', 'i', 'l', 'l', 'l', 'l', 'l', 'l', ' ', 'b', 'i', 'b', 'i', 'b', 'j', 'b', 'i', 'b', 'i', 'b', 'm', 'b', 'i', 'b', 'i', 'b', 'i', 'b', 'b', 'i', 'b', 'i', 'b', 'i', 'b', 'i', 's', 'i', 'b', 'i', 'b', 'b', ' ', 'c', 'h', 'o', 'c', 'o', 'l', 'a', 'd', 'e', ' ', 'f', 'a', 'b', 'r', 'i', 'e', 'k', ' ', 'r', 'e', 'd', 'c', 'h', 'e', 'r', 'r', 'y', ' ', 'd', 'j', ' ', 'b', 'r', 'a', 'g', 'a', ' ', 'b', 'a', 'n', 'd', 'u', 'n', 'g', ' ', 'w', 'e', 'n', 's', 't', ' ', 'a', 'l', 'l', 'e', 'n', ' ', 'z', 'a', 'l', 'i', 'g', ' ', 'u', 'i', 't', 'e', 'i', 'n', 'd', 'e', ' ', 'g', 'e', 'l', 'u', 'k', 'k', 'i', 'g', ' ', 'a', 's', 'i', 'e', 'i', 's', 'f', 'i', 'm', 'a', ' ', 'm', 'a', 'i', 's', 'o', 'n', ' ', 'b', 'o', 'g', 'e', 'm', 'i', 'e', 'n', ' ', 'w', 'e', 'n', 's', 't', ' ', 'g', 'e', 'a', 'c', 'h', 't', 'e', ' ', 'r', 'e', 'l', 'a', 't', 'i', 'e', 's', ' ', 'c', 'l', 'i', 'e', 'n', 't', 'l', 'e', ' ', 'j', 'f', ' ', 'a', 'l', 'l', 'e', 's', 'z', 'i', 'n', 's', ' ', 'v', 'o', 'o', 'r', 's', 'p', 'o', 'e', 'd', 'i', 'g', ' ', 'g', 'e', 'l', 'u', 'k', 'k', 'i', 'g', ' ', 'v', 'l', 'e', 'e', 's', 'h', 'o', 'u', 'w', 'e', 'r', 'i', 'j', ' ', 'e', 'k', 'e', 'n', ' ', 'h', 'u', 'l', 'p', ' ', 'f', 'a', 'b', 'r', 'i', 'e', 'k', ' ', 'f', 'i', 'j', 'n', 'e', ' ', 'v', 'l', 'e', 'e', 's', 'w', 'a', 'r', 'e', 'n', ' ', 'e', 'i', 'g', ' ', 't', 'h', ' ', 'l', 'o', 'o', 'h', 'u', 'i', 's', ' ', 'b', 'a', 'n', 'd', 'o', 'e', 'n', 'g', ' ', 's', 'l', 'a', 'c', 'h', 't', 'h', 'u', 'i', 's', 'w', 'e', 'g', ' ', 't', 'e', 'l', ' ', 'w', 'e', 'n', 's', 't', ' ', 'h', 'a', 'r', 'e', ' ', 'g', 'e', 'a', 'c', 'h', 't', 'e', ' ', 'c', 'l', 'i', 'e', 'n', 't', 'l', 'e', ' ', 'z', 'a', 'u', 'g', ' ', 'n', 'i', 'e', 'u', 'w', 'a', 'a', 'r', ' ', 'c', 'o', 'n', 's', 't', 'a', 'n', 't', ' ', 't', 'r', 'a', 'd', 'i', 'n', 'g', ' ', 'c', 'o', ' ', 'h', 'a', 'n', 'd', 'e', 'l', ' ', 'v', 'e', 'r', 'f', 's', 't', 'o', 'f', 'f', 'e', 'n', ' ', 'c', 'h', 'e', 'm', 'i', 'c', 'a', 'l', 'i', 'n', ' ', 't', 'e', 'r', 't', 'i', 'e', 'l', 'b', 'e', 'n', 'o', 'd', 'l', 'g', 'd', 'h', 'e', 'd', 'e', 'n', ' ', 'p', 'f', ' ', 'd', 'j', 'l', ' ', 't', 'e', 'g', 'a', 'l', 'l', 'e', 'g', 'a', ' ', 'b', 'a', 'n', 'd', 'u', 'n', 'g', ' ', 'i', 'm', 'i', 'i', 'h', 'i', 'm', 'i', 'i', 'i', 'i', 'i', 'i', 'i', 'm', ' ', 'g', 'f', 'f', 'f', 'l', 'f', 'l', 'g', 'i', 'j', 'j', 'j', 'g', 'j', 'j', 'j', 'f', 'p', 'f', 'p', ' ', 'm', 'a', 'i', 's', 'o', 'n', ' ', 'w', 'w', ' ', 'n', 'a', 'r', 'i', 'p', 'a', 'n', ' ', 'd', 'e', 'n', 'i', 's', 'g', 'c', 'b', 'o', 'u', 'w', ' ', 'w', 'e', 'n', 's', 't', ' ', 'g', 'e', 'a', 'c', 'h', 't', 'e', ' ', 'c', 'l', 'i', 'e', 'n', 't', 'l', 'e', ' ', 'g', 'e', 'l', 'u', 'k', 'k', 'i', 'g', ' ', 'v', 'o', 'o', 'r', 's', 'p', 'o', 'e', 'd', 'i', 'g', ' ', 'n', 'i', 'e', 'u', 'w', 'j', 'a', 'a', 'r', ' ', 'j', 'k', ' ', 'g', 'e', 'l', 'u', 'k', 'k', 'i', 'g', ' ', 'n', 'i', 'e', 'u', 'w', 'j', 'a', 'a', 'r', ' ', 'b', 'e', 's', 't', 'u', 'u', 'r', ' ', 'z', 'w', 'e', 'm', 'v', 'e', 'r', 'e', 'n', 'i', 'g', 'i', 'n', 'g', ' ', 'n', 'e', 'p', 't', 'u', 'n', 'u', 's', ' ', 'w', 'e', 'n', 's', 't', ' ', 'l', 'e', 'd', 'e', 'n', ' ', 'v', 'o', 'o', 'r', 's', 'p', 'o', 'e', 'd', 'i', 'g']]\n"
     ]
    }
   ],
   "source": [
    "dictionary = corpora.Dictionary(ldainput_m1)\n",
    "dictionary.save('/Users/leonardovida/nltk_data/corpora/nl_1950/nl_1950_stop.dict')\n",
    "\n",
    "# remove words that appear only once\n",
    "frequency = defaultdict(int)\n",
    "for text in texts:\n",
    "    for token in text:\n",
    "        frequency[token] += 1\n",
    "\n",
    "texts = [\n",
    "    [token for token in text if frequency[token] > 1]\n",
    "    for text in texts\n",
    "]\n",
    "\n",
    "print(texts)"
   ]
  },
  {
   "cell_type": "code",
   "execution_count": 16,
   "metadata": {},
   "outputs": [],
   "source": [
    "ldainput_m2 = [word.split() for word in words_nl_clean]      # words_nl_clean instead of words_nl\n",
    "id2word_m2 = corpora.Dictionary(ldainput_m2)"
   ]
  }
 ],
 "metadata": {
  "kernelspec": {
   "display_name": "histaware-RplM6c3o-py3.8",
   "language": "python",
   "name": "histaware-rplm6c3o-py3.8"
  },
  "language_info": {
   "codemirror_mode": {
    "name": "ipython",
    "version": 3
   },
   "file_extension": ".py",
   "mimetype": "text/x-python",
   "name": "python",
   "nbconvert_exporter": "python",
   "pygments_lexer": "ipython3",
   "version": "3.8.5"
  }
 },
 "nbformat": 4,
 "nbformat_minor": 4
}
