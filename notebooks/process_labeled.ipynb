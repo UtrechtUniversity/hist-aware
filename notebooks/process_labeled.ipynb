{
 "cells": [
  {
   "cell_type": "code",
   "execution_count": 1,
   "metadata": {},
   "outputs": [],
   "source": [
    "import pandas as pd"
   ]
  },
  {
   "cell_type": "code",
   "execution_count": 5,
   "metadata": {},
   "outputs": [],
   "source": [
    "gas = pd.read_csv(\"~/dev/hist-aware/data/processed/labeled_articles/1970s/1970s_gas_labeled.csv\")\n",
    "gas[\"energy_type\"] = \"gas\"\n",
    "oil = pd.read_csv(\"~/dev/hist-aware/data/processed/labeled_articles/1970s/1970s_olie_labeled.csv\")\n",
    "oil[\"energy_type\"] = \"oil\"\n",
    "coal = pd.read_csv(\"~/dev/hist-aware/data/processed/labeled_articles/1970s/1970s_kool_labeled.csv\")\n",
    "coal[\"energy_type\"] = \"coal\""
   ]
  },
  {
   "cell_type": "code",
   "execution_count": 6,
   "metadata": {},
   "outputs": [],
   "source": [
    "gas = gas.head(300)\n",
    "oil = oil.head(300)\n",
    "coal = coal.head(300) \n",
    "frames = [gas, oil, coal]\n",
    "result = pd.concat(frames).sample(frac=1)"
   ]
  },
  {
   "cell_type": "code",
   "execution_count": 7,
   "metadata": {},
   "outputs": [],
   "source": [
    "result.to_csv(\"~/dev/hist-aware/data/processed/labeled_articles/1970s/1970s_complete_top_300.csv\")"
   ]
  },
  {
   "cell_type": "code",
   "execution_count": 8,
   "metadata": {},
   "outputs": [
    {
     "data": {
      "text/html": "<div>\n<style scoped>\n    .dataframe tbody tr th:only-of-type {\n        vertical-align: middle;\n    }\n\n    .dataframe tbody tr th {\n        vertical-align: top;\n    }\n\n    .dataframe thead th {\n        text-align: right;\n    }\n</style>\n<table border=\"1\" class=\"dataframe\">\n  <thead>\n    <tr style=\"text-align: right;\">\n      <th></th>\n      <th>Unnamed: 0</th>\n      <th>Unnamed: 0.1</th>\n      <th>article_filepath</th>\n      <th>article_name</th>\n      <th>count</th>\n      <th>date</th>\n      <th>dir</th>\n      <th>energy_type</th>\n      <th>index_article</th>\n      <th>index_metadata</th>\n      <th>...</th>\n      <th>newspaper_issuenumber</th>\n      <th>newspaper_language</th>\n      <th>newspaper_publisher</th>\n      <th>newspaper_source</th>\n      <th>newspaper_title</th>\n      <th>newspaper_volume</th>\n      <th>sentiment</th>\n      <th>text</th>\n      <th>text_clean</th>\n      <th>type</th>\n    </tr>\n  </thead>\n  <tbody>\n    <tr>\n      <th>11</th>\n      <td>16</td>\n      <td>16.0</td>\n      <td>/Users/leonardovida/dev/HistAware/data/raw/del...</td>\n      <td>DDD_010375768_0011_articletext.xml</td>\n      <td>8</td>\n      <td>1976-02-04</td>\n      <td>/Users/leonardovida/dev/HistAware/data/raw/del...</td>\n      <td>coal</td>\n      <td>1843741</td>\n      <td>7050.0</td>\n      <td>...</td>\n      <td>54.0</td>\n      <td>nl</td>\n      <td>s.n.</td>\n      <td>KB C 157</td>\n      <td>De waarheid</td>\n      <td>36.0</td>\n      <td>0.981864</td>\n      <td>In verband met de positie van Rotterdam is de ...</td>\n      <td>in verband met de positie van is de over het v...</td>\n      <td>p</td>\n    </tr>\n    <tr>\n      <th>297</th>\n      <td>1970</td>\n      <td>1970.0</td>\n      <td>/Users/leonardovida/dev/HistAware/data/raw/del...</td>\n      <td>DDD_011200459_0339_articletext.xml</td>\n      <td>5</td>\n      <td>1979-03-07</td>\n      <td>/Users/leonardovida/dev/HistAware/data/raw/del...</td>\n      <td>oil</td>\n      <td>2866420</td>\n      <td>10949.0</td>\n      <td>...</td>\n      <td>28374.0</td>\n      <td>nl</td>\n      <td>Dagblad De Telegraaf</td>\n      <td>Koninklijke Bibliotheek C 98</td>\n      <td>De Telegraaf</td>\n      <td>86.0</td>\n      <td>0.992847</td>\n      <td>ABOE DHABI, woensdag In de energieconferentie ...</td>\n      <td>woensdag in de van de organisatie van olie exp...</td>\n      <td>p</td>\n    </tr>\n    <tr>\n      <th>211</th>\n      <td>30</td>\n      <td>NaN</td>\n      <td>/Users/leonardovida/dev/HistAware/data/raw/del...</td>\n      <td>DDD_011199397_0566_articletext.xml</td>\n      <td>12</td>\n      <td>1978-12-09</td>\n      <td>/Users/leonardovida/dev/HistAware/data/raw/del...</td>\n      <td>gas</td>\n      <td>822874</td>\n      <td>3300.0</td>\n      <td>...</td>\n      <td>28302.0</td>\n      <td>nl</td>\n      <td>Dagblad De Telegraaf</td>\n      <td>Koninklijke Bibliotheek C98</td>\n      <td>De Telegraaf</td>\n      <td>85.0</td>\n      <td>Yes</td>\n      <td>De eerste LNG-terminal (LNG= Liquified Natural...</td>\n      <td>de eerste gas van werd al in bij in genomen da...</td>\n      <td>p</td>\n    </tr>\n    <tr>\n      <th>70</th>\n      <td>126</td>\n      <td>126.0</td>\n      <td>/Users/leonardovida/dev/HistAware/data/raw/del...</td>\n      <td>DDD_010563467_0138_articletext.xml</td>\n      <td>5</td>\n      <td>1977-04-16</td>\n      <td>/Users/leonardovida/dev/HistAware/data/raw/del...</td>\n      <td>coal</td>\n      <td>2106201</td>\n      <td>8019.0</td>\n      <td>...</td>\n      <td>89.0</td>\n      <td>nl</td>\n      <td>Nieuwe Limburger koerier;Uitgeversmaatschappĳ ...</td>\n      <td>KB C 101</td>\n      <td>Limburgsch dagblad</td>\n      <td>59.0</td>\n      <td>0.986237</td>\n      <td>In enkele landen is de rol van steenkool in de...</td>\n      <td>in enkele landen is de rol van steenkool in de...</td>\n      <td>p</td>\n    </tr>\n    <tr>\n      <th>40</th>\n      <td>67</td>\n      <td>67.0</td>\n      <td>/Users/leonardovida/dev/HistAware/data/raw/del...</td>\n      <td>DDD_010620458_0269_articletext.xml</td>\n      <td>6</td>\n      <td>1977-03-01</td>\n      <td>/Users/leonardovida/dev/HistAware/data/raw/del...</td>\n      <td>coal</td>\n      <td>2102307</td>\n      <td>NaN</td>\n      <td>...</td>\n      <td>NaN</td>\n      <td>NaN</td>\n      <td>NaN</td>\n      <td>NaN</td>\n      <td>NaN</td>\n      <td>NaN</td>\n      <td>0.988469</td>\n      <td>DEN HAAG - Steenkool is bezig terug te keren t...</td>\n      <td>steenkool is bezig terg te keren tot een belan...</td>\n      <td>p</td>\n    </tr>\n    <tr>\n      <th>...</th>\n      <td>...</td>\n      <td>...</td>\n      <td>...</td>\n      <td>...</td>\n      <td>...</td>\n      <td>...</td>\n      <td>...</td>\n      <td>...</td>\n      <td>...</td>\n      <td>...</td>\n      <td>...</td>\n      <td>...</td>\n      <td>...</td>\n      <td>...</td>\n      <td>...</td>\n      <td>...</td>\n      <td>...</td>\n      <td>...</td>\n      <td>...</td>\n      <td>...</td>\n      <td>...</td>\n    </tr>\n    <tr>\n      <th>251</th>\n      <td>1369</td>\n      <td>1369.0</td>\n      <td>/Users/leonardovida/dev/HistAware/data/raw/del...</td>\n      <td>DDD_010377525_0076_articletext.xml</td>\n      <td>2</td>\n      <td>1979-07-30</td>\n      <td>/Users/leonardovida/dev/HistAware/data/raw/del...</td>\n      <td>coal</td>\n      <td>2870717</td>\n      <td>10969.0</td>\n      <td>...</td>\n      <td>195.0</td>\n      <td>nl</td>\n      <td>s.n.</td>\n      <td>KB C 157</td>\n      <td>De waarheid</td>\n      <td>39.0</td>\n      <td>0.983802</td>\n      <td>Carters nieuwe energieprogramma gaat het Ameri...</td>\n      <td>carters het volk tot aan miljard kosten deze z...</td>\n      <td>p</td>\n    </tr>\n    <tr>\n      <th>100</th>\n      <td>243</td>\n      <td>243.0</td>\n      <td>/Users/leonardovida/dev/HistAware/data/raw/del...</td>\n      <td>DDD_010563451_0292_articletext.xml</td>\n      <td>4</td>\n      <td>1977-12-28</td>\n      <td>/Users/leonardovida/dev/HistAware/data/raw/del...</td>\n      <td>coal</td>\n      <td>2739611</td>\n      <td>10467.0</td>\n      <td>...</td>\n      <td>305.0</td>\n      <td>nl</td>\n      <td>Nieuwe Limburger koerier;Uitgeversmaatschappĳ ...</td>\n      <td>KB C 101</td>\n      <td>Limburgsch dagblad</td>\n      <td>59.0</td>\n      <td>0.986216</td>\n      <td>Jr zit veel steenkool in de bodem van ?ns land...</td>\n      <td>zit veel steenkool in de bodem van land prakti...</td>\n      <td>p</td>\n    </tr>\n    <tr>\n      <th>17</th>\n      <td>22</td>\n      <td>22.0</td>\n      <td>/Users/leonardovida/dev/HistAware/data/raw/del...</td>\n      <td>DDD_010570237_0231_articletext.xml</td>\n      <td>8</td>\n      <td>1979-05-23</td>\n      <td>/Users/leonardovida/dev/HistAware/data/raw/del...</td>\n      <td>coal</td>\n      <td>3352704</td>\n      <td>12686.0</td>\n      <td>...</td>\n      <td>121.0</td>\n      <td>nl</td>\n      <td>Nieuwe Limburger koerier;Uitgeversmaatschappĳ ...</td>\n      <td>KB C 101</td>\n      <td>Limburgsch dagblad</td>\n      <td>61.0</td>\n      <td>0.985416</td>\n      <td>In deze SRC 11-fabriek zal dagelijks 6000 ton ...</td>\n      <td>in deze zal dagelijks ton steenkool worden omg...</td>\n      <td>p</td>\n    </tr>\n    <tr>\n      <th>99</th>\n      <td>240</td>\n      <td>240.0</td>\n      <td>/Users/leonardovida/dev/HistAware/data/raw/del...</td>\n      <td>DDD_010563254_0104_articletext.xml</td>\n      <td>4</td>\n      <td>1978-05-06</td>\n      <td>/Users/leonardovida/dev/HistAware/data/raw/del...</td>\n      <td>coal</td>\n      <td>1279773</td>\n      <td>4926.0</td>\n      <td>...</td>\n      <td>106.0</td>\n      <td>nl</td>\n      <td>Nieuwe Limburger koerier;Uitgeversmaatschappĳ ...</td>\n      <td>KB C 101</td>\n      <td>Limburgsch dagblad</td>\n      <td>60.0</td>\n      <td>0.981791</td>\n      <td>Directie-voorzitter De Roy van Zuydewijn: „Dez...</td>\n      <td>de van deze cijfers brengen al onze toenemende...</td>\n      <td>p</td>\n    </tr>\n    <tr>\n      <th>101</th>\n      <td>297</td>\n      <td>NaN</td>\n      <td>/Users/leonardovida/dev/HistAware/data/raw/del...</td>\n      <td>DDD_011018166_0201_articletext.xml</td>\n      <td>7</td>\n      <td>1978-05-20</td>\n      <td>/Users/leonardovida/dev/HistAware/data/raw/del...</td>\n      <td>gas</td>\n      <td>859133</td>\n      <td>3417.0</td>\n      <td>...</td>\n      <td>117.0</td>\n      <td>nl</td>\n      <td>Nieuwenhuis</td>\n      <td>Groninger archieven</td>\n      <td>Nieuwsblad van het Noorden</td>\n      <td>91.0</td>\n      <td>No</td>\n      <td>/l^arasiaalulj Direktie: A.R. Jeltes/G.A. Post...</td>\n      <td>bestaande serviceflat op de etage in de te kam...</td>\n      <td>p</td>\n    </tr>\n  </tbody>\n</table>\n<p>900 rows × 25 columns</p>\n</div>",
      "text/plain": "     Unnamed: 0  Unnamed: 0.1  \\\n11           16          16.0   \n297        1970        1970.0   \n211          30           NaN   \n70          126         126.0   \n40           67          67.0   \n..          ...           ...   \n251        1369        1369.0   \n100         243         243.0   \n17           22          22.0   \n99          240         240.0   \n101         297           NaN   \n\n                                      article_filepath  \\\n11   /Users/leonardovida/dev/HistAware/data/raw/del...   \n297  /Users/leonardovida/dev/HistAware/data/raw/del...   \n211  /Users/leonardovida/dev/HistAware/data/raw/del...   \n70   /Users/leonardovida/dev/HistAware/data/raw/del...   \n40   /Users/leonardovida/dev/HistAware/data/raw/del...   \n..                                                 ...   \n251  /Users/leonardovida/dev/HistAware/data/raw/del...   \n100  /Users/leonardovida/dev/HistAware/data/raw/del...   \n17   /Users/leonardovida/dev/HistAware/data/raw/del...   \n99   /Users/leonardovida/dev/HistAware/data/raw/del...   \n101  /Users/leonardovida/dev/HistAware/data/raw/del...   \n\n                           article_name  count        date  \\\n11   DDD_010375768_0011_articletext.xml      8  1976-02-04   \n297  DDD_011200459_0339_articletext.xml      5  1979-03-07   \n211  DDD_011199397_0566_articletext.xml     12  1978-12-09   \n70   DDD_010563467_0138_articletext.xml      5  1977-04-16   \n40   DDD_010620458_0269_articletext.xml      6  1977-03-01   \n..                                  ...    ...         ...   \n251  DDD_010377525_0076_articletext.xml      2  1979-07-30   \n100  DDD_010563451_0292_articletext.xml      4  1977-12-28   \n17   DDD_010570237_0231_articletext.xml      8  1979-05-23   \n99   DDD_010563254_0104_articletext.xml      4  1978-05-06   \n101  DDD_011018166_0201_articletext.xml      7  1978-05-20   \n\n                                                   dir energy_type  \\\n11   /Users/leonardovida/dev/HistAware/data/raw/del...        coal   \n297  /Users/leonardovida/dev/HistAware/data/raw/del...         oil   \n211  /Users/leonardovida/dev/HistAware/data/raw/del...         gas   \n70   /Users/leonardovida/dev/HistAware/data/raw/del...        coal   \n40   /Users/leonardovida/dev/HistAware/data/raw/del...        coal   \n..                                                 ...         ...   \n251  /Users/leonardovida/dev/HistAware/data/raw/del...        coal   \n100  /Users/leonardovida/dev/HistAware/data/raw/del...        coal   \n17   /Users/leonardovida/dev/HistAware/data/raw/del...        coal   \n99   /Users/leonardovida/dev/HistAware/data/raw/del...        coal   \n101  /Users/leonardovida/dev/HistAware/data/raw/del...         gas   \n\n     index_article  index_metadata  ...  newspaper_issuenumber  \\\n11         1843741          7050.0  ...                   54.0   \n297        2866420         10949.0  ...                28374.0   \n211         822874          3300.0  ...                28302.0   \n70         2106201          8019.0  ...                   89.0   \n40         2102307             NaN  ...                    NaN   \n..             ...             ...  ...                    ...   \n251        2870717         10969.0  ...                  195.0   \n100        2739611         10467.0  ...                  305.0   \n17         3352704         12686.0  ...                  121.0   \n99         1279773          4926.0  ...                  106.0   \n101         859133          3417.0  ...                  117.0   \n\n    newspaper_language                                newspaper_publisher  \\\n11                  nl                                               s.n.   \n297                 nl                               Dagblad De Telegraaf   \n211                 nl                               Dagblad De Telegraaf   \n70                  nl  Nieuwe Limburger koerier;Uitgeversmaatschappĳ ...   \n40                 NaN                                                NaN   \n..                 ...                                                ...   \n251                 nl                                               s.n.   \n100                 nl  Nieuwe Limburger koerier;Uitgeversmaatschappĳ ...   \n17                  nl  Nieuwe Limburger koerier;Uitgeversmaatschappĳ ...   \n99                  nl  Nieuwe Limburger koerier;Uitgeversmaatschappĳ ...   \n101                 nl                                        Nieuwenhuis   \n\n                 newspaper_source             newspaper_title  \\\n11                       KB C 157                 De waarheid   \n297  Koninklijke Bibliotheek C 98                De Telegraaf   \n211   Koninklijke Bibliotheek C98                De Telegraaf   \n70                       KB C 101          Limburgsch dagblad   \n40                            NaN                         NaN   \n..                            ...                         ...   \n251                      KB C 157                 De waarheid   \n100                      KB C 101          Limburgsch dagblad   \n17                       KB C 101          Limburgsch dagblad   \n99                       KB C 101          Limburgsch dagblad   \n101           Groninger archieven  Nieuwsblad van het Noorden   \n\n     newspaper_volume sentiment  \\\n11               36.0  0.981864   \n297              86.0  0.992847   \n211              85.0       Yes   \n70               59.0  0.986237   \n40                NaN  0.988469   \n..                ...       ...   \n251              39.0  0.983802   \n100              59.0  0.986216   \n17               61.0  0.985416   \n99               60.0  0.981791   \n101              91.0        No   \n\n                                                  text  \\\n11   In verband met de positie van Rotterdam is de ...   \n297  ABOE DHABI, woensdag In de energieconferentie ...   \n211  De eerste LNG-terminal (LNG= Liquified Natural...   \n70   In enkele landen is de rol van steenkool in de...   \n40   DEN HAAG - Steenkool is bezig terug te keren t...   \n..                                                 ...   \n251  Carters nieuwe energieprogramma gaat het Ameri...   \n100  Jr zit veel steenkool in de bodem van ?ns land...   \n17   In deze SRC 11-fabriek zal dagelijks 6000 ton ...   \n99   Directie-voorzitter De Roy van Zuydewijn: „Dez...   \n101  /l^arasiaalulj Direktie: A.R. Jeltes/G.A. Post...   \n\n                                            text_clean type  \n11   in verband met de positie van is de over het v...    p  \n297  woensdag in de van de organisatie van olie exp...    p  \n211  de eerste gas van werd al in bij in genomen da...    p  \n70   in enkele landen is de rol van steenkool in de...    p  \n40   steenkool is bezig terg te keren tot een belan...    p  \n..                                                 ...  ...  \n251  carters het volk tot aan miljard kosten deze z...    p  \n100  zit veel steenkool in de bodem van land prakti...    p  \n17   in deze zal dagelijks ton steenkool worden omg...    p  \n99   de van deze cijfers brengen al onze toenemende...    p  \n101  bestaande serviceflat op de etage in de te kam...    p  \n\n[900 rows x 25 columns]"
     },
     "execution_count": 8,
     "metadata": {},
     "output_type": "execute_result"
    }
   ],
   "source": [
    "result"
   ]
  },
  {
   "cell_type": "code",
   "execution_count": null,
   "metadata": {},
   "outputs": [],
   "source": []
  }
 ],
 "metadata": {
  "kernelspec": {
   "display_name": "Python 3",
   "language": "python",
   "name": "python3"
  },
  "language_info": {
   "codemirror_mode": {
    "name": "ipython",
    "version": 3
   },
   "file_extension": ".py",
   "mimetype": "text/x-python",
   "name": "python",
   "nbconvert_exporter": "python",
   "pygments_lexer": "ipython3",
   "version": "3.8.5"
  }
 },
 "nbformat": 4,
 "nbformat_minor": 4
}