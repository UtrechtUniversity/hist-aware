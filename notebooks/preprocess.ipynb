{
 "cells": [
  {
   "cell_type": "markdown",
   "metadata": {},
   "source": [
    "# Preprocess text"
   ]
  },
  {
   "cell_type": "code",
   "execution_count": 2,
   "metadata": {
    "tags": []
   },
   "outputs": [],
   "source": [
    "import io\n",
    "from collections import defaultdict\n",
    "import os, os.path\n",
    "import sys\n",
    "sys.path.insert(0, \"..\")\n",
    "\n",
    "import numpy as np\n",
    "import pandas as pd\n",
    "\n",
    "import spacy\n",
    "from spacy.lemmatizer import Lemmatizer\n",
    "import nl_core_news_lg\n",
    "\n",
    "from tqdm import tqdm_notebook as tqdm\n",
    "from pprint import pprint\n",
    "import spacy\n",
    "import enchant\n",
    "from enchant.checker import SpellChecker\n",
    "\n",
    "from string import punctuation\n",
    "\n",
    "import torch\n",
    "import re\n",
    "import nltk\n",
    "\n",
    "from difflib import SequenceMatcher\n",
    "from transformers import AutoTokenizer, AutoModel\n",
    "\n",
    "from src import iterators"
   ]
  },
  {
   "cell_type": "markdown",
   "metadata": {},
   "source": [
    "#### Settings"
   ]
  },
  {
   "cell_type": "code",
   "execution_count": 3,
   "metadata": {},
   "outputs": [],
   "source": [
    "#stopword_list = nltk.corpus.stopwords.words('dutch')\n",
    "from spacy.lang.nl.stop_words import STOP_WORDS\n",
    "limit = 0 # limit the data\n",
    "stopwords = set(STOP_WORDS) # set of stopwords for performance"
   ]
  },
  {
   "cell_type": "markdown",
   "metadata": {},
   "source": [
    "#### Import the data"
   ]
  },
  {
   "cell_type": "code",
   "execution_count": 4,
   "metadata": {},
   "outputs": [],
   "source": [
    "# Load csv\n",
    "csv = iterators.iterate_directory(\"../data/processed/selected_articles/\", \".csv\")\n",
    "df = pd.concat([pd.read_csv(c[\"article_path\"]) for c in csv],ignore_index=True)\n",
    "df.sort_values(by=[\"count\"], ascending=False, inplace=True)"
   ]
  },
  {
   "cell_type": "markdown",
   "metadata": {},
   "source": [
    "### Clean the dataset"
   ]
  },
  {
   "cell_type": "markdown",
   "metadata": {},
   "source": [
    "#### Remove non Chinese, Japanese and Korean char"
   ]
  },
  {
   "cell_type": "code",
   "execution_count": 6,
   "metadata": {},
   "outputs": [],
   "source": [
    "def jkc_detect(texts):\n",
    "    # korean\n",
    "    if re.search(\"[\\uac00-\\ud7a3]\", texts):\n",
    "        return False\n",
    "    # japanese\n",
    "    if re.search(\"[\\u3040-\\u30ff]\", texts):\n",
    "        return False\n",
    "    # chinese\n",
    "    if re.search(\"[\\u4e00-\\u9FFF]\", texts):\n",
    "        return False\n",
    "    return True"
   ]
  },
  {
   "cell_type": "code",
   "execution_count": 7,
   "metadata": {},
   "outputs": [],
   "source": [
    "# Only non jkc\n",
    "df['non_jkc'] = df['text'].apply(jkc_detect)\n",
    "df = df[df['non_jkc'] == True]"
   ]
  },
  {
   "cell_type": "code",
   "execution_count": 8,
   "metadata": {},
   "outputs": [
    {
     "data": {
      "text/html": [
       "<div>\n",
       "<style scoped>\n",
       "    .dataframe tbody tr th:only-of-type {\n",
       "        vertical-align: middle;\n",
       "    }\n",
       "\n",
       "    .dataframe tbody tr th {\n",
       "        vertical-align: top;\n",
       "    }\n",
       "\n",
       "    .dataframe thead th {\n",
       "        text-align: right;\n",
       "    }\n",
       "</style>\n",
       "<table border=\"1\" class=\"dataframe\">\n",
       "  <thead>\n",
       "    <tr style=\"text-align: right;\">\n",
       "      <th></th>\n",
       "      <th>Unnamed: 0_x</th>\n",
       "      <th>type</th>\n",
       "      <th>text</th>\n",
       "      <th>article_name</th>\n",
       "      <th>date</th>\n",
       "      <th>index_article</th>\n",
       "      <th>article_filepath</th>\n",
       "      <th>dir</th>\n",
       "      <th>Unnamed: 0_y</th>\n",
       "      <th>metadata_title</th>\n",
       "      <th>...</th>\n",
       "      <th>newspaper_title</th>\n",
       "      <th>newspaper_date</th>\n",
       "      <th>newspaper_city</th>\n",
       "      <th>newspaper_publisher</th>\n",
       "      <th>newspaper_source</th>\n",
       "      <th>newspaper_volume</th>\n",
       "      <th>newspaper_issuenumber</th>\n",
       "      <th>newspaper_language</th>\n",
       "      <th>count</th>\n",
       "      <th>non_jkc</th>\n",
       "    </tr>\n",
       "  </thead>\n",
       "  <tbody>\n",
       "    <tr>\n",
       "      <th>51807</th>\n",
       "      <td>128976</td>\n",
       "      <td>p</td>\n",
       "      <td>58. Boksterm. 59. Zangnoot. 60.' Bekende motor...</td>\n",
       "      <td>DDD_010852519_0090_articletext.xml</td>\n",
       "      <td>1950-04-08</td>\n",
       "      <td>2097838</td>\n",
       "      <td>/Users/leonardovida/dev/HistAware/data/raw/del...</td>\n",
       "      <td>/Users/leonardovida/dev/HistAware/data/raw/del...</td>\n",
       "      <td>964.0</td>\n",
       "      <td>DDD:ddd:010852519:mpeg21.didl.xml.gz.xml</td>\n",
       "      <td>...</td>\n",
       "      <td>De waarheid</td>\n",
       "      <td>1950-04-08</td>\n",
       "      <td>Amsterdam</td>\n",
       "      <td>s.n.</td>\n",
       "      <td>Internationaal Instituut voor Sociale Geschied...</td>\n",
       "      <td>9.0</td>\n",
       "      <td>286.0</td>\n",
       "      <td>nl</td>\n",
       "      <td>1</td>\n",
       "      <td>True</td>\n",
       "    </tr>\n",
       "    <tr>\n",
       "      <th>51806</th>\n",
       "      <td>128964</td>\n",
       "      <td>p</td>\n",
       "      <td>&gt; LS we het Friesch (Christelijk Nationaal) Da...</td>\n",
       "      <td>DDD_010852519_0071_articletext.xml</td>\n",
       "      <td>1950-04-08</td>\n",
       "      <td>2097835</td>\n",
       "      <td>/Users/leonardovida/dev/HistAware/data/raw/del...</td>\n",
       "      <td>/Users/leonardovida/dev/HistAware/data/raw/del...</td>\n",
       "      <td>964.0</td>\n",
       "      <td>DDD:ddd:010852519:mpeg21.didl.xml.gz.xml</td>\n",
       "      <td>...</td>\n",
       "      <td>De waarheid</td>\n",
       "      <td>1950-04-08</td>\n",
       "      <td>Amsterdam</td>\n",
       "      <td>s.n.</td>\n",
       "      <td>Internationaal Instituut voor Sociale Geschied...</td>\n",
       "      <td>9.0</td>\n",
       "      <td>286.0</td>\n",
       "      <td>nl</td>\n",
       "      <td>1</td>\n",
       "      <td>True</td>\n",
       "    </tr>\n",
       "    <tr>\n",
       "      <th>135906</th>\n",
       "      <td>146893</td>\n",
       "      <td>p</td>\n",
       "      <td>06.00 Awake on the wild side. Presentatie: Reb...</td>\n",
       "      <td>DDD_010692171_0382_articletext.xml</td>\n",
       "      <td>1994-02-11</td>\n",
       "      <td>1347868</td>\n",
       "      <td>/Users/leonardovida/dev/HistAware/data/raw/del...</td>\n",
       "      <td>/Users/leonardovida/dev/HistAware/data/raw/del...</td>\n",
       "      <td>246.0</td>\n",
       "      <td>DDD:ddd:010692171:mpeg21.didl.xml.gz.xml</td>\n",
       "      <td>...</td>\n",
       "      <td>De Telegraaf</td>\n",
       "      <td>1994-02-11</td>\n",
       "      <td>Amsterdam</td>\n",
       "      <td>Dagblad De Telegraaf</td>\n",
       "      <td>KB C 98</td>\n",
       "      <td>102.0</td>\n",
       "      <td>32978.0</td>\n",
       "      <td>nl</td>\n",
       "      <td>1</td>\n",
       "      <td>True</td>\n",
       "    </tr>\n",
       "  </tbody>\n",
       "</table>\n",
       "<p>3 rows × 22 columns</p>\n",
       "</div>"
      ],
      "text/plain": [
       "        Unnamed: 0_x type                                               text  \\\n",
       "51807         128976    p  58. Boksterm. 59. Zangnoot. 60.' Bekende motor...   \n",
       "51806         128964    p  > LS we het Friesch (Christelijk Nationaal) Da...   \n",
       "135906        146893    p  06.00 Awake on the wild side. Presentatie: Reb...   \n",
       "\n",
       "                              article_name        date  index_article  \\\n",
       "51807   DDD_010852519_0090_articletext.xml  1950-04-08        2097838   \n",
       "51806   DDD_010852519_0071_articletext.xml  1950-04-08        2097835   \n",
       "135906  DDD_010692171_0382_articletext.xml  1994-02-11        1347868   \n",
       "\n",
       "                                         article_filepath  \\\n",
       "51807   /Users/leonardovida/dev/HistAware/data/raw/del...   \n",
       "51806   /Users/leonardovida/dev/HistAware/data/raw/del...   \n",
       "135906  /Users/leonardovida/dev/HistAware/data/raw/del...   \n",
       "\n",
       "                                                      dir  Unnamed: 0_y  \\\n",
       "51807   /Users/leonardovida/dev/HistAware/data/raw/del...         964.0   \n",
       "51806   /Users/leonardovida/dev/HistAware/data/raw/del...         964.0   \n",
       "135906  /Users/leonardovida/dev/HistAware/data/raw/del...         246.0   \n",
       "\n",
       "                                  metadata_title  ...  newspaper_title  \\\n",
       "51807   DDD:ddd:010852519:mpeg21.didl.xml.gz.xml  ...      De waarheid   \n",
       "51806   DDD:ddd:010852519:mpeg21.didl.xml.gz.xml  ...      De waarheid   \n",
       "135906  DDD:ddd:010692171:mpeg21.didl.xml.gz.xml  ...     De Telegraaf   \n",
       "\n",
       "       newspaper_date newspaper_city   newspaper_publisher  \\\n",
       "51807      1950-04-08      Amsterdam                  s.n.   \n",
       "51806      1950-04-08      Amsterdam                  s.n.   \n",
       "135906     1994-02-11      Amsterdam  Dagblad De Telegraaf   \n",
       "\n",
       "                                         newspaper_source newspaper_volume  \\\n",
       "51807   Internationaal Instituut voor Sociale Geschied...              9.0   \n",
       "51806   Internationaal Instituut voor Sociale Geschied...              9.0   \n",
       "135906                                            KB C 98            102.0   \n",
       "\n",
       "       newspaper_issuenumber  newspaper_language  count non_jkc  \n",
       "51807                  286.0                  nl      1    True  \n",
       "51806                  286.0                  nl      1    True  \n",
       "135906               32978.0                  nl      1    True  \n",
       "\n",
       "[3 rows x 22 columns]"
      ]
     },
     "execution_count": 8,
     "metadata": {},
     "output_type": "execute_result"
    }
   ],
   "source": [
    "df.tail(3)"
   ]
  },
  {
   "cell_type": "markdown",
   "metadata": {},
   "source": [
    "#### Create functions for preprocessing"
   ]
  },
  {
   "cell_type": "code",
   "execution_count": 9,
   "metadata": {},
   "outputs": [],
   "source": [
    "# Keep \".\" \"!\" and \"?\" to define end of sentence.\n",
    "\n",
    "punctuation = \",/<>;':\\\"[]\\\\{}|`~@#$%^&*()_+-=\"\n",
    "\n",
    "def remove_punctuation(text):\n",
    "    \"\"\"Remove punctuation\"\"\"\n",
    "    no_punct = \"\".join([c for c in text if c not in punctuation])\n",
    "    return(no_punct)"
   ]
  },
  {
   "cell_type": "code",
   "execution_count": 10,
   "metadata": {},
   "outputs": [],
   "source": [
    "df[\"text_clean\"] = df[\"text\"].apply(lambda x: remove_punctuation(x))"
   ]
  },
  {
   "cell_type": "code",
   "execution_count": 11,
   "metadata": {},
   "outputs": [],
   "source": [
    "def remove_stopwords(text):\n",
    "    \"\"\"Remove stopwords as defined by Spacy stopwords\"\"\"\n",
    "    words = \"\".join([w for w in text if w not in stopwords])\n",
    "    return words"
   ]
  },
  {
   "cell_type": "code",
   "execution_count": 12,
   "metadata": {},
   "outputs": [],
   "source": [
    "df[\"text_clean\"] = df[\"text_clean\"].apply(lambda x: remove_stopwords(x))"
   ]
  },
  {
   "cell_type": "code",
   "execution_count": 13,
   "metadata": {},
   "outputs": [],
   "source": [
    "def remove_numeric(text):\n",
    "    \"\"\"Remove numbers\"\"\"\n",
    "    words = ''.join([c for c in text if not c.isdigit()])\n",
    "    return words"
   ]
  },
  {
   "cell_type": "code",
   "execution_count": 14,
   "metadata": {},
   "outputs": [],
   "source": [
    "df[\"text_clean\"] = df[\"text_clean\"].apply(lambda x: remove_numeric(x))"
   ]
  },
  {
   "cell_type": "code",
   "execution_count": 16,
   "metadata": {},
   "outputs": [
    {
     "data": {
      "text/plain": [
       "'Het antwoord van Mr. Dr. Biskool heeft mijn argmenten niet knnen weerleggen hetgeen ik hieronder in het kort zal aantonen. De heer Biskool begint met terg te nemen de door hem geciteerde voorbeelden welke zoden moeten bewijzen dat in Sriname de Staten bij het bepalen van qorm rekening hielden met vacatres. Deze bewijzen zijn hem ontvallen en daarmede ook zijn stelling. De Staten bestonden tot  in de praktijk it  leden ongeacht de mogelijkheid van een groter aantal. Het qorm was . In het Reglement van Orde is dat getal ook genoemd. Het is onjist om te beweren dat er vóór  geen wettelijk aantal leden der Staten bestond. Het Regerings Regiement geeft het wettelijk aantal aan. Het beroep op art.  R. R. regelende de aftreding van leden bij rooster doet vreemd aan want dit staat geheel biten dc kwestie van qorm. Ik zie niet it welke feiten de conclsie moet worden getrokken dat zelfs de wet lees Regerings Reglement bij de berekening van het qorm rekening hodt met vacatres. Hoe komt de heer Biskool plotseling aan feitelijke helft ? En is het nietdidelijk genoeg dat de Staten tientallen jaren bij de itleg van de „helft van het aantal leden steeds verstonden „de helft van het wettelijk aantal ? De heer Biskool negeert de praktijk in Sriname volkomen. In het systeem van bepalen   — Jo van qorm is nooit een wij I ziging gebracht. Het was steeds j weer de helft van het wettelijk aantal. Ook in de Staatsregeling  van . Ik weet heel goed dat toen in de Staatsregeling stond dat tenminste  leden aanwezig moeten zijn voor het rechtsgeldig vergaderen maar dit is jist een bevestiging van mijn opvatting. Immers de gangbare opvatting van „de helft van het aantal leden is de helft van het „wettelijk aantal ook al toen  er geen vast aantal leden was. Toen er n in  een vast aantal leden kwam werd de toen reeds bestaande algemene gedragslijn eenvodig in cij j fers vastgelegd. Van een wijzi  ging van het systeem van be j rekening van het qorm was i geen sprake. Daarom citeerde ik ■ het boek over Srinaams  Staatsrecht. Een zo opvallende wijziging zo toch gesignaleerd worden. Ik heb ds „op mijn bert geen slip gemaakt. Van de parlementaire geschiedenis waarop de heer Biskool zich aanvankelijk nadrkkelijk beriep en die ik vroeg te mogen lezen is zeer weinig gebleken in zijn antwoord. Alleen maar een korte toelichting van de regering op artikel . Over artikel  praat de heer Biskool niet meer. Deze toelichting is jist geciteerd maar de geschreven conclsie verkeerd. De bijzondere waarborgen die die de regering aanvoerde voor de wijziging van een artikel van de Landsregeling liggen niet in het wettelijk aantal maar in de woorden iwee derde. De nadrk valt niet op het wettelijk aantal want dit spreekt vanzelf maar ilslitend op de . geqalif iceerdo meerderheid. De heer Biskool maakt een andere slip als hij beweert dat bij het berekenen van qorm ook met „absenties rekening moet worden gehoden. Hij schrijft letterlijk „En daarvoor was in Sriname wel reden omdat de volksvertegenwoordiging hier maar  leden telt en dikwijls vacatres of absenties heeft anders dan in Nederland met zijn  leden in de Tweede Kamer en zijn sterk ontwikkelde partijdiscipline waardoor de leden er wel zijn als het erop aankomt. Ik heb dit nog nooit gehoord of gelezen. Ds indien een of meer leden absent zijn met verlof of ziekte wijzigt zich het qorm. Indien derhalve twee Statenleden op reis zijn een in Nickerie de andere in Coronie is het qorm dan  ? Ook dit is onhodbaar. De heer Biskool heeft niet ontkend dat de algemeen gangbare opvatting omtrent qorm is zoals ik die terggaf. Ik behoef dit pnt ds niet meer te bewijzen. Mijn voorbeelden konden niet worden ontzenwd. Ik zal nogmaals trachten de heer Biskool te overtigen van de onhodbaarheid van zijn betoog. In  stond in de Srinaamse Staatsregeling de helft van het aantal leden. De gangbare opvatting in Nederland en Sriname is de helft van het wettelijk aantal. Dit wordt stilzwijgend erkend door de heer Biskool. De tekst van  is gelijk aan die van de Landsregeling. Heeft men ds artikel  willen wijzigen? Neen positief neen. N komt art.  erbij. Met een sobere toelichting. Ook hier weer men wil geen wijziging van art. . Nergens blijkt toch hiervan. Het hele betoog gaat thans over de vraag of art.  gewijzigd is want toch vóór de Interimregeling was er geen enkel argment om het standpnt van de Oppositie en de heer Biskool ook maar enigszins te onderstenen. De heer Biskool zijn argment is ds ontstaan in . Vóór  heeft hij geen enkel argment en moet ds mijn iteenzetting aanvaarden. Maar indien nergens blijkt van een wijziging van art.  zal de heer Biskool thans mijn itleg moeten aanvaarden op jridische gronden. Mijn beroep op Nederland en handboeken over Staatsrecht betreft ds art.  en niet art.  gelijk de heer Biskool wil doen voorkomen. Mijn standpnt meen ik thans didelijk en overtigend genoeg te hebben iteengezet en verdedigd en de onhodbaarheid van de bewering van de Oppositie en de heer Blskool bewezen. Vanzelfsprekend blijven politieke visies biten beschowing. De heer Biskool en ik polemisseren over de jridische kant. En daarom had ik een riterlijke erkenning van zijn ongelijk mogen verwachten.'"
      ]
     },
     "execution_count": 16,
     "metadata": {},
     "output_type": "execute_result"
    }
   ],
   "source": [
    "#df[\"text\"][1]\n",
    "df[\"text_clean\"][1]"
   ]
  },
  {
   "cell_type": "code",
   "execution_count": 17,
   "metadata": {},
   "outputs": [],
   "source": [
    "def cleaner(df):\n",
    "    \"Extract relevant text from DataFrame using a regex\"\n",
    "    # Regex pattern for only alphanumeric, hyphenated text with 3 or more chars\n",
    "    pattern = re.compile(r\"[A-Za-z\\-]{2,40}\")\n",
    "    df['text_no_point'] = df['text_clean'].str.findall(pattern).str.join(' ')\n",
    "    if limit > 0:\n",
    "        return df.iloc[:limit, :].copy()\n",
    "    else:\n",
    "        return df"
   ]
  },
  {
   "cell_type": "code",
   "execution_count": 20,
   "metadata": {},
   "outputs": [
    {
     "data": {
      "text/html": [
       "<div>\n",
       "<style scoped>\n",
       "    .dataframe tbody tr th:only-of-type {\n",
       "        vertical-align: middle;\n",
       "    }\n",
       "\n",
       "    .dataframe tbody tr th {\n",
       "        vertical-align: top;\n",
       "    }\n",
       "\n",
       "    .dataframe thead th {\n",
       "        text-align: right;\n",
       "    }\n",
       "</style>\n",
       "<table border=\"1\" class=\"dataframe\">\n",
       "  <thead>\n",
       "    <tr style=\"text-align: right;\">\n",
       "      <th></th>\n",
       "      <th>Unnamed: 0_x</th>\n",
       "      <th>type</th>\n",
       "      <th>text</th>\n",
       "      <th>article_name</th>\n",
       "      <th>date</th>\n",
       "      <th>index_article</th>\n",
       "      <th>article_filepath</th>\n",
       "      <th>dir</th>\n",
       "      <th>Unnamed: 0_y</th>\n",
       "      <th>metadata_title</th>\n",
       "      <th>...</th>\n",
       "      <th>newspaper_city</th>\n",
       "      <th>newspaper_publisher</th>\n",
       "      <th>newspaper_source</th>\n",
       "      <th>newspaper_volume</th>\n",
       "      <th>newspaper_issuenumber</th>\n",
       "      <th>newspaper_language</th>\n",
       "      <th>count</th>\n",
       "      <th>non_jkc</th>\n",
       "      <th>text_clean</th>\n",
       "      <th>text_no_point</th>\n",
       "    </tr>\n",
       "  </thead>\n",
       "  <tbody>\n",
       "    <tr>\n",
       "      <th>51806</th>\n",
       "      <td>128964</td>\n",
       "      <td>p</td>\n",
       "      <td>&gt; LS we het Friesch (Christelijk Nationaal) Da...</td>\n",
       "      <td>DDD_010852519_0071_articletext.xml</td>\n",
       "      <td>1950-04-08</td>\n",
       "      <td>2097835</td>\n",
       "      <td>/Users/leonardovida/dev/HistAware/data/raw/del...</td>\n",
       "      <td>/Users/leonardovida/dev/HistAware/data/raw/del...</td>\n",
       "      <td>964.0</td>\n",
       "      <td>DDD:ddd:010852519:mpeg21.didl.xml.gz.xml</td>\n",
       "      <td>...</td>\n",
       "      <td>Amsterdam</td>\n",
       "      <td>s.n.</td>\n",
       "      <td>Internationaal Instituut voor Sociale Geschied...</td>\n",
       "      <td>9.0</td>\n",
       "      <td>286.0</td>\n",
       "      <td>nl</td>\n",
       "      <td>1</td>\n",
       "      <td>True</td>\n",
       "      <td>LS we het Friesch Christelijk Nationaal Dagbl...</td>\n",
       "      <td>LS we het Friesch Christelijk Nationaal Dagbla...</td>\n",
       "    </tr>\n",
       "    <tr>\n",
       "      <th>135906</th>\n",
       "      <td>146893</td>\n",
       "      <td>p</td>\n",
       "      <td>06.00 Awake on the wild side. Presentatie: Reb...</td>\n",
       "      <td>DDD_010692171_0382_articletext.xml</td>\n",
       "      <td>1994-02-11</td>\n",
       "      <td>1347868</td>\n",
       "      <td>/Users/leonardovida/dev/HistAware/data/raw/del...</td>\n",
       "      <td>/Users/leonardovida/dev/HistAware/data/raw/del...</td>\n",
       "      <td>246.0</td>\n",
       "      <td>DDD:ddd:010692171:mpeg21.didl.xml.gz.xml</td>\n",
       "      <td>...</td>\n",
       "      <td>Amsterdam</td>\n",
       "      <td>Dagblad De Telegraaf</td>\n",
       "      <td>KB C 98</td>\n",
       "      <td>102.0</td>\n",
       "      <td>32978.0</td>\n",
       "      <td>nl</td>\n",
       "      <td>1</td>\n",
       "      <td>True</td>\n",
       "      <td>. Awake on the wild side. Presentatie Rebecca ...</td>\n",
       "      <td>Awake on the wild side Presentatie Rebecca de ...</td>\n",
       "    </tr>\n",
       "  </tbody>\n",
       "</table>\n",
       "<p>2 rows × 24 columns</p>\n",
       "</div>"
      ],
      "text/plain": [
       "        Unnamed: 0_x type                                               text  \\\n",
       "51806         128964    p  > LS we het Friesch (Christelijk Nationaal) Da...   \n",
       "135906        146893    p  06.00 Awake on the wild side. Presentatie: Reb...   \n",
       "\n",
       "                              article_name        date  index_article  \\\n",
       "51806   DDD_010852519_0071_articletext.xml  1950-04-08        2097835   \n",
       "135906  DDD_010692171_0382_articletext.xml  1994-02-11        1347868   \n",
       "\n",
       "                                         article_filepath  \\\n",
       "51806   /Users/leonardovida/dev/HistAware/data/raw/del...   \n",
       "135906  /Users/leonardovida/dev/HistAware/data/raw/del...   \n",
       "\n",
       "                                                      dir  Unnamed: 0_y  \\\n",
       "51806   /Users/leonardovida/dev/HistAware/data/raw/del...         964.0   \n",
       "135906  /Users/leonardovida/dev/HistAware/data/raw/del...         246.0   \n",
       "\n",
       "                                  metadata_title  ...  newspaper_city  \\\n",
       "51806   DDD:ddd:010852519:mpeg21.didl.xml.gz.xml  ...       Amsterdam   \n",
       "135906  DDD:ddd:010692171:mpeg21.didl.xml.gz.xml  ...       Amsterdam   \n",
       "\n",
       "         newspaper_publisher  \\\n",
       "51806                   s.n.   \n",
       "135906  Dagblad De Telegraaf   \n",
       "\n",
       "                                         newspaper_source newspaper_volume  \\\n",
       "51806   Internationaal Instituut voor Sociale Geschied...              9.0   \n",
       "135906                                            KB C 98            102.0   \n",
       "\n",
       "       newspaper_issuenumber newspaper_language count  non_jkc  \\\n",
       "51806                  286.0                 nl     1     True   \n",
       "135906               32978.0                 nl     1     True   \n",
       "\n",
       "                                               text_clean  \\\n",
       "51806    LS we het Friesch Christelijk Nationaal Dagbl...   \n",
       "135906  . Awake on the wild side. Presentatie Rebecca ...   \n",
       "\n",
       "                                            text_no_point  \n",
       "51806   LS we het Friesch Christelijk Nationaal Dagbla...  \n",
       "135906  Awake on the wild side Presentatie Rebecca de ...  \n",
       "\n",
       "[2 rows x 24 columns]"
      ]
     },
     "execution_count": 20,
     "metadata": {},
     "output_type": "execute_result"
    }
   ],
   "source": [
    "cleaner(df)\n",
    "df.tail(2)"
   ]
  },
  {
   "cell_type": "markdown",
   "metadata": {},
   "source": [
    "### Split long text"
   ]
  },
  {
   "cell_type": "code",
   "execution_count": 21,
   "metadata": {},
   "outputs": [],
   "source": [
    "def get_split(txt, length):\n",
    "  len_tot = []\n",
    "  len_partial = []\n",
    "  if len(txt.split())//length >0:\n",
    "    n = len(txt.split())//length\n",
    "  else: \n",
    "    n = 1\n",
    "  for w in range(n):\n",
    "    if w == 0:\n",
    "      len_partial = txt.split()[:length]\n",
    "      len_tot.append(\" \".join(len_partial))\n",
    "    else:\n",
    "      len_partial = txt.split()[w*length:w*length + length]\n",
    "      len_tot.append(\" \".join(len_partial))\n",
    "  return len_tot"
   ]
  },
  {
   "cell_type": "code",
   "execution_count": 22,
   "metadata": {},
   "outputs": [],
   "source": [
    "df[\"text_clean_split\"] = df[\"text_clean\"].apply(get_split, length=500)\n",
    "df[\"text_clean_split_no_point\"] = df[\"text_no_point\"].apply(get_split, length=500)"
   ]
  },
  {
   "cell_type": "markdown",
   "metadata": {},
   "source": [
    "### Save cleaned df"
   ]
  },
  {
   "cell_type": "code",
   "execution_count": 23,
   "metadata": {},
   "outputs": [],
   "source": [
    "df.to_csv(\"cleaned_df.csv\")"
   ]
  },
  {
   "cell_type": "markdown",
   "metadata": {},
   "source": [
    "----"
   ]
  },
  {
   "cell_type": "markdown",
   "metadata": {},
   "source": [
    "### Additional subsetting only to relevant part"
   ]
  },
  {
   "cell_type": "markdown",
   "metadata": {},
   "source": [
    "Select the divided text and retrieve also article_ids and article_name"
   ]
  },
  {
   "cell_type": "code",
   "execution_count": 154,
   "metadata": {},
   "outputs": [],
   "source": [
    "divided_texts = []\n",
    "idx_texts = []\n",
    "name_texts = []\n",
    "dfids_texts = []\n",
    "for idx, row in df.iterrows():\n",
    "  for text in row['text_split']:\n",
    "    divided_texts.append(text)\n",
    "    idx_texts.append(idx)\n",
    "    name_texts.append(row[\"article_name\"])\n",
    "    dfids_texts.append(row[\"Unnamed: 0_x\"])"
   ]
  },
  {
   "cell_type": "markdown",
   "metadata": {},
   "source": [
    "Create smaller dataframe for analysis"
   ]
  },
  {
   "cell_type": "code",
   "execution_count": 155,
   "metadata": {},
   "outputs": [
    {
     "data": {
      "text/html": [
       "<div>\n",
       "<style scoped>\n",
       "    .dataframe tbody tr th:only-of-type {\n",
       "        vertical-align: middle;\n",
       "    }\n",
       "\n",
       "    .dataframe tbody tr th {\n",
       "        vertical-align: top;\n",
       "    }\n",
       "\n",
       "    .dataframe thead th {\n",
       "        text-align: right;\n",
       "    }\n",
       "</style>\n",
       "<table border=\"1\" class=\"dataframe\">\n",
       "  <thead>\n",
       "    <tr style=\"text-align: right;\">\n",
       "      <th></th>\n",
       "      <th>text</th>\n",
       "      <th>article_id</th>\n",
       "      <th>article_name</th>\n",
       "    </tr>\n",
       "  </thead>\n",
       "  <tbody>\n",
       "    <tr>\n",
       "      <th>0</th>\n",
       "      <td>Aoiang er mijnen bestaan is het mijngas de gro...</td>\n",
       "      <td>36288</td>\n",
       "      <td>DDD_010417712_0100_articletext.xml</td>\n",
       "    </tr>\n",
       "    <tr>\n",
       "      <th>1</th>\n",
       "      <td>ning tijdens de ontgassing normaal kan doorgaa...</td>\n",
       "      <td>36381</td>\n",
       "      <td>DDD_010417712_0102_articletext.xml</td>\n",
       "    </tr>\n",
       "    <tr>\n",
       "      <th>2</th>\n",
       "      <td>\"W/ij eijn deze keer op een Joodse bruiloft, \"...</td>\n",
       "      <td>107454</td>\n",
       "      <td>DDD_010612570_0079_articletext.xml</td>\n",
       "    </tr>\n",
       "    <tr>\n",
       "      <th>3</th>\n",
       "      <td>Het is een spannende geschiedenis met de gasvo...</td>\n",
       "      <td>122625</td>\n",
       "      <td>DDD_010417601_0094_articletext.xml</td>\n",
       "    </tr>\n",
       "    <tr>\n",
       "      <th>4</th>\n",
       "      <td>In elk geval, meende de archivaris, heeft pate...</td>\n",
       "      <td>125000</td>\n",
       "      <td>DDD_011199673_0059_articletext.xml</td>\n",
       "    </tr>\n",
       "  </tbody>\n",
       "</table>\n",
       "</div>"
      ],
      "text/plain": [
       "                                                text  article_id  \\\n",
       "0  Aoiang er mijnen bestaan is het mijngas de gro...       36288   \n",
       "1  ning tijdens de ontgassing normaal kan doorgaa...       36381   \n",
       "2  \"W/ij eijn deze keer op een Joodse bruiloft, \"...      107454   \n",
       "3  Het is een spannende geschiedenis met de gasvo...      122625   \n",
       "4  In elk geval, meende de archivaris, heeft pate...      125000   \n",
       "\n",
       "                         article_name  \n",
       "0  DDD_010417712_0100_articletext.xml  \n",
       "1  DDD_010417712_0102_articletext.xml  \n",
       "2  DDD_010612570_0079_articletext.xml  \n",
       "3  DDD_010417601_0094_articletext.xml  \n",
       "4  DDD_011199673_0059_articletext.xml  "
      ]
     },
     "execution_count": 155,
     "metadata": {},
     "output_type": "execute_result"
    }
   ],
   "source": [
    "df_texts = pd.DataFrame({\"text\":divided_texts, \"article_id\":dfids_texts, \"article_name\":name_texts})\n",
    "df_texts.head(5)"
   ]
  }
 ],
 "metadata": {
  "kernelspec": {
   "display_name": "histaware-RplM6c3o-py3.8",
   "language": "python",
   "name": "histaware-rplm6c3o-py3.8"
  },
  "language_info": {
   "codemirror_mode": {
    "name": "ipython",
    "version": 3
   },
   "file_extension": ".py",
   "mimetype": "text/x-python",
   "name": "python",
   "nbconvert_exporter": "python",
   "pygments_lexer": "ipython3",
   "version": "3.8.5"
  }
 },
 "nbformat": 4,
 "nbformat_minor": 4
}
