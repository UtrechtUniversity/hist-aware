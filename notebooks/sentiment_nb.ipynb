{
 "cells": [
  {
   "cell_type": "markdown",
   "metadata": {},
   "source": [
    "# Sentiment Analysis - Naives Bayes"
   ]
  },
  {
   "cell_type": "markdown",
   "metadata": {},
   "source": [
    "### Collect individual labels"
   ]
  },
  {
   "cell_type": "code",
   "execution_count": null,
   "metadata": {},
   "outputs": [],
   "source": [
    "## Collect all unique author names from author column\n",
    "author_names = df_train['author'].unique()\n",
    "print (author_names)"
   ]
  },
  {
   "cell_type": "code",
   "execution_count": null,
   "metadata": {},
   "outputs": [],
   "source": [
    "authorname_to_id = {}\n",
    "assign_id = 0\n",
    "for name in author_names:\n",
    "    authorname_to_id[name] = assign_id\n",
    "    assign_id += 1  ## Get a new id for new author\n",
    "    \n",
    "##  Print the dictionary created\n",
    "for key, values in authorname_to_id.items():\n",
    "    print (key, values)\n",
    "    \n",
    "id_to_author_name = {v: k for k, v in authorname_to_id.items()}\n",
    "for key, values in id_to_author_name.items():\n",
    "    print (key, values)\n",
    "\n",
    "    ## Add a new column to pandas dataframe, with the author name mapping\n",
    "def get_author_id(author_name):\n",
    "    return authorname_to_id[author_name]\n",
    "\n",
    "df_train['author_id'] = df_train['author'].map(get_author_id)"
   ]
  }
 ],
 "metadata": {
  "kernelspec": {
   "display_name": "histaware-RplM6c3o-py3.8",
   "language": "python",
   "name": "histaware-rplm6c3o-py3.8"
  },
  "language_info": {
   "codemirror_mode": {
    "name": "ipython",
    "version": 3
   },
   "file_extension": ".py",
   "mimetype": "text/x-python",
   "name": "python",
   "nbconvert_exporter": "python",
   "pygments_lexer": "ipython3",
   "version": "3.8.5"
  }
 },
 "nbformat": 4,
 "nbformat_minor": 4
}
